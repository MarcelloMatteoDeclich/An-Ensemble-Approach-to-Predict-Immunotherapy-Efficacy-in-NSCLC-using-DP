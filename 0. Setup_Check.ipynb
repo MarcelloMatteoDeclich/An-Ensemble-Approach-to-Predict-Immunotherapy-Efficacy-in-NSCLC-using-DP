{
 "cells": [
  {
   "cell_type": "markdown",
   "metadata": {},
   "source": [
    "This notebook is used to check if the configuration is working. \n",
    "It checks both slideflow and tensorflow, the most important is pytorch without it, it's impossible to execute the code without pytorch.\n",
    "Tensorflow is not used right now.\n",
    "In the current configuration tensorflow works but it doesnot detect the GPU."
   ]
  },
  {
   "cell_type": "code",
   "execution_count": 1,
   "metadata": {},
   "outputs": [
    {
     "name": "stdout",
     "output_type": "stream",
     "text": [
      "tensor([[0.3100, 0.5228, 0.1980],\n",
      "        [0.5842, 0.4667, 0.8412],\n",
      "        [0.5508, 0.4217, 0.5694],\n",
      "        [0.8081, 0.1131, 0.8012],\n",
      "        [0.6908, 0.5087, 0.4819]])\n"
     ]
    }
   ],
   "source": [
    "#Check if the torch configuration is working\n",
    "\n",
    "import torch\n",
    "device = torch.device(\"cpu\")\n",
    "x = torch.rand(5, 3)\n",
    "print(x)"
   ]
  },
  {
   "cell_type": "code",
   "execution_count": 2,
   "metadata": {},
   "outputs": [
    {
     "name": "stdout",
     "output_type": "stream",
     "text": [
      "Using device: cuda\n",
      "\n",
      "NVIDIA GeForce RTX 4070 Ti\n",
      "Memory Usage:\n",
      "Allocated: 0.0 GB\n",
      "Cached:    0.0 GB\n"
     ]
    }
   ],
   "source": [
    "device = torch.device('cuda' if torch.cuda.is_available() else 'cpu')\n",
    "print('Using device:', device)\n",
    "print()\n",
    "\n",
    "#Additional Info when using cuda\n",
    "if device.type == 'cuda':\n",
    "    print(torch.cuda.get_device_name(0))\n",
    "    print('Memory Usage:')\n",
    "    print('Allocated:', round(torch.cuda.memory_allocated(0)/1024**3,1), 'GB')\n",
    "    print('Cached:   ', round(torch.cuda.memory_reserved(0)/1024**3,1), 'GB') "
   ]
  },
  {
   "cell_type": "code",
   "execution_count": 3,
   "metadata": {},
   "outputs": [
    {
     "name": "stdout",
     "output_type": "stream",
     "text": [
      "1\n"
     ]
    },
    {
     "data": {
      "text/plain": [
       "1"
      ]
     },
     "execution_count": 3,
     "metadata": {},
     "output_type": "execute_result"
    }
   ],
   "source": [
    "torch.cuda.get_device_name\n",
    "\n",
    "print(torch.cuda.device_count())\n",
    "\n",
    "torch.cuda.current_device()\n",
    "torch.cuda.device(0)\n",
    "\n",
    "torch.cuda.get_device_name(0)\n",
    "\n",
    "torch.cuda.is_available()\n",
    "\n",
    "torch.cuda.device_count()"
   ]
  },
  {
   "cell_type": "code",
   "execution_count": 4,
   "metadata": {},
   "outputs": [
    {
     "name": "stderr",
     "output_type": "stream",
     "text": [
      "/home/mmd/anaconda3/envs/sf3/lib/python3.9/site-packages/timm/models/helpers.py:7: FutureWarning: Importing from timm.models.helpers is deprecated, please import via timm.models\n",
      "  warnings.warn(f\"Importing from {__name__} is deprecated, please import via timm.models\", FutureWarning)\n",
      "/home/mmd/anaconda3/envs/sf3/lib/python3.9/site-packages/timm/models/layers/__init__.py:48: FutureWarning: Importing from timm.models.layers is deprecated, please import via timm.layers\n",
      "  warnings.warn(f\"Importing from {__name__} is deprecated, please import via timm.layers\", FutureWarning)\n"
     ]
    },
    {
     "data": {
      "text/html": [
       "<pre style=\"white-space:pre;overflow-x:auto;line-height:normal;font-family:Menlo,'DejaVu Sans Mono',consolas,'Courier New',monospace\"><span style=\"color: #af00ff; text-decoration-color: #af00ff\">╭───────────────────────╮</span>                                                                                          \n",
       "<span style=\"color: #af00ff; text-decoration-color: #af00ff\">│</span> <span style=\"color: #c0c0c0; text-decoration-color: #c0c0c0; font-weight: bold\">Slideflow</span>             <span style=\"color: #af00ff; text-decoration-color: #af00ff\">│</span>                                                                                          \n",
       "<span style=\"color: #af00ff; text-decoration-color: #af00ff\">│</span> Version: 3.0.2        <span style=\"color: #af00ff; text-decoration-color: #af00ff\">│</span>                                                                                          \n",
       "<span style=\"color: #af00ff; text-decoration-color: #af00ff\">│</span> Backend: <span style=\"color: #af00ff; text-decoration-color: #af00ff\">torch</span>        <span style=\"color: #af00ff; text-decoration-color: #af00ff\">│</span>                                                                                          \n",
       "<span style=\"color: #af00ff; text-decoration-color: #af00ff\">│</span> Slide Backend: <span style=\"color: #008000; text-decoration-color: #008000\">cucim</span>  <span style=\"color: #af00ff; text-decoration-color: #af00ff\">│</span>                                                                                          \n",
       "<span style=\"color: #af00ff; text-decoration-color: #af00ff\">│</span> <span style=\"color: #000080; text-decoration-color: #000080\">https://slideflow.dev</span> <span style=\"color: #af00ff; text-decoration-color: #af00ff\">│</span>                                                                                          \n",
       "<span style=\"color: #af00ff; text-decoration-color: #af00ff\">╰───────────────────────╯</span>                                                                                          \n",
       "</pre>\n"
      ],
      "text/plain": [
       "\u001b[38;5;129m╭───────────────────────╮\u001b[0m                                                                                          \n",
       "\u001b[38;5;129m│\u001b[0m \u001b[1;37mSlideflow\u001b[0m             \u001b[38;5;129m│\u001b[0m                                                                                          \n",
       "\u001b[38;5;129m│\u001b[0m Version: 3.0.2        \u001b[38;5;129m│\u001b[0m                                                                                          \n",
       "\u001b[38;5;129m│\u001b[0m Backend: \u001b[38;5;129mtorch\u001b[0m        \u001b[38;5;129m│\u001b[0m                                                                                          \n",
       "\u001b[38;5;129m│\u001b[0m Slide Backend: \u001b[32mcucim\u001b[0m  \u001b[38;5;129m│\u001b[0m                                                                                          \n",
       "\u001b[38;5;129m│\u001b[0m \u001b[34mhttps://slideflow.dev\u001b[0m \u001b[38;5;129m│\u001b[0m                                                                                          \n",
       "\u001b[38;5;129m╰───────────────────────╯\u001b[0m                                                                                          \n"
      ]
     },
     "metadata": {},
     "output_type": "display_data"
    },
    {
     "data": {
      "text/html": [
       "<pre style=\"white-space:pre;overflow-x:auto;line-height:normal;font-family:Menlo,'DejaVu Sans Mono',consolas,'Courier New',monospace\"><span style=\"color: #af00ff; text-decoration-color: #af00ff\">╭───────────────────────╮</span>                                                                                          \n",
       "<span style=\"color: #af00ff; text-decoration-color: #af00ff\">│</span> <span style=\"color: #c0c0c0; text-decoration-color: #c0c0c0; font-weight: bold\">Slideflow</span>             <span style=\"color: #af00ff; text-decoration-color: #af00ff\">│</span>                                                                                          \n",
       "<span style=\"color: #af00ff; text-decoration-color: #af00ff\">│</span> Version: 3.0.2        <span style=\"color: #af00ff; text-decoration-color: #af00ff\">│</span>                                                                                          \n",
       "<span style=\"color: #af00ff; text-decoration-color: #af00ff\">│</span> Backend: <span style=\"color: #af00ff; text-decoration-color: #af00ff\">torch</span>        <span style=\"color: #af00ff; text-decoration-color: #af00ff\">│</span>                                                                                          \n",
       "<span style=\"color: #af00ff; text-decoration-color: #af00ff\">│</span> Slide Backend: <span style=\"color: #008000; text-decoration-color: #008000\">cucim</span>  <span style=\"color: #af00ff; text-decoration-color: #af00ff\">│</span>                                                                                          \n",
       "<span style=\"color: #af00ff; text-decoration-color: #af00ff\">│</span> <span style=\"color: #000080; text-decoration-color: #000080\">https://slideflow.dev</span> <span style=\"color: #af00ff; text-decoration-color: #af00ff\">│</span>                                                                                          \n",
       "<span style=\"color: #af00ff; text-decoration-color: #af00ff\">╰───────────────────────╯</span>                                                                                          \n",
       "</pre>\n"
      ],
      "text/plain": [
       "\u001b[38;5;129m╭───────────────────────╮\u001b[0m                                                                                          \n",
       "\u001b[38;5;129m│\u001b[0m \u001b[1;37mSlideflow\u001b[0m             \u001b[38;5;129m│\u001b[0m                                                                                          \n",
       "\u001b[38;5;129m│\u001b[0m Version: 3.0.2        \u001b[38;5;129m│\u001b[0m                                                                                          \n",
       "\u001b[38;5;129m│\u001b[0m Backend: \u001b[38;5;129mtorch\u001b[0m        \u001b[38;5;129m│\u001b[0m                                                                                          \n",
       "\u001b[38;5;129m│\u001b[0m Slide Backend: \u001b[32mcucim\u001b[0m  \u001b[38;5;129m│\u001b[0m                                                                                          \n",
       "\u001b[38;5;129m│\u001b[0m \u001b[34mhttps://slideflow.dev\u001b[0m \u001b[38;5;129m│\u001b[0m                                                                                          \n",
       "\u001b[38;5;129m╰───────────────────────╯\u001b[0m                                                                                          \n"
      ]
     },
     "metadata": {},
     "output_type": "display_data"
    }
   ],
   "source": [
    "import slideflow as sf\n",
    "sf.about()\n",
    "\n",
    "import os\n",
    "os.environ[\"SF_SLIDE_BACKEND\"] = \"cucim\"\n",
    "\n",
    "sf.about()"
   ]
  },
  {
   "cell_type": "code",
   "execution_count": 5,
   "metadata": {},
   "outputs": [
    {
     "name": "stdout",
     "output_type": "stream",
     "text": [
      "Num GPUs Available:  0\n"
     ]
    }
   ],
   "source": [
    "import tensorflow as tf\n",
    "print(\"Num GPUs Available: \", len(tf.config.list_physical_devices('GPU')))"
   ]
  },
  {
   "cell_type": "code",
   "execution_count": 6,
   "metadata": {},
   "outputs": [],
   "source": [
    "from tensorflow.python.client import device_lib\n",
    "\n",
    "def get_available_gpus():\n",
    "    local_device_protos = device_lib.list_local_devices()\n",
    "    return [x.name for x in local_device_protos if x.device_type == 'GPU']"
   ]
  },
  {
   "cell_type": "code",
   "execution_count": 7,
   "metadata": {},
   "outputs": [
    {
     "data": {
      "text/plain": [
       "''"
      ]
     },
     "execution_count": 7,
     "metadata": {},
     "output_type": "execute_result"
    }
   ],
   "source": [
    "tf.test.gpu_device_name()"
   ]
  },
  {
   "cell_type": "code",
   "execution_count": 8,
   "metadata": {},
   "outputs": [
    {
     "name": "stdout",
     "output_type": "stream",
     "text": [
      "tf.Tensor(977.0597, shape=(), dtype=float32)\n"
     ]
    }
   ],
   "source": [
    "print(tf.reduce_sum(tf.random.normal([1000, 1000])))"
   ]
  }
 ],
 "metadata": {
  "kernelspec": {
   "display_name": "sf3",
   "language": "python",
   "name": "python3"
  },
  "language_info": {
   "codemirror_mode": {
    "name": "ipython",
    "version": 3
   },
   "file_extension": ".py",
   "mimetype": "text/x-python",
   "name": "python",
   "nbconvert_exporter": "python",
   "pygments_lexer": "ipython3",
   "version": "3.9.18"
  }
 },
 "nbformat": 4,
 "nbformat_minor": 2
}
