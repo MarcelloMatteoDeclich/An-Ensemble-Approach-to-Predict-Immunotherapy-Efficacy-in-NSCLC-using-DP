{
 "cells": [
  {
   "cell_type": "code",
   "execution_count": null,
   "metadata": {},
   "outputs": [],
   "source": [
    "import pandas as pd\n",
    "import os\n",
    "import platform\n",
    "device_name = platform.node()\n",
    "\n",
    "previous_folder = os.getcwd()\n",
    "print (\"This is the working folder: \" + previous_folder)\n",
    "\n",
    "if device_name == 'mmd-MS-7D98': \n",
    "    #This passage is done because everytime I log into the remote server the default folder is:\n",
    "    #/mmd/home and I need to localize the correct folder to load the settings \n",
    "    os.chdir(\"/media/mmd/Samsung_T5/GitHub/UMD\")\n",
    "\n",
    "if previous_folder != os.getcwd(): # This is now the right working folder\n",
    "    print(\"The current working folder has been changed, now the working folder is: \" + os.getcwd())"
   ]
  },
  {
   "cell_type": "code",
   "execution_count": null,
   "metadata": {},
   "outputs": [],
   "source": [
    "from my_library.pr_creation import *\n",
    "from my_library.CPTAC import *\n",
    "from my_library.config import *\n",
    "from my_library.abmil_config import *\n",
    "from my_library.create_random import *\n",
    "\n",
    "\n",
    "import slideflow as sf\n",
    "#%run \"config.py\"\n",
    "import os\n",
    "\n",
    "print(os.getcwd())\n",
    "\n",
    "\n",
    "import sys\n",
    "sys.path.append(\"..\")\n",
    "from my_library.config import *\n",
    "from my_library.pr_creation import *"
   ]
  },
  {
   "cell_type": "code",
   "execution_count": null,
   "metadata": {},
   "outputs": [],
   "source": [
    "P = create_project(\"projects/I3lung-sqadqc-project\")"
   ]
  },
  {
   "cell_type": "code",
   "execution_count": null,
   "metadata": {},
   "outputs": [],
   "source": [
    "file_path = working_directory+\"/data_config.json\"\n",
    "\n",
    "import json\n",
    "\n",
    "# Open and read the JSON file\n",
    "with open(file_path, \"r\") as file:\n",
    "    data = json.load(file)  # Load JSON data into a Python dictionary or list\n",
    "\n",
    "print(data)\n",
    "data.keys()\n"
   ]
  },
  {
   "cell_type": "code",
   "execution_count": null,
   "metadata": {},
   "outputs": [],
   "source": [
    "list_dir_uni = [\"/mnt/d/Declich/bags/uni/no-qc/10x No Gaussian\"\n",
    "                ]\n",
    "\n",
    "projects_list  = [\"projects/I3lung-sqadqc-project\",\n",
    "]\n",
    "\n",
    "'''tag_list = ['ABMIL-I3LUNG-AD-noqc-nostainnorm',\n",
    "            'ABMIL-I3LUNG-AD-noqc-macenko',\n",
    "            'ABMIL-I3LUNG-AD-noqc-reinhard_fast']'''\n",
    "\n",
    "tag_list_2 = ['ABMIL-I3LUNG-AD-qc-nostainnorm',\n",
    "            'ABMIL-I3LUNG-AD-qc-macenko',\n",
    "            'ABMIL-I3LUNG-AD-qc-reinhard_fast',\n",
    "            'training prova']\n",
    "\n",
    "\n",
    "\n",
    "projects_list  = [\"projects/I3lung-sqadqc-project\",\n",
    "]\n",
    "project_path = projects_list[0]"
   ]
  },
  {
   "cell_type": "code",
   "execution_count": null,
   "metadata": {},
   "outputs": [],
   "source": [
    "# Step 1: Load the .csv file into a DataFrame\n",
    "file_path = os.path.join(working_directory, project_path, \"annotations.csv\")  # Replace with your actual file path\n",
    "df = pd.read_csv(file_path)"
   ]
  },
  {
   "cell_type": "markdown",
   "metadata": {},
   "source": [
    "### br3 converting types to strings"
   ]
  },
  {
   "cell_type": "code",
   "execution_count": null,
   "metadata": {},
   "outputs": [],
   "source": [
    "# Step 1: Load the .csv file into a DataFrame\n",
    "file_path = os.path.join(working_directory, project_path, \"annotations.csv\")  # Replace with your actual file path\n",
    "df = pd.read_csv(file_path)\n",
    "\n",
    "#The json contains the names of the outcome labels\n",
    "outcome_label = data[\"labels\"][\"br3\"]\n",
    "\n",
    "#converting float values to strings for training with slideflowx\n",
    "df[outcome_label] = df[outcome_label].astype(str)\n",
    "\n",
    "#save annotations back to the .csv file\n",
    "df.to_csv(file_path, index = False)\n"
   ]
  }
 ],
 "metadata": {
  "kernelspec": {
   "display_name": "sf3",
   "language": "python",
   "name": "python3"
  },
  "language_info": {
   "codemirror_mode": {
    "name": "ipython",
    "version": 3
   },
   "file_extension": ".py",
   "mimetype": "text/x-python",
   "name": "python",
   "nbconvert_exporter": "python",
   "pygments_lexer": "ipython3",
   "version": "3.9.13"
  }
 },
 "nbformat": 4,
 "nbformat_minor": 2
}
