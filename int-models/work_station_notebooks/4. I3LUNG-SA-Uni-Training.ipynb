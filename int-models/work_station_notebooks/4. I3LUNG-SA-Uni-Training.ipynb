{
 "cells": [
  {
   "cell_type": "code",
   "execution_count": null,
   "metadata": {},
   "outputs": [],
   "source": [
    "import slideflow as sf\n",
    "#%run \"config.py\"\n",
    "import os\n",
    "\n",
    "print(os.getcwd())"
   ]
  },
  {
   "cell_type": "code",
   "execution_count": null,
   "metadata": {},
   "outputs": [],
   "source": [
    "list_dir_uni = [\"/mnt/d/Declich/bags/uni/no-qc/10x No Gaussian\"\n",
    "                ]\n",
    "\n",
    "projects_list  = [\"projects/I3lung-sqad-project\",\n",
    "                  \"projects/I3lung-sqadqc-project\",\n",
    "]\n",
    "\n",
    "tag_list = ['ABMIL-I3LUNG-AD-noqc-nostainnorm',\n",
    "            'ABMIL-I3LUNG-AD-noqc-macenko',\n",
    "            'ABMIL-I3LUNG-AD-noqc-reinhard_fast']\n",
    "\n",
    "tag_list_2 = ['ABMIL-I3LUNG-AD-qc-nostainnorm',\n",
    "            'ABMIL-I3LUNG-AD-qc-macenko',\n",
    "            'ABMIL-I3LUNG-AD-qc-reinhard_fast']\n",
    "\n",
    "\n",
    "import sys\n",
    "sys.path.append(\"..\")\n",
    "from my_library.config import *\n",
    "from my_library.pr_creation import *\n",
    "\n",
    "\n",
    "project_path = projects_list[0]\n",
    "#for i in range(3):\n",
    "tag = tag_list[0]\n",
    "dir_uni = list_dir_uni[0]\n",
    "\n",
    "source = \"INT\"\n",
    "    #%run \"4. I3LUNG-SA-Uni-Training.ipynb\""
   ]
  },
  {
   "cell_type": "code",
   "execution_count": null,
   "metadata": {},
   "outputs": [],
   "source": [
    "\n",
    "#from my_library.CPTAC import *\n",
    "#from my_library.config import *"
   ]
  },
  {
   "cell_type": "code",
   "execution_count": null,
   "metadata": {},
   "outputs": [],
   "source": [
    "#dir_uni = \"/mnt/d/Declich/bags/uni/no-qc/10x No Gaussian\""
   ]
  },
  {
   "cell_type": "code",
   "execution_count": null,
   "metadata": {},
   "outputs": [],
   "source": [
    "import warnings\n",
    "warnings.filterwarnings(\"ignore\", category=FutureWarning) "
   ]
  },
  {
   "cell_type": "code",
   "execution_count": null,
   "metadata": {},
   "outputs": [],
   "source": [
    "#parameters for encodings\n",
    "magnification = '10x'\n",
    "normalization = \"\"\n",
    "tile_px = 224\n",
    "tile_um = \"10x\"\n",
    "filters = {}"
   ]
  },
  {
   "cell_type": "code",
   "execution_count": null,
   "metadata": {},
   "outputs": [],
   "source": [
    "from slideflow.slide import qc\n",
    "\n",
    "qc = [\n",
    "  #qc.Otsu(),\n",
    "  qc.Gaussian()\n",
    "]\n",
    "qc = []\n",
    "\n",
    "'''filters={\n",
    "    'category': ['lscc', 'luad']\n",
    "}'''\n",
    "\n",
    "filters ={}"
   ]
  },
  {
   "cell_type": "code",
   "execution_count": null,
   "metadata": {},
   "outputs": [],
   "source": [
    "# Parameters for training\n",
    "#tag = 'ABMIL-I3LUNG-AD-noqc-nostainnorm'\n",
    "model_outdir_path = os.path.join(working_directory,\"projects\", \"trained_models\",tag)\n",
    "outcomes = 'HISTOLOGY'\n",
    "label = \"uni\""
   ]
  },
  {
   "cell_type": "code",
   "execution_count": null,
   "metadata": {},
   "outputs": [],
   "source": [
    "from my_library.create_random import load_random, set_random\n",
    "\n",
    "set_random(random_path, default_seed)\n",
    "random_numbers = load_random(random_path)"
   ]
  },
  {
   "cell_type": "code",
   "execution_count": null,
   "metadata": {},
   "outputs": [],
   "source": [
    "project_path = os.path.join(working_directory, project_path)\n",
    "P = create_project(project_path)"
   ]
  },
  {
   "cell_type": "code",
   "execution_count": null,
   "metadata": {},
   "outputs": [],
   "source": [
    "dataset = build_dataset_s(P, tile_px=tile_px, tile_um=tile_um, filters=filters,source = source)"
   ]
  },
  {
   "cell_type": "code",
   "execution_count": null,
   "metadata": {},
   "outputs": [],
   "source": [
    "from my_library.abmil_config import *\n",
    "from my_library.create_random import *"
   ]
  },
  {
   "cell_type": "code",
   "execution_count": null,
   "metadata": {},
   "outputs": [],
   "source": [
    "for i in range(len(random_numbers)):\n",
    "\n",
    "        seed = set_random_seed(random_numbers[i])\n",
    "        \n",
    "        train, val = dataset.split(labels= outcomes, val_fraction=0.2)\n",
    "\n",
    "        P.train_mil(\n",
    "                config,\n",
    "                train_dataset=train,\n",
    "                val_dataset=val,\n",
    "                outcomes=outcomes,\n",
    "                bags=dir_uni,\n",
    "                outdir=model_outdir_path,\n",
    "                exp_label = label,\n",
    "                attention_heatmaps= False,\n",
    "        )"
   ]
  },
  {
   "cell_type": "code",
   "execution_count": null,
   "metadata": {},
   "outputs": [],
   "source": [
    "from pathlib import Path\n",
    "model_outdir_path = Path(model_outdir_path)\n",
    "print(model_outdir_path)"
   ]
  },
  {
   "cell_type": "code",
   "execution_count": null,
   "metadata": {},
   "outputs": [],
   "source": [
    "#path = model_outdir_path\n",
    "#%run './visualization/parquet.ipynb'"
   ]
  },
  {
   "cell_type": "code",
   "execution_count": null,
   "metadata": {},
   "outputs": [],
   "source": [
    "#stats_result\n",
    "#stats_result.to_csv(\"qc_run\"+normalization+\".csv\")\n",
    "#stats_result.to_csv(\"qc_run.csv\")"
   ]
  },
  {
   "cell_type": "code",
   "execution_count": null,
   "metadata": {},
   "outputs": [],
   "source": [
    "#stats_result"
   ]
  }
 ],
 "metadata": {
  "kernelspec": {
   "display_name": "sf3",
   "language": "python",
   "name": "python3"
  },
  "language_info": {
   "codemirror_mode": {
    "name": "ipython",
    "version": 3
   },
   "file_extension": ".py",
   "mimetype": "text/x-python",
   "name": "python",
   "nbconvert_exporter": "python",
   "pygments_lexer": "ipython3",
   "version": "3.9.18"
  }
 },
 "nbformat": 4,
 "nbformat_minor": 2
}
