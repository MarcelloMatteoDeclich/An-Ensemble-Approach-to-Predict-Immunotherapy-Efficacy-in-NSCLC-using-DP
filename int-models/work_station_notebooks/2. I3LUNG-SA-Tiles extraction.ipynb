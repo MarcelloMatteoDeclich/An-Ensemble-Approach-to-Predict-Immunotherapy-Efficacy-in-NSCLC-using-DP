{
 "cells": [
  {
   "cell_type": "code",
   "execution_count": null,
   "metadata": {},
   "outputs": [],
   "source": [
    "import sys\n",
    "sys.path.append(\"..\")\n",
    "from my_library.config import *\n",
    "from my_library.I3LUNG import *\n",
    "from my_library.pr_creation import *\n",
    "import slideflow as sf"
   ]
  },
  {
   "cell_type": "code",
   "execution_count": null,
   "metadata": {},
   "outputs": [],
   "source": [
    "project_path = \"projects/I3lung-sqad-allslidesproject\""
   ]
  },
  {
   "cell_type": "code",
   "execution_count": null,
   "metadata": {},
   "outputs": [],
   "source": [
    "project_path = os.path.join(working_directory, project_path)\n",
    "P = create_project(project_path)"
   ]
  },
  {
   "cell_type": "code",
   "execution_count": null,
   "metadata": {},
   "outputs": [],
   "source": [
    "tile_px = 224\n",
    "tile_um = \"10x\""
   ]
  },
  {
   "cell_type": "code",
   "execution_count": null,
   "metadata": {},
   "outputs": [],
   "source": [
    "bag_directory = \"tiles-extracted\"\n",
    "tag_name = \"I3LUNG\"\n",
    "modifier = \"-SQAD\"\n",
    "tfrecord_path = os.path.join(sandisk, bag_directory, tag_name+modifier)\n",
    "print(tfrecord_path)"
   ]
  },
  {
   "cell_type": "code",
   "execution_count": null,
   "metadata": {},
   "outputs": [],
   "source": [
    "P.add_source(\n",
    "    name=\"INT\",\n",
    "    tfrecords=os.path.join(tfrecord_path, \"tfrecords\"),\n",
    "    tiles = os.path.join(tfrecord_path, \"tiles\"),\n",
    "    slides=slide_path,\n",
    ")\n",
    "\n",
    "print(os.path.join(tfrecord_path, \"tfrecords\"))"
   ]
  },
  {
   "cell_type": "code",
   "execution_count": null,
   "metadata": {},
   "outputs": [],
   "source": [
    "qc = [] #vector of stain normalization\n",
    "#sf_extract_tiles(P, tile_px, tile_um, qc, 64, False)"
   ]
  },
  {
   "cell_type": "code",
   "execution_count": null,
   "metadata": {},
   "outputs": [],
   "source": [
    "project_path = os.path.join(working_directory, \"projects/I3lung-sqadqc-allslidesproject\")\n",
    "P = create_project(project_path)"
   ]
  },
  {
   "cell_type": "code",
   "execution_count": null,
   "metadata": {},
   "outputs": [],
   "source": [
    "bag_directory = \"tiles-extracted\"\n",
    "tag_name = \"I3LUNG\"\n",
    "modifier = \"-SQADQC\"\n",
    "tfrecord_path = os.path.join(sandisk, bag_directory, tag_name+modifier)\n",
    "print(tfrecord_path)"
   ]
  },
  {
   "cell_type": "code",
   "execution_count": null,
   "metadata": {},
   "outputs": [],
   "source": [
    "from slideflow.slide import qc\n",
    "P.add_source(\n",
    "    name=\"INT-QC\",\n",
    "    tfrecords=os.path.join(tfrecord_path, \"tfrecords\"),\n",
    "    tiles = os.path.join(tfrecord_path, \"tiles\"),\n",
    "    slides=slide_path,\n",
    ")\n",
    "\n",
    "print(os.path.join(tfrecord_path, \"tfrecords\"))\n",
    "\n",
    "qc = [\n",
    "  qc.Otsu(),\n",
    "  qc.Gaussian()\n",
    "] #vector of quality control\n",
    "\n",
    "sf_extract_tiles(P, 224, '10x', qc, 124, False)"
   ]
  }
 ],
 "metadata": {
  "kernelspec": {
   "display_name": "sf3",
   "language": "python",
   "name": "python3"
  },
  "language_info": {
   "codemirror_mode": {
    "name": "ipython",
    "version": 3
   },
   "file_extension": ".py",
   "mimetype": "text/x-python",
   "name": "python",
   "nbconvert_exporter": "python",
   "pygments_lexer": "ipython3",
   "version": "3.9.18"
  }
 },
 "nbformat": 4,
 "nbformat_minor": 2
}
