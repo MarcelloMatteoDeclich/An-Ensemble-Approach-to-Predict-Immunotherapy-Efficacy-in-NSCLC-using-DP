{
 "cells": [
  {
   "cell_type": "code",
   "execution_count": 1,
   "metadata": {},
   "outputs": [
    {
     "name": "stdout",
     "output_type": "stream",
     "text": [
      "Server Workstation\n",
      "this is the current directory:  /mnt/d/Declich/GitHub/UMD/int-models\n",
      "This is the thesis folder, where all the code is located:  /mnt/d/Declich/GitHub/UMD\n",
      "Questo è samsung:/mnt/d/Declich\n"
     ]
    }
   ],
   "source": [
    "import sys\n",
    "sys.path.append(\"..\")\n",
    "from my_library.config import *\n",
    "from my_library.I3LUNG import *\n",
    "from my_library.pr_creation import *\n",
    "import slideflow as sf"
   ]
  },
  {
   "cell_type": "code",
   "execution_count": 2,
   "metadata": {},
   "outputs": [],
   "source": [
    "project_path = \"projects/I3lung-sqad-allslidesproject\""
   ]
  },
  {
   "cell_type": "code",
   "execution_count": 3,
   "metadata": {},
   "outputs": [
    {
     "name": "stdout",
     "output_type": "stream",
     "text": [
      "Directory already exists!\n"
     ]
    }
   ],
   "source": [
    "project_path = os.path.join(working_directory, project_path)\n",
    "P = create_project(project_path)"
   ]
  },
  {
   "cell_type": "code",
   "execution_count": 4,
   "metadata": {},
   "outputs": [],
   "source": [
    "tile_px = 224\n",
    "tile_um = \"10x\""
   ]
  },
  {
   "cell_type": "code",
   "execution_count": 5,
   "metadata": {},
   "outputs": [
    {
     "name": "stdout",
     "output_type": "stream",
     "text": [
      "/mnt/d/Declich/tiles-extracted/I3LUNG-SQAD\n"
     ]
    }
   ],
   "source": [
    "bag_directory = \"tiles-extracted\"\n",
    "tag_name = \"I3LUNG\"\n",
    "modifier = \"-SQAD\"\n",
    "tfrecord_path = os.path.join(sandisk, bag_directory, tag_name+modifier)\n",
    "print(tfrecord_path)"
   ]
  },
  {
   "cell_type": "code",
   "execution_count": 6,
   "metadata": {},
   "outputs": [
    {
     "data": {
      "text/html": [
       "<pre style=\"white-space:pre;overflow-x:auto;line-height:normal;font-family:Menlo,'DejaVu Sans Mono',consolas,'Courier New',monospace\"><span style=\"color: #7fbfbf; text-decoration-color: #7fbfbf\">[13:26:58] </span><span style=\"color: #000080; text-decoration-color: #000080\">INFO    </span> Saved dataset source INT to                                                                    \n",
       "<span style=\"color: #7fbfbf; text-decoration-color: #7fbfbf\">           </span>         /mnt/d/Declich/GitHub/UMD/projects/I3lung-sqad-allslidesproject/datasets.json                  \n",
       "</pre>\n"
      ],
      "text/plain": [
       "\u001b[2;36m[13:26:58]\u001b[0m\u001b[2;36m \u001b[0m\u001b[34mINFO    \u001b[0m Saved dataset source INT to                                                                    \n",
       "\u001b[2;36m           \u001b[0m         /mnt/d/Declich/GitHub/UMD/projects/I3lung-sqad-allslidesproject/datasets.json                  \n"
      ]
     },
     "metadata": {},
     "output_type": "display_data"
    },
    {
     "name": "stdout",
     "output_type": "stream",
     "text": [
      "/mnt/d/Declich/tiles-extracted/I3LUNG-SQAD/tfrecords\n"
     ]
    }
   ],
   "source": [
    "P.add_source(\n",
    "    name=\"INT\",\n",
    "    tfrecords=os.path.join(tfrecord_path, \"tfrecords\"),\n",
    "    tiles = os.path.join(tfrecord_path, \"tiles\"),\n",
    "    slides=slide_path,\n",
    ")\n",
    "\n",
    "print(os.path.join(tfrecord_path, \"tfrecords\"))"
   ]
  },
  {
   "cell_type": "code",
   "execution_count": 7,
   "metadata": {},
   "outputs": [],
   "source": [
    "qc = [] #vector of stain normalization\n",
    "#sf_extract_tiles(P, tile_px, tile_um, qc, 64, False)"
   ]
  },
  {
   "cell_type": "code",
   "execution_count": 8,
   "metadata": {},
   "outputs": [
    {
     "name": "stdout",
     "output_type": "stream",
     "text": [
      "Directory already exists!\n"
     ]
    }
   ],
   "source": [
    "project_path = os.path.join(working_directory, \"projects/I3lung-sqadqc-allslidesproject\")\n",
    "P = create_project(project_path)"
   ]
  },
  {
   "cell_type": "code",
   "execution_count": 9,
   "metadata": {},
   "outputs": [
    {
     "name": "stdout",
     "output_type": "stream",
     "text": [
      "/mnt/d/Declich/tiles-extracted/I3LUNG-SQADQC\n"
     ]
    }
   ],
   "source": [
    "bag_directory = \"tiles-extracted\"\n",
    "tag_name = \"I3LUNG\"\n",
    "modifier = \"-SQADQC\"\n",
    "tfrecord_path = os.path.join(sandisk, bag_directory, tag_name+modifier)\n",
    "print(tfrecord_path)"
   ]
  },
  {
   "cell_type": "code",
   "execution_count": 10,
   "metadata": {},
   "outputs": [
    {
     "data": {
      "text/html": [
       "<pre style=\"white-space:pre;overflow-x:auto;line-height:normal;font-family:Menlo,'DejaVu Sans Mono',consolas,'Courier New',monospace\"><span style=\"color: #7fbfbf; text-decoration-color: #7fbfbf\">           </span><span style=\"color: #000080; text-decoration-color: #000080\">INFO    </span> Saved dataset source INT-QC to                                                                 \n",
       "<span style=\"color: #7fbfbf; text-decoration-color: #7fbfbf\">           </span>         /mnt/d/Declich/GitHub/UMD/projects/I3lung-sqadqc-allslidesproject/datasets.json                \n",
       "</pre>\n"
      ],
      "text/plain": [
       "\u001b[2;36m          \u001b[0m\u001b[2;36m \u001b[0m\u001b[34mINFO    \u001b[0m Saved dataset source INT-QC to                                                                 \n",
       "\u001b[2;36m           \u001b[0m         /mnt/d/Declich/GitHub/UMD/projects/I3lung-sqadqc-allslidesproject/datasets.json                \n"
      ]
     },
     "metadata": {},
     "output_type": "display_data"
    },
    {
     "name": "stdout",
     "output_type": "stream",
     "text": [
      "/mnt/d/Declich/tiles-extracted/I3LUNG-SQADQC/tfrecords\n"
     ]
    },
    {
     "data": {
      "text/html": [
       "<pre style=\"white-space:pre;overflow-x:auto;line-height:normal;font-family:Menlo,'DejaVu Sans Mono',consolas,'Courier New',monospace\"><span style=\"color: #7fbfbf; text-decoration-color: #7fbfbf\">[13:26:59] </span><span style=\"color: #000080; text-decoration-color: #000080\">INFO    </span> Slide reading backend: <span style=\"color: #008000; text-decoration-color: #008000\">cucim</span>                                                                   \n",
       "</pre>\n"
      ],
      "text/plain": [
       "\u001b[2;36m[13:26:59]\u001b[0m\u001b[2;36m \u001b[0m\u001b[34mINFO    \u001b[0m Slide reading backend: \u001b[32mcucim\u001b[0m                                                                   \n"
      ]
     },
     "metadata": {},
     "output_type": "display_data"
    },
    {
     "data": {
      "text/html": [
       "<pre style=\"white-space:pre;overflow-x:auto;line-height:normal;font-family:Menlo,'DejaVu Sans Mono',consolas,'Courier New',monospace\"><span style=\"color: #7fbfbf; text-decoration-color: #7fbfbf\">           </span><span style=\"color: #000080; text-decoration-color: #000080\">INFO    </span> Filtering tiles by grayspace fraction                                                          \n",
       "</pre>\n"
      ],
      "text/plain": [
       "\u001b[2;36m          \u001b[0m\u001b[2;36m \u001b[0m\u001b[34mINFO    \u001b[0m Filtering tiles by grayspace fraction                                                          \n"
      ]
     },
     "metadata": {},
     "output_type": "display_data"
    },
    {
     "data": {
      "text/html": [
       "<pre style=\"white-space:pre;overflow-x:auto;line-height:normal;font-family:Menlo,'DejaVu Sans Mono',consolas,'Courier New',monospace\"><span style=\"color: #7fbfbf; text-decoration-color: #7fbfbf\">           </span><span style=\"color: #000080; text-decoration-color: #000080\">INFO    </span> Working on dataset source <span style=\"font-weight: bold\">MyProject</span>...                                                         \n",
       "</pre>\n"
      ],
      "text/plain": [
       "\u001b[2;36m          \u001b[0m\u001b[2;36m \u001b[0m\u001b[34mINFO    \u001b[0m Working on dataset source \u001b[1mMyProject\u001b[0m...                                                         \n"
      ]
     },
     "metadata": {},
     "output_type": "display_data"
    },
    {
     "data": {
      "text/html": [
       "<pre style=\"white-space:pre;overflow-x:auto;line-height:normal;font-family:Menlo,'DejaVu Sans Mono',consolas,'Courier New',monospace\"><span style=\"color: #7fbfbf; text-decoration-color: #7fbfbf\">           </span><span style=\"color: #000080; text-decoration-color: #000080\">INFO    </span> Extracting tiles from 0 slides (tile_px=224, tile_um=10x)                                      \n",
       "</pre>\n"
      ],
      "text/plain": [
       "\u001b[2;36m          \u001b[0m\u001b[2;36m \u001b[0m\u001b[34mINFO    \u001b[0m Extracting tiles from 0 slides (tile_px=224, tile_um=10x)                                      \n"
      ]
     },
     "metadata": {},
     "output_type": "display_data"
    },
    {
     "data": {
      "text/html": [
       "<pre style=\"white-space:pre;overflow-x:auto;line-height:normal;font-family:Menlo,'DejaVu Sans Mono',consolas,'Courier New',monospace\"><span style=\"color: #7fbfbf; text-decoration-color: #7fbfbf\">           </span><span style=\"color: #000080; text-decoration-color: #000080\">INFO    </span> Working on dataset source <span style=\"font-weight: bold\">INT-QC</span>...                                                            \n",
       "</pre>\n"
      ],
      "text/plain": [
       "\u001b[2;36m          \u001b[0m\u001b[2;36m \u001b[0m\u001b[34mINFO    \u001b[0m Working on dataset source \u001b[1mINT-QC\u001b[0m...                                                            \n"
      ]
     },
     "metadata": {},
     "output_type": "display_data"
    },
    {
     "data": {
      "text/html": [
       "<pre style=\"white-space:pre;overflow-x:auto;line-height:normal;font-family:Menlo,'DejaVu Sans Mono',consolas,'Courier New',monospace\"><span style=\"color: #7fbfbf; text-decoration-color: #7fbfbf\">[13:27:01] </span><span style=\"color: #000080; text-decoration-color: #000080\">INFO    </span> Re-extracting 4 interrupted:                                                                   \n",
       "</pre>\n"
      ],
      "text/plain": [
       "\u001b[2;36m[13:27:01]\u001b[0m\u001b[2;36m \u001b[0m\u001b[34mINFO    \u001b[0m Re-extracting 4 interrupted:                                                                   \n"
      ]
     },
     "metadata": {},
     "output_type": "display_data"
    },
    {
     "data": {
      "text/html": [
       "<pre style=\"white-space:pre;overflow-x:auto;line-height:normal;font-family:Menlo,'DejaVu Sans Mono',consolas,'Courier New',monospace\"><span style=\"color: #7fbfbf; text-decoration-color: #7fbfbf\">           </span><span style=\"color: #000080; text-decoration-color: #000080\">INFO    </span> DIG_PAT_1699264023                                                                             \n",
       "</pre>\n"
      ],
      "text/plain": [
       "\u001b[2;36m          \u001b[0m\u001b[2;36m \u001b[0m\u001b[34mINFO    \u001b[0m DIG_PAT_1699264023                                                                             \n"
      ]
     },
     "metadata": {},
     "output_type": "display_data"
    },
    {
     "data": {
      "text/html": [
       "<pre style=\"white-space:pre;overflow-x:auto;line-height:normal;font-family:Menlo,'DejaVu Sans Mono',consolas,'Courier New',monospace\"><span style=\"color: #7fbfbf; text-decoration-color: #7fbfbf\">           </span><span style=\"color: #000080; text-decoration-color: #000080\">INFO    </span> DIG_PAT_1699454989                                                                             \n",
       "</pre>\n"
      ],
      "text/plain": [
       "\u001b[2;36m          \u001b[0m\u001b[2;36m \u001b[0m\u001b[34mINFO    \u001b[0m DIG_PAT_1699454989                                                                             \n"
      ]
     },
     "metadata": {},
     "output_type": "display_data"
    },
    {
     "data": {
      "text/html": [
       "<pre style=\"white-space:pre;overflow-x:auto;line-height:normal;font-family:Menlo,'DejaVu Sans Mono',consolas,'Courier New',monospace\"><span style=\"color: #7fbfbf; text-decoration-color: #7fbfbf\">           </span><span style=\"color: #000080; text-decoration-color: #000080\">INFO    </span> DIG_PAT_1705687841                                                                             \n",
       "</pre>\n"
      ],
      "text/plain": [
       "\u001b[2;36m          \u001b[0m\u001b[2;36m \u001b[0m\u001b[34mINFO    \u001b[0m DIG_PAT_1705687841                                                                             \n"
      ]
     },
     "metadata": {},
     "output_type": "display_data"
    },
    {
     "data": {
      "text/html": [
       "<pre style=\"white-space:pre;overflow-x:auto;line-height:normal;font-family:Menlo,'DejaVu Sans Mono',consolas,'Courier New',monospace\"><span style=\"color: #7fbfbf; text-decoration-color: #7fbfbf\">           </span><span style=\"color: #000080; text-decoration-color: #000080\">INFO    </span> DIG_PAT_1705690971                                                                             \n",
       "</pre>\n"
      ],
      "text/plain": [
       "\u001b[2;36m          \u001b[0m\u001b[2;36m \u001b[0m\u001b[34mINFO    \u001b[0m DIG_PAT_1705690971                                                                             \n"
      ]
     },
     "metadata": {},
     "output_type": "display_data"
    },
    {
     "data": {
      "text/html": [
       "<pre style=\"white-space:pre;overflow-x:auto;line-height:normal;font-family:Menlo,'DejaVu Sans Mono',consolas,'Courier New',monospace\"><span style=\"color: #7fbfbf; text-decoration-color: #7fbfbf\">           </span><span style=\"color: #000080; text-decoration-color: #000080\">INFO    </span> Skipping 708 slides; already done.                                                             \n",
       "</pre>\n"
      ],
      "text/plain": [
       "\u001b[2;36m          \u001b[0m\u001b[2;36m \u001b[0m\u001b[34mINFO    \u001b[0m Skipping 708 slides; already done.                                                             \n"
      ]
     },
     "metadata": {},
     "output_type": "display_data"
    },
    {
     "data": {
      "text/html": [
       "<pre style=\"white-space:pre;overflow-x:auto;line-height:normal;font-family:Menlo,'DejaVu Sans Mono',consolas,'Courier New',monospace\"><span style=\"color: #7fbfbf; text-decoration-color: #7fbfbf\">           </span><span style=\"color: #000080; text-decoration-color: #000080\">INFO    </span> Extracting tiles from 194 slides (tile_px=224, tile_um=10x)                                    \n",
       "</pre>\n"
      ],
      "text/plain": [
       "\u001b[2;36m          \u001b[0m\u001b[2;36m \u001b[0m\u001b[34mINFO    \u001b[0m Extracting tiles from 194 slides (tile_px=224, tile_um=10x)                                    \n"
      ]
     },
     "metadata": {},
     "output_type": "display_data"
    },
    {
     "data": {
      "text/html": [
       "<pre style=\"white-space:pre;overflow-x:auto;line-height:normal;font-family:Menlo,'DejaVu Sans Mono',consolas,'Courier New',monospace\"><span style=\"color: #7fbfbf; text-decoration-color: #7fbfbf\">[13:27:03] </span><span style=\"color: #000080; text-decoration-color: #000080\">INFO    </span> Using 124 processes (pool=fork)                                                                \n",
       "</pre>\n"
      ],
      "text/plain": [
       "\u001b[2;36m[13:27:03]\u001b[0m\u001b[2;36m \u001b[0m\u001b[34mINFO    \u001b[0m Using 124 processes (pool=fork)                                                                \n"
      ]
     },
     "metadata": {},
     "output_type": "display_data"
    },
    {
     "data": {
      "application/vnd.jupyter.widget-view+json": {
       "model_id": "e2b33b9a843d41578832eef4c5a5c01f",
       "version_major": 2,
       "version_minor": 0
      },
      "text/plain": [
       "Output()"
      ]
     },
     "metadata": {},
     "output_type": "display_data"
    },
    {
     "data": {
      "text/html": [
       "<pre style=\"white-space:pre;overflow-x:auto;line-height:normal;font-family:Menlo,'DejaVu Sans Mono',consolas,'Courier New',monospace\"><span style=\"color: #7fbfbf; text-decoration-color: #7fbfbf\">[13:27:04] </span><span style=\"color: #800000; text-decoration-color: #800000; font-weight: bold\">ERROR   </span> <span style=\"color: #800000; text-decoration-color: #800000\">Error loading slide /mnt/d/Digital_path/DIG_PAT_1701120593.tif: Error loading slide </span>           \n",
       "<span style=\"color: #7fbfbf; text-decoration-color: #7fbfbf\">           </span>         <span style=\"color: #800000; text-decoration-color: #800000\">DIG_PAT_1701120593: This format has more than one image with Subfile Type 0 so cannot be </span>      \n",
       "<span style=\"color: #7fbfbf; text-decoration-color: #7fbfbf\">           </span>         <span style=\"color: #800000; text-decoration-color: #800000\">loaded!. Skipping</span>                                                                              \n",
       "</pre>\n"
      ],
      "text/plain": [
       "\u001b[2;36m[13:27:04]\u001b[0m\u001b[2;36m \u001b[0m\u001b[1;31mERROR   \u001b[0m \u001b[31mError loading slide /mnt/d/Digital_path/DIG_PAT_1701120593.tif: Error loading slide \u001b[0m           \n",
       "\u001b[2;36m           \u001b[0m         \u001b[31mDIG_PAT_1701120593: This format has more than one image with Subfile Type 0 so cannot be \u001b[0m      \n",
       "\u001b[2;36m           \u001b[0m         \u001b[31mloaded!. Skipping\u001b[0m                                                                              \n"
      ]
     },
     "metadata": {},
     "output_type": "display_data"
    },
    {
     "data": {
      "text/html": [
       "<pre style=\"white-space:pre;overflow-x:auto;line-height:normal;font-family:Menlo,'DejaVu Sans Mono',consolas,'Courier New',monospace\"><span style=\"color: #7fbfbf; text-decoration-color: #7fbfbf\">           </span><span style=\"color: #800000; text-decoration-color: #800000; font-weight: bold\">ERROR   </span> <span style=\"color: #800000; text-decoration-color: #800000\">Slide /mnt/d/Digital_path/DIG_PAT_1727363362.ndpi has type NDPI, which is incompatible with the</span>\n",
       "<span style=\"color: #7fbfbf; text-decoration-color: #7fbfbf\">           </span>         <span style=\"color: #800000; text-decoration-color: #800000\">active slide reading backend, cucim. Consider using a different backend, which can be set with </span>\n",
       "<span style=\"color: #7fbfbf; text-decoration-color: #7fbfbf\">           </span>         <span style=\"color: #800000; text-decoration-color: #800000\">the environmental variable SF_SLIDE_BACKEND. See </span>                                              \n",
       "<span style=\"color: #7fbfbf; text-decoration-color: #7fbfbf\">           </span>         <span style=\"color: #800000; text-decoration-color: #800000\">https://slideflow.dev/installation/#cucim-vs-libvips for more information.</span>                     \n",
       "</pre>\n"
      ],
      "text/plain": [
       "\u001b[2;36m          \u001b[0m\u001b[2;36m \u001b[0m\u001b[1;31mERROR   \u001b[0m \u001b[31mSlide /mnt/d/Digital_path/DIG_PAT_1727363362.ndpi has type NDPI, which is incompatible with the\u001b[0m\n",
       "\u001b[2;36m           \u001b[0m         \u001b[31mactive slide reading backend, cucim. Consider using a different backend, which can be set with \u001b[0m\n",
       "\u001b[2;36m           \u001b[0m         \u001b[31mthe environmental variable SF_SLIDE_BACKEND. See \u001b[0m                                              \n",
       "\u001b[2;36m           \u001b[0m         \u001b[31mhttps://slideflow.dev/installation/#cucim-vs-libvips for more information.\u001b[0m                     \n"
      ]
     },
     "metadata": {},
     "output_type": "display_data"
    },
    {
     "data": {
      "text/html": [
       "<pre style=\"white-space:pre;overflow-x:auto;line-height:normal;font-family:Menlo,'DejaVu Sans Mono',consolas,'Courier New',monospace\"><span style=\"color: #7fbfbf; text-decoration-color: #7fbfbf\">           </span><span style=\"color: #808000; text-decoration-color: #808000\">WARNING </span> <span style=\"color: #808000; text-decoration-color: #808000\">Unable to auto-detect microns-per-pixel (MPP).</span>                                                 \n",
       "</pre>\n"
      ],
      "text/plain": [
       "\u001b[2;36m          \u001b[0m\u001b[2;36m \u001b[0m\u001b[33mWARNING \u001b[0m \u001b[33mUnable to auto-detect microns-per-pixel (MPP).\u001b[0m                                                 \n"
      ]
     },
     "metadata": {},
     "output_type": "display_data"
    },
    {
     "data": {
      "text/html": [
       "<pre style=\"white-space:pre;overflow-x:auto;line-height:normal;font-family:Menlo,'DejaVu Sans Mono',consolas,'Courier New',monospace\"><span style=\"color: #7fbfbf; text-decoration-color: #7fbfbf\">           </span><span style=\"color: #800000; text-decoration-color: #800000; font-weight: bold\">ERROR   </span> <span style=\"color: #800000; text-decoration-color: #800000\">Error loading slide /mnt/d/Digital_path/DIG_PAT_1696327636.svs: Unable to parse MPP for slide </span> \n",
       "<span style=\"color: #7fbfbf; text-decoration-color: #7fbfbf\">           </span>         <span style=\"color: #800000; text-decoration-color: #800000\">/mnt/d/Digital_path/DIG_PAT_1696327636.svs (openslide.mpp-x). Error raised: float() argument </span>  \n",
       "<span style=\"color: #7fbfbf; text-decoration-color: #7fbfbf\">           </span>         <span style=\"color: #800000; text-decoration-color: #800000\">must be a string or a number, not 'NoneType'. Skipping</span>                                         \n",
       "</pre>\n"
      ],
      "text/plain": [
       "\u001b[2;36m          \u001b[0m\u001b[2;36m \u001b[0m\u001b[1;31mERROR   \u001b[0m \u001b[31mError loading slide /mnt/d/Digital_path/DIG_PAT_1696327636.svs: Unable to parse MPP for slide \u001b[0m \n",
       "\u001b[2;36m           \u001b[0m         \u001b[31m/mnt/d/Digital_path/DIG_PAT_1696327636.svs (openslide.mpp-x). Error raised: float() argument \u001b[0m  \n",
       "\u001b[2;36m           \u001b[0m         \u001b[31mmust be a string or a number, not 'NoneType'. Skipping\u001b[0m                                         \n"
      ]
     },
     "metadata": {},
     "output_type": "display_data"
    },
    {
     "data": {
      "text/html": [
       "<pre style=\"white-space:pre;overflow-x:auto;line-height:normal;font-family:Menlo,'DejaVu Sans Mono',consolas,'Courier New',monospace\"><span style=\"color: #7fbfbf; text-decoration-color: #7fbfbf\">           </span><span style=\"color: #800000; text-decoration-color: #800000; font-weight: bold\">ERROR   </span> <span style=\"color: #800000; text-decoration-color: #800000\">Slide /mnt/d/Digital_path/DIG_PAT_1727363262.ndpi has type NDPI, which is incompatible with the</span>\n",
       "<span style=\"color: #7fbfbf; text-decoration-color: #7fbfbf\">           </span>         <span style=\"color: #800000; text-decoration-color: #800000\">active slide reading backend, cucim. Consider using a different backend, which can be set with </span>\n",
       "<span style=\"color: #7fbfbf; text-decoration-color: #7fbfbf\">           </span>         <span style=\"color: #800000; text-decoration-color: #800000\">the environmental variable SF_SLIDE_BACKEND. See </span>                                              \n",
       "<span style=\"color: #7fbfbf; text-decoration-color: #7fbfbf\">           </span>         <span style=\"color: #800000; text-decoration-color: #800000\">https://slideflow.dev/installation/#cucim-vs-libvips for more information.</span>                     \n",
       "</pre>\n"
      ],
      "text/plain": [
       "\u001b[2;36m          \u001b[0m\u001b[2;36m \u001b[0m\u001b[1;31mERROR   \u001b[0m \u001b[31mSlide /mnt/d/Digital_path/DIG_PAT_1727363262.ndpi has type NDPI, which is incompatible with the\u001b[0m\n",
       "\u001b[2;36m           \u001b[0m         \u001b[31mactive slide reading backend, cucim. Consider using a different backend, which can be set with \u001b[0m\n",
       "\u001b[2;36m           \u001b[0m         \u001b[31mthe environmental variable SF_SLIDE_BACKEND. See \u001b[0m                                              \n",
       "\u001b[2;36m           \u001b[0m         \u001b[31mhttps://slideflow.dev/installation/#cucim-vs-libvips for more information.\u001b[0m                     \n"
      ]
     },
     "metadata": {},
     "output_type": "display_data"
    },
    {
     "data": {
      "text/html": [
       "<pre style=\"white-space:pre;overflow-x:auto;line-height:normal;font-family:Menlo,'DejaVu Sans Mono',consolas,'Courier New',monospace\"><span style=\"color: #7fbfbf; text-decoration-color: #7fbfbf\">           </span><span style=\"color: #800000; text-decoration-color: #800000; font-weight: bold\">ERROR   </span> <span style=\"color: #800000; text-decoration-color: #800000\">Slide /mnt/d/Digital_path/DIG_PAT_1727360340.ndpi has type NDPI, which is incompatible with the</span>\n",
       "<span style=\"color: #7fbfbf; text-decoration-color: #7fbfbf\">           </span>         <span style=\"color: #800000; text-decoration-color: #800000\">active slide reading backend, cucim. Consider using a different backend, which can be set with </span>\n",
       "<span style=\"color: #7fbfbf; text-decoration-color: #7fbfbf\">           </span>         <span style=\"color: #800000; text-decoration-color: #800000\">the environmental variable SF_SLIDE_BACKEND. See </span>                                              \n",
       "<span style=\"color: #7fbfbf; text-decoration-color: #7fbfbf\">           </span>         <span style=\"color: #800000; text-decoration-color: #800000\">https://slideflow.dev/installation/#cucim-vs-libvips for more information.</span>                     \n",
       "</pre>\n"
      ],
      "text/plain": [
       "\u001b[2;36m          \u001b[0m\u001b[2;36m \u001b[0m\u001b[1;31mERROR   \u001b[0m \u001b[31mSlide /mnt/d/Digital_path/DIG_PAT_1727360340.ndpi has type NDPI, which is incompatible with the\u001b[0m\n",
       "\u001b[2;36m           \u001b[0m         \u001b[31mactive slide reading backend, cucim. Consider using a different backend, which can be set with \u001b[0m\n",
       "\u001b[2;36m           \u001b[0m         \u001b[31mthe environmental variable SF_SLIDE_BACKEND. See \u001b[0m                                              \n",
       "\u001b[2;36m           \u001b[0m         \u001b[31mhttps://slideflow.dev/installation/#cucim-vs-libvips for more information.\u001b[0m                     \n"
      ]
     },
     "metadata": {},
     "output_type": "display_data"
    },
    {
     "data": {
      "text/html": [
       "<pre style=\"white-space:pre;overflow-x:auto;line-height:normal;font-family:Menlo,'DejaVu Sans Mono',consolas,'Courier New',monospace\"><span style=\"color: #7fbfbf; text-decoration-color: #7fbfbf\">           </span><span style=\"color: #800000; text-decoration-color: #800000; font-weight: bold\">ERROR   </span> <span style=\"color: #800000; text-decoration-color: #800000\">Error loading slide /mnt/d/Digital_path/DIG_PAT_1710623232.tif: Error loading slide </span>           \n",
       "<span style=\"color: #7fbfbf; text-decoration-color: #7fbfbf\">           </span>         <span style=\"color: #800000; text-decoration-color: #800000\">DIG_PAT_1710623232: This format has more than one image with Subfile Type 0 so cannot be </span>      \n",
       "<span style=\"color: #7fbfbf; text-decoration-color: #7fbfbf\">           </span>         <span style=\"color: #800000; text-decoration-color: #800000\">loaded!. Skipping</span>                                                                              \n",
       "</pre>\n"
      ],
      "text/plain": [
       "\u001b[2;36m          \u001b[0m\u001b[2;36m \u001b[0m\u001b[1;31mERROR   \u001b[0m \u001b[31mError loading slide /mnt/d/Digital_path/DIG_PAT_1710623232.tif: Error loading slide \u001b[0m           \n",
       "\u001b[2;36m           \u001b[0m         \u001b[31mDIG_PAT_1710623232: This format has more than one image with Subfile Type 0 so cannot be \u001b[0m      \n",
       "\u001b[2;36m           \u001b[0m         \u001b[31mloaded!. Skipping\u001b[0m                                                                              \n"
      ]
     },
     "metadata": {},
     "output_type": "display_data"
    },
    {
     "data": {
      "text/html": [
       "<pre style=\"white-space:pre;overflow-x:auto;line-height:normal;font-family:Menlo,'DejaVu Sans Mono',consolas,'Courier New',monospace\"><span style=\"color: #7fbfbf; text-decoration-color: #7fbfbf\">           </span><span style=\"color: #800000; text-decoration-color: #800000; font-weight: bold\">ERROR   </span> <span style=\"color: #800000; text-decoration-color: #800000\">Slide /mnt/d/Digital_path/DIG_PAT_1727362753.ndpi has type NDPI, which is incompatible with the</span>\n",
       "<span style=\"color: #7fbfbf; text-decoration-color: #7fbfbf\">           </span>         <span style=\"color: #800000; text-decoration-color: #800000\">active slide reading backend, cucim. Consider using a different backend, which can be set with </span>\n",
       "<span style=\"color: #7fbfbf; text-decoration-color: #7fbfbf\">           </span>         <span style=\"color: #800000; text-decoration-color: #800000\">the environmental variable SF_SLIDE_BACKEND. See </span>                                              \n",
       "<span style=\"color: #7fbfbf; text-decoration-color: #7fbfbf\">           </span>         <span style=\"color: #800000; text-decoration-color: #800000\">https://slideflow.dev/installation/#cucim-vs-libvips for more information.</span>                     \n",
       "</pre>\n"
      ],
      "text/plain": [
       "\u001b[2;36m          \u001b[0m\u001b[2;36m \u001b[0m\u001b[1;31mERROR   \u001b[0m \u001b[31mSlide /mnt/d/Digital_path/DIG_PAT_1727362753.ndpi has type NDPI, which is incompatible with the\u001b[0m\n",
       "\u001b[2;36m           \u001b[0m         \u001b[31mactive slide reading backend, cucim. Consider using a different backend, which can be set with \u001b[0m\n",
       "\u001b[2;36m           \u001b[0m         \u001b[31mthe environmental variable SF_SLIDE_BACKEND. See \u001b[0m                                              \n",
       "\u001b[2;36m           \u001b[0m         \u001b[31mhttps://slideflow.dev/installation/#cucim-vs-libvips for more information.\u001b[0m                     \n"
      ]
     },
     "metadata": {},
     "output_type": "display_data"
    },
    {
     "data": {
      "text/html": [
       "<pre style=\"white-space:pre;overflow-x:auto;line-height:normal;font-family:Menlo,'DejaVu Sans Mono',consolas,'Courier New',monospace\"><span style=\"color: #7fbfbf; text-decoration-color: #7fbfbf\">           </span><span style=\"color: #800000; text-decoration-color: #800000; font-weight: bold\">ERROR   </span> <span style=\"color: #800000; text-decoration-color: #800000\">Slide /mnt/d/Digital_path/DIG_PAT_1727361456.ndpi has type NDPI, which is incompatible with the</span>\n",
       "<span style=\"color: #7fbfbf; text-decoration-color: #7fbfbf\">           </span>         <span style=\"color: #800000; text-decoration-color: #800000\">active slide reading backend, cucim. Consider using a different backend, which can be set with </span>\n",
       "<span style=\"color: #7fbfbf; text-decoration-color: #7fbfbf\">           </span>         <span style=\"color: #800000; text-decoration-color: #800000\">the environmental variable SF_SLIDE_BACKEND. See </span>                                              \n",
       "<span style=\"color: #7fbfbf; text-decoration-color: #7fbfbf\">           </span>         <span style=\"color: #800000; text-decoration-color: #800000\">https://slideflow.dev/installation/#cucim-vs-libvips for more information.</span>                     \n",
       "</pre>\n"
      ],
      "text/plain": [
       "\u001b[2;36m          \u001b[0m\u001b[2;36m \u001b[0m\u001b[1;31mERROR   \u001b[0m \u001b[31mSlide /mnt/d/Digital_path/DIG_PAT_1727361456.ndpi has type NDPI, which is incompatible with the\u001b[0m\n",
       "\u001b[2;36m           \u001b[0m         \u001b[31mactive slide reading backend, cucim. Consider using a different backend, which can be set with \u001b[0m\n",
       "\u001b[2;36m           \u001b[0m         \u001b[31mthe environmental variable SF_SLIDE_BACKEND. See \u001b[0m                                              \n",
       "\u001b[2;36m           \u001b[0m         \u001b[31mhttps://slideflow.dev/installation/#cucim-vs-libvips for more information.\u001b[0m                     \n"
      ]
     },
     "metadata": {},
     "output_type": "display_data"
    },
    {
     "data": {
      "text/html": [
       "<pre style=\"white-space:pre;overflow-x:auto;line-height:normal;font-family:Menlo,'DejaVu Sans Mono',consolas,'Courier New',monospace\"><span style=\"color: #7fbfbf; text-decoration-color: #7fbfbf\">           </span><span style=\"color: #800000; text-decoration-color: #800000; font-weight: bold\">ERROR   </span> <span style=\"color: #800000; text-decoration-color: #800000\">Error loading slide /mnt/d/Digital_path/DIG_PAT_1701601288.tif: Error loading slide </span>           \n",
       "<span style=\"color: #7fbfbf; text-decoration-color: #7fbfbf\">           </span>         <span style=\"color: #800000; text-decoration-color: #800000\">DIG_PAT_1701601288: This format has more than one image with Subfile Type 0 so cannot be </span>      \n",
       "<span style=\"color: #7fbfbf; text-decoration-color: #7fbfbf\">           </span>         <span style=\"color: #800000; text-decoration-color: #800000\">loaded!. Skipping</span>                                                                              \n",
       "</pre>\n"
      ],
      "text/plain": [
       "\u001b[2;36m          \u001b[0m\u001b[2;36m \u001b[0m\u001b[1;31mERROR   \u001b[0m \u001b[31mError loading slide /mnt/d/Digital_path/DIG_PAT_1701601288.tif: Error loading slide \u001b[0m           \n",
       "\u001b[2;36m           \u001b[0m         \u001b[31mDIG_PAT_1701601288: This format has more than one image with Subfile Type 0 so cannot be \u001b[0m      \n",
       "\u001b[2;36m           \u001b[0m         \u001b[31mloaded!. Skipping\u001b[0m                                                                              \n"
      ]
     },
     "metadata": {},
     "output_type": "display_data"
    },
    {
     "data": {
      "text/html": [
       "<pre style=\"white-space:pre;overflow-x:auto;line-height:normal;font-family:Menlo,'DejaVu Sans Mono',consolas,'Courier New',monospace\"><span style=\"color: #7fbfbf; text-decoration-color: #7fbfbf\">           </span><span style=\"color: #800000; text-decoration-color: #800000; font-weight: bold\">ERROR   </span> <span style=\"color: #800000; text-decoration-color: #800000\">Error loading slide /mnt/d/Digital_path/DIG_PAT_1701558593.tif: Error loading slide </span>           \n",
       "<span style=\"color: #7fbfbf; text-decoration-color: #7fbfbf\">           </span>         <span style=\"color: #800000; text-decoration-color: #800000\">DIG_PAT_1701558593: This format has more than one image with Subfile Type 0 so cannot be </span>      \n",
       "<span style=\"color: #7fbfbf; text-decoration-color: #7fbfbf\">           </span>         <span style=\"color: #800000; text-decoration-color: #800000\">loaded!. Skipping</span>                                                                              \n",
       "</pre>\n"
      ],
      "text/plain": [
       "\u001b[2;36m          \u001b[0m\u001b[2;36m \u001b[0m\u001b[1;31mERROR   \u001b[0m \u001b[31mError loading slide /mnt/d/Digital_path/DIG_PAT_1701558593.tif: Error loading slide \u001b[0m           \n",
       "\u001b[2;36m           \u001b[0m         \u001b[31mDIG_PAT_1701558593: This format has more than one image with Subfile Type 0 so cannot be \u001b[0m      \n",
       "\u001b[2;36m           \u001b[0m         \u001b[31mloaded!. Skipping\u001b[0m                                                                              \n"
      ]
     },
     "metadata": {},
     "output_type": "display_data"
    },
    {
     "data": {
      "text/html": [
       "<pre style=\"white-space:pre;overflow-x:auto;line-height:normal;font-family:Menlo,'DejaVu Sans Mono',consolas,'Courier New',monospace\"><span style=\"color: #7fbfbf; text-decoration-color: #7fbfbf\">           </span><span style=\"color: #800000; text-decoration-color: #800000; font-weight: bold\">ERROR   </span> <span style=\"color: #800000; text-decoration-color: #800000\">Slide /mnt/d/Digital_path/DIG_PAT_1727360671.ndpi has type NDPI, which is incompatible with the</span>\n",
       "<span style=\"color: #7fbfbf; text-decoration-color: #7fbfbf\">           </span>         <span style=\"color: #800000; text-decoration-color: #800000\">active slide reading backend, cucim. Consider using a different backend, which can be set with </span>\n",
       "<span style=\"color: #7fbfbf; text-decoration-color: #7fbfbf\">           </span>         <span style=\"color: #800000; text-decoration-color: #800000\">the environmental variable SF_SLIDE_BACKEND. See </span>                                              \n",
       "<span style=\"color: #7fbfbf; text-decoration-color: #7fbfbf\">           </span>         <span style=\"color: #800000; text-decoration-color: #800000\">https://slideflow.dev/installation/#cucim-vs-libvips for more information.</span>                     \n",
       "</pre>\n"
      ],
      "text/plain": [
       "\u001b[2;36m          \u001b[0m\u001b[2;36m \u001b[0m\u001b[1;31mERROR   \u001b[0m \u001b[31mSlide /mnt/d/Digital_path/DIG_PAT_1727360671.ndpi has type NDPI, which is incompatible with the\u001b[0m\n",
       "\u001b[2;36m           \u001b[0m         \u001b[31mactive slide reading backend, cucim. Consider using a different backend, which can be set with \u001b[0m\n",
       "\u001b[2;36m           \u001b[0m         \u001b[31mthe environmental variable SF_SLIDE_BACKEND. See \u001b[0m                                              \n",
       "\u001b[2;36m           \u001b[0m         \u001b[31mhttps://slideflow.dev/installation/#cucim-vs-libvips for more information.\u001b[0m                     \n"
      ]
     },
     "metadata": {},
     "output_type": "display_data"
    },
    {
     "data": {
      "text/html": [
       "<pre style=\"white-space:pre;overflow-x:auto;line-height:normal;font-family:Menlo,'DejaVu Sans Mono',consolas,'Courier New',monospace\"><span style=\"color: #7fbfbf; text-decoration-color: #7fbfbf\">           </span><span style=\"color: #800000; text-decoration-color: #800000; font-weight: bold\">ERROR   </span> <span style=\"color: #800000; text-decoration-color: #800000\">Slide /mnt/d/Digital_path/DIG_PAT_1727362502.ndpi has type NDPI, which is incompatible with the</span>\n",
       "<span style=\"color: #7fbfbf; text-decoration-color: #7fbfbf\">           </span>         <span style=\"color: #800000; text-decoration-color: #800000\">active slide reading backend, cucim. Consider using a different backend, which can be set with </span>\n",
       "<span style=\"color: #7fbfbf; text-decoration-color: #7fbfbf\">           </span>         <span style=\"color: #800000; text-decoration-color: #800000\">the environmental variable SF_SLIDE_BACKEND. See </span>                                              \n",
       "<span style=\"color: #7fbfbf; text-decoration-color: #7fbfbf\">           </span>         <span style=\"color: #800000; text-decoration-color: #800000\">https://slideflow.dev/installation/#cucim-vs-libvips for more information.</span>                     \n",
       "</pre>\n"
      ],
      "text/plain": [
       "\u001b[2;36m          \u001b[0m\u001b[2;36m \u001b[0m\u001b[1;31mERROR   \u001b[0m \u001b[31mSlide /mnt/d/Digital_path/DIG_PAT_1727362502.ndpi has type NDPI, which is incompatible with the\u001b[0m\n",
       "\u001b[2;36m           \u001b[0m         \u001b[31mactive slide reading backend, cucim. Consider using a different backend, which can be set with \u001b[0m\n",
       "\u001b[2;36m           \u001b[0m         \u001b[31mthe environmental variable SF_SLIDE_BACKEND. See \u001b[0m                                              \n",
       "\u001b[2;36m           \u001b[0m         \u001b[31mhttps://slideflow.dev/installation/#cucim-vs-libvips for more information.\u001b[0m                     \n"
      ]
     },
     "metadata": {},
     "output_type": "display_data"
    },
    {
     "data": {
      "text/html": [
       "<pre style=\"white-space:pre;overflow-x:auto;line-height:normal;font-family:Menlo,'DejaVu Sans Mono',consolas,'Courier New',monospace\"><span style=\"color: #7fbfbf; text-decoration-color: #7fbfbf\">           </span><span style=\"color: #800000; text-decoration-color: #800000; font-weight: bold\">ERROR   </span> <span style=\"color: #800000; text-decoration-color: #800000\">Slide /mnt/d/Digital_path/DIG_PAT_1727362958.ndpi has type NDPI, which is incompatible with the</span>\n",
       "<span style=\"color: #7fbfbf; text-decoration-color: #7fbfbf\">           </span>         <span style=\"color: #800000; text-decoration-color: #800000\">active slide reading backend, cucim. Consider using a different backend, which can be set with </span>\n",
       "<span style=\"color: #7fbfbf; text-decoration-color: #7fbfbf\">           </span>         <span style=\"color: #800000; text-decoration-color: #800000\">the environmental variable SF_SLIDE_BACKEND. See </span>                                              \n",
       "<span style=\"color: #7fbfbf; text-decoration-color: #7fbfbf\">           </span>         <span style=\"color: #800000; text-decoration-color: #800000\">https://slideflow.dev/installation/#cucim-vs-libvips for more information.</span>                     \n",
       "</pre>\n"
      ],
      "text/plain": [
       "\u001b[2;36m          \u001b[0m\u001b[2;36m \u001b[0m\u001b[1;31mERROR   \u001b[0m \u001b[31mSlide /mnt/d/Digital_path/DIG_PAT_1727362958.ndpi has type NDPI, which is incompatible with the\u001b[0m\n",
       "\u001b[2;36m           \u001b[0m         \u001b[31mactive slide reading backend, cucim. Consider using a different backend, which can be set with \u001b[0m\n",
       "\u001b[2;36m           \u001b[0m         \u001b[31mthe environmental variable SF_SLIDE_BACKEND. See \u001b[0m                                              \n",
       "\u001b[2;36m           \u001b[0m         \u001b[31mhttps://slideflow.dev/installation/#cucim-vs-libvips for more information.\u001b[0m                     \n"
      ]
     },
     "metadata": {},
     "output_type": "display_data"
    },
    {
     "data": {
      "text/html": [
       "<pre style=\"white-space:pre;overflow-x:auto;line-height:normal;font-family:Menlo,'DejaVu Sans Mono',consolas,'Courier New',monospace\"><span style=\"color: #7fbfbf; text-decoration-color: #7fbfbf\">           </span><span style=\"color: #800000; text-decoration-color: #800000; font-weight: bold\">ERROR   </span> <span style=\"color: #800000; text-decoration-color: #800000\">Error loading slide /mnt/d/Digital_path/DIG_PAT_1701377121.tif: Error loading slide </span>           \n",
       "<span style=\"color: #7fbfbf; text-decoration-color: #7fbfbf\">           </span>         <span style=\"color: #800000; text-decoration-color: #800000\">DIG_PAT_1701377121: This format has more than one image with Subfile Type 0 so cannot be </span>      \n",
       "<span style=\"color: #7fbfbf; text-decoration-color: #7fbfbf\">           </span>         <span style=\"color: #800000; text-decoration-color: #800000\">loaded!. Skipping</span>                                                                              \n",
       "</pre>\n"
      ],
      "text/plain": [
       "\u001b[2;36m          \u001b[0m\u001b[2;36m \u001b[0m\u001b[1;31mERROR   \u001b[0m \u001b[31mError loading slide /mnt/d/Digital_path/DIG_PAT_1701377121.tif: Error loading slide \u001b[0m           \n",
       "\u001b[2;36m           \u001b[0m         \u001b[31mDIG_PAT_1701377121: This format has more than one image with Subfile Type 0 so cannot be \u001b[0m      \n",
       "\u001b[2;36m           \u001b[0m         \u001b[31mloaded!. Skipping\u001b[0m                                                                              \n"
      ]
     },
     "metadata": {},
     "output_type": "display_data"
    },
    {
     "data": {
      "text/html": [
       "<pre style=\"white-space:pre;overflow-x:auto;line-height:normal;font-family:Menlo,'DejaVu Sans Mono',consolas,'Courier New',monospace\"><span style=\"color: #7fbfbf; text-decoration-color: #7fbfbf\">           </span><span style=\"color: #800000; text-decoration-color: #800000; font-weight: bold\">ERROR   </span> <span style=\"color: #800000; text-decoration-color: #800000\">Error loading slide /mnt/d/Digital_path/DIG_PAT_1701276166.tif: Error loading slide </span>           \n",
       "<span style=\"color: #7fbfbf; text-decoration-color: #7fbfbf\">           </span>         <span style=\"color: #800000; text-decoration-color: #800000\">DIG_PAT_1701276166: This format has more than one image with Subfile Type 0 so cannot be </span>      \n",
       "<span style=\"color: #7fbfbf; text-decoration-color: #7fbfbf\">           </span>         <span style=\"color: #800000; text-decoration-color: #800000\">loaded!. Skipping</span>                                                                              \n",
       "</pre>\n"
      ],
      "text/plain": [
       "\u001b[2;36m          \u001b[0m\u001b[2;36m \u001b[0m\u001b[1;31mERROR   \u001b[0m \u001b[31mError loading slide /mnt/d/Digital_path/DIG_PAT_1701276166.tif: Error loading slide \u001b[0m           \n",
       "\u001b[2;36m           \u001b[0m         \u001b[31mDIG_PAT_1701276166: This format has more than one image with Subfile Type 0 so cannot be \u001b[0m      \n",
       "\u001b[2;36m           \u001b[0m         \u001b[31mloaded!. Skipping\u001b[0m                                                                              \n"
      ]
     },
     "metadata": {},
     "output_type": "display_data"
    },
    {
     "data": {
      "text/html": [
       "<pre style=\"white-space:pre;overflow-x:auto;line-height:normal;font-family:Menlo,'DejaVu Sans Mono',consolas,'Courier New',monospace\"><span style=\"color: #7fbfbf; text-decoration-color: #7fbfbf\">           </span><span style=\"color: #800000; text-decoration-color: #800000; font-weight: bold\">ERROR   </span> <span style=\"color: #800000; text-decoration-color: #800000\">Error loading slide /mnt/d/Digital_path/DIG_PAT_1701556773.tif: Error loading slide </span>           \n",
       "<span style=\"color: #7fbfbf; text-decoration-color: #7fbfbf\">           </span>         <span style=\"color: #800000; text-decoration-color: #800000\">DIG_PAT_1701556773: This format has more than one image with Subfile Type 0 so cannot be </span>      \n",
       "<span style=\"color: #7fbfbf; text-decoration-color: #7fbfbf\">           </span>         <span style=\"color: #800000; text-decoration-color: #800000\">loaded!. Skipping</span>                                                                              \n",
       "</pre>\n"
      ],
      "text/plain": [
       "\u001b[2;36m          \u001b[0m\u001b[2;36m \u001b[0m\u001b[1;31mERROR   \u001b[0m \u001b[31mError loading slide /mnt/d/Digital_path/DIG_PAT_1701556773.tif: Error loading slide \u001b[0m           \n",
       "\u001b[2;36m           \u001b[0m         \u001b[31mDIG_PAT_1701556773: This format has more than one image with Subfile Type 0 so cannot be \u001b[0m      \n",
       "\u001b[2;36m           \u001b[0m         \u001b[31mloaded!. Skipping\u001b[0m                                                                              \n"
      ]
     },
     "metadata": {},
     "output_type": "display_data"
    },
    {
     "data": {
      "text/html": [
       "<pre style=\"white-space:pre;overflow-x:auto;line-height:normal;font-family:Menlo,'DejaVu Sans Mono',consolas,'Courier New',monospace\"><span style=\"color: #7fbfbf; text-decoration-color: #7fbfbf\">           </span><span style=\"color: #800000; text-decoration-color: #800000; font-weight: bold\">ERROR   </span> <span style=\"color: #800000; text-decoration-color: #800000\">Slide /mnt/d/Digital_path/DIG_PAT_1727362899.ndpi has type NDPI, which is incompatible with the</span>\n",
       "<span style=\"color: #7fbfbf; text-decoration-color: #7fbfbf\">           </span>         <span style=\"color: #800000; text-decoration-color: #800000\">active slide reading backend, cucim. Consider using a different backend, which can be set with </span>\n",
       "<span style=\"color: #7fbfbf; text-decoration-color: #7fbfbf\">           </span>         <span style=\"color: #800000; text-decoration-color: #800000\">the environmental variable SF_SLIDE_BACKEND. See </span>                                              \n",
       "<span style=\"color: #7fbfbf; text-decoration-color: #7fbfbf\">           </span>         <span style=\"color: #800000; text-decoration-color: #800000\">https://slideflow.dev/installation/#cucim-vs-libvips for more information.</span>                     \n",
       "</pre>\n"
      ],
      "text/plain": [
       "\u001b[2;36m          \u001b[0m\u001b[2;36m \u001b[0m\u001b[1;31mERROR   \u001b[0m \u001b[31mSlide /mnt/d/Digital_path/DIG_PAT_1727362899.ndpi has type NDPI, which is incompatible with the\u001b[0m\n",
       "\u001b[2;36m           \u001b[0m         \u001b[31mactive slide reading backend, cucim. Consider using a different backend, which can be set with \u001b[0m\n",
       "\u001b[2;36m           \u001b[0m         \u001b[31mthe environmental variable SF_SLIDE_BACKEND. See \u001b[0m                                              \n",
       "\u001b[2;36m           \u001b[0m         \u001b[31mhttps://slideflow.dev/installation/#cucim-vs-libvips for more information.\u001b[0m                     \n"
      ]
     },
     "metadata": {},
     "output_type": "display_data"
    },
    {
     "data": {
      "text/html": [
       "<pre style=\"white-space:pre;overflow-x:auto;line-height:normal;font-family:Menlo,'DejaVu Sans Mono',consolas,'Courier New',monospace\"><span style=\"color: #7fbfbf; text-decoration-color: #7fbfbf\">           </span><span style=\"color: #800000; text-decoration-color: #800000; font-weight: bold\">ERROR   </span> <span style=\"color: #800000; text-decoration-color: #800000\">Slide /mnt/d/Digital_path/DIG_PAT_1727361429.ndpi has type NDPI, which is incompatible with the</span>\n",
       "<span style=\"color: #7fbfbf; text-decoration-color: #7fbfbf\">           </span>         <span style=\"color: #800000; text-decoration-color: #800000\">active slide reading backend, cucim. Consider using a different backend, which can be set with </span>\n",
       "<span style=\"color: #7fbfbf; text-decoration-color: #7fbfbf\">           </span>         <span style=\"color: #800000; text-decoration-color: #800000\">the environmental variable SF_SLIDE_BACKEND. See </span>                                              \n",
       "<span style=\"color: #7fbfbf; text-decoration-color: #7fbfbf\">           </span>         <span style=\"color: #800000; text-decoration-color: #800000\">https://slideflow.dev/installation/#cucim-vs-libvips for more information.</span>                     \n",
       "</pre>\n"
      ],
      "text/plain": [
       "\u001b[2;36m          \u001b[0m\u001b[2;36m \u001b[0m\u001b[1;31mERROR   \u001b[0m \u001b[31mSlide /mnt/d/Digital_path/DIG_PAT_1727361429.ndpi has type NDPI, which is incompatible with the\u001b[0m\n",
       "\u001b[2;36m           \u001b[0m         \u001b[31mactive slide reading backend, cucim. Consider using a different backend, which can be set with \u001b[0m\n",
       "\u001b[2;36m           \u001b[0m         \u001b[31mthe environmental variable SF_SLIDE_BACKEND. See \u001b[0m                                              \n",
       "\u001b[2;36m           \u001b[0m         \u001b[31mhttps://slideflow.dev/installation/#cucim-vs-libvips for more information.\u001b[0m                     \n"
      ]
     },
     "metadata": {},
     "output_type": "display_data"
    },
    {
     "data": {
      "text/html": [
       "<pre style=\"white-space:pre;overflow-x:auto;line-height:normal;font-family:Menlo,'DejaVu Sans Mono',consolas,'Courier New',monospace\"><span style=\"color: #7fbfbf; text-decoration-color: #7fbfbf\">           </span><span style=\"color: #800000; text-decoration-color: #800000; font-weight: bold\">ERROR   </span> <span style=\"color: #800000; text-decoration-color: #800000\">Error loading slide /mnt/d/Digital_path/DIG_PAT_1701213674.tif: Error loading slide </span>           \n",
       "<span style=\"color: #7fbfbf; text-decoration-color: #7fbfbf\">           </span>         <span style=\"color: #800000; text-decoration-color: #800000\">DIG_PAT_1701213674: This format has more than one image with Subfile Type 0 so cannot be </span>      \n",
       "<span style=\"color: #7fbfbf; text-decoration-color: #7fbfbf\">           </span>         <span style=\"color: #800000; text-decoration-color: #800000\">loaded!. Skipping</span>                                                                              \n",
       "</pre>\n"
      ],
      "text/plain": [
       "\u001b[2;36m          \u001b[0m\u001b[2;36m \u001b[0m\u001b[1;31mERROR   \u001b[0m \u001b[31mError loading slide /mnt/d/Digital_path/DIG_PAT_1701213674.tif: Error loading slide \u001b[0m           \n",
       "\u001b[2;36m           \u001b[0m         \u001b[31mDIG_PAT_1701213674: This format has more than one image with Subfile Type 0 so cannot be \u001b[0m      \n",
       "\u001b[2;36m           \u001b[0m         \u001b[31mloaded!. Skipping\u001b[0m                                                                              \n"
      ]
     },
     "metadata": {},
     "output_type": "display_data"
    },
    {
     "data": {
      "text/html": [
       "<pre style=\"white-space:pre;overflow-x:auto;line-height:normal;font-family:Menlo,'DejaVu Sans Mono',consolas,'Courier New',monospace\"><span style=\"color: #7fbfbf; text-decoration-color: #7fbfbf\">           </span><span style=\"color: #800000; text-decoration-color: #800000; font-weight: bold\">ERROR   </span> <span style=\"color: #800000; text-decoration-color: #800000\">Slide /mnt/d/Digital_path/DIG_PAT_1727362792.ndpi has type NDPI, which is incompatible with the</span>\n",
       "<span style=\"color: #7fbfbf; text-decoration-color: #7fbfbf\">           </span>         <span style=\"color: #800000; text-decoration-color: #800000\">active slide reading backend, cucim. Consider using a different backend, which can be set with </span>\n",
       "<span style=\"color: #7fbfbf; text-decoration-color: #7fbfbf\">           </span>         <span style=\"color: #800000; text-decoration-color: #800000\">the environmental variable SF_SLIDE_BACKEND. See </span>                                              \n",
       "<span style=\"color: #7fbfbf; text-decoration-color: #7fbfbf\">           </span>         <span style=\"color: #800000; text-decoration-color: #800000\">https://slideflow.dev/installation/#cucim-vs-libvips for more information.</span>                     \n",
       "</pre>\n"
      ],
      "text/plain": [
       "\u001b[2;36m          \u001b[0m\u001b[2;36m \u001b[0m\u001b[1;31mERROR   \u001b[0m \u001b[31mSlide /mnt/d/Digital_path/DIG_PAT_1727362792.ndpi has type NDPI, which is incompatible with the\u001b[0m\n",
       "\u001b[2;36m           \u001b[0m         \u001b[31mactive slide reading backend, cucim. Consider using a different backend, which can be set with \u001b[0m\n",
       "\u001b[2;36m           \u001b[0m         \u001b[31mthe environmental variable SF_SLIDE_BACKEND. See \u001b[0m                                              \n",
       "\u001b[2;36m           \u001b[0m         \u001b[31mhttps://slideflow.dev/installation/#cucim-vs-libvips for more information.\u001b[0m                     \n"
      ]
     },
     "metadata": {},
     "output_type": "display_data"
    },
    {
     "data": {
      "text/html": [
       "<pre style=\"white-space:pre;overflow-x:auto;line-height:normal;font-family:Menlo,'DejaVu Sans Mono',consolas,'Courier New',monospace\"><span style=\"color: #7fbfbf; text-decoration-color: #7fbfbf\">           </span><span style=\"color: #800000; text-decoration-color: #800000; font-weight: bold\">ERROR   </span> <span style=\"color: #800000; text-decoration-color: #800000\">Error loading slide /mnt/d/Digital_path/DIG_PAT_1701613650.tif: Error loading slide </span>           \n",
       "<span style=\"color: #7fbfbf; text-decoration-color: #7fbfbf\">           </span>         <span style=\"color: #800000; text-decoration-color: #800000\">DIG_PAT_1701613650: This format has more than one image with Subfile Type 0 so cannot be </span>      \n",
       "<span style=\"color: #7fbfbf; text-decoration-color: #7fbfbf\">           </span>         <span style=\"color: #800000; text-decoration-color: #800000\">loaded!. Skipping</span>                                                                              \n",
       "</pre>\n"
      ],
      "text/plain": [
       "\u001b[2;36m          \u001b[0m\u001b[2;36m \u001b[0m\u001b[1;31mERROR   \u001b[0m \u001b[31mError loading slide /mnt/d/Digital_path/DIG_PAT_1701613650.tif: Error loading slide \u001b[0m           \n",
       "\u001b[2;36m           \u001b[0m         \u001b[31mDIG_PAT_1701613650: This format has more than one image with Subfile Type 0 so cannot be \u001b[0m      \n",
       "\u001b[2;36m           \u001b[0m         \u001b[31mloaded!. Skipping\u001b[0m                                                                              \n"
      ]
     },
     "metadata": {},
     "output_type": "display_data"
    },
    {
     "data": {
      "text/html": [
       "<pre style=\"white-space:pre;overflow-x:auto;line-height:normal;font-family:Menlo,'DejaVu Sans Mono',consolas,'Courier New',monospace\"><span style=\"color: #7fbfbf; text-decoration-color: #7fbfbf\">[13:27:05] </span><span style=\"color: #000080; text-decoration-color: #000080\">INFO    </span> No ROI for DIG_PAT_1699445354, using whole slide.                                              \n",
       "</pre>\n"
      ],
      "text/plain": [
       "\u001b[2;36m[13:27:05]\u001b[0m\u001b[2;36m \u001b[0m\u001b[34mINFO    \u001b[0m No ROI for DIG_PAT_1699445354, using whole slide.                                              \n"
      ]
     },
     "metadata": {},
     "output_type": "display_data"
    },
    {
     "data": {
      "text/html": [
       "<pre style=\"white-space:pre;overflow-x:auto;line-height:normal;font-family:Menlo,'DejaVu Sans Mono',consolas,'Courier New',monospace\"><span style=\"color: #7fbfbf; text-decoration-color: #7fbfbf\">[13:27:06] </span><span style=\"color: #000080; text-decoration-color: #000080\">INFO    </span> Performing Gaussian blur filter at mpp=4.179                                                   \n",
       "</pre>\n"
      ],
      "text/plain": [
       "\u001b[2;36m[13:27:06]\u001b[0m\u001b[2;36m \u001b[0m\u001b[34mINFO    \u001b[0m Performing Gaussian blur filter at mpp=4.179                                                   \n"
      ]
     },
     "metadata": {},
     "output_type": "display_data"
    },
    {
     "data": {
      "text/html": [
       "<pre style=\"white-space:pre;overflow-x:auto;line-height:normal;font-family:Menlo,'DejaVu Sans Mono',consolas,'Courier New',monospace\"><span style=\"color: #7fbfbf; text-decoration-color: #7fbfbf\">[13:27:31] </span><span style=\"color: #000080; text-decoration-color: #000080\">INFO    </span> Finished tile extraction for <span style=\"color: #008000; text-decoration-color: #008000\">DIG_PAT_1699445354</span> (0 tiles of 1 possible)                        \n",
       "</pre>\n"
      ],
      "text/plain": [
       "\u001b[2;36m[13:27:31]\u001b[0m\u001b[2;36m \u001b[0m\u001b[34mINFO    \u001b[0m Finished tile extraction for \u001b[32mDIG_PAT_1699445354\u001b[0m (0 tiles of 1 possible)                        \n"
      ]
     },
     "metadata": {},
     "output_type": "display_data"
    },
    {
     "data": {
      "text/html": [
       "<pre style=\"white-space:pre;overflow-x:auto;line-height:normal;font-family:Menlo,'DejaVu Sans Mono',consolas,'Courier New',monospace\"><span style=\"color: #7fbfbf; text-decoration-color: #7fbfbf\">           </span><span style=\"color: #000080; text-decoration-color: #000080\">INFO    </span> No tiles extracted for <span style=\"color: #008000; text-decoration-color: #008000\">DIG_PAT_1699445354</span>                                                      \n",
       "</pre>\n"
      ],
      "text/plain": [
       "\u001b[2;36m          \u001b[0m\u001b[2;36m \u001b[0m\u001b[34mINFO    \u001b[0m No tiles extracted for \u001b[32mDIG_PAT_1699445354\u001b[0m                                                      \n"
      ]
     },
     "metadata": {},
     "output_type": "display_data"
    },
    {
     "data": {
      "text/html": [
       "<pre style=\"white-space:pre;overflow-x:auto;line-height:normal;font-family:Menlo,'DejaVu Sans Mono',consolas,'Courier New',monospace\"><span style=\"color: #7fbfbf; text-decoration-color: #7fbfbf\">           </span><span style=\"color: #800000; text-decoration-color: #800000; font-weight: bold\">ERROR   </span> <span style=\"color: #800000; text-decoration-color: #800000\">Slide /mnt/d/Digital_path/DIG_PAT_1727361390.ndpi has type NDPI, which is incompatible with the</span>\n",
       "<span style=\"color: #7fbfbf; text-decoration-color: #7fbfbf\">           </span>         <span style=\"color: #800000; text-decoration-color: #800000\">active slide reading backend, cucim. Consider using a different backend, which can be set with </span>\n",
       "<span style=\"color: #7fbfbf; text-decoration-color: #7fbfbf\">           </span>         <span style=\"color: #800000; text-decoration-color: #800000\">the environmental variable SF_SLIDE_BACKEND. See </span>                                              \n",
       "<span style=\"color: #7fbfbf; text-decoration-color: #7fbfbf\">           </span>         <span style=\"color: #800000; text-decoration-color: #800000\">https://slideflow.dev/installation/#cucim-vs-libvips for more information.</span>                     \n",
       "</pre>\n"
      ],
      "text/plain": [
       "\u001b[2;36m          \u001b[0m\u001b[2;36m \u001b[0m\u001b[1;31mERROR   \u001b[0m \u001b[31mSlide /mnt/d/Digital_path/DIG_PAT_1727361390.ndpi has type NDPI, which is incompatible with the\u001b[0m\n",
       "\u001b[2;36m           \u001b[0m         \u001b[31mactive slide reading backend, cucim. Consider using a different backend, which can be set with \u001b[0m\n",
       "\u001b[2;36m           \u001b[0m         \u001b[31mthe environmental variable SF_SLIDE_BACKEND. See \u001b[0m                                              \n",
       "\u001b[2;36m           \u001b[0m         \u001b[31mhttps://slideflow.dev/installation/#cucim-vs-libvips for more information.\u001b[0m                     \n"
      ]
     },
     "metadata": {},
     "output_type": "display_data"
    },
    {
     "data": {
      "text/html": [
       "<pre style=\"white-space:pre;overflow-x:auto;line-height:normal;font-family:Menlo,'DejaVu Sans Mono',consolas,'Courier New',monospace\"><span style=\"color: #7fbfbf; text-decoration-color: #7fbfbf\">           </span><span style=\"color: #800000; text-decoration-color: #800000; font-weight: bold\">ERROR   </span> <span style=\"color: #800000; text-decoration-color: #800000\">Slide /mnt/d/Digital_path/DIG_PAT_1727360296.ndpi has type NDPI, which is incompatible with the</span>\n",
       "<span style=\"color: #7fbfbf; text-decoration-color: #7fbfbf\">           </span>         <span style=\"color: #800000; text-decoration-color: #800000\">active slide reading backend, cucim. Consider using a different backend, which can be set with </span>\n",
       "<span style=\"color: #7fbfbf; text-decoration-color: #7fbfbf\">           </span>         <span style=\"color: #800000; text-decoration-color: #800000\">the environmental variable SF_SLIDE_BACKEND. See </span>                                              \n",
       "<span style=\"color: #7fbfbf; text-decoration-color: #7fbfbf\">           </span>         <span style=\"color: #800000; text-decoration-color: #800000\">https://slideflow.dev/installation/#cucim-vs-libvips for more information.</span>                     \n",
       "</pre>\n"
      ],
      "text/plain": [
       "\u001b[2;36m          \u001b[0m\u001b[2;36m \u001b[0m\u001b[1;31mERROR   \u001b[0m \u001b[31mSlide /mnt/d/Digital_path/DIG_PAT_1727360296.ndpi has type NDPI, which is incompatible with the\u001b[0m\n",
       "\u001b[2;36m           \u001b[0m         \u001b[31mactive slide reading backend, cucim. Consider using a different backend, which can be set with \u001b[0m\n",
       "\u001b[2;36m           \u001b[0m         \u001b[31mthe environmental variable SF_SLIDE_BACKEND. See \u001b[0m                                              \n",
       "\u001b[2;36m           \u001b[0m         \u001b[31mhttps://slideflow.dev/installation/#cucim-vs-libvips for more information.\u001b[0m                     \n"
      ]
     },
     "metadata": {},
     "output_type": "display_data"
    },
    {
     "data": {
      "text/html": [
       "<pre style=\"white-space:pre;overflow-x:auto;line-height:normal;font-family:Menlo,'DejaVu Sans Mono',consolas,'Courier New',monospace\"><span style=\"color: #7fbfbf; text-decoration-color: #7fbfbf\">           </span><span style=\"color: #800000; text-decoration-color: #800000; font-weight: bold\">ERROR   </span> <span style=\"color: #800000; text-decoration-color: #800000\">Error loading slide /mnt/d/Digital_path/DIG_PAT_1701558798.tif: Error loading slide </span>           \n",
       "<span style=\"color: #7fbfbf; text-decoration-color: #7fbfbf\">           </span>         <span style=\"color: #800000; text-decoration-color: #800000\">DIG_PAT_1701558798: This format has more than one image with Subfile Type 0 so cannot be </span>      \n",
       "<span style=\"color: #7fbfbf; text-decoration-color: #7fbfbf\">           </span>         <span style=\"color: #800000; text-decoration-color: #800000\">loaded!. Skipping</span>                                                                              \n",
       "</pre>\n"
      ],
      "text/plain": [
       "\u001b[2;36m          \u001b[0m\u001b[2;36m \u001b[0m\u001b[1;31mERROR   \u001b[0m \u001b[31mError loading slide /mnt/d/Digital_path/DIG_PAT_1701558798.tif: Error loading slide \u001b[0m           \n",
       "\u001b[2;36m           \u001b[0m         \u001b[31mDIG_PAT_1701558798: This format has more than one image with Subfile Type 0 so cannot be \u001b[0m      \n",
       "\u001b[2;36m           \u001b[0m         \u001b[31mloaded!. Skipping\u001b[0m                                                                              \n"
      ]
     },
     "metadata": {},
     "output_type": "display_data"
    },
    {
     "data": {
      "text/html": [
       "<pre style=\"white-space:pre;overflow-x:auto;line-height:normal;font-family:Menlo,'DejaVu Sans Mono',consolas,'Courier New',monospace\"><span style=\"color: #7fbfbf; text-decoration-color: #7fbfbf\">           </span><span style=\"color: #800000; text-decoration-color: #800000; font-weight: bold\">ERROR   </span> <span style=\"color: #800000; text-decoration-color: #800000\">Slide /mnt/d/Digital_path/DIG_PAT_1727362348.ndpi has type NDPI, which is incompatible with the</span>\n",
       "<span style=\"color: #7fbfbf; text-decoration-color: #7fbfbf\">           </span>         <span style=\"color: #800000; text-decoration-color: #800000\">active slide reading backend, cucim. Consider using a different backend, which can be set with </span>\n",
       "<span style=\"color: #7fbfbf; text-decoration-color: #7fbfbf\">           </span>         <span style=\"color: #800000; text-decoration-color: #800000\">the environmental variable SF_SLIDE_BACKEND. See </span>                                              \n",
       "<span style=\"color: #7fbfbf; text-decoration-color: #7fbfbf\">           </span>         <span style=\"color: #800000; text-decoration-color: #800000\">https://slideflow.dev/installation/#cucim-vs-libvips for more information.</span>                     \n",
       "</pre>\n"
      ],
      "text/plain": [
       "\u001b[2;36m          \u001b[0m\u001b[2;36m \u001b[0m\u001b[1;31mERROR   \u001b[0m \u001b[31mSlide /mnt/d/Digital_path/DIG_PAT_1727362348.ndpi has type NDPI, which is incompatible with the\u001b[0m\n",
       "\u001b[2;36m           \u001b[0m         \u001b[31mactive slide reading backend, cucim. Consider using a different backend, which can be set with \u001b[0m\n",
       "\u001b[2;36m           \u001b[0m         \u001b[31mthe environmental variable SF_SLIDE_BACKEND. See \u001b[0m                                              \n",
       "\u001b[2;36m           \u001b[0m         \u001b[31mhttps://slideflow.dev/installation/#cucim-vs-libvips for more information.\u001b[0m                     \n"
      ]
     },
     "metadata": {},
     "output_type": "display_data"
    },
    {
     "data": {
      "text/html": [
       "<pre style=\"white-space:pre;overflow-x:auto;line-height:normal;font-family:Menlo,'DejaVu Sans Mono',consolas,'Courier New',monospace\"><span style=\"color: #7fbfbf; text-decoration-color: #7fbfbf\">           </span><span style=\"color: #800000; text-decoration-color: #800000; font-weight: bold\">ERROR   </span> <span style=\"color: #800000; text-decoration-color: #800000\">Slide /mnt/d/Digital_path/DIG_PAT_1727362713.ndpi has type NDPI, which is incompatible with the</span>\n",
       "<span style=\"color: #7fbfbf; text-decoration-color: #7fbfbf\">           </span>         <span style=\"color: #800000; text-decoration-color: #800000\">active slide reading backend, cucim. Consider using a different backend, which can be set with </span>\n",
       "<span style=\"color: #7fbfbf; text-decoration-color: #7fbfbf\">           </span>         <span style=\"color: #800000; text-decoration-color: #800000\">the environmental variable SF_SLIDE_BACKEND. See </span>                                              \n",
       "<span style=\"color: #7fbfbf; text-decoration-color: #7fbfbf\">           </span>         <span style=\"color: #800000; text-decoration-color: #800000\">https://slideflow.dev/installation/#cucim-vs-libvips for more information.</span>                     \n",
       "</pre>\n"
      ],
      "text/plain": [
       "\u001b[2;36m          \u001b[0m\u001b[2;36m \u001b[0m\u001b[1;31mERROR   \u001b[0m \u001b[31mSlide /mnt/d/Digital_path/DIG_PAT_1727362713.ndpi has type NDPI, which is incompatible with the\u001b[0m\n",
       "\u001b[2;36m           \u001b[0m         \u001b[31mactive slide reading backend, cucim. Consider using a different backend, which can be set with \u001b[0m\n",
       "\u001b[2;36m           \u001b[0m         \u001b[31mthe environmental variable SF_SLIDE_BACKEND. See \u001b[0m                                              \n",
       "\u001b[2;36m           \u001b[0m         \u001b[31mhttps://slideflow.dev/installation/#cucim-vs-libvips for more information.\u001b[0m                     \n"
      ]
     },
     "metadata": {},
     "output_type": "display_data"
    },
    {
     "data": {
      "text/html": [
       "<pre style=\"white-space:pre;overflow-x:auto;line-height:normal;font-family:Menlo,'DejaVu Sans Mono',consolas,'Courier New',monospace\"><span style=\"color: #7fbfbf; text-decoration-color: #7fbfbf\">           </span><span style=\"color: #800000; text-decoration-color: #800000; font-weight: bold\">ERROR   </span> <span style=\"color: #800000; text-decoration-color: #800000\">Slide /mnt/d/Digital_path/DIG_PAT_1727361289.ndpi has type NDPI, which is incompatible with the</span>\n",
       "<span style=\"color: #7fbfbf; text-decoration-color: #7fbfbf\">           </span>         <span style=\"color: #800000; text-decoration-color: #800000\">active slide reading backend, cucim. Consider using a different backend, which can be set with </span>\n",
       "<span style=\"color: #7fbfbf; text-decoration-color: #7fbfbf\">           </span>         <span style=\"color: #800000; text-decoration-color: #800000\">the environmental variable SF_SLIDE_BACKEND. See </span>                                              \n",
       "<span style=\"color: #7fbfbf; text-decoration-color: #7fbfbf\">           </span>         <span style=\"color: #800000; text-decoration-color: #800000\">https://slideflow.dev/installation/#cucim-vs-libvips for more information.</span>                     \n",
       "</pre>\n"
      ],
      "text/plain": [
       "\u001b[2;36m          \u001b[0m\u001b[2;36m \u001b[0m\u001b[1;31mERROR   \u001b[0m \u001b[31mSlide /mnt/d/Digital_path/DIG_PAT_1727361289.ndpi has type NDPI, which is incompatible with the\u001b[0m\n",
       "\u001b[2;36m           \u001b[0m         \u001b[31mactive slide reading backend, cucim. Consider using a different backend, which can be set with \u001b[0m\n",
       "\u001b[2;36m           \u001b[0m         \u001b[31mthe environmental variable SF_SLIDE_BACKEND. See \u001b[0m                                              \n",
       "\u001b[2;36m           \u001b[0m         \u001b[31mhttps://slideflow.dev/installation/#cucim-vs-libvips for more information.\u001b[0m                     \n"
      ]
     },
     "metadata": {},
     "output_type": "display_data"
    },
    {
     "data": {
      "text/html": [
       "<pre style=\"white-space:pre;overflow-x:auto;line-height:normal;font-family:Menlo,'DejaVu Sans Mono',consolas,'Courier New',monospace\"><span style=\"color: #7fbfbf; text-decoration-color: #7fbfbf\">           </span><span style=\"color: #800000; text-decoration-color: #800000; font-weight: bold\">ERROR   </span> <span style=\"color: #800000; text-decoration-color: #800000\">Error loading slide /mnt/d/Digital_path/DIG_PAT_1701610118.tif: Error loading slide </span>           \n",
       "<span style=\"color: #7fbfbf; text-decoration-color: #7fbfbf\">           </span>         <span style=\"color: #800000; text-decoration-color: #800000\">DIG_PAT_1701610118: This format has more than one image with Subfile Type 0 so cannot be </span>      \n",
       "<span style=\"color: #7fbfbf; text-decoration-color: #7fbfbf\">           </span>         <span style=\"color: #800000; text-decoration-color: #800000\">loaded!. Skipping</span>                                                                              \n",
       "</pre>\n"
      ],
      "text/plain": [
       "\u001b[2;36m          \u001b[0m\u001b[2;36m \u001b[0m\u001b[1;31mERROR   \u001b[0m \u001b[31mError loading slide /mnt/d/Digital_path/DIG_PAT_1701610118.tif: Error loading slide \u001b[0m           \n",
       "\u001b[2;36m           \u001b[0m         \u001b[31mDIG_PAT_1701610118: This format has more than one image with Subfile Type 0 so cannot be \u001b[0m      \n",
       "\u001b[2;36m           \u001b[0m         \u001b[31mloaded!. Skipping\u001b[0m                                                                              \n"
      ]
     },
     "metadata": {},
     "output_type": "display_data"
    },
    {
     "data": {
      "text/html": [
       "<pre style=\"white-space:pre;overflow-x:auto;line-height:normal;font-family:Menlo,'DejaVu Sans Mono',consolas,'Courier New',monospace\"><span style=\"color: #7fbfbf; text-decoration-color: #7fbfbf\">           </span><span style=\"color: #800000; text-decoration-color: #800000; font-weight: bold\">ERROR   </span> <span style=\"color: #800000; text-decoration-color: #800000\">Error loading slide /mnt/d/Digital_path/DIG_PAT_1705687596.svs: DIG_PAT_1705687596: Could not </span> \n",
       "<span style=\"color: #7fbfbf; text-decoration-color: #7fbfbf\">           </span>         <span style=\"color: #800000; text-decoration-color: #800000\">find magnification level matching 10x (closest: 5.0). Skipping</span>                                 \n",
       "</pre>\n"
      ],
      "text/plain": [
       "\u001b[2;36m          \u001b[0m\u001b[2;36m \u001b[0m\u001b[1;31mERROR   \u001b[0m \u001b[31mError loading slide /mnt/d/Digital_path/DIG_PAT_1705687596.svs: DIG_PAT_1705687596: Could not \u001b[0m \n",
       "\u001b[2;36m           \u001b[0m         \u001b[31mfind magnification level matching 10x (closest: 5.0). Skipping\u001b[0m                                 \n"
      ]
     },
     "metadata": {},
     "output_type": "display_data"
    },
    {
     "data": {
      "text/html": [
       "<pre style=\"white-space:pre;overflow-x:auto;line-height:normal;font-family:Menlo,'DejaVu Sans Mono',consolas,'Courier New',monospace\"><span style=\"color: #7fbfbf; text-decoration-color: #7fbfbf\">           </span><span style=\"color: #800000; text-decoration-color: #800000; font-weight: bold\">ERROR   </span> <span style=\"color: #800000; text-decoration-color: #800000\">Slide /mnt/d/Digital_path/DIG_PAT_1727362537.ndpi has type NDPI, which is incompatible with the</span>\n",
       "<span style=\"color: #7fbfbf; text-decoration-color: #7fbfbf\">           </span>         <span style=\"color: #800000; text-decoration-color: #800000\">active slide reading backend, cucim. Consider using a different backend, which can be set with </span>\n",
       "<span style=\"color: #7fbfbf; text-decoration-color: #7fbfbf\">           </span>         <span style=\"color: #800000; text-decoration-color: #800000\">the environmental variable SF_SLIDE_BACKEND. See </span>                                              \n",
       "<span style=\"color: #7fbfbf; text-decoration-color: #7fbfbf\">           </span>         <span style=\"color: #800000; text-decoration-color: #800000\">https://slideflow.dev/installation/#cucim-vs-libvips for more information.</span>                     \n",
       "</pre>\n"
      ],
      "text/plain": [
       "\u001b[2;36m          \u001b[0m\u001b[2;36m \u001b[0m\u001b[1;31mERROR   \u001b[0m \u001b[31mSlide /mnt/d/Digital_path/DIG_PAT_1727362537.ndpi has type NDPI, which is incompatible with the\u001b[0m\n",
       "\u001b[2;36m           \u001b[0m         \u001b[31mactive slide reading backend, cucim. Consider using a different backend, which can be set with \u001b[0m\n",
       "\u001b[2;36m           \u001b[0m         \u001b[31mthe environmental variable SF_SLIDE_BACKEND. See \u001b[0m                                              \n",
       "\u001b[2;36m           \u001b[0m         \u001b[31mhttps://slideflow.dev/installation/#cucim-vs-libvips for more information.\u001b[0m                     \n"
      ]
     },
     "metadata": {},
     "output_type": "display_data"
    },
    {
     "data": {
      "text/html": [
       "<pre style=\"white-space:pre;overflow-x:auto;line-height:normal;font-family:Menlo,'DejaVu Sans Mono',consolas,'Courier New',monospace\"><span style=\"color: #7fbfbf; text-decoration-color: #7fbfbf\">           </span><span style=\"color: #800000; text-decoration-color: #800000; font-weight: bold\">ERROR   </span> <span style=\"color: #800000; text-decoration-color: #800000\">Error loading slide /mnt/d/Digital_path/DIG_PAT_1710623432.tif: Error loading slide </span>           \n",
       "<span style=\"color: #7fbfbf; text-decoration-color: #7fbfbf\">           </span>         <span style=\"color: #800000; text-decoration-color: #800000\">DIG_PAT_1710623432: This format has more than one image with Subfile Type 0 so cannot be </span>      \n",
       "<span style=\"color: #7fbfbf; text-decoration-color: #7fbfbf\">           </span>         <span style=\"color: #800000; text-decoration-color: #800000\">loaded!. Skipping</span>                                                                              \n",
       "</pre>\n"
      ],
      "text/plain": [
       "\u001b[2;36m          \u001b[0m\u001b[2;36m \u001b[0m\u001b[1;31mERROR   \u001b[0m \u001b[31mError loading slide /mnt/d/Digital_path/DIG_PAT_1710623432.tif: Error loading slide \u001b[0m           \n",
       "\u001b[2;36m           \u001b[0m         \u001b[31mDIG_PAT_1710623432: This format has more than one image with Subfile Type 0 so cannot be \u001b[0m      \n",
       "\u001b[2;36m           \u001b[0m         \u001b[31mloaded!. Skipping\u001b[0m                                                                              \n"
      ]
     },
     "metadata": {},
     "output_type": "display_data"
    },
    {
     "data": {
      "text/html": [
       "<pre style=\"white-space:pre;overflow-x:auto;line-height:normal;font-family:Menlo,'DejaVu Sans Mono',consolas,'Courier New',monospace\"><span style=\"color: #7fbfbf; text-decoration-color: #7fbfbf\">           </span><span style=\"color: #800000; text-decoration-color: #800000; font-weight: bold\">ERROR   </span> <span style=\"color: #800000; text-decoration-color: #800000\">Slide /mnt/d/Digital_path/DIG_PAT_1727361753.ndpi has type NDPI, which is incompatible with the</span>\n",
       "<span style=\"color: #7fbfbf; text-decoration-color: #7fbfbf\">           </span>         <span style=\"color: #800000; text-decoration-color: #800000\">active slide reading backend, cucim. Consider using a different backend, which can be set with </span>\n",
       "<span style=\"color: #7fbfbf; text-decoration-color: #7fbfbf\">           </span>         <span style=\"color: #800000; text-decoration-color: #800000\">the environmental variable SF_SLIDE_BACKEND. See </span>                                              \n",
       "<span style=\"color: #7fbfbf; text-decoration-color: #7fbfbf\">           </span>         <span style=\"color: #800000; text-decoration-color: #800000\">https://slideflow.dev/installation/#cucim-vs-libvips for more information.</span>                     \n",
       "</pre>\n"
      ],
      "text/plain": [
       "\u001b[2;36m          \u001b[0m\u001b[2;36m \u001b[0m\u001b[1;31mERROR   \u001b[0m \u001b[31mSlide /mnt/d/Digital_path/DIG_PAT_1727361753.ndpi has type NDPI, which is incompatible with the\u001b[0m\n",
       "\u001b[2;36m           \u001b[0m         \u001b[31mactive slide reading backend, cucim. Consider using a different backend, which can be set with \u001b[0m\n",
       "\u001b[2;36m           \u001b[0m         \u001b[31mthe environmental variable SF_SLIDE_BACKEND. See \u001b[0m                                              \n",
       "\u001b[2;36m           \u001b[0m         \u001b[31mhttps://slideflow.dev/installation/#cucim-vs-libvips for more information.\u001b[0m                     \n"
      ]
     },
     "metadata": {},
     "output_type": "display_data"
    },
    {
     "data": {
      "text/html": [
       "<pre style=\"white-space:pre;overflow-x:auto;line-height:normal;font-family:Menlo,'DejaVu Sans Mono',consolas,'Courier New',monospace\"><span style=\"color: #7fbfbf; text-decoration-color: #7fbfbf\">           </span><span style=\"color: #800000; text-decoration-color: #800000; font-weight: bold\">ERROR   </span> <span style=\"color: #800000; text-decoration-color: #800000\">Error loading slide /mnt/d/Digital_path/DIG_PAT_1701297680.tif: Error loading slide </span>           \n",
       "<span style=\"color: #7fbfbf; text-decoration-color: #7fbfbf\">           </span>         <span style=\"color: #800000; text-decoration-color: #800000\">DIG_PAT_1701297680: This format has more than one image with Subfile Type 0 so cannot be </span>      \n",
       "<span style=\"color: #7fbfbf; text-decoration-color: #7fbfbf\">           </span>         <span style=\"color: #800000; text-decoration-color: #800000\">loaded!. Skipping</span>                                                                              \n",
       "</pre>\n"
      ],
      "text/plain": [
       "\u001b[2;36m          \u001b[0m\u001b[2;36m \u001b[0m\u001b[1;31mERROR   \u001b[0m \u001b[31mError loading slide /mnt/d/Digital_path/DIG_PAT_1701297680.tif: Error loading slide \u001b[0m           \n",
       "\u001b[2;36m           \u001b[0m         \u001b[31mDIG_PAT_1701297680: This format has more than one image with Subfile Type 0 so cannot be \u001b[0m      \n",
       "\u001b[2;36m           \u001b[0m         \u001b[31mloaded!. Skipping\u001b[0m                                                                              \n"
      ]
     },
     "metadata": {},
     "output_type": "display_data"
    },
    {
     "data": {
      "text/html": [
       "<pre style=\"white-space:pre;overflow-x:auto;line-height:normal;font-family:Menlo,'DejaVu Sans Mono',consolas,'Courier New',monospace\"><span style=\"color: #7fbfbf; text-decoration-color: #7fbfbf\">           </span><span style=\"color: #800000; text-decoration-color: #800000; font-weight: bold\">ERROR   </span> <span style=\"color: #800000; text-decoration-color: #800000\">Slide /mnt/d/Digital_path/DIG_PAT_1727363386.ndpi has type NDPI, which is incompatible with the</span>\n",
       "<span style=\"color: #7fbfbf; text-decoration-color: #7fbfbf\">           </span>         <span style=\"color: #800000; text-decoration-color: #800000\">active slide reading backend, cucim. Consider using a different backend, which can be set with </span>\n",
       "<span style=\"color: #7fbfbf; text-decoration-color: #7fbfbf\">           </span>         <span style=\"color: #800000; text-decoration-color: #800000\">the environmental variable SF_SLIDE_BACKEND. See </span>                                              \n",
       "<span style=\"color: #7fbfbf; text-decoration-color: #7fbfbf\">           </span>         <span style=\"color: #800000; text-decoration-color: #800000\">https://slideflow.dev/installation/#cucim-vs-libvips for more information.</span>                     \n",
       "</pre>\n"
      ],
      "text/plain": [
       "\u001b[2;36m          \u001b[0m\u001b[2;36m \u001b[0m\u001b[1;31mERROR   \u001b[0m \u001b[31mSlide /mnt/d/Digital_path/DIG_PAT_1727363386.ndpi has type NDPI, which is incompatible with the\u001b[0m\n",
       "\u001b[2;36m           \u001b[0m         \u001b[31mactive slide reading backend, cucim. Consider using a different backend, which can be set with \u001b[0m\n",
       "\u001b[2;36m           \u001b[0m         \u001b[31mthe environmental variable SF_SLIDE_BACKEND. See \u001b[0m                                              \n",
       "\u001b[2;36m           \u001b[0m         \u001b[31mhttps://slideflow.dev/installation/#cucim-vs-libvips for more information.\u001b[0m                     \n"
      ]
     },
     "metadata": {},
     "output_type": "display_data"
    },
    {
     "data": {
      "text/html": [
       "<pre style=\"white-space:pre;overflow-x:auto;line-height:normal;font-family:Menlo,'DejaVu Sans Mono',consolas,'Courier New',monospace\"><span style=\"color: #7fbfbf; text-decoration-color: #7fbfbf\">           </span><span style=\"color: #800000; text-decoration-color: #800000; font-weight: bold\">ERROR   </span> <span style=\"color: #800000; text-decoration-color: #800000\">Error loading slide /mnt/d/Digital_path/DIG_PAT_1707612728.tif: Error loading slide </span>           \n",
       "<span style=\"color: #7fbfbf; text-decoration-color: #7fbfbf\">           </span>         <span style=\"color: #800000; text-decoration-color: #800000\">DIG_PAT_1707612728: This format has more than one image with Subfile Type 0 so cannot be </span>      \n",
       "<span style=\"color: #7fbfbf; text-decoration-color: #7fbfbf\">           </span>         <span style=\"color: #800000; text-decoration-color: #800000\">loaded!. Skipping</span>                                                                              \n",
       "</pre>\n"
      ],
      "text/plain": [
       "\u001b[2;36m          \u001b[0m\u001b[2;36m \u001b[0m\u001b[1;31mERROR   \u001b[0m \u001b[31mError loading slide /mnt/d/Digital_path/DIG_PAT_1707612728.tif: Error loading slide \u001b[0m           \n",
       "\u001b[2;36m           \u001b[0m         \u001b[31mDIG_PAT_1707612728: This format has more than one image with Subfile Type 0 so cannot be \u001b[0m      \n",
       "\u001b[2;36m           \u001b[0m         \u001b[31mloaded!. Skipping\u001b[0m                                                                              \n"
      ]
     },
     "metadata": {},
     "output_type": "display_data"
    },
    {
     "data": {
      "text/html": [
       "<pre style=\"white-space:pre;overflow-x:auto;line-height:normal;font-family:Menlo,'DejaVu Sans Mono',consolas,'Courier New',monospace\"><span style=\"color: #7fbfbf; text-decoration-color: #7fbfbf\">           </span><span style=\"color: #800000; text-decoration-color: #800000; font-weight: bold\">ERROR   </span> <span style=\"color: #800000; text-decoration-color: #800000\">Error loading slide /mnt/d/Digital_path/DIG_PAT_1707612378.tif: Error loading slide </span>           \n",
       "<span style=\"color: #7fbfbf; text-decoration-color: #7fbfbf\">           </span>         <span style=\"color: #800000; text-decoration-color: #800000\">DIG_PAT_1707612378: This format has more than one image with Subfile Type 0 so cannot be </span>      \n",
       "<span style=\"color: #7fbfbf; text-decoration-color: #7fbfbf\">           </span>         <span style=\"color: #800000; text-decoration-color: #800000\">loaded!. Skipping</span>                                                                              \n",
       "</pre>\n"
      ],
      "text/plain": [
       "\u001b[2;36m          \u001b[0m\u001b[2;36m \u001b[0m\u001b[1;31mERROR   \u001b[0m \u001b[31mError loading slide /mnt/d/Digital_path/DIG_PAT_1707612378.tif: Error loading slide \u001b[0m           \n",
       "\u001b[2;36m           \u001b[0m         \u001b[31mDIG_PAT_1707612378: This format has more than one image with Subfile Type 0 so cannot be \u001b[0m      \n",
       "\u001b[2;36m           \u001b[0m         \u001b[31mloaded!. Skipping\u001b[0m                                                                              \n"
      ]
     },
     "metadata": {},
     "output_type": "display_data"
    },
    {
     "data": {
      "text/html": [
       "<pre style=\"white-space:pre;overflow-x:auto;line-height:normal;font-family:Menlo,'DejaVu Sans Mono',consolas,'Courier New',monospace\"><span style=\"color: #7fbfbf; text-decoration-color: #7fbfbf\">           </span><span style=\"color: #800000; text-decoration-color: #800000; font-weight: bold\">ERROR   </span> <span style=\"color: #800000; text-decoration-color: #800000\">Slide /mnt/d/Digital_path/DIG_PAT_1727359949.ndpi has type NDPI, which is incompatible with the</span>\n",
       "<span style=\"color: #7fbfbf; text-decoration-color: #7fbfbf\">           </span>         <span style=\"color: #800000; text-decoration-color: #800000\">active slide reading backend, cucim. Consider using a different backend, which can be set with </span>\n",
       "<span style=\"color: #7fbfbf; text-decoration-color: #7fbfbf\">           </span>         <span style=\"color: #800000; text-decoration-color: #800000\">the environmental variable SF_SLIDE_BACKEND. See </span>                                              \n",
       "<span style=\"color: #7fbfbf; text-decoration-color: #7fbfbf\">           </span>         <span style=\"color: #800000; text-decoration-color: #800000\">https://slideflow.dev/installation/#cucim-vs-libvips for more information.</span>                     \n",
       "</pre>\n"
      ],
      "text/plain": [
       "\u001b[2;36m          \u001b[0m\u001b[2;36m \u001b[0m\u001b[1;31mERROR   \u001b[0m \u001b[31mSlide /mnt/d/Digital_path/DIG_PAT_1727359949.ndpi has type NDPI, which is incompatible with the\u001b[0m\n",
       "\u001b[2;36m           \u001b[0m         \u001b[31mactive slide reading backend, cucim. Consider using a different backend, which can be set with \u001b[0m\n",
       "\u001b[2;36m           \u001b[0m         \u001b[31mthe environmental variable SF_SLIDE_BACKEND. See \u001b[0m                                              \n",
       "\u001b[2;36m           \u001b[0m         \u001b[31mhttps://slideflow.dev/installation/#cucim-vs-libvips for more information.\u001b[0m                     \n"
      ]
     },
     "metadata": {},
     "output_type": "display_data"
    },
    {
     "data": {
      "text/html": [
       "<pre style=\"white-space:pre;overflow-x:auto;line-height:normal;font-family:Menlo,'DejaVu Sans Mono',consolas,'Courier New',monospace\"><span style=\"color: #7fbfbf; text-decoration-color: #7fbfbf\">[13:27:32] </span><span style=\"color: #800000; text-decoration-color: #800000; font-weight: bold\">ERROR   </span> <span style=\"color: #800000; text-decoration-color: #800000\">Slide /mnt/d/Digital_path/DIG_PAT_1727359881.ndpi has type NDPI, which is incompatible with the</span>\n",
       "<span style=\"color: #7fbfbf; text-decoration-color: #7fbfbf\">           </span>         <span style=\"color: #800000; text-decoration-color: #800000\">active slide reading backend, cucim. Consider using a different backend, which can be set with </span>\n",
       "<span style=\"color: #7fbfbf; text-decoration-color: #7fbfbf\">           </span>         <span style=\"color: #800000; text-decoration-color: #800000\">the environmental variable SF_SLIDE_BACKEND. See </span>                                              \n",
       "<span style=\"color: #7fbfbf; text-decoration-color: #7fbfbf\">           </span>         <span style=\"color: #800000; text-decoration-color: #800000\">https://slideflow.dev/installation/#cucim-vs-libvips for more information.</span>                     \n",
       "</pre>\n"
      ],
      "text/plain": [
       "\u001b[2;36m[13:27:32]\u001b[0m\u001b[2;36m \u001b[0m\u001b[1;31mERROR   \u001b[0m \u001b[31mSlide /mnt/d/Digital_path/DIG_PAT_1727359881.ndpi has type NDPI, which is incompatible with the\u001b[0m\n",
       "\u001b[2;36m           \u001b[0m         \u001b[31mactive slide reading backend, cucim. Consider using a different backend, which can be set with \u001b[0m\n",
       "\u001b[2;36m           \u001b[0m         \u001b[31mthe environmental variable SF_SLIDE_BACKEND. See \u001b[0m                                              \n",
       "\u001b[2;36m           \u001b[0m         \u001b[31mhttps://slideflow.dev/installation/#cucim-vs-libvips for more information.\u001b[0m                     \n"
      ]
     },
     "metadata": {},
     "output_type": "display_data"
    },
    {
     "data": {
      "text/html": [
       "<pre style=\"white-space:pre;overflow-x:auto;line-height:normal;font-family:Menlo,'DejaVu Sans Mono',consolas,'Courier New',monospace\"><span style=\"color: #7fbfbf; text-decoration-color: #7fbfbf\">           </span><span style=\"color: #800000; text-decoration-color: #800000; font-weight: bold\">ERROR   </span> <span style=\"color: #800000; text-decoration-color: #800000\">Slide /mnt/d/Digital_path/DIG_PAT_1727360634.ndpi has type NDPI, which is incompatible with the</span>\n",
       "<span style=\"color: #7fbfbf; text-decoration-color: #7fbfbf\">           </span>         <span style=\"color: #800000; text-decoration-color: #800000\">active slide reading backend, cucim. Consider using a different backend, which can be set with </span>\n",
       "<span style=\"color: #7fbfbf; text-decoration-color: #7fbfbf\">           </span>         <span style=\"color: #800000; text-decoration-color: #800000\">the environmental variable SF_SLIDE_BACKEND. See </span>                                              \n",
       "<span style=\"color: #7fbfbf; text-decoration-color: #7fbfbf\">           </span>         <span style=\"color: #800000; text-decoration-color: #800000\">https://slideflow.dev/installation/#cucim-vs-libvips for more information.</span>                     \n",
       "</pre>\n"
      ],
      "text/plain": [
       "\u001b[2;36m          \u001b[0m\u001b[2;36m \u001b[0m\u001b[1;31mERROR   \u001b[0m \u001b[31mSlide /mnt/d/Digital_path/DIG_PAT_1727360634.ndpi has type NDPI, which is incompatible with the\u001b[0m\n",
       "\u001b[2;36m           \u001b[0m         \u001b[31mactive slide reading backend, cucim. Consider using a different backend, which can be set with \u001b[0m\n",
       "\u001b[2;36m           \u001b[0m         \u001b[31mthe environmental variable SF_SLIDE_BACKEND. See \u001b[0m                                              \n",
       "\u001b[2;36m           \u001b[0m         \u001b[31mhttps://slideflow.dev/installation/#cucim-vs-libvips for more information.\u001b[0m                     \n"
      ]
     },
     "metadata": {},
     "output_type": "display_data"
    },
    {
     "data": {
      "text/html": [
       "<pre style=\"white-space:pre;overflow-x:auto;line-height:normal;font-family:Menlo,'DejaVu Sans Mono',consolas,'Courier New',monospace\"><span style=\"color: #7fbfbf; text-decoration-color: #7fbfbf\">           </span><span style=\"color: #800000; text-decoration-color: #800000; font-weight: bold\">ERROR   </span> <span style=\"color: #800000; text-decoration-color: #800000\">Error loading slide /mnt/d/Digital_path/DIG_PAT_1701601697.tif: Error loading slide </span>           \n",
       "<span style=\"color: #7fbfbf; text-decoration-color: #7fbfbf\">           </span>         <span style=\"color: #800000; text-decoration-color: #800000\">DIG_PAT_1701601697: This format has more than one image with Subfile Type 0 so cannot be </span>      \n",
       "<span style=\"color: #7fbfbf; text-decoration-color: #7fbfbf\">           </span>         <span style=\"color: #800000; text-decoration-color: #800000\">loaded!. Skipping</span>                                                                              \n",
       "</pre>\n"
      ],
      "text/plain": [
       "\u001b[2;36m          \u001b[0m\u001b[2;36m \u001b[0m\u001b[1;31mERROR   \u001b[0m \u001b[31mError loading slide /mnt/d/Digital_path/DIG_PAT_1701601697.tif: Error loading slide \u001b[0m           \n",
       "\u001b[2;36m           \u001b[0m         \u001b[31mDIG_PAT_1701601697: This format has more than one image with Subfile Type 0 so cannot be \u001b[0m      \n",
       "\u001b[2;36m           \u001b[0m         \u001b[31mloaded!. Skipping\u001b[0m                                                                              \n"
      ]
     },
     "metadata": {},
     "output_type": "display_data"
    },
    {
     "data": {
      "text/html": [
       "<pre style=\"white-space:pre;overflow-x:auto;line-height:normal;font-family:Menlo,'DejaVu Sans Mono',consolas,'Courier New',monospace\"><span style=\"color: #7fbfbf; text-decoration-color: #7fbfbf\">           </span><span style=\"color: #800000; text-decoration-color: #800000; font-weight: bold\">ERROR   </span> <span style=\"color: #800000; text-decoration-color: #800000\">Slide /mnt/d/Digital_path/DIG_PAT_1727363179.ndpi has type NDPI, which is incompatible with the</span>\n",
       "<span style=\"color: #7fbfbf; text-decoration-color: #7fbfbf\">           </span>         <span style=\"color: #800000; text-decoration-color: #800000\">active slide reading backend, cucim. Consider using a different backend, which can be set with </span>\n",
       "<span style=\"color: #7fbfbf; text-decoration-color: #7fbfbf\">           </span>         <span style=\"color: #800000; text-decoration-color: #800000\">the environmental variable SF_SLIDE_BACKEND. See </span>                                              \n",
       "<span style=\"color: #7fbfbf; text-decoration-color: #7fbfbf\">           </span>         <span style=\"color: #800000; text-decoration-color: #800000\">https://slideflow.dev/installation/#cucim-vs-libvips for more information.</span>                     \n",
       "</pre>\n"
      ],
      "text/plain": [
       "\u001b[2;36m          \u001b[0m\u001b[2;36m \u001b[0m\u001b[1;31mERROR   \u001b[0m \u001b[31mSlide /mnt/d/Digital_path/DIG_PAT_1727363179.ndpi has type NDPI, which is incompatible with the\u001b[0m\n",
       "\u001b[2;36m           \u001b[0m         \u001b[31mactive slide reading backend, cucim. Consider using a different backend, which can be set with \u001b[0m\n",
       "\u001b[2;36m           \u001b[0m         \u001b[31mthe environmental variable SF_SLIDE_BACKEND. See \u001b[0m                                              \n",
       "\u001b[2;36m           \u001b[0m         \u001b[31mhttps://slideflow.dev/installation/#cucim-vs-libvips for more information.\u001b[0m                     \n"
      ]
     },
     "metadata": {},
     "output_type": "display_data"
    },
    {
     "data": {
      "text/html": [
       "<pre style=\"white-space:pre;overflow-x:auto;line-height:normal;font-family:Menlo,'DejaVu Sans Mono',consolas,'Courier New',monospace\"><span style=\"color: #7fbfbf; text-decoration-color: #7fbfbf\">           </span><span style=\"color: #800000; text-decoration-color: #800000; font-weight: bold\">ERROR   </span> <span style=\"color: #800000; text-decoration-color: #800000\">Error loading slide /mnt/d/Digital_path/DIG_PAT_1707638123.tif: Error loading slide </span>           \n",
       "<span style=\"color: #7fbfbf; text-decoration-color: #7fbfbf\">           </span>         <span style=\"color: #800000; text-decoration-color: #800000\">DIG_PAT_1707638123: This format has more than one image with Subfile Type 0 so cannot be </span>      \n",
       "<span style=\"color: #7fbfbf; text-decoration-color: #7fbfbf\">           </span>         <span style=\"color: #800000; text-decoration-color: #800000\">loaded!. Skipping</span>                                                                              \n",
       "</pre>\n"
      ],
      "text/plain": [
       "\u001b[2;36m          \u001b[0m\u001b[2;36m \u001b[0m\u001b[1;31mERROR   \u001b[0m \u001b[31mError loading slide /mnt/d/Digital_path/DIG_PAT_1707638123.tif: Error loading slide \u001b[0m           \n",
       "\u001b[2;36m           \u001b[0m         \u001b[31mDIG_PAT_1707638123: This format has more than one image with Subfile Type 0 so cannot be \u001b[0m      \n",
       "\u001b[2;36m           \u001b[0m         \u001b[31mloaded!. Skipping\u001b[0m                                                                              \n"
      ]
     },
     "metadata": {},
     "output_type": "display_data"
    },
    {
     "data": {
      "text/html": [
       "<pre style=\"white-space:pre;overflow-x:auto;line-height:normal;font-family:Menlo,'DejaVu Sans Mono',consolas,'Courier New',monospace\"><span style=\"color: #7fbfbf; text-decoration-color: #7fbfbf\">           </span><span style=\"color: #800000; text-decoration-color: #800000; font-weight: bold\">ERROR   </span> <span style=\"color: #800000; text-decoration-color: #800000\">Slide /mnt/d/Digital_path/DIG_PAT_1727361554.ndpi has type NDPI, which is incompatible with the</span>\n",
       "<span style=\"color: #7fbfbf; text-decoration-color: #7fbfbf\">           </span>         <span style=\"color: #800000; text-decoration-color: #800000\">active slide reading backend, cucim. Consider using a different backend, which can be set with </span>\n",
       "<span style=\"color: #7fbfbf; text-decoration-color: #7fbfbf\">           </span>         <span style=\"color: #800000; text-decoration-color: #800000\">the environmental variable SF_SLIDE_BACKEND. See </span>                                              \n",
       "<span style=\"color: #7fbfbf; text-decoration-color: #7fbfbf\">           </span>         <span style=\"color: #800000; text-decoration-color: #800000\">https://slideflow.dev/installation/#cucim-vs-libvips for more information.</span>                     \n",
       "</pre>\n"
      ],
      "text/plain": [
       "\u001b[2;36m          \u001b[0m\u001b[2;36m \u001b[0m\u001b[1;31mERROR   \u001b[0m \u001b[31mSlide /mnt/d/Digital_path/DIG_PAT_1727361554.ndpi has type NDPI, which is incompatible with the\u001b[0m\n",
       "\u001b[2;36m           \u001b[0m         \u001b[31mactive slide reading backend, cucim. Consider using a different backend, which can be set with \u001b[0m\n",
       "\u001b[2;36m           \u001b[0m         \u001b[31mthe environmental variable SF_SLIDE_BACKEND. See \u001b[0m                                              \n",
       "\u001b[2;36m           \u001b[0m         \u001b[31mhttps://slideflow.dev/installation/#cucim-vs-libvips for more information.\u001b[0m                     \n"
      ]
     },
     "metadata": {},
     "output_type": "display_data"
    },
    {
     "data": {
      "text/html": [
       "<pre style=\"white-space:pre;overflow-x:auto;line-height:normal;font-family:Menlo,'DejaVu Sans Mono',consolas,'Courier New',monospace\"><span style=\"color: #7fbfbf; text-decoration-color: #7fbfbf\">           </span><span style=\"color: #800000; text-decoration-color: #800000; font-weight: bold\">ERROR   </span> <span style=\"color: #800000; text-decoration-color: #800000\">Slide /mnt/d/Digital_path/DIG_PAT_1727361369.ndpi has type NDPI, which is incompatible with the</span>\n",
       "<span style=\"color: #7fbfbf; text-decoration-color: #7fbfbf\">           </span>         <span style=\"color: #800000; text-decoration-color: #800000\">active slide reading backend, cucim. Consider using a different backend, which can be set with </span>\n",
       "<span style=\"color: #7fbfbf; text-decoration-color: #7fbfbf\">           </span>         <span style=\"color: #800000; text-decoration-color: #800000\">the environmental variable SF_SLIDE_BACKEND. See </span>                                              \n",
       "<span style=\"color: #7fbfbf; text-decoration-color: #7fbfbf\">           </span>         <span style=\"color: #800000; text-decoration-color: #800000\">https://slideflow.dev/installation/#cucim-vs-libvips for more information.</span>                     \n",
       "</pre>\n"
      ],
      "text/plain": [
       "\u001b[2;36m          \u001b[0m\u001b[2;36m \u001b[0m\u001b[1;31mERROR   \u001b[0m \u001b[31mSlide /mnt/d/Digital_path/DIG_PAT_1727361369.ndpi has type NDPI, which is incompatible with the\u001b[0m\n",
       "\u001b[2;36m           \u001b[0m         \u001b[31mactive slide reading backend, cucim. Consider using a different backend, which can be set with \u001b[0m\n",
       "\u001b[2;36m           \u001b[0m         \u001b[31mthe environmental variable SF_SLIDE_BACKEND. See \u001b[0m                                              \n",
       "\u001b[2;36m           \u001b[0m         \u001b[31mhttps://slideflow.dev/installation/#cucim-vs-libvips for more information.\u001b[0m                     \n"
      ]
     },
     "metadata": {},
     "output_type": "display_data"
    },
    {
     "data": {
      "text/html": [
       "<pre style=\"white-space:pre;overflow-x:auto;line-height:normal;font-family:Menlo,'DejaVu Sans Mono',consolas,'Courier New',monospace\"><span style=\"color: #7fbfbf; text-decoration-color: #7fbfbf\">           </span><span style=\"color: #800000; text-decoration-color: #800000; font-weight: bold\">ERROR   </span> <span style=\"color: #800000; text-decoration-color: #800000\">Slide /mnt/d/Digital_path/DIG_PAT_1727363461.ndpi has type NDPI, which is incompatible with the</span>\n",
       "<span style=\"color: #7fbfbf; text-decoration-color: #7fbfbf\">           </span>         <span style=\"color: #800000; text-decoration-color: #800000\">active slide reading backend, cucim. Consider using a different backend, which can be set with </span>\n",
       "<span style=\"color: #7fbfbf; text-decoration-color: #7fbfbf\">           </span>         <span style=\"color: #800000; text-decoration-color: #800000\">the environmental variable SF_SLIDE_BACKEND. See </span>                                              \n",
       "<span style=\"color: #7fbfbf; text-decoration-color: #7fbfbf\">           </span>         <span style=\"color: #800000; text-decoration-color: #800000\">https://slideflow.dev/installation/#cucim-vs-libvips for more information.</span>                     \n",
       "</pre>\n"
      ],
      "text/plain": [
       "\u001b[2;36m          \u001b[0m\u001b[2;36m \u001b[0m\u001b[1;31mERROR   \u001b[0m \u001b[31mSlide /mnt/d/Digital_path/DIG_PAT_1727363461.ndpi has type NDPI, which is incompatible with the\u001b[0m\n",
       "\u001b[2;36m           \u001b[0m         \u001b[31mactive slide reading backend, cucim. Consider using a different backend, which can be set with \u001b[0m\n",
       "\u001b[2;36m           \u001b[0m         \u001b[31mthe environmental variable SF_SLIDE_BACKEND. See \u001b[0m                                              \n",
       "\u001b[2;36m           \u001b[0m         \u001b[31mhttps://slideflow.dev/installation/#cucim-vs-libvips for more information.\u001b[0m                     \n"
      ]
     },
     "metadata": {},
     "output_type": "display_data"
    },
    {
     "data": {
      "text/html": [
       "<pre style=\"white-space:pre;overflow-x:auto;line-height:normal;font-family:Menlo,'DejaVu Sans Mono',consolas,'Courier New',monospace\"><span style=\"color: #7fbfbf; text-decoration-color: #7fbfbf\">           </span><span style=\"color: #800000; text-decoration-color: #800000; font-weight: bold\">ERROR   </span> <span style=\"color: #800000; text-decoration-color: #800000\">Error loading slide /mnt/d/Digital_path/DIG_PAT_1701286858.tif: Error loading slide </span>           \n",
       "<span style=\"color: #7fbfbf; text-decoration-color: #7fbfbf\">           </span>         <span style=\"color: #800000; text-decoration-color: #800000\">DIG_PAT_1701286858: This format has more than one image with Subfile Type 0 so cannot be </span>      \n",
       "<span style=\"color: #7fbfbf; text-decoration-color: #7fbfbf\">           </span>         <span style=\"color: #800000; text-decoration-color: #800000\">loaded!. Skipping</span>                                                                              \n",
       "</pre>\n"
      ],
      "text/plain": [
       "\u001b[2;36m          \u001b[0m\u001b[2;36m \u001b[0m\u001b[1;31mERROR   \u001b[0m \u001b[31mError loading slide /mnt/d/Digital_path/DIG_PAT_1701286858.tif: Error loading slide \u001b[0m           \n",
       "\u001b[2;36m           \u001b[0m         \u001b[31mDIG_PAT_1701286858: This format has more than one image with Subfile Type 0 so cannot be \u001b[0m      \n",
       "\u001b[2;36m           \u001b[0m         \u001b[31mloaded!. Skipping\u001b[0m                                                                              \n"
      ]
     },
     "metadata": {},
     "output_type": "display_data"
    },
    {
     "data": {
      "text/html": [
       "<pre style=\"white-space:pre;overflow-x:auto;line-height:normal;font-family:Menlo,'DejaVu Sans Mono',consolas,'Courier New',monospace\"><span style=\"color: #7fbfbf; text-decoration-color: #7fbfbf\">           </span><span style=\"color: #800000; text-decoration-color: #800000; font-weight: bold\">ERROR   </span> <span style=\"color: #800000; text-decoration-color: #800000\">Slide /mnt/d/Digital_path/DIG_PAT_1727360866.ndpi has type NDPI, which is incompatible with the</span>\n",
       "<span style=\"color: #7fbfbf; text-decoration-color: #7fbfbf\">           </span>         <span style=\"color: #800000; text-decoration-color: #800000\">active slide reading backend, cucim. Consider using a different backend, which can be set with </span>\n",
       "<span style=\"color: #7fbfbf; text-decoration-color: #7fbfbf\">           </span>         <span style=\"color: #800000; text-decoration-color: #800000\">the environmental variable SF_SLIDE_BACKEND. See </span>                                              \n",
       "<span style=\"color: #7fbfbf; text-decoration-color: #7fbfbf\">           </span>         <span style=\"color: #800000; text-decoration-color: #800000\">https://slideflow.dev/installation/#cucim-vs-libvips for more information.</span>                     \n",
       "</pre>\n"
      ],
      "text/plain": [
       "\u001b[2;36m          \u001b[0m\u001b[2;36m \u001b[0m\u001b[1;31mERROR   \u001b[0m \u001b[31mSlide /mnt/d/Digital_path/DIG_PAT_1727360866.ndpi has type NDPI, which is incompatible with the\u001b[0m\n",
       "\u001b[2;36m           \u001b[0m         \u001b[31mactive slide reading backend, cucim. Consider using a different backend, which can be set with \u001b[0m\n",
       "\u001b[2;36m           \u001b[0m         \u001b[31mthe environmental variable SF_SLIDE_BACKEND. See \u001b[0m                                              \n",
       "\u001b[2;36m           \u001b[0m         \u001b[31mhttps://slideflow.dev/installation/#cucim-vs-libvips for more information.\u001b[0m                     \n"
      ]
     },
     "metadata": {},
     "output_type": "display_data"
    },
    {
     "data": {
      "text/html": [
       "<pre style=\"white-space:pre;overflow-x:auto;line-height:normal;font-family:Menlo,'DejaVu Sans Mono',consolas,'Courier New',monospace\"><span style=\"color: #7fbfbf; text-decoration-color: #7fbfbf\">           </span><span style=\"color: #800000; text-decoration-color: #800000; font-weight: bold\">ERROR   </span> <span style=\"color: #800000; text-decoration-color: #800000\">Error loading slide /mnt/d/Digital_path/DIG_PAT_1707639340.tif: Error loading slide </span>           \n",
       "<span style=\"color: #7fbfbf; text-decoration-color: #7fbfbf\">           </span>         <span style=\"color: #800000; text-decoration-color: #800000\">DIG_PAT_1707639340: This format has more than one image with Subfile Type 0 so cannot be </span>      \n",
       "<span style=\"color: #7fbfbf; text-decoration-color: #7fbfbf\">           </span>         <span style=\"color: #800000; text-decoration-color: #800000\">loaded!. Skipping</span>                                                                              \n",
       "</pre>\n"
      ],
      "text/plain": [
       "\u001b[2;36m          \u001b[0m\u001b[2;36m \u001b[0m\u001b[1;31mERROR   \u001b[0m \u001b[31mError loading slide /mnt/d/Digital_path/DIG_PAT_1707639340.tif: Error loading slide \u001b[0m           \n",
       "\u001b[2;36m           \u001b[0m         \u001b[31mDIG_PAT_1707639340: This format has more than one image with Subfile Type 0 so cannot be \u001b[0m      \n",
       "\u001b[2;36m           \u001b[0m         \u001b[31mloaded!. Skipping\u001b[0m                                                                              \n"
      ]
     },
     "metadata": {},
     "output_type": "display_data"
    },
    {
     "data": {
      "text/html": [
       "<pre style=\"white-space:pre;overflow-x:auto;line-height:normal;font-family:Menlo,'DejaVu Sans Mono',consolas,'Courier New',monospace\"><span style=\"color: #7fbfbf; text-decoration-color: #7fbfbf\">           </span><span style=\"color: #800000; text-decoration-color: #800000; font-weight: bold\">ERROR   </span> <span style=\"color: #800000; text-decoration-color: #800000\">Slide /mnt/d/Digital_path/DIG_PAT_1727361478.ndpi has type NDPI, which is incompatible with the</span>\n",
       "<span style=\"color: #7fbfbf; text-decoration-color: #7fbfbf\">           </span>         <span style=\"color: #800000; text-decoration-color: #800000\">active slide reading backend, cucim. Consider using a different backend, which can be set with </span>\n",
       "<span style=\"color: #7fbfbf; text-decoration-color: #7fbfbf\">           </span>         <span style=\"color: #800000; text-decoration-color: #800000\">the environmental variable SF_SLIDE_BACKEND. See </span>                                              \n",
       "<span style=\"color: #7fbfbf; text-decoration-color: #7fbfbf\">           </span>         <span style=\"color: #800000; text-decoration-color: #800000\">https://slideflow.dev/installation/#cucim-vs-libvips for more information.</span>                     \n",
       "</pre>\n"
      ],
      "text/plain": [
       "\u001b[2;36m          \u001b[0m\u001b[2;36m \u001b[0m\u001b[1;31mERROR   \u001b[0m \u001b[31mSlide /mnt/d/Digital_path/DIG_PAT_1727361478.ndpi has type NDPI, which is incompatible with the\u001b[0m\n",
       "\u001b[2;36m           \u001b[0m         \u001b[31mactive slide reading backend, cucim. Consider using a different backend, which can be set with \u001b[0m\n",
       "\u001b[2;36m           \u001b[0m         \u001b[31mthe environmental variable SF_SLIDE_BACKEND. See \u001b[0m                                              \n",
       "\u001b[2;36m           \u001b[0m         \u001b[31mhttps://slideflow.dev/installation/#cucim-vs-libvips for more information.\u001b[0m                     \n"
      ]
     },
     "metadata": {},
     "output_type": "display_data"
    },
    {
     "data": {
      "text/html": [
       "<pre style=\"white-space:pre;overflow-x:auto;line-height:normal;font-family:Menlo,'DejaVu Sans Mono',consolas,'Courier New',monospace\"><span style=\"color: #7fbfbf; text-decoration-color: #7fbfbf\">           </span><span style=\"color: #800000; text-decoration-color: #800000; font-weight: bold\">ERROR   </span> <span style=\"color: #800000; text-decoration-color: #800000\">Slide /mnt/d/Digital_path/DIG_PAT_1727362405.ndpi has type NDPI, which is incompatible with the</span>\n",
       "<span style=\"color: #7fbfbf; text-decoration-color: #7fbfbf\">           </span>         <span style=\"color: #800000; text-decoration-color: #800000\">active slide reading backend, cucim. Consider using a different backend, which can be set with </span>\n",
       "<span style=\"color: #7fbfbf; text-decoration-color: #7fbfbf\">           </span>         <span style=\"color: #800000; text-decoration-color: #800000\">the environmental variable SF_SLIDE_BACKEND. See </span>                                              \n",
       "<span style=\"color: #7fbfbf; text-decoration-color: #7fbfbf\">           </span>         <span style=\"color: #800000; text-decoration-color: #800000\">https://slideflow.dev/installation/#cucim-vs-libvips for more information.</span>                     \n",
       "</pre>\n"
      ],
      "text/plain": [
       "\u001b[2;36m          \u001b[0m\u001b[2;36m \u001b[0m\u001b[1;31mERROR   \u001b[0m \u001b[31mSlide /mnt/d/Digital_path/DIG_PAT_1727362405.ndpi has type NDPI, which is incompatible with the\u001b[0m\n",
       "\u001b[2;36m           \u001b[0m         \u001b[31mactive slide reading backend, cucim. Consider using a different backend, which can be set with \u001b[0m\n",
       "\u001b[2;36m           \u001b[0m         \u001b[31mthe environmental variable SF_SLIDE_BACKEND. See \u001b[0m                                              \n",
       "\u001b[2;36m           \u001b[0m         \u001b[31mhttps://slideflow.dev/installation/#cucim-vs-libvips for more information.\u001b[0m                     \n"
      ]
     },
     "metadata": {},
     "output_type": "display_data"
    },
    {
     "data": {
      "text/html": [
       "<pre style=\"white-space:pre;overflow-x:auto;line-height:normal;font-family:Menlo,'DejaVu Sans Mono',consolas,'Courier New',monospace\"><span style=\"color: #7fbfbf; text-decoration-color: #7fbfbf\">           </span><span style=\"color: #800000; text-decoration-color: #800000; font-weight: bold\">ERROR   </span> <span style=\"color: #800000; text-decoration-color: #800000\">Slide /mnt/d/Digital_path/DIG_PAT_1727362815.ndpi has type NDPI, which is incompatible with the</span>\n",
       "<span style=\"color: #7fbfbf; text-decoration-color: #7fbfbf\">           </span>         <span style=\"color: #800000; text-decoration-color: #800000\">active slide reading backend, cucim. Consider using a different backend, which can be set with </span>\n",
       "<span style=\"color: #7fbfbf; text-decoration-color: #7fbfbf\">           </span>         <span style=\"color: #800000; text-decoration-color: #800000\">the environmental variable SF_SLIDE_BACKEND. See </span>                                              \n",
       "<span style=\"color: #7fbfbf; text-decoration-color: #7fbfbf\">           </span>         <span style=\"color: #800000; text-decoration-color: #800000\">https://slideflow.dev/installation/#cucim-vs-libvips for more information.</span>                     \n",
       "</pre>\n"
      ],
      "text/plain": [
       "\u001b[2;36m          \u001b[0m\u001b[2;36m \u001b[0m\u001b[1;31mERROR   \u001b[0m \u001b[31mSlide /mnt/d/Digital_path/DIG_PAT_1727362815.ndpi has type NDPI, which is incompatible with the\u001b[0m\n",
       "\u001b[2;36m           \u001b[0m         \u001b[31mactive slide reading backend, cucim. Consider using a different backend, which can be set with \u001b[0m\n",
       "\u001b[2;36m           \u001b[0m         \u001b[31mthe environmental variable SF_SLIDE_BACKEND. See \u001b[0m                                              \n",
       "\u001b[2;36m           \u001b[0m         \u001b[31mhttps://slideflow.dev/installation/#cucim-vs-libvips for more information.\u001b[0m                     \n"
      ]
     },
     "metadata": {},
     "output_type": "display_data"
    },
    {
     "data": {
      "text/html": [
       "<pre style=\"white-space:pre;overflow-x:auto;line-height:normal;font-family:Menlo,'DejaVu Sans Mono',consolas,'Courier New',monospace\"><span style=\"color: #7fbfbf; text-decoration-color: #7fbfbf\">[13:27:33] </span><span style=\"color: #000080; text-decoration-color: #000080\">INFO    </span> No ROI for DIG_PAT_1699264023, using whole slide.                                              \n",
       "</pre>\n"
      ],
      "text/plain": [
       "\u001b[2;36m[13:27:33]\u001b[0m\u001b[2;36m \u001b[0m\u001b[34mINFO    \u001b[0m No ROI for DIG_PAT_1699264023, using whole slide.                                              \n"
      ]
     },
     "metadata": {},
     "output_type": "display_data"
    },
    {
     "data": {
      "text/html": [
       "<pre style=\"white-space:pre;overflow-x:auto;line-height:normal;font-family:Menlo,'DejaVu Sans Mono',consolas,'Courier New',monospace\"><span style=\"color: #7fbfbf; text-decoration-color: #7fbfbf\">           </span><span style=\"color: #000080; text-decoration-color: #000080\">INFO    </span> Performing Gaussian blur filter at mpp=4.179                                                   \n",
       "</pre>\n"
      ],
      "text/plain": [
       "\u001b[2;36m          \u001b[0m\u001b[2;36m \u001b[0m\u001b[34mINFO    \u001b[0m Performing Gaussian blur filter at mpp=4.179                                                   \n"
      ]
     },
     "metadata": {},
     "output_type": "display_data"
    },
    {
     "data": {
      "text/html": [
       "<pre style=\"white-space:pre;overflow-x:auto;line-height:normal;font-family:Menlo,'DejaVu Sans Mono',consolas,'Courier New',monospace\"><span style=\"color: #7fbfbf; text-decoration-color: #7fbfbf\">[13:27:56] </span><span style=\"color: #808000; text-decoration-color: #808000\">WARNING </span> <span style=\"color: #808000; text-decoration-color: #808000\">No tiles extracted for slide </span><span style=\"color: #008000; text-decoration-color: #008000\">DIG_PAT_1699264023</span>                                                \n",
       "</pre>\n"
      ],
      "text/plain": [
       "\u001b[2;36m[13:27:56]\u001b[0m\u001b[2;36m \u001b[0m\u001b[33mWARNING \u001b[0m \u001b[33mNo tiles extracted for slide \u001b[0m\u001b[32mDIG_PAT_1699264023\u001b[0m                                                \n"
      ]
     },
     "metadata": {},
     "output_type": "display_data"
    },
    {
     "data": {
      "text/html": [
       "<pre style=\"white-space:pre;overflow-x:auto;line-height:normal;font-family:Menlo,'DejaVu Sans Mono',consolas,'Courier New',monospace\"><span style=\"color: #7fbfbf; text-decoration-color: #7fbfbf\">           </span><span style=\"color: #800000; text-decoration-color: #800000; font-weight: bold\">ERROR   </span> <span style=\"color: #800000; text-decoration-color: #800000\">Slide /mnt/d/Digital_path/DIG_PAT_1727361526.ndpi has type NDPI, which is incompatible with the</span>\n",
       "<span style=\"color: #7fbfbf; text-decoration-color: #7fbfbf\">           </span>         <span style=\"color: #800000; text-decoration-color: #800000\">active slide reading backend, cucim. Consider using a different backend, which can be set with </span>\n",
       "<span style=\"color: #7fbfbf; text-decoration-color: #7fbfbf\">           </span>         <span style=\"color: #800000; text-decoration-color: #800000\">the environmental variable SF_SLIDE_BACKEND. See </span>                                              \n",
       "<span style=\"color: #7fbfbf; text-decoration-color: #7fbfbf\">           </span>         <span style=\"color: #800000; text-decoration-color: #800000\">https://slideflow.dev/installation/#cucim-vs-libvips for more information.</span>                     \n",
       "</pre>\n"
      ],
      "text/plain": [
       "\u001b[2;36m          \u001b[0m\u001b[2;36m \u001b[0m\u001b[1;31mERROR   \u001b[0m \u001b[31mSlide /mnt/d/Digital_path/DIG_PAT_1727361526.ndpi has type NDPI, which is incompatible with the\u001b[0m\n",
       "\u001b[2;36m           \u001b[0m         \u001b[31mactive slide reading backend, cucim. Consider using a different backend, which can be set with \u001b[0m\n",
       "\u001b[2;36m           \u001b[0m         \u001b[31mthe environmental variable SF_SLIDE_BACKEND. See \u001b[0m                                              \n",
       "\u001b[2;36m           \u001b[0m         \u001b[31mhttps://slideflow.dev/installation/#cucim-vs-libvips for more information.\u001b[0m                     \n"
      ]
     },
     "metadata": {},
     "output_type": "display_data"
    },
    {
     "data": {
      "text/html": [
       "<pre style=\"white-space:pre;overflow-x:auto;line-height:normal;font-family:Menlo,'DejaVu Sans Mono',consolas,'Courier New',monospace\"><span style=\"color: #7fbfbf; text-decoration-color: #7fbfbf\">           </span><span style=\"color: #800000; text-decoration-color: #800000; font-weight: bold\">ERROR   </span> <span style=\"color: #800000; text-decoration-color: #800000\">Error loading slide /mnt/d/Digital_path/DIG_PAT_1701552852.tif: Error loading slide </span>           \n",
       "<span style=\"color: #7fbfbf; text-decoration-color: #7fbfbf\">           </span>         <span style=\"color: #800000; text-decoration-color: #800000\">DIG_PAT_1701552852: This format has more than one image with Subfile Type 0 so cannot be </span>      \n",
       "<span style=\"color: #7fbfbf; text-decoration-color: #7fbfbf\">           </span>         <span style=\"color: #800000; text-decoration-color: #800000\">loaded!. Skipping</span>                                                                              \n",
       "</pre>\n"
      ],
      "text/plain": [
       "\u001b[2;36m          \u001b[0m\u001b[2;36m \u001b[0m\u001b[1;31mERROR   \u001b[0m \u001b[31mError loading slide /mnt/d/Digital_path/DIG_PAT_1701552852.tif: Error loading slide \u001b[0m           \n",
       "\u001b[2;36m           \u001b[0m         \u001b[31mDIG_PAT_1701552852: This format has more than one image with Subfile Type 0 so cannot be \u001b[0m      \n",
       "\u001b[2;36m           \u001b[0m         \u001b[31mloaded!. Skipping\u001b[0m                                                                              \n"
      ]
     },
     "metadata": {},
     "output_type": "display_data"
    },
    {
     "data": {
      "text/html": [
       "<pre style=\"white-space:pre;overflow-x:auto;line-height:normal;font-family:Menlo,'DejaVu Sans Mono',consolas,'Courier New',monospace\"><span style=\"color: #7fbfbf; text-decoration-color: #7fbfbf\">           </span><span style=\"color: #800000; text-decoration-color: #800000; font-weight: bold\">ERROR   </span> <span style=\"color: #800000; text-decoration-color: #800000\">Error loading slide /mnt/d/Digital_path/DIG_PAT_1701601200.tif: Error loading slide </span>           \n",
       "<span style=\"color: #7fbfbf; text-decoration-color: #7fbfbf\">           </span>         <span style=\"color: #800000; text-decoration-color: #800000\">DIG_PAT_1701601200: This format has more than one image with Subfile Type 0 so cannot be </span>      \n",
       "<span style=\"color: #7fbfbf; text-decoration-color: #7fbfbf\">           </span>         <span style=\"color: #800000; text-decoration-color: #800000\">loaded!. Skipping</span>                                                                              \n",
       "</pre>\n"
      ],
      "text/plain": [
       "\u001b[2;36m          \u001b[0m\u001b[2;36m \u001b[0m\u001b[1;31mERROR   \u001b[0m \u001b[31mError loading slide /mnt/d/Digital_path/DIG_PAT_1701601200.tif: Error loading slide \u001b[0m           \n",
       "\u001b[2;36m           \u001b[0m         \u001b[31mDIG_PAT_1701601200: This format has more than one image with Subfile Type 0 so cannot be \u001b[0m      \n",
       "\u001b[2;36m           \u001b[0m         \u001b[31mloaded!. Skipping\u001b[0m                                                                              \n"
      ]
     },
     "metadata": {},
     "output_type": "display_data"
    },
    {
     "data": {
      "text/html": [
       "<pre style=\"white-space:pre;overflow-x:auto;line-height:normal;font-family:Menlo,'DejaVu Sans Mono',consolas,'Courier New',monospace\"><span style=\"color: #7fbfbf; text-decoration-color: #7fbfbf\">           </span><span style=\"color: #800000; text-decoration-color: #800000; font-weight: bold\">ERROR   </span> <span style=\"color: #800000; text-decoration-color: #800000\">Error loading slide /mnt/d/Digital_path/DIG_PAT_1701118746.tif: Error loading slide </span>           \n",
       "<span style=\"color: #7fbfbf; text-decoration-color: #7fbfbf\">           </span>         <span style=\"color: #800000; text-decoration-color: #800000\">DIG_PAT_1701118746: This format has more than one image with Subfile Type 0 so cannot be </span>      \n",
       "<span style=\"color: #7fbfbf; text-decoration-color: #7fbfbf\">           </span>         <span style=\"color: #800000; text-decoration-color: #800000\">loaded!. Skipping</span>                                                                              \n",
       "</pre>\n"
      ],
      "text/plain": [
       "\u001b[2;36m          \u001b[0m\u001b[2;36m \u001b[0m\u001b[1;31mERROR   \u001b[0m \u001b[31mError loading slide /mnt/d/Digital_path/DIG_PAT_1701118746.tif: Error loading slide \u001b[0m           \n",
       "\u001b[2;36m           \u001b[0m         \u001b[31mDIG_PAT_1701118746: This format has more than one image with Subfile Type 0 so cannot be \u001b[0m      \n",
       "\u001b[2;36m           \u001b[0m         \u001b[31mloaded!. Skipping\u001b[0m                                                                              \n"
      ]
     },
     "metadata": {},
     "output_type": "display_data"
    },
    {
     "data": {
      "text/html": [
       "<pre style=\"white-space:pre;overflow-x:auto;line-height:normal;font-family:Menlo,'DejaVu Sans Mono',consolas,'Courier New',monospace\"><span style=\"color: #7fbfbf; text-decoration-color: #7fbfbf\">           </span><span style=\"color: #800000; text-decoration-color: #800000; font-weight: bold\">ERROR   </span> <span style=\"color: #800000; text-decoration-color: #800000\">Error loading slide /mnt/d/Digital_path/DIG_PAT_1701212223.tif: Error loading slide </span>           \n",
       "<span style=\"color: #7fbfbf; text-decoration-color: #7fbfbf\">           </span>         <span style=\"color: #800000; text-decoration-color: #800000\">DIG_PAT_1701212223: This format has more than one image with Subfile Type 0 so cannot be </span>      \n",
       "<span style=\"color: #7fbfbf; text-decoration-color: #7fbfbf\">           </span>         <span style=\"color: #800000; text-decoration-color: #800000\">loaded!. Skipping</span>                                                                              \n",
       "</pre>\n"
      ],
      "text/plain": [
       "\u001b[2;36m          \u001b[0m\u001b[2;36m \u001b[0m\u001b[1;31mERROR   \u001b[0m \u001b[31mError loading slide /mnt/d/Digital_path/DIG_PAT_1701212223.tif: Error loading slide \u001b[0m           \n",
       "\u001b[2;36m           \u001b[0m         \u001b[31mDIG_PAT_1701212223: This format has more than one image with Subfile Type 0 so cannot be \u001b[0m      \n",
       "\u001b[2;36m           \u001b[0m         \u001b[31mloaded!. Skipping\u001b[0m                                                                              \n"
      ]
     },
     "metadata": {},
     "output_type": "display_data"
    },
    {
     "data": {
      "text/html": [
       "<pre style=\"white-space:pre;overflow-x:auto;line-height:normal;font-family:Menlo,'DejaVu Sans Mono',consolas,'Courier New',monospace\"><span style=\"color: #7fbfbf; text-decoration-color: #7fbfbf\">           </span><span style=\"color: #800000; text-decoration-color: #800000; font-weight: bold\">ERROR   </span> <span style=\"color: #800000; text-decoration-color: #800000\">Error loading slide /mnt/d/Digital_path/DIG_PAT_1701557655.tif: Error loading slide </span>           \n",
       "<span style=\"color: #7fbfbf; text-decoration-color: #7fbfbf\">           </span>         <span style=\"color: #800000; text-decoration-color: #800000\">DIG_PAT_1701557655: This format has more than one image with Subfile Type 0 so cannot be </span>      \n",
       "<span style=\"color: #7fbfbf; text-decoration-color: #7fbfbf\">           </span>         <span style=\"color: #800000; text-decoration-color: #800000\">loaded!. Skipping</span>                                                                              \n",
       "</pre>\n"
      ],
      "text/plain": [
       "\u001b[2;36m          \u001b[0m\u001b[2;36m \u001b[0m\u001b[1;31mERROR   \u001b[0m \u001b[31mError loading slide /mnt/d/Digital_path/DIG_PAT_1701557655.tif: Error loading slide \u001b[0m           \n",
       "\u001b[2;36m           \u001b[0m         \u001b[31mDIG_PAT_1701557655: This format has more than one image with Subfile Type 0 so cannot be \u001b[0m      \n",
       "\u001b[2;36m           \u001b[0m         \u001b[31mloaded!. Skipping\u001b[0m                                                                              \n"
      ]
     },
     "metadata": {},
     "output_type": "display_data"
    },
    {
     "data": {
      "text/html": [
       "<pre style=\"white-space:pre;overflow-x:auto;line-height:normal;font-family:Menlo,'DejaVu Sans Mono',consolas,'Courier New',monospace\"><span style=\"color: #7fbfbf; text-decoration-color: #7fbfbf\">           </span><span style=\"color: #800000; text-decoration-color: #800000; font-weight: bold\">ERROR   </span> <span style=\"color: #800000; text-decoration-color: #800000\">Error loading slide /mnt/d/Digital_path/DIG_PAT_1701296319.tif: Error loading slide </span>           \n",
       "<span style=\"color: #7fbfbf; text-decoration-color: #7fbfbf\">           </span>         <span style=\"color: #800000; text-decoration-color: #800000\">DIG_PAT_1701296319: This format has more than one image with Subfile Type 0 so cannot be </span>      \n",
       "<span style=\"color: #7fbfbf; text-decoration-color: #7fbfbf\">           </span>         <span style=\"color: #800000; text-decoration-color: #800000\">loaded!. Skipping</span>                                                                              \n",
       "</pre>\n"
      ],
      "text/plain": [
       "\u001b[2;36m          \u001b[0m\u001b[2;36m \u001b[0m\u001b[1;31mERROR   \u001b[0m \u001b[31mError loading slide /mnt/d/Digital_path/DIG_PAT_1701296319.tif: Error loading slide \u001b[0m           \n",
       "\u001b[2;36m           \u001b[0m         \u001b[31mDIG_PAT_1701296319: This format has more than one image with Subfile Type 0 so cannot be \u001b[0m      \n",
       "\u001b[2;36m           \u001b[0m         \u001b[31mloaded!. Skipping\u001b[0m                                                                              \n"
      ]
     },
     "metadata": {},
     "output_type": "display_data"
    },
    {
     "data": {
      "text/html": [
       "<pre style=\"white-space:pre;overflow-x:auto;line-height:normal;font-family:Menlo,'DejaVu Sans Mono',consolas,'Courier New',monospace\"><span style=\"color: #7fbfbf; text-decoration-color: #7fbfbf\">[13:27:57] </span><span style=\"color: #000080; text-decoration-color: #000080\">INFO    </span> No ROI for DIG_PAT_1699454989, using whole slide.                                              \n",
       "</pre>\n"
      ],
      "text/plain": [
       "\u001b[2;36m[13:27:57]\u001b[0m\u001b[2;36m \u001b[0m\u001b[34mINFO    \u001b[0m No ROI for DIG_PAT_1699454989, using whole slide.                                              \n"
      ]
     },
     "metadata": {},
     "output_type": "display_data"
    },
    {
     "data": {
      "text/html": [
       "<pre style=\"white-space:pre;overflow-x:auto;line-height:normal;font-family:Menlo,'DejaVu Sans Mono',consolas,'Courier New',monospace\"><span style=\"color: #7fbfbf; text-decoration-color: #7fbfbf\">[13:27:58] </span><span style=\"color: #000080; text-decoration-color: #000080\">INFO    </span> Performing Gaussian blur filter at mpp=4.179                                                   \n",
       "</pre>\n"
      ],
      "text/plain": [
       "\u001b[2;36m[13:27:58]\u001b[0m\u001b[2;36m \u001b[0m\u001b[34mINFO    \u001b[0m Performing Gaussian blur filter at mpp=4.179                                                   \n"
      ]
     },
     "metadata": {},
     "output_type": "display_data"
    },
    {
     "data": {
      "text/html": [
       "<pre style=\"white-space:pre;overflow-x:auto;line-height:normal;font-family:Menlo,'DejaVu Sans Mono',consolas,'Courier New',monospace\"><span style=\"color: #7fbfbf; text-decoration-color: #7fbfbf\">[13:28:30] </span><span style=\"color: #808000; text-decoration-color: #808000\">WARNING </span> <span style=\"color: #808000; text-decoration-color: #808000\">No tiles extracted for slide </span><span style=\"color: #008000; text-decoration-color: #008000\">DIG_PAT_1699454989</span>                                                \n",
       "</pre>\n"
      ],
      "text/plain": [
       "\u001b[2;36m[13:28:30]\u001b[0m\u001b[2;36m \u001b[0m\u001b[33mWARNING \u001b[0m \u001b[33mNo tiles extracted for slide \u001b[0m\u001b[32mDIG_PAT_1699454989\u001b[0m                                                \n"
      ]
     },
     "metadata": {},
     "output_type": "display_data"
    },
    {
     "data": {
      "text/html": [
       "<pre style=\"white-space:pre;overflow-x:auto;line-height:normal;font-family:Menlo,'DejaVu Sans Mono',consolas,'Courier New',monospace\"><span style=\"color: #7fbfbf; text-decoration-color: #7fbfbf\">           </span><span style=\"color: #800000; text-decoration-color: #800000; font-weight: bold\">ERROR   </span> <span style=\"color: #800000; text-decoration-color: #800000\">Error loading slide /mnt/d/Digital_path/DIG_PAT_1710623998.tif: Error loading slide </span>           \n",
       "<span style=\"color: #7fbfbf; text-decoration-color: #7fbfbf\">           </span>         <span style=\"color: #800000; text-decoration-color: #800000\">DIG_PAT_1710623998: This format has more than one image with Subfile Type 0 so cannot be </span>      \n",
       "<span style=\"color: #7fbfbf; text-decoration-color: #7fbfbf\">           </span>         <span style=\"color: #800000; text-decoration-color: #800000\">loaded!. Skipping</span>                                                                              \n",
       "</pre>\n"
      ],
      "text/plain": [
       "\u001b[2;36m          \u001b[0m\u001b[2;36m \u001b[0m\u001b[1;31mERROR   \u001b[0m \u001b[31mError loading slide /mnt/d/Digital_path/DIG_PAT_1710623998.tif: Error loading slide \u001b[0m           \n",
       "\u001b[2;36m           \u001b[0m         \u001b[31mDIG_PAT_1710623998: This format has more than one image with Subfile Type 0 so cannot be \u001b[0m      \n",
       "\u001b[2;36m           \u001b[0m         \u001b[31mloaded!. Skipping\u001b[0m                                                                              \n"
      ]
     },
     "metadata": {},
     "output_type": "display_data"
    },
    {
     "data": {
      "text/html": [
       "<pre style=\"white-space:pre;overflow-x:auto;line-height:normal;font-family:Menlo,'DejaVu Sans Mono',consolas,'Courier New',monospace\"><span style=\"color: #7fbfbf; text-decoration-color: #7fbfbf\">           </span><span style=\"color: #800000; text-decoration-color: #800000; font-weight: bold\">ERROR   </span> <span style=\"color: #800000; text-decoration-color: #800000\">Slide /mnt/d/Digital_path/DIG_PAT_1727361918.ndpi has type NDPI, which is incompatible with the</span>\n",
       "<span style=\"color: #7fbfbf; text-decoration-color: #7fbfbf\">           </span>         <span style=\"color: #800000; text-decoration-color: #800000\">active slide reading backend, cucim. Consider using a different backend, which can be set with </span>\n",
       "<span style=\"color: #7fbfbf; text-decoration-color: #7fbfbf\">           </span>         <span style=\"color: #800000; text-decoration-color: #800000\">the environmental variable SF_SLIDE_BACKEND. See </span>                                              \n",
       "<span style=\"color: #7fbfbf; text-decoration-color: #7fbfbf\">           </span>         <span style=\"color: #800000; text-decoration-color: #800000\">https://slideflow.dev/installation/#cucim-vs-libvips for more information.</span>                     \n",
       "</pre>\n"
      ],
      "text/plain": [
       "\u001b[2;36m          \u001b[0m\u001b[2;36m \u001b[0m\u001b[1;31mERROR   \u001b[0m \u001b[31mSlide /mnt/d/Digital_path/DIG_PAT_1727361918.ndpi has type NDPI, which is incompatible with the\u001b[0m\n",
       "\u001b[2;36m           \u001b[0m         \u001b[31mactive slide reading backend, cucim. Consider using a different backend, which can be set with \u001b[0m\n",
       "\u001b[2;36m           \u001b[0m         \u001b[31mthe environmental variable SF_SLIDE_BACKEND. See \u001b[0m                                              \n",
       "\u001b[2;36m           \u001b[0m         \u001b[31mhttps://slideflow.dev/installation/#cucim-vs-libvips for more information.\u001b[0m                     \n"
      ]
     },
     "metadata": {},
     "output_type": "display_data"
    },
    {
     "data": {
      "text/html": [
       "<pre style=\"white-space:pre;overflow-x:auto;line-height:normal;font-family:Menlo,'DejaVu Sans Mono',consolas,'Courier New',monospace\"><span style=\"color: #7fbfbf; text-decoration-color: #7fbfbf\">           </span><span style=\"color: #800000; text-decoration-color: #800000; font-weight: bold\">ERROR   </span> <span style=\"color: #800000; text-decoration-color: #800000\">Error loading slide /mnt/d/Digital_path/DIG_PAT_1701122035.tif: Error loading slide </span>           \n",
       "<span style=\"color: #7fbfbf; text-decoration-color: #7fbfbf\">           </span>         <span style=\"color: #800000; text-decoration-color: #800000\">DIG_PAT_1701122035: This format has more than one image with Subfile Type 0 so cannot be </span>      \n",
       "<span style=\"color: #7fbfbf; text-decoration-color: #7fbfbf\">           </span>         <span style=\"color: #800000; text-decoration-color: #800000\">loaded!. Skipping</span>                                                                              \n",
       "</pre>\n"
      ],
      "text/plain": [
       "\u001b[2;36m          \u001b[0m\u001b[2;36m \u001b[0m\u001b[1;31mERROR   \u001b[0m \u001b[31mError loading slide /mnt/d/Digital_path/DIG_PAT_1701122035.tif: Error loading slide \u001b[0m           \n",
       "\u001b[2;36m           \u001b[0m         \u001b[31mDIG_PAT_1701122035: This format has more than one image with Subfile Type 0 so cannot be \u001b[0m      \n",
       "\u001b[2;36m           \u001b[0m         \u001b[31mloaded!. Skipping\u001b[0m                                                                              \n"
      ]
     },
     "metadata": {},
     "output_type": "display_data"
    },
    {
     "data": {
      "text/html": [
       "<pre style=\"white-space:pre;overflow-x:auto;line-height:normal;font-family:Menlo,'DejaVu Sans Mono',consolas,'Courier New',monospace\"><span style=\"color: #7fbfbf; text-decoration-color: #7fbfbf\">           </span><span style=\"color: #800000; text-decoration-color: #800000; font-weight: bold\">ERROR   </span> <span style=\"color: #800000; text-decoration-color: #800000\">Slide /mnt/d/Digital_path/DIG_PAT_1727361063.ndpi has type NDPI, which is incompatible with the</span>\n",
       "<span style=\"color: #7fbfbf; text-decoration-color: #7fbfbf\">           </span>         <span style=\"color: #800000; text-decoration-color: #800000\">active slide reading backend, cucim. Consider using a different backend, which can be set with </span>\n",
       "<span style=\"color: #7fbfbf; text-decoration-color: #7fbfbf\">           </span>         <span style=\"color: #800000; text-decoration-color: #800000\">the environmental variable SF_SLIDE_BACKEND. See </span>                                              \n",
       "<span style=\"color: #7fbfbf; text-decoration-color: #7fbfbf\">           </span>         <span style=\"color: #800000; text-decoration-color: #800000\">https://slideflow.dev/installation/#cucim-vs-libvips for more information.</span>                     \n",
       "</pre>\n"
      ],
      "text/plain": [
       "\u001b[2;36m          \u001b[0m\u001b[2;36m \u001b[0m\u001b[1;31mERROR   \u001b[0m \u001b[31mSlide /mnt/d/Digital_path/DIG_PAT_1727361063.ndpi has type NDPI, which is incompatible with the\u001b[0m\n",
       "\u001b[2;36m           \u001b[0m         \u001b[31mactive slide reading backend, cucim. Consider using a different backend, which can be set with \u001b[0m\n",
       "\u001b[2;36m           \u001b[0m         \u001b[31mthe environmental variable SF_SLIDE_BACKEND. See \u001b[0m                                              \n",
       "\u001b[2;36m           \u001b[0m         \u001b[31mhttps://slideflow.dev/installation/#cucim-vs-libvips for more information.\u001b[0m                     \n"
      ]
     },
     "metadata": {},
     "output_type": "display_data"
    },
    {
     "data": {
      "text/html": [
       "<pre style=\"white-space:pre;overflow-x:auto;line-height:normal;font-family:Menlo,'DejaVu Sans Mono',consolas,'Courier New',monospace\"><span style=\"color: #7fbfbf; text-decoration-color: #7fbfbf\">           </span><span style=\"color: #800000; text-decoration-color: #800000; font-weight: bold\">ERROR   </span> <span style=\"color: #800000; text-decoration-color: #800000\">Error loading slide /mnt/d/Digital_path/DIG_PAT_1701610477.tif: Error loading slide </span>           \n",
       "<span style=\"color: #7fbfbf; text-decoration-color: #7fbfbf\">           </span>         <span style=\"color: #800000; text-decoration-color: #800000\">DIG_PAT_1701610477: This format has more than one image with Subfile Type 0 so cannot be </span>      \n",
       "<span style=\"color: #7fbfbf; text-decoration-color: #7fbfbf\">           </span>         <span style=\"color: #800000; text-decoration-color: #800000\">loaded!. Skipping</span>                                                                              \n",
       "</pre>\n"
      ],
      "text/plain": [
       "\u001b[2;36m          \u001b[0m\u001b[2;36m \u001b[0m\u001b[1;31mERROR   \u001b[0m \u001b[31mError loading slide /mnt/d/Digital_path/DIG_PAT_1701610477.tif: Error loading slide \u001b[0m           \n",
       "\u001b[2;36m           \u001b[0m         \u001b[31mDIG_PAT_1701610477: This format has more than one image with Subfile Type 0 so cannot be \u001b[0m      \n",
       "\u001b[2;36m           \u001b[0m         \u001b[31mloaded!. Skipping\u001b[0m                                                                              \n"
      ]
     },
     "metadata": {},
     "output_type": "display_data"
    },
    {
     "data": {
      "text/html": [
       "<pre style=\"white-space:pre;overflow-x:auto;line-height:normal;font-family:Menlo,'DejaVu Sans Mono',consolas,'Courier New',monospace\"><span style=\"color: #7fbfbf; text-decoration-color: #7fbfbf\">           </span><span style=\"color: #000080; text-decoration-color: #000080\">INFO    </span> No ROI for DIG_PAT_1705690971, using whole slide.                                              \n",
       "</pre>\n"
      ],
      "text/plain": [
       "\u001b[2;36m          \u001b[0m\u001b[2;36m \u001b[0m\u001b[34mINFO    \u001b[0m No ROI for DIG_PAT_1705690971, using whole slide.                                              \n"
      ]
     },
     "metadata": {},
     "output_type": "display_data"
    },
    {
     "data": {
      "text/html": [
       "<pre style=\"white-space:pre;overflow-x:auto;line-height:normal;font-family:Menlo,'DejaVu Sans Mono',consolas,'Courier New',monospace\"><span style=\"color: #7fbfbf; text-decoration-color: #7fbfbf\">[13:28:31] </span><span style=\"color: #000080; text-decoration-color: #000080\">INFO    </span> Performing Gaussian blur filter at mpp=4.036                                                   \n",
       "</pre>\n"
      ],
      "text/plain": [
       "\u001b[2;36m[13:28:31]\u001b[0m\u001b[2;36m \u001b[0m\u001b[34mINFO    \u001b[0m Performing Gaussian blur filter at mpp=4.036                                                   \n"
      ]
     },
     "metadata": {},
     "output_type": "display_data"
    },
    {
     "data": {
      "text/html": [
       "<pre style=\"white-space:pre;overflow-x:auto;line-height:normal;font-family:Menlo,'DejaVu Sans Mono',consolas,'Courier New',monospace\"><span style=\"color: #7fbfbf; text-decoration-color: #7fbfbf\">[13:28:58] </span><span style=\"color: #808000; text-decoration-color: #808000\">WARNING </span> <span style=\"color: #808000; text-decoration-color: #808000\">No tiles extracted for slide </span><span style=\"color: #008000; text-decoration-color: #008000\">DIG_PAT_1705690971</span>                                                \n",
       "</pre>\n"
      ],
      "text/plain": [
       "\u001b[2;36m[13:28:58]\u001b[0m\u001b[2;36m \u001b[0m\u001b[33mWARNING \u001b[0m \u001b[33mNo tiles extracted for slide \u001b[0m\u001b[32mDIG_PAT_1705690971\u001b[0m                                                \n"
      ]
     },
     "metadata": {},
     "output_type": "display_data"
    },
    {
     "data": {
      "text/html": [
       "<pre style=\"white-space:pre;overflow-x:auto;line-height:normal;font-family:Menlo,'DejaVu Sans Mono',consolas,'Courier New',monospace\"><span style=\"color: #7fbfbf; text-decoration-color: #7fbfbf\">           </span><span style=\"color: #800000; text-decoration-color: #800000; font-weight: bold\">ERROR   </span> <span style=\"color: #800000; text-decoration-color: #800000\">Error loading slide /mnt/d/Digital_path/DIG_PAT_1701105190.tif: Error loading slide </span>           \n",
       "<span style=\"color: #7fbfbf; text-decoration-color: #7fbfbf\">           </span>         <span style=\"color: #800000; text-decoration-color: #800000\">DIG_PAT_1701105190: This format has more than one image with Subfile Type 0 so cannot be </span>      \n",
       "<span style=\"color: #7fbfbf; text-decoration-color: #7fbfbf\">           </span>         <span style=\"color: #800000; text-decoration-color: #800000\">loaded!. Skipping</span>                                                                              \n",
       "</pre>\n"
      ],
      "text/plain": [
       "\u001b[2;36m          \u001b[0m\u001b[2;36m \u001b[0m\u001b[1;31mERROR   \u001b[0m \u001b[31mError loading slide /mnt/d/Digital_path/DIG_PAT_1701105190.tif: Error loading slide \u001b[0m           \n",
       "\u001b[2;36m           \u001b[0m         \u001b[31mDIG_PAT_1701105190: This format has more than one image with Subfile Type 0 so cannot be \u001b[0m      \n",
       "\u001b[2;36m           \u001b[0m         \u001b[31mloaded!. Skipping\u001b[0m                                                                              \n"
      ]
     },
     "metadata": {},
     "output_type": "display_data"
    },
    {
     "data": {
      "text/html": [
       "<pre style=\"white-space:pre;overflow-x:auto;line-height:normal;font-family:Menlo,'DejaVu Sans Mono',consolas,'Courier New',monospace\"><span style=\"color: #7fbfbf; text-decoration-color: #7fbfbf\">           </span><span style=\"color: #800000; text-decoration-color: #800000; font-weight: bold\">ERROR   </span> <span style=\"color: #800000; text-decoration-color: #800000\">Error loading slide /mnt/d/Digital_path/DIG_PAT_1701599802.tif: Error loading slide </span>           \n",
       "<span style=\"color: #7fbfbf; text-decoration-color: #7fbfbf\">           </span>         <span style=\"color: #800000; text-decoration-color: #800000\">DIG_PAT_1701599802: This format has more than one image with Subfile Type 0 so cannot be </span>      \n",
       "<span style=\"color: #7fbfbf; text-decoration-color: #7fbfbf\">           </span>         <span style=\"color: #800000; text-decoration-color: #800000\">loaded!. Skipping</span>                                                                              \n",
       "</pre>\n"
      ],
      "text/plain": [
       "\u001b[2;36m          \u001b[0m\u001b[2;36m \u001b[0m\u001b[1;31mERROR   \u001b[0m \u001b[31mError loading slide /mnt/d/Digital_path/DIG_PAT_1701599802.tif: Error loading slide \u001b[0m           \n",
       "\u001b[2;36m           \u001b[0m         \u001b[31mDIG_PAT_1701599802: This format has more than one image with Subfile Type 0 so cannot be \u001b[0m      \n",
       "\u001b[2;36m           \u001b[0m         \u001b[31mloaded!. Skipping\u001b[0m                                                                              \n"
      ]
     },
     "metadata": {},
     "output_type": "display_data"
    },
    {
     "data": {
      "text/html": [
       "<pre style=\"white-space:pre;overflow-x:auto;line-height:normal;font-family:Menlo,'DejaVu Sans Mono',consolas,'Courier New',monospace\"><span style=\"color: #7fbfbf; text-decoration-color: #7fbfbf\">           </span><span style=\"color: #800000; text-decoration-color: #800000; font-weight: bold\">ERROR   </span> <span style=\"color: #800000; text-decoration-color: #800000\">Slide /mnt/d/Digital_path/DIG_PAT_1727359381.ndpi has type NDPI, which is incompatible with the</span>\n",
       "<span style=\"color: #7fbfbf; text-decoration-color: #7fbfbf\">           </span>         <span style=\"color: #800000; text-decoration-color: #800000\">active slide reading backend, cucim. Consider using a different backend, which can be set with </span>\n",
       "<span style=\"color: #7fbfbf; text-decoration-color: #7fbfbf\">           </span>         <span style=\"color: #800000; text-decoration-color: #800000\">the environmental variable SF_SLIDE_BACKEND. See </span>                                              \n",
       "<span style=\"color: #7fbfbf; text-decoration-color: #7fbfbf\">           </span>         <span style=\"color: #800000; text-decoration-color: #800000\">https://slideflow.dev/installation/#cucim-vs-libvips for more information.</span>                     \n",
       "</pre>\n"
      ],
      "text/plain": [
       "\u001b[2;36m          \u001b[0m\u001b[2;36m \u001b[0m\u001b[1;31mERROR   \u001b[0m \u001b[31mSlide /mnt/d/Digital_path/DIG_PAT_1727359381.ndpi has type NDPI, which is incompatible with the\u001b[0m\n",
       "\u001b[2;36m           \u001b[0m         \u001b[31mactive slide reading backend, cucim. Consider using a different backend, which can be set with \u001b[0m\n",
       "\u001b[2;36m           \u001b[0m         \u001b[31mthe environmental variable SF_SLIDE_BACKEND. See \u001b[0m                                              \n",
       "\u001b[2;36m           \u001b[0m         \u001b[31mhttps://slideflow.dev/installation/#cucim-vs-libvips for more information.\u001b[0m                     \n"
      ]
     },
     "metadata": {},
     "output_type": "display_data"
    },
    {
     "data": {
      "text/html": [
       "<pre style=\"white-space:pre;overflow-x:auto;line-height:normal;font-family:Menlo,'DejaVu Sans Mono',consolas,'Courier New',monospace\"><span style=\"color: #7fbfbf; text-decoration-color: #7fbfbf\">           </span><span style=\"color: #800000; text-decoration-color: #800000; font-weight: bold\">ERROR   </span> <span style=\"color: #800000; text-decoration-color: #800000\">Error loading slide /mnt/d/Digital_path/DIG_PAT_1701100935.tif: Error loading slide </span>           \n",
       "<span style=\"color: #7fbfbf; text-decoration-color: #7fbfbf\">           </span>         <span style=\"color: #800000; text-decoration-color: #800000\">DIG_PAT_1701100935: This format has more than one image with Subfile Type 0 so cannot be </span>      \n",
       "<span style=\"color: #7fbfbf; text-decoration-color: #7fbfbf\">           </span>         <span style=\"color: #800000; text-decoration-color: #800000\">loaded!. Skipping</span>                                                                              \n",
       "</pre>\n"
      ],
      "text/plain": [
       "\u001b[2;36m          \u001b[0m\u001b[2;36m \u001b[0m\u001b[1;31mERROR   \u001b[0m \u001b[31mError loading slide /mnt/d/Digital_path/DIG_PAT_1701100935.tif: Error loading slide \u001b[0m           \n",
       "\u001b[2;36m           \u001b[0m         \u001b[31mDIG_PAT_1701100935: This format has more than one image with Subfile Type 0 so cannot be \u001b[0m      \n",
       "\u001b[2;36m           \u001b[0m         \u001b[31mloaded!. Skipping\u001b[0m                                                                              \n"
      ]
     },
     "metadata": {},
     "output_type": "display_data"
    },
    {
     "data": {
      "text/html": [
       "<pre style=\"white-space:pre;overflow-x:auto;line-height:normal;font-family:Menlo,'DejaVu Sans Mono',consolas,'Courier New',monospace\"><span style=\"color: #7fbfbf; text-decoration-color: #7fbfbf\">           </span><span style=\"color: #800000; text-decoration-color: #800000; font-weight: bold\">ERROR   </span> <span style=\"color: #800000; text-decoration-color: #800000\">Error loading slide /mnt/d/Digital_path/DIG_PAT_1710624889.tif: Error loading slide </span>           \n",
       "<span style=\"color: #7fbfbf; text-decoration-color: #7fbfbf\">           </span>         <span style=\"color: #800000; text-decoration-color: #800000\">DIG_PAT_1710624889: This format has more than one image with Subfile Type 0 so cannot be </span>      \n",
       "<span style=\"color: #7fbfbf; text-decoration-color: #7fbfbf\">           </span>         <span style=\"color: #800000; text-decoration-color: #800000\">loaded!. Skipping</span>                                                                              \n",
       "</pre>\n"
      ],
      "text/plain": [
       "\u001b[2;36m          \u001b[0m\u001b[2;36m \u001b[0m\u001b[1;31mERROR   \u001b[0m \u001b[31mError loading slide /mnt/d/Digital_path/DIG_PAT_1710624889.tif: Error loading slide \u001b[0m           \n",
       "\u001b[2;36m           \u001b[0m         \u001b[31mDIG_PAT_1710624889: This format has more than one image with Subfile Type 0 so cannot be \u001b[0m      \n",
       "\u001b[2;36m           \u001b[0m         \u001b[31mloaded!. Skipping\u001b[0m                                                                              \n"
      ]
     },
     "metadata": {},
     "output_type": "display_data"
    },
    {
     "data": {
      "text/html": [
       "<pre style=\"white-space:pre;overflow-x:auto;line-height:normal;font-family:Menlo,'DejaVu Sans Mono',consolas,'Courier New',monospace\"><span style=\"color: #7fbfbf; text-decoration-color: #7fbfbf\">           </span><span style=\"color: #800000; text-decoration-color: #800000; font-weight: bold\">ERROR   </span> <span style=\"color: #800000; text-decoration-color: #800000\">Slide /mnt/d/Digital_path/DIG_PAT_1727361684.ndpi has type NDPI, which is incompatible with the</span>\n",
       "<span style=\"color: #7fbfbf; text-decoration-color: #7fbfbf\">           </span>         <span style=\"color: #800000; text-decoration-color: #800000\">active slide reading backend, cucim. Consider using a different backend, which can be set with </span>\n",
       "<span style=\"color: #7fbfbf; text-decoration-color: #7fbfbf\">           </span>         <span style=\"color: #800000; text-decoration-color: #800000\">the environmental variable SF_SLIDE_BACKEND. See </span>                                              \n",
       "<span style=\"color: #7fbfbf; text-decoration-color: #7fbfbf\">           </span>         <span style=\"color: #800000; text-decoration-color: #800000\">https://slideflow.dev/installation/#cucim-vs-libvips for more information.</span>                     \n",
       "</pre>\n"
      ],
      "text/plain": [
       "\u001b[2;36m          \u001b[0m\u001b[2;36m \u001b[0m\u001b[1;31mERROR   \u001b[0m \u001b[31mSlide /mnt/d/Digital_path/DIG_PAT_1727361684.ndpi has type NDPI, which is incompatible with the\u001b[0m\n",
       "\u001b[2;36m           \u001b[0m         \u001b[31mactive slide reading backend, cucim. Consider using a different backend, which can be set with \u001b[0m\n",
       "\u001b[2;36m           \u001b[0m         \u001b[31mthe environmental variable SF_SLIDE_BACKEND. See \u001b[0m                                              \n",
       "\u001b[2;36m           \u001b[0m         \u001b[31mhttps://slideflow.dev/installation/#cucim-vs-libvips for more information.\u001b[0m                     \n"
      ]
     },
     "metadata": {},
     "output_type": "display_data"
    },
    {
     "data": {
      "text/html": [
       "<pre style=\"white-space:pre;overflow-x:auto;line-height:normal;font-family:Menlo,'DejaVu Sans Mono',consolas,'Courier New',monospace\"><span style=\"color: #7fbfbf; text-decoration-color: #7fbfbf\">           </span><span style=\"color: #800000; text-decoration-color: #800000; font-weight: bold\">ERROR   </span> <span style=\"color: #800000; text-decoration-color: #800000\">Slide /mnt/d/Digital_path/DIG_PAT_1727361538.ndpi has type NDPI, which is incompatible with the</span>\n",
       "<span style=\"color: #7fbfbf; text-decoration-color: #7fbfbf\">           </span>         <span style=\"color: #800000; text-decoration-color: #800000\">active slide reading backend, cucim. Consider using a different backend, which can be set with </span>\n",
       "<span style=\"color: #7fbfbf; text-decoration-color: #7fbfbf\">           </span>         <span style=\"color: #800000; text-decoration-color: #800000\">the environmental variable SF_SLIDE_BACKEND. See </span>                                              \n",
       "<span style=\"color: #7fbfbf; text-decoration-color: #7fbfbf\">           </span>         <span style=\"color: #800000; text-decoration-color: #800000\">https://slideflow.dev/installation/#cucim-vs-libvips for more information.</span>                     \n",
       "</pre>\n"
      ],
      "text/plain": [
       "\u001b[2;36m          \u001b[0m\u001b[2;36m \u001b[0m\u001b[1;31mERROR   \u001b[0m \u001b[31mSlide /mnt/d/Digital_path/DIG_PAT_1727361538.ndpi has type NDPI, which is incompatible with the\u001b[0m\n",
       "\u001b[2;36m           \u001b[0m         \u001b[31mactive slide reading backend, cucim. Consider using a different backend, which can be set with \u001b[0m\n",
       "\u001b[2;36m           \u001b[0m         \u001b[31mthe environmental variable SF_SLIDE_BACKEND. See \u001b[0m                                              \n",
       "\u001b[2;36m           \u001b[0m         \u001b[31mhttps://slideflow.dev/installation/#cucim-vs-libvips for more information.\u001b[0m                     \n"
      ]
     },
     "metadata": {},
     "output_type": "display_data"
    },
    {
     "data": {
      "text/html": [
       "<pre style=\"white-space:pre;overflow-x:auto;line-height:normal;font-family:Menlo,'DejaVu Sans Mono',consolas,'Courier New',monospace\"><span style=\"color: #7fbfbf; text-decoration-color: #7fbfbf\">           </span><span style=\"color: #800000; text-decoration-color: #800000; font-weight: bold\">ERROR   </span> <span style=\"color: #800000; text-decoration-color: #800000\">Slide /mnt/d/Digital_path/DIG_PAT_1727360525.ndpi has type NDPI, which is incompatible with the</span>\n",
       "<span style=\"color: #7fbfbf; text-decoration-color: #7fbfbf\">           </span>         <span style=\"color: #800000; text-decoration-color: #800000\">active slide reading backend, cucim. Consider using a different backend, which can be set with </span>\n",
       "<span style=\"color: #7fbfbf; text-decoration-color: #7fbfbf\">           </span>         <span style=\"color: #800000; text-decoration-color: #800000\">the environmental variable SF_SLIDE_BACKEND. See </span>                                              \n",
       "<span style=\"color: #7fbfbf; text-decoration-color: #7fbfbf\">           </span>         <span style=\"color: #800000; text-decoration-color: #800000\">https://slideflow.dev/installation/#cucim-vs-libvips for more information.</span>                     \n",
       "</pre>\n"
      ],
      "text/plain": [
       "\u001b[2;36m          \u001b[0m\u001b[2;36m \u001b[0m\u001b[1;31mERROR   \u001b[0m \u001b[31mSlide /mnt/d/Digital_path/DIG_PAT_1727360525.ndpi has type NDPI, which is incompatible with the\u001b[0m\n",
       "\u001b[2;36m           \u001b[0m         \u001b[31mactive slide reading backend, cucim. Consider using a different backend, which can be set with \u001b[0m\n",
       "\u001b[2;36m           \u001b[0m         \u001b[31mthe environmental variable SF_SLIDE_BACKEND. See \u001b[0m                                              \n",
       "\u001b[2;36m           \u001b[0m         \u001b[31mhttps://slideflow.dev/installation/#cucim-vs-libvips for more information.\u001b[0m                     \n"
      ]
     },
     "metadata": {},
     "output_type": "display_data"
    },
    {
     "data": {
      "text/html": [
       "<pre style=\"white-space:pre;overflow-x:auto;line-height:normal;font-family:Menlo,'DejaVu Sans Mono',consolas,'Courier New',monospace\"><span style=\"color: #7fbfbf; text-decoration-color: #7fbfbf\">           </span><span style=\"color: #800000; text-decoration-color: #800000; font-weight: bold\">ERROR   </span> <span style=\"color: #800000; text-decoration-color: #800000\">Slide /mnt/d/Digital_path/DIG_PAT_1727361381.ndpi has type NDPI, which is incompatible with the</span>\n",
       "<span style=\"color: #7fbfbf; text-decoration-color: #7fbfbf\">           </span>         <span style=\"color: #800000; text-decoration-color: #800000\">active slide reading backend, cucim. Consider using a different backend, which can be set with </span>\n",
       "<span style=\"color: #7fbfbf; text-decoration-color: #7fbfbf\">           </span>         <span style=\"color: #800000; text-decoration-color: #800000\">the environmental variable SF_SLIDE_BACKEND. See </span>                                              \n",
       "<span style=\"color: #7fbfbf; text-decoration-color: #7fbfbf\">           </span>         <span style=\"color: #800000; text-decoration-color: #800000\">https://slideflow.dev/installation/#cucim-vs-libvips for more information.</span>                     \n",
       "</pre>\n"
      ],
      "text/plain": [
       "\u001b[2;36m          \u001b[0m\u001b[2;36m \u001b[0m\u001b[1;31mERROR   \u001b[0m \u001b[31mSlide /mnt/d/Digital_path/DIG_PAT_1727361381.ndpi has type NDPI, which is incompatible with the\u001b[0m\n",
       "\u001b[2;36m           \u001b[0m         \u001b[31mactive slide reading backend, cucim. Consider using a different backend, which can be set with \u001b[0m\n",
       "\u001b[2;36m           \u001b[0m         \u001b[31mthe environmental variable SF_SLIDE_BACKEND. See \u001b[0m                                              \n",
       "\u001b[2;36m           \u001b[0m         \u001b[31mhttps://slideflow.dev/installation/#cucim-vs-libvips for more information.\u001b[0m                     \n"
      ]
     },
     "metadata": {},
     "output_type": "display_data"
    },
    {
     "data": {
      "text/html": [
       "<pre style=\"white-space:pre;overflow-x:auto;line-height:normal;font-family:Menlo,'DejaVu Sans Mono',consolas,'Courier New',monospace\"><span style=\"color: #7fbfbf; text-decoration-color: #7fbfbf\">           </span><span style=\"color: #800000; text-decoration-color: #800000; font-weight: bold\">ERROR   </span> <span style=\"color: #800000; text-decoration-color: #800000\">Error loading slide /mnt/d/Digital_path/DIG_PAT_1699903753.tif: Error loading slide </span>           \n",
       "<span style=\"color: #7fbfbf; text-decoration-color: #7fbfbf\">           </span>         <span style=\"color: #800000; text-decoration-color: #800000\">DIG_PAT_1699903753: This format has more than one image with Subfile Type 0 so cannot be </span>      \n",
       "<span style=\"color: #7fbfbf; text-decoration-color: #7fbfbf\">           </span>         <span style=\"color: #800000; text-decoration-color: #800000\">loaded!. Skipping</span>                                                                              \n",
       "</pre>\n"
      ],
      "text/plain": [
       "\u001b[2;36m          \u001b[0m\u001b[2;36m \u001b[0m\u001b[1;31mERROR   \u001b[0m \u001b[31mError loading slide /mnt/d/Digital_path/DIG_PAT_1699903753.tif: Error loading slide \u001b[0m           \n",
       "\u001b[2;36m           \u001b[0m         \u001b[31mDIG_PAT_1699903753: This format has more than one image with Subfile Type 0 so cannot be \u001b[0m      \n",
       "\u001b[2;36m           \u001b[0m         \u001b[31mloaded!. Skipping\u001b[0m                                                                              \n"
      ]
     },
     "metadata": {},
     "output_type": "display_data"
    },
    {
     "data": {
      "text/html": [
       "<pre style=\"white-space:pre;overflow-x:auto;line-height:normal;font-family:Menlo,'DejaVu Sans Mono',consolas,'Courier New',monospace\"><span style=\"color: #7fbfbf; text-decoration-color: #7fbfbf\">           </span><span style=\"color: #800000; text-decoration-color: #800000; font-weight: bold\">ERROR   </span> <span style=\"color: #800000; text-decoration-color: #800000\">Slide /mnt/d/Digital_path/DIG_PAT_1727363166.ndpi has type NDPI, which is incompatible with the</span>\n",
       "<span style=\"color: #7fbfbf; text-decoration-color: #7fbfbf\">           </span>         <span style=\"color: #800000; text-decoration-color: #800000\">active slide reading backend, cucim. Consider using a different backend, which can be set with </span>\n",
       "<span style=\"color: #7fbfbf; text-decoration-color: #7fbfbf\">           </span>         <span style=\"color: #800000; text-decoration-color: #800000\">the environmental variable SF_SLIDE_BACKEND. See </span>                                              \n",
       "<span style=\"color: #7fbfbf; text-decoration-color: #7fbfbf\">           </span>         <span style=\"color: #800000; text-decoration-color: #800000\">https://slideflow.dev/installation/#cucim-vs-libvips for more information.</span>                     \n",
       "</pre>\n"
      ],
      "text/plain": [
       "\u001b[2;36m          \u001b[0m\u001b[2;36m \u001b[0m\u001b[1;31mERROR   \u001b[0m \u001b[31mSlide /mnt/d/Digital_path/DIG_PAT_1727363166.ndpi has type NDPI, which is incompatible with the\u001b[0m\n",
       "\u001b[2;36m           \u001b[0m         \u001b[31mactive slide reading backend, cucim. Consider using a different backend, which can be set with \u001b[0m\n",
       "\u001b[2;36m           \u001b[0m         \u001b[31mthe environmental variable SF_SLIDE_BACKEND. See \u001b[0m                                              \n",
       "\u001b[2;36m           \u001b[0m         \u001b[31mhttps://slideflow.dev/installation/#cucim-vs-libvips for more information.\u001b[0m                     \n"
      ]
     },
     "metadata": {},
     "output_type": "display_data"
    },
    {
     "data": {
      "text/html": [
       "<pre style=\"white-space:pre;overflow-x:auto;line-height:normal;font-family:Menlo,'DejaVu Sans Mono',consolas,'Courier New',monospace\"><span style=\"color: #7fbfbf; text-decoration-color: #7fbfbf\">           </span><span style=\"color: #800000; text-decoration-color: #800000; font-weight: bold\">ERROR   </span> <span style=\"color: #800000; text-decoration-color: #800000\">Error loading slide /mnt/d/Digital_path/DIG_PAT_1701118870.tif: Error loading slide </span>           \n",
       "<span style=\"color: #7fbfbf; text-decoration-color: #7fbfbf\">           </span>         <span style=\"color: #800000; text-decoration-color: #800000\">DIG_PAT_1701118870: This format has more than one image with Subfile Type 0 so cannot be </span>      \n",
       "<span style=\"color: #7fbfbf; text-decoration-color: #7fbfbf\">           </span>         <span style=\"color: #800000; text-decoration-color: #800000\">loaded!. Skipping</span>                                                                              \n",
       "</pre>\n"
      ],
      "text/plain": [
       "\u001b[2;36m          \u001b[0m\u001b[2;36m \u001b[0m\u001b[1;31mERROR   \u001b[0m \u001b[31mError loading slide /mnt/d/Digital_path/DIG_PAT_1701118870.tif: Error loading slide \u001b[0m           \n",
       "\u001b[2;36m           \u001b[0m         \u001b[31mDIG_PAT_1701118870: This format has more than one image with Subfile Type 0 so cannot be \u001b[0m      \n",
       "\u001b[2;36m           \u001b[0m         \u001b[31mloaded!. Skipping\u001b[0m                                                                              \n"
      ]
     },
     "metadata": {},
     "output_type": "display_data"
    },
    {
     "data": {
      "text/html": [
       "<pre style=\"white-space:pre;overflow-x:auto;line-height:normal;font-family:Menlo,'DejaVu Sans Mono',consolas,'Courier New',monospace\"><span style=\"color: #7fbfbf; text-decoration-color: #7fbfbf\">           </span><span style=\"color: #800000; text-decoration-color: #800000; font-weight: bold\">ERROR   </span> <span style=\"color: #800000; text-decoration-color: #800000\">Slide /mnt/d/Digital_path/DIG_PAT_1727362596.ndpi has type NDPI, which is incompatible with the</span>\n",
       "<span style=\"color: #7fbfbf; text-decoration-color: #7fbfbf\">           </span>         <span style=\"color: #800000; text-decoration-color: #800000\">active slide reading backend, cucim. Consider using a different backend, which can be set with </span>\n",
       "<span style=\"color: #7fbfbf; text-decoration-color: #7fbfbf\">           </span>         <span style=\"color: #800000; text-decoration-color: #800000\">the environmental variable SF_SLIDE_BACKEND. See </span>                                              \n",
       "<span style=\"color: #7fbfbf; text-decoration-color: #7fbfbf\">           </span>         <span style=\"color: #800000; text-decoration-color: #800000\">https://slideflow.dev/installation/#cucim-vs-libvips for more information.</span>                     \n",
       "</pre>\n"
      ],
      "text/plain": [
       "\u001b[2;36m          \u001b[0m\u001b[2;36m \u001b[0m\u001b[1;31mERROR   \u001b[0m \u001b[31mSlide /mnt/d/Digital_path/DIG_PAT_1727362596.ndpi has type NDPI, which is incompatible with the\u001b[0m\n",
       "\u001b[2;36m           \u001b[0m         \u001b[31mactive slide reading backend, cucim. Consider using a different backend, which can be set with \u001b[0m\n",
       "\u001b[2;36m           \u001b[0m         \u001b[31mthe environmental variable SF_SLIDE_BACKEND. See \u001b[0m                                              \n",
       "\u001b[2;36m           \u001b[0m         \u001b[31mhttps://slideflow.dev/installation/#cucim-vs-libvips for more information.\u001b[0m                     \n"
      ]
     },
     "metadata": {},
     "output_type": "display_data"
    },
    {
     "data": {
      "text/html": [
       "<pre style=\"white-space:pre;overflow-x:auto;line-height:normal;font-family:Menlo,'DejaVu Sans Mono',consolas,'Courier New',monospace\"><span style=\"color: #7fbfbf; text-decoration-color: #7fbfbf\">           </span><span style=\"color: #800000; text-decoration-color: #800000; font-weight: bold\">ERROR   </span> <span style=\"color: #800000; text-decoration-color: #800000\">Error loading slide /mnt/d/Digital_path/DIG_PAT_1701378483.tif: Error loading slide </span>           \n",
       "<span style=\"color: #7fbfbf; text-decoration-color: #7fbfbf\">           </span>         <span style=\"color: #800000; text-decoration-color: #800000\">DIG_PAT_1701378483: This format has more than one image with Subfile Type 0 so cannot be </span>      \n",
       "<span style=\"color: #7fbfbf; text-decoration-color: #7fbfbf\">           </span>         <span style=\"color: #800000; text-decoration-color: #800000\">loaded!. Skipping</span>                                                                              \n",
       "</pre>\n"
      ],
      "text/plain": [
       "\u001b[2;36m          \u001b[0m\u001b[2;36m \u001b[0m\u001b[1;31mERROR   \u001b[0m \u001b[31mError loading slide /mnt/d/Digital_path/DIG_PAT_1701378483.tif: Error loading slide \u001b[0m           \n",
       "\u001b[2;36m           \u001b[0m         \u001b[31mDIG_PAT_1701378483: This format has more than one image with Subfile Type 0 so cannot be \u001b[0m      \n",
       "\u001b[2;36m           \u001b[0m         \u001b[31mloaded!. Skipping\u001b[0m                                                                              \n"
      ]
     },
     "metadata": {},
     "output_type": "display_data"
    },
    {
     "data": {
      "text/html": [
       "<pre style=\"white-space:pre;overflow-x:auto;line-height:normal;font-family:Menlo,'DejaVu Sans Mono',consolas,'Courier New',monospace\"><span style=\"color: #7fbfbf; text-decoration-color: #7fbfbf\">           </span><span style=\"color: #800000; text-decoration-color: #800000; font-weight: bold\">ERROR   </span> <span style=\"color: #800000; text-decoration-color: #800000\">Error loading slide /mnt/d/Digital_path/DIG_PAT_1701553007.tif: Error loading slide </span>           \n",
       "<span style=\"color: #7fbfbf; text-decoration-color: #7fbfbf\">           </span>         <span style=\"color: #800000; text-decoration-color: #800000\">DIG_PAT_1701553007: This format has more than one image with Subfile Type 0 so cannot be </span>      \n",
       "<span style=\"color: #7fbfbf; text-decoration-color: #7fbfbf\">           </span>         <span style=\"color: #800000; text-decoration-color: #800000\">loaded!. Skipping</span>                                                                              \n",
       "</pre>\n"
      ],
      "text/plain": [
       "\u001b[2;36m          \u001b[0m\u001b[2;36m \u001b[0m\u001b[1;31mERROR   \u001b[0m \u001b[31mError loading slide /mnt/d/Digital_path/DIG_PAT_1701553007.tif: Error loading slide \u001b[0m           \n",
       "\u001b[2;36m           \u001b[0m         \u001b[31mDIG_PAT_1701553007: This format has more than one image with Subfile Type 0 so cannot be \u001b[0m      \n",
       "\u001b[2;36m           \u001b[0m         \u001b[31mloaded!. Skipping\u001b[0m                                                                              \n"
      ]
     },
     "metadata": {},
     "output_type": "display_data"
    },
    {
     "data": {
      "text/html": [
       "<pre style=\"white-space:pre;overflow-x:auto;line-height:normal;font-family:Menlo,'DejaVu Sans Mono',consolas,'Courier New',monospace\"><span style=\"color: #7fbfbf; text-decoration-color: #7fbfbf\">           </span><span style=\"color: #800000; text-decoration-color: #800000; font-weight: bold\">ERROR   </span> <span style=\"color: #800000; text-decoration-color: #800000\">Error loading slide /mnt/d/Digital_path/DIG_PAT_1701212600.tif: Error loading slide </span>           \n",
       "<span style=\"color: #7fbfbf; text-decoration-color: #7fbfbf\">           </span>         <span style=\"color: #800000; text-decoration-color: #800000\">DIG_PAT_1701212600: This format has more than one image with Subfile Type 0 so cannot be </span>      \n",
       "<span style=\"color: #7fbfbf; text-decoration-color: #7fbfbf\">           </span>         <span style=\"color: #800000; text-decoration-color: #800000\">loaded!. Skipping</span>                                                                              \n",
       "</pre>\n"
      ],
      "text/plain": [
       "\u001b[2;36m          \u001b[0m\u001b[2;36m \u001b[0m\u001b[1;31mERROR   \u001b[0m \u001b[31mError loading slide /mnt/d/Digital_path/DIG_PAT_1701212600.tif: Error loading slide \u001b[0m           \n",
       "\u001b[2;36m           \u001b[0m         \u001b[31mDIG_PAT_1701212600: This format has more than one image with Subfile Type 0 so cannot be \u001b[0m      \n",
       "\u001b[2;36m           \u001b[0m         \u001b[31mloaded!. Skipping\u001b[0m                                                                              \n"
      ]
     },
     "metadata": {},
     "output_type": "display_data"
    },
    {
     "data": {
      "text/html": [
       "<pre style=\"white-space:pre;overflow-x:auto;line-height:normal;font-family:Menlo,'DejaVu Sans Mono',consolas,'Courier New',monospace\"><span style=\"color: #7fbfbf; text-decoration-color: #7fbfbf\">           </span><span style=\"color: #800000; text-decoration-color: #800000; font-weight: bold\">ERROR   </span> <span style=\"color: #800000; text-decoration-color: #800000\">Error loading slide /mnt/d/Digital_path/DIG_PAT_1701103654.tif: Error loading slide </span>           \n",
       "<span style=\"color: #7fbfbf; text-decoration-color: #7fbfbf\">           </span>         <span style=\"color: #800000; text-decoration-color: #800000\">DIG_PAT_1701103654: This format has more than one image with Subfile Type 0 so cannot be </span>      \n",
       "<span style=\"color: #7fbfbf; text-decoration-color: #7fbfbf\">           </span>         <span style=\"color: #800000; text-decoration-color: #800000\">loaded!. Skipping</span>                                                                              \n",
       "</pre>\n"
      ],
      "text/plain": [
       "\u001b[2;36m          \u001b[0m\u001b[2;36m \u001b[0m\u001b[1;31mERROR   \u001b[0m \u001b[31mError loading slide /mnt/d/Digital_path/DIG_PAT_1701103654.tif: Error loading slide \u001b[0m           \n",
       "\u001b[2;36m           \u001b[0m         \u001b[31mDIG_PAT_1701103654: This format has more than one image with Subfile Type 0 so cannot be \u001b[0m      \n",
       "\u001b[2;36m           \u001b[0m         \u001b[31mloaded!. Skipping\u001b[0m                                                                              \n"
      ]
     },
     "metadata": {},
     "output_type": "display_data"
    },
    {
     "data": {
      "text/html": [
       "<pre style=\"white-space:pre;overflow-x:auto;line-height:normal;font-family:Menlo,'DejaVu Sans Mono',consolas,'Courier New',monospace\"><span style=\"color: #7fbfbf; text-decoration-color: #7fbfbf\">           </span><span style=\"color: #800000; text-decoration-color: #800000; font-weight: bold\">ERROR   </span> <span style=\"color: #800000; text-decoration-color: #800000\">Slide /mnt/d/Digital_path/DIG_PAT_1727360214.ndpi has type NDPI, which is incompatible with the</span>\n",
       "<span style=\"color: #7fbfbf; text-decoration-color: #7fbfbf\">           </span>         <span style=\"color: #800000; text-decoration-color: #800000\">active slide reading backend, cucim. Consider using a different backend, which can be set with </span>\n",
       "<span style=\"color: #7fbfbf; text-decoration-color: #7fbfbf\">           </span>         <span style=\"color: #800000; text-decoration-color: #800000\">the environmental variable SF_SLIDE_BACKEND. See </span>                                              \n",
       "<span style=\"color: #7fbfbf; text-decoration-color: #7fbfbf\">           </span>         <span style=\"color: #800000; text-decoration-color: #800000\">https://slideflow.dev/installation/#cucim-vs-libvips for more information.</span>                     \n",
       "</pre>\n"
      ],
      "text/plain": [
       "\u001b[2;36m          \u001b[0m\u001b[2;36m \u001b[0m\u001b[1;31mERROR   \u001b[0m \u001b[31mSlide /mnt/d/Digital_path/DIG_PAT_1727360214.ndpi has type NDPI, which is incompatible with the\u001b[0m\n",
       "\u001b[2;36m           \u001b[0m         \u001b[31mactive slide reading backend, cucim. Consider using a different backend, which can be set with \u001b[0m\n",
       "\u001b[2;36m           \u001b[0m         \u001b[31mthe environmental variable SF_SLIDE_BACKEND. See \u001b[0m                                              \n",
       "\u001b[2;36m           \u001b[0m         \u001b[31mhttps://slideflow.dev/installation/#cucim-vs-libvips for more information.\u001b[0m                     \n"
      ]
     },
     "metadata": {},
     "output_type": "display_data"
    },
    {
     "data": {
      "text/html": [
       "<pre style=\"white-space:pre;overflow-x:auto;line-height:normal;font-family:Menlo,'DejaVu Sans Mono',consolas,'Courier New',monospace\"><span style=\"color: #7fbfbf; text-decoration-color: #7fbfbf\">           </span><span style=\"color: #800000; text-decoration-color: #800000; font-weight: bold\">ERROR   </span> <span style=\"color: #800000; text-decoration-color: #800000\">Error loading slide /mnt/d/Digital_path/DIG_PAT_1701602838.tif: Error loading slide </span>           \n",
       "<span style=\"color: #7fbfbf; text-decoration-color: #7fbfbf\">           </span>         <span style=\"color: #800000; text-decoration-color: #800000\">DIG_PAT_1701602838: This format has more than one image with Subfile Type 0 so cannot be </span>      \n",
       "<span style=\"color: #7fbfbf; text-decoration-color: #7fbfbf\">           </span>         <span style=\"color: #800000; text-decoration-color: #800000\">loaded!. Skipping</span>                                                                              \n",
       "</pre>\n"
      ],
      "text/plain": [
       "\u001b[2;36m          \u001b[0m\u001b[2;36m \u001b[0m\u001b[1;31mERROR   \u001b[0m \u001b[31mError loading slide /mnt/d/Digital_path/DIG_PAT_1701602838.tif: Error loading slide \u001b[0m           \n",
       "\u001b[2;36m           \u001b[0m         \u001b[31mDIG_PAT_1701602838: This format has more than one image with Subfile Type 0 so cannot be \u001b[0m      \n",
       "\u001b[2;36m           \u001b[0m         \u001b[31mloaded!. Skipping\u001b[0m                                                                              \n"
      ]
     },
     "metadata": {},
     "output_type": "display_data"
    },
    {
     "data": {
      "text/html": [
       "<pre style=\"white-space:pre;overflow-x:auto;line-height:normal;font-family:Menlo,'DejaVu Sans Mono',consolas,'Courier New',monospace\"><span style=\"color: #7fbfbf; text-decoration-color: #7fbfbf\">           </span><span style=\"color: #800000; text-decoration-color: #800000; font-weight: bold\">ERROR   </span> <span style=\"color: #800000; text-decoration-color: #800000\">Slide /mnt/d/Digital_path/DIG_PAT_1727361005.ndpi has type NDPI, which is incompatible with the</span>\n",
       "<span style=\"color: #7fbfbf; text-decoration-color: #7fbfbf\">           </span>         <span style=\"color: #800000; text-decoration-color: #800000\">active slide reading backend, cucim. Consider using a different backend, which can be set with </span>\n",
       "<span style=\"color: #7fbfbf; text-decoration-color: #7fbfbf\">           </span>         <span style=\"color: #800000; text-decoration-color: #800000\">the environmental variable SF_SLIDE_BACKEND. See </span>                                              \n",
       "<span style=\"color: #7fbfbf; text-decoration-color: #7fbfbf\">           </span>         <span style=\"color: #800000; text-decoration-color: #800000\">https://slideflow.dev/installation/#cucim-vs-libvips for more information.</span>                     \n",
       "</pre>\n"
      ],
      "text/plain": [
       "\u001b[2;36m          \u001b[0m\u001b[2;36m \u001b[0m\u001b[1;31mERROR   \u001b[0m \u001b[31mSlide /mnt/d/Digital_path/DIG_PAT_1727361005.ndpi has type NDPI, which is incompatible with the\u001b[0m\n",
       "\u001b[2;36m           \u001b[0m         \u001b[31mactive slide reading backend, cucim. Consider using a different backend, which can be set with \u001b[0m\n",
       "\u001b[2;36m           \u001b[0m         \u001b[31mthe environmental variable SF_SLIDE_BACKEND. See \u001b[0m                                              \n",
       "\u001b[2;36m           \u001b[0m         \u001b[31mhttps://slideflow.dev/installation/#cucim-vs-libvips for more information.\u001b[0m                     \n"
      ]
     },
     "metadata": {},
     "output_type": "display_data"
    },
    {
     "data": {
      "text/html": [
       "<pre style=\"white-space:pre;overflow-x:auto;line-height:normal;font-family:Menlo,'DejaVu Sans Mono',consolas,'Courier New',monospace\"><span style=\"color: #7fbfbf; text-decoration-color: #7fbfbf\">           </span><span style=\"color: #800000; text-decoration-color: #800000; font-weight: bold\">ERROR   </span> <span style=\"color: #800000; text-decoration-color: #800000\">Error loading slide /mnt/d/Digital_path/DIG_PAT_1710623041.tif: Error loading slide </span>           \n",
       "<span style=\"color: #7fbfbf; text-decoration-color: #7fbfbf\">           </span>         <span style=\"color: #800000; text-decoration-color: #800000\">DIG_PAT_1710623041: This format has more than one image with Subfile Type 0 so cannot be </span>      \n",
       "<span style=\"color: #7fbfbf; text-decoration-color: #7fbfbf\">           </span>         <span style=\"color: #800000; text-decoration-color: #800000\">loaded!. Skipping</span>                                                                              \n",
       "</pre>\n"
      ],
      "text/plain": [
       "\u001b[2;36m          \u001b[0m\u001b[2;36m \u001b[0m\u001b[1;31mERROR   \u001b[0m \u001b[31mError loading slide /mnt/d/Digital_path/DIG_PAT_1710623041.tif: Error loading slide \u001b[0m           \n",
       "\u001b[2;36m           \u001b[0m         \u001b[31mDIG_PAT_1710623041: This format has more than one image with Subfile Type 0 so cannot be \u001b[0m      \n",
       "\u001b[2;36m           \u001b[0m         \u001b[31mloaded!. Skipping\u001b[0m                                                                              \n"
      ]
     },
     "metadata": {},
     "output_type": "display_data"
    },
    {
     "data": {
      "text/html": [
       "<pre style=\"white-space:pre;overflow-x:auto;line-height:normal;font-family:Menlo,'DejaVu Sans Mono',consolas,'Courier New',monospace\"><span style=\"color: #7fbfbf; text-decoration-color: #7fbfbf\">           </span><span style=\"color: #800000; text-decoration-color: #800000; font-weight: bold\">ERROR   </span> <span style=\"color: #800000; text-decoration-color: #800000\">Error loading slide /mnt/d/Digital_path/DIG_PAT_1701554423.tif: Error loading slide </span>           \n",
       "<span style=\"color: #7fbfbf; text-decoration-color: #7fbfbf\">           </span>         <span style=\"color: #800000; text-decoration-color: #800000\">DIG_PAT_1701554423: This format has more than one image with Subfile Type 0 so cannot be </span>      \n",
       "<span style=\"color: #7fbfbf; text-decoration-color: #7fbfbf\">           </span>         <span style=\"color: #800000; text-decoration-color: #800000\">loaded!. Skipping</span>                                                                              \n",
       "</pre>\n"
      ],
      "text/plain": [
       "\u001b[2;36m          \u001b[0m\u001b[2;36m \u001b[0m\u001b[1;31mERROR   \u001b[0m \u001b[31mError loading slide /mnt/d/Digital_path/DIG_PAT_1701554423.tif: Error loading slide \u001b[0m           \n",
       "\u001b[2;36m           \u001b[0m         \u001b[31mDIG_PAT_1701554423: This format has more than one image with Subfile Type 0 so cannot be \u001b[0m      \n",
       "\u001b[2;36m           \u001b[0m         \u001b[31mloaded!. Skipping\u001b[0m                                                                              \n"
      ]
     },
     "metadata": {},
     "output_type": "display_data"
    },
    {
     "data": {
      "text/html": [
       "<pre style=\"white-space:pre;overflow-x:auto;line-height:normal;font-family:Menlo,'DejaVu Sans Mono',consolas,'Courier New',monospace\"><span style=\"color: #7fbfbf; text-decoration-color: #7fbfbf\">           </span><span style=\"color: #800000; text-decoration-color: #800000; font-weight: bold\">ERROR   </span> <span style=\"color: #800000; text-decoration-color: #800000\">Error loading slide /mnt/d/Digital_path/DIG_PAT_1701375606.tif: Error loading slide </span>           \n",
       "<span style=\"color: #7fbfbf; text-decoration-color: #7fbfbf\">           </span>         <span style=\"color: #800000; text-decoration-color: #800000\">DIG_PAT_1701375606: This format has more than one image with Subfile Type 0 so cannot be </span>      \n",
       "<span style=\"color: #7fbfbf; text-decoration-color: #7fbfbf\">           </span>         <span style=\"color: #800000; text-decoration-color: #800000\">loaded!. Skipping</span>                                                                              \n",
       "</pre>\n"
      ],
      "text/plain": [
       "\u001b[2;36m          \u001b[0m\u001b[2;36m \u001b[0m\u001b[1;31mERROR   \u001b[0m \u001b[31mError loading slide /mnt/d/Digital_path/DIG_PAT_1701375606.tif: Error loading slide \u001b[0m           \n",
       "\u001b[2;36m           \u001b[0m         \u001b[31mDIG_PAT_1701375606: This format has more than one image with Subfile Type 0 so cannot be \u001b[0m      \n",
       "\u001b[2;36m           \u001b[0m         \u001b[31mloaded!. Skipping\u001b[0m                                                                              \n"
      ]
     },
     "metadata": {},
     "output_type": "display_data"
    },
    {
     "data": {
      "text/html": [
       "<pre style=\"white-space:pre;overflow-x:auto;line-height:normal;font-family:Menlo,'DejaVu Sans Mono',consolas,'Courier New',monospace\"><span style=\"color: #7fbfbf; text-decoration-color: #7fbfbf\">           </span><span style=\"color: #800000; text-decoration-color: #800000; font-weight: bold\">ERROR   </span> <span style=\"color: #800000; text-decoration-color: #800000\">Error loading slide /mnt/d/Digital_path/DIG_PAT_1701600296.tif: Error loading slide </span>           \n",
       "<span style=\"color: #7fbfbf; text-decoration-color: #7fbfbf\">           </span>         <span style=\"color: #800000; text-decoration-color: #800000\">DIG_PAT_1701600296: This format has more than one image with Subfile Type 0 so cannot be </span>      \n",
       "<span style=\"color: #7fbfbf; text-decoration-color: #7fbfbf\">           </span>         <span style=\"color: #800000; text-decoration-color: #800000\">loaded!. Skipping</span>                                                                              \n",
       "</pre>\n"
      ],
      "text/plain": [
       "\u001b[2;36m          \u001b[0m\u001b[2;36m \u001b[0m\u001b[1;31mERROR   \u001b[0m \u001b[31mError loading slide /mnt/d/Digital_path/DIG_PAT_1701600296.tif: Error loading slide \u001b[0m           \n",
       "\u001b[2;36m           \u001b[0m         \u001b[31mDIG_PAT_1701600296: This format has more than one image with Subfile Type 0 so cannot be \u001b[0m      \n",
       "\u001b[2;36m           \u001b[0m         \u001b[31mloaded!. Skipping\u001b[0m                                                                              \n"
      ]
     },
     "metadata": {},
     "output_type": "display_data"
    },
    {
     "data": {
      "text/html": [
       "<pre style=\"white-space:pre;overflow-x:auto;line-height:normal;font-family:Menlo,'DejaVu Sans Mono',consolas,'Courier New',monospace\"><span style=\"color: #7fbfbf; text-decoration-color: #7fbfbf\">           </span><span style=\"color: #800000; text-decoration-color: #800000; font-weight: bold\">ERROR   </span> <span style=\"color: #800000; text-decoration-color: #800000\">Slide /mnt/d/Digital_path/DIG_PAT_1727359476.ndpi has type NDPI, which is incompatible with the</span>\n",
       "<span style=\"color: #7fbfbf; text-decoration-color: #7fbfbf\">           </span>         <span style=\"color: #800000; text-decoration-color: #800000\">active slide reading backend, cucim. Consider using a different backend, which can be set with </span>\n",
       "<span style=\"color: #7fbfbf; text-decoration-color: #7fbfbf\">           </span>         <span style=\"color: #800000; text-decoration-color: #800000\">the environmental variable SF_SLIDE_BACKEND. See </span>                                              \n",
       "<span style=\"color: #7fbfbf; text-decoration-color: #7fbfbf\">           </span>         <span style=\"color: #800000; text-decoration-color: #800000\">https://slideflow.dev/installation/#cucim-vs-libvips for more information.</span>                     \n",
       "</pre>\n"
      ],
      "text/plain": [
       "\u001b[2;36m          \u001b[0m\u001b[2;36m \u001b[0m\u001b[1;31mERROR   \u001b[0m \u001b[31mSlide /mnt/d/Digital_path/DIG_PAT_1727359476.ndpi has type NDPI, which is incompatible with the\u001b[0m\n",
       "\u001b[2;36m           \u001b[0m         \u001b[31mactive slide reading backend, cucim. Consider using a different backend, which can be set with \u001b[0m\n",
       "\u001b[2;36m           \u001b[0m         \u001b[31mthe environmental variable SF_SLIDE_BACKEND. See \u001b[0m                                              \n",
       "\u001b[2;36m           \u001b[0m         \u001b[31mhttps://slideflow.dev/installation/#cucim-vs-libvips for more information.\u001b[0m                     \n"
      ]
     },
     "metadata": {},
     "output_type": "display_data"
    },
    {
     "data": {
      "text/html": [
       "<pre style=\"white-space:pre;overflow-x:auto;line-height:normal;font-family:Menlo,'DejaVu Sans Mono',consolas,'Courier New',monospace\"><span style=\"color: #7fbfbf; text-decoration-color: #7fbfbf\">           </span><span style=\"color: #800000; text-decoration-color: #800000; font-weight: bold\">ERROR   </span> <span style=\"color: #800000; text-decoration-color: #800000\">Slide /mnt/d/Digital_path/DIG_PAT_1727361274.ndpi has type NDPI, which is incompatible with the</span>\n",
       "<span style=\"color: #7fbfbf; text-decoration-color: #7fbfbf\">           </span>         <span style=\"color: #800000; text-decoration-color: #800000\">active slide reading backend, cucim. Consider using a different backend, which can be set with </span>\n",
       "<span style=\"color: #7fbfbf; text-decoration-color: #7fbfbf\">           </span>         <span style=\"color: #800000; text-decoration-color: #800000\">the environmental variable SF_SLIDE_BACKEND. See </span>                                              \n",
       "<span style=\"color: #7fbfbf; text-decoration-color: #7fbfbf\">           </span>         <span style=\"color: #800000; text-decoration-color: #800000\">https://slideflow.dev/installation/#cucim-vs-libvips for more information.</span>                     \n",
       "</pre>\n"
      ],
      "text/plain": [
       "\u001b[2;36m          \u001b[0m\u001b[2;36m \u001b[0m\u001b[1;31mERROR   \u001b[0m \u001b[31mSlide /mnt/d/Digital_path/DIG_PAT_1727361274.ndpi has type NDPI, which is incompatible with the\u001b[0m\n",
       "\u001b[2;36m           \u001b[0m         \u001b[31mactive slide reading backend, cucim. Consider using a different backend, which can be set with \u001b[0m\n",
       "\u001b[2;36m           \u001b[0m         \u001b[31mthe environmental variable SF_SLIDE_BACKEND. See \u001b[0m                                              \n",
       "\u001b[2;36m           \u001b[0m         \u001b[31mhttps://slideflow.dev/installation/#cucim-vs-libvips for more information.\u001b[0m                     \n"
      ]
     },
     "metadata": {},
     "output_type": "display_data"
    },
    {
     "data": {
      "text/html": [
       "<pre style=\"white-space:pre;overflow-x:auto;line-height:normal;font-family:Menlo,'DejaVu Sans Mono',consolas,'Courier New',monospace\"><span style=\"color: #7fbfbf; text-decoration-color: #7fbfbf\">           </span><span style=\"color: #800000; text-decoration-color: #800000; font-weight: bold\">ERROR   </span> <span style=\"color: #800000; text-decoration-color: #800000\">Slide /mnt/d/Digital_path/DIG_PAT_1727362617.ndpi has type NDPI, which is incompatible with the</span>\n",
       "<span style=\"color: #7fbfbf; text-decoration-color: #7fbfbf\">           </span>         <span style=\"color: #800000; text-decoration-color: #800000\">active slide reading backend, cucim. Consider using a different backend, which can be set with </span>\n",
       "<span style=\"color: #7fbfbf; text-decoration-color: #7fbfbf\">           </span>         <span style=\"color: #800000; text-decoration-color: #800000\">the environmental variable SF_SLIDE_BACKEND. See </span>                                              \n",
       "<span style=\"color: #7fbfbf; text-decoration-color: #7fbfbf\">           </span>         <span style=\"color: #800000; text-decoration-color: #800000\">https://slideflow.dev/installation/#cucim-vs-libvips for more information.</span>                     \n",
       "</pre>\n"
      ],
      "text/plain": [
       "\u001b[2;36m          \u001b[0m\u001b[2;36m \u001b[0m\u001b[1;31mERROR   \u001b[0m \u001b[31mSlide /mnt/d/Digital_path/DIG_PAT_1727362617.ndpi has type NDPI, which is incompatible with the\u001b[0m\n",
       "\u001b[2;36m           \u001b[0m         \u001b[31mactive slide reading backend, cucim. Consider using a different backend, which can be set with \u001b[0m\n",
       "\u001b[2;36m           \u001b[0m         \u001b[31mthe environmental variable SF_SLIDE_BACKEND. See \u001b[0m                                              \n",
       "\u001b[2;36m           \u001b[0m         \u001b[31mhttps://slideflow.dev/installation/#cucim-vs-libvips for more information.\u001b[0m                     \n"
      ]
     },
     "metadata": {},
     "output_type": "display_data"
    },
    {
     "data": {
      "text/html": [
       "<pre style=\"white-space:pre;overflow-x:auto;line-height:normal;font-family:Menlo,'DejaVu Sans Mono',consolas,'Courier New',monospace\"><span style=\"color: #7fbfbf; text-decoration-color: #7fbfbf\">           </span><span style=\"color: #800000; text-decoration-color: #800000; font-weight: bold\">ERROR   </span> <span style=\"color: #800000; text-decoration-color: #800000\">Slide /mnt/d/Digital_path/DIG_PAT_1727361105.ndpi has type NDPI, which is incompatible with the</span>\n",
       "<span style=\"color: #7fbfbf; text-decoration-color: #7fbfbf\">           </span>         <span style=\"color: #800000; text-decoration-color: #800000\">active slide reading backend, cucim. Consider using a different backend, which can be set with </span>\n",
       "<span style=\"color: #7fbfbf; text-decoration-color: #7fbfbf\">           </span>         <span style=\"color: #800000; text-decoration-color: #800000\">the environmental variable SF_SLIDE_BACKEND. See </span>                                              \n",
       "<span style=\"color: #7fbfbf; text-decoration-color: #7fbfbf\">           </span>         <span style=\"color: #800000; text-decoration-color: #800000\">https://slideflow.dev/installation/#cucim-vs-libvips for more information.</span>                     \n",
       "</pre>\n"
      ],
      "text/plain": [
       "\u001b[2;36m          \u001b[0m\u001b[2;36m \u001b[0m\u001b[1;31mERROR   \u001b[0m \u001b[31mSlide /mnt/d/Digital_path/DIG_PAT_1727361105.ndpi has type NDPI, which is incompatible with the\u001b[0m\n",
       "\u001b[2;36m           \u001b[0m         \u001b[31mactive slide reading backend, cucim. Consider using a different backend, which can be set with \u001b[0m\n",
       "\u001b[2;36m           \u001b[0m         \u001b[31mthe environmental variable SF_SLIDE_BACKEND. See \u001b[0m                                              \n",
       "\u001b[2;36m           \u001b[0m         \u001b[31mhttps://slideflow.dev/installation/#cucim-vs-libvips for more information.\u001b[0m                     \n"
      ]
     },
     "metadata": {},
     "output_type": "display_data"
    },
    {
     "data": {
      "text/html": [
       "<pre style=\"white-space:pre;overflow-x:auto;line-height:normal;font-family:Menlo,'DejaVu Sans Mono',consolas,'Courier New',monospace\"><span style=\"color: #7fbfbf; text-decoration-color: #7fbfbf\">           </span><span style=\"color: #800000; text-decoration-color: #800000; font-weight: bold\">ERROR   </span> <span style=\"color: #800000; text-decoration-color: #800000\">Slide /mnt/d/Digital_path/DIG_PAT_1727362858.ndpi has type NDPI, which is incompatible with the</span>\n",
       "<span style=\"color: #7fbfbf; text-decoration-color: #7fbfbf\">           </span>         <span style=\"color: #800000; text-decoration-color: #800000\">active slide reading backend, cucim. Consider using a different backend, which can be set with </span>\n",
       "<span style=\"color: #7fbfbf; text-decoration-color: #7fbfbf\">           </span>         <span style=\"color: #800000; text-decoration-color: #800000\">the environmental variable SF_SLIDE_BACKEND. See </span>                                              \n",
       "<span style=\"color: #7fbfbf; text-decoration-color: #7fbfbf\">           </span>         <span style=\"color: #800000; text-decoration-color: #800000\">https://slideflow.dev/installation/#cucim-vs-libvips for more information.</span>                     \n",
       "</pre>\n"
      ],
      "text/plain": [
       "\u001b[2;36m          \u001b[0m\u001b[2;36m \u001b[0m\u001b[1;31mERROR   \u001b[0m \u001b[31mSlide /mnt/d/Digital_path/DIG_PAT_1727362858.ndpi has type NDPI, which is incompatible with the\u001b[0m\n",
       "\u001b[2;36m           \u001b[0m         \u001b[31mactive slide reading backend, cucim. Consider using a different backend, which can be set with \u001b[0m\n",
       "\u001b[2;36m           \u001b[0m         \u001b[31mthe environmental variable SF_SLIDE_BACKEND. See \u001b[0m                                              \n",
       "\u001b[2;36m           \u001b[0m         \u001b[31mhttps://slideflow.dev/installation/#cucim-vs-libvips for more information.\u001b[0m                     \n"
      ]
     },
     "metadata": {},
     "output_type": "display_data"
    },
    {
     "data": {
      "text/html": [
       "<pre style=\"white-space:pre;overflow-x:auto;line-height:normal;font-family:Menlo,'DejaVu Sans Mono',consolas,'Courier New',monospace\"><span style=\"color: #7fbfbf; text-decoration-color: #7fbfbf\">           </span><span style=\"color: #800000; text-decoration-color: #800000; font-weight: bold\">ERROR   </span> <span style=\"color: #800000; text-decoration-color: #800000\">Slide /mnt/d/Digital_path/DIG_PAT_1727361994.ndpi has type NDPI, which is incompatible with the</span>\n",
       "<span style=\"color: #7fbfbf; text-decoration-color: #7fbfbf\">           </span>         <span style=\"color: #800000; text-decoration-color: #800000\">active slide reading backend, cucim. Consider using a different backend, which can be set with </span>\n",
       "<span style=\"color: #7fbfbf; text-decoration-color: #7fbfbf\">           </span>         <span style=\"color: #800000; text-decoration-color: #800000\">the environmental variable SF_SLIDE_BACKEND. See </span>                                              \n",
       "<span style=\"color: #7fbfbf; text-decoration-color: #7fbfbf\">           </span>         <span style=\"color: #800000; text-decoration-color: #800000\">https://slideflow.dev/installation/#cucim-vs-libvips for more information.</span>                     \n",
       "</pre>\n"
      ],
      "text/plain": [
       "\u001b[2;36m          \u001b[0m\u001b[2;36m \u001b[0m\u001b[1;31mERROR   \u001b[0m \u001b[31mSlide /mnt/d/Digital_path/DIG_PAT_1727361994.ndpi has type NDPI, which is incompatible with the\u001b[0m\n",
       "\u001b[2;36m           \u001b[0m         \u001b[31mactive slide reading backend, cucim. Consider using a different backend, which can be set with \u001b[0m\n",
       "\u001b[2;36m           \u001b[0m         \u001b[31mthe environmental variable SF_SLIDE_BACKEND. See \u001b[0m                                              \n",
       "\u001b[2;36m           \u001b[0m         \u001b[31mhttps://slideflow.dev/installation/#cucim-vs-libvips for more information.\u001b[0m                     \n"
      ]
     },
     "metadata": {},
     "output_type": "display_data"
    },
    {
     "data": {
      "text/html": [
       "<pre style=\"white-space:pre;overflow-x:auto;line-height:normal;font-family:Menlo,'DejaVu Sans Mono',consolas,'Courier New',monospace\"><span style=\"color: #7fbfbf; text-decoration-color: #7fbfbf\">[13:28:59] </span><span style=\"color: #800000; text-decoration-color: #800000; font-weight: bold\">ERROR   </span> <span style=\"color: #800000; text-decoration-color: #800000\">Error loading slide /mnt/d/Digital_path/DIG_PAT_1707613743.tif: Error loading slide </span>           \n",
       "<span style=\"color: #7fbfbf; text-decoration-color: #7fbfbf\">           </span>         <span style=\"color: #800000; text-decoration-color: #800000\">DIG_PAT_1707613743: This format has more than one image with Subfile Type 0 so cannot be </span>      \n",
       "<span style=\"color: #7fbfbf; text-decoration-color: #7fbfbf\">           </span>         <span style=\"color: #800000; text-decoration-color: #800000\">loaded!. Skipping</span>                                                                              \n",
       "</pre>\n"
      ],
      "text/plain": [
       "\u001b[2;36m[13:28:59]\u001b[0m\u001b[2;36m \u001b[0m\u001b[1;31mERROR   \u001b[0m \u001b[31mError loading slide /mnt/d/Digital_path/DIG_PAT_1707613743.tif: Error loading slide \u001b[0m           \n",
       "\u001b[2;36m           \u001b[0m         \u001b[31mDIG_PAT_1707613743: This format has more than one image with Subfile Type 0 so cannot be \u001b[0m      \n",
       "\u001b[2;36m           \u001b[0m         \u001b[31mloaded!. Skipping\u001b[0m                                                                              \n"
      ]
     },
     "metadata": {},
     "output_type": "display_data"
    },
    {
     "data": {
      "text/html": [
       "<pre style=\"white-space:pre;overflow-x:auto;line-height:normal;font-family:Menlo,'DejaVu Sans Mono',consolas,'Courier New',monospace\"><span style=\"color: #7fbfbf; text-decoration-color: #7fbfbf\">           </span><span style=\"color: #800000; text-decoration-color: #800000; font-weight: bold\">ERROR   </span> <span style=\"color: #800000; text-decoration-color: #800000\">Slide /mnt/d/Digital_path/DIG_PAT_1727359208.ndpi has type NDPI, which is incompatible with the</span>\n",
       "<span style=\"color: #7fbfbf; text-decoration-color: #7fbfbf\">           </span>         <span style=\"color: #800000; text-decoration-color: #800000\">active slide reading backend, cucim. Consider using a different backend, which can be set with </span>\n",
       "<span style=\"color: #7fbfbf; text-decoration-color: #7fbfbf\">           </span>         <span style=\"color: #800000; text-decoration-color: #800000\">the environmental variable SF_SLIDE_BACKEND. See </span>                                              \n",
       "<span style=\"color: #7fbfbf; text-decoration-color: #7fbfbf\">           </span>         <span style=\"color: #800000; text-decoration-color: #800000\">https://slideflow.dev/installation/#cucim-vs-libvips for more information.</span>                     \n",
       "</pre>\n"
      ],
      "text/plain": [
       "\u001b[2;36m          \u001b[0m\u001b[2;36m \u001b[0m\u001b[1;31mERROR   \u001b[0m \u001b[31mSlide /mnt/d/Digital_path/DIG_PAT_1727359208.ndpi has type NDPI, which is incompatible with the\u001b[0m\n",
       "\u001b[2;36m           \u001b[0m         \u001b[31mactive slide reading backend, cucim. Consider using a different backend, which can be set with \u001b[0m\n",
       "\u001b[2;36m           \u001b[0m         \u001b[31mthe environmental variable SF_SLIDE_BACKEND. See \u001b[0m                                              \n",
       "\u001b[2;36m           \u001b[0m         \u001b[31mhttps://slideflow.dev/installation/#cucim-vs-libvips for more information.\u001b[0m                     \n"
      ]
     },
     "metadata": {},
     "output_type": "display_data"
    },
    {
     "data": {
      "text/html": [
       "<pre style=\"white-space:pre;overflow-x:auto;line-height:normal;font-family:Menlo,'DejaVu Sans Mono',consolas,'Courier New',monospace\"><span style=\"color: #7fbfbf; text-decoration-color: #7fbfbf\">           </span><span style=\"color: #800000; text-decoration-color: #800000; font-weight: bold\">ERROR   </span> <span style=\"color: #800000; text-decoration-color: #800000\">Slide /mnt/d/Digital_path/DIG_PAT_1727363109.ndpi has type NDPI, which is incompatible with the</span>\n",
       "<span style=\"color: #7fbfbf; text-decoration-color: #7fbfbf\">           </span>         <span style=\"color: #800000; text-decoration-color: #800000\">active slide reading backend, cucim. Consider using a different backend, which can be set with </span>\n",
       "<span style=\"color: #7fbfbf; text-decoration-color: #7fbfbf\">           </span>         <span style=\"color: #800000; text-decoration-color: #800000\">the environmental variable SF_SLIDE_BACKEND. See </span>                                              \n",
       "<span style=\"color: #7fbfbf; text-decoration-color: #7fbfbf\">           </span>         <span style=\"color: #800000; text-decoration-color: #800000\">https://slideflow.dev/installation/#cucim-vs-libvips for more information.</span>                     \n",
       "</pre>\n"
      ],
      "text/plain": [
       "\u001b[2;36m          \u001b[0m\u001b[2;36m \u001b[0m\u001b[1;31mERROR   \u001b[0m \u001b[31mSlide /mnt/d/Digital_path/DIG_PAT_1727363109.ndpi has type NDPI, which is incompatible with the\u001b[0m\n",
       "\u001b[2;36m           \u001b[0m         \u001b[31mactive slide reading backend, cucim. Consider using a different backend, which can be set with \u001b[0m\n",
       "\u001b[2;36m           \u001b[0m         \u001b[31mthe environmental variable SF_SLIDE_BACKEND. See \u001b[0m                                              \n",
       "\u001b[2;36m           \u001b[0m         \u001b[31mhttps://slideflow.dev/installation/#cucim-vs-libvips for more information.\u001b[0m                     \n"
      ]
     },
     "metadata": {},
     "output_type": "display_data"
    },
    {
     "data": {
      "text/html": [
       "<pre style=\"white-space:pre;overflow-x:auto;line-height:normal;font-family:Menlo,'DejaVu Sans Mono',consolas,'Courier New',monospace\"><span style=\"color: #7fbfbf; text-decoration-color: #7fbfbf\">           </span><span style=\"color: #800000; text-decoration-color: #800000; font-weight: bold\">ERROR   </span> <span style=\"color: #800000; text-decoration-color: #800000\">Slide /mnt/d/Digital_path/DIG_PAT_1727362740.ndpi has type NDPI, which is incompatible with the</span>\n",
       "<span style=\"color: #7fbfbf; text-decoration-color: #7fbfbf\">           </span>         <span style=\"color: #800000; text-decoration-color: #800000\">active slide reading backend, cucim. Consider using a different backend, which can be set with </span>\n",
       "<span style=\"color: #7fbfbf; text-decoration-color: #7fbfbf\">           </span>         <span style=\"color: #800000; text-decoration-color: #800000\">the environmental variable SF_SLIDE_BACKEND. See </span>                                              \n",
       "<span style=\"color: #7fbfbf; text-decoration-color: #7fbfbf\">           </span>         <span style=\"color: #800000; text-decoration-color: #800000\">https://slideflow.dev/installation/#cucim-vs-libvips for more information.</span>                     \n",
       "</pre>\n"
      ],
      "text/plain": [
       "\u001b[2;36m          \u001b[0m\u001b[2;36m \u001b[0m\u001b[1;31mERROR   \u001b[0m \u001b[31mSlide /mnt/d/Digital_path/DIG_PAT_1727362740.ndpi has type NDPI, which is incompatible with the\u001b[0m\n",
       "\u001b[2;36m           \u001b[0m         \u001b[31mactive slide reading backend, cucim. Consider using a different backend, which can be set with \u001b[0m\n",
       "\u001b[2;36m           \u001b[0m         \u001b[31mthe environmental variable SF_SLIDE_BACKEND. See \u001b[0m                                              \n",
       "\u001b[2;36m           \u001b[0m         \u001b[31mhttps://slideflow.dev/installation/#cucim-vs-libvips for more information.\u001b[0m                     \n"
      ]
     },
     "metadata": {},
     "output_type": "display_data"
    },
    {
     "data": {
      "text/html": [
       "<pre style=\"white-space:pre;overflow-x:auto;line-height:normal;font-family:Menlo,'DejaVu Sans Mono',consolas,'Courier New',monospace\"><span style=\"color: #7fbfbf; text-decoration-color: #7fbfbf\">           </span><span style=\"color: #800000; text-decoration-color: #800000; font-weight: bold\">ERROR   </span> <span style=\"color: #800000; text-decoration-color: #800000\">Error loading slide /mnt/d/Digital_path/DIG_PAT_1701555153.tif: Error loading slide </span>           \n",
       "<span style=\"color: #7fbfbf; text-decoration-color: #7fbfbf\">           </span>         <span style=\"color: #800000; text-decoration-color: #800000\">DIG_PAT_1701555153: This format has more than one image with Subfile Type 0 so cannot be </span>      \n",
       "<span style=\"color: #7fbfbf; text-decoration-color: #7fbfbf\">           </span>         <span style=\"color: #800000; text-decoration-color: #800000\">loaded!. Skipping</span>                                                                              \n",
       "</pre>\n"
      ],
      "text/plain": [
       "\u001b[2;36m          \u001b[0m\u001b[2;36m \u001b[0m\u001b[1;31mERROR   \u001b[0m \u001b[31mError loading slide /mnt/d/Digital_path/DIG_PAT_1701555153.tif: Error loading slide \u001b[0m           \n",
       "\u001b[2;36m           \u001b[0m         \u001b[31mDIG_PAT_1701555153: This format has more than one image with Subfile Type 0 so cannot be \u001b[0m      \n",
       "\u001b[2;36m           \u001b[0m         \u001b[31mloaded!. Skipping\u001b[0m                                                                              \n"
      ]
     },
     "metadata": {},
     "output_type": "display_data"
    },
    {
     "data": {
      "text/html": [
       "<pre style=\"white-space:pre;overflow-x:auto;line-height:normal;font-family:Menlo,'DejaVu Sans Mono',consolas,'Courier New',monospace\"><span style=\"color: #7fbfbf; text-decoration-color: #7fbfbf\">           </span><span style=\"color: #800000; text-decoration-color: #800000; font-weight: bold\">ERROR   </span> <span style=\"color: #800000; text-decoration-color: #800000\">Slide /mnt/d/Digital_path/DIG_PAT_1727363008.ndpi has type NDPI, which is incompatible with the</span>\n",
       "<span style=\"color: #7fbfbf; text-decoration-color: #7fbfbf\">           </span>         <span style=\"color: #800000; text-decoration-color: #800000\">active slide reading backend, cucim. Consider using a different backend, which can be set with </span>\n",
       "<span style=\"color: #7fbfbf; text-decoration-color: #7fbfbf\">           </span>         <span style=\"color: #800000; text-decoration-color: #800000\">the environmental variable SF_SLIDE_BACKEND. See </span>                                              \n",
       "<span style=\"color: #7fbfbf; text-decoration-color: #7fbfbf\">           </span>         <span style=\"color: #800000; text-decoration-color: #800000\">https://slideflow.dev/installation/#cucim-vs-libvips for more information.</span>                     \n",
       "</pre>\n"
      ],
      "text/plain": [
       "\u001b[2;36m          \u001b[0m\u001b[2;36m \u001b[0m\u001b[1;31mERROR   \u001b[0m \u001b[31mSlide /mnt/d/Digital_path/DIG_PAT_1727363008.ndpi has type NDPI, which is incompatible with the\u001b[0m\n",
       "\u001b[2;36m           \u001b[0m         \u001b[31mactive slide reading backend, cucim. Consider using a different backend, which can be set with \u001b[0m\n",
       "\u001b[2;36m           \u001b[0m         \u001b[31mthe environmental variable SF_SLIDE_BACKEND. See \u001b[0m                                              \n",
       "\u001b[2;36m           \u001b[0m         \u001b[31mhttps://slideflow.dev/installation/#cucim-vs-libvips for more information.\u001b[0m                     \n"
      ]
     },
     "metadata": {},
     "output_type": "display_data"
    },
    {
     "data": {
      "text/html": [
       "<pre style=\"white-space:pre;overflow-x:auto;line-height:normal;font-family:Menlo,'DejaVu Sans Mono',consolas,'Courier New',monospace\"><span style=\"color: #7fbfbf; text-decoration-color: #7fbfbf\">           </span><span style=\"color: #800000; text-decoration-color: #800000; font-weight: bold\">ERROR   </span> <span style=\"color: #800000; text-decoration-color: #800000\">Error loading slide /mnt/d/Digital_path/DIG_PAT_1701121249.tif: Error loading slide </span>           \n",
       "<span style=\"color: #7fbfbf; text-decoration-color: #7fbfbf\">           </span>         <span style=\"color: #800000; text-decoration-color: #800000\">DIG_PAT_1701121249: This format has more than one image with Subfile Type 0 so cannot be </span>      \n",
       "<span style=\"color: #7fbfbf; text-decoration-color: #7fbfbf\">           </span>         <span style=\"color: #800000; text-decoration-color: #800000\">loaded!. Skipping</span>                                                                              \n",
       "</pre>\n"
      ],
      "text/plain": [
       "\u001b[2;36m          \u001b[0m\u001b[2;36m \u001b[0m\u001b[1;31mERROR   \u001b[0m \u001b[31mError loading slide /mnt/d/Digital_path/DIG_PAT_1701121249.tif: Error loading slide \u001b[0m           \n",
       "\u001b[2;36m           \u001b[0m         \u001b[31mDIG_PAT_1701121249: This format has more than one image with Subfile Type 0 so cannot be \u001b[0m      \n",
       "\u001b[2;36m           \u001b[0m         \u001b[31mloaded!. Skipping\u001b[0m                                                                              \n"
      ]
     },
     "metadata": {},
     "output_type": "display_data"
    },
    {
     "data": {
      "text/html": [
       "<pre style=\"white-space:pre;overflow-x:auto;line-height:normal;font-family:Menlo,'DejaVu Sans Mono',consolas,'Courier New',monospace\"><span style=\"color: #7fbfbf; text-decoration-color: #7fbfbf\">           </span><span style=\"color: #000080; text-decoration-color: #000080\">INFO    </span> No ROI for DIG_PAT_1705687841, using whole slide.                                              \n",
       "</pre>\n"
      ],
      "text/plain": [
       "\u001b[2;36m          \u001b[0m\u001b[2;36m \u001b[0m\u001b[34mINFO    \u001b[0m No ROI for DIG_PAT_1705687841, using whole slide.                                              \n"
      ]
     },
     "metadata": {},
     "output_type": "display_data"
    },
    {
     "data": {
      "text/html": [
       "<pre style=\"white-space:pre;overflow-x:auto;line-height:normal;font-family:Menlo,'DejaVu Sans Mono',consolas,'Courier New',monospace\"><span style=\"color: #7fbfbf; text-decoration-color: #7fbfbf\">[13:29:01] </span><span style=\"color: #000080; text-decoration-color: #000080\">INFO    </span> Performing Gaussian blur filter at mpp=4.036                                                   \n",
       "</pre>\n"
      ],
      "text/plain": [
       "\u001b[2;36m[13:29:01]\u001b[0m\u001b[2;36m \u001b[0m\u001b[34mINFO    \u001b[0m Performing Gaussian blur filter at mpp=4.036                                                   \n"
      ]
     },
     "metadata": {},
     "output_type": "display_data"
    },
    {
     "data": {
      "text/html": [
       "<pre style=\"white-space:pre;overflow-x:auto;line-height:normal;font-family:Menlo,'DejaVu Sans Mono',consolas,'Courier New',monospace\"><span style=\"color: #7fbfbf; text-decoration-color: #7fbfbf\">[13:29:17] </span><span style=\"color: #808000; text-decoration-color: #808000\">WARNING </span> <span style=\"color: #808000; text-decoration-color: #808000\">No tiles extracted for slide </span><span style=\"color: #008000; text-decoration-color: #008000\">DIG_PAT_1705687841</span>                                                \n",
       "</pre>\n"
      ],
      "text/plain": [
       "\u001b[2;36m[13:29:17]\u001b[0m\u001b[2;36m \u001b[0m\u001b[33mWARNING \u001b[0m \u001b[33mNo tiles extracted for slide \u001b[0m\u001b[32mDIG_PAT_1705687841\u001b[0m                                                \n"
      ]
     },
     "metadata": {},
     "output_type": "display_data"
    },
    {
     "data": {
      "text/html": [
       "<pre style=\"white-space:pre;overflow-x:auto;line-height:normal;font-family:Menlo,'DejaVu Sans Mono',consolas,'Courier New',monospace\"><span style=\"color: #7fbfbf; text-decoration-color: #7fbfbf\">           </span><span style=\"color: #800000; text-decoration-color: #800000; font-weight: bold\">ERROR   </span> <span style=\"color: #800000; text-decoration-color: #800000\">Slide /mnt/d/Digital_path/DIG_PAT_1727361840.ndpi has type NDPI, which is incompatible with the</span>\n",
       "<span style=\"color: #7fbfbf; text-decoration-color: #7fbfbf\">           </span>         <span style=\"color: #800000; text-decoration-color: #800000\">active slide reading backend, cucim. Consider using a different backend, which can be set with </span>\n",
       "<span style=\"color: #7fbfbf; text-decoration-color: #7fbfbf\">           </span>         <span style=\"color: #800000; text-decoration-color: #800000\">the environmental variable SF_SLIDE_BACKEND. See </span>                                              \n",
       "<span style=\"color: #7fbfbf; text-decoration-color: #7fbfbf\">           </span>         <span style=\"color: #800000; text-decoration-color: #800000\">https://slideflow.dev/installation/#cucim-vs-libvips for more information.</span>                     \n",
       "</pre>\n"
      ],
      "text/plain": [
       "\u001b[2;36m          \u001b[0m\u001b[2;36m \u001b[0m\u001b[1;31mERROR   \u001b[0m \u001b[31mSlide /mnt/d/Digital_path/DIG_PAT_1727361840.ndpi has type NDPI, which is incompatible with the\u001b[0m\n",
       "\u001b[2;36m           \u001b[0m         \u001b[31mactive slide reading backend, cucim. Consider using a different backend, which can be set with \u001b[0m\n",
       "\u001b[2;36m           \u001b[0m         \u001b[31mthe environmental variable SF_SLIDE_BACKEND. See \u001b[0m                                              \n",
       "\u001b[2;36m           \u001b[0m         \u001b[31mhttps://slideflow.dev/installation/#cucim-vs-libvips for more information.\u001b[0m                     \n"
      ]
     },
     "metadata": {},
     "output_type": "display_data"
    },
    {
     "data": {
      "text/html": [
       "<pre style=\"white-space:pre;overflow-x:auto;line-height:normal;font-family:Menlo,'DejaVu Sans Mono',consolas,'Courier New',monospace\"><span style=\"color: #7fbfbf; text-decoration-color: #7fbfbf\">           </span><span style=\"color: #800000; text-decoration-color: #800000; font-weight: bold\">ERROR   </span> <span style=\"color: #800000; text-decoration-color: #800000\">Slide /mnt/d/Digital_path/DIG_PAT_1727360386.ndpi has type NDPI, which is incompatible with the</span>\n",
       "<span style=\"color: #7fbfbf; text-decoration-color: #7fbfbf\">           </span>         <span style=\"color: #800000; text-decoration-color: #800000\">active slide reading backend, cucim. Consider using a different backend, which can be set with </span>\n",
       "<span style=\"color: #7fbfbf; text-decoration-color: #7fbfbf\">           </span>         <span style=\"color: #800000; text-decoration-color: #800000\">the environmental variable SF_SLIDE_BACKEND. See </span>                                              \n",
       "<span style=\"color: #7fbfbf; text-decoration-color: #7fbfbf\">           </span>         <span style=\"color: #800000; text-decoration-color: #800000\">https://slideflow.dev/installation/#cucim-vs-libvips for more information.</span>                     \n",
       "</pre>\n"
      ],
      "text/plain": [
       "\u001b[2;36m          \u001b[0m\u001b[2;36m \u001b[0m\u001b[1;31mERROR   \u001b[0m \u001b[31mSlide /mnt/d/Digital_path/DIG_PAT_1727360386.ndpi has type NDPI, which is incompatible with the\u001b[0m\n",
       "\u001b[2;36m           \u001b[0m         \u001b[31mactive slide reading backend, cucim. Consider using a different backend, which can be set with \u001b[0m\n",
       "\u001b[2;36m           \u001b[0m         \u001b[31mthe environmental variable SF_SLIDE_BACKEND. See \u001b[0m                                              \n",
       "\u001b[2;36m           \u001b[0m         \u001b[31mhttps://slideflow.dev/installation/#cucim-vs-libvips for more information.\u001b[0m                     \n"
      ]
     },
     "metadata": {},
     "output_type": "display_data"
    },
    {
     "data": {
      "text/html": [
       "<pre style=\"white-space:pre;overflow-x:auto;line-height:normal;font-family:Menlo,'DejaVu Sans Mono',consolas,'Courier New',monospace\"><span style=\"color: #7fbfbf; text-decoration-color: #7fbfbf\">           </span><span style=\"color: #800000; text-decoration-color: #800000; font-weight: bold\">ERROR   </span> <span style=\"color: #800000; text-decoration-color: #800000\">Slide /mnt/d/Digital_path/DIG_PAT_1727362200.ndpi has type NDPI, which is incompatible with the</span>\n",
       "<span style=\"color: #7fbfbf; text-decoration-color: #7fbfbf\">           </span>         <span style=\"color: #800000; text-decoration-color: #800000\">active slide reading backend, cucim. Consider using a different backend, which can be set with </span>\n",
       "<span style=\"color: #7fbfbf; text-decoration-color: #7fbfbf\">           </span>         <span style=\"color: #800000; text-decoration-color: #800000\">the environmental variable SF_SLIDE_BACKEND. See </span>                                              \n",
       "<span style=\"color: #7fbfbf; text-decoration-color: #7fbfbf\">           </span>         <span style=\"color: #800000; text-decoration-color: #800000\">https://slideflow.dev/installation/#cucim-vs-libvips for more information.</span>                     \n",
       "</pre>\n"
      ],
      "text/plain": [
       "\u001b[2;36m          \u001b[0m\u001b[2;36m \u001b[0m\u001b[1;31mERROR   \u001b[0m \u001b[31mSlide /mnt/d/Digital_path/DIG_PAT_1727362200.ndpi has type NDPI, which is incompatible with the\u001b[0m\n",
       "\u001b[2;36m           \u001b[0m         \u001b[31mactive slide reading backend, cucim. Consider using a different backend, which can be set with \u001b[0m\n",
       "\u001b[2;36m           \u001b[0m         \u001b[31mthe environmental variable SF_SLIDE_BACKEND. See \u001b[0m                                              \n",
       "\u001b[2;36m           \u001b[0m         \u001b[31mhttps://slideflow.dev/installation/#cucim-vs-libvips for more information.\u001b[0m                     \n"
      ]
     },
     "metadata": {},
     "output_type": "display_data"
    },
    {
     "data": {
      "text/html": [
       "<pre style=\"white-space:pre;overflow-x:auto;line-height:normal;font-family:Menlo,'DejaVu Sans Mono',consolas,'Courier New',monospace\"><span style=\"color: #7fbfbf; text-decoration-color: #7fbfbf\">           </span><span style=\"color: #800000; text-decoration-color: #800000; font-weight: bold\">ERROR   </span> <span style=\"color: #800000; text-decoration-color: #800000\">Error loading slide /mnt/d/Digital_path/DIG_PAT_1701612384.tif: Error loading slide </span>           \n",
       "<span style=\"color: #7fbfbf; text-decoration-color: #7fbfbf\">           </span>         <span style=\"color: #800000; text-decoration-color: #800000\">DIG_PAT_1701612384: This format has more than one image with Subfile Type 0 so cannot be </span>      \n",
       "<span style=\"color: #7fbfbf; text-decoration-color: #7fbfbf\">           </span>         <span style=\"color: #800000; text-decoration-color: #800000\">loaded!. Skipping</span>                                                                              \n",
       "</pre>\n"
      ],
      "text/plain": [
       "\u001b[2;36m          \u001b[0m\u001b[2;36m \u001b[0m\u001b[1;31mERROR   \u001b[0m \u001b[31mError loading slide /mnt/d/Digital_path/DIG_PAT_1701612384.tif: Error loading slide \u001b[0m           \n",
       "\u001b[2;36m           \u001b[0m         \u001b[31mDIG_PAT_1701612384: This format has more than one image with Subfile Type 0 so cannot be \u001b[0m      \n",
       "\u001b[2;36m           \u001b[0m         \u001b[31mloaded!. Skipping\u001b[0m                                                                              \n"
      ]
     },
     "metadata": {},
     "output_type": "display_data"
    },
    {
     "data": {
      "text/html": [
       "<pre style=\"white-space:pre;overflow-x:auto;line-height:normal;font-family:Menlo,'DejaVu Sans Mono',consolas,'Courier New',monospace\"><span style=\"color: #7fbfbf; text-decoration-color: #7fbfbf\">           </span><span style=\"color: #800000; text-decoration-color: #800000; font-weight: bold\">ERROR   </span> <span style=\"color: #800000; text-decoration-color: #800000\">Slide /mnt/d/Digital_path/DIG_PAT_1727363128.ndpi has type NDPI, which is incompatible with the</span>\n",
       "<span style=\"color: #7fbfbf; text-decoration-color: #7fbfbf\">           </span>         <span style=\"color: #800000; text-decoration-color: #800000\">active slide reading backend, cucim. Consider using a different backend, which can be set with </span>\n",
       "<span style=\"color: #7fbfbf; text-decoration-color: #7fbfbf\">           </span>         <span style=\"color: #800000; text-decoration-color: #800000\">the environmental variable SF_SLIDE_BACKEND. See </span>                                              \n",
       "<span style=\"color: #7fbfbf; text-decoration-color: #7fbfbf\">           </span>         <span style=\"color: #800000; text-decoration-color: #800000\">https://slideflow.dev/installation/#cucim-vs-libvips for more information.</span>                     \n",
       "</pre>\n"
      ],
      "text/plain": [
       "\u001b[2;36m          \u001b[0m\u001b[2;36m \u001b[0m\u001b[1;31mERROR   \u001b[0m \u001b[31mSlide /mnt/d/Digital_path/DIG_PAT_1727363128.ndpi has type NDPI, which is incompatible with the\u001b[0m\n",
       "\u001b[2;36m           \u001b[0m         \u001b[31mactive slide reading backend, cucim. Consider using a different backend, which can be set with \u001b[0m\n",
       "\u001b[2;36m           \u001b[0m         \u001b[31mthe environmental variable SF_SLIDE_BACKEND. See \u001b[0m                                              \n",
       "\u001b[2;36m           \u001b[0m         \u001b[31mhttps://slideflow.dev/installation/#cucim-vs-libvips for more information.\u001b[0m                     \n"
      ]
     },
     "metadata": {},
     "output_type": "display_data"
    },
    {
     "data": {
      "text/html": [
       "<pre style=\"white-space:pre;overflow-x:auto;line-height:normal;font-family:Menlo,'DejaVu Sans Mono',consolas,'Courier New',monospace\"><span style=\"color: #7fbfbf; text-decoration-color: #7fbfbf\">           </span><span style=\"color: #800000; text-decoration-color: #800000; font-weight: bold\">ERROR   </span> <span style=\"color: #800000; text-decoration-color: #800000\">Error loading slide /mnt/d/Digital_path/DIG_PAT_1701296786.tif: Error loading slide </span>           \n",
       "<span style=\"color: #7fbfbf; text-decoration-color: #7fbfbf\">           </span>         <span style=\"color: #800000; text-decoration-color: #800000\">DIG_PAT_1701296786: This format has more than one image with Subfile Type 0 so cannot be </span>      \n",
       "<span style=\"color: #7fbfbf; text-decoration-color: #7fbfbf\">           </span>         <span style=\"color: #800000; text-decoration-color: #800000\">loaded!. Skipping</span>                                                                              \n",
       "</pre>\n"
      ],
      "text/plain": [
       "\u001b[2;36m          \u001b[0m\u001b[2;36m \u001b[0m\u001b[1;31mERROR   \u001b[0m \u001b[31mError loading slide /mnt/d/Digital_path/DIG_PAT_1701296786.tif: Error loading slide \u001b[0m           \n",
       "\u001b[2;36m           \u001b[0m         \u001b[31mDIG_PAT_1701296786: This format has more than one image with Subfile Type 0 so cannot be \u001b[0m      \n",
       "\u001b[2;36m           \u001b[0m         \u001b[31mloaded!. Skipping\u001b[0m                                                                              \n"
      ]
     },
     "metadata": {},
     "output_type": "display_data"
    },
    {
     "data": {
      "text/html": [
       "<pre style=\"white-space:pre;overflow-x:auto;line-height:normal;font-family:Menlo,'DejaVu Sans Mono',consolas,'Courier New',monospace\"><span style=\"color: #7fbfbf; text-decoration-color: #7fbfbf\">           </span><span style=\"color: #800000; text-decoration-color: #800000; font-weight: bold\">ERROR   </span> <span style=\"color: #800000; text-decoration-color: #800000\">Error loading slide /mnt/d/Digital_path/DIG_PAT_1701377788.tif: Error loading slide </span>           \n",
       "<span style=\"color: #7fbfbf; text-decoration-color: #7fbfbf\">           </span>         <span style=\"color: #800000; text-decoration-color: #800000\">DIG_PAT_1701377788: This format has more than one image with Subfile Type 0 so cannot be </span>      \n",
       "<span style=\"color: #7fbfbf; text-decoration-color: #7fbfbf\">           </span>         <span style=\"color: #800000; text-decoration-color: #800000\">loaded!. Skipping</span>                                                                              \n",
       "</pre>\n"
      ],
      "text/plain": [
       "\u001b[2;36m          \u001b[0m\u001b[2;36m \u001b[0m\u001b[1;31mERROR   \u001b[0m \u001b[31mError loading slide /mnt/d/Digital_path/DIG_PAT_1701377788.tif: Error loading slide \u001b[0m           \n",
       "\u001b[2;36m           \u001b[0m         \u001b[31mDIG_PAT_1701377788: This format has more than one image with Subfile Type 0 so cannot be \u001b[0m      \n",
       "\u001b[2;36m           \u001b[0m         \u001b[31mloaded!. Skipping\u001b[0m                                                                              \n"
      ]
     },
     "metadata": {},
     "output_type": "display_data"
    },
    {
     "data": {
      "text/html": [
       "<pre style=\"white-space:pre;overflow-x:auto;line-height:normal;font-family:Menlo,'DejaVu Sans Mono',consolas,'Courier New',monospace\"><span style=\"color: #7fbfbf; text-decoration-color: #7fbfbf\">           </span><span style=\"color: #800000; text-decoration-color: #800000; font-weight: bold\">ERROR   </span> <span style=\"color: #800000; text-decoration-color: #800000\">Error loading slide /mnt/d/Digital_path/DIG_PAT_1701553407.tif: Error loading slide </span>           \n",
       "<span style=\"color: #7fbfbf; text-decoration-color: #7fbfbf\">           </span>         <span style=\"color: #800000; text-decoration-color: #800000\">DIG_PAT_1701553407: This format has more than one image with Subfile Type 0 so cannot be </span>      \n",
       "<span style=\"color: #7fbfbf; text-decoration-color: #7fbfbf\">           </span>         <span style=\"color: #800000; text-decoration-color: #800000\">loaded!. Skipping</span>                                                                              \n",
       "</pre>\n"
      ],
      "text/plain": [
       "\u001b[2;36m          \u001b[0m\u001b[2;36m \u001b[0m\u001b[1;31mERROR   \u001b[0m \u001b[31mError loading slide /mnt/d/Digital_path/DIG_PAT_1701553407.tif: Error loading slide \u001b[0m           \n",
       "\u001b[2;36m           \u001b[0m         \u001b[31mDIG_PAT_1701553407: This format has more than one image with Subfile Type 0 so cannot be \u001b[0m      \n",
       "\u001b[2;36m           \u001b[0m         \u001b[31mloaded!. Skipping\u001b[0m                                                                              \n"
      ]
     },
     "metadata": {},
     "output_type": "display_data"
    },
    {
     "data": {
      "text/html": [
       "<pre style=\"white-space:pre;overflow-x:auto;line-height:normal;font-family:Menlo,'DejaVu Sans Mono',consolas,'Courier New',monospace\"><span style=\"color: #7fbfbf; text-decoration-color: #7fbfbf\">           </span><span style=\"color: #800000; text-decoration-color: #800000; font-weight: bold\">ERROR   </span> <span style=\"color: #800000; text-decoration-color: #800000\">Error loading slide /mnt/d/Digital_path/DIG_PAT_1701556386.tif: Error loading slide </span>           \n",
       "<span style=\"color: #7fbfbf; text-decoration-color: #7fbfbf\">           </span>         <span style=\"color: #800000; text-decoration-color: #800000\">DIG_PAT_1701556386: This format has more than one image with Subfile Type 0 so cannot be </span>      \n",
       "<span style=\"color: #7fbfbf; text-decoration-color: #7fbfbf\">           </span>         <span style=\"color: #800000; text-decoration-color: #800000\">loaded!. Skipping</span>                                                                              \n",
       "</pre>\n"
      ],
      "text/plain": [
       "\u001b[2;36m          \u001b[0m\u001b[2;36m \u001b[0m\u001b[1;31mERROR   \u001b[0m \u001b[31mError loading slide /mnt/d/Digital_path/DIG_PAT_1701556386.tif: Error loading slide \u001b[0m           \n",
       "\u001b[2;36m           \u001b[0m         \u001b[31mDIG_PAT_1701556386: This format has more than one image with Subfile Type 0 so cannot be \u001b[0m      \n",
       "\u001b[2;36m           \u001b[0m         \u001b[31mloaded!. Skipping\u001b[0m                                                                              \n"
      ]
     },
     "metadata": {},
     "output_type": "display_data"
    },
    {
     "data": {
      "text/html": [
       "<pre style=\"white-space:pre;overflow-x:auto;line-height:normal;font-family:Menlo,'DejaVu Sans Mono',consolas,'Courier New',monospace\"><span style=\"color: #7fbfbf; text-decoration-color: #7fbfbf\">           </span><span style=\"color: #800000; text-decoration-color: #800000; font-weight: bold\">ERROR   </span> <span style=\"color: #800000; text-decoration-color: #800000\">Slide /mnt/d/Digital_path/DIG_PAT_1727363336.ndpi has type NDPI, which is incompatible with the</span>\n",
       "<span style=\"color: #7fbfbf; text-decoration-color: #7fbfbf\">           </span>         <span style=\"color: #800000; text-decoration-color: #800000\">active slide reading backend, cucim. Consider using a different backend, which can be set with </span>\n",
       "<span style=\"color: #7fbfbf; text-decoration-color: #7fbfbf\">           </span>         <span style=\"color: #800000; text-decoration-color: #800000\">the environmental variable SF_SLIDE_BACKEND. See </span>                                              \n",
       "<span style=\"color: #7fbfbf; text-decoration-color: #7fbfbf\">           </span>         <span style=\"color: #800000; text-decoration-color: #800000\">https://slideflow.dev/installation/#cucim-vs-libvips for more information.</span>                     \n",
       "</pre>\n"
      ],
      "text/plain": [
       "\u001b[2;36m          \u001b[0m\u001b[2;36m \u001b[0m\u001b[1;31mERROR   \u001b[0m \u001b[31mSlide /mnt/d/Digital_path/DIG_PAT_1727363336.ndpi has type NDPI, which is incompatible with the\u001b[0m\n",
       "\u001b[2;36m           \u001b[0m         \u001b[31mactive slide reading backend, cucim. Consider using a different backend, which can be set with \u001b[0m\n",
       "\u001b[2;36m           \u001b[0m         \u001b[31mthe environmental variable SF_SLIDE_BACKEND. See \u001b[0m                                              \n",
       "\u001b[2;36m           \u001b[0m         \u001b[31mhttps://slideflow.dev/installation/#cucim-vs-libvips for more information.\u001b[0m                     \n"
      ]
     },
     "metadata": {},
     "output_type": "display_data"
    },
    {
     "data": {
      "text/html": [
       "<pre style=\"white-space:pre;overflow-x:auto;line-height:normal;font-family:Menlo,'DejaVu Sans Mono',consolas,'Courier New',monospace\"><span style=\"color: #7fbfbf; text-decoration-color: #7fbfbf\">           </span><span style=\"color: #800000; text-decoration-color: #800000; font-weight: bold\">ERROR   </span> <span style=\"color: #800000; text-decoration-color: #800000\">Slide /mnt/d/Digital_path/DIG_PAT_1727360907.ndpi has type NDPI, which is incompatible with the</span>\n",
       "<span style=\"color: #7fbfbf; text-decoration-color: #7fbfbf\">           </span>         <span style=\"color: #800000; text-decoration-color: #800000\">active slide reading backend, cucim. Consider using a different backend, which can be set with </span>\n",
       "<span style=\"color: #7fbfbf; text-decoration-color: #7fbfbf\">           </span>         <span style=\"color: #800000; text-decoration-color: #800000\">the environmental variable SF_SLIDE_BACKEND. See </span>                                              \n",
       "<span style=\"color: #7fbfbf; text-decoration-color: #7fbfbf\">           </span>         <span style=\"color: #800000; text-decoration-color: #800000\">https://slideflow.dev/installation/#cucim-vs-libvips for more information.</span>                     \n",
       "</pre>\n"
      ],
      "text/plain": [
       "\u001b[2;36m          \u001b[0m\u001b[2;36m \u001b[0m\u001b[1;31mERROR   \u001b[0m \u001b[31mSlide /mnt/d/Digital_path/DIG_PAT_1727360907.ndpi has type NDPI, which is incompatible with the\u001b[0m\n",
       "\u001b[2;36m           \u001b[0m         \u001b[31mactive slide reading backend, cucim. Consider using a different backend, which can be set with \u001b[0m\n",
       "\u001b[2;36m           \u001b[0m         \u001b[31mthe environmental variable SF_SLIDE_BACKEND. See \u001b[0m                                              \n",
       "\u001b[2;36m           \u001b[0m         \u001b[31mhttps://slideflow.dev/installation/#cucim-vs-libvips for more information.\u001b[0m                     \n"
      ]
     },
     "metadata": {},
     "output_type": "display_data"
    },
    {
     "data": {
      "text/html": [
       "<pre style=\"white-space:pre;overflow-x:auto;line-height:normal;font-family:Menlo,'DejaVu Sans Mono',consolas,'Courier New',monospace\"><span style=\"color: #7fbfbf; text-decoration-color: #7fbfbf\">           </span><span style=\"color: #800000; text-decoration-color: #800000; font-weight: bold\">ERROR   </span> <span style=\"color: #800000; text-decoration-color: #800000\">Slide /mnt/d/Digital_path/DIG_PAT_1727362689.ndpi has type NDPI, which is incompatible with the</span>\n",
       "<span style=\"color: #7fbfbf; text-decoration-color: #7fbfbf\">           </span>         <span style=\"color: #800000; text-decoration-color: #800000\">active slide reading backend, cucim. Consider using a different backend, which can be set with </span>\n",
       "<span style=\"color: #7fbfbf; text-decoration-color: #7fbfbf\">           </span>         <span style=\"color: #800000; text-decoration-color: #800000\">the environmental variable SF_SLIDE_BACKEND. See </span>                                              \n",
       "<span style=\"color: #7fbfbf; text-decoration-color: #7fbfbf\">           </span>         <span style=\"color: #800000; text-decoration-color: #800000\">https://slideflow.dev/installation/#cucim-vs-libvips for more information.</span>                     \n",
       "</pre>\n"
      ],
      "text/plain": [
       "\u001b[2;36m          \u001b[0m\u001b[2;36m \u001b[0m\u001b[1;31mERROR   \u001b[0m \u001b[31mSlide /mnt/d/Digital_path/DIG_PAT_1727362689.ndpi has type NDPI, which is incompatible with the\u001b[0m\n",
       "\u001b[2;36m           \u001b[0m         \u001b[31mactive slide reading backend, cucim. Consider using a different backend, which can be set with \u001b[0m\n",
       "\u001b[2;36m           \u001b[0m         \u001b[31mthe environmental variable SF_SLIDE_BACKEND. See \u001b[0m                                              \n",
       "\u001b[2;36m           \u001b[0m         \u001b[31mhttps://slideflow.dev/installation/#cucim-vs-libvips for more information.\u001b[0m                     \n"
      ]
     },
     "metadata": {},
     "output_type": "display_data"
    },
    {
     "data": {
      "text/html": [
       "<pre style=\"white-space:pre;overflow-x:auto;line-height:normal;font-family:Menlo,'DejaVu Sans Mono',consolas,'Courier New',monospace\"><span style=\"color: #7fbfbf; text-decoration-color: #7fbfbf\">[13:29:18] </span><span style=\"color: #800000; text-decoration-color: #800000; font-weight: bold\">ERROR   </span> <span style=\"color: #800000; text-decoration-color: #800000\">Error loading slide /mnt/d/Digital_path/DIG_PAT_1701290471.tif: Error loading slide </span>           \n",
       "<span style=\"color: #7fbfbf; text-decoration-color: #7fbfbf\">           </span>         <span style=\"color: #800000; text-decoration-color: #800000\">DIG_PAT_1701290471: This format has more than one image with Subfile Type 0 so cannot be </span>      \n",
       "<span style=\"color: #7fbfbf; text-decoration-color: #7fbfbf\">           </span>         <span style=\"color: #800000; text-decoration-color: #800000\">loaded!. Skipping</span>                                                                              \n",
       "</pre>\n"
      ],
      "text/plain": [
       "\u001b[2;36m[13:29:18]\u001b[0m\u001b[2;36m \u001b[0m\u001b[1;31mERROR   \u001b[0m \u001b[31mError loading slide /mnt/d/Digital_path/DIG_PAT_1701290471.tif: Error loading slide \u001b[0m           \n",
       "\u001b[2;36m           \u001b[0m         \u001b[31mDIG_PAT_1701290471: This format has more than one image with Subfile Type 0 so cannot be \u001b[0m      \n",
       "\u001b[2;36m           \u001b[0m         \u001b[31mloaded!. Skipping\u001b[0m                                                                              \n"
      ]
     },
     "metadata": {},
     "output_type": "display_data"
    },
    {
     "data": {
      "text/html": [
       "<pre style=\"white-space:pre;overflow-x:auto;line-height:normal;font-family:Menlo,'DejaVu Sans Mono',consolas,'Courier New',monospace\"><span style=\"color: #7fbfbf; text-decoration-color: #7fbfbf\">           </span><span style=\"color: #800000; text-decoration-color: #800000; font-weight: bold\">ERROR   </span> <span style=\"color: #800000; text-decoration-color: #800000\">Slide /mnt/d/Digital_path/DIG_PAT_1727359777.ndpi has type NDPI, which is incompatible with the</span>\n",
       "<span style=\"color: #7fbfbf; text-decoration-color: #7fbfbf\">           </span>         <span style=\"color: #800000; text-decoration-color: #800000\">active slide reading backend, cucim. Consider using a different backend, which can be set with </span>\n",
       "<span style=\"color: #7fbfbf; text-decoration-color: #7fbfbf\">           </span>         <span style=\"color: #800000; text-decoration-color: #800000\">the environmental variable SF_SLIDE_BACKEND. See </span>                                              \n",
       "<span style=\"color: #7fbfbf; text-decoration-color: #7fbfbf\">           </span>         <span style=\"color: #800000; text-decoration-color: #800000\">https://slideflow.dev/installation/#cucim-vs-libvips for more information.</span>                     \n",
       "</pre>\n"
      ],
      "text/plain": [
       "\u001b[2;36m          \u001b[0m\u001b[2;36m \u001b[0m\u001b[1;31mERROR   \u001b[0m \u001b[31mSlide /mnt/d/Digital_path/DIG_PAT_1727359777.ndpi has type NDPI, which is incompatible with the\u001b[0m\n",
       "\u001b[2;36m           \u001b[0m         \u001b[31mactive slide reading backend, cucim. Consider using a different backend, which can be set with \u001b[0m\n",
       "\u001b[2;36m           \u001b[0m         \u001b[31mthe environmental variable SF_SLIDE_BACKEND. See \u001b[0m                                              \n",
       "\u001b[2;36m           \u001b[0m         \u001b[31mhttps://slideflow.dev/installation/#cucim-vs-libvips for more information.\u001b[0m                     \n"
      ]
     },
     "metadata": {},
     "output_type": "display_data"
    },
    {
     "data": {
      "text/html": [
       "<pre style=\"white-space:pre;overflow-x:auto;line-height:normal;font-family:Menlo,'DejaVu Sans Mono',consolas,'Courier New',monospace\"><span style=\"color: #7fbfbf; text-decoration-color: #7fbfbf\">           </span><span style=\"color: #800000; text-decoration-color: #800000; font-weight: bold\">ERROR   </span> <span style=\"color: #800000; text-decoration-color: #800000\">Error loading slide /mnt/d/Digital_path/DIG_PAT_1701608212.tif: Error loading slide </span>           \n",
       "<span style=\"color: #7fbfbf; text-decoration-color: #7fbfbf\">           </span>         <span style=\"color: #800000; text-decoration-color: #800000\">DIG_PAT_1701608212: This format has more than one image with Subfile Type 0 so cannot be </span>      \n",
       "<span style=\"color: #7fbfbf; text-decoration-color: #7fbfbf\">           </span>         <span style=\"color: #800000; text-decoration-color: #800000\">loaded!. Skipping</span>                                                                              \n",
       "</pre>\n"
      ],
      "text/plain": [
       "\u001b[2;36m          \u001b[0m\u001b[2;36m \u001b[0m\u001b[1;31mERROR   \u001b[0m \u001b[31mError loading slide /mnt/d/Digital_path/DIG_PAT_1701608212.tif: Error loading slide \u001b[0m           \n",
       "\u001b[2;36m           \u001b[0m         \u001b[31mDIG_PAT_1701608212: This format has more than one image with Subfile Type 0 so cannot be \u001b[0m      \n",
       "\u001b[2;36m           \u001b[0m         \u001b[31mloaded!. Skipping\u001b[0m                                                                              \n"
      ]
     },
     "metadata": {},
     "output_type": "display_data"
    },
    {
     "data": {
      "text/html": [
       "<pre style=\"white-space:pre;overflow-x:auto;line-height:normal;font-family:Menlo,'DejaVu Sans Mono',consolas,'Courier New',monospace\"><span style=\"color: #7fbfbf; text-decoration-color: #7fbfbf\">           </span><span style=\"color: #800000; text-decoration-color: #800000; font-weight: bold\">ERROR   </span> <span style=\"color: #800000; text-decoration-color: #800000\">Error loading slide /mnt/d/Digital_path/DIG_PAT_1701601473.tif: Error loading slide </span>           \n",
       "<span style=\"color: #7fbfbf; text-decoration-color: #7fbfbf\">           </span>         <span style=\"color: #800000; text-decoration-color: #800000\">DIG_PAT_1701601473: This format has more than one image with Subfile Type 0 so cannot be </span>      \n",
       "<span style=\"color: #7fbfbf; text-decoration-color: #7fbfbf\">           </span>         <span style=\"color: #800000; text-decoration-color: #800000\">loaded!. Skipping</span>                                                                              \n",
       "</pre>\n"
      ],
      "text/plain": [
       "\u001b[2;36m          \u001b[0m\u001b[2;36m \u001b[0m\u001b[1;31mERROR   \u001b[0m \u001b[31mError loading slide /mnt/d/Digital_path/DIG_PAT_1701601473.tif: Error loading slide \u001b[0m           \n",
       "\u001b[2;36m           \u001b[0m         \u001b[31mDIG_PAT_1701601473: This format has more than one image with Subfile Type 0 so cannot be \u001b[0m      \n",
       "\u001b[2;36m           \u001b[0m         \u001b[31mloaded!. Skipping\u001b[0m                                                                              \n"
      ]
     },
     "metadata": {},
     "output_type": "display_data"
    },
    {
     "data": {
      "text/html": [
       "<pre style=\"white-space:pre;overflow-x:auto;line-height:normal;font-family:Menlo,'DejaVu Sans Mono',consolas,'Courier New',monospace\"><span style=\"color: #7fbfbf; text-decoration-color: #7fbfbf\">           </span><span style=\"color: #800000; text-decoration-color: #800000; font-weight: bold\">ERROR   </span> <span style=\"color: #800000; text-decoration-color: #800000\">Error loading slide /mnt/d/Digital_path/DIG_PAT_1700665949.tif: Error loading slide </span>           \n",
       "<span style=\"color: #7fbfbf; text-decoration-color: #7fbfbf\">           </span>         <span style=\"color: #800000; text-decoration-color: #800000\">DIG_PAT_1700665949: This format has more than one image with Subfile Type 0 so cannot be </span>      \n",
       "<span style=\"color: #7fbfbf; text-decoration-color: #7fbfbf\">           </span>         <span style=\"color: #800000; text-decoration-color: #800000\">loaded!. Skipping</span>                                                                              \n",
       "</pre>\n"
      ],
      "text/plain": [
       "\u001b[2;36m          \u001b[0m\u001b[2;36m \u001b[0m\u001b[1;31mERROR   \u001b[0m \u001b[31mError loading slide /mnt/d/Digital_path/DIG_PAT_1700665949.tif: Error loading slide \u001b[0m           \n",
       "\u001b[2;36m           \u001b[0m         \u001b[31mDIG_PAT_1700665949: This format has more than one image with Subfile Type 0 so cannot be \u001b[0m      \n",
       "\u001b[2;36m           \u001b[0m         \u001b[31mloaded!. Skipping\u001b[0m                                                                              \n"
      ]
     },
     "metadata": {},
     "output_type": "display_data"
    },
    {
     "data": {
      "text/html": [
       "<pre style=\"white-space:pre;overflow-x:auto;line-height:normal;font-family:Menlo,'DejaVu Sans Mono',consolas,'Courier New',monospace\"><span style=\"color: #7fbfbf; text-decoration-color: #7fbfbf\">           </span><span style=\"color: #800000; text-decoration-color: #800000; font-weight: bold\">ERROR   </span> <span style=\"color: #800000; text-decoration-color: #800000\">Error loading slide /mnt/d/Digital_path/DIG_PAT_1701209410.tif: Error loading slide </span>           \n",
       "<span style=\"color: #7fbfbf; text-decoration-color: #7fbfbf\">           </span>         <span style=\"color: #800000; text-decoration-color: #800000\">DIG_PAT_1701209410: This format has more than one image with Subfile Type 0 so cannot be </span>      \n",
       "<span style=\"color: #7fbfbf; text-decoration-color: #7fbfbf\">           </span>         <span style=\"color: #800000; text-decoration-color: #800000\">loaded!. Skipping</span>                                                                              \n",
       "</pre>\n"
      ],
      "text/plain": [
       "\u001b[2;36m          \u001b[0m\u001b[2;36m \u001b[0m\u001b[1;31mERROR   \u001b[0m \u001b[31mError loading slide /mnt/d/Digital_path/DIG_PAT_1701209410.tif: Error loading slide \u001b[0m           \n",
       "\u001b[2;36m           \u001b[0m         \u001b[31mDIG_PAT_1701209410: This format has more than one image with Subfile Type 0 so cannot be \u001b[0m      \n",
       "\u001b[2;36m           \u001b[0m         \u001b[31mloaded!. Skipping\u001b[0m                                                                              \n"
      ]
     },
     "metadata": {},
     "output_type": "display_data"
    },
    {
     "data": {
      "text/html": [
       "<pre style=\"white-space:pre;overflow-x:auto;line-height:normal;font-family:Menlo,'DejaVu Sans Mono',consolas,'Courier New',monospace\"><span style=\"color: #7fbfbf; text-decoration-color: #7fbfbf\">           </span><span style=\"color: #800000; text-decoration-color: #800000; font-weight: bold\">ERROR   </span> <span style=\"color: #800000; text-decoration-color: #800000\">Error loading slide /mnt/d/Digital_path/DIG_PAT_1710622138.tif: Error loading slide </span>           \n",
       "<span style=\"color: #7fbfbf; text-decoration-color: #7fbfbf\">           </span>         <span style=\"color: #800000; text-decoration-color: #800000\">DIG_PAT_1710622138: This format has more than one image with Subfile Type 0 so cannot be </span>      \n",
       "<span style=\"color: #7fbfbf; text-decoration-color: #7fbfbf\">           </span>         <span style=\"color: #800000; text-decoration-color: #800000\">loaded!. Skipping</span>                                                                              \n",
       "</pre>\n"
      ],
      "text/plain": [
       "\u001b[2;36m          \u001b[0m\u001b[2;36m \u001b[0m\u001b[1;31mERROR   \u001b[0m \u001b[31mError loading slide /mnt/d/Digital_path/DIG_PAT_1710622138.tif: Error loading slide \u001b[0m           \n",
       "\u001b[2;36m           \u001b[0m         \u001b[31mDIG_PAT_1710622138: This format has more than one image with Subfile Type 0 so cannot be \u001b[0m      \n",
       "\u001b[2;36m           \u001b[0m         \u001b[31mloaded!. Skipping\u001b[0m                                                                              \n"
      ]
     },
     "metadata": {},
     "output_type": "display_data"
    },
    {
     "data": {
      "text/html": [
       "<pre style=\"white-space:pre;overflow-x:auto;line-height:normal;font-family:Menlo,'DejaVu Sans Mono',consolas,'Courier New',monospace\"><span style=\"color: #7fbfbf; text-decoration-color: #7fbfbf\">           </span><span style=\"color: #800000; text-decoration-color: #800000; font-weight: bold\">ERROR   </span> <span style=\"color: #800000; text-decoration-color: #800000\">Slide /mnt/d/Digital_path/DIG_PAT_1727362377.ndpi has type NDPI, which is incompatible with the</span>\n",
       "<span style=\"color: #7fbfbf; text-decoration-color: #7fbfbf\">           </span>         <span style=\"color: #800000; text-decoration-color: #800000\">active slide reading backend, cucim. Consider using a different backend, which can be set with </span>\n",
       "<span style=\"color: #7fbfbf; text-decoration-color: #7fbfbf\">           </span>         <span style=\"color: #800000; text-decoration-color: #800000\">the environmental variable SF_SLIDE_BACKEND. See </span>                                              \n",
       "<span style=\"color: #7fbfbf; text-decoration-color: #7fbfbf\">           </span>         <span style=\"color: #800000; text-decoration-color: #800000\">https://slideflow.dev/installation/#cucim-vs-libvips for more information.</span>                     \n",
       "</pre>\n"
      ],
      "text/plain": [
       "\u001b[2;36m          \u001b[0m\u001b[2;36m \u001b[0m\u001b[1;31mERROR   \u001b[0m \u001b[31mSlide /mnt/d/Digital_path/DIG_PAT_1727362377.ndpi has type NDPI, which is incompatible with the\u001b[0m\n",
       "\u001b[2;36m           \u001b[0m         \u001b[31mactive slide reading backend, cucim. Consider using a different backend, which can be set with \u001b[0m\n",
       "\u001b[2;36m           \u001b[0m         \u001b[31mthe environmental variable SF_SLIDE_BACKEND. See \u001b[0m                                              \n",
       "\u001b[2;36m           \u001b[0m         \u001b[31mhttps://slideflow.dev/installation/#cucim-vs-libvips for more information.\u001b[0m                     \n"
      ]
     },
     "metadata": {},
     "output_type": "display_data"
    },
    {
     "data": {
      "text/html": [
       "<pre style=\"white-space:pre;overflow-x:auto;line-height:normal;font-family:Menlo,'DejaVu Sans Mono',consolas,'Courier New',monospace\"><span style=\"color: #7fbfbf; text-decoration-color: #7fbfbf\">           </span><span style=\"color: #800000; text-decoration-color: #800000; font-weight: bold\">ERROR   </span> <span style=\"color: #800000; text-decoration-color: #800000\">Error loading slide /mnt/d/Digital_path/DIG_PAT_1701121739.tif: Error loading slide </span>           \n",
       "<span style=\"color: #7fbfbf; text-decoration-color: #7fbfbf\">           </span>         <span style=\"color: #800000; text-decoration-color: #800000\">DIG_PAT_1701121739: This format has more than one image with Subfile Type 0 so cannot be </span>      \n",
       "<span style=\"color: #7fbfbf; text-decoration-color: #7fbfbf\">           </span>         <span style=\"color: #800000; text-decoration-color: #800000\">loaded!. Skipping</span>                                                                              \n",
       "</pre>\n"
      ],
      "text/plain": [
       "\u001b[2;36m          \u001b[0m\u001b[2;36m \u001b[0m\u001b[1;31mERROR   \u001b[0m \u001b[31mError loading slide /mnt/d/Digital_path/DIG_PAT_1701121739.tif: Error loading slide \u001b[0m           \n",
       "\u001b[2;36m           \u001b[0m         \u001b[31mDIG_PAT_1701121739: This format has more than one image with Subfile Type 0 so cannot be \u001b[0m      \n",
       "\u001b[2;36m           \u001b[0m         \u001b[31mloaded!. Skipping\u001b[0m                                                                              \n"
      ]
     },
     "metadata": {},
     "output_type": "display_data"
    },
    {
     "data": {
      "text/html": [
       "<pre style=\"white-space:pre;overflow-x:auto;line-height:normal;font-family:Menlo,'DejaVu Sans Mono',consolas,'Courier New',monospace\"><span style=\"color: #7fbfbf; text-decoration-color: #7fbfbf\">           </span><span style=\"color: #800000; text-decoration-color: #800000; font-weight: bold\">ERROR   </span> <span style=\"color: #800000; text-decoration-color: #800000\">Slide /mnt/d/Digital_path/DIG_PAT_1727360454.ndpi has type NDPI, which is incompatible with the</span>\n",
       "<span style=\"color: #7fbfbf; text-decoration-color: #7fbfbf\">           </span>         <span style=\"color: #800000; text-decoration-color: #800000\">active slide reading backend, cucim. Consider using a different backend, which can be set with </span>\n",
       "<span style=\"color: #7fbfbf; text-decoration-color: #7fbfbf\">           </span>         <span style=\"color: #800000; text-decoration-color: #800000\">the environmental variable SF_SLIDE_BACKEND. See </span>                                              \n",
       "<span style=\"color: #7fbfbf; text-decoration-color: #7fbfbf\">           </span>         <span style=\"color: #800000; text-decoration-color: #800000\">https://slideflow.dev/installation/#cucim-vs-libvips for more information.</span>                     \n",
       "</pre>\n"
      ],
      "text/plain": [
       "\u001b[2;36m          \u001b[0m\u001b[2;36m \u001b[0m\u001b[1;31mERROR   \u001b[0m \u001b[31mSlide /mnt/d/Digital_path/DIG_PAT_1727360454.ndpi has type NDPI, which is incompatible with the\u001b[0m\n",
       "\u001b[2;36m           \u001b[0m         \u001b[31mactive slide reading backend, cucim. Consider using a different backend, which can be set with \u001b[0m\n",
       "\u001b[2;36m           \u001b[0m         \u001b[31mthe environmental variable SF_SLIDE_BACKEND. See \u001b[0m                                              \n",
       "\u001b[2;36m           \u001b[0m         \u001b[31mhttps://slideflow.dev/installation/#cucim-vs-libvips for more information.\u001b[0m                     \n"
      ]
     },
     "metadata": {},
     "output_type": "display_data"
    },
    {
     "data": {
      "text/html": [
       "<pre style=\"white-space:pre;overflow-x:auto;line-height:normal;font-family:Menlo,'DejaVu Sans Mono',consolas,'Courier New',monospace\"><span style=\"color: #7fbfbf; text-decoration-color: #7fbfbf\">           </span><span style=\"color: #800000; text-decoration-color: #800000; font-weight: bold\">ERROR   </span> <span style=\"color: #800000; text-decoration-color: #800000\">Error loading slide /mnt/d/Digital_path/DIG_PAT_1701102032.tif: Error loading slide </span>           \n",
       "<span style=\"color: #7fbfbf; text-decoration-color: #7fbfbf\">           </span>         <span style=\"color: #800000; text-decoration-color: #800000\">DIG_PAT_1701102032: This format has more than one image with Subfile Type 0 so cannot be </span>      \n",
       "<span style=\"color: #7fbfbf; text-decoration-color: #7fbfbf\">           </span>         <span style=\"color: #800000; text-decoration-color: #800000\">loaded!. Skipping</span>                                                                              \n",
       "</pre>\n"
      ],
      "text/plain": [
       "\u001b[2;36m          \u001b[0m\u001b[2;36m \u001b[0m\u001b[1;31mERROR   \u001b[0m \u001b[31mError loading slide /mnt/d/Digital_path/DIG_PAT_1701102032.tif: Error loading slide \u001b[0m           \n",
       "\u001b[2;36m           \u001b[0m         \u001b[31mDIG_PAT_1701102032: This format has more than one image with Subfile Type 0 so cannot be \u001b[0m      \n",
       "\u001b[2;36m           \u001b[0m         \u001b[31mloaded!. Skipping\u001b[0m                                                                              \n"
      ]
     },
     "metadata": {},
     "output_type": "display_data"
    },
    {
     "data": {
      "text/html": [
       "<pre style=\"white-space:pre;overflow-x:auto;line-height:normal;font-family:Menlo,'DejaVu Sans Mono',consolas,'Courier New',monospace\"><span style=\"color: #7fbfbf; text-decoration-color: #7fbfbf\">           </span><span style=\"color: #800000; text-decoration-color: #800000; font-weight: bold\">ERROR   </span> <span style=\"color: #800000; text-decoration-color: #800000\">Error loading slide /mnt/d/Digital_path/DIG_PAT_1701554984.tif: Error loading slide </span>           \n",
       "<span style=\"color: #7fbfbf; text-decoration-color: #7fbfbf\">           </span>         <span style=\"color: #800000; text-decoration-color: #800000\">DIG_PAT_1701554984: This format has more than one image with Subfile Type 0 so cannot be </span>      \n",
       "<span style=\"color: #7fbfbf; text-decoration-color: #7fbfbf\">           </span>         <span style=\"color: #800000; text-decoration-color: #800000\">loaded!. Skipping</span>                                                                              \n",
       "</pre>\n"
      ],
      "text/plain": [
       "\u001b[2;36m          \u001b[0m\u001b[2;36m \u001b[0m\u001b[1;31mERROR   \u001b[0m \u001b[31mError loading slide /mnt/d/Digital_path/DIG_PAT_1701554984.tif: Error loading slide \u001b[0m           \n",
       "\u001b[2;36m           \u001b[0m         \u001b[31mDIG_PAT_1701554984: This format has more than one image with Subfile Type 0 so cannot be \u001b[0m      \n",
       "\u001b[2;36m           \u001b[0m         \u001b[31mloaded!. Skipping\u001b[0m                                                                              \n"
      ]
     },
     "metadata": {},
     "output_type": "display_data"
    },
    {
     "data": {
      "text/html": [
       "<pre style=\"white-space:pre;overflow-x:auto;line-height:normal;font-family:Menlo,'DejaVu Sans Mono',consolas,'Courier New',monospace\"><span style=\"color: #7fbfbf; text-decoration-color: #7fbfbf\">           </span><span style=\"color: #800000; text-decoration-color: #800000; font-weight: bold\">ERROR   </span> <span style=\"color: #800000; text-decoration-color: #800000\">Slide /mnt/d/Digital_path/DIG_PAT_1727361726.ndpi has type NDPI, which is incompatible with the</span>\n",
       "<span style=\"color: #7fbfbf; text-decoration-color: #7fbfbf\">           </span>         <span style=\"color: #800000; text-decoration-color: #800000\">active slide reading backend, cucim. Consider using a different backend, which can be set with </span>\n",
       "<span style=\"color: #7fbfbf; text-decoration-color: #7fbfbf\">           </span>         <span style=\"color: #800000; text-decoration-color: #800000\">the environmental variable SF_SLIDE_BACKEND. See </span>                                              \n",
       "<span style=\"color: #7fbfbf; text-decoration-color: #7fbfbf\">           </span>         <span style=\"color: #800000; text-decoration-color: #800000\">https://slideflow.dev/installation/#cucim-vs-libvips for more information.</span>                     \n",
       "</pre>\n"
      ],
      "text/plain": [
       "\u001b[2;36m          \u001b[0m\u001b[2;36m \u001b[0m\u001b[1;31mERROR   \u001b[0m \u001b[31mSlide /mnt/d/Digital_path/DIG_PAT_1727361726.ndpi has type NDPI, which is incompatible with the\u001b[0m\n",
       "\u001b[2;36m           \u001b[0m         \u001b[31mactive slide reading backend, cucim. Consider using a different backend, which can be set with \u001b[0m\n",
       "\u001b[2;36m           \u001b[0m         \u001b[31mthe environmental variable SF_SLIDE_BACKEND. See \u001b[0m                                              \n",
       "\u001b[2;36m           \u001b[0m         \u001b[31mhttps://slideflow.dev/installation/#cucim-vs-libvips for more information.\u001b[0m                     \n"
      ]
     },
     "metadata": {},
     "output_type": "display_data"
    },
    {
     "data": {
      "text/html": [
       "<pre style=\"white-space:pre;overflow-x:auto;line-height:normal;font-family:Menlo,'DejaVu Sans Mono',consolas,'Courier New',monospace\"><span style=\"color: #7fbfbf; text-decoration-color: #7fbfbf\">           </span><span style=\"color: #800000; text-decoration-color: #800000; font-weight: bold\">ERROR   </span> <span style=\"color: #800000; text-decoration-color: #800000\">Error loading slide /mnt/d/Digital_path/DIG_PAT_1707638622.tif: Error loading slide </span>           \n",
       "<span style=\"color: #7fbfbf; text-decoration-color: #7fbfbf\">           </span>         <span style=\"color: #800000; text-decoration-color: #800000\">DIG_PAT_1707638622: This format has more than one image with Subfile Type 0 so cannot be </span>      \n",
       "<span style=\"color: #7fbfbf; text-decoration-color: #7fbfbf\">           </span>         <span style=\"color: #800000; text-decoration-color: #800000\">loaded!. Skipping</span>                                                                              \n",
       "</pre>\n"
      ],
      "text/plain": [
       "\u001b[2;36m          \u001b[0m\u001b[2;36m \u001b[0m\u001b[1;31mERROR   \u001b[0m \u001b[31mError loading slide /mnt/d/Digital_path/DIG_PAT_1707638622.tif: Error loading slide \u001b[0m           \n",
       "\u001b[2;36m           \u001b[0m         \u001b[31mDIG_PAT_1707638622: This format has more than one image with Subfile Type 0 so cannot be \u001b[0m      \n",
       "\u001b[2;36m           \u001b[0m         \u001b[31mloaded!. Skipping\u001b[0m                                                                              \n"
      ]
     },
     "metadata": {},
     "output_type": "display_data"
    },
    {
     "data": {
      "text/html": [
       "<pre style=\"white-space:pre;overflow-x:auto;line-height:normal;font-family:Menlo,'DejaVu Sans Mono',consolas,'Courier New',monospace\"><span style=\"color: #7fbfbf; text-decoration-color: #7fbfbf\">           </span><span style=\"color: #800000; text-decoration-color: #800000; font-weight: bold\">ERROR   </span> <span style=\"color: #800000; text-decoration-color: #800000\">Slide /mnt/d/Digital_path/DIG_PAT_1727363144.ndpi has type NDPI, which is incompatible with the</span>\n",
       "<span style=\"color: #7fbfbf; text-decoration-color: #7fbfbf\">           </span>         <span style=\"color: #800000; text-decoration-color: #800000\">active slide reading backend, cucim. Consider using a different backend, which can be set with </span>\n",
       "<span style=\"color: #7fbfbf; text-decoration-color: #7fbfbf\">           </span>         <span style=\"color: #800000; text-decoration-color: #800000\">the environmental variable SF_SLIDE_BACKEND. See </span>                                              \n",
       "<span style=\"color: #7fbfbf; text-decoration-color: #7fbfbf\">           </span>         <span style=\"color: #800000; text-decoration-color: #800000\">https://slideflow.dev/installation/#cucim-vs-libvips for more information.</span>                     \n",
       "</pre>\n"
      ],
      "text/plain": [
       "\u001b[2;36m          \u001b[0m\u001b[2;36m \u001b[0m\u001b[1;31mERROR   \u001b[0m \u001b[31mSlide /mnt/d/Digital_path/DIG_PAT_1727363144.ndpi has type NDPI, which is incompatible with the\u001b[0m\n",
       "\u001b[2;36m           \u001b[0m         \u001b[31mactive slide reading backend, cucim. Consider using a different backend, which can be set with \u001b[0m\n",
       "\u001b[2;36m           \u001b[0m         \u001b[31mthe environmental variable SF_SLIDE_BACKEND. See \u001b[0m                                              \n",
       "\u001b[2;36m           \u001b[0m         \u001b[31mhttps://slideflow.dev/installation/#cucim-vs-libvips for more information.\u001b[0m                     \n"
      ]
     },
     "metadata": {},
     "output_type": "display_data"
    },
    {
     "data": {
      "text/html": [
       "<pre style=\"white-space:pre;overflow-x:auto;line-height:normal;font-family:Menlo,'DejaVu Sans Mono',consolas,'Courier New',monospace\"><span style=\"color: #7fbfbf; text-decoration-color: #7fbfbf\">           </span><span style=\"color: #800000; text-decoration-color: #800000; font-weight: bold\">ERROR   </span> <span style=\"color: #800000; text-decoration-color: #800000\">Slide /mnt/d/Digital_path/DIG_PAT_1727363060.ndpi has type NDPI, which is incompatible with the</span>\n",
       "<span style=\"color: #7fbfbf; text-decoration-color: #7fbfbf\">           </span>         <span style=\"color: #800000; text-decoration-color: #800000\">active slide reading backend, cucim. Consider using a different backend, which can be set with </span>\n",
       "<span style=\"color: #7fbfbf; text-decoration-color: #7fbfbf\">           </span>         <span style=\"color: #800000; text-decoration-color: #800000\">the environmental variable SF_SLIDE_BACKEND. See </span>                                              \n",
       "<span style=\"color: #7fbfbf; text-decoration-color: #7fbfbf\">           </span>         <span style=\"color: #800000; text-decoration-color: #800000\">https://slideflow.dev/installation/#cucim-vs-libvips for more information.</span>                     \n",
       "</pre>\n"
      ],
      "text/plain": [
       "\u001b[2;36m          \u001b[0m\u001b[2;36m \u001b[0m\u001b[1;31mERROR   \u001b[0m \u001b[31mSlide /mnt/d/Digital_path/DIG_PAT_1727363060.ndpi has type NDPI, which is incompatible with the\u001b[0m\n",
       "\u001b[2;36m           \u001b[0m         \u001b[31mactive slide reading backend, cucim. Consider using a different backend, which can be set with \u001b[0m\n",
       "\u001b[2;36m           \u001b[0m         \u001b[31mthe environmental variable SF_SLIDE_BACKEND. See \u001b[0m                                              \n",
       "\u001b[2;36m           \u001b[0m         \u001b[31mhttps://slideflow.dev/installation/#cucim-vs-libvips for more information.\u001b[0m                     \n"
      ]
     },
     "metadata": {},
     "output_type": "display_data"
    },
    {
     "data": {
      "text/html": [
       "<pre style=\"white-space:pre;overflow-x:auto;line-height:normal;font-family:Menlo,'DejaVu Sans Mono',consolas,'Courier New',monospace\"><span style=\"color: #7fbfbf; text-decoration-color: #7fbfbf\">           </span><span style=\"color: #800000; text-decoration-color: #800000; font-weight: bold\">ERROR   </span> <span style=\"color: #800000; text-decoration-color: #800000\">Slide /mnt/d/Digital_path/DIG_PAT_1727360967.ndpi has type NDPI, which is incompatible with the</span>\n",
       "<span style=\"color: #7fbfbf; text-decoration-color: #7fbfbf\">           </span>         <span style=\"color: #800000; text-decoration-color: #800000\">active slide reading backend, cucim. Consider using a different backend, which can be set with </span>\n",
       "<span style=\"color: #7fbfbf; text-decoration-color: #7fbfbf\">           </span>         <span style=\"color: #800000; text-decoration-color: #800000\">the environmental variable SF_SLIDE_BACKEND. See </span>                                              \n",
       "<span style=\"color: #7fbfbf; text-decoration-color: #7fbfbf\">           </span>         <span style=\"color: #800000; text-decoration-color: #800000\">https://slideflow.dev/installation/#cucim-vs-libvips for more information.</span>                     \n",
       "</pre>\n"
      ],
      "text/plain": [
       "\u001b[2;36m          \u001b[0m\u001b[2;36m \u001b[0m\u001b[1;31mERROR   \u001b[0m \u001b[31mSlide /mnt/d/Digital_path/DIG_PAT_1727360967.ndpi has type NDPI, which is incompatible with the\u001b[0m\n",
       "\u001b[2;36m           \u001b[0m         \u001b[31mactive slide reading backend, cucim. Consider using a different backend, which can be set with \u001b[0m\n",
       "\u001b[2;36m           \u001b[0m         \u001b[31mthe environmental variable SF_SLIDE_BACKEND. See \u001b[0m                                              \n",
       "\u001b[2;36m           \u001b[0m         \u001b[31mhttps://slideflow.dev/installation/#cucim-vs-libvips for more information.\u001b[0m                     \n"
      ]
     },
     "metadata": {},
     "output_type": "display_data"
    },
    {
     "data": {
      "text/html": [
       "<pre style=\"white-space:pre;overflow-x:auto;line-height:normal;font-family:Menlo,'DejaVu Sans Mono',consolas,'Courier New',monospace\"><span style=\"color: #7fbfbf; text-decoration-color: #7fbfbf\">           </span><span style=\"color: #800000; text-decoration-color: #800000; font-weight: bold\">ERROR   </span> <span style=\"color: #800000; text-decoration-color: #800000\">Slide /mnt/d/Digital_path/DIG_PAT_1727359518.ndpi has type NDPI, which is incompatible with the</span>\n",
       "<span style=\"color: #7fbfbf; text-decoration-color: #7fbfbf\">           </span>         <span style=\"color: #800000; text-decoration-color: #800000\">active slide reading backend, cucim. Consider using a different backend, which can be set with </span>\n",
       "<span style=\"color: #7fbfbf; text-decoration-color: #7fbfbf\">           </span>         <span style=\"color: #800000; text-decoration-color: #800000\">the environmental variable SF_SLIDE_BACKEND. See </span>                                              \n",
       "<span style=\"color: #7fbfbf; text-decoration-color: #7fbfbf\">           </span>         <span style=\"color: #800000; text-decoration-color: #800000\">https://slideflow.dev/installation/#cucim-vs-libvips for more information.</span>                     \n",
       "</pre>\n"
      ],
      "text/plain": [
       "\u001b[2;36m          \u001b[0m\u001b[2;36m \u001b[0m\u001b[1;31mERROR   \u001b[0m \u001b[31mSlide /mnt/d/Digital_path/DIG_PAT_1727359518.ndpi has type NDPI, which is incompatible with the\u001b[0m\n",
       "\u001b[2;36m           \u001b[0m         \u001b[31mactive slide reading backend, cucim. Consider using a different backend, which can be set with \u001b[0m\n",
       "\u001b[2;36m           \u001b[0m         \u001b[31mthe environmental variable SF_SLIDE_BACKEND. See \u001b[0m                                              \n",
       "\u001b[2;36m           \u001b[0m         \u001b[31mhttps://slideflow.dev/installation/#cucim-vs-libvips for more information.\u001b[0m                     \n"
      ]
     },
     "metadata": {},
     "output_type": "display_data"
    },
    {
     "data": {
      "text/html": [
       "<pre style=\"white-space:pre;overflow-x:auto;line-height:normal;font-family:Menlo,'DejaVu Sans Mono',consolas,'Courier New',monospace\"><span style=\"color: #7fbfbf; text-decoration-color: #7fbfbf\">           </span><span style=\"color: #800000; text-decoration-color: #800000; font-weight: bold\">ERROR   </span> <span style=\"color: #800000; text-decoration-color: #800000\">Slide /mnt/d/Digital_path/DIG_PAT_1727363083.ndpi has type NDPI, which is incompatible with the</span>\n",
       "<span style=\"color: #7fbfbf; text-decoration-color: #7fbfbf\">           </span>         <span style=\"color: #800000; text-decoration-color: #800000\">active slide reading backend, cucim. Consider using a different backend, which can be set with </span>\n",
       "<span style=\"color: #7fbfbf; text-decoration-color: #7fbfbf\">           </span>         <span style=\"color: #800000; text-decoration-color: #800000\">the environmental variable SF_SLIDE_BACKEND. See </span>                                              \n",
       "<span style=\"color: #7fbfbf; text-decoration-color: #7fbfbf\">           </span>         <span style=\"color: #800000; text-decoration-color: #800000\">https://slideflow.dev/installation/#cucim-vs-libvips for more information.</span>                     \n",
       "</pre>\n"
      ],
      "text/plain": [
       "\u001b[2;36m          \u001b[0m\u001b[2;36m \u001b[0m\u001b[1;31mERROR   \u001b[0m \u001b[31mSlide /mnt/d/Digital_path/DIG_PAT_1727363083.ndpi has type NDPI, which is incompatible with the\u001b[0m\n",
       "\u001b[2;36m           \u001b[0m         \u001b[31mactive slide reading backend, cucim. Consider using a different backend, which can be set with \u001b[0m\n",
       "\u001b[2;36m           \u001b[0m         \u001b[31mthe environmental variable SF_SLIDE_BACKEND. See \u001b[0m                                              \n",
       "\u001b[2;36m           \u001b[0m         \u001b[31mhttps://slideflow.dev/installation/#cucim-vs-libvips for more information.\u001b[0m                     \n"
      ]
     },
     "metadata": {},
     "output_type": "display_data"
    },
    {
     "data": {
      "text/html": [
       "<pre style=\"white-space:pre;overflow-x:auto;line-height:normal;font-family:Menlo,'DejaVu Sans Mono',consolas,'Courier New',monospace\"><span style=\"color: #7fbfbf; text-decoration-color: #7fbfbf\">           </span><span style=\"color: #800000; text-decoration-color: #800000; font-weight: bold\">ERROR   </span> <span style=\"color: #800000; text-decoration-color: #800000\">Slide /mnt/d/Digital_path/DIG_PAT_1727361790.ndpi has type NDPI, which is incompatible with the</span>\n",
       "<span style=\"color: #7fbfbf; text-decoration-color: #7fbfbf\">           </span>         <span style=\"color: #800000; text-decoration-color: #800000\">active slide reading backend, cucim. Consider using a different backend, which can be set with </span>\n",
       "<span style=\"color: #7fbfbf; text-decoration-color: #7fbfbf\">           </span>         <span style=\"color: #800000; text-decoration-color: #800000\">the environmental variable SF_SLIDE_BACKEND. See </span>                                              \n",
       "<span style=\"color: #7fbfbf; text-decoration-color: #7fbfbf\">           </span>         <span style=\"color: #800000; text-decoration-color: #800000\">https://slideflow.dev/installation/#cucim-vs-libvips for more information.</span>                     \n",
       "</pre>\n"
      ],
      "text/plain": [
       "\u001b[2;36m          \u001b[0m\u001b[2;36m \u001b[0m\u001b[1;31mERROR   \u001b[0m \u001b[31mSlide /mnt/d/Digital_path/DIG_PAT_1727361790.ndpi has type NDPI, which is incompatible with the\u001b[0m\n",
       "\u001b[2;36m           \u001b[0m         \u001b[31mactive slide reading backend, cucim. Consider using a different backend, which can be set with \u001b[0m\n",
       "\u001b[2;36m           \u001b[0m         \u001b[31mthe environmental variable SF_SLIDE_BACKEND. See \u001b[0m                                              \n",
       "\u001b[2;36m           \u001b[0m         \u001b[31mhttps://slideflow.dev/installation/#cucim-vs-libvips for more information.\u001b[0m                     \n"
      ]
     },
     "metadata": {},
     "output_type": "display_data"
    },
    {
     "data": {
      "text/html": [
       "<pre style=\"white-space:pre;overflow-x:auto;line-height:normal;font-family:Menlo,'DejaVu Sans Mono',consolas,'Courier New',monospace\"><span style=\"color: #7fbfbf; text-decoration-color: #7fbfbf\">           </span><span style=\"color: #800000; text-decoration-color: #800000; font-weight: bold\">ERROR   </span> <span style=\"color: #800000; text-decoration-color: #800000\">Error loading slide /mnt/d/Digital_path/DIG_PAT_1710624508.tif: Error loading slide </span>           \n",
       "<span style=\"color: #7fbfbf; text-decoration-color: #7fbfbf\">           </span>         <span style=\"color: #800000; text-decoration-color: #800000\">DIG_PAT_1710624508: This format has more than one image with Subfile Type 0 so cannot be </span>      \n",
       "<span style=\"color: #7fbfbf; text-decoration-color: #7fbfbf\">           </span>         <span style=\"color: #800000; text-decoration-color: #800000\">loaded!. Skipping</span>                                                                              \n",
       "</pre>\n"
      ],
      "text/plain": [
       "\u001b[2;36m          \u001b[0m\u001b[2;36m \u001b[0m\u001b[1;31mERROR   \u001b[0m \u001b[31mError loading slide /mnt/d/Digital_path/DIG_PAT_1710624508.tif: Error loading slide \u001b[0m           \n",
       "\u001b[2;36m           \u001b[0m         \u001b[31mDIG_PAT_1710624508: This format has more than one image with Subfile Type 0 so cannot be \u001b[0m      \n",
       "\u001b[2;36m           \u001b[0m         \u001b[31mloaded!. Skipping\u001b[0m                                                                              \n"
      ]
     },
     "metadata": {},
     "output_type": "display_data"
    },
    {
     "data": {
      "text/html": [
       "<pre style=\"white-space:pre;overflow-x:auto;line-height:normal;font-family:Menlo,'DejaVu Sans Mono',consolas,'Courier New',monospace\"><span style=\"color: #7fbfbf; text-decoration-color: #7fbfbf\">           </span><span style=\"color: #800000; text-decoration-color: #800000; font-weight: bold\">ERROR   </span> <span style=\"color: #800000; text-decoration-color: #800000\">Slide /mnt/d/Digital_path/DIG_PAT_1727361164.ndpi has type NDPI, which is incompatible with the</span>\n",
       "<span style=\"color: #7fbfbf; text-decoration-color: #7fbfbf\">           </span>         <span style=\"color: #800000; text-decoration-color: #800000\">active slide reading backend, cucim. Consider using a different backend, which can be set with </span>\n",
       "<span style=\"color: #7fbfbf; text-decoration-color: #7fbfbf\">           </span>         <span style=\"color: #800000; text-decoration-color: #800000\">the environmental variable SF_SLIDE_BACKEND. See </span>                                              \n",
       "<span style=\"color: #7fbfbf; text-decoration-color: #7fbfbf\">           </span>         <span style=\"color: #800000; text-decoration-color: #800000\">https://slideflow.dev/installation/#cucim-vs-libvips for more information.</span>                     \n",
       "</pre>\n"
      ],
      "text/plain": [
       "\u001b[2;36m          \u001b[0m\u001b[2;36m \u001b[0m\u001b[1;31mERROR   \u001b[0m \u001b[31mSlide /mnt/d/Digital_path/DIG_PAT_1727361164.ndpi has type NDPI, which is incompatible with the\u001b[0m\n",
       "\u001b[2;36m           \u001b[0m         \u001b[31mactive slide reading backend, cucim. Consider using a different backend, which can be set with \u001b[0m\n",
       "\u001b[2;36m           \u001b[0m         \u001b[31mthe environmental variable SF_SLIDE_BACKEND. See \u001b[0m                                              \n",
       "\u001b[2;36m           \u001b[0m         \u001b[31mhttps://slideflow.dev/installation/#cucim-vs-libvips for more information.\u001b[0m                     \n"
      ]
     },
     "metadata": {},
     "output_type": "display_data"
    },
    {
     "data": {
      "text/html": [
       "<pre style=\"white-space:pre;overflow-x:auto;line-height:normal;font-family:Menlo,'DejaVu Sans Mono',consolas,'Courier New',monospace\"><span style=\"color: #7fbfbf; text-decoration-color: #7fbfbf\">           </span><span style=\"color: #800000; text-decoration-color: #800000; font-weight: bold\">ERROR   </span> <span style=\"color: #800000; text-decoration-color: #800000\">Error loading slide /mnt/d/Digital_path/DIG_PAT_1701208380.tif: Error loading slide </span>           \n",
       "<span style=\"color: #7fbfbf; text-decoration-color: #7fbfbf\">           </span>         <span style=\"color: #800000; text-decoration-color: #800000\">DIG_PAT_1701208380: This format has more than one image with Subfile Type 0 so cannot be </span>      \n",
       "<span style=\"color: #7fbfbf; text-decoration-color: #7fbfbf\">           </span>         <span style=\"color: #800000; text-decoration-color: #800000\">loaded!. Skipping</span>                                                                              \n",
       "</pre>\n"
      ],
      "text/plain": [
       "\u001b[2;36m          \u001b[0m\u001b[2;36m \u001b[0m\u001b[1;31mERROR   \u001b[0m \u001b[31mError loading slide /mnt/d/Digital_path/DIG_PAT_1701208380.tif: Error loading slide \u001b[0m           \n",
       "\u001b[2;36m           \u001b[0m         \u001b[31mDIG_PAT_1701208380: This format has more than one image with Subfile Type 0 so cannot be \u001b[0m      \n",
       "\u001b[2;36m           \u001b[0m         \u001b[31mloaded!. Skipping\u001b[0m                                                                              \n"
      ]
     },
     "metadata": {},
     "output_type": "display_data"
    },
    {
     "data": {
      "text/html": [
       "<pre style=\"white-space:pre;overflow-x:auto;line-height:normal;font-family:Menlo,'DejaVu Sans Mono',consolas,'Courier New',monospace\"><span style=\"color: #7fbfbf; text-decoration-color: #7fbfbf\">           </span><span style=\"color: #800000; text-decoration-color: #800000; font-weight: bold\">ERROR   </span> <span style=\"color: #800000; text-decoration-color: #800000\">Slide /mnt/d/Digital_path/DIG_PAT_1727363411.ndpi has type NDPI, which is incompatible with the</span>\n",
       "<span style=\"color: #7fbfbf; text-decoration-color: #7fbfbf\">           </span>         <span style=\"color: #800000; text-decoration-color: #800000\">active slide reading backend, cucim. Consider using a different backend, which can be set with </span>\n",
       "<span style=\"color: #7fbfbf; text-decoration-color: #7fbfbf\">           </span>         <span style=\"color: #800000; text-decoration-color: #800000\">the environmental variable SF_SLIDE_BACKEND. See </span>                                              \n",
       "<span style=\"color: #7fbfbf; text-decoration-color: #7fbfbf\">           </span>         <span style=\"color: #800000; text-decoration-color: #800000\">https://slideflow.dev/installation/#cucim-vs-libvips for more information.</span>                     \n",
       "</pre>\n"
      ],
      "text/plain": [
       "\u001b[2;36m          \u001b[0m\u001b[2;36m \u001b[0m\u001b[1;31mERROR   \u001b[0m \u001b[31mSlide /mnt/d/Digital_path/DIG_PAT_1727363411.ndpi has type NDPI, which is incompatible with the\u001b[0m\n",
       "\u001b[2;36m           \u001b[0m         \u001b[31mactive slide reading backend, cucim. Consider using a different backend, which can be set with \u001b[0m\n",
       "\u001b[2;36m           \u001b[0m         \u001b[31mthe environmental variable SF_SLIDE_BACKEND. See \u001b[0m                                              \n",
       "\u001b[2;36m           \u001b[0m         \u001b[31mhttps://slideflow.dev/installation/#cucim-vs-libvips for more information.\u001b[0m                     \n"
      ]
     },
     "metadata": {},
     "output_type": "display_data"
    },
    {
     "data": {
      "text/html": [
       "<pre style=\"white-space:pre;overflow-x:auto;line-height:normal;font-family:Menlo,'DejaVu Sans Mono',consolas,'Courier New',monospace\"><span style=\"color: #7fbfbf; text-decoration-color: #7fbfbf\">           </span><span style=\"color: #800000; text-decoration-color: #800000; font-weight: bold\">ERROR   </span> <span style=\"color: #800000; text-decoration-color: #800000\">Slide /mnt/d/Digital_path/DIG_PAT_1727362108.ndpi has type NDPI, which is incompatible with the</span>\n",
       "<span style=\"color: #7fbfbf; text-decoration-color: #7fbfbf\">           </span>         <span style=\"color: #800000; text-decoration-color: #800000\">active slide reading backend, cucim. Consider using a different backend, which can be set with </span>\n",
       "<span style=\"color: #7fbfbf; text-decoration-color: #7fbfbf\">           </span>         <span style=\"color: #800000; text-decoration-color: #800000\">the environmental variable SF_SLIDE_BACKEND. See </span>                                              \n",
       "<span style=\"color: #7fbfbf; text-decoration-color: #7fbfbf\">           </span>         <span style=\"color: #800000; text-decoration-color: #800000\">https://slideflow.dev/installation/#cucim-vs-libvips for more information.</span>                     \n",
       "</pre>\n"
      ],
      "text/plain": [
       "\u001b[2;36m          \u001b[0m\u001b[2;36m \u001b[0m\u001b[1;31mERROR   \u001b[0m \u001b[31mSlide /mnt/d/Digital_path/DIG_PAT_1727362108.ndpi has type NDPI, which is incompatible with the\u001b[0m\n",
       "\u001b[2;36m           \u001b[0m         \u001b[31mactive slide reading backend, cucim. Consider using a different backend, which can be set with \u001b[0m\n",
       "\u001b[2;36m           \u001b[0m         \u001b[31mthe environmental variable SF_SLIDE_BACKEND. See \u001b[0m                                              \n",
       "\u001b[2;36m           \u001b[0m         \u001b[31mhttps://slideflow.dev/installation/#cucim-vs-libvips for more information.\u001b[0m                     \n"
      ]
     },
     "metadata": {},
     "output_type": "display_data"
    },
    {
     "data": {
      "text/html": [
       "<pre style=\"white-space:pre;overflow-x:auto;line-height:normal;font-family:Menlo,'DejaVu Sans Mono',consolas,'Courier New',monospace\"><span style=\"color: #7fbfbf; text-decoration-color: #7fbfbf\">           </span><span style=\"color: #800000; text-decoration-color: #800000; font-weight: bold\">ERROR   </span> <span style=\"color: #800000; text-decoration-color: #800000\">Error loading slide /mnt/d/Digital_path/DIG_PAT_1707609686.tif: Error loading slide </span>           \n",
       "<span style=\"color: #7fbfbf; text-decoration-color: #7fbfbf\">           </span>         <span style=\"color: #800000; text-decoration-color: #800000\">DIG_PAT_1707609686: This format has more than one image with Subfile Type 0 so cannot be </span>      \n",
       "<span style=\"color: #7fbfbf; text-decoration-color: #7fbfbf\">           </span>         <span style=\"color: #800000; text-decoration-color: #800000\">loaded!. Skipping</span>                                                                              \n",
       "</pre>\n"
      ],
      "text/plain": [
       "\u001b[2;36m          \u001b[0m\u001b[2;36m \u001b[0m\u001b[1;31mERROR   \u001b[0m \u001b[31mError loading slide /mnt/d/Digital_path/DIG_PAT_1707609686.tif: Error loading slide \u001b[0m           \n",
       "\u001b[2;36m           \u001b[0m         \u001b[31mDIG_PAT_1707609686: This format has more than one image with Subfile Type 0 so cannot be \u001b[0m      \n",
       "\u001b[2;36m           \u001b[0m         \u001b[31mloaded!. Skipping\u001b[0m                                                                              \n"
      ]
     },
     "metadata": {},
     "output_type": "display_data"
    },
    {
     "data": {
      "text/html": [
       "<pre style=\"white-space:pre;overflow-x:auto;line-height:normal;font-family:Menlo,'DejaVu Sans Mono',consolas,'Courier New',monospace\"><span style=\"color: #7fbfbf; text-decoration-color: #7fbfbf\">           </span><span style=\"color: #800000; text-decoration-color: #800000; font-weight: bold\">ERROR   </span> <span style=\"color: #800000; text-decoration-color: #800000\">Slide /mnt/d/Digital_path/DIG_PAT_1727362673.ndpi has type NDPI, which is incompatible with the</span>\n",
       "<span style=\"color: #7fbfbf; text-decoration-color: #7fbfbf\">           </span>         <span style=\"color: #800000; text-decoration-color: #800000\">active slide reading backend, cucim. Consider using a different backend, which can be set with </span>\n",
       "<span style=\"color: #7fbfbf; text-decoration-color: #7fbfbf\">           </span>         <span style=\"color: #800000; text-decoration-color: #800000\">the environmental variable SF_SLIDE_BACKEND. See </span>                                              \n",
       "<span style=\"color: #7fbfbf; text-decoration-color: #7fbfbf\">           </span>         <span style=\"color: #800000; text-decoration-color: #800000\">https://slideflow.dev/installation/#cucim-vs-libvips for more information.</span>                     \n",
       "</pre>\n"
      ],
      "text/plain": [
       "\u001b[2;36m          \u001b[0m\u001b[2;36m \u001b[0m\u001b[1;31mERROR   \u001b[0m \u001b[31mSlide /mnt/d/Digital_path/DIG_PAT_1727362673.ndpi has type NDPI, which is incompatible with the\u001b[0m\n",
       "\u001b[2;36m           \u001b[0m         \u001b[31mactive slide reading backend, cucim. Consider using a different backend, which can be set with \u001b[0m\n",
       "\u001b[2;36m           \u001b[0m         \u001b[31mthe environmental variable SF_SLIDE_BACKEND. See \u001b[0m                                              \n",
       "\u001b[2;36m           \u001b[0m         \u001b[31mhttps://slideflow.dev/installation/#cucim-vs-libvips for more information.\u001b[0m                     \n"
      ]
     },
     "metadata": {},
     "output_type": "display_data"
    },
    {
     "data": {
      "text/html": [
       "<pre style=\"white-space:pre;overflow-x:auto;line-height:normal;font-family:Menlo,'DejaVu Sans Mono',consolas,'Courier New',monospace\"><span style=\"color: #7fbfbf; text-decoration-color: #7fbfbf\">           </span><span style=\"color: #800000; text-decoration-color: #800000; font-weight: bold\">ERROR   </span> <span style=\"color: #800000; text-decoration-color: #800000\">Slide /mnt/d/Digital_path/DIG_PAT_1727360941.ndpi has type NDPI, which is incompatible with the</span>\n",
       "<span style=\"color: #7fbfbf; text-decoration-color: #7fbfbf\">           </span>         <span style=\"color: #800000; text-decoration-color: #800000\">active slide reading backend, cucim. Consider using a different backend, which can be set with </span>\n",
       "<span style=\"color: #7fbfbf; text-decoration-color: #7fbfbf\">           </span>         <span style=\"color: #800000; text-decoration-color: #800000\">the environmental variable SF_SLIDE_BACKEND. See </span>                                              \n",
       "<span style=\"color: #7fbfbf; text-decoration-color: #7fbfbf\">           </span>         <span style=\"color: #800000; text-decoration-color: #800000\">https://slideflow.dev/installation/#cucim-vs-libvips for more information.</span>                     \n",
       "</pre>\n"
      ],
      "text/plain": [
       "\u001b[2;36m          \u001b[0m\u001b[2;36m \u001b[0m\u001b[1;31mERROR   \u001b[0m \u001b[31mSlide /mnt/d/Digital_path/DIG_PAT_1727360941.ndpi has type NDPI, which is incompatible with the\u001b[0m\n",
       "\u001b[2;36m           \u001b[0m         \u001b[31mactive slide reading backend, cucim. Consider using a different backend, which can be set with \u001b[0m\n",
       "\u001b[2;36m           \u001b[0m         \u001b[31mthe environmental variable SF_SLIDE_BACKEND. See \u001b[0m                                              \n",
       "\u001b[2;36m           \u001b[0m         \u001b[31mhttps://slideflow.dev/installation/#cucim-vs-libvips for more information.\u001b[0m                     \n"
      ]
     },
     "metadata": {},
     "output_type": "display_data"
    },
    {
     "data": {
      "text/html": [
       "<pre style=\"white-space:pre;overflow-x:auto;line-height:normal;font-family:Menlo,'DejaVu Sans Mono',consolas,'Courier New',monospace\"><span style=\"color: #7fbfbf; text-decoration-color: #7fbfbf\">           </span><span style=\"color: #800000; text-decoration-color: #800000; font-weight: bold\">ERROR   </span> <span style=\"color: #800000; text-decoration-color: #800000\">Slide /mnt/d/Digital_path/DIG_PAT_1727363206.ndpi has type NDPI, which is incompatible with the</span>\n",
       "<span style=\"color: #7fbfbf; text-decoration-color: #7fbfbf\">           </span>         <span style=\"color: #800000; text-decoration-color: #800000\">active slide reading backend, cucim. Consider using a different backend, which can be set with </span>\n",
       "<span style=\"color: #7fbfbf; text-decoration-color: #7fbfbf\">           </span>         <span style=\"color: #800000; text-decoration-color: #800000\">the environmental variable SF_SLIDE_BACKEND. See </span>                                              \n",
       "<span style=\"color: #7fbfbf; text-decoration-color: #7fbfbf\">           </span>         <span style=\"color: #800000; text-decoration-color: #800000\">https://slideflow.dev/installation/#cucim-vs-libvips for more information.</span>                     \n",
       "</pre>\n"
      ],
      "text/plain": [
       "\u001b[2;36m          \u001b[0m\u001b[2;36m \u001b[0m\u001b[1;31mERROR   \u001b[0m \u001b[31mSlide /mnt/d/Digital_path/DIG_PAT_1727363206.ndpi has type NDPI, which is incompatible with the\u001b[0m\n",
       "\u001b[2;36m           \u001b[0m         \u001b[31mactive slide reading backend, cucim. Consider using a different backend, which can be set with \u001b[0m\n",
       "\u001b[2;36m           \u001b[0m         \u001b[31mthe environmental variable SF_SLIDE_BACKEND. See \u001b[0m                                              \n",
       "\u001b[2;36m           \u001b[0m         \u001b[31mhttps://slideflow.dev/installation/#cucim-vs-libvips for more information.\u001b[0m                     \n"
      ]
     },
     "metadata": {},
     "output_type": "display_data"
    },
    {
     "data": {
      "text/html": [
       "<pre style=\"white-space:pre;overflow-x:auto;line-height:normal;font-family:Menlo,'DejaVu Sans Mono',consolas,'Courier New',monospace\"><span style=\"color: #7fbfbf; text-decoration-color: #7fbfbf\">           </span><span style=\"color: #800000; text-decoration-color: #800000; font-weight: bold\">ERROR   </span> <span style=\"color: #800000; text-decoration-color: #800000\">Error loading slide /mnt/d/Digital_path/DIG_PAT_1701612647.tif: Error loading slide </span>           \n",
       "<span style=\"color: #7fbfbf; text-decoration-color: #7fbfbf\">           </span>         <span style=\"color: #800000; text-decoration-color: #800000\">DIG_PAT_1701612647: This format has more than one image with Subfile Type 0 so cannot be </span>      \n",
       "<span style=\"color: #7fbfbf; text-decoration-color: #7fbfbf\">           </span>         <span style=\"color: #800000; text-decoration-color: #800000\">loaded!. Skipping</span>                                                                              \n",
       "</pre>\n"
      ],
      "text/plain": [
       "\u001b[2;36m          \u001b[0m\u001b[2;36m \u001b[0m\u001b[1;31mERROR   \u001b[0m \u001b[31mError loading slide /mnt/d/Digital_path/DIG_PAT_1701612647.tif: Error loading slide \u001b[0m           \n",
       "\u001b[2;36m           \u001b[0m         \u001b[31mDIG_PAT_1701612647: This format has more than one image with Subfile Type 0 so cannot be \u001b[0m      \n",
       "\u001b[2;36m           \u001b[0m         \u001b[31mloaded!. Skipping\u001b[0m                                                                              \n"
      ]
     },
     "metadata": {},
     "output_type": "display_data"
    },
    {
     "data": {
      "text/html": [
       "<pre style=\"white-space:pre;overflow-x:auto;line-height:normal;font-family:Menlo,'DejaVu Sans Mono',consolas,'Courier New',monospace\"><span style=\"color: #7fbfbf; text-decoration-color: #7fbfbf\">           </span><span style=\"color: #800000; text-decoration-color: #800000; font-weight: bold\">ERROR   </span> <span style=\"color: #800000; text-decoration-color: #800000\">Error loading slide /mnt/d/Digital_path/DIG_PAT_1701374278.tif: Error loading slide </span>           \n",
       "<span style=\"color: #7fbfbf; text-decoration-color: #7fbfbf\">           </span>         <span style=\"color: #800000; text-decoration-color: #800000\">DIG_PAT_1701374278: This format has more than one image with Subfile Type 0 so cannot be </span>      \n",
       "<span style=\"color: #7fbfbf; text-decoration-color: #7fbfbf\">           </span>         <span style=\"color: #800000; text-decoration-color: #800000\">loaded!. Skipping</span>                                                                              \n",
       "</pre>\n"
      ],
      "text/plain": [
       "\u001b[2;36m          \u001b[0m\u001b[2;36m \u001b[0m\u001b[1;31mERROR   \u001b[0m \u001b[31mError loading slide /mnt/d/Digital_path/DIG_PAT_1701374278.tif: Error loading slide \u001b[0m           \n",
       "\u001b[2;36m           \u001b[0m         \u001b[31mDIG_PAT_1701374278: This format has more than one image with Subfile Type 0 so cannot be \u001b[0m      \n",
       "\u001b[2;36m           \u001b[0m         \u001b[31mloaded!. Skipping\u001b[0m                                                                              \n"
      ]
     },
     "metadata": {},
     "output_type": "display_data"
    },
    {
     "data": {
      "text/html": [
       "<pre style=\"white-space:pre;overflow-x:auto;line-height:normal;font-family:Menlo,'DejaVu Sans Mono',consolas,'Courier New',monospace\"><span style=\"color: #7fbfbf; text-decoration-color: #7fbfbf\">[13:29:19] </span><span style=\"color: #800000; text-decoration-color: #800000; font-weight: bold\">ERROR   </span> <span style=\"color: #800000; text-decoration-color: #800000\">Error loading slide /mnt/d/Digital_path/DIG_PAT_1710624341.tif: Error loading slide </span>           \n",
       "<span style=\"color: #7fbfbf; text-decoration-color: #7fbfbf\">           </span>         <span style=\"color: #800000; text-decoration-color: #800000\">DIG_PAT_1710624341: This format has more than one image with Subfile Type 0 so cannot be </span>      \n",
       "<span style=\"color: #7fbfbf; text-decoration-color: #7fbfbf\">           </span>         <span style=\"color: #800000; text-decoration-color: #800000\">loaded!. Skipping</span>                                                                              \n",
       "</pre>\n"
      ],
      "text/plain": [
       "\u001b[2;36m[13:29:19]\u001b[0m\u001b[2;36m \u001b[0m\u001b[1;31mERROR   \u001b[0m \u001b[31mError loading slide /mnt/d/Digital_path/DIG_PAT_1710624341.tif: Error loading slide \u001b[0m           \n",
       "\u001b[2;36m           \u001b[0m         \u001b[31mDIG_PAT_1710624341: This format has more than one image with Subfile Type 0 so cannot be \u001b[0m      \n",
       "\u001b[2;36m           \u001b[0m         \u001b[31mloaded!. Skipping\u001b[0m                                                                              \n"
      ]
     },
     "metadata": {},
     "output_type": "display_data"
    },
    {
     "data": {
      "text/html": [
       "<pre style=\"white-space:pre;overflow-x:auto;line-height:normal;font-family:Menlo,'DejaVu Sans Mono',consolas,'Courier New',monospace\"><span style=\"color: #7fbfbf; text-decoration-color: #7fbfbf\">           </span><span style=\"color: #800000; text-decoration-color: #800000; font-weight: bold\">ERROR   </span> <span style=\"color: #800000; text-decoration-color: #800000\">Error loading slide /mnt/d/Digital_path/DIG_PAT_1701604843.tif: Error loading slide </span>           \n",
       "<span style=\"color: #7fbfbf; text-decoration-color: #7fbfbf\">           </span>         <span style=\"color: #800000; text-decoration-color: #800000\">DIG_PAT_1701604843: This format has more than one image with Subfile Type 0 so cannot be </span>      \n",
       "<span style=\"color: #7fbfbf; text-decoration-color: #7fbfbf\">           </span>         <span style=\"color: #800000; text-decoration-color: #800000\">loaded!. Skipping</span>                                                                              \n",
       "</pre>\n"
      ],
      "text/plain": [
       "\u001b[2;36m          \u001b[0m\u001b[2;36m \u001b[0m\u001b[1;31mERROR   \u001b[0m \u001b[31mError loading slide /mnt/d/Digital_path/DIG_PAT_1701604843.tif: Error loading slide \u001b[0m           \n",
       "\u001b[2;36m           \u001b[0m         \u001b[31mDIG_PAT_1701604843: This format has more than one image with Subfile Type 0 so cannot be \u001b[0m      \n",
       "\u001b[2;36m           \u001b[0m         \u001b[31mloaded!. Skipping\u001b[0m                                                                              \n"
      ]
     },
     "metadata": {},
     "output_type": "display_data"
    },
    {
     "data": {
      "text/html": [
       "<pre style=\"white-space:pre;overflow-x:auto;line-height:normal;font-family:Menlo,'DejaVu Sans Mono',consolas,'Courier New',monospace\"><span style=\"color: #7fbfbf; text-decoration-color: #7fbfbf\">           </span><span style=\"color: #800000; text-decoration-color: #800000; font-weight: bold\">ERROR   </span> <span style=\"color: #800000; text-decoration-color: #800000\">Slide /mnt/d/Digital_path/DIG_PAT_1727362572.ndpi has type NDPI, which is incompatible with the</span>\n",
       "<span style=\"color: #7fbfbf; text-decoration-color: #7fbfbf\">           </span>         <span style=\"color: #800000; text-decoration-color: #800000\">active slide reading backend, cucim. Consider using a different backend, which can be set with </span>\n",
       "<span style=\"color: #7fbfbf; text-decoration-color: #7fbfbf\">           </span>         <span style=\"color: #800000; text-decoration-color: #800000\">the environmental variable SF_SLIDE_BACKEND. See </span>                                              \n",
       "<span style=\"color: #7fbfbf; text-decoration-color: #7fbfbf\">           </span>         <span style=\"color: #800000; text-decoration-color: #800000\">https://slideflow.dev/installation/#cucim-vs-libvips for more information.</span>                     \n",
       "</pre>\n"
      ],
      "text/plain": [
       "\u001b[2;36m          \u001b[0m\u001b[2;36m \u001b[0m\u001b[1;31mERROR   \u001b[0m \u001b[31mSlide /mnt/d/Digital_path/DIG_PAT_1727362572.ndpi has type NDPI, which is incompatible with the\u001b[0m\n",
       "\u001b[2;36m           \u001b[0m         \u001b[31mactive slide reading backend, cucim. Consider using a different backend, which can be set with \u001b[0m\n",
       "\u001b[2;36m           \u001b[0m         \u001b[31mthe environmental variable SF_SLIDE_BACKEND. See \u001b[0m                                              \n",
       "\u001b[2;36m           \u001b[0m         \u001b[31mhttps://slideflow.dev/installation/#cucim-vs-libvips for more information.\u001b[0m                     \n"
      ]
     },
     "metadata": {},
     "output_type": "display_data"
    },
    {
     "data": {
      "text/html": [
       "<pre style=\"white-space:pre;overflow-x:auto;line-height:normal;font-family:Menlo,'DejaVu Sans Mono',consolas,'Courier New',monospace\"><span style=\"color: #7fbfbf; text-decoration-color: #7fbfbf\">           </span><span style=\"color: #800000; text-decoration-color: #800000; font-weight: bold\">ERROR   </span> <span style=\"color: #800000; text-decoration-color: #800000\">Slide /mnt/d/Digital_path/DIG_PAT_1727359653.ndpi has type NDPI, which is incompatible with the</span>\n",
       "<span style=\"color: #7fbfbf; text-decoration-color: #7fbfbf\">           </span>         <span style=\"color: #800000; text-decoration-color: #800000\">active slide reading backend, cucim. Consider using a different backend, which can be set with </span>\n",
       "<span style=\"color: #7fbfbf; text-decoration-color: #7fbfbf\">           </span>         <span style=\"color: #800000; text-decoration-color: #800000\">the environmental variable SF_SLIDE_BACKEND. See </span>                                              \n",
       "<span style=\"color: #7fbfbf; text-decoration-color: #7fbfbf\">           </span>         <span style=\"color: #800000; text-decoration-color: #800000\">https://slideflow.dev/installation/#cucim-vs-libvips for more information.</span>                     \n",
       "</pre>\n"
      ],
      "text/plain": [
       "\u001b[2;36m          \u001b[0m\u001b[2;36m \u001b[0m\u001b[1;31mERROR   \u001b[0m \u001b[31mSlide /mnt/d/Digital_path/DIG_PAT_1727359653.ndpi has type NDPI, which is incompatible with the\u001b[0m\n",
       "\u001b[2;36m           \u001b[0m         \u001b[31mactive slide reading backend, cucim. Consider using a different backend, which can be set with \u001b[0m\n",
       "\u001b[2;36m           \u001b[0m         \u001b[31mthe environmental variable SF_SLIDE_BACKEND. See \u001b[0m                                              \n",
       "\u001b[2;36m           \u001b[0m         \u001b[31mhttps://slideflow.dev/installation/#cucim-vs-libvips for more information.\u001b[0m                     \n"
      ]
     },
     "metadata": {},
     "output_type": "display_data"
    },
    {
     "data": {
      "text/html": [
       "<pre style=\"white-space:pre;overflow-x:auto;line-height:normal;font-family:Menlo,'DejaVu Sans Mono',consolas,'Courier New',monospace\"><span style=\"color: #7fbfbf; text-decoration-color: #7fbfbf\">           </span><span style=\"color: #800000; text-decoration-color: #800000; font-weight: bold\">ERROR   </span> <span style=\"color: #800000; text-decoration-color: #800000\">Slide /mnt/d/Digital_path/DIG_PAT_1727360785.ndpi has type NDPI, which is incompatible with the</span>\n",
       "<span style=\"color: #7fbfbf; text-decoration-color: #7fbfbf\">           </span>         <span style=\"color: #800000; text-decoration-color: #800000\">active slide reading backend, cucim. Consider using a different backend, which can be set with </span>\n",
       "<span style=\"color: #7fbfbf; text-decoration-color: #7fbfbf\">           </span>         <span style=\"color: #800000; text-decoration-color: #800000\">the environmental variable SF_SLIDE_BACKEND. See </span>                                              \n",
       "<span style=\"color: #7fbfbf; text-decoration-color: #7fbfbf\">           </span>         <span style=\"color: #800000; text-decoration-color: #800000\">https://slideflow.dev/installation/#cucim-vs-libvips for more information.</span>                     \n",
       "</pre>\n"
      ],
      "text/plain": [
       "\u001b[2;36m          \u001b[0m\u001b[2;36m \u001b[0m\u001b[1;31mERROR   \u001b[0m \u001b[31mSlide /mnt/d/Digital_path/DIG_PAT_1727360785.ndpi has type NDPI, which is incompatible with the\u001b[0m\n",
       "\u001b[2;36m           \u001b[0m         \u001b[31mactive slide reading backend, cucim. Consider using a different backend, which can be set with \u001b[0m\n",
       "\u001b[2;36m           \u001b[0m         \u001b[31mthe environmental variable SF_SLIDE_BACKEND. See \u001b[0m                                              \n",
       "\u001b[2;36m           \u001b[0m         \u001b[31mhttps://slideflow.dev/installation/#cucim-vs-libvips for more information.\u001b[0m                     \n"
      ]
     },
     "metadata": {},
     "output_type": "display_data"
    },
    {
     "data": {
      "text/html": [
       "<pre style=\"white-space:pre;overflow-x:auto;line-height:normal;font-family:Menlo,'DejaVu Sans Mono',consolas,'Courier New',monospace\"><span style=\"color: #7fbfbf; text-decoration-color: #7fbfbf\">           </span><span style=\"color: #800000; text-decoration-color: #800000; font-weight: bold\">ERROR   </span> <span style=\"color: #800000; text-decoration-color: #800000\">Error loading slide /mnt/d/Digital_path/DIG_PAT_1701613519.tif: Error loading slide </span>           \n",
       "<span style=\"color: #7fbfbf; text-decoration-color: #7fbfbf\">           </span>         <span style=\"color: #800000; text-decoration-color: #800000\">DIG_PAT_1701613519: This format has more than one image with Subfile Type 0 so cannot be </span>      \n",
       "<span style=\"color: #7fbfbf; text-decoration-color: #7fbfbf\">           </span>         <span style=\"color: #800000; text-decoration-color: #800000\">loaded!. Skipping</span>                                                                              \n",
       "</pre>\n"
      ],
      "text/plain": [
       "\u001b[2;36m          \u001b[0m\u001b[2;36m \u001b[0m\u001b[1;31mERROR   \u001b[0m \u001b[31mError loading slide /mnt/d/Digital_path/DIG_PAT_1701613519.tif: Error loading slide \u001b[0m           \n",
       "\u001b[2;36m           \u001b[0m         \u001b[31mDIG_PAT_1701613519: This format has more than one image with Subfile Type 0 so cannot be \u001b[0m      \n",
       "\u001b[2;36m           \u001b[0m         \u001b[31mloaded!. Skipping\u001b[0m                                                                              \n"
      ]
     },
     "metadata": {},
     "output_type": "display_data"
    },
    {
     "data": {
      "text/html": [
       "<pre style=\"white-space:pre;overflow-x:auto;line-height:normal;font-family:Menlo,'DejaVu Sans Mono',consolas,'Courier New',monospace\"><span style=\"color: #7fbfbf; text-decoration-color: #7fbfbf\">           </span><span style=\"color: #800000; text-decoration-color: #800000; font-weight: bold\">ERROR   </span> <span style=\"color: #800000; text-decoration-color: #800000\">Error loading slide /mnt/d/Digital_path/DIG_PAT_1701604536.tif: Error loading slide </span>           \n",
       "<span style=\"color: #7fbfbf; text-decoration-color: #7fbfbf\">           </span>         <span style=\"color: #800000; text-decoration-color: #800000\">DIG_PAT_1701604536: This format has more than one image with Subfile Type 0 so cannot be </span>      \n",
       "<span style=\"color: #7fbfbf; text-decoration-color: #7fbfbf\">           </span>         <span style=\"color: #800000; text-decoration-color: #800000\">loaded!. Skipping</span>                                                                              \n",
       "</pre>\n"
      ],
      "text/plain": [
       "\u001b[2;36m          \u001b[0m\u001b[2;36m \u001b[0m\u001b[1;31mERROR   \u001b[0m \u001b[31mError loading slide /mnt/d/Digital_path/DIG_PAT_1701604536.tif: Error loading slide \u001b[0m           \n",
       "\u001b[2;36m           \u001b[0m         \u001b[31mDIG_PAT_1701604536: This format has more than one image with Subfile Type 0 so cannot be \u001b[0m      \n",
       "\u001b[2;36m           \u001b[0m         \u001b[31mloaded!. Skipping\u001b[0m                                                                              \n"
      ]
     },
     "metadata": {},
     "output_type": "display_data"
    },
    {
     "data": {
      "text/html": [
       "<pre style=\"white-space:pre;overflow-x:auto;line-height:normal;font-family:Menlo,'DejaVu Sans Mono',consolas,'Courier New',monospace\"><span style=\"color: #7fbfbf; text-decoration-color: #7fbfbf\">           </span><span style=\"color: #800000; text-decoration-color: #800000; font-weight: bold\">ERROR   </span> <span style=\"color: #800000; text-decoration-color: #800000\">Slide /mnt/d/Digital_path/DIG_PAT_1727361632.ndpi has type NDPI, which is incompatible with the</span>\n",
       "<span style=\"color: #7fbfbf; text-decoration-color: #7fbfbf\">           </span>         <span style=\"color: #800000; text-decoration-color: #800000\">active slide reading backend, cucim. Consider using a different backend, which can be set with </span>\n",
       "<span style=\"color: #7fbfbf; text-decoration-color: #7fbfbf\">           </span>         <span style=\"color: #800000; text-decoration-color: #800000\">the environmental variable SF_SLIDE_BACKEND. See </span>                                              \n",
       "<span style=\"color: #7fbfbf; text-decoration-color: #7fbfbf\">           </span>         <span style=\"color: #800000; text-decoration-color: #800000\">https://slideflow.dev/installation/#cucim-vs-libvips for more information.</span>                     \n",
       "</pre>\n"
      ],
      "text/plain": [
       "\u001b[2;36m          \u001b[0m\u001b[2;36m \u001b[0m\u001b[1;31mERROR   \u001b[0m \u001b[31mSlide /mnt/d/Digital_path/DIG_PAT_1727361632.ndpi has type NDPI, which is incompatible with the\u001b[0m\n",
       "\u001b[2;36m           \u001b[0m         \u001b[31mactive slide reading backend, cucim. Consider using a different backend, which can be set with \u001b[0m\n",
       "\u001b[2;36m           \u001b[0m         \u001b[31mthe environmental variable SF_SLIDE_BACKEND. See \u001b[0m                                              \n",
       "\u001b[2;36m           \u001b[0m         \u001b[31mhttps://slideflow.dev/installation/#cucim-vs-libvips for more information.\u001b[0m                     \n"
      ]
     },
     "metadata": {},
     "output_type": "display_data"
    },
    {
     "data": {
      "text/html": [
       "<pre style=\"white-space:pre;overflow-x:auto;line-height:normal;font-family:Menlo,'DejaVu Sans Mono',consolas,'Courier New',monospace\"><span style=\"color: #7fbfbf; text-decoration-color: #7fbfbf\">           </span><span style=\"color: #800000; text-decoration-color: #800000; font-weight: bold\">ERROR   </span> <span style=\"color: #800000; text-decoration-color: #800000\">Error loading slide /mnt/d/Digital_path/DIG_PAT_1710622695.tif: Error loading slide </span>           \n",
       "<span style=\"color: #7fbfbf; text-decoration-color: #7fbfbf\">           </span>         <span style=\"color: #800000; text-decoration-color: #800000\">DIG_PAT_1710622695: This format has more than one image with Subfile Type 0 so cannot be </span>      \n",
       "<span style=\"color: #7fbfbf; text-decoration-color: #7fbfbf\">           </span>         <span style=\"color: #800000; text-decoration-color: #800000\">loaded!. Skipping</span>                                                                              \n",
       "</pre>\n"
      ],
      "text/plain": [
       "\u001b[2;36m          \u001b[0m\u001b[2;36m \u001b[0m\u001b[1;31mERROR   \u001b[0m \u001b[31mError loading slide /mnt/d/Digital_path/DIG_PAT_1710622695.tif: Error loading slide \u001b[0m           \n",
       "\u001b[2;36m           \u001b[0m         \u001b[31mDIG_PAT_1710622695: This format has more than one image with Subfile Type 0 so cannot be \u001b[0m      \n",
       "\u001b[2;36m           \u001b[0m         \u001b[31mloaded!. Skipping\u001b[0m                                                                              \n"
      ]
     },
     "metadata": {},
     "output_type": "display_data"
    },
    {
     "data": {
      "text/html": [
       "<pre style=\"white-space:pre;overflow-x:auto;line-height:normal;font-family:Menlo,'DejaVu Sans Mono',consolas,'Courier New',monospace\"><span style=\"color: #7fbfbf; text-decoration-color: #7fbfbf\">           </span><span style=\"color: #800000; text-decoration-color: #800000; font-weight: bold\">ERROR   </span> <span style=\"color: #800000; text-decoration-color: #800000\">Slide /mnt/d/Digital_path/DIG_PAT_1727361502.ndpi has type NDPI, which is incompatible with the</span>\n",
       "<span style=\"color: #7fbfbf; text-decoration-color: #7fbfbf\">           </span>         <span style=\"color: #800000; text-decoration-color: #800000\">active slide reading backend, cucim. Consider using a different backend, which can be set with </span>\n",
       "<span style=\"color: #7fbfbf; text-decoration-color: #7fbfbf\">           </span>         <span style=\"color: #800000; text-decoration-color: #800000\">the environmental variable SF_SLIDE_BACKEND. See </span>                                              \n",
       "<span style=\"color: #7fbfbf; text-decoration-color: #7fbfbf\">           </span>         <span style=\"color: #800000; text-decoration-color: #800000\">https://slideflow.dev/installation/#cucim-vs-libvips for more information.</span>                     \n",
       "</pre>\n"
      ],
      "text/plain": [
       "\u001b[2;36m          \u001b[0m\u001b[2;36m \u001b[0m\u001b[1;31mERROR   \u001b[0m \u001b[31mSlide /mnt/d/Digital_path/DIG_PAT_1727361502.ndpi has type NDPI, which is incompatible with the\u001b[0m\n",
       "\u001b[2;36m           \u001b[0m         \u001b[31mactive slide reading backend, cucim. Consider using a different backend, which can be set with \u001b[0m\n",
       "\u001b[2;36m           \u001b[0m         \u001b[31mthe environmental variable SF_SLIDE_BACKEND. See \u001b[0m                                              \n",
       "\u001b[2;36m           \u001b[0m         \u001b[31mhttps://slideflow.dev/installation/#cucim-vs-libvips for more information.\u001b[0m                     \n"
      ]
     },
     "metadata": {},
     "output_type": "display_data"
    },
    {
     "data": {
      "text/html": [
       "<pre style=\"white-space:pre;overflow-x:auto;line-height:normal;font-family:Menlo,'DejaVu Sans Mono',consolas,'Courier New',monospace\"><span style=\"color: #7fbfbf; text-decoration-color: #7fbfbf\">           </span><span style=\"color: #800000; text-decoration-color: #800000; font-weight: bold\">ERROR   </span> <span style=\"color: #800000; text-decoration-color: #800000\">Error loading slide /mnt/d/Digital_path/DIG_PAT_1701555354.tif: Error loading slide </span>           \n",
       "<span style=\"color: #7fbfbf; text-decoration-color: #7fbfbf\">           </span>         <span style=\"color: #800000; text-decoration-color: #800000\">DIG_PAT_1701555354: This format has more than one image with Subfile Type 0 so cannot be </span>      \n",
       "<span style=\"color: #7fbfbf; text-decoration-color: #7fbfbf\">           </span>         <span style=\"color: #800000; text-decoration-color: #800000\">loaded!. Skipping</span>                                                                              \n",
       "</pre>\n"
      ],
      "text/plain": [
       "\u001b[2;36m          \u001b[0m\u001b[2;36m \u001b[0m\u001b[1;31mERROR   \u001b[0m \u001b[31mError loading slide /mnt/d/Digital_path/DIG_PAT_1701555354.tif: Error loading slide \u001b[0m           \n",
       "\u001b[2;36m           \u001b[0m         \u001b[31mDIG_PAT_1701555354: This format has more than one image with Subfile Type 0 so cannot be \u001b[0m      \n",
       "\u001b[2;36m           \u001b[0m         \u001b[31mloaded!. Skipping\u001b[0m                                                                              \n"
      ]
     },
     "metadata": {},
     "output_type": "display_data"
    },
    {
     "data": {
      "text/html": [
       "<pre style=\"white-space:pre;overflow-x:auto;line-height:normal;font-family:Menlo,'DejaVu Sans Mono',consolas,'Courier New',monospace\"><span style=\"color: #7fbfbf; text-decoration-color: #7fbfbf\">           </span><span style=\"color: #800000; text-decoration-color: #800000; font-weight: bold\">ERROR   </span> <span style=\"color: #800000; text-decoration-color: #800000\">Slide /mnt/d/Digital_path/DIG_PAT_1727362307.ndpi has type NDPI, which is incompatible with the</span>\n",
       "<span style=\"color: #7fbfbf; text-decoration-color: #7fbfbf\">           </span>         <span style=\"color: #800000; text-decoration-color: #800000\">active slide reading backend, cucim. Consider using a different backend, which can be set with </span>\n",
       "<span style=\"color: #7fbfbf; text-decoration-color: #7fbfbf\">           </span>         <span style=\"color: #800000; text-decoration-color: #800000\">the environmental variable SF_SLIDE_BACKEND. See </span>                                              \n",
       "<span style=\"color: #7fbfbf; text-decoration-color: #7fbfbf\">           </span>         <span style=\"color: #800000; text-decoration-color: #800000\">https://slideflow.dev/installation/#cucim-vs-libvips for more information.</span>                     \n",
       "</pre>\n"
      ],
      "text/plain": [
       "\u001b[2;36m          \u001b[0m\u001b[2;36m \u001b[0m\u001b[1;31mERROR   \u001b[0m \u001b[31mSlide /mnt/d/Digital_path/DIG_PAT_1727362307.ndpi has type NDPI, which is incompatible with the\u001b[0m\n",
       "\u001b[2;36m           \u001b[0m         \u001b[31mactive slide reading backend, cucim. Consider using a different backend, which can be set with \u001b[0m\n",
       "\u001b[2;36m           \u001b[0m         \u001b[31mthe environmental variable SF_SLIDE_BACKEND. See \u001b[0m                                              \n",
       "\u001b[2;36m           \u001b[0m         \u001b[31mhttps://slideflow.dev/installation/#cucim-vs-libvips for more information.\u001b[0m                     \n"
      ]
     },
     "metadata": {},
     "output_type": "display_data"
    },
    {
     "data": {
      "text/html": [
       "<pre style=\"white-space:pre;overflow-x:auto;line-height:normal;font-family:Menlo,'DejaVu Sans Mono',consolas,'Courier New',monospace\"><span style=\"color: #7fbfbf; text-decoration-color: #7fbfbf\">           </span><span style=\"color: #800000; text-decoration-color: #800000; font-weight: bold\">ERROR   </span> <span style=\"color: #800000; text-decoration-color: #800000\">Error loading slide /mnt/d/Digital_path/DIG_PAT_1707604569.tif: Error loading slide </span>           \n",
       "<span style=\"color: #7fbfbf; text-decoration-color: #7fbfbf\">           </span>         <span style=\"color: #800000; text-decoration-color: #800000\">DIG_PAT_1707604569: This format has more than one image with Subfile Type 0 so cannot be </span>      \n",
       "<span style=\"color: #7fbfbf; text-decoration-color: #7fbfbf\">           </span>         <span style=\"color: #800000; text-decoration-color: #800000\">loaded!. Skipping</span>                                                                              \n",
       "</pre>\n"
      ],
      "text/plain": [
       "\u001b[2;36m          \u001b[0m\u001b[2;36m \u001b[0m\u001b[1;31mERROR   \u001b[0m \u001b[31mError loading slide /mnt/d/Digital_path/DIG_PAT_1707604569.tif: Error loading slide \u001b[0m           \n",
       "\u001b[2;36m           \u001b[0m         \u001b[31mDIG_PAT_1707604569: This format has more than one image with Subfile Type 0 so cannot be \u001b[0m      \n",
       "\u001b[2;36m           \u001b[0m         \u001b[31mloaded!. Skipping\u001b[0m                                                                              \n"
      ]
     },
     "metadata": {},
     "output_type": "display_data"
    },
    {
     "data": {
      "text/html": [
       "<pre style=\"white-space:pre;overflow-x:auto;line-height:normal;font-family:Menlo,'DejaVu Sans Mono',consolas,'Courier New',monospace\"><span style=\"color: #7fbfbf; text-decoration-color: #7fbfbf\">           </span><span style=\"color: #800000; text-decoration-color: #800000; font-weight: bold\">ERROR   </span> <span style=\"color: #800000; text-decoration-color: #800000\">Error loading slide /mnt/d/Digital_path/DIG_PAT_1707614260.tif: Error loading slide </span>           \n",
       "<span style=\"color: #7fbfbf; text-decoration-color: #7fbfbf\">           </span>         <span style=\"color: #800000; text-decoration-color: #800000\">DIG_PAT_1707614260: This format has more than one image with Subfile Type 0 so cannot be </span>      \n",
       "<span style=\"color: #7fbfbf; text-decoration-color: #7fbfbf\">           </span>         <span style=\"color: #800000; text-decoration-color: #800000\">loaded!. Skipping</span>                                                                              \n",
       "</pre>\n"
      ],
      "text/plain": [
       "\u001b[2;36m          \u001b[0m\u001b[2;36m \u001b[0m\u001b[1;31mERROR   \u001b[0m \u001b[31mError loading slide /mnt/d/Digital_path/DIG_PAT_1707614260.tif: Error loading slide \u001b[0m           \n",
       "\u001b[2;36m           \u001b[0m         \u001b[31mDIG_PAT_1707614260: This format has more than one image with Subfile Type 0 so cannot be \u001b[0m      \n",
       "\u001b[2;36m           \u001b[0m         \u001b[31mloaded!. Skipping\u001b[0m                                                                              \n"
      ]
     },
     "metadata": {},
     "output_type": "display_data"
    },
    {
     "data": {
      "text/html": [
       "<pre style=\"white-space:pre;overflow-x:auto;line-height:normal;font-family:Menlo,'DejaVu Sans Mono',consolas,'Courier New',monospace\"><span style=\"color: #7fbfbf; text-decoration-color: #7fbfbf\">           </span><span style=\"color: #800000; text-decoration-color: #800000; font-weight: bold\">ERROR   </span> <span style=\"color: #800000; text-decoration-color: #800000\">Error loading slide /mnt/d/Digital_path/DIG_PAT_1701104481.tif: Error loading slide </span>           \n",
       "<span style=\"color: #7fbfbf; text-decoration-color: #7fbfbf\">           </span>         <span style=\"color: #800000; text-decoration-color: #800000\">DIG_PAT_1701104481: This format has more than one image with Subfile Type 0 so cannot be </span>      \n",
       "<span style=\"color: #7fbfbf; text-decoration-color: #7fbfbf\">           </span>         <span style=\"color: #800000; text-decoration-color: #800000\">loaded!. Skipping</span>                                                                              \n",
       "</pre>\n"
      ],
      "text/plain": [
       "\u001b[2;36m          \u001b[0m\u001b[2;36m \u001b[0m\u001b[1;31mERROR   \u001b[0m \u001b[31mError loading slide /mnt/d/Digital_path/DIG_PAT_1701104481.tif: Error loading slide \u001b[0m           \n",
       "\u001b[2;36m           \u001b[0m         \u001b[31mDIG_PAT_1701104481: This format has more than one image with Subfile Type 0 so cannot be \u001b[0m      \n",
       "\u001b[2;36m           \u001b[0m         \u001b[31mloaded!. Skipping\u001b[0m                                                                              \n"
      ]
     },
     "metadata": {},
     "output_type": "display_data"
    },
    {
     "data": {
      "text/html": [
       "<pre style=\"white-space:pre;overflow-x:auto;line-height:normal;font-family:Menlo,'DejaVu Sans Mono',consolas,'Courier New',monospace\"><span style=\"color: #7fbfbf; text-decoration-color: #7fbfbf\">           </span><span style=\"color: #800000; text-decoration-color: #800000; font-weight: bold\">ERROR   </span> <span style=\"color: #800000; text-decoration-color: #800000\">Slide /mnt/d/Digital_path/DIG_PAT_1727361029.ndpi has type NDPI, which is incompatible with the</span>\n",
       "<span style=\"color: #7fbfbf; text-decoration-color: #7fbfbf\">           </span>         <span style=\"color: #800000; text-decoration-color: #800000\">active slide reading backend, cucim. Consider using a different backend, which can be set with </span>\n",
       "<span style=\"color: #7fbfbf; text-decoration-color: #7fbfbf\">           </span>         <span style=\"color: #800000; text-decoration-color: #800000\">the environmental variable SF_SLIDE_BACKEND. See </span>                                              \n",
       "<span style=\"color: #7fbfbf; text-decoration-color: #7fbfbf\">           </span>         <span style=\"color: #800000; text-decoration-color: #800000\">https://slideflow.dev/installation/#cucim-vs-libvips for more information.</span>                     \n",
       "</pre>\n"
      ],
      "text/plain": [
       "\u001b[2;36m          \u001b[0m\u001b[2;36m \u001b[0m\u001b[1;31mERROR   \u001b[0m \u001b[31mSlide /mnt/d/Digital_path/DIG_PAT_1727361029.ndpi has type NDPI, which is incompatible with the\u001b[0m\n",
       "\u001b[2;36m           \u001b[0m         \u001b[31mactive slide reading backend, cucim. Consider using a different backend, which can be set with \u001b[0m\n",
       "\u001b[2;36m           \u001b[0m         \u001b[31mthe environmental variable SF_SLIDE_BACKEND. See \u001b[0m                                              \n",
       "\u001b[2;36m           \u001b[0m         \u001b[31mhttps://slideflow.dev/installation/#cucim-vs-libvips for more information.\u001b[0m                     \n"
      ]
     },
     "metadata": {},
     "output_type": "display_data"
    },
    {
     "data": {
      "text/html": [
       "<pre style=\"white-space:pre;overflow-x:auto;line-height:normal;font-family:Menlo,'DejaVu Sans Mono',consolas,'Courier New',monospace\"><span style=\"color: #7fbfbf; text-decoration-color: #7fbfbf\">           </span><span style=\"color: #800000; text-decoration-color: #800000; font-weight: bold\">ERROR   </span> <span style=\"color: #800000; text-decoration-color: #800000\">Slide /mnt/d/Digital_path/DIG_PAT_1727362839.ndpi has type NDPI, which is incompatible with the</span>\n",
       "<span style=\"color: #7fbfbf; text-decoration-color: #7fbfbf\">           </span>         <span style=\"color: #800000; text-decoration-color: #800000\">active slide reading backend, cucim. Consider using a different backend, which can be set with </span>\n",
       "<span style=\"color: #7fbfbf; text-decoration-color: #7fbfbf\">           </span>         <span style=\"color: #800000; text-decoration-color: #800000\">the environmental variable SF_SLIDE_BACKEND. See </span>                                              \n",
       "<span style=\"color: #7fbfbf; text-decoration-color: #7fbfbf\">           </span>         <span style=\"color: #800000; text-decoration-color: #800000\">https://slideflow.dev/installation/#cucim-vs-libvips for more information.</span>                     \n",
       "</pre>\n"
      ],
      "text/plain": [
       "\u001b[2;36m          \u001b[0m\u001b[2;36m \u001b[0m\u001b[1;31mERROR   \u001b[0m \u001b[31mSlide /mnt/d/Digital_path/DIG_PAT_1727362839.ndpi has type NDPI, which is incompatible with the\u001b[0m\n",
       "\u001b[2;36m           \u001b[0m         \u001b[31mactive slide reading backend, cucim. Consider using a different backend, which can be set with \u001b[0m\n",
       "\u001b[2;36m           \u001b[0m         \u001b[31mthe environmental variable SF_SLIDE_BACKEND. See \u001b[0m                                              \n",
       "\u001b[2;36m           \u001b[0m         \u001b[31mhttps://slideflow.dev/installation/#cucim-vs-libvips for more information.\u001b[0m                     \n"
      ]
     },
     "metadata": {},
     "output_type": "display_data"
    },
    {
     "data": {
      "text/html": [
       "<pre style=\"white-space:pre;overflow-x:auto;line-height:normal;font-family:Menlo,'DejaVu Sans Mono',consolas,'Courier New',monospace\"><span style=\"color: #7fbfbf; text-decoration-color: #7fbfbf\">           </span><span style=\"color: #800000; text-decoration-color: #800000; font-weight: bold\">ERROR   </span> <span style=\"color: #800000; text-decoration-color: #800000\">Slide /mnt/d/Digital_path/DIG_PAT_1727361310.ndpi has type NDPI, which is incompatible with the</span>\n",
       "<span style=\"color: #7fbfbf; text-decoration-color: #7fbfbf\">           </span>         <span style=\"color: #800000; text-decoration-color: #800000\">active slide reading backend, cucim. Consider using a different backend, which can be set with </span>\n",
       "<span style=\"color: #7fbfbf; text-decoration-color: #7fbfbf\">           </span>         <span style=\"color: #800000; text-decoration-color: #800000\">the environmental variable SF_SLIDE_BACKEND. See </span>                                              \n",
       "<span style=\"color: #7fbfbf; text-decoration-color: #7fbfbf\">           </span>         <span style=\"color: #800000; text-decoration-color: #800000\">https://slideflow.dev/installation/#cucim-vs-libvips for more information.</span>                     \n",
       "</pre>\n"
      ],
      "text/plain": [
       "\u001b[2;36m          \u001b[0m\u001b[2;36m \u001b[0m\u001b[1;31mERROR   \u001b[0m \u001b[31mSlide /mnt/d/Digital_path/DIG_PAT_1727361310.ndpi has type NDPI, which is incompatible with the\u001b[0m\n",
       "\u001b[2;36m           \u001b[0m         \u001b[31mactive slide reading backend, cucim. Consider using a different backend, which can be set with \u001b[0m\n",
       "\u001b[2;36m           \u001b[0m         \u001b[31mthe environmental variable SF_SLIDE_BACKEND. See \u001b[0m                                              \n",
       "\u001b[2;36m           \u001b[0m         \u001b[31mhttps://slideflow.dev/installation/#cucim-vs-libvips for more information.\u001b[0m                     \n"
      ]
     },
     "metadata": {},
     "output_type": "display_data"
    },
    {
     "data": {
      "text/html": [
       "<pre style=\"white-space:pre;overflow-x:auto;line-height:normal;font-family:Menlo,'DejaVu Sans Mono',consolas,'Courier New',monospace\"><span style=\"color: #7fbfbf; text-decoration-color: #7fbfbf\">           </span><span style=\"color: #800000; text-decoration-color: #800000; font-weight: bold\">ERROR   </span> <span style=\"color: #800000; text-decoration-color: #800000\">Error loading slide /mnt/d/Digital_path/DIG_PAT_1701553334.tif: Error loading slide </span>           \n",
       "<span style=\"color: #7fbfbf; text-decoration-color: #7fbfbf\">           </span>         <span style=\"color: #800000; text-decoration-color: #800000\">DIG_PAT_1701553334: This format has more than one image with Subfile Type 0 so cannot be </span>      \n",
       "<span style=\"color: #7fbfbf; text-decoration-color: #7fbfbf\">           </span>         <span style=\"color: #800000; text-decoration-color: #800000\">loaded!. Skipping</span>                                                                              \n",
       "</pre>\n"
      ],
      "text/plain": [
       "\u001b[2;36m          \u001b[0m\u001b[2;36m \u001b[0m\u001b[1;31mERROR   \u001b[0m \u001b[31mError loading slide /mnt/d/Digital_path/DIG_PAT_1701553334.tif: Error loading slide \u001b[0m           \n",
       "\u001b[2;36m           \u001b[0m         \u001b[31mDIG_PAT_1701553334: This format has more than one image with Subfile Type 0 so cannot be \u001b[0m      \n",
       "\u001b[2;36m           \u001b[0m         \u001b[31mloaded!. Skipping\u001b[0m                                                                              \n"
      ]
     },
     "metadata": {},
     "output_type": "display_data"
    },
    {
     "data": {
      "text/html": [
       "<pre style=\"white-space:pre;overflow-x:auto;line-height:normal;font-family:Menlo,'DejaVu Sans Mono',consolas,'Courier New',monospace\"><span style=\"color: #7fbfbf; text-decoration-color: #7fbfbf\">           </span><span style=\"color: #800000; text-decoration-color: #800000; font-weight: bold\">ERROR   </span> <span style=\"color: #800000; text-decoration-color: #800000\">Error loading slide /mnt/d/Digital_path/DIG_PAT_1707613470.tif: Error loading slide </span>           \n",
       "<span style=\"color: #7fbfbf; text-decoration-color: #7fbfbf\">           </span>         <span style=\"color: #800000; text-decoration-color: #800000\">DIG_PAT_1707613470: This format has more than one image with Subfile Type 0 so cannot be </span>      \n",
       "<span style=\"color: #7fbfbf; text-decoration-color: #7fbfbf\">           </span>         <span style=\"color: #800000; text-decoration-color: #800000\">loaded!. Skipping</span>                                                                              \n",
       "</pre>\n"
      ],
      "text/plain": [
       "\u001b[2;36m          \u001b[0m\u001b[2;36m \u001b[0m\u001b[1;31mERROR   \u001b[0m \u001b[31mError loading slide /mnt/d/Digital_path/DIG_PAT_1707613470.tif: Error loading slide \u001b[0m           \n",
       "\u001b[2;36m           \u001b[0m         \u001b[31mDIG_PAT_1707613470: This format has more than one image with Subfile Type 0 so cannot be \u001b[0m      \n",
       "\u001b[2;36m           \u001b[0m         \u001b[31mloaded!. Skipping\u001b[0m                                                                              \n"
      ]
     },
     "metadata": {},
     "output_type": "display_data"
    },
    {
     "data": {
      "text/html": [
       "<pre style=\"white-space:pre;overflow-x:auto;line-height:normal;font-family:Menlo,'DejaVu Sans Mono',consolas,'Courier New',monospace\"><span style=\"color: #7fbfbf; text-decoration-color: #7fbfbf\">           </span><span style=\"color: #800000; text-decoration-color: #800000; font-weight: bold\">ERROR   </span> <span style=\"color: #800000; text-decoration-color: #800000\">Error loading slide /mnt/d/Digital_path/DIG_PAT_1701374712.tif: Error loading slide </span>           \n",
       "<span style=\"color: #7fbfbf; text-decoration-color: #7fbfbf\">           </span>         <span style=\"color: #800000; text-decoration-color: #800000\">DIG_PAT_1701374712: This format has more than one image with Subfile Type 0 so cannot be </span>      \n",
       "<span style=\"color: #7fbfbf; text-decoration-color: #7fbfbf\">           </span>         <span style=\"color: #800000; text-decoration-color: #800000\">loaded!. Skipping</span>                                                                              \n",
       "</pre>\n"
      ],
      "text/plain": [
       "\u001b[2;36m          \u001b[0m\u001b[2;36m \u001b[0m\u001b[1;31mERROR   \u001b[0m \u001b[31mError loading slide /mnt/d/Digital_path/DIG_PAT_1701374712.tif: Error loading slide \u001b[0m           \n",
       "\u001b[2;36m           \u001b[0m         \u001b[31mDIG_PAT_1701374712: This format has more than one image with Subfile Type 0 so cannot be \u001b[0m      \n",
       "\u001b[2;36m           \u001b[0m         \u001b[31mloaded!. Skipping\u001b[0m                                                                              \n"
      ]
     },
     "metadata": {},
     "output_type": "display_data"
    },
    {
     "data": {
      "text/html": [
       "<pre style=\"white-space:pre;overflow-x:auto;line-height:normal;font-family:Menlo,'DejaVu Sans Mono',consolas,'Courier New',monospace\"><span style=\"color: #7fbfbf; text-decoration-color: #7fbfbf\">           </span><span style=\"color: #800000; text-decoration-color: #800000; font-weight: bold\">ERROR   </span> <span style=\"color: #800000; text-decoration-color: #800000\">Slide /mnt/d/Digital_path/DIG_PAT_1727360895.ndpi has type NDPI, which is incompatible with the</span>\n",
       "<span style=\"color: #7fbfbf; text-decoration-color: #7fbfbf\">           </span>         <span style=\"color: #800000; text-decoration-color: #800000\">active slide reading backend, cucim. Consider using a different backend, which can be set with </span>\n",
       "<span style=\"color: #7fbfbf; text-decoration-color: #7fbfbf\">           </span>         <span style=\"color: #800000; text-decoration-color: #800000\">the environmental variable SF_SLIDE_BACKEND. See </span>                                              \n",
       "<span style=\"color: #7fbfbf; text-decoration-color: #7fbfbf\">           </span>         <span style=\"color: #800000; text-decoration-color: #800000\">https://slideflow.dev/installation/#cucim-vs-libvips for more information.</span>                     \n",
       "</pre>\n"
      ],
      "text/plain": [
       "\u001b[2;36m          \u001b[0m\u001b[2;36m \u001b[0m\u001b[1;31mERROR   \u001b[0m \u001b[31mSlide /mnt/d/Digital_path/DIG_PAT_1727360895.ndpi has type NDPI, which is incompatible with the\u001b[0m\n",
       "\u001b[2;36m           \u001b[0m         \u001b[31mactive slide reading backend, cucim. Consider using a different backend, which can be set with \u001b[0m\n",
       "\u001b[2;36m           \u001b[0m         \u001b[31mthe environmental variable SF_SLIDE_BACKEND. See \u001b[0m                                              \n",
       "\u001b[2;36m           \u001b[0m         \u001b[31mhttps://slideflow.dev/installation/#cucim-vs-libvips for more information.\u001b[0m                     \n"
      ]
     },
     "metadata": {},
     "output_type": "display_data"
    },
    {
     "data": {
      "text/html": [
       "<pre style=\"white-space:pre;overflow-x:auto;line-height:normal;font-family:Menlo,'DejaVu Sans Mono',consolas,'Courier New',monospace\"><span style=\"color: #7fbfbf; text-decoration-color: #7fbfbf\">           </span><span style=\"color: #800000; text-decoration-color: #800000; font-weight: bold\">ERROR   </span> <span style=\"color: #800000; text-decoration-color: #800000\">Slide /mnt/d/Digital_path/DIG_PAT_1727362149.ndpi has type NDPI, which is incompatible with the</span>\n",
       "<span style=\"color: #7fbfbf; text-decoration-color: #7fbfbf\">           </span>         <span style=\"color: #800000; text-decoration-color: #800000\">active slide reading backend, cucim. Consider using a different backend, which can be set with </span>\n",
       "<span style=\"color: #7fbfbf; text-decoration-color: #7fbfbf\">           </span>         <span style=\"color: #800000; text-decoration-color: #800000\">the environmental variable SF_SLIDE_BACKEND. See </span>                                              \n",
       "<span style=\"color: #7fbfbf; text-decoration-color: #7fbfbf\">           </span>         <span style=\"color: #800000; text-decoration-color: #800000\">https://slideflow.dev/installation/#cucim-vs-libvips for more information.</span>                     \n",
       "</pre>\n"
      ],
      "text/plain": [
       "\u001b[2;36m          \u001b[0m\u001b[2;36m \u001b[0m\u001b[1;31mERROR   \u001b[0m \u001b[31mSlide /mnt/d/Digital_path/DIG_PAT_1727362149.ndpi has type NDPI, which is incompatible with the\u001b[0m\n",
       "\u001b[2;36m           \u001b[0m         \u001b[31mactive slide reading backend, cucim. Consider using a different backend, which can be set with \u001b[0m\n",
       "\u001b[2;36m           \u001b[0m         \u001b[31mthe environmental variable SF_SLIDE_BACKEND. See \u001b[0m                                              \n",
       "\u001b[2;36m           \u001b[0m         \u001b[31mhttps://slideflow.dev/installation/#cucim-vs-libvips for more information.\u001b[0m                     \n"
      ]
     },
     "metadata": {},
     "output_type": "display_data"
    },
    {
     "data": {
      "text/html": [
       "<pre style=\"white-space:pre;overflow-x:auto;line-height:normal;font-family:Menlo,'DejaVu Sans Mono',consolas,'Courier New',monospace\"><span style=\"color: #7fbfbf; text-decoration-color: #7fbfbf\">           </span><span style=\"color: #800000; text-decoration-color: #800000; font-weight: bold\">ERROR   </span> <span style=\"color: #800000; text-decoration-color: #800000\">Error loading slide /mnt/d/Digital_path/DIG_PAT_1701553606.tif: Error loading slide </span>           \n",
       "<span style=\"color: #7fbfbf; text-decoration-color: #7fbfbf\">           </span>         <span style=\"color: #800000; text-decoration-color: #800000\">DIG_PAT_1701553606: This format has more than one image with Subfile Type 0 so cannot be </span>      \n",
       "<span style=\"color: #7fbfbf; text-decoration-color: #7fbfbf\">           </span>         <span style=\"color: #800000; text-decoration-color: #800000\">loaded!. Skipping</span>                                                                              \n",
       "</pre>\n"
      ],
      "text/plain": [
       "\u001b[2;36m          \u001b[0m\u001b[2;36m \u001b[0m\u001b[1;31mERROR   \u001b[0m \u001b[31mError loading slide /mnt/d/Digital_path/DIG_PAT_1701553606.tif: Error loading slide \u001b[0m           \n",
       "\u001b[2;36m           \u001b[0m         \u001b[31mDIG_PAT_1701553606: This format has more than one image with Subfile Type 0 so cannot be \u001b[0m      \n",
       "\u001b[2;36m           \u001b[0m         \u001b[31mloaded!. Skipping\u001b[0m                                                                              \n"
      ]
     },
     "metadata": {},
     "output_type": "display_data"
    },
    {
     "data": {
      "text/html": [
       "<pre style=\"white-space:pre;overflow-x:auto;line-height:normal;font-family:Menlo,'DejaVu Sans Mono',consolas,'Courier New',monospace\"><span style=\"color: #7fbfbf; text-decoration-color: #7fbfbf\">           </span><span style=\"color: #800000; text-decoration-color: #800000; font-weight: bold\">ERROR   </span> <span style=\"color: #800000; text-decoration-color: #800000\">Slide /mnt/d/Digital_path/DIG_PAT_1727362772.ndpi has type NDPI, which is incompatible with the</span>\n",
       "<span style=\"color: #7fbfbf; text-decoration-color: #7fbfbf\">           </span>         <span style=\"color: #800000; text-decoration-color: #800000\">active slide reading backend, cucim. Consider using a different backend, which can be set with </span>\n",
       "<span style=\"color: #7fbfbf; text-decoration-color: #7fbfbf\">           </span>         <span style=\"color: #800000; text-decoration-color: #800000\">the environmental variable SF_SLIDE_BACKEND. See </span>                                              \n",
       "<span style=\"color: #7fbfbf; text-decoration-color: #7fbfbf\">           </span>         <span style=\"color: #800000; text-decoration-color: #800000\">https://slideflow.dev/installation/#cucim-vs-libvips for more information.</span>                     \n",
       "</pre>\n"
      ],
      "text/plain": [
       "\u001b[2;36m          \u001b[0m\u001b[2;36m \u001b[0m\u001b[1;31mERROR   \u001b[0m \u001b[31mSlide /mnt/d/Digital_path/DIG_PAT_1727362772.ndpi has type NDPI, which is incompatible with the\u001b[0m\n",
       "\u001b[2;36m           \u001b[0m         \u001b[31mactive slide reading backend, cucim. Consider using a different backend, which can be set with \u001b[0m\n",
       "\u001b[2;36m           \u001b[0m         \u001b[31mthe environmental variable SF_SLIDE_BACKEND. See \u001b[0m                                              \n",
       "\u001b[2;36m           \u001b[0m         \u001b[31mhttps://slideflow.dev/installation/#cucim-vs-libvips for more information.\u001b[0m                     \n"
      ]
     },
     "metadata": {},
     "output_type": "display_data"
    },
    {
     "data": {
      "text/html": [
       "<pre style=\"white-space:pre;overflow-x:auto;line-height:normal;font-family:Menlo,'DejaVu Sans Mono',consolas,'Courier New',monospace\"><span style=\"color: #7fbfbf; text-decoration-color: #7fbfbf\">           </span><span style=\"color: #800000; text-decoration-color: #800000; font-weight: bold\">ERROR   </span> <span style=\"color: #800000; text-decoration-color: #800000\">Slide /mnt/d/Digital_path/DIG_PAT_1727361249.ndpi has type NDPI, which is incompatible with the</span>\n",
       "<span style=\"color: #7fbfbf; text-decoration-color: #7fbfbf\">           </span>         <span style=\"color: #800000; text-decoration-color: #800000\">active slide reading backend, cucim. Consider using a different backend, which can be set with </span>\n",
       "<span style=\"color: #7fbfbf; text-decoration-color: #7fbfbf\">           </span>         <span style=\"color: #800000; text-decoration-color: #800000\">the environmental variable SF_SLIDE_BACKEND. See </span>                                              \n",
       "<span style=\"color: #7fbfbf; text-decoration-color: #7fbfbf\">           </span>         <span style=\"color: #800000; text-decoration-color: #800000\">https://slideflow.dev/installation/#cucim-vs-libvips for more information.</span>                     \n",
       "</pre>\n"
      ],
      "text/plain": [
       "\u001b[2;36m          \u001b[0m\u001b[2;36m \u001b[0m\u001b[1;31mERROR   \u001b[0m \u001b[31mSlide /mnt/d/Digital_path/DIG_PAT_1727361249.ndpi has type NDPI, which is incompatible with the\u001b[0m\n",
       "\u001b[2;36m           \u001b[0m         \u001b[31mactive slide reading backend, cucim. Consider using a different backend, which can be set with \u001b[0m\n",
       "\u001b[2;36m           \u001b[0m         \u001b[31mthe environmental variable SF_SLIDE_BACKEND. See \u001b[0m                                              \n",
       "\u001b[2;36m           \u001b[0m         \u001b[31mhttps://slideflow.dev/installation/#cucim-vs-libvips for more information.\u001b[0m                     \n"
      ]
     },
     "metadata": {},
     "output_type": "display_data"
    },
    {
     "data": {
      "text/html": [
       "<pre style=\"white-space:pre;overflow-x:auto;line-height:normal;font-family:Menlo,'DejaVu Sans Mono',consolas,'Courier New',monospace\"><span style=\"color: #7fbfbf; text-decoration-color: #7fbfbf\">           </span><span style=\"color: #800000; text-decoration-color: #800000; font-weight: bold\">ERROR   </span> <span style=\"color: #800000; text-decoration-color: #800000\">Error loading slide /mnt/d/Digital_path/DIG_PAT_1701292861.tif: Error loading slide </span>           \n",
       "<span style=\"color: #7fbfbf; text-decoration-color: #7fbfbf\">           </span>         <span style=\"color: #800000; text-decoration-color: #800000\">DIG_PAT_1701292861: This format has more than one image with Subfile Type 0 so cannot be </span>      \n",
       "<span style=\"color: #7fbfbf; text-decoration-color: #7fbfbf\">           </span>         <span style=\"color: #800000; text-decoration-color: #800000\">loaded!. Skipping</span>                                                                              \n",
       "</pre>\n"
      ],
      "text/plain": [
       "\u001b[2;36m          \u001b[0m\u001b[2;36m \u001b[0m\u001b[1;31mERROR   \u001b[0m \u001b[31mError loading slide /mnt/d/Digital_path/DIG_PAT_1701292861.tif: Error loading slide \u001b[0m           \n",
       "\u001b[2;36m           \u001b[0m         \u001b[31mDIG_PAT_1701292861: This format has more than one image with Subfile Type 0 so cannot be \u001b[0m      \n",
       "\u001b[2;36m           \u001b[0m         \u001b[31mloaded!. Skipping\u001b[0m                                                                              \n"
      ]
     },
     "metadata": {},
     "output_type": "display_data"
    },
    {
     "data": {
      "text/html": [
       "<pre style=\"white-space:pre;overflow-x:auto;line-height:normal;font-family:Menlo,'DejaVu Sans Mono',consolas,'Courier New',monospace\"><span style=\"color: #7fbfbf; text-decoration-color: #7fbfbf\">           </span><span style=\"color: #800000; text-decoration-color: #800000; font-weight: bold\">ERROR   </span> <span style=\"color: #800000; text-decoration-color: #800000\">Slide /mnt/d/Digital_path/DIG_PAT_1727360446.ndpi has type NDPI, which is incompatible with the</span>\n",
       "<span style=\"color: #7fbfbf; text-decoration-color: #7fbfbf\">           </span>         <span style=\"color: #800000; text-decoration-color: #800000\">active slide reading backend, cucim. Consider using a different backend, which can be set with </span>\n",
       "<span style=\"color: #7fbfbf; text-decoration-color: #7fbfbf\">           </span>         <span style=\"color: #800000; text-decoration-color: #800000\">the environmental variable SF_SLIDE_BACKEND. See </span>                                              \n",
       "<span style=\"color: #7fbfbf; text-decoration-color: #7fbfbf\">           </span>         <span style=\"color: #800000; text-decoration-color: #800000\">https://slideflow.dev/installation/#cucim-vs-libvips for more information.</span>                     \n",
       "</pre>\n"
      ],
      "text/plain": [
       "\u001b[2;36m          \u001b[0m\u001b[2;36m \u001b[0m\u001b[1;31mERROR   \u001b[0m \u001b[31mSlide /mnt/d/Digital_path/DIG_PAT_1727360446.ndpi has type NDPI, which is incompatible with the\u001b[0m\n",
       "\u001b[2;36m           \u001b[0m         \u001b[31mactive slide reading backend, cucim. Consider using a different backend, which can be set with \u001b[0m\n",
       "\u001b[2;36m           \u001b[0m         \u001b[31mthe environmental variable SF_SLIDE_BACKEND. See \u001b[0m                                              \n",
       "\u001b[2;36m           \u001b[0m         \u001b[31mhttps://slideflow.dev/installation/#cucim-vs-libvips for more information.\u001b[0m                     \n"
      ]
     },
     "metadata": {},
     "output_type": "display_data"
    },
    {
     "data": {
      "text/html": [
       "<pre style=\"white-space:pre;overflow-x:auto;line-height:normal;font-family:Menlo,'DejaVu Sans Mono',consolas,'Courier New',monospace\"><span style=\"color: #7fbfbf; text-decoration-color: #7fbfbf\">           </span><span style=\"color: #800000; text-decoration-color: #800000; font-weight: bold\">ERROR   </span> <span style=\"color: #800000; text-decoration-color: #800000\">Error loading slide /mnt/d/Digital_path/DIG_PAT_1707607845.tif: Error loading slide </span>           \n",
       "<span style=\"color: #7fbfbf; text-decoration-color: #7fbfbf\">           </span>         <span style=\"color: #800000; text-decoration-color: #800000\">DIG_PAT_1707607845: This format has more than one image with Subfile Type 0 so cannot be </span>      \n",
       "<span style=\"color: #7fbfbf; text-decoration-color: #7fbfbf\">           </span>         <span style=\"color: #800000; text-decoration-color: #800000\">loaded!. Skipping</span>                                                                              \n",
       "</pre>\n"
      ],
      "text/plain": [
       "\u001b[2;36m          \u001b[0m\u001b[2;36m \u001b[0m\u001b[1;31mERROR   \u001b[0m \u001b[31mError loading slide /mnt/d/Digital_path/DIG_PAT_1707607845.tif: Error loading slide \u001b[0m           \n",
       "\u001b[2;36m           \u001b[0m         \u001b[31mDIG_PAT_1707607845: This format has more than one image with Subfile Type 0 so cannot be \u001b[0m      \n",
       "\u001b[2;36m           \u001b[0m         \u001b[31mloaded!. Skipping\u001b[0m                                                                              \n"
      ]
     },
     "metadata": {},
     "output_type": "display_data"
    },
    {
     "data": {
      "text/html": [
       "<pre style=\"white-space:pre;overflow-x:auto;line-height:normal;font-family:Menlo,'DejaVu Sans Mono',consolas,'Courier New',monospace\"><span style=\"color: #7fbfbf; text-decoration-color: #7fbfbf\">           </span><span style=\"color: #800000; text-decoration-color: #800000; font-weight: bold\">ERROR   </span> <span style=\"color: #800000; text-decoration-color: #800000\">Slide /mnt/d/Digital_path/DIG_PAT_1727360919.ndpi has type NDPI, which is incompatible with the</span>\n",
       "<span style=\"color: #7fbfbf; text-decoration-color: #7fbfbf\">           </span>         <span style=\"color: #800000; text-decoration-color: #800000\">active slide reading backend, cucim. Consider using a different backend, which can be set with </span>\n",
       "<span style=\"color: #7fbfbf; text-decoration-color: #7fbfbf\">           </span>         <span style=\"color: #800000; text-decoration-color: #800000\">the environmental variable SF_SLIDE_BACKEND. See </span>                                              \n",
       "<span style=\"color: #7fbfbf; text-decoration-color: #7fbfbf\">           </span>         <span style=\"color: #800000; text-decoration-color: #800000\">https://slideflow.dev/installation/#cucim-vs-libvips for more information.</span>                     \n",
       "</pre>\n"
      ],
      "text/plain": [
       "\u001b[2;36m          \u001b[0m\u001b[2;36m \u001b[0m\u001b[1;31mERROR   \u001b[0m \u001b[31mSlide /mnt/d/Digital_path/DIG_PAT_1727360919.ndpi has type NDPI, which is incompatible with the\u001b[0m\n",
       "\u001b[2;36m           \u001b[0m         \u001b[31mactive slide reading backend, cucim. Consider using a different backend, which can be set with \u001b[0m\n",
       "\u001b[2;36m           \u001b[0m         \u001b[31mthe environmental variable SF_SLIDE_BACKEND. See \u001b[0m                                              \n",
       "\u001b[2;36m           \u001b[0m         \u001b[31mhttps://slideflow.dev/installation/#cucim-vs-libvips for more information.\u001b[0m                     \n"
      ]
     },
     "metadata": {},
     "output_type": "display_data"
    },
    {
     "data": {
      "text/html": [
       "<pre style=\"white-space:pre;overflow-x:auto;line-height:normal;font-family:Menlo,'DejaVu Sans Mono',consolas,'Courier New',monospace\"><span style=\"color: #7fbfbf; text-decoration-color: #7fbfbf\">           </span><span style=\"color: #800000; text-decoration-color: #800000; font-weight: bold\">ERROR   </span> <span style=\"color: #800000; text-decoration-color: #800000\">Slide /mnt/d/Digital_path/DIG_PAT_1727360163.ndpi has type NDPI, which is incompatible with the</span>\n",
       "<span style=\"color: #7fbfbf; text-decoration-color: #7fbfbf\">           </span>         <span style=\"color: #800000; text-decoration-color: #800000\">active slide reading backend, cucim. Consider using a different backend, which can be set with </span>\n",
       "<span style=\"color: #7fbfbf; text-decoration-color: #7fbfbf\">           </span>         <span style=\"color: #800000; text-decoration-color: #800000\">the environmental variable SF_SLIDE_BACKEND. See </span>                                              \n",
       "<span style=\"color: #7fbfbf; text-decoration-color: #7fbfbf\">           </span>         <span style=\"color: #800000; text-decoration-color: #800000\">https://slideflow.dev/installation/#cucim-vs-libvips for more information.</span>                     \n",
       "</pre>\n"
      ],
      "text/plain": [
       "\u001b[2;36m          \u001b[0m\u001b[2;36m \u001b[0m\u001b[1;31mERROR   \u001b[0m \u001b[31mSlide /mnt/d/Digital_path/DIG_PAT_1727360163.ndpi has type NDPI, which is incompatible with the\u001b[0m\n",
       "\u001b[2;36m           \u001b[0m         \u001b[31mactive slide reading backend, cucim. Consider using a different backend, which can be set with \u001b[0m\n",
       "\u001b[2;36m           \u001b[0m         \u001b[31mthe environmental variable SF_SLIDE_BACKEND. See \u001b[0m                                              \n",
       "\u001b[2;36m           \u001b[0m         \u001b[31mhttps://slideflow.dev/installation/#cucim-vs-libvips for more information.\u001b[0m                     \n"
      ]
     },
     "metadata": {},
     "output_type": "display_data"
    },
    {
     "data": {
      "text/html": [
       "<pre style=\"white-space:pre;overflow-x:auto;line-height:normal;font-family:Menlo,'DejaVu Sans Mono',consolas,'Courier New',monospace\"><span style=\"color: #7fbfbf; text-decoration-color: #7fbfbf\">           </span><span style=\"color: #800000; text-decoration-color: #800000; font-weight: bold\">ERROR   </span> <span style=\"color: #800000; text-decoration-color: #800000\">Slide /mnt/d/Digital_path/DIG_PAT_1727361702.ndpi has type NDPI, which is incompatible with the</span>\n",
       "<span style=\"color: #7fbfbf; text-decoration-color: #7fbfbf\">           </span>         <span style=\"color: #800000; text-decoration-color: #800000\">active slide reading backend, cucim. Consider using a different backend, which can be set with </span>\n",
       "<span style=\"color: #7fbfbf; text-decoration-color: #7fbfbf\">           </span>         <span style=\"color: #800000; text-decoration-color: #800000\">the environmental variable SF_SLIDE_BACKEND. See </span>                                              \n",
       "<span style=\"color: #7fbfbf; text-decoration-color: #7fbfbf\">           </span>         <span style=\"color: #800000; text-decoration-color: #800000\">https://slideflow.dev/installation/#cucim-vs-libvips for more information.</span>                     \n",
       "</pre>\n"
      ],
      "text/plain": [
       "\u001b[2;36m          \u001b[0m\u001b[2;36m \u001b[0m\u001b[1;31mERROR   \u001b[0m \u001b[31mSlide /mnt/d/Digital_path/DIG_PAT_1727361702.ndpi has type NDPI, which is incompatible with the\u001b[0m\n",
       "\u001b[2;36m           \u001b[0m         \u001b[31mactive slide reading backend, cucim. Consider using a different backend, which can be set with \u001b[0m\n",
       "\u001b[2;36m           \u001b[0m         \u001b[31mthe environmental variable SF_SLIDE_BACKEND. See \u001b[0m                                              \n",
       "\u001b[2;36m           \u001b[0m         \u001b[31mhttps://slideflow.dev/installation/#cucim-vs-libvips for more information.\u001b[0m                     \n"
      ]
     },
     "metadata": {},
     "output_type": "display_data"
    },
    {
     "data": {
      "text/html": [
       "<pre style=\"white-space:pre;overflow-x:auto;line-height:normal;font-family:Menlo,'DejaVu Sans Mono',consolas,'Courier New',monospace\"><span style=\"color: #7fbfbf; text-decoration-color: #7fbfbf\">           </span><span style=\"color: #800000; text-decoration-color: #800000; font-weight: bold\">ERROR   </span> <span style=\"color: #800000; text-decoration-color: #800000\">Slide /mnt/d/Digital_path/DIG_PAT_1727361616.ndpi has type NDPI, which is incompatible with the</span>\n",
       "<span style=\"color: #7fbfbf; text-decoration-color: #7fbfbf\">           </span>         <span style=\"color: #800000; text-decoration-color: #800000\">active slide reading backend, cucim. Consider using a different backend, which can be set with </span>\n",
       "<span style=\"color: #7fbfbf; text-decoration-color: #7fbfbf\">           </span>         <span style=\"color: #800000; text-decoration-color: #800000\">the environmental variable SF_SLIDE_BACKEND. See </span>                                              \n",
       "<span style=\"color: #7fbfbf; text-decoration-color: #7fbfbf\">           </span>         <span style=\"color: #800000; text-decoration-color: #800000\">https://slideflow.dev/installation/#cucim-vs-libvips for more information.</span>                     \n",
       "</pre>\n"
      ],
      "text/plain": [
       "\u001b[2;36m          \u001b[0m\u001b[2;36m \u001b[0m\u001b[1;31mERROR   \u001b[0m \u001b[31mSlide /mnt/d/Digital_path/DIG_PAT_1727361616.ndpi has type NDPI, which is incompatible with the\u001b[0m\n",
       "\u001b[2;36m           \u001b[0m         \u001b[31mactive slide reading backend, cucim. Consider using a different backend, which can be set with \u001b[0m\n",
       "\u001b[2;36m           \u001b[0m         \u001b[31mthe environmental variable SF_SLIDE_BACKEND. See \u001b[0m                                              \n",
       "\u001b[2;36m           \u001b[0m         \u001b[31mhttps://slideflow.dev/installation/#cucim-vs-libvips for more information.\u001b[0m                     \n"
      ]
     },
     "metadata": {},
     "output_type": "display_data"
    },
    {
     "data": {
      "text/html": [
       "<pre style=\"white-space:pre;overflow-x:auto;line-height:normal;font-family:Menlo,'DejaVu Sans Mono',consolas,'Courier New',monospace\"><span style=\"color: #7fbfbf; text-decoration-color: #7fbfbf\">           </span><span style=\"color: #800000; text-decoration-color: #800000; font-weight: bold\">ERROR   </span> <span style=\"color: #800000; text-decoration-color: #800000\">Slide /mnt/d/Digital_path/DIG_PAT_1727363438.ndpi has type NDPI, which is incompatible with the</span>\n",
       "<span style=\"color: #7fbfbf; text-decoration-color: #7fbfbf\">           </span>         <span style=\"color: #800000; text-decoration-color: #800000\">active slide reading backend, cucim. Consider using a different backend, which can be set with </span>\n",
       "<span style=\"color: #7fbfbf; text-decoration-color: #7fbfbf\">           </span>         <span style=\"color: #800000; text-decoration-color: #800000\">the environmental variable SF_SLIDE_BACKEND. See </span>                                              \n",
       "<span style=\"color: #7fbfbf; text-decoration-color: #7fbfbf\">           </span>         <span style=\"color: #800000; text-decoration-color: #800000\">https://slideflow.dev/installation/#cucim-vs-libvips for more information.</span>                     \n",
       "</pre>\n"
      ],
      "text/plain": [
       "\u001b[2;36m          \u001b[0m\u001b[2;36m \u001b[0m\u001b[1;31mERROR   \u001b[0m \u001b[31mSlide /mnt/d/Digital_path/DIG_PAT_1727363438.ndpi has type NDPI, which is incompatible with the\u001b[0m\n",
       "\u001b[2;36m           \u001b[0m         \u001b[31mactive slide reading backend, cucim. Consider using a different backend, which can be set with \u001b[0m\n",
       "\u001b[2;36m           \u001b[0m         \u001b[31mthe environmental variable SF_SLIDE_BACKEND. See \u001b[0m                                              \n",
       "\u001b[2;36m           \u001b[0m         \u001b[31mhttps://slideflow.dev/installation/#cucim-vs-libvips for more information.\u001b[0m                     \n"
      ]
     },
     "metadata": {},
     "output_type": "display_data"
    },
    {
     "data": {
      "text/html": [
       "<pre style=\"white-space:pre;overflow-x:auto;line-height:normal;font-family:Menlo,'DejaVu Sans Mono',consolas,'Courier New',monospace\"><span style=\"color: #7fbfbf; text-decoration-color: #7fbfbf\">[13:29:20] </span><span style=\"color: #800000; text-decoration-color: #800000; font-weight: bold\">ERROR   </span> <span style=\"color: #800000; text-decoration-color: #800000\">Error loading slide /mnt/d/Digital_path/DIG_PAT_1701558121.tif: Error loading slide </span>           \n",
       "<span style=\"color: #7fbfbf; text-decoration-color: #7fbfbf\">           </span>         <span style=\"color: #800000; text-decoration-color: #800000\">DIG_PAT_1701558121: This format has more than one image with Subfile Type 0 so cannot be </span>      \n",
       "<span style=\"color: #7fbfbf; text-decoration-color: #7fbfbf\">           </span>         <span style=\"color: #800000; text-decoration-color: #800000\">loaded!. Skipping</span>                                                                              \n",
       "</pre>\n"
      ],
      "text/plain": [
       "\u001b[2;36m[13:29:20]\u001b[0m\u001b[2;36m \u001b[0m\u001b[1;31mERROR   \u001b[0m \u001b[31mError loading slide /mnt/d/Digital_path/DIG_PAT_1701558121.tif: Error loading slide \u001b[0m           \n",
       "\u001b[2;36m           \u001b[0m         \u001b[31mDIG_PAT_1701558121: This format has more than one image with Subfile Type 0 so cannot be \u001b[0m      \n",
       "\u001b[2;36m           \u001b[0m         \u001b[31mloaded!. Skipping\u001b[0m                                                                              \n"
      ]
     },
     "metadata": {},
     "output_type": "display_data"
    },
    {
     "data": {
      "text/html": [
       "<pre style=\"white-space:pre;overflow-x:auto;line-height:normal;font-family:Menlo,'DejaVu Sans Mono',consolas,'Courier New',monospace\"><span style=\"color: #7fbfbf; text-decoration-color: #7fbfbf\">           </span><span style=\"color: #800000; text-decoration-color: #800000; font-weight: bold\">ERROR   </span> <span style=\"color: #800000; text-decoration-color: #800000\">Slide /mnt/d/Digital_path/DIG_PAT_1727359424.ndpi has type NDPI, which is incompatible with the</span>\n",
       "<span style=\"color: #7fbfbf; text-decoration-color: #7fbfbf\">           </span>         <span style=\"color: #800000; text-decoration-color: #800000\">active slide reading backend, cucim. Consider using a different backend, which can be set with </span>\n",
       "<span style=\"color: #7fbfbf; text-decoration-color: #7fbfbf\">           </span>         <span style=\"color: #800000; text-decoration-color: #800000\">the environmental variable SF_SLIDE_BACKEND. See </span>                                              \n",
       "<span style=\"color: #7fbfbf; text-decoration-color: #7fbfbf\">           </span>         <span style=\"color: #800000; text-decoration-color: #800000\">https://slideflow.dev/installation/#cucim-vs-libvips for more information.</span>                     \n",
       "</pre>\n"
      ],
      "text/plain": [
       "\u001b[2;36m          \u001b[0m\u001b[2;36m \u001b[0m\u001b[1;31mERROR   \u001b[0m \u001b[31mSlide /mnt/d/Digital_path/DIG_PAT_1727359424.ndpi has type NDPI, which is incompatible with the\u001b[0m\n",
       "\u001b[2;36m           \u001b[0m         \u001b[31mactive slide reading backend, cucim. Consider using a different backend, which can be set with \u001b[0m\n",
       "\u001b[2;36m           \u001b[0m         \u001b[31mthe environmental variable SF_SLIDE_BACKEND. See \u001b[0m                                              \n",
       "\u001b[2;36m           \u001b[0m         \u001b[31mhttps://slideflow.dev/installation/#cucim-vs-libvips for more information.\u001b[0m                     \n"
      ]
     },
     "metadata": {},
     "output_type": "display_data"
    },
    {
     "data": {
      "text/html": [
       "<pre style=\"white-space:pre;overflow-x:auto;line-height:normal;font-family:Menlo,'DejaVu Sans Mono',consolas,'Courier New',monospace\"><span style=\"color: #7fbfbf; text-decoration-color: #7fbfbf\">           </span><span style=\"color: #800000; text-decoration-color: #800000; font-weight: bold\">ERROR   </span> <span style=\"color: #800000; text-decoration-color: #800000\">Slide /mnt/d/Digital_path/DIG_PAT_1727362456.ndpi has type NDPI, which is incompatible with the</span>\n",
       "<span style=\"color: #7fbfbf; text-decoration-color: #7fbfbf\">           </span>         <span style=\"color: #800000; text-decoration-color: #800000\">active slide reading backend, cucim. Consider using a different backend, which can be set with </span>\n",
       "<span style=\"color: #7fbfbf; text-decoration-color: #7fbfbf\">           </span>         <span style=\"color: #800000; text-decoration-color: #800000\">the environmental variable SF_SLIDE_BACKEND. See </span>                                              \n",
       "<span style=\"color: #7fbfbf; text-decoration-color: #7fbfbf\">           </span>         <span style=\"color: #800000; text-decoration-color: #800000\">https://slideflow.dev/installation/#cucim-vs-libvips for more information.</span>                     \n",
       "</pre>\n"
      ],
      "text/plain": [
       "\u001b[2;36m          \u001b[0m\u001b[2;36m \u001b[0m\u001b[1;31mERROR   \u001b[0m \u001b[31mSlide /mnt/d/Digital_path/DIG_PAT_1727362456.ndpi has type NDPI, which is incompatible with the\u001b[0m\n",
       "\u001b[2;36m           \u001b[0m         \u001b[31mactive slide reading backend, cucim. Consider using a different backend, which can be set with \u001b[0m\n",
       "\u001b[2;36m           \u001b[0m         \u001b[31mthe environmental variable SF_SLIDE_BACKEND. See \u001b[0m                                              \n",
       "\u001b[2;36m           \u001b[0m         \u001b[31mhttps://slideflow.dev/installation/#cucim-vs-libvips for more information.\u001b[0m                     \n"
      ]
     },
     "metadata": {},
     "output_type": "display_data"
    },
    {
     "data": {
      "text/html": [
       "<pre style=\"white-space:pre;overflow-x:auto;line-height:normal;font-family:Menlo,'DejaVu Sans Mono',consolas,'Courier New',monospace\"><span style=\"color: #7fbfbf; text-decoration-color: #7fbfbf\">           </span><span style=\"color: #800000; text-decoration-color: #800000; font-weight: bold\">ERROR   </span> <span style=\"color: #800000; text-decoration-color: #800000\">Error loading slide /mnt/d/Digital_path/DIG_PAT_1701102955.tif: Error loading slide </span>           \n",
       "<span style=\"color: #7fbfbf; text-decoration-color: #7fbfbf\">           </span>         <span style=\"color: #800000; text-decoration-color: #800000\">DIG_PAT_1701102955: This format has more than one image with Subfile Type 0 so cannot be </span>      \n",
       "<span style=\"color: #7fbfbf; text-decoration-color: #7fbfbf\">           </span>         <span style=\"color: #800000; text-decoration-color: #800000\">loaded!. Skipping</span>                                                                              \n",
       "</pre>\n"
      ],
      "text/plain": [
       "\u001b[2;36m          \u001b[0m\u001b[2;36m \u001b[0m\u001b[1;31mERROR   \u001b[0m \u001b[31mError loading slide /mnt/d/Digital_path/DIG_PAT_1701102955.tif: Error loading slide \u001b[0m           \n",
       "\u001b[2;36m           \u001b[0m         \u001b[31mDIG_PAT_1701102955: This format has more than one image with Subfile Type 0 so cannot be \u001b[0m      \n",
       "\u001b[2;36m           \u001b[0m         \u001b[31mloaded!. Skipping\u001b[0m                                                                              \n"
      ]
     },
     "metadata": {},
     "output_type": "display_data"
    },
    {
     "data": {
      "text/html": [
       "<pre style=\"white-space:pre;overflow-x:auto;line-height:normal;font-family:Menlo,'DejaVu Sans Mono',consolas,'Courier New',monospace\"><span style=\"color: #7fbfbf; text-decoration-color: #7fbfbf\">           </span><span style=\"color: #800000; text-decoration-color: #800000; font-weight: bold\">ERROR   </span> <span style=\"color: #800000; text-decoration-color: #800000\">Slide /mnt/d/Digital_path/DIG_PAT_1727362942.ndpi has type NDPI, which is incompatible with the</span>\n",
       "<span style=\"color: #7fbfbf; text-decoration-color: #7fbfbf\">           </span>         <span style=\"color: #800000; text-decoration-color: #800000\">active slide reading backend, cucim. Consider using a different backend, which can be set with </span>\n",
       "<span style=\"color: #7fbfbf; text-decoration-color: #7fbfbf\">           </span>         <span style=\"color: #800000; text-decoration-color: #800000\">the environmental variable SF_SLIDE_BACKEND. See </span>                                              \n",
       "<span style=\"color: #7fbfbf; text-decoration-color: #7fbfbf\">           </span>         <span style=\"color: #800000; text-decoration-color: #800000\">https://slideflow.dev/installation/#cucim-vs-libvips for more information.</span>                     \n",
       "</pre>\n"
      ],
      "text/plain": [
       "\u001b[2;36m          \u001b[0m\u001b[2;36m \u001b[0m\u001b[1;31mERROR   \u001b[0m \u001b[31mSlide /mnt/d/Digital_path/DIG_PAT_1727362942.ndpi has type NDPI, which is incompatible with the\u001b[0m\n",
       "\u001b[2;36m           \u001b[0m         \u001b[31mactive slide reading backend, cucim. Consider using a different backend, which can be set with \u001b[0m\n",
       "\u001b[2;36m           \u001b[0m         \u001b[31mthe environmental variable SF_SLIDE_BACKEND. See \u001b[0m                                              \n",
       "\u001b[2;36m           \u001b[0m         \u001b[31mhttps://slideflow.dev/installation/#cucim-vs-libvips for more information.\u001b[0m                     \n"
      ]
     },
     "metadata": {},
     "output_type": "display_data"
    },
    {
     "data": {
      "text/html": [
       "<pre style=\"white-space:pre;overflow-x:auto;line-height:normal;font-family:Menlo,'DejaVu Sans Mono',consolas,'Courier New',monospace\"><span style=\"color: #7fbfbf; text-decoration-color: #7fbfbf\">           </span><span style=\"color: #800000; text-decoration-color: #800000; font-weight: bold\">ERROR   </span> <span style=\"color: #800000; text-decoration-color: #800000\">Slide /mnt/d/Digital_path/DIG_PAT_1727359345.ndpi has type NDPI, which is incompatible with the</span>\n",
       "<span style=\"color: #7fbfbf; text-decoration-color: #7fbfbf\">           </span>         <span style=\"color: #800000; text-decoration-color: #800000\">active slide reading backend, cucim. Consider using a different backend, which can be set with </span>\n",
       "<span style=\"color: #7fbfbf; text-decoration-color: #7fbfbf\">           </span>         <span style=\"color: #800000; text-decoration-color: #800000\">the environmental variable SF_SLIDE_BACKEND. See </span>                                              \n",
       "<span style=\"color: #7fbfbf; text-decoration-color: #7fbfbf\">           </span>         <span style=\"color: #800000; text-decoration-color: #800000\">https://slideflow.dev/installation/#cucim-vs-libvips for more information.</span>                     \n",
       "</pre>\n"
      ],
      "text/plain": [
       "\u001b[2;36m          \u001b[0m\u001b[2;36m \u001b[0m\u001b[1;31mERROR   \u001b[0m \u001b[31mSlide /mnt/d/Digital_path/DIG_PAT_1727359345.ndpi has type NDPI, which is incompatible with the\u001b[0m\n",
       "\u001b[2;36m           \u001b[0m         \u001b[31mactive slide reading backend, cucim. Consider using a different backend, which can be set with \u001b[0m\n",
       "\u001b[2;36m           \u001b[0m         \u001b[31mthe environmental variable SF_SLIDE_BACKEND. See \u001b[0m                                              \n",
       "\u001b[2;36m           \u001b[0m         \u001b[31mhttps://slideflow.dev/installation/#cucim-vs-libvips for more information.\u001b[0m                     \n"
      ]
     },
     "metadata": {},
     "output_type": "display_data"
    },
    {
     "data": {
      "text/html": [
       "<pre style=\"white-space:pre;overflow-x:auto;line-height:normal;font-family:Menlo,'DejaVu Sans Mono',consolas,'Courier New',monospace\"><span style=\"color: #7fbfbf; text-decoration-color: #7fbfbf\">           </span><span style=\"color: #800000; text-decoration-color: #800000; font-weight: bold\">ERROR   </span> <span style=\"color: #800000; text-decoration-color: #800000\">Slide /mnt/d/Digital_path/DIG_PAT_1727359257.ndpi has type NDPI, which is incompatible with the</span>\n",
       "<span style=\"color: #7fbfbf; text-decoration-color: #7fbfbf\">           </span>         <span style=\"color: #800000; text-decoration-color: #800000\">active slide reading backend, cucim. Consider using a different backend, which can be set with </span>\n",
       "<span style=\"color: #7fbfbf; text-decoration-color: #7fbfbf\">           </span>         <span style=\"color: #800000; text-decoration-color: #800000\">the environmental variable SF_SLIDE_BACKEND. See </span>                                              \n",
       "<span style=\"color: #7fbfbf; text-decoration-color: #7fbfbf\">           </span>         <span style=\"color: #800000; text-decoration-color: #800000\">https://slideflow.dev/installation/#cucim-vs-libvips for more information.</span>                     \n",
       "</pre>\n"
      ],
      "text/plain": [
       "\u001b[2;36m          \u001b[0m\u001b[2;36m \u001b[0m\u001b[1;31mERROR   \u001b[0m \u001b[31mSlide /mnt/d/Digital_path/DIG_PAT_1727359257.ndpi has type NDPI, which is incompatible with the\u001b[0m\n",
       "\u001b[2;36m           \u001b[0m         \u001b[31mactive slide reading backend, cucim. Consider using a different backend, which can be set with \u001b[0m\n",
       "\u001b[2;36m           \u001b[0m         \u001b[31mthe environmental variable SF_SLIDE_BACKEND. See \u001b[0m                                              \n",
       "\u001b[2;36m           \u001b[0m         \u001b[31mhttps://slideflow.dev/installation/#cucim-vs-libvips for more information.\u001b[0m                     \n"
      ]
     },
     "metadata": {},
     "output_type": "display_data"
    },
    {
     "data": {
      "text/html": [
       "<pre style=\"white-space:pre;overflow-x:auto;line-height:normal;font-family:Menlo,'DejaVu Sans Mono',consolas,'Courier New',monospace\"><span style=\"color: #7fbfbf; text-decoration-color: #7fbfbf\">           </span><span style=\"color: #800000; text-decoration-color: #800000; font-weight: bold\">ERROR   </span> <span style=\"color: #800000; text-decoration-color: #800000\">Slide /mnt/d/Digital_path/DIG_PAT_1727362234.ndpi has type NDPI, which is incompatible with the</span>\n",
       "<span style=\"color: #7fbfbf; text-decoration-color: #7fbfbf\">           </span>         <span style=\"color: #800000; text-decoration-color: #800000\">active slide reading backend, cucim. Consider using a different backend, which can be set with </span>\n",
       "<span style=\"color: #7fbfbf; text-decoration-color: #7fbfbf\">           </span>         <span style=\"color: #800000; text-decoration-color: #800000\">the environmental variable SF_SLIDE_BACKEND. See </span>                                              \n",
       "<span style=\"color: #7fbfbf; text-decoration-color: #7fbfbf\">           </span>         <span style=\"color: #800000; text-decoration-color: #800000\">https://slideflow.dev/installation/#cucim-vs-libvips for more information.</span>                     \n",
       "</pre>\n"
      ],
      "text/plain": [
       "\u001b[2;36m          \u001b[0m\u001b[2;36m \u001b[0m\u001b[1;31mERROR   \u001b[0m \u001b[31mSlide /mnt/d/Digital_path/DIG_PAT_1727362234.ndpi has type NDPI, which is incompatible with the\u001b[0m\n",
       "\u001b[2;36m           \u001b[0m         \u001b[31mactive slide reading backend, cucim. Consider using a different backend, which can be set with \u001b[0m\n",
       "\u001b[2;36m           \u001b[0m         \u001b[31mthe environmental variable SF_SLIDE_BACKEND. See \u001b[0m                                              \n",
       "\u001b[2;36m           \u001b[0m         \u001b[31mhttps://slideflow.dev/installation/#cucim-vs-libvips for more information.\u001b[0m                     \n"
      ]
     },
     "metadata": {},
     "output_type": "display_data"
    },
    {
     "data": {
      "text/html": [
       "<pre style=\"white-space:pre;overflow-x:auto;line-height:normal;font-family:Menlo,'DejaVu Sans Mono',consolas,'Courier New',monospace\"><span style=\"color: #7fbfbf; text-decoration-color: #7fbfbf\">           </span><span style=\"color: #800000; text-decoration-color: #800000; font-weight: bold\">ERROR   </span> <span style=\"color: #800000; text-decoration-color: #800000\">Error loading slide /mnt/d/Digital_path/DIG_PAT_1701211423.tif: Error loading slide </span>           \n",
       "<span style=\"color: #7fbfbf; text-decoration-color: #7fbfbf\">           </span>         <span style=\"color: #800000; text-decoration-color: #800000\">DIG_PAT_1701211423: This format has more than one image with Subfile Type 0 so cannot be </span>      \n",
       "<span style=\"color: #7fbfbf; text-decoration-color: #7fbfbf\">           </span>         <span style=\"color: #800000; text-decoration-color: #800000\">loaded!. Skipping</span>                                                                              \n",
       "</pre>\n"
      ],
      "text/plain": [
       "\u001b[2;36m          \u001b[0m\u001b[2;36m \u001b[0m\u001b[1;31mERROR   \u001b[0m \u001b[31mError loading slide /mnt/d/Digital_path/DIG_PAT_1701211423.tif: Error loading slide \u001b[0m           \n",
       "\u001b[2;36m           \u001b[0m         \u001b[31mDIG_PAT_1701211423: This format has more than one image with Subfile Type 0 so cannot be \u001b[0m      \n",
       "\u001b[2;36m           \u001b[0m         \u001b[31mloaded!. Skipping\u001b[0m                                                                              \n"
      ]
     },
     "metadata": {},
     "output_type": "display_data"
    },
    {
     "data": {
      "text/html": [
       "<pre style=\"white-space:pre;overflow-x:auto;line-height:normal;font-family:Menlo,'DejaVu Sans Mono',consolas,'Courier New',monospace\"></pre>\n"
      ],
      "text/plain": []
     },
     "metadata": {},
     "output_type": "display_data"
    },
    {
     "data": {
      "application/vnd.jupyter.widget-view+json": {
       "model_id": "ee2532912a4b4b5e8887efbc3e285441",
       "version_major": 2,
       "version_minor": 0
      },
      "text/plain": [
       "Output()"
      ]
     },
     "metadata": {},
     "output_type": "display_data"
    },
    {
     "data": {
      "text/html": [
       "<pre style=\"white-space:pre;overflow-x:auto;line-height:normal;font-family:Menlo,'DejaVu Sans Mono',consolas,'Courier New',monospace\"></pre>\n"
      ],
      "text/plain": []
     },
     "metadata": {},
     "output_type": "display_data"
    },
    {
     "data": {
      "application/vnd.jupyter.widget-view+json": {
       "model_id": "540f94b9f03444c38e10d31ed884c3f7",
       "version_major": 2,
       "version_minor": 0
      },
      "text/plain": [
       "Output()"
      ]
     },
     "metadata": {},
     "output_type": "display_data"
    },
    {
     "data": {
      "text/html": [
       "<pre style=\"white-space:pre;overflow-x:auto;line-height:normal;font-family:Menlo,'DejaVu Sans Mono',consolas,'Courier New',monospace\"></pre>\n"
      ],
      "text/plain": []
     },
     "metadata": {},
     "output_type": "display_data"
    },
    {
     "data": {
      "application/vnd.jupyter.widget-view+json": {
       "model_id": "1058773bc0374b9e8c4757b9b7ffc8ac",
       "version_major": 2,
       "version_minor": 0
      },
      "text/plain": [
       "Output()"
      ]
     },
     "metadata": {},
     "output_type": "display_data"
    },
    {
     "data": {
      "text/html": [
       "<pre style=\"white-space:pre;overflow-x:auto;line-height:normal;font-family:Menlo,'DejaVu Sans Mono',consolas,'Courier New',monospace\"></pre>\n"
      ],
      "text/plain": []
     },
     "metadata": {},
     "output_type": "display_data"
    }
   ],
   "source": [
    "from slideflow.slide import qc\n",
    "P.add_source(\n",
    "    name=\"INT-QC\",\n",
    "    tfrecords=os.path.join(tfrecord_path, \"tfrecords\"),\n",
    "    tiles = os.path.join(tfrecord_path, \"tiles\"),\n",
    "    slides=slide_path,\n",
    ")\n",
    "\n",
    "print(os.path.join(tfrecord_path, \"tfrecords\"))\n",
    "\n",
    "qc = [\n",
    "  qc.Otsu(),\n",
    "  qc.Gaussian()\n",
    "] #vector of quality control\n",
    "\n",
    "sf_extract_tiles(P, 224, '10x', qc, 124, False)"
   ]
  }
 ],
 "metadata": {
  "kernelspec": {
   "display_name": "sf3",
   "language": "python",
   "name": "python3"
  },
  "language_info": {
   "codemirror_mode": {
    "name": "ipython",
    "version": 3
   },
   "file_extension": ".py",
   "mimetype": "text/x-python",
   "name": "python",
   "nbconvert_exporter": "python",
   "pygments_lexer": "ipython3",
   "version": "3.9.18"
  }
 },
 "nbformat": 4,
 "nbformat_minor": 2
}
