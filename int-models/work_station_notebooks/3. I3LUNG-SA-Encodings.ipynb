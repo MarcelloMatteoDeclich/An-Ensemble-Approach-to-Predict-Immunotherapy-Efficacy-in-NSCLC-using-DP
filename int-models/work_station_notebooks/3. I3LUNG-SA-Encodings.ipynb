{
 "cells": [
  {
   "cell_type": "code",
   "execution_count": null,
   "metadata": {},
   "outputs": [],
   "source": [
    "import sys\n",
    "sys.path.append(\"..\")\n",
    "from my_library.config import *\n",
    "from my_library.I3LUNG import *\n",
    "from my_library.pr_creation import *\n",
    "import slideflow as sf"
   ]
  },
  {
   "cell_type": "code",
   "execution_count": null,
   "metadata": {},
   "outputs": [],
   "source": [
    "project_path = \"projects/I3lung-sqad-allslidesproject\"\n",
    "project_path = os.path.join(working_directory, project_path)\n",
    "P = create_project(project_path)"
   ]
  },
  {
   "cell_type": "code",
   "execution_count": null,
   "metadata": {},
   "outputs": [],
   "source": [
    "tile_px = 224\n",
    "tile_um = \"10x\"\n",
    "filters = {}"
   ]
  },
  {
   "cell_type": "code",
   "execution_count": null,
   "metadata": {},
   "outputs": [],
   "source": [
    "from my_library.create_random import load_random, set_random\n",
    "\n",
    "set_random(random_path, default_seed)\n",
    "random_numbers = load_random(random_path)"
   ]
  },
  {
   "cell_type": "code",
   "execution_count": null,
   "metadata": {},
   "outputs": [],
   "source": [
    "dataset = build_dataset_s(P, tile_px=tile_px, tile_um=tile_um, filters=filters,source = \"INT\")\n",
    "magnification = '10x'\n",
    "normalization = \"\""
   ]
  },
  {
   "cell_type": "code",
   "execution_count": null,
   "metadata": {},
   "outputs": [],
   "source": [
    "normalizer_list = [\"\", \"macenko_fast\", \"reinhard_fast\"]"
   ]
  },
  {
   "cell_type": "code",
   "execution_count": null,
   "metadata": {},
   "outputs": [],
   "source": [
    "for idx, value in enumerate(normalizer_list):\n",
    "    qc =[]\n",
    "    \n",
    "    modifier = \"no-qc\"\n",
    "    uni_bags_path_C = os.path.join(uni_bags_path, modifier)\n",
    "    normalization = value\n",
    "    print(normalization)\n",
    "    dir_uni = uni_encodings(dataset, uni_bags_path_C, magnification, qc, normalization)\n",
    "    print(dir_uni)"
   ]
  },
  {
   "cell_type": "code",
   "execution_count": null,
   "metadata": {},
   "outputs": [],
   "source": [
    "project_path = \"projects/I3lung-sqadqc-allslidesproject\"\n",
    "project_path = os.path.join(working_directory, project_path)\n",
    "P = create_project(project_path)"
   ]
  },
  {
   "cell_type": "code",
   "execution_count": null,
   "metadata": {},
   "outputs": [],
   "source": [
    "dataset = build_dataset_s(P, tile_px=tile_px, tile_um=tile_um, filters=filters,source = \"INT-QC\")\n",
    "magnification = '10x'\n",
    "normalization = \"\"\n",
    "\n",
    "for idx, value in enumerate(normalizer_list):\n",
    "    qc =[]\n",
    "    uni_bags_path = uni_bags_path\n",
    "    modifier = \"full-qc\"\n",
    "    uni_bags_path = os.path.join(uni_bags_path, modifier)\n",
    "    normalization = value\n",
    "    print(normalization)\n",
    "    dir_uni = uni_encodings(dataset, uni_bags_path, magnification, qc, normalization)"
   ]
  }
 ],
 "metadata": {
  "kernelspec": {
   "display_name": "sf3",
   "language": "python",
   "name": "python3"
  },
  "language_info": {
   "codemirror_mode": {
    "name": "ipython",
    "version": 3
   },
   "file_extension": ".py",
   "mimetype": "text/x-python",
   "name": "python",
   "nbconvert_exporter": "python",
   "pygments_lexer": "ipython3",
   "version": "3.9.18"
  }
 },
 "nbformat": 4,
 "nbformat_minor": 2
}
