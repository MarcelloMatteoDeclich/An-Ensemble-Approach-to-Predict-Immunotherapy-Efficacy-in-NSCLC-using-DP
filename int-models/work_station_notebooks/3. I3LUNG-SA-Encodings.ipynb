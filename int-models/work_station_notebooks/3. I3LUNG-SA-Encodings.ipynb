{
 "cells": [
  {
   "cell_type": "code",
   "execution_count": 1,
   "metadata": {},
   "outputs": [
    {
     "name": "stdout",
     "output_type": "stream",
     "text": [
      "Server Workstation\n",
      "this is the current directory:  /mnt/d/Declich/GitHub/UMD/int-models\n",
      "This is the thesis folder, where all the code is located:  /mnt/d/Declich/GitHub/UMD\n",
      "Questo è samsung:/mnt/d/Declich\n"
     ]
    }
   ],
   "source": [
    "import sys\n",
    "sys.path.append(\"..\")\n",
    "from my_library.config import *\n",
    "from my_library.I3LUNG import *\n",
    "from my_library.pr_creation import *\n",
    "import slideflow as sf"
   ]
  },
  {
   "cell_type": "code",
   "execution_count": 2,
   "metadata": {},
   "outputs": [
    {
     "name": "stdout",
     "output_type": "stream",
     "text": [
      "Directory already exists!\n"
     ]
    }
   ],
   "source": [
    "project_path = \"projects/I3lung-sqad-allslidesproject\"\n",
    "project_path = os.path.join(working_directory, project_path)\n",
    "P = create_project(project_path)"
   ]
  },
  {
   "cell_type": "code",
   "execution_count": 3,
   "metadata": {},
   "outputs": [],
   "source": [
    "tile_px = 224\n",
    "tile_um = \"10x\"\n",
    "filters = {}"
   ]
  },
  {
   "cell_type": "code",
   "execution_count": null,
   "metadata": {},
   "outputs": [
    {
     "name": "stdout",
     "output_type": "stream",
     "text": [
      "0.9728336439018299\n",
      "[76118683, 26603811, 38155807, 75156558, 80053990, 52812556, 65768388, 96000731, 21042693, 58671338, 78573194, 14099982, 97150360, 96784867, 93880968, 23269569, 68279737, 20440790, 15888874, 95362779, 3997005, 38893083, 33128620, 19351495, 13948414]\n"
     ]
    }
   ],
   "source": [
    "from my_library.create_random import load_random, set_random\n",
    "\n",
    "set_random(random_path, default_seed)\n",
    "random_numbers = load_random(random_path)"
   ]
  },
  {
   "cell_type": "code",
   "execution_count": 5,
   "metadata": {},
   "outputs": [
    {
     "data": {
      "application/vnd.jupyter.widget-view+json": {
       "model_id": "fd6648db2ce54aaaad644c8f2a3acde0",
       "version_major": 2,
       "version_minor": 0
      },
      "text/plain": [
       "Output()"
      ]
     },
     "metadata": {},
     "output_type": "display_data"
    },
    {
     "data": {
      "text/html": [
       "<pre style=\"white-space:pre;overflow-x:auto;line-height:normal;font-family:Menlo,'DejaVu Sans Mono',consolas,'Courier New',monospace\"></pre>\n"
      ],
      "text/plain": []
     },
     "metadata": {},
     "output_type": "display_data"
    },
    {
     "name": "stdout",
     "output_type": "stream",
     "text": [
      "Overview:\n",
      "╒═════════════════════╤═══════════════════════════════════════════════════════════════════════════════╕\n",
      "│ Configuration file: │ /mnt/d/Declich/GitHub/UMD/projects/I3lung-sqad-allslidesproject/datasets.json │\n",
      "│ Tile size (px):     │ 224                                                                           │\n",
      "│ Tile size (um):     │ 10x                                                                           │\n",
      "│ Slides:             │ 1035                                                                          │\n",
      "│ Patients:           │ 982                                                                           │\n",
      "│ Slides with ROIs:   │ 0                                                                             │\n",
      "│ Patients with ROIs: │ 0                                                                             │\n",
      "╘═════════════════════╧═══════════════════════════════════════════════════════════════════════════════╛\n",
      "\n",
      "Filters:\n",
      "╒═══════════════╤════╕\n",
      "│ Filters:      │ {} │\n",
      "├───────────────┼────┤\n",
      "│ Filter Blank: │ [] │\n",
      "├───────────────┼────┤\n",
      "│ Min Tiles:    │ 0  │\n",
      "╘═══════════════╧════╛\n",
      "\n",
      "Sources:\n",
      "\n",
      "INT\n",
      "╒═══════════╤═════════════════════════════════════════════════════════════════════════╕\n",
      "│ slides    │ /mnt/d/Digital_path                                                     │\n",
      "│ roi       │ /mnt/d/Declich/GitHub/UMD/projects/I3lung-sqad-allslidesproject/roi/INT │\n",
      "│ tiles     │ /mnt/d/Declich/tiles-extracted/I3LUNG-SQAD/tiles                        │\n",
      "│ tfrecords │ /mnt/d/Declich/tiles-extracted/I3LUNG-SQAD/tfrecords                    │\n",
      "│ label     │ 224px_10x                                                               │\n",
      "╘═══════════╧═════════════════════════════════════════════════════════════════════════╛\n",
      "\n",
      "Number of tiles in TFRecords: 999779\n",
      "Annotation columns:\n",
      "Index(['slide', 'EXT', 'patient', 'FULL_I3LUNG_NAME', 'NUM_SLIDES',\n",
      "       'STUDY_TYPE', 'SLIDE_TYPE', 'COHORT', 'HISTOLOGY', 'PDL1_CATHEGORY',\n",
      "       'PDL1_HIGH_LOW', 'BEST_RESPONSE', 'BEST_RESPONSE_3',\n",
      "       'SITE_METS_IO_START', 'IO_START', 'IO_END', 'PROGRESSION_DATE',\n",
      "       'Z03_DATE', 'DEATH_EVENT_OC', 'PROGRESSION_EVENT_OC',\n",
      "       'THERAPY_END_EVENT_OC', 'I30_KRAS', 'I55_P53'],\n",
      "      dtype='object')\n"
     ]
    }
   ],
   "source": [
    "dataset = build_dataset_s(P, tile_px=tile_px, tile_um=tile_um, filters=filters,source = \"INT\")\n",
    "magnification = '10x'\n",
    "normalization = \"\""
   ]
  },
  {
   "cell_type": "code",
   "execution_count": 6,
   "metadata": {},
   "outputs": [],
   "source": [
    "normalizer_list = [\"\", \"macenko_fast\", \"reinhard_fast\"]"
   ]
  },
  {
   "cell_type": "code",
   "execution_count": 7,
   "metadata": {},
   "outputs": [
    {
     "name": "stdout",
     "output_type": "stream",
     "text": [
      "\n"
     ]
    },
    {
     "name": "stderr",
     "output_type": "stream",
     "text": [
      "/home/vanja/anaconda3/envs/sf3/lib/python3.9/site-packages/slideflow_noncommercial/extractors/uni.py:78: FutureWarning: You are using `torch.load` with `weights_only=False` (the current default value), which uses the default pickle module implicitly. It is possible to construct malicious pickle data which will execute arbitrary code during unpickling (See https://github.com/pytorch/pytorch/blob/main/SECURITY.md#untrusted-models for more details). In a future release, the default value for `weights_only` will be flipped to `True`. This limits the functions that could be executed during unpickling. Arbitrary objects will no longer be allowed to be loaded via this mode unless they are explicitly allowlisted by the user via `torch.serialization.add_safe_globals`. We recommend you start setting `weights_only=True` for any use case where you don't have full control of the loaded file. Please open an issue on GitHub for any issues related to this experimental feature.\n",
      "  td = torch.load(weights, map_location=self.device)\n"
     ]
    },
    {
     "data": {
      "text/html": [
       "<pre style=\"white-space:pre;overflow-x:auto;line-height:normal;font-family:Menlo,'DejaVu Sans Mono',consolas,'Courier New',monospace\"><span style=\"color: #7fbfbf; text-decoration-color: #7fbfbf\">[15:06:56] </span><span style=\"color: #000080; text-decoration-color: #000080\">INFO    </span> Using feature extractor: <span style=\"color: #008000; text-decoration-color: #008000\">uni</span>                                                                   \n",
       "</pre>\n"
      ],
      "text/plain": [
       "\u001b[2;36m[15:06:56]\u001b[0m\u001b[2;36m \u001b[0m\u001b[34mINFO    \u001b[0m Using feature extractor: \u001b[32muni\u001b[0m                                                                   \n"
      ]
     },
     "metadata": {},
     "output_type": "display_data"
    },
    {
     "data": {
      "text/html": [
       "<pre style=\"white-space:pre;overflow-x:auto;line-height:normal;font-family:Menlo,'DejaVu Sans Mono',consolas,'Courier New',monospace\"><span style=\"color: #7fbfbf; text-decoration-color: #7fbfbf\">           </span><span style=\"color: #000080; text-decoration-color: #000080\">INFO    </span> Skipping 713/1035 finished slides.                                                             \n",
       "</pre>\n"
      ],
      "text/plain": [
       "\u001b[2;36m          \u001b[0m\u001b[2;36m \u001b[0m\u001b[34mINFO    \u001b[0m Skipping 713/1035 finished slides.                                                             \n"
      ]
     },
     "metadata": {},
     "output_type": "display_data"
    },
    {
     "data": {
      "text/html": [
       "<pre style=\"white-space:pre;overflow-x:auto;line-height:normal;font-family:Menlo,'DejaVu Sans Mono',consolas,'Courier New',monospace\"><span style=\"color: #7fbfbf; text-decoration-color: #7fbfbf\">           </span><span style=\"color: #000080; text-decoration-color: #000080\">INFO    </span> Working on 322 slides                                                                          \n",
       "</pre>\n"
      ],
      "text/plain": [
       "\u001b[2;36m          \u001b[0m\u001b[2;36m \u001b[0m\u001b[34mINFO    \u001b[0m Working on 322 slides                                                                          \n"
      ]
     },
     "metadata": {},
     "output_type": "display_data"
    },
    {
     "data": {
      "text/html": [
       "<pre style=\"white-space:pre;overflow-x:auto;line-height:normal;font-family:Menlo,'DejaVu Sans Mono',consolas,'Courier New',monospace\"><span style=\"color: #7fbfbf; text-decoration-color: #7fbfbf\">           </span><span style=\"color: #808000; text-decoration-color: #808000\">WARNING </span> <span style=\"color: #808000; text-decoration-color: #808000\">Unable to generate features; no TFRecords found.</span>                                               \n",
       "</pre>\n"
      ],
      "text/plain": [
       "\u001b[2;36m          \u001b[0m\u001b[2;36m \u001b[0m\u001b[33mWARNING \u001b[0m \u001b[33mUnable to generate features; no TFRecords found.\u001b[0m                                               \n"
      ]
     },
     "metadata": {},
     "output_type": "display_data"
    },
    {
     "data": {
      "text/html": [
       "<pre style=\"white-space:pre;overflow-x:auto;line-height:normal;font-family:Menlo,'DejaVu Sans Mono',consolas,'Courier New',monospace\"><span style=\"color: #7fbfbf; text-decoration-color: #7fbfbf\">           </span><span style=\"color: #000080; text-decoration-color: #000080\">INFO    </span> Using feature extractor: <span style=\"color: #008000; text-decoration-color: #008000\">uni</span>                                                                   \n",
       "</pre>\n"
      ],
      "text/plain": [
       "\u001b[2;36m          \u001b[0m\u001b[2;36m \u001b[0m\u001b[34mINFO    \u001b[0m Using feature extractor: \u001b[32muni\u001b[0m                                                                   \n"
      ]
     },
     "metadata": {},
     "output_type": "display_data"
    },
    {
     "data": {
      "text/html": [
       "<pre style=\"white-space:pre;overflow-x:auto;line-height:normal;font-family:Menlo,'DejaVu Sans Mono',consolas,'Courier New',monospace\"><span style=\"color: #7fbfbf; text-decoration-color: #7fbfbf\">           </span><span style=\"color: #000080; text-decoration-color: #000080\">INFO    </span> Skipping 713/1035 finished slides.                                                             \n",
       "</pre>\n"
      ],
      "text/plain": [
       "\u001b[2;36m          \u001b[0m\u001b[2;36m \u001b[0m\u001b[34mINFO    \u001b[0m Skipping 713/1035 finished slides.                                                             \n"
      ]
     },
     "metadata": {},
     "output_type": "display_data"
    },
    {
     "data": {
      "text/html": [
       "<pre style=\"white-space:pre;overflow-x:auto;line-height:normal;font-family:Menlo,'DejaVu Sans Mono',consolas,'Courier New',monospace\"><span style=\"color: #7fbfbf; text-decoration-color: #7fbfbf\">           </span><span style=\"color: #000080; text-decoration-color: #000080\">INFO    </span> Working on 322 slides                                                                          \n",
       "</pre>\n"
      ],
      "text/plain": [
       "\u001b[2;36m          \u001b[0m\u001b[2;36m \u001b[0m\u001b[34mINFO    \u001b[0m Working on 322 slides                                                                          \n"
      ]
     },
     "metadata": {},
     "output_type": "display_data"
    },
    {
     "data": {
      "text/html": [
       "<pre style=\"white-space:pre;overflow-x:auto;line-height:normal;font-family:Menlo,'DejaVu Sans Mono',consolas,'Courier New',monospace\"><span style=\"color: #7fbfbf; text-decoration-color: #7fbfbf\">           </span><span style=\"color: #808000; text-decoration-color: #808000\">WARNING </span> <span style=\"color: #808000; text-decoration-color: #808000\">Unable to generate features; no TFRecords found.</span>                                               \n",
       "</pre>\n"
      ],
      "text/plain": [
       "\u001b[2;36m          \u001b[0m\u001b[2;36m \u001b[0m\u001b[33mWARNING \u001b[0m \u001b[33mUnable to generate features; no TFRecords found.\u001b[0m                                               \n"
      ]
     },
     "metadata": {},
     "output_type": "display_data"
    },
    {
     "name": "stdout",
     "output_type": "stream",
     "text": [
      "/mnt/d/Declich/bags/uni/no-qc/10x No Gaussian\n",
      "macenko_fast\n"
     ]
    },
    {
     "data": {
      "text/html": [
       "<pre style=\"white-space:pre;overflow-x:auto;line-height:normal;font-family:Menlo,'DejaVu Sans Mono',consolas,'Courier New',monospace\"><span style=\"color: #7fbfbf; text-decoration-color: #7fbfbf\">[15:07:18] </span><span style=\"color: #000080; text-decoration-color: #000080\">INFO    </span> Using feature extractor: <span style=\"color: #008000; text-decoration-color: #008000\">uni</span>                                                                   \n",
       "</pre>\n"
      ],
      "text/plain": [
       "\u001b[2;36m[15:07:18]\u001b[0m\u001b[2;36m \u001b[0m\u001b[34mINFO    \u001b[0m Using feature extractor: \u001b[32muni\u001b[0m                                                                   \n"
      ]
     },
     "metadata": {},
     "output_type": "display_data"
    },
    {
     "data": {
      "text/html": [
       "<pre style=\"white-space:pre;overflow-x:auto;line-height:normal;font-family:Menlo,'DejaVu Sans Mono',consolas,'Courier New',monospace\"><span style=\"color: #7fbfbf; text-decoration-color: #7fbfbf\">           </span><span style=\"color: #000080; text-decoration-color: #000080\">INFO    </span> Skipping 713/1035 finished slides.                                                             \n",
       "</pre>\n"
      ],
      "text/plain": [
       "\u001b[2;36m          \u001b[0m\u001b[2;36m \u001b[0m\u001b[34mINFO    \u001b[0m Skipping 713/1035 finished slides.                                                             \n"
      ]
     },
     "metadata": {},
     "output_type": "display_data"
    },
    {
     "data": {
      "text/html": [
       "<pre style=\"white-space:pre;overflow-x:auto;line-height:normal;font-family:Menlo,'DejaVu Sans Mono',consolas,'Courier New',monospace\"><span style=\"color: #7fbfbf; text-decoration-color: #7fbfbf\">           </span><span style=\"color: #000080; text-decoration-color: #000080\">INFO    </span> Working on 322 slides                                                                          \n",
       "</pre>\n"
      ],
      "text/plain": [
       "\u001b[2;36m          \u001b[0m\u001b[2;36m \u001b[0m\u001b[34mINFO    \u001b[0m Working on 322 slides                                                                          \n"
      ]
     },
     "metadata": {},
     "output_type": "display_data"
    },
    {
     "data": {
      "text/html": [
       "<pre style=\"white-space:pre;overflow-x:auto;line-height:normal;font-family:Menlo,'DejaVu Sans Mono',consolas,'Courier New',monospace\"><span style=\"color: #7fbfbf; text-decoration-color: #7fbfbf\">           </span><span style=\"color: #808000; text-decoration-color: #808000\">WARNING </span> <span style=\"color: #808000; text-decoration-color: #808000\">Unable to generate features; no TFRecords found.</span>                                               \n",
       "</pre>\n"
      ],
      "text/plain": [
       "\u001b[2;36m          \u001b[0m\u001b[2;36m \u001b[0m\u001b[33mWARNING \u001b[0m \u001b[33mUnable to generate features; no TFRecords found.\u001b[0m                                               \n"
      ]
     },
     "metadata": {},
     "output_type": "display_data"
    },
    {
     "name": "stdout",
     "output_type": "stream",
     "text": [
      "/mnt/d/Declich/bags/uni/no-qc/10x macenko_fast\n",
      "reinhard_fast\n"
     ]
    },
    {
     "data": {
      "text/html": [
       "<pre style=\"white-space:pre;overflow-x:auto;line-height:normal;font-family:Menlo,'DejaVu Sans Mono',consolas,'Courier New',monospace\"><span style=\"color: #7fbfbf; text-decoration-color: #7fbfbf\">[15:07:40] </span><span style=\"color: #000080; text-decoration-color: #000080\">INFO    </span> Using feature extractor: <span style=\"color: #008000; text-decoration-color: #008000\">uni</span>                                                                   \n",
       "</pre>\n"
      ],
      "text/plain": [
       "\u001b[2;36m[15:07:40]\u001b[0m\u001b[2;36m \u001b[0m\u001b[34mINFO    \u001b[0m Using feature extractor: \u001b[32muni\u001b[0m                                                                   \n"
      ]
     },
     "metadata": {},
     "output_type": "display_data"
    },
    {
     "data": {
      "text/html": [
       "<pre style=\"white-space:pre;overflow-x:auto;line-height:normal;font-family:Menlo,'DejaVu Sans Mono',consolas,'Courier New',monospace\"><span style=\"color: #7fbfbf; text-decoration-color: #7fbfbf\">           </span><span style=\"color: #000080; text-decoration-color: #000080\">INFO    </span> Skipping 713/1035 finished slides.                                                             \n",
       "</pre>\n"
      ],
      "text/plain": [
       "\u001b[2;36m          \u001b[0m\u001b[2;36m \u001b[0m\u001b[34mINFO    \u001b[0m Skipping 713/1035 finished slides.                                                             \n"
      ]
     },
     "metadata": {},
     "output_type": "display_data"
    },
    {
     "data": {
      "text/html": [
       "<pre style=\"white-space:pre;overflow-x:auto;line-height:normal;font-family:Menlo,'DejaVu Sans Mono',consolas,'Courier New',monospace\"><span style=\"color: #7fbfbf; text-decoration-color: #7fbfbf\">           </span><span style=\"color: #000080; text-decoration-color: #000080\">INFO    </span> Working on 322 slides                                                                          \n",
       "</pre>\n"
      ],
      "text/plain": [
       "\u001b[2;36m          \u001b[0m\u001b[2;36m \u001b[0m\u001b[34mINFO    \u001b[0m Working on 322 slides                                                                          \n"
      ]
     },
     "metadata": {},
     "output_type": "display_data"
    },
    {
     "data": {
      "text/html": [
       "<pre style=\"white-space:pre;overflow-x:auto;line-height:normal;font-family:Menlo,'DejaVu Sans Mono',consolas,'Courier New',monospace\"><span style=\"color: #7fbfbf; text-decoration-color: #7fbfbf\">           </span><span style=\"color: #808000; text-decoration-color: #808000\">WARNING </span> <span style=\"color: #808000; text-decoration-color: #808000\">Unable to generate features; no TFRecords found.</span>                                               \n",
       "</pre>\n"
      ],
      "text/plain": [
       "\u001b[2;36m          \u001b[0m\u001b[2;36m \u001b[0m\u001b[33mWARNING \u001b[0m \u001b[33mUnable to generate features; no TFRecords found.\u001b[0m                                               \n"
      ]
     },
     "metadata": {},
     "output_type": "display_data"
    },
    {
     "name": "stdout",
     "output_type": "stream",
     "text": [
      "/mnt/d/Declich/bags/uni/no-qc/10x reinhard_fast\n"
     ]
    }
   ],
   "source": [
    "for idx, value in enumerate(normalizer_list):\n",
    "    qc =[]\n",
    "    \n",
    "    modifier = \"no-qc\"\n",
    "    uni_bags_path_C = os.path.join(uni_bags_path, modifier)\n",
    "    normalization = value\n",
    "    print(normalization)\n",
    "    dir_uni = uni_encodings(dataset, uni_bags_path_C, magnification, qc, normalization)\n",
    "    print(dir_uni)"
   ]
  },
  {
   "cell_type": "code",
   "execution_count": 8,
   "metadata": {},
   "outputs": [
    {
     "name": "stdout",
     "output_type": "stream",
     "text": [
      "Directory already exists!\n"
     ]
    }
   ],
   "source": [
    "project_path = \"projects/I3lung-sqadqc-allslidesproject\"\n",
    "project_path = os.path.join(working_directory, project_path)\n",
    "P = create_project(project_path)"
   ]
  },
  {
   "cell_type": "code",
   "execution_count": 9,
   "metadata": {},
   "outputs": [
    {
     "data": {
      "application/vnd.jupyter.widget-view+json": {
       "model_id": "d43fcf180f73473888192988f2c48e0e",
       "version_major": 2,
       "version_minor": 0
      },
      "text/plain": [
       "Output()"
      ]
     },
     "metadata": {},
     "output_type": "display_data"
    },
    {
     "data": {
      "text/html": [
       "<pre style=\"white-space:pre;overflow-x:auto;line-height:normal;font-family:Menlo,'DejaVu Sans Mono',consolas,'Courier New',monospace\"></pre>\n"
      ],
      "text/plain": []
     },
     "metadata": {},
     "output_type": "display_data"
    },
    {
     "name": "stdout",
     "output_type": "stream",
     "text": [
      "Overview:\n",
      "╒═════════════════════╤═════════════════════════════════════════════════════════════════════════════════╕\n",
      "│ Configuration file: │ /mnt/d/Declich/GitHub/UMD/projects/I3lung-sqadqc-allslidesproject/datasets.json │\n",
      "│ Tile size (px):     │ 224                                                                             │\n",
      "│ Tile size (um):     │ 10x                                                                             │\n",
      "│ Slides:             │ 1035                                                                            │\n",
      "│ Patients:           │ 982                                                                             │\n",
      "│ Slides with ROIs:   │ 0                                                                               │\n",
      "│ Patients with ROIs: │ 0                                                                               │\n",
      "╘═════════════════════╧═════════════════════════════════════════════════════════════════════════════════╛\n",
      "\n",
      "Filters:\n",
      "╒═══════════════╤════╕\n",
      "│ Filters:      │ {} │\n",
      "├───────────────┼────┤\n",
      "│ Filter Blank: │ [] │\n",
      "├───────────────┼────┤\n",
      "│ Min Tiles:    │ 0  │\n",
      "╘═══════════════╧════╛\n",
      "\n",
      "Sources:\n",
      "\n",
      "INT-QC\n",
      "╒═══════════╤══════════════════════════════════════════════════════════════════════════════╕\n",
      "│ slides    │ /mnt/d/Digital_path                                                          │\n",
      "│ roi       │ /mnt/d/Declich/GitHub/UMD/projects/I3lung-sqadqc-allslidesproject/roi/INT-QC │\n",
      "│ tiles     │ /mnt/d/Declich/tiles-extracted/I3LUNG-SQADQC/tiles                           │\n",
      "│ tfrecords │ /mnt/d/Declich/tiles-extracted/I3LUNG-SQADQC/tfrecords                       │\n",
      "│ label     │ 224px_10x                                                                    │\n",
      "╘═══════════╧══════════════════════════════════════════════════════════════════════════════╛\n",
      "\n",
      "Number of tiles in TFRecords: 807672\n",
      "Annotation columns:\n",
      "Index(['slide', 'EXT', 'patient', 'FULL_I3LUNG_NAME', 'NUM_SLIDES',\n",
      "       'STUDY_TYPE', 'SLIDE_TYPE', 'COHORT', 'HISTOLOGY', 'PDL1_CATHEGORY',\n",
      "       'PDL1_HIGH_LOW', 'BEST_RESPONSE', 'BEST_RESPONSE_3',\n",
      "       'SITE_METS_IO_START', 'IO_START', 'IO_END', 'PROGRESSION_DATE',\n",
      "       'Z03_DATE', 'DEATH_EVENT_OC', 'PROGRESSION_EVENT_OC',\n",
      "       'THERAPY_END_EVENT_OC', 'I30_KRAS', 'I55_P53'],\n",
      "      dtype='object')\n",
      "\n"
     ]
    },
    {
     "name": "stderr",
     "output_type": "stream",
     "text": [
      "/home/vanja/anaconda3/envs/sf3/lib/python3.9/site-packages/slideflow_noncommercial/extractors/uni.py:78: FutureWarning: You are using `torch.load` with `weights_only=False` (the current default value), which uses the default pickle module implicitly. It is possible to construct malicious pickle data which will execute arbitrary code during unpickling (See https://github.com/pytorch/pytorch/blob/main/SECURITY.md#untrusted-models for more details). In a future release, the default value for `weights_only` will be flipped to `True`. This limits the functions that could be executed during unpickling. Arbitrary objects will no longer be allowed to be loaded via this mode unless they are explicitly allowlisted by the user via `torch.serialization.add_safe_globals`. We recommend you start setting `weights_only=True` for any use case where you don't have full control of the loaded file. Please open an issue on GitHub for any issues related to this experimental feature.\n",
      "  td = torch.load(weights, map_location=self.device)\n"
     ]
    },
    {
     "data": {
      "text/html": [
       "<pre style=\"white-space:pre;overflow-x:auto;line-height:normal;font-family:Menlo,'DejaVu Sans Mono',consolas,'Courier New',monospace\"><span style=\"color: #7fbfbf; text-decoration-color: #7fbfbf\">[15:08:12] </span><span style=\"color: #000080; text-decoration-color: #000080\">INFO    </span> Using feature extractor: <span style=\"color: #008000; text-decoration-color: #008000\">uni</span>                                                                   \n",
       "</pre>\n"
      ],
      "text/plain": [
       "\u001b[2;36m[15:08:12]\u001b[0m\u001b[2;36m \u001b[0m\u001b[34mINFO    \u001b[0m Using feature extractor: \u001b[32muni\u001b[0m                                                                   \n"
      ]
     },
     "metadata": {},
     "output_type": "display_data"
    },
    {
     "data": {
      "text/html": [
       "<pre style=\"white-space:pre;overflow-x:auto;line-height:normal;font-family:Menlo,'DejaVu Sans Mono',consolas,'Courier New',monospace\"><span style=\"color: #7fbfbf; text-decoration-color: #7fbfbf\">           </span><span style=\"color: #000080; text-decoration-color: #000080\">INFO    </span> Skipping 708/1035 finished slides.                                                             \n",
       "</pre>\n"
      ],
      "text/plain": [
       "\u001b[2;36m          \u001b[0m\u001b[2;36m \u001b[0m\u001b[34mINFO    \u001b[0m Skipping 708/1035 finished slides.                                                             \n"
      ]
     },
     "metadata": {},
     "output_type": "display_data"
    },
    {
     "data": {
      "text/html": [
       "<pre style=\"white-space:pre;overflow-x:auto;line-height:normal;font-family:Menlo,'DejaVu Sans Mono',consolas,'Courier New',monospace\"><span style=\"color: #7fbfbf; text-decoration-color: #7fbfbf\">           </span><span style=\"color: #000080; text-decoration-color: #000080\">INFO    </span> Working on 327 slides                                                                          \n",
       "</pre>\n"
      ],
      "text/plain": [
       "\u001b[2;36m          \u001b[0m\u001b[2;36m \u001b[0m\u001b[34mINFO    \u001b[0m Working on 327 slides                                                                          \n"
      ]
     },
     "metadata": {},
     "output_type": "display_data"
    },
    {
     "data": {
      "text/html": [
       "<pre style=\"white-space:pre;overflow-x:auto;line-height:normal;font-family:Menlo,'DejaVu Sans Mono',consolas,'Courier New',monospace\"><span style=\"color: #7fbfbf; text-decoration-color: #7fbfbf\">           </span><span style=\"color: #808000; text-decoration-color: #808000\">WARNING </span> <span style=\"color: #808000; text-decoration-color: #808000\">Unable to generate features; no TFRecords found.</span>                                               \n",
       "</pre>\n"
      ],
      "text/plain": [
       "\u001b[2;36m          \u001b[0m\u001b[2;36m \u001b[0m\u001b[33mWARNING \u001b[0m \u001b[33mUnable to generate features; no TFRecords found.\u001b[0m                                               \n"
      ]
     },
     "metadata": {},
     "output_type": "display_data"
    },
    {
     "data": {
      "text/html": [
       "<pre style=\"white-space:pre;overflow-x:auto;line-height:normal;font-family:Menlo,'DejaVu Sans Mono',consolas,'Courier New',monospace\"><span style=\"color: #7fbfbf; text-decoration-color: #7fbfbf\">           </span><span style=\"color: #000080; text-decoration-color: #000080\">INFO    </span> Using feature extractor: <span style=\"color: #008000; text-decoration-color: #008000\">uni</span>                                                                   \n",
       "</pre>\n"
      ],
      "text/plain": [
       "\u001b[2;36m          \u001b[0m\u001b[2;36m \u001b[0m\u001b[34mINFO    \u001b[0m Using feature extractor: \u001b[32muni\u001b[0m                                                                   \n"
      ]
     },
     "metadata": {},
     "output_type": "display_data"
    },
    {
     "data": {
      "text/html": [
       "<pre style=\"white-space:pre;overflow-x:auto;line-height:normal;font-family:Menlo,'DejaVu Sans Mono',consolas,'Courier New',monospace\"><span style=\"color: #7fbfbf; text-decoration-color: #7fbfbf\">           </span><span style=\"color: #000080; text-decoration-color: #000080\">INFO    </span> Skipping 708/1035 finished slides.                                                             \n",
       "</pre>\n"
      ],
      "text/plain": [
       "\u001b[2;36m          \u001b[0m\u001b[2;36m \u001b[0m\u001b[34mINFO    \u001b[0m Skipping 708/1035 finished slides.                                                             \n"
      ]
     },
     "metadata": {},
     "output_type": "display_data"
    },
    {
     "data": {
      "text/html": [
       "<pre style=\"white-space:pre;overflow-x:auto;line-height:normal;font-family:Menlo,'DejaVu Sans Mono',consolas,'Courier New',monospace\"><span style=\"color: #7fbfbf; text-decoration-color: #7fbfbf\">           </span><span style=\"color: #000080; text-decoration-color: #000080\">INFO    </span> Working on 327 slides                                                                          \n",
       "</pre>\n"
      ],
      "text/plain": [
       "\u001b[2;36m          \u001b[0m\u001b[2;36m \u001b[0m\u001b[34mINFO    \u001b[0m Working on 327 slides                                                                          \n"
      ]
     },
     "metadata": {},
     "output_type": "display_data"
    },
    {
     "data": {
      "text/html": [
       "<pre style=\"white-space:pre;overflow-x:auto;line-height:normal;font-family:Menlo,'DejaVu Sans Mono',consolas,'Courier New',monospace\"><span style=\"color: #7fbfbf; text-decoration-color: #7fbfbf\">[15:08:13] </span><span style=\"color: #808000; text-decoration-color: #808000\">WARNING </span> <span style=\"color: #808000; text-decoration-color: #808000\">Unable to generate features; no TFRecords found.</span>                                               \n",
       "</pre>\n"
      ],
      "text/plain": [
       "\u001b[2;36m[15:08:13]\u001b[0m\u001b[2;36m \u001b[0m\u001b[33mWARNING \u001b[0m \u001b[33mUnable to generate features; no TFRecords found.\u001b[0m                                               \n"
      ]
     },
     "metadata": {},
     "output_type": "display_data"
    },
    {
     "name": "stdout",
     "output_type": "stream",
     "text": [
      "macenko_fast\n"
     ]
    },
    {
     "data": {
      "text/html": [
       "<pre style=\"white-space:pre;overflow-x:auto;line-height:normal;font-family:Menlo,'DejaVu Sans Mono',consolas,'Courier New',monospace\"><span style=\"color: #7fbfbf; text-decoration-color: #7fbfbf\">[15:08:34] </span><span style=\"color: #000080; text-decoration-color: #000080\">INFO    </span> Using feature extractor: <span style=\"color: #008000; text-decoration-color: #008000\">uni</span>                                                                   \n",
       "</pre>\n"
      ],
      "text/plain": [
       "\u001b[2;36m[15:08:34]\u001b[0m\u001b[2;36m \u001b[0m\u001b[34mINFO    \u001b[0m Using feature extractor: \u001b[32muni\u001b[0m                                                                   \n"
      ]
     },
     "metadata": {},
     "output_type": "display_data"
    },
    {
     "data": {
      "text/html": [
       "<pre style=\"white-space:pre;overflow-x:auto;line-height:normal;font-family:Menlo,'DejaVu Sans Mono',consolas,'Courier New',monospace\"><span style=\"color: #7fbfbf; text-decoration-color: #7fbfbf\">           </span><span style=\"color: #000080; text-decoration-color: #000080\">INFO    </span> Skipping 708/1035 finished slides.                                                             \n",
       "</pre>\n"
      ],
      "text/plain": [
       "\u001b[2;36m          \u001b[0m\u001b[2;36m \u001b[0m\u001b[34mINFO    \u001b[0m Skipping 708/1035 finished slides.                                                             \n"
      ]
     },
     "metadata": {},
     "output_type": "display_data"
    },
    {
     "data": {
      "text/html": [
       "<pre style=\"white-space:pre;overflow-x:auto;line-height:normal;font-family:Menlo,'DejaVu Sans Mono',consolas,'Courier New',monospace\"><span style=\"color: #7fbfbf; text-decoration-color: #7fbfbf\">           </span><span style=\"color: #000080; text-decoration-color: #000080\">INFO    </span> Working on 327 slides                                                                          \n",
       "</pre>\n"
      ],
      "text/plain": [
       "\u001b[2;36m          \u001b[0m\u001b[2;36m \u001b[0m\u001b[34mINFO    \u001b[0m Working on 327 slides                                                                          \n"
      ]
     },
     "metadata": {},
     "output_type": "display_data"
    },
    {
     "data": {
      "text/html": [
       "<pre style=\"white-space:pre;overflow-x:auto;line-height:normal;font-family:Menlo,'DejaVu Sans Mono',consolas,'Courier New',monospace\"><span style=\"color: #7fbfbf; text-decoration-color: #7fbfbf\">           </span><span style=\"color: #808000; text-decoration-color: #808000\">WARNING </span> <span style=\"color: #808000; text-decoration-color: #808000\">Unable to generate features; no TFRecords found.</span>                                               \n",
       "</pre>\n"
      ],
      "text/plain": [
       "\u001b[2;36m          \u001b[0m\u001b[2;36m \u001b[0m\u001b[33mWARNING \u001b[0m \u001b[33mUnable to generate features; no TFRecords found.\u001b[0m                                               \n"
      ]
     },
     "metadata": {},
     "output_type": "display_data"
    },
    {
     "name": "stdout",
     "output_type": "stream",
     "text": [
      "reinhard_fast\n"
     ]
    },
    {
     "data": {
      "text/html": [
       "<pre style=\"white-space:pre;overflow-x:auto;line-height:normal;font-family:Menlo,'DejaVu Sans Mono',consolas,'Courier New',monospace\"><span style=\"color: #7fbfbf; text-decoration-color: #7fbfbf\">[15:08:55] </span><span style=\"color: #000080; text-decoration-color: #000080\">INFO    </span> Using feature extractor: <span style=\"color: #008000; text-decoration-color: #008000\">uni</span>                                                                   \n",
       "</pre>\n"
      ],
      "text/plain": [
       "\u001b[2;36m[15:08:55]\u001b[0m\u001b[2;36m \u001b[0m\u001b[34mINFO    \u001b[0m Using feature extractor: \u001b[32muni\u001b[0m                                                                   \n"
      ]
     },
     "metadata": {},
     "output_type": "display_data"
    },
    {
     "data": {
      "text/html": [
       "<pre style=\"white-space:pre;overflow-x:auto;line-height:normal;font-family:Menlo,'DejaVu Sans Mono',consolas,'Courier New',monospace\"><span style=\"color: #7fbfbf; text-decoration-color: #7fbfbf\">[15:08:56] </span><span style=\"color: #000080; text-decoration-color: #000080\">INFO    </span> Skipping 708/1035 finished slides.                                                             \n",
       "</pre>\n"
      ],
      "text/plain": [
       "\u001b[2;36m[15:08:56]\u001b[0m\u001b[2;36m \u001b[0m\u001b[34mINFO    \u001b[0m Skipping 708/1035 finished slides.                                                             \n"
      ]
     },
     "metadata": {},
     "output_type": "display_data"
    },
    {
     "data": {
      "text/html": [
       "<pre style=\"white-space:pre;overflow-x:auto;line-height:normal;font-family:Menlo,'DejaVu Sans Mono',consolas,'Courier New',monospace\"><span style=\"color: #7fbfbf; text-decoration-color: #7fbfbf\">           </span><span style=\"color: #000080; text-decoration-color: #000080\">INFO    </span> Working on 327 slides                                                                          \n",
       "</pre>\n"
      ],
      "text/plain": [
       "\u001b[2;36m          \u001b[0m\u001b[2;36m \u001b[0m\u001b[34mINFO    \u001b[0m Working on 327 slides                                                                          \n"
      ]
     },
     "metadata": {},
     "output_type": "display_data"
    },
    {
     "data": {
      "text/html": [
       "<pre style=\"white-space:pre;overflow-x:auto;line-height:normal;font-family:Menlo,'DejaVu Sans Mono',consolas,'Courier New',monospace\"><span style=\"color: #7fbfbf; text-decoration-color: #7fbfbf\">           </span><span style=\"color: #808000; text-decoration-color: #808000\">WARNING </span> <span style=\"color: #808000; text-decoration-color: #808000\">Unable to generate features; no TFRecords found.</span>                                               \n",
       "</pre>\n"
      ],
      "text/plain": [
       "\u001b[2;36m          \u001b[0m\u001b[2;36m \u001b[0m\u001b[33mWARNING \u001b[0m \u001b[33mUnable to generate features; no TFRecords found.\u001b[0m                                               \n"
      ]
     },
     "metadata": {},
     "output_type": "display_data"
    }
   ],
   "source": [
    "dataset = build_dataset_s(P, tile_px=tile_px, tile_um=tile_um, filters=filters,source = \"INT-QC\")\n",
    "magnification = '10x'\n",
    "normalization = \"\"\n",
    "\n",
    "for idx, value in enumerate(normalizer_list):\n",
    "    qc =[]\n",
    "    uni_bags_path = uni_bags_path\n",
    "    modifier = \"full-qc\"\n",
    "    uni_bags_path = os.path.join(uni_bags_path, modifier)\n",
    "    normalization = value\n",
    "    print(normalization)\n",
    "    dir_uni = uni_encodings(dataset, uni_bags_path, magnification, qc, normalization)"
   ]
  }
 ],
 "metadata": {
  "kernelspec": {
   "display_name": "sf3",
   "language": "python",
   "name": "python3"
  },
  "language_info": {
   "codemirror_mode": {
    "name": "ipython",
    "version": 3
   },
   "file_extension": ".py",
   "mimetype": "text/x-python",
   "name": "python",
   "nbconvert_exporter": "python",
   "pygments_lexer": "ipython3",
   "version": "3.9.18"
  }
 },
 "nbformat": 4,
 "nbformat_minor": 2
}
