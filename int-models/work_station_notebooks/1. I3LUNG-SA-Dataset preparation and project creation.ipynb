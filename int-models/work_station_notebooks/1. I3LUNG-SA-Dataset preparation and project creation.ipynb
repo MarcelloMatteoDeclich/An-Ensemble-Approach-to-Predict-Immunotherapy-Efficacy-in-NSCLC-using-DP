{
 "cells": [
  {
   "cell_type": "code",
   "execution_count": 1,
   "metadata": {},
   "outputs": [
    {
     "name": "stderr",
     "output_type": "stream",
     "text": [
      "/home/mmd/anaconda3/envs/sfs2/lib/python3.9/site-packages/timm/models/helpers.py:7: FutureWarning: Importing from timm.models.helpers is deprecated, please import via timm.models\n",
      "  warnings.warn(f\"Importing from {__name__} is deprecated, please import via timm.models\", FutureWarning)\n",
      "/home/mmd/anaconda3/envs/sfs2/lib/python3.9/site-packages/timm/models/layers/__init__.py:48: FutureWarning: Importing from timm.models.layers is deprecated, please import via timm.layers\n",
      "  warnings.warn(f\"Importing from {__name__} is deprecated, please import via timm.layers\", FutureWarning)\n"
     ]
    },
    {
     "name": "stdout",
     "output_type": "stream",
     "text": [
      "this is the current directory:  /media/mmd/Samsung_T5/GitHub/UMD/int-models/work_station_notebooks\n",
      "This is the thesis folder, where all the code is located:  GitHub/UMD\n",
      "Questo è samsung:/media/mmd/Samsung_T5\n"
     ]
    }
   ],
   "source": [
    "import sys\n",
    "sys.path.append(\"../..\")\n",
    "from my_library.config import *\n",
    "from my_library.I3LUNG import *\n",
    "from my_library.pr_creation import *\n",
    "import slideflow as sf"
   ]
  },
  {
   "cell_type": "markdown",
   "metadata": {},
   "source": [
    "# xlsx loading"
   ]
  },
  {
   "cell_type": "code",
   "execution_count": 2,
   "metadata": {},
   "outputs": [
    {
     "name": "stdout",
     "output_type": "stream",
     "text": [
      "Number of slides of all types in the dataset: 1601\n"
     ]
    }
   ],
   "source": [
    "import pandas as pd\n",
    "import os\n",
    "\n",
    "#Load the file with all the information\n",
    "data = pd.read_excel(\"../dp_metadata-3.xlsx\")\n",
    "\n",
    "print(\"Number of slides of all types in the dataset: \" + str(len(data)))"
   ]
  },
  {
   "cell_type": "markdown",
   "metadata": {},
   "source": [
    "# filtering dataframe"
   ]
  },
  {
   "cell_type": "code",
   "execution_count": 3,
   "metadata": {},
   "outputs": [
    {
     "name": "stdout",
     "output_type": "stream",
     "text": [
      "Number of h/e slides in the dataset: 1108\n"
     ]
    }
   ],
   "source": [
    "#filtering the h/e slides, only them.\n",
    "data = data[data[\"SLIDE_TYPE\"]==\"h/e\"]\n",
    "print(\"Number of h/e slides in the dataset: \" + str(len(data)))"
   ]
  },
  {
   "cell_type": "code",
   "execution_count": 4,
   "metadata": {},
   "outputs": [],
   "source": [
    "#Done only for the squamous-adeno\n",
    "#Filtering slides that don't have a value in the histology fieled\n",
    "\n",
    "#no_empty_values = data.dropna(subset = [\"HISTOLOGY\"])\n",
    "#no_other = no_empty_values[no_empty_values[\"HISTOLOGY\"]!=\"other\"]\n",
    "#data = no_other\n",
    "#print(\"Number of h/e slides for the adeno-squamous task: \" + str(len(data)))"
   ]
  },
  {
   "cell_type": "code",
   "execution_count": 5,
   "metadata": {},
   "outputs": [
    {
     "name": "stdout",
     "output_type": "stream",
     "text": [
      "Number of h/e slides for the adeno-squamous task w/o duplicates: 1042\n"
     ]
    }
   ],
   "source": [
    "# Assuming 'df' is your DataFrame\n",
    "df_cleaned = data[data.duplicated(subset=[\"ID\"],keep=False) == False]\n",
    "\n",
    "# To reset the index after removing duplicates, if needed:\n",
    "data = df_cleaned.reset_index(drop=True)\n",
    "\n",
    "print(\"Number of h/e slides for the adeno-squamous task w/o duplicates: \" + str(len(data)))"
   ]
  },
  {
   "cell_type": "code",
   "execution_count": 6,
   "metadata": {},
   "outputs": [],
   "source": [
    "#rename columns for matching slideflow naming convention\n",
    "data.rename(columns={'ID': 'slide', 'I3LUNG_ID': 'patient'}, inplace=True)"
   ]
  },
  {
   "cell_type": "code",
   "execution_count": 7,
   "metadata": {},
   "outputs": [
    {
     "name": "stdout",
     "output_type": "stream",
     "text": [
      "HISTOLOGY\n",
      "adenocarcinoma           696\n",
      "squamous                 223\n",
      "other                    107\n",
      "sarcomatoid carcinoma      1\n",
      "Name: count, dtype: int64\n"
     ]
    }
   ],
   "source": [
    "name_counts = data['HISTOLOGY'].value_counts()\n",
    "\n",
    "# Print the result, to see how much the dataset is composed\n",
    "print(name_counts)"
   ]
  },
  {
   "cell_type": "markdown",
   "metadata": {},
   "source": [
    "# Creation of project"
   ]
  },
  {
   "cell_type": "code",
   "execution_count": 8,
   "metadata": {},
   "outputs": [
    {
     "name": "stdout",
     "output_type": "stream",
     "text": [
      "Directory already exists!\n"
     ]
    }
   ],
   "source": [
    "project_path = os.path.join(working_directory, \"projects/I3lung-sqad-project\")\n",
    "P = create_project(project_path)\n",
    "data.to_csv(project_path+\"/annotations.csv\", index=False)"
   ]
  },
  {
   "cell_type": "code",
   "execution_count": 9,
   "metadata": {},
   "outputs": [
    {
     "name": "stdout",
     "output_type": "stream",
     "text": [
      "Directory already exists!\n"
     ]
    }
   ],
   "source": [
    "project_path = os.path.join(working_directory, \"projects/I3lung-sqadqc-project\")\n",
    "P = create_project(project_path)\n",
    "data.to_csv(project_path+\"/annotations.csv\", index=False)"
   ]
  }
 ],
 "metadata": {
  "kernelspec": {
   "display_name": "sfs2",
   "language": "python",
   "name": "python3"
  },
  "language_info": {
   "codemirror_mode": {
    "name": "ipython",
    "version": 3
   },
   "file_extension": ".py",
   "mimetype": "text/x-python",
   "name": "python",
   "nbconvert_exporter": "python",
   "pygments_lexer": "ipython3",
   "version": "3.9.13"
  }
 },
 "nbformat": 4,
 "nbformat_minor": 2
}
