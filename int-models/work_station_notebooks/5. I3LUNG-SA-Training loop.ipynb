{
 "cells": [
  {
   "cell_type": "code",
   "execution_count": 1,
   "metadata": {},
   "outputs": [
    {
     "name": "stdout",
     "output_type": "stream",
     "text": [
      "Server Workstation\n",
      "this is the current directory:  /mnt/d/Declich/GitHub/UMD/int-models\n",
      "This is the thesis folder, where all the code is located:  /mnt/d/Declich/GitHub/UMD\n",
      "Questo è samsung:/mnt/d/Declich\n"
     ]
    }
   ],
   "source": [
    "list_dir_uni = [\"/mnt/d/Declich/bags/uni/no-qc/10x No Gaussian\"\n",
    "                ]\n",
    "\n",
    "projects_list  = [\"projects/I3lung-sqad-project\", \n",
    "                  \"projects/I3lung-sqadqc-project\",\n",
    "]\n",
    "\n",
    "tag_list = ['ABMIL-I3LUNG-AD-noqc-nostainnorm',\n",
    "            'ABMIL-I3LUNG-AD-noqc-macenko_fast',\n",
    "            'ABMIL-I3LUNG-AD-noqc-reinhard_fast']\n",
    "\n",
    "tag_list_2 = ['ABMIL-I3LUNG-AD-qc-nostainnorm',\n",
    "            'ABMIL-I3LUNG-AD-qc-macenko_fast',\n",
    "            'ABMIL-I3LUNG-AD-qc-reinhard_fast']\n",
    "\n",
    "\n",
    "import sys\n",
    "sys.path.append(\"..\")\n",
    "from my_library.config import *\n"
   ]
  },
  {
   "cell_type": "code",
   "execution_count": null,
   "metadata": {},
   "outputs": [
    {
     "name": "stdout",
     "output_type": "stream",
     "text": [
      "/mnt/d/Declich/GitHub/UMD/int-models\n",
      "0.9728336439018299\n",
      "[76118683, 26603811, 38155807, 75156558, 80053990, 52812556, 65768388, 96000731, 21042693, 58671338, 78573194, 14099982, 97150360, 96784867, 93880968, 23269569, 68279737, 20440790, 15888874, 95362779, 3997005, 38893083, 33128620, 19351495, 13948414]\n",
      "Directory already exists!\n"
     ]
    },
    {
     "data": {
      "application/vnd.jupyter.widget-view+json": {
       "model_id": "6b6378dbd7144e5cba684fcc90040833",
       "version_major": 2,
       "version_minor": 0
      },
      "text/plain": [
       "Output()"
      ]
     },
     "metadata": {},
     "output_type": "display_data"
    },
    {
     "data": {
      "text/html": [
       "<pre style=\"white-space:pre;overflow-x:auto;line-height:normal;font-family:Menlo,'DejaVu Sans Mono',consolas,'Courier New',monospace\"></pre>\n"
      ],
      "text/plain": []
     },
     "metadata": {},
     "output_type": "display_data"
    },
    {
     "name": "stdout",
     "output_type": "stream",
     "text": [
      "Overview:\n",
      "╒═════════════════════╤══════════════════════════════════════════════════════════════════════╕\n",
      "│ Configuration file: │ /mnt/d/Declich/GitHub/UMD/projects/I3lung-sqad-project/datasets.json │\n",
      "│ Tile size (px):     │ 224                                                                  │\n",
      "│ Tile size (um):     │ 10x                                                                  │\n",
      "│ Slides:             │ 915                                                                  │\n",
      "│ Patients:           │ 865                                                                  │\n",
      "│ Slides with ROIs:   │ 0                                                                    │\n",
      "│ Patients with ROIs: │ 0                                                                    │\n",
      "╘═════════════════════╧══════════════════════════════════════════════════════════════════════╛\n",
      "\n",
      "Filters:\n",
      "╒═══════════════╤════╕\n",
      "│ Filters:      │ {} │\n",
      "├───────────────┼────┤\n",
      "│ Filter Blank: │ [] │\n",
      "├───────────────┼────┤\n",
      "│ Min Tiles:    │ 0  │\n",
      "╘═══════════════╧════╛\n",
      "\n",
      "Sources:\n",
      "\n",
      "INT\n",
      "╒═══════════╤════════════════════════════════════════════════════════════════╕\n",
      "│ slides    │ /mnt/d/Digital_path                                            │\n",
      "│ roi       │ /mnt/d/Declich/GitHub/UMD/projects/I3lung-sqad-project/roi/INT │\n",
      "│ tiles     │ /mnt/d/Declich/tiles-extracted/I3LUNG-SQAD/tiles               │\n",
      "│ tfrecords │ /mnt/d/Declich/tiles-extracted/I3LUNG-SQAD/tfrecords           │\n",
      "│ label     │ 224px_10x                                                      │\n",
      "╘═══════════╧════════════════════════════════════════════════════════════════╛\n",
      "\n",
      "Number of tiles in TFRecords: 869279\n",
      "Annotation columns:\n",
      "Index(['slide', 'EXT', 'patient', 'FULL_I3LUNG_NAME', 'NUM_SLIDES',\n",
      "       'STUDY_TYPE', 'SLIDE_TYPE', 'COHORT', 'HISTOLOGY', 'PDL1_CATHEGORY',\n",
      "       'PDL1_HIGH_LOW', 'BEST_RESPONSE', 'BEST_RESPONSE_3',\n",
      "       'SITE_METS_IO_START', 'IO_START', 'IO_END', 'PROGRESSION_DATE',\n",
      "       'Z03_DATE', 'DEATH_EVENT_OC', 'PROGRESSION_EVENT_OC',\n",
      "       'THERAPY_END_EVENT_OC', 'I30_KRAS', 'I55_P53'],\n",
      "      dtype='object')\n",
      "Random seed set to: 76118683\n"
     ]
    },
    {
     "data": {
      "text/html": [
       "<pre style=\"white-space:pre;overflow-x:auto;line-height:normal;font-family:Menlo,'DejaVu Sans Mono',consolas,'Courier New',monospace\"><span style=\"color: #7fbfbf; text-decoration-color: #7fbfbf\">[15:56:39] </span><span style=\"color: #808000; text-decoration-color: #808000\">WARNING </span> <span style=\"color: #808000; text-decoration-color: #808000\">297 slides missing tfrecords, skipping</span>                                                         \n",
       "</pre>\n"
      ],
      "text/plain": [
       "\u001b[2;36m[15:56:39]\u001b[0m\u001b[2;36m \u001b[0m\u001b[33mWARNING \u001b[0m \u001b[33m297 slides missing tfrecords, skipping\u001b[0m                                                         \n"
      ]
     },
     "metadata": {},
     "output_type": "display_data"
    },
    {
     "data": {
      "text/html": [
       "<pre style=\"white-space:pre;overflow-x:auto;line-height:normal;font-family:Menlo,'DejaVu Sans Mono',consolas,'Courier New',monospace\"><span style=\"color: #7fbfbf; text-decoration-color: #7fbfbf\">           </span><span style=\"color: #000080; text-decoration-color: #000080\">INFO    </span> No training/validation splits file provided.                                                   \n",
       "</pre>\n"
      ],
      "text/plain": [
       "\u001b[2;36m          \u001b[0m\u001b[2;36m \u001b[0m\u001b[34mINFO    \u001b[0m No training/validation splits file provided.                                                   \n"
      ]
     },
     "metadata": {},
     "output_type": "display_data"
    },
    {
     "data": {
      "text/html": [
       "<pre style=\"white-space:pre;overflow-x:auto;line-height:normal;font-family:Menlo,'DejaVu Sans Mono',consolas,'Courier New',monospace\"><span style=\"color: #7fbfbf; text-decoration-color: #7fbfbf\">           </span><span style=\"color: #000080; text-decoration-color: #000080\">INFO    </span> Unable to save or load validation splits.                                                      \n",
       "</pre>\n"
      ],
      "text/plain": [
       "\u001b[2;36m          \u001b[0m\u001b[2;36m \u001b[0m\u001b[34mINFO    \u001b[0m Unable to save or load validation splits.                                                      \n"
      ]
     },
     "metadata": {},
     "output_type": "display_data"
    },
    {
     "data": {
      "text/html": [
       "<pre style=\"white-space:pre;overflow-x:auto;line-height:normal;font-family:Menlo,'DejaVu Sans Mono',consolas,'Courier New',monospace\"><span style=\"color: #7fbfbf; text-decoration-color: #7fbfbf\">           </span><span style=\"color: #000080; text-decoration-color: #000080\">INFO    </span> Training FastAI MIL model with config:                                                         \n",
       "</pre>\n"
      ],
      "text/plain": [
       "\u001b[2;36m          \u001b[0m\u001b[2;36m \u001b[0m\u001b[34mINFO    \u001b[0m Training FastAI MIL model with config:                                                         \n"
      ]
     },
     "metadata": {},
     "output_type": "display_data"
    },
    {
     "data": {
      "text/html": [
       "<pre style=\"white-space:pre;overflow-x:auto;line-height:normal;font-family:Menlo,'DejaVu Sans Mono',consolas,'Courier New',monospace\"><span style=\"color: #7fbfbf; text-decoration-color: #7fbfbf\">           </span><span style=\"color: #000080; text-decoration-color: #000080\">INFO    </span> TrainerConfig(                                                                                 \n",
       "<span style=\"color: #7fbfbf; text-decoration-color: #7fbfbf\">           </span>           lr=0.0001                                                                                    \n",
       "<span style=\"color: #7fbfbf; text-decoration-color: #7fbfbf\">           </span>           wd=1e-05                                                                                     \n",
       "<span style=\"color: #7fbfbf; text-decoration-color: #7fbfbf\">           </span>           bag_size=1024                                                                                \n",
       "<span style=\"color: #7fbfbf; text-decoration-color: #7fbfbf\">           </span>           max_val_bag_size=None                                                                        \n",
       "<span style=\"color: #7fbfbf; text-decoration-color: #7fbfbf\">           </span>           fit_one_cycle=True                                                                           \n",
       "<span style=\"color: #7fbfbf; text-decoration-color: #7fbfbf\">           </span>           epochs=20                                                                                    \n",
       "<span style=\"color: #7fbfbf; text-decoration-color: #7fbfbf\">           </span>           batch_size=16                                                                                \n",
       "<span style=\"color: #7fbfbf; text-decoration-color: #7fbfbf\">           </span>           drop_last=True                                                                               \n",
       "<span style=\"color: #7fbfbf; text-decoration-color: #7fbfbf\">           </span>           save_monitor='valid_loss'                                                                    \n",
       "<span style=\"color: #7fbfbf; text-decoration-color: #7fbfbf\">           </span>           weighted_loss=True                                                                           \n",
       "<span style=\"color: #7fbfbf; text-decoration-color: #7fbfbf\">           </span>           model='attention_mil'                                                                        \n",
       "<span style=\"color: #7fbfbf; text-decoration-color: #7fbfbf\">           </span>           model_kwargs=None                                                                            \n",
       "<span style=\"color: #7fbfbf; text-decoration-color: #7fbfbf\">           </span>           loss='cross_entropy'                                                                         \n",
       "<span style=\"color: #7fbfbf; text-decoration-color: #7fbfbf\">           </span>           use_lens=True                                                                                \n",
       "<span style=\"color: #7fbfbf; text-decoration-color: #7fbfbf\">           </span>         )                                                                                              \n",
       "</pre>\n"
      ],
      "text/plain": [
       "\u001b[2;36m          \u001b[0m\u001b[2;36m \u001b[0m\u001b[34mINFO    \u001b[0m TrainerConfig(                                                                                 \n",
       "\u001b[2;36m           \u001b[0m           lr=0.0001                                                                                    \n",
       "\u001b[2;36m           \u001b[0m           wd=1e-05                                                                                     \n",
       "\u001b[2;36m           \u001b[0m           bag_size=1024                                                                                \n",
       "\u001b[2;36m           \u001b[0m           max_val_bag_size=None                                                                        \n",
       "\u001b[2;36m           \u001b[0m           fit_one_cycle=True                                                                           \n",
       "\u001b[2;36m           \u001b[0m           epochs=20                                                                                    \n",
       "\u001b[2;36m           \u001b[0m           batch_size=16                                                                                \n",
       "\u001b[2;36m           \u001b[0m           drop_last=True                                                                               \n",
       "\u001b[2;36m           \u001b[0m           save_monitor='valid_loss'                                                                    \n",
       "\u001b[2;36m           \u001b[0m           weighted_loss=True                                                                           \n",
       "\u001b[2;36m           \u001b[0m           model='attention_mil'                                                                        \n",
       "\u001b[2;36m           \u001b[0m           model_kwargs=None                                                                            \n",
       "\u001b[2;36m           \u001b[0m           loss='cross_entropy'                                                                         \n",
       "\u001b[2;36m           \u001b[0m           use_lens=True                                                                                \n",
       "\u001b[2;36m           \u001b[0m         )                                                                                              \n"
      ]
     },
     "metadata": {},
     "output_type": "display_data"
    },
    {
     "data": {
      "text/html": [
       "<pre style=\"white-space:pre;overflow-x:auto;line-height:normal;font-family:Menlo,'DejaVu Sans Mono',consolas,'Courier New',monospace\"><span style=\"color: #7fbfbf; text-decoration-color: #7fbfbf\">[15:56:40] </span><span style=\"color: #000080; text-decoration-color: #000080\">INFO    </span> Training dataset: 497 merged bags (from 497 possible slides)                                   \n",
       "</pre>\n"
      ],
      "text/plain": [
       "\u001b[2;36m[15:56:40]\u001b[0m\u001b[2;36m \u001b[0m\u001b[34mINFO    \u001b[0m Training dataset: 497 merged bags (from 497 possible slides)                                   \n"
      ]
     },
     "metadata": {},
     "output_type": "display_data"
    },
    {
     "data": {
      "text/html": [
       "<pre style=\"white-space:pre;overflow-x:auto;line-height:normal;font-family:Menlo,'DejaVu Sans Mono',consolas,'Courier New',monospace\"><span style=\"color: #7fbfbf; text-decoration-color: #7fbfbf\">           </span><span style=\"color: #000080; text-decoration-color: #000080\">INFO    </span> Validation dataset: 121 merged bags (from 121 possible slides)                                 \n",
       "</pre>\n"
      ],
      "text/plain": [
       "\u001b[2;36m          \u001b[0m\u001b[2;36m \u001b[0m\u001b[34mINFO    \u001b[0m Validation dataset: 121 merged bags (from 121 possible slides)                                 \n"
      ]
     },
     "metadata": {},
     "output_type": "display_data"
    },
    {
     "data": {
      "text/html": [
       "<pre style=\"white-space:pre;overflow-x:auto;line-height:normal;font-family:Menlo,'DejaVu Sans Mono',consolas,'Courier New',monospace\"><span style=\"color: #7fbfbf; text-decoration-color: #7fbfbf\">[15:56:41] </span><span style=\"color: #000080; text-decoration-color: #000080\">INFO    </span> Building model <span style=\"font-weight: bold\">Attention_MIL</span> (n_in=1024, n_out=2)                                              \n",
       "</pre>\n"
      ],
      "text/plain": [
       "\u001b[2;36m[15:56:41]\u001b[0m\u001b[2;36m \u001b[0m\u001b[34mINFO    \u001b[0m Building model \u001b[1mAttention_MIL\u001b[0m (n_in=1024, n_out=2)                                              \n"
      ]
     },
     "metadata": {},
     "output_type": "display_data"
    },
    {
     "data": {
      "text/html": [
       "\n",
       "<style>\n",
       "    /* Turns off some styling */\n",
       "    progress {\n",
       "        /* gets rid of default border in Firefox and Opera. */\n",
       "        border: none;\n",
       "        /* Needs to be in here for Safari polyfill so background images work as expected. */\n",
       "        background-size: auto;\n",
       "    }\n",
       "    progress:not([value]), progress:not([value])::-webkit-progress-bar {\n",
       "        background: repeating-linear-gradient(45deg, #7e7e7e, #7e7e7e 10px, #5c5c5c 10px, #5c5c5c 20px);\n",
       "    }\n",
       "    .progress-bar-interrupted, .progress-bar-interrupted::-webkit-progress-bar {\n",
       "        background: #F44336;\n",
       "    }\n",
       "</style>\n"
      ],
      "text/plain": [
       "<IPython.core.display.HTML object>"
      ]
     },
     "metadata": {},
     "output_type": "display_data"
    },
    {
     "data": {
      "text/html": [
       "<table border=\"1\" class=\"dataframe\">\n",
       "  <thead>\n",
       "    <tr style=\"text-align: left;\">\n",
       "      <th>epoch</th>\n",
       "      <th>train_loss</th>\n",
       "      <th>valid_loss</th>\n",
       "      <th>roc_auc_score</th>\n",
       "      <th>time</th>\n",
       "    </tr>\n",
       "  </thead>\n",
       "  <tbody>\n",
       "    <tr>\n",
       "      <td>0</td>\n",
       "      <td>0.264345</td>\n",
       "      <td>0.246407</td>\n",
       "      <td>0.498750</td>\n",
       "      <td>00:32</td>\n",
       "    </tr>\n",
       "    <tr>\n",
       "      <td>1</td>\n",
       "      <td>0.263021</td>\n",
       "      <td>0.246808</td>\n",
       "      <td>0.569167</td>\n",
       "      <td>00:34</td>\n",
       "    </tr>\n",
       "    <tr>\n",
       "      <td>2</td>\n",
       "      <td>0.242991</td>\n",
       "      <td>0.225454</td>\n",
       "      <td>0.683750</td>\n",
       "      <td>00:45</td>\n",
       "    </tr>\n",
       "    <tr>\n",
       "      <td>3</td>\n",
       "      <td>0.223028</td>\n",
       "      <td>0.190165</td>\n",
       "      <td>0.797083</td>\n",
       "      <td>00:49</td>\n",
       "    </tr>\n",
       "    <tr>\n",
       "      <td>4</td>\n",
       "      <td>0.192258</td>\n",
       "      <td>0.165703</td>\n",
       "      <td>0.854583</td>\n",
       "      <td>00:46</td>\n",
       "    </tr>\n",
       "    <tr>\n",
       "      <td>5</td>\n",
       "      <td>0.172862</td>\n",
       "      <td>0.152149</td>\n",
       "      <td>0.887500</td>\n",
       "      <td>00:48</td>\n",
       "    </tr>\n",
       "    <tr>\n",
       "      <td>6</td>\n",
       "      <td>0.154501</td>\n",
       "      <td>0.136844</td>\n",
       "      <td>0.908750</td>\n",
       "      <td>00:46</td>\n",
       "    </tr>\n",
       "    <tr>\n",
       "      <td>7</td>\n",
       "      <td>0.136065</td>\n",
       "      <td>0.139353</td>\n",
       "      <td>0.931667</td>\n",
       "      <td>00:49</td>\n",
       "    </tr>\n",
       "    <tr>\n",
       "      <td>8</td>\n",
       "      <td>0.127425</td>\n",
       "      <td>0.131269</td>\n",
       "      <td>0.926667</td>\n",
       "      <td>00:41</td>\n",
       "    </tr>\n",
       "    <tr>\n",
       "      <td>9</td>\n",
       "      <td>0.115218</td>\n",
       "      <td>0.115136</td>\n",
       "      <td>0.942500</td>\n",
       "      <td>00:43</td>\n",
       "    </tr>\n",
       "    <tr>\n",
       "      <td>10</td>\n",
       "      <td>0.105470</td>\n",
       "      <td>0.120222</td>\n",
       "      <td>0.940833</td>\n",
       "      <td>00:46</td>\n",
       "    </tr>\n",
       "    <tr>\n",
       "      <td>11</td>\n",
       "      <td>0.093588</td>\n",
       "      <td>0.110743</td>\n",
       "      <td>0.946250</td>\n",
       "      <td>00:41</td>\n",
       "    </tr>\n",
       "    <tr>\n",
       "      <td>12</td>\n",
       "      <td>0.089112</td>\n",
       "      <td>0.105111</td>\n",
       "      <td>0.947083</td>\n",
       "      <td>00:37</td>\n",
       "    </tr>\n",
       "    <tr>\n",
       "      <td>13</td>\n",
       "      <td>0.083183</td>\n",
       "      <td>0.107766</td>\n",
       "      <td>0.945000</td>\n",
       "      <td>00:35</td>\n",
       "    </tr>\n",
       "    <tr>\n",
       "      <td>14</td>\n",
       "      <td>0.080204</td>\n",
       "      <td>0.110712</td>\n",
       "      <td>0.948333</td>\n",
       "      <td>00:34</td>\n",
       "    </tr>\n",
       "    <tr>\n",
       "      <td>15</td>\n",
       "      <td>0.077636</td>\n",
       "      <td>0.107429</td>\n",
       "      <td>0.947917</td>\n",
       "      <td>00:35</td>\n",
       "    </tr>\n",
       "    <tr>\n",
       "      <td>16</td>\n",
       "      <td>0.075184</td>\n",
       "      <td>0.102328</td>\n",
       "      <td>0.948333</td>\n",
       "      <td>00:38</td>\n",
       "    </tr>\n",
       "    <tr>\n",
       "      <td>17</td>\n",
       "      <td>0.071887</td>\n",
       "      <td>0.101530</td>\n",
       "      <td>0.950417</td>\n",
       "      <td>00:35</td>\n",
       "    </tr>\n",
       "    <tr>\n",
       "      <td>18</td>\n",
       "      <td>0.067259</td>\n",
       "      <td>0.111224</td>\n",
       "      <td>0.949583</td>\n",
       "      <td>00:34</td>\n",
       "    </tr>\n",
       "    <tr>\n",
       "      <td>19</td>\n",
       "      <td>0.068956</td>\n",
       "      <td>0.105716</td>\n",
       "      <td>0.949583</td>\n",
       "      <td>00:34</td>\n",
       "    </tr>\n",
       "  </tbody>\n",
       "</table>"
      ],
      "text/plain": [
       "<IPython.core.display.HTML object>"
      ]
     },
     "metadata": {},
     "output_type": "display_data"
    },
    {
     "name": "stdout",
     "output_type": "stream",
     "text": [
      "Better model found at epoch 0 with valid_loss value: 0.24640734493732452.\n",
      "Better model found at epoch 2 with valid_loss value: 0.22545385360717773.\n",
      "Better model found at epoch 3 with valid_loss value: 0.19016459584236145.\n",
      "Better model found at epoch 4 with valid_loss value: 0.16570298373699188.\n",
      "Better model found at epoch 5 with valid_loss value: 0.15214881300926208.\n",
      "Better model found at epoch 6 with valid_loss value: 0.13684412837028503.\n",
      "Better model found at epoch 8 with valid_loss value: 0.13126912713050842.\n",
      "Better model found at epoch 9 with valid_loss value: 0.11513642966747284.\n",
      "Better model found at epoch 11 with valid_loss value: 0.11074340343475342.\n",
      "Better model found at epoch 12 with valid_loss value: 0.10511109232902527.\n",
      "Better model found at epoch 16 with valid_loss value: 0.10232824087142944.\n",
      "Better model found at epoch 17 with valid_loss value: 0.10153039544820786.\n"
     ]
    },
    {
     "data": {
      "text/html": [
       "<pre style=\"white-space:pre;overflow-x:auto;line-height:normal;font-family:Menlo,'DejaVu Sans Mono',consolas,'Courier New',monospace\"><span style=\"color: #7fbfbf; text-decoration-color: #7fbfbf\">[16:10:20] </span><span style=\"color: #000080; text-decoration-color: #000080\">INFO    </span> Predictions saved to                                                                           \n",
       "<span style=\"color: #7fbfbf; text-decoration-color: #7fbfbf\">           </span>         <span style=\"color: #008000; text-decoration-color: #008000\">/mnt/d/Declich/GitHub/UMD/projects/trained_models/ABMIL-I3LUNG-AD-noqc-nostainnorm/00000-uni/pr</span>\n",
       "<span style=\"color: #7fbfbf; text-decoration-color: #7fbfbf\">           </span>         <span style=\"color: #008000; text-decoration-color: #008000\">edictions.parquet</span>                                                                              \n",
       "</pre>\n"
      ],
      "text/plain": [
       "\u001b[2;36m[16:10:20]\u001b[0m\u001b[2;36m \u001b[0m\u001b[34mINFO    \u001b[0m Predictions saved to                                                                           \n",
       "\u001b[2;36m           \u001b[0m         \u001b[32m/mnt/d/Declich/GitHub/UMD/projects/trained_models/ABMIL-I3LUNG-AD-noqc-nostainnorm/00000-uni/pr\u001b[0m\n",
       "\u001b[2;36m           \u001b[0m         \u001b[32medictions.parquet\u001b[0m                                                                              \n"
      ]
     },
     "metadata": {},
     "output_type": "display_data"
    },
    {
     "data": {
      "text/html": [
       "<pre style=\"white-space:pre;overflow-x:auto;line-height:normal;font-family:Menlo,'DejaVu Sans Mono',consolas,'Courier New',monospace\"><span style=\"color: #7fbfbf; text-decoration-color: #7fbfbf\">           </span><span style=\"color: #000080; text-decoration-color: #000080\">INFO    </span> Validation metrics for outcome <span style=\"color: #008000; text-decoration-color: #008000\">HISTOLOGY</span>:                                                      \n",
       "</pre>\n"
      ],
      "text/plain": [
       "\u001b[2;36m          \u001b[0m\u001b[2;36m \u001b[0m\u001b[34mINFO    \u001b[0m Validation metrics for outcome \u001b[32mHISTOLOGY\u001b[0m:                                                      \n"
      ]
     },
     "metadata": {},
     "output_type": "display_data"
    },
    {
     "data": {
      "text/html": [
       "<pre style=\"white-space:pre;overflow-x:auto;line-height:normal;font-family:Menlo,'DejaVu Sans Mono',consolas,'Courier New',monospace\"><span style=\"color: #7fbfbf; text-decoration-color: #7fbfbf\">[16:10:21] </span><span style=\"color: #000080; text-decoration-color: #000080\">INFO    </span> slide-level AUC (cat # 0): 0.950 AP: 0.987 (opt. threshold: 0.429)                             \n",
       "</pre>\n"
      ],
      "text/plain": [
       "\u001b[2;36m[16:10:21]\u001b[0m\u001b[2;36m \u001b[0m\u001b[34mINFO    \u001b[0m slide-level AUC (cat # 0): 0.950 AP: 0.987 (opt. threshold: 0.429)                             \n"
      ]
     },
     "metadata": {},
     "output_type": "display_data"
    },
    {
     "data": {
      "text/html": [
       "<pre style=\"white-space:pre;overflow-x:auto;line-height:normal;font-family:Menlo,'DejaVu Sans Mono',consolas,'Courier New',monospace\"><span style=\"color: #7fbfbf; text-decoration-color: #7fbfbf\">           </span><span style=\"color: #000080; text-decoration-color: #000080\">INFO    </span> slide-level AUC (cat # 1): 0.950 AP: 0.845 (opt. threshold: 0.634)                             \n",
       "</pre>\n"
      ],
      "text/plain": [
       "\u001b[2;36m          \u001b[0m\u001b[2;36m \u001b[0m\u001b[34mINFO    \u001b[0m slide-level AUC (cat # 1): 0.950 AP: 0.845 (opt. threshold: 0.634)                             \n"
      ]
     },
     "metadata": {},
     "output_type": "display_data"
    },
    {
     "data": {
      "text/html": [
       "<pre style=\"white-space:pre;overflow-x:auto;line-height:normal;font-family:Menlo,'DejaVu Sans Mono',consolas,'Courier New',monospace\"><span style=\"color: #7fbfbf; text-decoration-color: #7fbfbf\">           </span><span style=\"color: #000080; text-decoration-color: #000080\">INFO    </span> Category 0 acc: 90.6% (87/96)                                                                  \n",
       "</pre>\n"
      ],
      "text/plain": [
       "\u001b[2;36m          \u001b[0m\u001b[2;36m \u001b[0m\u001b[34mINFO    \u001b[0m Category 0 acc: 90.6% (87/96)                                                                  \n"
      ]
     },
     "metadata": {},
     "output_type": "display_data"
    },
    {
     "data": {
      "text/html": [
       "<pre style=\"white-space:pre;overflow-x:auto;line-height:normal;font-family:Menlo,'DejaVu Sans Mono',consolas,'Courier New',monospace\"><span style=\"color: #7fbfbf; text-decoration-color: #7fbfbf\">           </span><span style=\"color: #000080; text-decoration-color: #000080\">INFO    </span> Category 1 acc: 88.0% (22/25)                                                                  \n",
       "</pre>\n"
      ],
      "text/plain": [
       "\u001b[2;36m          \u001b[0m\u001b[2;36m \u001b[0m\u001b[34mINFO    \u001b[0m Category 1 acc: 88.0% (22/25)                                                                  \n"
      ]
     },
     "metadata": {},
     "output_type": "display_data"
    },
    {
     "data": {
      "text/html": [
       "<pre style=\"white-space:pre;overflow-x:auto;line-height:normal;font-family:Menlo,'DejaVu Sans Mono',consolas,'Courier New',monospace\"><span style=\"color: #7fbfbf; text-decoration-color: #7fbfbf\">[16:10:22] </span><span style=\"color: #000080; text-decoration-color: #000080\">INFO    </span> Attention scores exported to                                                                   \n",
       "<span style=\"color: #7fbfbf; text-decoration-color: #7fbfbf\">           </span>         <span style=\"color: #008000; text-decoration-color: #008000\">/mnt/d/Declich/GitHub/UMD/projects/trained_models/ABMIL-I3LUNG-AD-noqc-nostainnorm/00000-uni/at</span>\n",
       "<span style=\"color: #7fbfbf; text-decoration-color: #7fbfbf\">           </span>         <span style=\"color: #008000; text-decoration-color: #008000\">tention/DIG_PAT_1725901955_att.npz</span>                                                             \n",
       "</pre>\n"
      ],
      "text/plain": [
       "\u001b[2;36m[16:10:22]\u001b[0m\u001b[2;36m \u001b[0m\u001b[34mINFO    \u001b[0m Attention scores exported to                                                                   \n",
       "\u001b[2;36m           \u001b[0m         \u001b[32m/mnt/d/Declich/GitHub/UMD/projects/trained_models/ABMIL-I3LUNG-AD-noqc-nostainnorm/00000-uni/at\u001b[0m\n",
       "\u001b[2;36m           \u001b[0m         \u001b[32mtention/DIG_PAT_1725901955_att.npz\u001b[0m                                                             \n"
      ]
     },
     "metadata": {},
     "output_type": "display_data"
    },
    {
     "name": "stdout",
     "output_type": "stream",
     "text": [
      "Random seed set to: 26603811\n"
     ]
    },
    {
     "data": {
      "text/html": [
       "<pre style=\"white-space:pre;overflow-x:auto;line-height:normal;font-family:Menlo,'DejaVu Sans Mono',consolas,'Courier New',monospace\"><span style=\"color: #7fbfbf; text-decoration-color: #7fbfbf\">           </span><span style=\"color: #808000; text-decoration-color: #808000\">WARNING </span> <span style=\"color: #808000; text-decoration-color: #808000\">297 slides missing tfrecords, skipping</span>                                                         \n",
       "</pre>\n"
      ],
      "text/plain": [
       "\u001b[2;36m          \u001b[0m\u001b[2;36m \u001b[0m\u001b[33mWARNING \u001b[0m \u001b[33m297 slides missing tfrecords, skipping\u001b[0m                                                         \n"
      ]
     },
     "metadata": {},
     "output_type": "display_data"
    },
    {
     "data": {
      "text/html": [
       "<pre style=\"white-space:pre;overflow-x:auto;line-height:normal;font-family:Menlo,'DejaVu Sans Mono',consolas,'Courier New',monospace\"><span style=\"color: #7fbfbf; text-decoration-color: #7fbfbf\">           </span><span style=\"color: #000080; text-decoration-color: #000080\">INFO    </span> No training/validation splits file provided.                                                   \n",
       "</pre>\n"
      ],
      "text/plain": [
       "\u001b[2;36m          \u001b[0m\u001b[2;36m \u001b[0m\u001b[34mINFO    \u001b[0m No training/validation splits file provided.                                                   \n"
      ]
     },
     "metadata": {},
     "output_type": "display_data"
    },
    {
     "data": {
      "text/html": [
       "<pre style=\"white-space:pre;overflow-x:auto;line-height:normal;font-family:Menlo,'DejaVu Sans Mono',consolas,'Courier New',monospace\"><span style=\"color: #7fbfbf; text-decoration-color: #7fbfbf\">           </span><span style=\"color: #000080; text-decoration-color: #000080\">INFO    </span> Unable to save or load validation splits.                                                      \n",
       "</pre>\n"
      ],
      "text/plain": [
       "\u001b[2;36m          \u001b[0m\u001b[2;36m \u001b[0m\u001b[34mINFO    \u001b[0m Unable to save or load validation splits.                                                      \n"
      ]
     },
     "metadata": {},
     "output_type": "display_data"
    },
    {
     "data": {
      "text/html": [
       "<pre style=\"white-space:pre;overflow-x:auto;line-height:normal;font-family:Menlo,'DejaVu Sans Mono',consolas,'Courier New',monospace\"><span style=\"color: #7fbfbf; text-decoration-color: #7fbfbf\">           </span><span style=\"color: #000080; text-decoration-color: #000080\">INFO    </span> Training FastAI MIL model with config:                                                         \n",
       "</pre>\n"
      ],
      "text/plain": [
       "\u001b[2;36m          \u001b[0m\u001b[2;36m \u001b[0m\u001b[34mINFO    \u001b[0m Training FastAI MIL model with config:                                                         \n"
      ]
     },
     "metadata": {},
     "output_type": "display_data"
    },
    {
     "data": {
      "text/html": [
       "<pre style=\"white-space:pre;overflow-x:auto;line-height:normal;font-family:Menlo,'DejaVu Sans Mono',consolas,'Courier New',monospace\"><span style=\"color: #7fbfbf; text-decoration-color: #7fbfbf\">           </span><span style=\"color: #000080; text-decoration-color: #000080\">INFO    </span> TrainerConfig(                                                                                 \n",
       "<span style=\"color: #7fbfbf; text-decoration-color: #7fbfbf\">           </span>           lr=0.0001                                                                                    \n",
       "<span style=\"color: #7fbfbf; text-decoration-color: #7fbfbf\">           </span>           wd=1e-05                                                                                     \n",
       "<span style=\"color: #7fbfbf; text-decoration-color: #7fbfbf\">           </span>           bag_size=1024                                                                                \n",
       "<span style=\"color: #7fbfbf; text-decoration-color: #7fbfbf\">           </span>           max_val_bag_size=None                                                                        \n",
       "<span style=\"color: #7fbfbf; text-decoration-color: #7fbfbf\">           </span>           fit_one_cycle=True                                                                           \n",
       "<span style=\"color: #7fbfbf; text-decoration-color: #7fbfbf\">           </span>           epochs=20                                                                                    \n",
       "<span style=\"color: #7fbfbf; text-decoration-color: #7fbfbf\">           </span>           batch_size=16                                                                                \n",
       "<span style=\"color: #7fbfbf; text-decoration-color: #7fbfbf\">           </span>           drop_last=True                                                                               \n",
       "<span style=\"color: #7fbfbf; text-decoration-color: #7fbfbf\">           </span>           save_monitor='valid_loss'                                                                    \n",
       "<span style=\"color: #7fbfbf; text-decoration-color: #7fbfbf\">           </span>           weighted_loss=True                                                                           \n",
       "<span style=\"color: #7fbfbf; text-decoration-color: #7fbfbf\">           </span>           model='attention_mil'                                                                        \n",
       "<span style=\"color: #7fbfbf; text-decoration-color: #7fbfbf\">           </span>           model_kwargs=None                                                                            \n",
       "<span style=\"color: #7fbfbf; text-decoration-color: #7fbfbf\">           </span>           loss='cross_entropy'                                                                         \n",
       "<span style=\"color: #7fbfbf; text-decoration-color: #7fbfbf\">           </span>           use_lens=True                                                                                \n",
       "<span style=\"color: #7fbfbf; text-decoration-color: #7fbfbf\">           </span>         )                                                                                              \n",
       "</pre>\n"
      ],
      "text/plain": [
       "\u001b[2;36m          \u001b[0m\u001b[2;36m \u001b[0m\u001b[34mINFO    \u001b[0m TrainerConfig(                                                                                 \n",
       "\u001b[2;36m           \u001b[0m           lr=0.0001                                                                                    \n",
       "\u001b[2;36m           \u001b[0m           wd=1e-05                                                                                     \n",
       "\u001b[2;36m           \u001b[0m           bag_size=1024                                                                                \n",
       "\u001b[2;36m           \u001b[0m           max_val_bag_size=None                                                                        \n",
       "\u001b[2;36m           \u001b[0m           fit_one_cycle=True                                                                           \n",
       "\u001b[2;36m           \u001b[0m           epochs=20                                                                                    \n",
       "\u001b[2;36m           \u001b[0m           batch_size=16                                                                                \n",
       "\u001b[2;36m           \u001b[0m           drop_last=True                                                                               \n",
       "\u001b[2;36m           \u001b[0m           save_monitor='valid_loss'                                                                    \n",
       "\u001b[2;36m           \u001b[0m           weighted_loss=True                                                                           \n",
       "\u001b[2;36m           \u001b[0m           model='attention_mil'                                                                        \n",
       "\u001b[2;36m           \u001b[0m           model_kwargs=None                                                                            \n",
       "\u001b[2;36m           \u001b[0m           loss='cross_entropy'                                                                         \n",
       "\u001b[2;36m           \u001b[0m           use_lens=True                                                                                \n",
       "\u001b[2;36m           \u001b[0m         )                                                                                              \n"
      ]
     },
     "metadata": {},
     "output_type": "display_data"
    },
    {
     "data": {
      "text/html": [
       "<pre style=\"white-space:pre;overflow-x:auto;line-height:normal;font-family:Menlo,'DejaVu Sans Mono',consolas,'Courier New',monospace\"><span style=\"color: #7fbfbf; text-decoration-color: #7fbfbf\">           </span><span style=\"color: #000080; text-decoration-color: #000080\">INFO    </span> Training dataset: 494 merged bags (from 494 possible slides)                                   \n",
       "</pre>\n"
      ],
      "text/plain": [
       "\u001b[2;36m          \u001b[0m\u001b[2;36m \u001b[0m\u001b[34mINFO    \u001b[0m Training dataset: 494 merged bags (from 494 possible slides)                                   \n"
      ]
     },
     "metadata": {},
     "output_type": "display_data"
    },
    {
     "data": {
      "text/html": [
       "<pre style=\"white-space:pre;overflow-x:auto;line-height:normal;font-family:Menlo,'DejaVu Sans Mono',consolas,'Courier New',monospace\"><span style=\"color: #7fbfbf; text-decoration-color: #7fbfbf\">           </span><span style=\"color: #000080; text-decoration-color: #000080\">INFO    </span> Validation dataset: 124 merged bags (from 124 possible slides)                                 \n",
       "</pre>\n"
      ],
      "text/plain": [
       "\u001b[2;36m          \u001b[0m\u001b[2;36m \u001b[0m\u001b[34mINFO    \u001b[0m Validation dataset: 124 merged bags (from 124 possible slides)                                 \n"
      ]
     },
     "metadata": {},
     "output_type": "display_data"
    },
    {
     "data": {
      "text/html": [
       "<pre style=\"white-space:pre;overflow-x:auto;line-height:normal;font-family:Menlo,'DejaVu Sans Mono',consolas,'Courier New',monospace\"><span style=\"color: #7fbfbf; text-decoration-color: #7fbfbf\">[16:10:23] </span><span style=\"color: #000080; text-decoration-color: #000080\">INFO    </span> Building model <span style=\"font-weight: bold\">Attention_MIL</span> (n_in=1024, n_out=2)                                              \n",
       "</pre>\n"
      ],
      "text/plain": [
       "\u001b[2;36m[16:10:23]\u001b[0m\u001b[2;36m \u001b[0m\u001b[34mINFO    \u001b[0m Building model \u001b[1mAttention_MIL\u001b[0m (n_in=1024, n_out=2)                                              \n"
      ]
     },
     "metadata": {},
     "output_type": "display_data"
    },
    {
     "data": {
      "text/html": [
       "\n",
       "<style>\n",
       "    /* Turns off some styling */\n",
       "    progress {\n",
       "        /* gets rid of default border in Firefox and Opera. */\n",
       "        border: none;\n",
       "        /* Needs to be in here for Safari polyfill so background images work as expected. */\n",
       "        background-size: auto;\n",
       "    }\n",
       "    progress:not([value]), progress:not([value])::-webkit-progress-bar {\n",
       "        background: repeating-linear-gradient(45deg, #7e7e7e, #7e7e7e 10px, #5c5c5c 10px, #5c5c5c 20px);\n",
       "    }\n",
       "    .progress-bar-interrupted, .progress-bar-interrupted::-webkit-progress-bar {\n",
       "        background: #F44336;\n",
       "    }\n",
       "</style>\n"
      ],
      "text/plain": [
       "<IPython.core.display.HTML object>"
      ]
     },
     "metadata": {},
     "output_type": "display_data"
    },
    {
     "data": {
      "text/html": [
       "<table border=\"1\" class=\"dataframe\">\n",
       "  <thead>\n",
       "    <tr style=\"text-align: left;\">\n",
       "      <th>epoch</th>\n",
       "      <th>train_loss</th>\n",
       "      <th>valid_loss</th>\n",
       "      <th>roc_auc_score</th>\n",
       "      <th>time</th>\n",
       "    </tr>\n",
       "  </thead>\n",
       "  <tbody>\n",
       "    <tr>\n",
       "      <td>0</td>\n",
       "      <td>0.251843</td>\n",
       "      <td>0.258335</td>\n",
       "      <td>0.493930</td>\n",
       "      <td>00:35</td>\n",
       "    </tr>\n",
       "    <tr>\n",
       "      <td>1</td>\n",
       "      <td>0.242327</td>\n",
       "      <td>0.243711</td>\n",
       "      <td>0.579258</td>\n",
       "      <td>00:32</td>\n",
       "    </tr>\n",
       "    <tr>\n",
       "      <td>2</td>\n",
       "      <td>0.228656</td>\n",
       "      <td>0.199920</td>\n",
       "      <td>0.798127</td>\n",
       "      <td>00:32</td>\n",
       "    </tr>\n",
       "    <tr>\n",
       "      <td>3</td>\n",
       "      <td>0.205323</td>\n",
       "      <td>0.177206</td>\n",
       "      <td>0.880333</td>\n",
       "      <td>00:34</td>\n",
       "    </tr>\n",
       "    <tr>\n",
       "      <td>4</td>\n",
       "      <td>0.179460</td>\n",
       "      <td>0.157999</td>\n",
       "      <td>0.910857</td>\n",
       "      <td>00:36</td>\n",
       "    </tr>\n",
       "    <tr>\n",
       "      <td>5</td>\n",
       "      <td>0.165982</td>\n",
       "      <td>0.135205</td>\n",
       "      <td>0.936524</td>\n",
       "      <td>00:35</td>\n",
       "    </tr>\n",
       "    <tr>\n",
       "      <td>6</td>\n",
       "      <td>0.147151</td>\n",
       "      <td>0.135050</td>\n",
       "      <td>0.925772</td>\n",
       "      <td>00:35</td>\n",
       "    </tr>\n",
       "    <tr>\n",
       "      <td>7</td>\n",
       "      <td>0.129474</td>\n",
       "      <td>0.127090</td>\n",
       "      <td>0.935484</td>\n",
       "      <td>00:34</td>\n",
       "    </tr>\n",
       "    <tr>\n",
       "      <td>8</td>\n",
       "      <td>0.122001</td>\n",
       "      <td>0.121510</td>\n",
       "      <td>0.941381</td>\n",
       "      <td>00:35</td>\n",
       "    </tr>\n",
       "    <tr>\n",
       "      <td>9</td>\n",
       "      <td>0.111831</td>\n",
       "      <td>0.119541</td>\n",
       "      <td>0.940340</td>\n",
       "      <td>00:38</td>\n",
       "    </tr>\n",
       "    <tr>\n",
       "      <td>10</td>\n",
       "      <td>0.104574</td>\n",
       "      <td>0.116435</td>\n",
       "      <td>0.943115</td>\n",
       "      <td>00:36</td>\n",
       "    </tr>\n",
       "    <tr>\n",
       "      <td>11</td>\n",
       "      <td>0.095854</td>\n",
       "      <td>0.108430</td>\n",
       "      <td>0.946930</td>\n",
       "      <td>00:35</td>\n",
       "    </tr>\n",
       "    <tr>\n",
       "      <td>12</td>\n",
       "      <td>0.089603</td>\n",
       "      <td>0.106602</td>\n",
       "      <td>0.953174</td>\n",
       "      <td>00:35</td>\n",
       "    </tr>\n",
       "    <tr>\n",
       "      <td>13</td>\n",
       "      <td>0.088045</td>\n",
       "      <td>0.107992</td>\n",
       "      <td>0.950052</td>\n",
       "      <td>00:35</td>\n",
       "    </tr>\n",
       "    <tr>\n",
       "      <td>14</td>\n",
       "      <td>0.084223</td>\n",
       "      <td>0.104509</td>\n",
       "      <td>0.951439</td>\n",
       "      <td>00:37</td>\n",
       "    </tr>\n",
       "    <tr>\n",
       "      <td>15</td>\n",
       "      <td>0.078354</td>\n",
       "      <td>0.106683</td>\n",
       "      <td>0.949705</td>\n",
       "      <td>00:34</td>\n",
       "    </tr>\n",
       "    <tr>\n",
       "      <td>16</td>\n",
       "      <td>0.076582</td>\n",
       "      <td>0.110802</td>\n",
       "      <td>0.948665</td>\n",
       "      <td>00:33</td>\n",
       "    </tr>\n",
       "    <tr>\n",
       "      <td>17</td>\n",
       "      <td>0.076810</td>\n",
       "      <td>0.106932</td>\n",
       "      <td>0.947277</td>\n",
       "      <td>00:38</td>\n",
       "    </tr>\n",
       "    <tr>\n",
       "      <td>18</td>\n",
       "      <td>0.077051</td>\n",
       "      <td>0.104401</td>\n",
       "      <td>0.948318</td>\n",
       "      <td>00:35</td>\n",
       "    </tr>\n",
       "    <tr>\n",
       "      <td>19</td>\n",
       "      <td>0.072988</td>\n",
       "      <td>0.103203</td>\n",
       "      <td>0.951093</td>\n",
       "      <td>00:38</td>\n",
       "    </tr>\n",
       "  </tbody>\n",
       "</table>"
      ],
      "text/plain": [
       "<IPython.core.display.HTML object>"
      ]
     },
     "metadata": {},
     "output_type": "display_data"
    },
    {
     "name": "stdout",
     "output_type": "stream",
     "text": [
      "Better model found at epoch 0 with valid_loss value: 0.25833454728126526.\n",
      "Better model found at epoch 1 with valid_loss value: 0.243711456656456.\n",
      "Better model found at epoch 2 with valid_loss value: 0.1999201625585556.\n",
      "Better model found at epoch 3 with valid_loss value: 0.1772058755159378.\n",
      "Better model found at epoch 4 with valid_loss value: 0.15799903869628906.\n",
      "Better model found at epoch 5 with valid_loss value: 0.1352049857378006.\n",
      "Better model found at epoch 6 with valid_loss value: 0.13505016267299652.\n",
      "Better model found at epoch 7 with valid_loss value: 0.1270904839038849.\n",
      "Better model found at epoch 8 with valid_loss value: 0.12150957435369492.\n",
      "Better model found at epoch 9 with valid_loss value: 0.11954080313444138.\n",
      "Better model found at epoch 10 with valid_loss value: 0.11643540114164352.\n",
      "Better model found at epoch 11 with valid_loss value: 0.10843002051115036.\n",
      "Better model found at epoch 12 with valid_loss value: 0.10660172253847122.\n",
      "Better model found at epoch 14 with valid_loss value: 0.10450887680053711.\n",
      "Better model found at epoch 18 with valid_loss value: 0.10440117865800858.\n",
      "Better model found at epoch 19 with valid_loss value: 0.10320264846086502.\n"
     ]
    },
    {
     "data": {
      "text/html": [
       "<pre style=\"white-space:pre;overflow-x:auto;line-height:normal;font-family:Menlo,'DejaVu Sans Mono',consolas,'Courier New',monospace\"><span style=\"color: #7fbfbf; text-decoration-color: #7fbfbf\">[16:22:24] </span><span style=\"color: #000080; text-decoration-color: #000080\">INFO    </span> Predictions saved to                                                                           \n",
       "<span style=\"color: #7fbfbf; text-decoration-color: #7fbfbf\">           </span>         <span style=\"color: #008000; text-decoration-color: #008000\">/mnt/d/Declich/GitHub/UMD/projects/trained_models/ABMIL-I3LUNG-AD-noqc-nostainnorm/00001-uni/pr</span>\n",
       "<span style=\"color: #7fbfbf; text-decoration-color: #7fbfbf\">           </span>         <span style=\"color: #008000; text-decoration-color: #008000\">edictions.parquet</span>                                                                              \n",
       "</pre>\n"
      ],
      "text/plain": [
       "\u001b[2;36m[16:22:24]\u001b[0m\u001b[2;36m \u001b[0m\u001b[34mINFO    \u001b[0m Predictions saved to                                                                           \n",
       "\u001b[2;36m           \u001b[0m         \u001b[32m/mnt/d/Declich/GitHub/UMD/projects/trained_models/ABMIL-I3LUNG-AD-noqc-nostainnorm/00001-uni/pr\u001b[0m\n",
       "\u001b[2;36m           \u001b[0m         \u001b[32medictions.parquet\u001b[0m                                                                              \n"
      ]
     },
     "metadata": {},
     "output_type": "display_data"
    },
    {
     "data": {
      "text/html": [
       "<pre style=\"white-space:pre;overflow-x:auto;line-height:normal;font-family:Menlo,'DejaVu Sans Mono',consolas,'Courier New',monospace\"><span style=\"color: #7fbfbf; text-decoration-color: #7fbfbf\">           </span><span style=\"color: #000080; text-decoration-color: #000080\">INFO    </span> Validation metrics for outcome <span style=\"color: #008000; text-decoration-color: #008000\">HISTOLOGY</span>:                                                      \n",
       "</pre>\n"
      ],
      "text/plain": [
       "\u001b[2;36m          \u001b[0m\u001b[2;36m \u001b[0m\u001b[34mINFO    \u001b[0m Validation metrics for outcome \u001b[32mHISTOLOGY\u001b[0m:                                                      \n"
      ]
     },
     "metadata": {},
     "output_type": "display_data"
    },
    {
     "data": {
      "text/html": [
       "<pre style=\"white-space:pre;overflow-x:auto;line-height:normal;font-family:Menlo,'DejaVu Sans Mono',consolas,'Courier New',monospace\"><span style=\"color: #7fbfbf; text-decoration-color: #7fbfbf\">           </span><span style=\"color: #000080; text-decoration-color: #000080\">INFO    </span> slide-level AUC (cat # 0): 0.951 AP: 0.976 (opt. threshold: 0.282)                             \n",
       "</pre>\n"
      ],
      "text/plain": [
       "\u001b[2;36m          \u001b[0m\u001b[2;36m \u001b[0m\u001b[34mINFO    \u001b[0m slide-level AUC (cat # 0): 0.951 AP: 0.976 (opt. threshold: 0.282)                             \n"
      ]
     },
     "metadata": {},
     "output_type": "display_data"
    },
    {
     "data": {
      "text/html": [
       "<pre style=\"white-space:pre;overflow-x:auto;line-height:normal;font-family:Menlo,'DejaVu Sans Mono',consolas,'Courier New',monospace\"><span style=\"color: #7fbfbf; text-decoration-color: #7fbfbf\">[16:22:25] </span><span style=\"color: #000080; text-decoration-color: #000080\">INFO    </span> slide-level AUC (cat # 1): 0.951 AP: 0.933 (opt. threshold: 0.727)                             \n",
       "</pre>\n"
      ],
      "text/plain": [
       "\u001b[2;36m[16:22:25]\u001b[0m\u001b[2;36m \u001b[0m\u001b[34mINFO    \u001b[0m slide-level AUC (cat # 1): 0.951 AP: 0.933 (opt. threshold: 0.727)                             \n"
      ]
     },
     "metadata": {},
     "output_type": "display_data"
    },
    {
     "data": {
      "text/html": [
       "<pre style=\"white-space:pre;overflow-x:auto;line-height:normal;font-family:Menlo,'DejaVu Sans Mono',consolas,'Courier New',monospace\"><span style=\"color: #7fbfbf; text-decoration-color: #7fbfbf\">           </span><span style=\"color: #000080; text-decoration-color: #000080\">INFO    </span> Category 0 acc: 84.9% (79/93)                                                                  \n",
       "</pre>\n"
      ],
      "text/plain": [
       "\u001b[2;36m          \u001b[0m\u001b[2;36m \u001b[0m\u001b[34mINFO    \u001b[0m Category 0 acc: 84.9% (79/93)                                                                  \n"
      ]
     },
     "metadata": {},
     "output_type": "display_data"
    },
    {
     "data": {
      "text/html": [
       "<pre style=\"white-space:pre;overflow-x:auto;line-height:normal;font-family:Menlo,'DejaVu Sans Mono',consolas,'Courier New',monospace\"><span style=\"color: #7fbfbf; text-decoration-color: #7fbfbf\">           </span><span style=\"color: #000080; text-decoration-color: #000080\">INFO    </span> Category 1 acc: 93.5% (29/31)                                                                  \n",
       "</pre>\n"
      ],
      "text/plain": [
       "\u001b[2;36m          \u001b[0m\u001b[2;36m \u001b[0m\u001b[34mINFO    \u001b[0m Category 1 acc: 93.5% (29/31)                                                                  \n"
      ]
     },
     "metadata": {},
     "output_type": "display_data"
    },
    {
     "data": {
      "text/html": [
       "<pre style=\"white-space:pre;overflow-x:auto;line-height:normal;font-family:Menlo,'DejaVu Sans Mono',consolas,'Courier New',monospace\"><span style=\"color: #7fbfbf; text-decoration-color: #7fbfbf\">[16:22:26] </span><span style=\"color: #000080; text-decoration-color: #000080\">INFO    </span> Attention scores exported to                                                                   \n",
       "<span style=\"color: #7fbfbf; text-decoration-color: #7fbfbf\">           </span>         <span style=\"color: #008000; text-decoration-color: #008000\">/mnt/d/Declich/GitHub/UMD/projects/trained_models/ABMIL-I3LUNG-AD-noqc-nostainnorm/00001-uni/at</span>\n",
       "<span style=\"color: #7fbfbf; text-decoration-color: #7fbfbf\">           </span>         <span style=\"color: #008000; text-decoration-color: #008000\">tention/DIG_PAT_1725902696_att.npz</span>                                                             \n",
       "</pre>\n"
      ],
      "text/plain": [
       "\u001b[2;36m[16:22:26]\u001b[0m\u001b[2;36m \u001b[0m\u001b[34mINFO    \u001b[0m Attention scores exported to                                                                   \n",
       "\u001b[2;36m           \u001b[0m         \u001b[32m/mnt/d/Declich/GitHub/UMD/projects/trained_models/ABMIL-I3LUNG-AD-noqc-nostainnorm/00001-uni/at\u001b[0m\n",
       "\u001b[2;36m           \u001b[0m         \u001b[32mtention/DIG_PAT_1725902696_att.npz\u001b[0m                                                             \n"
      ]
     },
     "metadata": {},
     "output_type": "display_data"
    },
    {
     "name": "stdout",
     "output_type": "stream",
     "text": [
      "Random seed set to: 38155807\n"
     ]
    },
    {
     "data": {
      "text/html": [
       "<pre style=\"white-space:pre;overflow-x:auto;line-height:normal;font-family:Menlo,'DejaVu Sans Mono',consolas,'Courier New',monospace\"><span style=\"color: #7fbfbf; text-decoration-color: #7fbfbf\">           </span><span style=\"color: #808000; text-decoration-color: #808000\">WARNING </span> <span style=\"color: #808000; text-decoration-color: #808000\">297 slides missing tfrecords, skipping</span>                                                         \n",
       "</pre>\n"
      ],
      "text/plain": [
       "\u001b[2;36m          \u001b[0m\u001b[2;36m \u001b[0m\u001b[33mWARNING \u001b[0m \u001b[33m297 slides missing tfrecords, skipping\u001b[0m                                                         \n"
      ]
     },
     "metadata": {},
     "output_type": "display_data"
    },
    {
     "data": {
      "text/html": [
       "<pre style=\"white-space:pre;overflow-x:auto;line-height:normal;font-family:Menlo,'DejaVu Sans Mono',consolas,'Courier New',monospace\"><span style=\"color: #7fbfbf; text-decoration-color: #7fbfbf\">           </span><span style=\"color: #000080; text-decoration-color: #000080\">INFO    </span> No training/validation splits file provided.                                                   \n",
       "</pre>\n"
      ],
      "text/plain": [
       "\u001b[2;36m          \u001b[0m\u001b[2;36m \u001b[0m\u001b[34mINFO    \u001b[0m No training/validation splits file provided.                                                   \n"
      ]
     },
     "metadata": {},
     "output_type": "display_data"
    },
    {
     "data": {
      "text/html": [
       "<pre style=\"white-space:pre;overflow-x:auto;line-height:normal;font-family:Menlo,'DejaVu Sans Mono',consolas,'Courier New',monospace\"><span style=\"color: #7fbfbf; text-decoration-color: #7fbfbf\">           </span><span style=\"color: #000080; text-decoration-color: #000080\">INFO    </span> Unable to save or load validation splits.                                                      \n",
       "</pre>\n"
      ],
      "text/plain": [
       "\u001b[2;36m          \u001b[0m\u001b[2;36m \u001b[0m\u001b[34mINFO    \u001b[0m Unable to save or load validation splits.                                                      \n"
      ]
     },
     "metadata": {},
     "output_type": "display_data"
    },
    {
     "data": {
      "text/html": [
       "<pre style=\"white-space:pre;overflow-x:auto;line-height:normal;font-family:Menlo,'DejaVu Sans Mono',consolas,'Courier New',monospace\"><span style=\"color: #7fbfbf; text-decoration-color: #7fbfbf\">           </span><span style=\"color: #000080; text-decoration-color: #000080\">INFO    </span> Training FastAI MIL model with config:                                                         \n",
       "</pre>\n"
      ],
      "text/plain": [
       "\u001b[2;36m          \u001b[0m\u001b[2;36m \u001b[0m\u001b[34mINFO    \u001b[0m Training FastAI MIL model with config:                                                         \n"
      ]
     },
     "metadata": {},
     "output_type": "display_data"
    },
    {
     "data": {
      "text/html": [
       "<pre style=\"white-space:pre;overflow-x:auto;line-height:normal;font-family:Menlo,'DejaVu Sans Mono',consolas,'Courier New',monospace\"><span style=\"color: #7fbfbf; text-decoration-color: #7fbfbf\">           </span><span style=\"color: #000080; text-decoration-color: #000080\">INFO    </span> TrainerConfig(                                                                                 \n",
       "<span style=\"color: #7fbfbf; text-decoration-color: #7fbfbf\">           </span>           lr=0.0001                                                                                    \n",
       "<span style=\"color: #7fbfbf; text-decoration-color: #7fbfbf\">           </span>           wd=1e-05                                                                                     \n",
       "<span style=\"color: #7fbfbf; text-decoration-color: #7fbfbf\">           </span>           bag_size=1024                                                                                \n",
       "<span style=\"color: #7fbfbf; text-decoration-color: #7fbfbf\">           </span>           max_val_bag_size=None                                                                        \n",
       "<span style=\"color: #7fbfbf; text-decoration-color: #7fbfbf\">           </span>           fit_one_cycle=True                                                                           \n",
       "<span style=\"color: #7fbfbf; text-decoration-color: #7fbfbf\">           </span>           epochs=20                                                                                    \n",
       "<span style=\"color: #7fbfbf; text-decoration-color: #7fbfbf\">           </span>           batch_size=16                                                                                \n",
       "<span style=\"color: #7fbfbf; text-decoration-color: #7fbfbf\">           </span>           drop_last=True                                                                               \n",
       "<span style=\"color: #7fbfbf; text-decoration-color: #7fbfbf\">           </span>           save_monitor='valid_loss'                                                                    \n",
       "<span style=\"color: #7fbfbf; text-decoration-color: #7fbfbf\">           </span>           weighted_loss=True                                                                           \n",
       "<span style=\"color: #7fbfbf; text-decoration-color: #7fbfbf\">           </span>           model='attention_mil'                                                                        \n",
       "<span style=\"color: #7fbfbf; text-decoration-color: #7fbfbf\">           </span>           model_kwargs=None                                                                            \n",
       "<span style=\"color: #7fbfbf; text-decoration-color: #7fbfbf\">           </span>           loss='cross_entropy'                                                                         \n",
       "<span style=\"color: #7fbfbf; text-decoration-color: #7fbfbf\">           </span>           use_lens=True                                                                                \n",
       "<span style=\"color: #7fbfbf; text-decoration-color: #7fbfbf\">           </span>         )                                                                                              \n",
       "</pre>\n"
      ],
      "text/plain": [
       "\u001b[2;36m          \u001b[0m\u001b[2;36m \u001b[0m\u001b[34mINFO    \u001b[0m TrainerConfig(                                                                                 \n",
       "\u001b[2;36m           \u001b[0m           lr=0.0001                                                                                    \n",
       "\u001b[2;36m           \u001b[0m           wd=1e-05                                                                                     \n",
       "\u001b[2;36m           \u001b[0m           bag_size=1024                                                                                \n",
       "\u001b[2;36m           \u001b[0m           max_val_bag_size=None                                                                        \n",
       "\u001b[2;36m           \u001b[0m           fit_one_cycle=True                                                                           \n",
       "\u001b[2;36m           \u001b[0m           epochs=20                                                                                    \n",
       "\u001b[2;36m           \u001b[0m           batch_size=16                                                                                \n",
       "\u001b[2;36m           \u001b[0m           drop_last=True                                                                               \n",
       "\u001b[2;36m           \u001b[0m           save_monitor='valid_loss'                                                                    \n",
       "\u001b[2;36m           \u001b[0m           weighted_loss=True                                                                           \n",
       "\u001b[2;36m           \u001b[0m           model='attention_mil'                                                                        \n",
       "\u001b[2;36m           \u001b[0m           model_kwargs=None                                                                            \n",
       "\u001b[2;36m           \u001b[0m           loss='cross_entropy'                                                                         \n",
       "\u001b[2;36m           \u001b[0m           use_lens=True                                                                                \n",
       "\u001b[2;36m           \u001b[0m         )                                                                                              \n"
      ]
     },
     "metadata": {},
     "output_type": "display_data"
    },
    {
     "data": {
      "text/html": [
       "<pre style=\"white-space:pre;overflow-x:auto;line-height:normal;font-family:Menlo,'DejaVu Sans Mono',consolas,'Courier New',monospace\"><span style=\"color: #7fbfbf; text-decoration-color: #7fbfbf\">           </span><span style=\"color: #000080; text-decoration-color: #000080\">INFO    </span> Training dataset: 495 merged bags (from 495 possible slides)                                   \n",
       "</pre>\n"
      ],
      "text/plain": [
       "\u001b[2;36m          \u001b[0m\u001b[2;36m \u001b[0m\u001b[34mINFO    \u001b[0m Training dataset: 495 merged bags (from 495 possible slides)                                   \n"
      ]
     },
     "metadata": {},
     "output_type": "display_data"
    },
    {
     "data": {
      "text/html": [
       "<pre style=\"white-space:pre;overflow-x:auto;line-height:normal;font-family:Menlo,'DejaVu Sans Mono',consolas,'Courier New',monospace\"><span style=\"color: #7fbfbf; text-decoration-color: #7fbfbf\">           </span><span style=\"color: #000080; text-decoration-color: #000080\">INFO    </span> Validation dataset: 123 merged bags (from 123 possible slides)                                 \n",
       "</pre>\n"
      ],
      "text/plain": [
       "\u001b[2;36m          \u001b[0m\u001b[2;36m \u001b[0m\u001b[34mINFO    \u001b[0m Validation dataset: 123 merged bags (from 123 possible slides)                                 \n"
      ]
     },
     "metadata": {},
     "output_type": "display_data"
    },
    {
     "data": {
      "text/html": [
       "<pre style=\"white-space:pre;overflow-x:auto;line-height:normal;font-family:Menlo,'DejaVu Sans Mono',consolas,'Courier New',monospace\"><span style=\"color: #7fbfbf; text-decoration-color: #7fbfbf\">[16:22:27] </span><span style=\"color: #000080; text-decoration-color: #000080\">INFO    </span> Building model <span style=\"font-weight: bold\">Attention_MIL</span> (n_in=1024, n_out=2)                                              \n",
       "</pre>\n"
      ],
      "text/plain": [
       "\u001b[2;36m[16:22:27]\u001b[0m\u001b[2;36m \u001b[0m\u001b[34mINFO    \u001b[0m Building model \u001b[1mAttention_MIL\u001b[0m (n_in=1024, n_out=2)                                              \n"
      ]
     },
     "metadata": {},
     "output_type": "display_data"
    },
    {
     "data": {
      "text/html": [
       "\n",
       "<style>\n",
       "    /* Turns off some styling */\n",
       "    progress {\n",
       "        /* gets rid of default border in Firefox and Opera. */\n",
       "        border: none;\n",
       "        /* Needs to be in here for Safari polyfill so background images work as expected. */\n",
       "        background-size: auto;\n",
       "    }\n",
       "    progress:not([value]), progress:not([value])::-webkit-progress-bar {\n",
       "        background: repeating-linear-gradient(45deg, #7e7e7e, #7e7e7e 10px, #5c5c5c 10px, #5c5c5c 20px);\n",
       "    }\n",
       "    .progress-bar-interrupted, .progress-bar-interrupted::-webkit-progress-bar {\n",
       "        background: #F44336;\n",
       "    }\n",
       "</style>\n"
      ],
      "text/plain": [
       "<IPython.core.display.HTML object>"
      ]
     },
     "metadata": {},
     "output_type": "display_data"
    },
    {
     "data": {
      "text/html": [
       "<table border=\"1\" class=\"dataframe\">\n",
       "  <thead>\n",
       "    <tr style=\"text-align: left;\">\n",
       "      <th>epoch</th>\n",
       "      <th>train_loss</th>\n",
       "      <th>valid_loss</th>\n",
       "      <th>roc_auc_score</th>\n",
       "      <th>time</th>\n",
       "    </tr>\n",
       "  </thead>\n",
       "  <tbody>\n",
       "    <tr>\n",
       "      <td>0</td>\n",
       "      <td>0.299991</td>\n",
       "      <td>0.231447</td>\n",
       "      <td>0.429907</td>\n",
       "      <td>00:36</td>\n",
       "    </tr>\n",
       "    <tr>\n",
       "      <td>1</td>\n",
       "      <td>0.288282</td>\n",
       "      <td>0.220237</td>\n",
       "      <td>0.640771</td>\n",
       "      <td>00:33</td>\n",
       "    </tr>\n",
       "    <tr>\n",
       "      <td>2</td>\n",
       "      <td>0.258068</td>\n",
       "      <td>0.208834</td>\n",
       "      <td>0.773364</td>\n",
       "      <td>00:32</td>\n",
       "    </tr>\n",
       "    <tr>\n",
       "      <td>3</td>\n",
       "      <td>0.228467</td>\n",
       "      <td>0.206553</td>\n",
       "      <td>0.819509</td>\n",
       "      <td>00:37</td>\n",
       "    </tr>\n",
       "    <tr>\n",
       "      <td>4</td>\n",
       "      <td>0.198516</td>\n",
       "      <td>0.202959</td>\n",
       "      <td>0.852220</td>\n",
       "      <td>00:35</td>\n",
       "    </tr>\n",
       "    <tr>\n",
       "      <td>5</td>\n",
       "      <td>0.176507</td>\n",
       "      <td>0.183688</td>\n",
       "      <td>0.875000</td>\n",
       "      <td>00:35</td>\n",
       "    </tr>\n",
       "    <tr>\n",
       "      <td>6</td>\n",
       "      <td>0.159373</td>\n",
       "      <td>0.189782</td>\n",
       "      <td>0.879673</td>\n",
       "      <td>00:34</td>\n",
       "    </tr>\n",
       "    <tr>\n",
       "      <td>7</td>\n",
       "      <td>0.138386</td>\n",
       "      <td>0.180969</td>\n",
       "      <td>0.893692</td>\n",
       "      <td>00:35</td>\n",
       "    </tr>\n",
       "    <tr>\n",
       "      <td>8</td>\n",
       "      <td>0.128043</td>\n",
       "      <td>0.179846</td>\n",
       "      <td>0.910047</td>\n",
       "      <td>00:32</td>\n",
       "    </tr>\n",
       "    <tr>\n",
       "      <td>9</td>\n",
       "      <td>0.115161</td>\n",
       "      <td>0.188217</td>\n",
       "      <td>0.904206</td>\n",
       "      <td>00:34</td>\n",
       "    </tr>\n",
       "    <tr>\n",
       "      <td>10</td>\n",
       "      <td>0.102142</td>\n",
       "      <td>0.161524</td>\n",
       "      <td>0.915888</td>\n",
       "      <td>00:32</td>\n",
       "    </tr>\n",
       "    <tr>\n",
       "      <td>11</td>\n",
       "      <td>0.094953</td>\n",
       "      <td>0.170374</td>\n",
       "      <td>0.912967</td>\n",
       "      <td>00:35</td>\n",
       "    </tr>\n",
       "    <tr>\n",
       "      <td>12</td>\n",
       "      <td>0.087943</td>\n",
       "      <td>0.172455</td>\n",
       "      <td>0.910631</td>\n",
       "      <td>00:34</td>\n",
       "    </tr>\n",
       "    <tr>\n",
       "      <td>13</td>\n",
       "      <td>0.084664</td>\n",
       "      <td>0.175861</td>\n",
       "      <td>0.908879</td>\n",
       "      <td>00:33</td>\n",
       "    </tr>\n",
       "    <tr>\n",
       "      <td>14</td>\n",
       "      <td>0.080656</td>\n",
       "      <td>0.164728</td>\n",
       "      <td>0.913551</td>\n",
       "      <td>00:34</td>\n",
       "    </tr>\n",
       "    <tr>\n",
       "      <td>15</td>\n",
       "      <td>0.081688</td>\n",
       "      <td>0.162293</td>\n",
       "      <td>0.918224</td>\n",
       "      <td>00:33</td>\n",
       "    </tr>\n",
       "    <tr>\n",
       "      <td>16</td>\n",
       "      <td>0.077896</td>\n",
       "      <td>0.165049</td>\n",
       "      <td>0.917056</td>\n",
       "      <td>00:33</td>\n",
       "    </tr>\n",
       "    <tr>\n",
       "      <td>17</td>\n",
       "      <td>0.073883</td>\n",
       "      <td>0.165774</td>\n",
       "      <td>0.916472</td>\n",
       "      <td>00:36</td>\n",
       "    </tr>\n",
       "    <tr>\n",
       "      <td>18</td>\n",
       "      <td>0.069594</td>\n",
       "      <td>0.165969</td>\n",
       "      <td>0.917056</td>\n",
       "      <td>00:35</td>\n",
       "    </tr>\n",
       "    <tr>\n",
       "      <td>19</td>\n",
       "      <td>0.067129</td>\n",
       "      <td>0.154141</td>\n",
       "      <td>0.917640</td>\n",
       "      <td>00:32</td>\n",
       "    </tr>\n",
       "  </tbody>\n",
       "</table>"
      ],
      "text/plain": [
       "<IPython.core.display.HTML object>"
      ]
     },
     "metadata": {},
     "output_type": "display_data"
    },
    {
     "name": "stdout",
     "output_type": "stream",
     "text": [
      "Better model found at epoch 0 with valid_loss value: 0.23144672811031342.\n",
      "Better model found at epoch 1 with valid_loss value: 0.2202373594045639.\n",
      "Better model found at epoch 2 with valid_loss value: 0.20883440971374512.\n",
      "Better model found at epoch 3 with valid_loss value: 0.20655305683612823.\n",
      "Better model found at epoch 4 with valid_loss value: 0.2029591202735901.\n",
      "Better model found at epoch 5 with valid_loss value: 0.18368786573410034.\n",
      "Better model found at epoch 7 with valid_loss value: 0.1809694916009903.\n",
      "Better model found at epoch 8 with valid_loss value: 0.17984557151794434.\n",
      "Better model found at epoch 10 with valid_loss value: 0.16152435541152954.\n",
      "Better model found at epoch 19 with valid_loss value: 0.15414057672023773.\n"
     ]
    },
    {
     "data": {
      "text/html": [
       "<pre style=\"white-space:pre;overflow-x:auto;line-height:normal;font-family:Menlo,'DejaVu Sans Mono',consolas,'Courier New',monospace\"><span style=\"color: #7fbfbf; text-decoration-color: #7fbfbf\">[16:34:09] </span><span style=\"color: #000080; text-decoration-color: #000080\">INFO    </span> Predictions saved to                                                                           \n",
       "<span style=\"color: #7fbfbf; text-decoration-color: #7fbfbf\">           </span>         <span style=\"color: #008000; text-decoration-color: #008000\">/mnt/d/Declich/GitHub/UMD/projects/trained_models/ABMIL-I3LUNG-AD-noqc-nostainnorm/00002-uni/pr</span>\n",
       "<span style=\"color: #7fbfbf; text-decoration-color: #7fbfbf\">           </span>         <span style=\"color: #008000; text-decoration-color: #008000\">edictions.parquet</span>                                                                              \n",
       "</pre>\n"
      ],
      "text/plain": [
       "\u001b[2;36m[16:34:09]\u001b[0m\u001b[2;36m \u001b[0m\u001b[34mINFO    \u001b[0m Predictions saved to                                                                           \n",
       "\u001b[2;36m           \u001b[0m         \u001b[32m/mnt/d/Declich/GitHub/UMD/projects/trained_models/ABMIL-I3LUNG-AD-noqc-nostainnorm/00002-uni/pr\u001b[0m\n",
       "\u001b[2;36m           \u001b[0m         \u001b[32medictions.parquet\u001b[0m                                                                              \n"
      ]
     },
     "metadata": {},
     "output_type": "display_data"
    },
    {
     "data": {
      "text/html": [
       "<pre style=\"white-space:pre;overflow-x:auto;line-height:normal;font-family:Menlo,'DejaVu Sans Mono',consolas,'Courier New',monospace\"><span style=\"color: #7fbfbf; text-decoration-color: #7fbfbf\">           </span><span style=\"color: #000080; text-decoration-color: #000080\">INFO    </span> Validation metrics for outcome <span style=\"color: #008000; text-decoration-color: #008000\">HISTOLOGY</span>:                                                      \n",
       "</pre>\n"
      ],
      "text/plain": [
       "\u001b[2;36m          \u001b[0m\u001b[2;36m \u001b[0m\u001b[34mINFO    \u001b[0m Validation metrics for outcome \u001b[32mHISTOLOGY\u001b[0m:                                                      \n"
      ]
     },
     "metadata": {},
     "output_type": "display_data"
    },
    {
     "data": {
      "text/html": [
       "<pre style=\"white-space:pre;overflow-x:auto;line-height:normal;font-family:Menlo,'DejaVu Sans Mono',consolas,'Courier New',monospace\"><span style=\"color: #7fbfbf; text-decoration-color: #7fbfbf\">           </span><span style=\"color: #000080; text-decoration-color: #000080\">INFO    </span> slide-level AUC (cat # 0): 0.918 AP: 0.985 (opt. threshold: 0.173)                             \n",
       "</pre>\n"
      ],
      "text/plain": [
       "\u001b[2;36m          \u001b[0m\u001b[2;36m \u001b[0m\u001b[34mINFO    \u001b[0m slide-level AUC (cat # 0): 0.918 AP: 0.985 (opt. threshold: 0.173)                             \n"
      ]
     },
     "metadata": {},
     "output_type": "display_data"
    },
    {
     "data": {
      "text/html": [
       "<pre style=\"white-space:pre;overflow-x:auto;line-height:normal;font-family:Menlo,'DejaVu Sans Mono',consolas,'Courier New',monospace\"><span style=\"color: #7fbfbf; text-decoration-color: #7fbfbf\">           </span><span style=\"color: #000080; text-decoration-color: #000080\">INFO    </span> slide-level AUC (cat # 1): 0.918 AP: 0.703 (opt. threshold: 0.830)                             \n",
       "</pre>\n"
      ],
      "text/plain": [
       "\u001b[2;36m          \u001b[0m\u001b[2;36m \u001b[0m\u001b[34mINFO    \u001b[0m slide-level AUC (cat # 1): 0.918 AP: 0.703 (opt. threshold: 0.830)                             \n"
      ]
     },
     "metadata": {},
     "output_type": "display_data"
    },
    {
     "data": {
      "text/html": [
       "<pre style=\"white-space:pre;overflow-x:auto;line-height:normal;font-family:Menlo,'DejaVu Sans Mono',consolas,'Courier New',monospace\"><span style=\"color: #7fbfbf; text-decoration-color: #7fbfbf\">           </span><span style=\"color: #000080; text-decoration-color: #000080\">INFO    </span> Category 0 acc: 76.6% (82/107)                                                                 \n",
       "</pre>\n"
      ],
      "text/plain": [
       "\u001b[2;36m          \u001b[0m\u001b[2;36m \u001b[0m\u001b[34mINFO    \u001b[0m Category 0 acc: 76.6% (82/107)                                                                 \n"
      ]
     },
     "metadata": {},
     "output_type": "display_data"
    },
    {
     "data": {
      "text/html": [
       "<pre style=\"white-space:pre;overflow-x:auto;line-height:normal;font-family:Menlo,'DejaVu Sans Mono',consolas,'Courier New',monospace\"><span style=\"color: #7fbfbf; text-decoration-color: #7fbfbf\">           </span><span style=\"color: #000080; text-decoration-color: #000080\">INFO    </span> Category 1 acc: 87.5% (14/16)                                                                  \n",
       "</pre>\n"
      ],
      "text/plain": [
       "\u001b[2;36m          \u001b[0m\u001b[2;36m \u001b[0m\u001b[34mINFO    \u001b[0m Category 1 acc: 87.5% (14/16)                                                                  \n"
      ]
     },
     "metadata": {},
     "output_type": "display_data"
    },
    {
     "data": {
      "text/html": [
       "<pre style=\"white-space:pre;overflow-x:auto;line-height:normal;font-family:Menlo,'DejaVu Sans Mono',consolas,'Courier New',monospace\"><span style=\"color: #7fbfbf; text-decoration-color: #7fbfbf\">[16:34:10] </span><span style=\"color: #000080; text-decoration-color: #000080\">INFO    </span> Attention scores exported to                                                                   \n",
       "<span style=\"color: #7fbfbf; text-decoration-color: #7fbfbf\">           </span>         <span style=\"color: #008000; text-decoration-color: #008000\">/mnt/d/Declich/GitHub/UMD/projects/trained_models/ABMIL-I3LUNG-AD-noqc-nostainnorm/00002-uni/at</span>\n",
       "<span style=\"color: #7fbfbf; text-decoration-color: #7fbfbf\">           </span>         <span style=\"color: #008000; text-decoration-color: #008000\">tention/DIG_PAT_1725901844_att.npz</span>                                                             \n",
       "</pre>\n"
      ],
      "text/plain": [
       "\u001b[2;36m[16:34:10]\u001b[0m\u001b[2;36m \u001b[0m\u001b[34mINFO    \u001b[0m Attention scores exported to                                                                   \n",
       "\u001b[2;36m           \u001b[0m         \u001b[32m/mnt/d/Declich/GitHub/UMD/projects/trained_models/ABMIL-I3LUNG-AD-noqc-nostainnorm/00002-uni/at\u001b[0m\n",
       "\u001b[2;36m           \u001b[0m         \u001b[32mtention/DIG_PAT_1725901844_att.npz\u001b[0m                                                             \n"
      ]
     },
     "metadata": {},
     "output_type": "display_data"
    },
    {
     "name": "stdout",
     "output_type": "stream",
     "text": [
      "Random seed set to: 75156558\n"
     ]
    },
    {
     "data": {
      "text/html": [
       "<pre style=\"white-space:pre;overflow-x:auto;line-height:normal;font-family:Menlo,'DejaVu Sans Mono',consolas,'Courier New',monospace\"><span style=\"color: #7fbfbf; text-decoration-color: #7fbfbf\">           </span><span style=\"color: #808000; text-decoration-color: #808000\">WARNING </span> <span style=\"color: #808000; text-decoration-color: #808000\">297 slides missing tfrecords, skipping</span>                                                         \n",
       "</pre>\n"
      ],
      "text/plain": [
       "\u001b[2;36m          \u001b[0m\u001b[2;36m \u001b[0m\u001b[33mWARNING \u001b[0m \u001b[33m297 slides missing tfrecords, skipping\u001b[0m                                                         \n"
      ]
     },
     "metadata": {},
     "output_type": "display_data"
    },
    {
     "data": {
      "text/html": [
       "<pre style=\"white-space:pre;overflow-x:auto;line-height:normal;font-family:Menlo,'DejaVu Sans Mono',consolas,'Courier New',monospace\"><span style=\"color: #7fbfbf; text-decoration-color: #7fbfbf\">           </span><span style=\"color: #000080; text-decoration-color: #000080\">INFO    </span> No training/validation splits file provided.                                                   \n",
       "</pre>\n"
      ],
      "text/plain": [
       "\u001b[2;36m          \u001b[0m\u001b[2;36m \u001b[0m\u001b[34mINFO    \u001b[0m No training/validation splits file provided.                                                   \n"
      ]
     },
     "metadata": {},
     "output_type": "display_data"
    },
    {
     "data": {
      "text/html": [
       "<pre style=\"white-space:pre;overflow-x:auto;line-height:normal;font-family:Menlo,'DejaVu Sans Mono',consolas,'Courier New',monospace\"><span style=\"color: #7fbfbf; text-decoration-color: #7fbfbf\">           </span><span style=\"color: #000080; text-decoration-color: #000080\">INFO    </span> Unable to save or load validation splits.                                                      \n",
       "</pre>\n"
      ],
      "text/plain": [
       "\u001b[2;36m          \u001b[0m\u001b[2;36m \u001b[0m\u001b[34mINFO    \u001b[0m Unable to save or load validation splits.                                                      \n"
      ]
     },
     "metadata": {},
     "output_type": "display_data"
    },
    {
     "data": {
      "text/html": [
       "<pre style=\"white-space:pre;overflow-x:auto;line-height:normal;font-family:Menlo,'DejaVu Sans Mono',consolas,'Courier New',monospace\"><span style=\"color: #7fbfbf; text-decoration-color: #7fbfbf\">           </span><span style=\"color: #000080; text-decoration-color: #000080\">INFO    </span> Training FastAI MIL model with config:                                                         \n",
       "</pre>\n"
      ],
      "text/plain": [
       "\u001b[2;36m          \u001b[0m\u001b[2;36m \u001b[0m\u001b[34mINFO    \u001b[0m Training FastAI MIL model with config:                                                         \n"
      ]
     },
     "metadata": {},
     "output_type": "display_data"
    },
    {
     "data": {
      "text/html": [
       "<pre style=\"white-space:pre;overflow-x:auto;line-height:normal;font-family:Menlo,'DejaVu Sans Mono',consolas,'Courier New',monospace\"><span style=\"color: #7fbfbf; text-decoration-color: #7fbfbf\">           </span><span style=\"color: #000080; text-decoration-color: #000080\">INFO    </span> TrainerConfig(                                                                                 \n",
       "<span style=\"color: #7fbfbf; text-decoration-color: #7fbfbf\">           </span>           lr=0.0001                                                                                    \n",
       "<span style=\"color: #7fbfbf; text-decoration-color: #7fbfbf\">           </span>           wd=1e-05                                                                                     \n",
       "<span style=\"color: #7fbfbf; text-decoration-color: #7fbfbf\">           </span>           bag_size=1024                                                                                \n",
       "<span style=\"color: #7fbfbf; text-decoration-color: #7fbfbf\">           </span>           max_val_bag_size=None                                                                        \n",
       "<span style=\"color: #7fbfbf; text-decoration-color: #7fbfbf\">           </span>           fit_one_cycle=True                                                                           \n",
       "<span style=\"color: #7fbfbf; text-decoration-color: #7fbfbf\">           </span>           epochs=20                                                                                    \n",
       "<span style=\"color: #7fbfbf; text-decoration-color: #7fbfbf\">           </span>           batch_size=16                                                                                \n",
       "<span style=\"color: #7fbfbf; text-decoration-color: #7fbfbf\">           </span>           drop_last=True                                                                               \n",
       "<span style=\"color: #7fbfbf; text-decoration-color: #7fbfbf\">           </span>           save_monitor='valid_loss'                                                                    \n",
       "<span style=\"color: #7fbfbf; text-decoration-color: #7fbfbf\">           </span>           weighted_loss=True                                                                           \n",
       "<span style=\"color: #7fbfbf; text-decoration-color: #7fbfbf\">           </span>           model='attention_mil'                                                                        \n",
       "<span style=\"color: #7fbfbf; text-decoration-color: #7fbfbf\">           </span>           model_kwargs=None                                                                            \n",
       "<span style=\"color: #7fbfbf; text-decoration-color: #7fbfbf\">           </span>           loss='cross_entropy'                                                                         \n",
       "<span style=\"color: #7fbfbf; text-decoration-color: #7fbfbf\">           </span>           use_lens=True                                                                                \n",
       "<span style=\"color: #7fbfbf; text-decoration-color: #7fbfbf\">           </span>         )                                                                                              \n",
       "</pre>\n"
      ],
      "text/plain": [
       "\u001b[2;36m          \u001b[0m\u001b[2;36m \u001b[0m\u001b[34mINFO    \u001b[0m TrainerConfig(                                                                                 \n",
       "\u001b[2;36m           \u001b[0m           lr=0.0001                                                                                    \n",
       "\u001b[2;36m           \u001b[0m           wd=1e-05                                                                                     \n",
       "\u001b[2;36m           \u001b[0m           bag_size=1024                                                                                \n",
       "\u001b[2;36m           \u001b[0m           max_val_bag_size=None                                                                        \n",
       "\u001b[2;36m           \u001b[0m           fit_one_cycle=True                                                                           \n",
       "\u001b[2;36m           \u001b[0m           epochs=20                                                                                    \n",
       "\u001b[2;36m           \u001b[0m           batch_size=16                                                                                \n",
       "\u001b[2;36m           \u001b[0m           drop_last=True                                                                               \n",
       "\u001b[2;36m           \u001b[0m           save_monitor='valid_loss'                                                                    \n",
       "\u001b[2;36m           \u001b[0m           weighted_loss=True                                                                           \n",
       "\u001b[2;36m           \u001b[0m           model='attention_mil'                                                                        \n",
       "\u001b[2;36m           \u001b[0m           model_kwargs=None                                                                            \n",
       "\u001b[2;36m           \u001b[0m           loss='cross_entropy'                                                                         \n",
       "\u001b[2;36m           \u001b[0m           use_lens=True                                                                                \n",
       "\u001b[2;36m           \u001b[0m         )                                                                                              \n"
      ]
     },
     "metadata": {},
     "output_type": "display_data"
    },
    {
     "data": {
      "text/html": [
       "<pre style=\"white-space:pre;overflow-x:auto;line-height:normal;font-family:Menlo,'DejaVu Sans Mono',consolas,'Courier New',monospace\"><span style=\"color: #7fbfbf; text-decoration-color: #7fbfbf\">[16:34:11] </span><span style=\"color: #000080; text-decoration-color: #000080\">INFO    </span> Training dataset: 496 merged bags (from 496 possible slides)                                   \n",
       "</pre>\n"
      ],
      "text/plain": [
       "\u001b[2;36m[16:34:11]\u001b[0m\u001b[2;36m \u001b[0m\u001b[34mINFO    \u001b[0m Training dataset: 496 merged bags (from 496 possible slides)                                   \n"
      ]
     },
     "metadata": {},
     "output_type": "display_data"
    },
    {
     "data": {
      "text/html": [
       "<pre style=\"white-space:pre;overflow-x:auto;line-height:normal;font-family:Menlo,'DejaVu Sans Mono',consolas,'Courier New',monospace\"><span style=\"color: #7fbfbf; text-decoration-color: #7fbfbf\">           </span><span style=\"color: #000080; text-decoration-color: #000080\">INFO    </span> Validation dataset: 122 merged bags (from 122 possible slides)                                 \n",
       "</pre>\n"
      ],
      "text/plain": [
       "\u001b[2;36m          \u001b[0m\u001b[2;36m \u001b[0m\u001b[34mINFO    \u001b[0m Validation dataset: 122 merged bags (from 122 possible slides)                                 \n"
      ]
     },
     "metadata": {},
     "output_type": "display_data"
    },
    {
     "data": {
      "text/html": [
       "<pre style=\"white-space:pre;overflow-x:auto;line-height:normal;font-family:Menlo,'DejaVu Sans Mono',consolas,'Courier New',monospace\"><span style=\"color: #7fbfbf; text-decoration-color: #7fbfbf\">[16:34:12] </span><span style=\"color: #000080; text-decoration-color: #000080\">INFO    </span> Building model <span style=\"font-weight: bold\">Attention_MIL</span> (n_in=1024, n_out=2)                                              \n",
       "</pre>\n"
      ],
      "text/plain": [
       "\u001b[2;36m[16:34:12]\u001b[0m\u001b[2;36m \u001b[0m\u001b[34mINFO    \u001b[0m Building model \u001b[1mAttention_MIL\u001b[0m (n_in=1024, n_out=2)                                              \n"
      ]
     },
     "metadata": {},
     "output_type": "display_data"
    },
    {
     "data": {
      "text/html": [
       "\n",
       "<style>\n",
       "    /* Turns off some styling */\n",
       "    progress {\n",
       "        /* gets rid of default border in Firefox and Opera. */\n",
       "        border: none;\n",
       "        /* Needs to be in here for Safari polyfill so background images work as expected. */\n",
       "        background-size: auto;\n",
       "    }\n",
       "    progress:not([value]), progress:not([value])::-webkit-progress-bar {\n",
       "        background: repeating-linear-gradient(45deg, #7e7e7e, #7e7e7e 10px, #5c5c5c 10px, #5c5c5c 20px);\n",
       "    }\n",
       "    .progress-bar-interrupted, .progress-bar-interrupted::-webkit-progress-bar {\n",
       "        background: #F44336;\n",
       "    }\n",
       "</style>\n"
      ],
      "text/plain": [
       "<IPython.core.display.HTML object>"
      ]
     },
     "metadata": {},
     "output_type": "display_data"
    },
    {
     "data": {
      "text/html": [
       "<table border=\"1\" class=\"dataframe\">\n",
       "  <thead>\n",
       "    <tr style=\"text-align: left;\">\n",
       "      <th>epoch</th>\n",
       "      <th>train_loss</th>\n",
       "      <th>valid_loss</th>\n",
       "      <th>roc_auc_score</th>\n",
       "      <th>time</th>\n",
       "    </tr>\n",
       "  </thead>\n",
       "  <tbody>\n",
       "    <tr>\n",
       "      <td>0</td>\n",
       "      <td>0.269813</td>\n",
       "      <td>0.240186</td>\n",
       "      <td>0.525240</td>\n",
       "      <td>00:34</td>\n",
       "    </tr>\n",
       "    <tr>\n",
       "      <td>1</td>\n",
       "      <td>0.261065</td>\n",
       "      <td>0.225477</td>\n",
       "      <td>0.662260</td>\n",
       "      <td>00:36</td>\n",
       "    </tr>\n",
       "    <tr>\n",
       "      <td>2</td>\n",
       "      <td>0.243592</td>\n",
       "      <td>0.199110</td>\n",
       "      <td>0.800481</td>\n",
       "      <td>00:35</td>\n",
       "    </tr>\n",
       "    <tr>\n",
       "      <td>3</td>\n",
       "      <td>0.218269</td>\n",
       "      <td>0.173690</td>\n",
       "      <td>0.883013</td>\n",
       "      <td>00:38</td>\n",
       "    </tr>\n",
       "    <tr>\n",
       "      <td>4</td>\n",
       "      <td>0.198123</td>\n",
       "      <td>0.160212</td>\n",
       "      <td>0.936298</td>\n",
       "      <td>00:35</td>\n",
       "    </tr>\n",
       "    <tr>\n",
       "      <td>5</td>\n",
       "      <td>0.176198</td>\n",
       "      <td>0.150379</td>\n",
       "      <td>0.947516</td>\n",
       "      <td>00:36</td>\n",
       "    </tr>\n",
       "    <tr>\n",
       "      <td>6</td>\n",
       "      <td>0.157611</td>\n",
       "      <td>0.122749</td>\n",
       "      <td>0.967949</td>\n",
       "      <td>00:45</td>\n",
       "    </tr>\n",
       "    <tr>\n",
       "      <td>7</td>\n",
       "      <td>0.143719</td>\n",
       "      <td>0.129470</td>\n",
       "      <td>0.977163</td>\n",
       "      <td>00:27</td>\n",
       "    </tr>\n",
       "    <tr>\n",
       "      <td>8</td>\n",
       "      <td>0.129843</td>\n",
       "      <td>0.110783</td>\n",
       "      <td>0.978766</td>\n",
       "      <td>00:38</td>\n",
       "    </tr>\n",
       "    <tr>\n",
       "      <td>9</td>\n",
       "      <td>0.119350</td>\n",
       "      <td>0.125756</td>\n",
       "      <td>0.982772</td>\n",
       "      <td>00:35</td>\n",
       "    </tr>\n",
       "    <tr>\n",
       "      <td>10</td>\n",
       "      <td>0.109953</td>\n",
       "      <td>0.126010</td>\n",
       "      <td>0.981971</td>\n",
       "      <td>00:35</td>\n",
       "    </tr>\n",
       "    <tr>\n",
       "      <td>11</td>\n",
       "      <td>0.102023</td>\n",
       "      <td>0.119072</td>\n",
       "      <td>0.982772</td>\n",
       "      <td>00:36</td>\n",
       "    </tr>\n",
       "    <tr>\n",
       "      <td>12</td>\n",
       "      <td>0.092908</td>\n",
       "      <td>0.113124</td>\n",
       "      <td>0.984776</td>\n",
       "      <td>00:39</td>\n",
       "    </tr>\n",
       "    <tr>\n",
       "      <td>13</td>\n",
       "      <td>0.090928</td>\n",
       "      <td>0.120666</td>\n",
       "      <td>0.983173</td>\n",
       "      <td>00:39</td>\n",
       "    </tr>\n",
       "    <tr>\n",
       "      <td>14</td>\n",
       "      <td>0.081366</td>\n",
       "      <td>0.105424</td>\n",
       "      <td>0.983173</td>\n",
       "      <td>00:34</td>\n",
       "    </tr>\n",
       "    <tr>\n",
       "      <td>15</td>\n",
       "      <td>0.079360</td>\n",
       "      <td>0.118247</td>\n",
       "      <td>0.982772</td>\n",
       "      <td>00:25</td>\n",
       "    </tr>\n",
       "    <tr>\n",
       "      <td>16</td>\n",
       "      <td>0.076700</td>\n",
       "      <td>0.102790</td>\n",
       "      <td>0.982372</td>\n",
       "      <td>00:26</td>\n",
       "    </tr>\n",
       "    <tr>\n",
       "      <td>17</td>\n",
       "      <td>0.073665</td>\n",
       "      <td>0.105000</td>\n",
       "      <td>0.982772</td>\n",
       "      <td>00:40</td>\n",
       "    </tr>\n",
       "    <tr>\n",
       "      <td>18</td>\n",
       "      <td>0.075933</td>\n",
       "      <td>0.104875</td>\n",
       "      <td>0.982372</td>\n",
       "      <td>00:26</td>\n",
       "    </tr>\n",
       "    <tr>\n",
       "      <td>19</td>\n",
       "      <td>0.077810</td>\n",
       "      <td>0.104742</td>\n",
       "      <td>0.982772</td>\n",
       "      <td>00:32</td>\n",
       "    </tr>\n",
       "  </tbody>\n",
       "</table>"
      ],
      "text/plain": [
       "<IPython.core.display.HTML object>"
      ]
     },
     "metadata": {},
     "output_type": "display_data"
    },
    {
     "name": "stdout",
     "output_type": "stream",
     "text": [
      "Better model found at epoch 0 with valid_loss value: 0.24018612504005432.\n",
      "Better model found at epoch 1 with valid_loss value: 0.2254767268896103.\n",
      "Better model found at epoch 2 with valid_loss value: 0.19910958409309387.\n",
      "Better model found at epoch 3 with valid_loss value: 0.17369025945663452.\n",
      "Better model found at epoch 4 with valid_loss value: 0.1602121889591217.\n",
      "Better model found at epoch 5 with valid_loss value: 0.15037895739078522.\n",
      "Better model found at epoch 6 with valid_loss value: 0.12274934351444244.\n",
      "Better model found at epoch 8 with valid_loss value: 0.11078287661075592.\n",
      "Better model found at epoch 14 with valid_loss value: 0.10542406141757965.\n",
      "Better model found at epoch 16 with valid_loss value: 0.10279038548469543.\n"
     ]
    },
    {
     "data": {
      "text/html": [
       "<pre style=\"white-space:pre;overflow-x:auto;line-height:normal;font-family:Menlo,'DejaVu Sans Mono',consolas,'Courier New',monospace\"><span style=\"color: #7fbfbf; text-decoration-color: #7fbfbf\">[16:46:00] </span><span style=\"color: #000080; text-decoration-color: #000080\">INFO    </span> Predictions saved to                                                                           \n",
       "<span style=\"color: #7fbfbf; text-decoration-color: #7fbfbf\">           </span>         <span style=\"color: #008000; text-decoration-color: #008000\">/mnt/d/Declich/GitHub/UMD/projects/trained_models/ABMIL-I3LUNG-AD-noqc-nostainnorm/00003-uni/pr</span>\n",
       "<span style=\"color: #7fbfbf; text-decoration-color: #7fbfbf\">           </span>         <span style=\"color: #008000; text-decoration-color: #008000\">edictions.parquet</span>                                                                              \n",
       "</pre>\n"
      ],
      "text/plain": [
       "\u001b[2;36m[16:46:00]\u001b[0m\u001b[2;36m \u001b[0m\u001b[34mINFO    \u001b[0m Predictions saved to                                                                           \n",
       "\u001b[2;36m           \u001b[0m         \u001b[32m/mnt/d/Declich/GitHub/UMD/projects/trained_models/ABMIL-I3LUNG-AD-noqc-nostainnorm/00003-uni/pr\u001b[0m\n",
       "\u001b[2;36m           \u001b[0m         \u001b[32medictions.parquet\u001b[0m                                                                              \n"
      ]
     },
     "metadata": {},
     "output_type": "display_data"
    },
    {
     "data": {
      "text/html": [
       "<pre style=\"white-space:pre;overflow-x:auto;line-height:normal;font-family:Menlo,'DejaVu Sans Mono',consolas,'Courier New',monospace\"><span style=\"color: #7fbfbf; text-decoration-color: #7fbfbf\">           </span><span style=\"color: #000080; text-decoration-color: #000080\">INFO    </span> Validation metrics for outcome <span style=\"color: #008000; text-decoration-color: #008000\">HISTOLOGY</span>:                                                      \n",
       "</pre>\n"
      ],
      "text/plain": [
       "\u001b[2;36m          \u001b[0m\u001b[2;36m \u001b[0m\u001b[34mINFO    \u001b[0m Validation metrics for outcome \u001b[32mHISTOLOGY\u001b[0m:                                                      \n"
      ]
     },
     "metadata": {},
     "output_type": "display_data"
    },
    {
     "data": {
      "text/html": [
       "<pre style=\"white-space:pre;overflow-x:auto;line-height:normal;font-family:Menlo,'DejaVu Sans Mono',consolas,'Courier New',monospace\"><span style=\"color: #7fbfbf; text-decoration-color: #7fbfbf\">           </span><span style=\"color: #000080; text-decoration-color: #000080\">INFO    </span> slide-level AUC (cat # 0): 0.982 AP: 0.996 (opt. threshold: 0.175)                             \n",
       "</pre>\n"
      ],
      "text/plain": [
       "\u001b[2;36m          \u001b[0m\u001b[2;36m \u001b[0m\u001b[34mINFO    \u001b[0m slide-level AUC (cat # 0): 0.982 AP: 0.996 (opt. threshold: 0.175)                             \n"
      ]
     },
     "metadata": {},
     "output_type": "display_data"
    },
    {
     "data": {
      "text/html": [
       "<pre style=\"white-space:pre;overflow-x:auto;line-height:normal;font-family:Menlo,'DejaVu Sans Mono',consolas,'Courier New',monospace\"><span style=\"color: #7fbfbf; text-decoration-color: #7fbfbf\">           </span><span style=\"color: #000080; text-decoration-color: #000080\">INFO    </span> slide-level AUC (cat # 1): 0.982 AP: 0.919 (opt. threshold: 0.828)                             \n",
       "</pre>\n"
      ],
      "text/plain": [
       "\u001b[2;36m          \u001b[0m\u001b[2;36m \u001b[0m\u001b[34mINFO    \u001b[0m slide-level AUC (cat # 1): 0.982 AP: 0.919 (opt. threshold: 0.828)                             \n"
      ]
     },
     "metadata": {},
     "output_type": "display_data"
    },
    {
     "data": {
      "text/html": [
       "<pre style=\"white-space:pre;overflow-x:auto;line-height:normal;font-family:Menlo,'DejaVu Sans Mono',consolas,'Courier New',monospace\"><span style=\"color: #7fbfbf; text-decoration-color: #7fbfbf\">           </span><span style=\"color: #000080; text-decoration-color: #000080\">INFO    </span> Category 0 acc: 76.0% (73/96)                                                                  \n",
       "</pre>\n"
      ],
      "text/plain": [
       "\u001b[2;36m          \u001b[0m\u001b[2;36m \u001b[0m\u001b[34mINFO    \u001b[0m Category 0 acc: 76.0% (73/96)                                                                  \n"
      ]
     },
     "metadata": {},
     "output_type": "display_data"
    },
    {
     "data": {
      "text/html": [
       "<pre style=\"white-space:pre;overflow-x:auto;line-height:normal;font-family:Menlo,'DejaVu Sans Mono',consolas,'Courier New',monospace\"><span style=\"color: #7fbfbf; text-decoration-color: #7fbfbf\">           </span><span style=\"color: #000080; text-decoration-color: #000080\">INFO    </span> Category 1 acc: 100.0% (26/26)                                                                 \n",
       "</pre>\n"
      ],
      "text/plain": [
       "\u001b[2;36m          \u001b[0m\u001b[2;36m \u001b[0m\u001b[34mINFO    \u001b[0m Category 1 acc: 100.0% (26/26)                                                                 \n"
      ]
     },
     "metadata": {},
     "output_type": "display_data"
    },
    {
     "data": {
      "text/html": [
       "<pre style=\"white-space:pre;overflow-x:auto;line-height:normal;font-family:Menlo,'DejaVu Sans Mono',consolas,'Courier New',monospace\"><span style=\"color: #7fbfbf; text-decoration-color: #7fbfbf\">[16:46:01] </span><span style=\"color: #000080; text-decoration-color: #000080\">INFO    </span> Attention scores exported to                                                                   \n",
       "<span style=\"color: #7fbfbf; text-decoration-color: #7fbfbf\">           </span>         <span style=\"color: #008000; text-decoration-color: #008000\">/mnt/d/Declich/GitHub/UMD/projects/trained_models/ABMIL-I3LUNG-AD-noqc-nostainnorm/00003-uni/at</span>\n",
       "<span style=\"color: #7fbfbf; text-decoration-color: #7fbfbf\">           </span>         <span style=\"color: #008000; text-decoration-color: #008000\">tention/DIG_PAT_1725902645_att.npz</span>                                                             \n",
       "</pre>\n"
      ],
      "text/plain": [
       "\u001b[2;36m[16:46:01]\u001b[0m\u001b[2;36m \u001b[0m\u001b[34mINFO    \u001b[0m Attention scores exported to                                                                   \n",
       "\u001b[2;36m           \u001b[0m         \u001b[32m/mnt/d/Declich/GitHub/UMD/projects/trained_models/ABMIL-I3LUNG-AD-noqc-nostainnorm/00003-uni/at\u001b[0m\n",
       "\u001b[2;36m           \u001b[0m         \u001b[32mtention/DIG_PAT_1725902645_att.npz\u001b[0m                                                             \n"
      ]
     },
     "metadata": {},
     "output_type": "display_data"
    },
    {
     "name": "stdout",
     "output_type": "stream",
     "text": [
      "Random seed set to: 80053990\n"
     ]
    },
    {
     "data": {
      "text/html": [
       "<pre style=\"white-space:pre;overflow-x:auto;line-height:normal;font-family:Menlo,'DejaVu Sans Mono',consolas,'Courier New',monospace\"><span style=\"color: #7fbfbf; text-decoration-color: #7fbfbf\">           </span><span style=\"color: #808000; text-decoration-color: #808000\">WARNING </span> <span style=\"color: #808000; text-decoration-color: #808000\">297 slides missing tfrecords, skipping</span>                                                         \n",
       "</pre>\n"
      ],
      "text/plain": [
       "\u001b[2;36m          \u001b[0m\u001b[2;36m \u001b[0m\u001b[33mWARNING \u001b[0m \u001b[33m297 slides missing tfrecords, skipping\u001b[0m                                                         \n"
      ]
     },
     "metadata": {},
     "output_type": "display_data"
    },
    {
     "data": {
      "text/html": [
       "<pre style=\"white-space:pre;overflow-x:auto;line-height:normal;font-family:Menlo,'DejaVu Sans Mono',consolas,'Courier New',monospace\"><span style=\"color: #7fbfbf; text-decoration-color: #7fbfbf\">           </span><span style=\"color: #000080; text-decoration-color: #000080\">INFO    </span> No training/validation splits file provided.                                                   \n",
       "</pre>\n"
      ],
      "text/plain": [
       "\u001b[2;36m          \u001b[0m\u001b[2;36m \u001b[0m\u001b[34mINFO    \u001b[0m No training/validation splits file provided.                                                   \n"
      ]
     },
     "metadata": {},
     "output_type": "display_data"
    },
    {
     "data": {
      "text/html": [
       "<pre style=\"white-space:pre;overflow-x:auto;line-height:normal;font-family:Menlo,'DejaVu Sans Mono',consolas,'Courier New',monospace\"><span style=\"color: #7fbfbf; text-decoration-color: #7fbfbf\">           </span><span style=\"color: #000080; text-decoration-color: #000080\">INFO    </span> Unable to save or load validation splits.                                                      \n",
       "</pre>\n"
      ],
      "text/plain": [
       "\u001b[2;36m          \u001b[0m\u001b[2;36m \u001b[0m\u001b[34mINFO    \u001b[0m Unable to save or load validation splits.                                                      \n"
      ]
     },
     "metadata": {},
     "output_type": "display_data"
    },
    {
     "data": {
      "text/html": [
       "<pre style=\"white-space:pre;overflow-x:auto;line-height:normal;font-family:Menlo,'DejaVu Sans Mono',consolas,'Courier New',monospace\"><span style=\"color: #7fbfbf; text-decoration-color: #7fbfbf\">           </span><span style=\"color: #000080; text-decoration-color: #000080\">INFO    </span> Training FastAI MIL model with config:                                                         \n",
       "</pre>\n"
      ],
      "text/plain": [
       "\u001b[2;36m          \u001b[0m\u001b[2;36m \u001b[0m\u001b[34mINFO    \u001b[0m Training FastAI MIL model with config:                                                         \n"
      ]
     },
     "metadata": {},
     "output_type": "display_data"
    },
    {
     "data": {
      "text/html": [
       "<pre style=\"white-space:pre;overflow-x:auto;line-height:normal;font-family:Menlo,'DejaVu Sans Mono',consolas,'Courier New',monospace\"><span style=\"color: #7fbfbf; text-decoration-color: #7fbfbf\">           </span><span style=\"color: #000080; text-decoration-color: #000080\">INFO    </span> TrainerConfig(                                                                                 \n",
       "<span style=\"color: #7fbfbf; text-decoration-color: #7fbfbf\">           </span>           lr=0.0001                                                                                    \n",
       "<span style=\"color: #7fbfbf; text-decoration-color: #7fbfbf\">           </span>           wd=1e-05                                                                                     \n",
       "<span style=\"color: #7fbfbf; text-decoration-color: #7fbfbf\">           </span>           bag_size=1024                                                                                \n",
       "<span style=\"color: #7fbfbf; text-decoration-color: #7fbfbf\">           </span>           max_val_bag_size=None                                                                        \n",
       "<span style=\"color: #7fbfbf; text-decoration-color: #7fbfbf\">           </span>           fit_one_cycle=True                                                                           \n",
       "<span style=\"color: #7fbfbf; text-decoration-color: #7fbfbf\">           </span>           epochs=20                                                                                    \n",
       "<span style=\"color: #7fbfbf; text-decoration-color: #7fbfbf\">           </span>           batch_size=16                                                                                \n",
       "<span style=\"color: #7fbfbf; text-decoration-color: #7fbfbf\">           </span>           drop_last=True                                                                               \n",
       "<span style=\"color: #7fbfbf; text-decoration-color: #7fbfbf\">           </span>           save_monitor='valid_loss'                                                                    \n",
       "<span style=\"color: #7fbfbf; text-decoration-color: #7fbfbf\">           </span>           weighted_loss=True                                                                           \n",
       "<span style=\"color: #7fbfbf; text-decoration-color: #7fbfbf\">           </span>           model='attention_mil'                                                                        \n",
       "<span style=\"color: #7fbfbf; text-decoration-color: #7fbfbf\">           </span>           model_kwargs=None                                                                            \n",
       "<span style=\"color: #7fbfbf; text-decoration-color: #7fbfbf\">           </span>           loss='cross_entropy'                                                                         \n",
       "<span style=\"color: #7fbfbf; text-decoration-color: #7fbfbf\">           </span>           use_lens=True                                                                                \n",
       "<span style=\"color: #7fbfbf; text-decoration-color: #7fbfbf\">           </span>         )                                                                                              \n",
       "</pre>\n"
      ],
      "text/plain": [
       "\u001b[2;36m          \u001b[0m\u001b[2;36m \u001b[0m\u001b[34mINFO    \u001b[0m TrainerConfig(                                                                                 \n",
       "\u001b[2;36m           \u001b[0m           lr=0.0001                                                                                    \n",
       "\u001b[2;36m           \u001b[0m           wd=1e-05                                                                                     \n",
       "\u001b[2;36m           \u001b[0m           bag_size=1024                                                                                \n",
       "\u001b[2;36m           \u001b[0m           max_val_bag_size=None                                                                        \n",
       "\u001b[2;36m           \u001b[0m           fit_one_cycle=True                                                                           \n",
       "\u001b[2;36m           \u001b[0m           epochs=20                                                                                    \n",
       "\u001b[2;36m           \u001b[0m           batch_size=16                                                                                \n",
       "\u001b[2;36m           \u001b[0m           drop_last=True                                                                               \n",
       "\u001b[2;36m           \u001b[0m           save_monitor='valid_loss'                                                                    \n",
       "\u001b[2;36m           \u001b[0m           weighted_loss=True                                                                           \n",
       "\u001b[2;36m           \u001b[0m           model='attention_mil'                                                                        \n",
       "\u001b[2;36m           \u001b[0m           model_kwargs=None                                                                            \n",
       "\u001b[2;36m           \u001b[0m           loss='cross_entropy'                                                                         \n",
       "\u001b[2;36m           \u001b[0m           use_lens=True                                                                                \n",
       "\u001b[2;36m           \u001b[0m         )                                                                                              \n"
      ]
     },
     "metadata": {},
     "output_type": "display_data"
    },
    {
     "data": {
      "text/html": [
       "<pre style=\"white-space:pre;overflow-x:auto;line-height:normal;font-family:Menlo,'DejaVu Sans Mono',consolas,'Courier New',monospace\"><span style=\"color: #7fbfbf; text-decoration-color: #7fbfbf\">[16:46:02] </span><span style=\"color: #000080; text-decoration-color: #000080\">INFO    </span> Training dataset: 498 merged bags (from 498 possible slides)                                   \n",
       "</pre>\n"
      ],
      "text/plain": [
       "\u001b[2;36m[16:46:02]\u001b[0m\u001b[2;36m \u001b[0m\u001b[34mINFO    \u001b[0m Training dataset: 498 merged bags (from 498 possible slides)                                   \n"
      ]
     },
     "metadata": {},
     "output_type": "display_data"
    },
    {
     "data": {
      "text/html": [
       "<pre style=\"white-space:pre;overflow-x:auto;line-height:normal;font-family:Menlo,'DejaVu Sans Mono',consolas,'Courier New',monospace\"><span style=\"color: #7fbfbf; text-decoration-color: #7fbfbf\">           </span><span style=\"color: #000080; text-decoration-color: #000080\">INFO    </span> Validation dataset: 120 merged bags (from 120 possible slides)                                 \n",
       "</pre>\n"
      ],
      "text/plain": [
       "\u001b[2;36m          \u001b[0m\u001b[2;36m \u001b[0m\u001b[34mINFO    \u001b[0m Validation dataset: 120 merged bags (from 120 possible slides)                                 \n"
      ]
     },
     "metadata": {},
     "output_type": "display_data"
    },
    {
     "data": {
      "text/html": [
       "<pre style=\"white-space:pre;overflow-x:auto;line-height:normal;font-family:Menlo,'DejaVu Sans Mono',consolas,'Courier New',monospace\"><span style=\"color: #7fbfbf; text-decoration-color: #7fbfbf\">           </span><span style=\"color: #000080; text-decoration-color: #000080\">INFO    </span> Building model <span style=\"font-weight: bold\">Attention_MIL</span> (n_in=1024, n_out=2)                                              \n",
       "</pre>\n"
      ],
      "text/plain": [
       "\u001b[2;36m          \u001b[0m\u001b[2;36m \u001b[0m\u001b[34mINFO    \u001b[0m Building model \u001b[1mAttention_MIL\u001b[0m (n_in=1024, n_out=2)                                              \n"
      ]
     },
     "metadata": {},
     "output_type": "display_data"
    },
    {
     "data": {
      "text/html": [
       "\n",
       "<style>\n",
       "    /* Turns off some styling */\n",
       "    progress {\n",
       "        /* gets rid of default border in Firefox and Opera. */\n",
       "        border: none;\n",
       "        /* Needs to be in here for Safari polyfill so background images work as expected. */\n",
       "        background-size: auto;\n",
       "    }\n",
       "    progress:not([value]), progress:not([value])::-webkit-progress-bar {\n",
       "        background: repeating-linear-gradient(45deg, #7e7e7e, #7e7e7e 10px, #5c5c5c 10px, #5c5c5c 20px);\n",
       "    }\n",
       "    .progress-bar-interrupted, .progress-bar-interrupted::-webkit-progress-bar {\n",
       "        background: #F44336;\n",
       "    }\n",
       "</style>\n"
      ],
      "text/plain": [
       "<IPython.core.display.HTML object>"
      ]
     },
     "metadata": {},
     "output_type": "display_data"
    },
    {
     "data": {
      "text/html": [
       "<table border=\"1\" class=\"dataframe\">\n",
       "  <thead>\n",
       "    <tr style=\"text-align: left;\">\n",
       "      <th>epoch</th>\n",
       "      <th>train_loss</th>\n",
       "      <th>valid_loss</th>\n",
       "      <th>roc_auc_score</th>\n",
       "      <th>time</th>\n",
       "    </tr>\n",
       "  </thead>\n",
       "  <tbody>\n",
       "    <tr>\n",
       "      <td>0</td>\n",
       "      <td>0.302929</td>\n",
       "      <td>0.233420</td>\n",
       "      <td>0.508349</td>\n",
       "      <td>00:36</td>\n",
       "    </tr>\n",
       "    <tr>\n",
       "      <td>1</td>\n",
       "      <td>0.283592</td>\n",
       "      <td>0.218331</td>\n",
       "      <td>0.661410</td>\n",
       "      <td>00:35</td>\n",
       "    </tr>\n",
       "    <tr>\n",
       "      <td>2</td>\n",
       "      <td>0.249268</td>\n",
       "      <td>0.200768</td>\n",
       "      <td>0.749536</td>\n",
       "      <td>00:35</td>\n",
       "    </tr>\n",
       "    <tr>\n",
       "      <td>3</td>\n",
       "      <td>0.226757</td>\n",
       "      <td>0.183380</td>\n",
       "      <td>0.792208</td>\n",
       "      <td>00:26</td>\n",
       "    </tr>\n",
       "    <tr>\n",
       "      <td>4</td>\n",
       "      <td>0.203237</td>\n",
       "      <td>0.201962</td>\n",
       "      <td>0.824675</td>\n",
       "      <td>00:34</td>\n",
       "    </tr>\n",
       "    <tr>\n",
       "      <td>5</td>\n",
       "      <td>0.173721</td>\n",
       "      <td>0.188128</td>\n",
       "      <td>0.839054</td>\n",
       "      <td>00:26</td>\n",
       "    </tr>\n",
       "    <tr>\n",
       "      <td>6</td>\n",
       "      <td>0.153434</td>\n",
       "      <td>0.157943</td>\n",
       "      <td>0.866883</td>\n",
       "      <td>00:33</td>\n",
       "    </tr>\n",
       "    <tr>\n",
       "      <td>7</td>\n",
       "      <td>0.136411</td>\n",
       "      <td>0.166060</td>\n",
       "      <td>0.879870</td>\n",
       "      <td>00:26</td>\n",
       "    </tr>\n",
       "    <tr>\n",
       "      <td>8</td>\n",
       "      <td>0.121417</td>\n",
       "      <td>0.156937</td>\n",
       "      <td>0.878479</td>\n",
       "      <td>00:34</td>\n",
       "    </tr>\n",
       "    <tr>\n",
       "      <td>9</td>\n",
       "      <td>0.110313</td>\n",
       "      <td>0.162408</td>\n",
       "      <td>0.884045</td>\n",
       "      <td>00:32</td>\n",
       "    </tr>\n",
       "    <tr>\n",
       "      <td>10</td>\n",
       "      <td>0.102070</td>\n",
       "      <td>0.151563</td>\n",
       "      <td>0.892857</td>\n",
       "      <td>00:32</td>\n",
       "    </tr>\n",
       "    <tr>\n",
       "      <td>11</td>\n",
       "      <td>0.093323</td>\n",
       "      <td>0.144903</td>\n",
       "      <td>0.897959</td>\n",
       "      <td>00:32</td>\n",
       "    </tr>\n",
       "    <tr>\n",
       "      <td>12</td>\n",
       "      <td>0.090483</td>\n",
       "      <td>0.143479</td>\n",
       "      <td>0.892393</td>\n",
       "      <td>00:26</td>\n",
       "    </tr>\n",
       "    <tr>\n",
       "      <td>13</td>\n",
       "      <td>0.081952</td>\n",
       "      <td>0.145392</td>\n",
       "      <td>0.897032</td>\n",
       "      <td>00:32</td>\n",
       "    </tr>\n",
       "    <tr>\n",
       "      <td>14</td>\n",
       "      <td>0.076695</td>\n",
       "      <td>0.143671</td>\n",
       "      <td>0.899814</td>\n",
       "      <td>00:25</td>\n",
       "    </tr>\n",
       "    <tr>\n",
       "      <td>15</td>\n",
       "      <td>0.072672</td>\n",
       "      <td>0.143500</td>\n",
       "      <td>0.900742</td>\n",
       "      <td>00:34</td>\n",
       "    </tr>\n",
       "    <tr>\n",
       "      <td>16</td>\n",
       "      <td>0.071798</td>\n",
       "      <td>0.135864</td>\n",
       "      <td>0.899351</td>\n",
       "      <td>00:25</td>\n",
       "    </tr>\n",
       "    <tr>\n",
       "      <td>17</td>\n",
       "      <td>0.074619</td>\n",
       "      <td>0.145037</td>\n",
       "      <td>0.898887</td>\n",
       "      <td>00:34</td>\n",
       "    </tr>\n",
       "    <tr>\n",
       "      <td>18</td>\n",
       "      <td>0.068390</td>\n",
       "      <td>0.144661</td>\n",
       "      <td>0.898887</td>\n",
       "      <td>00:25</td>\n",
       "    </tr>\n",
       "    <tr>\n",
       "      <td>19</td>\n",
       "      <td>0.068132</td>\n",
       "      <td>0.149331</td>\n",
       "      <td>0.900742</td>\n",
       "      <td>00:25</td>\n",
       "    </tr>\n",
       "  </tbody>\n",
       "</table>"
      ],
      "text/plain": [
       "<IPython.core.display.HTML object>"
      ]
     },
     "metadata": {},
     "output_type": "display_data"
    },
    {
     "name": "stdout",
     "output_type": "stream",
     "text": [
      "Better model found at epoch 0 with valid_loss value: 0.23341962695121765.\n",
      "Better model found at epoch 1 with valid_loss value: 0.2183309644460678.\n",
      "Better model found at epoch 2 with valid_loss value: 0.2007676661014557.\n",
      "Better model found at epoch 3 with valid_loss value: 0.1833803504705429.\n",
      "Better model found at epoch 6 with valid_loss value: 0.1579434722661972.\n",
      "Better model found at epoch 8 with valid_loss value: 0.1569373905658722.\n",
      "Better model found at epoch 10 with valid_loss value: 0.15156319737434387.\n",
      "Better model found at epoch 11 with valid_loss value: 0.14490287005901337.\n",
      "Better model found at epoch 12 with valid_loss value: 0.14347891509532928.\n",
      "Better model found at epoch 16 with valid_loss value: 0.1358635425567627.\n"
     ]
    },
    {
     "data": {
      "text/html": [
       "<pre style=\"white-space:pre;overflow-x:auto;line-height:normal;font-family:Menlo,'DejaVu Sans Mono',consolas,'Courier New',monospace\"><span style=\"color: #7fbfbf; text-decoration-color: #7fbfbf\">[16:56:29] </span><span style=\"color: #000080; text-decoration-color: #000080\">INFO    </span> Predictions saved to                                                                           \n",
       "<span style=\"color: #7fbfbf; text-decoration-color: #7fbfbf\">           </span>         <span style=\"color: #008000; text-decoration-color: #008000\">/mnt/d/Declich/GitHub/UMD/projects/trained_models/ABMIL-I3LUNG-AD-noqc-nostainnorm/00004-uni/pr</span>\n",
       "<span style=\"color: #7fbfbf; text-decoration-color: #7fbfbf\">           </span>         <span style=\"color: #008000; text-decoration-color: #008000\">edictions.parquet</span>                                                                              \n",
       "</pre>\n"
      ],
      "text/plain": [
       "\u001b[2;36m[16:56:29]\u001b[0m\u001b[2;36m \u001b[0m\u001b[34mINFO    \u001b[0m Predictions saved to                                                                           \n",
       "\u001b[2;36m           \u001b[0m         \u001b[32m/mnt/d/Declich/GitHub/UMD/projects/trained_models/ABMIL-I3LUNG-AD-noqc-nostainnorm/00004-uni/pr\u001b[0m\n",
       "\u001b[2;36m           \u001b[0m         \u001b[32medictions.parquet\u001b[0m                                                                              \n"
      ]
     },
     "metadata": {},
     "output_type": "display_data"
    },
    {
     "data": {
      "text/html": [
       "<pre style=\"white-space:pre;overflow-x:auto;line-height:normal;font-family:Menlo,'DejaVu Sans Mono',consolas,'Courier New',monospace\"><span style=\"color: #7fbfbf; text-decoration-color: #7fbfbf\">           </span><span style=\"color: #000080; text-decoration-color: #000080\">INFO    </span> Validation metrics for outcome <span style=\"color: #008000; text-decoration-color: #008000\">HISTOLOGY</span>:                                                      \n",
       "</pre>\n"
      ],
      "text/plain": [
       "\u001b[2;36m          \u001b[0m\u001b[2;36m \u001b[0m\u001b[34mINFO    \u001b[0m Validation metrics for outcome \u001b[32mHISTOLOGY\u001b[0m:                                                      \n"
      ]
     },
     "metadata": {},
     "output_type": "display_data"
    },
    {
     "data": {
      "text/html": [
       "<pre style=\"white-space:pre;overflow-x:auto;line-height:normal;font-family:Menlo,'DejaVu Sans Mono',consolas,'Courier New',monospace\"><span style=\"color: #7fbfbf; text-decoration-color: #7fbfbf\">           </span><span style=\"color: #000080; text-decoration-color: #000080\">INFO    </span> slide-level AUC (cat # 0): 0.899 AP: 0.964 (opt. threshold: 0.275)                             \n",
       "</pre>\n"
      ],
      "text/plain": [
       "\u001b[2;36m          \u001b[0m\u001b[2;36m \u001b[0m\u001b[34mINFO    \u001b[0m slide-level AUC (cat # 0): 0.899 AP: 0.964 (opt. threshold: 0.275)                             \n"
      ]
     },
     "metadata": {},
     "output_type": "display_data"
    },
    {
     "data": {
      "text/html": [
       "<pre style=\"white-space:pre;overflow-x:auto;line-height:normal;font-family:Menlo,'DejaVu Sans Mono',consolas,'Courier New',monospace\"><span style=\"color: #7fbfbf; text-decoration-color: #7fbfbf\">           </span><span style=\"color: #000080; text-decoration-color: #000080\">INFO    </span> slide-level AUC (cat # 1): 0.899 AP: 0.763 (opt. threshold: 0.741)                             \n",
       "</pre>\n"
      ],
      "text/plain": [
       "\u001b[2;36m          \u001b[0m\u001b[2;36m \u001b[0m\u001b[34mINFO    \u001b[0m slide-level AUC (cat # 1): 0.899 AP: 0.763 (opt. threshold: 0.741)                             \n"
      ]
     },
     "metadata": {},
     "output_type": "display_data"
    },
    {
     "data": {
      "text/html": [
       "<pre style=\"white-space:pre;overflow-x:auto;line-height:normal;font-family:Menlo,'DejaVu Sans Mono',consolas,'Courier New',monospace\"><span style=\"color: #7fbfbf; text-decoration-color: #7fbfbf\">           </span><span style=\"color: #000080; text-decoration-color: #000080\">INFO    </span> Category 0 acc: 81.6% (80/98)                                                                  \n",
       "</pre>\n"
      ],
      "text/plain": [
       "\u001b[2;36m          \u001b[0m\u001b[2;36m \u001b[0m\u001b[34mINFO    \u001b[0m Category 0 acc: 81.6% (80/98)                                                                  \n"
      ]
     },
     "metadata": {},
     "output_type": "display_data"
    },
    {
     "data": {
      "text/html": [
       "<pre style=\"white-space:pre;overflow-x:auto;line-height:normal;font-family:Menlo,'DejaVu Sans Mono',consolas,'Courier New',monospace\"><span style=\"color: #7fbfbf; text-decoration-color: #7fbfbf\">           </span><span style=\"color: #000080; text-decoration-color: #000080\">INFO    </span> Category 1 acc: 86.4% (19/22)                                                                  \n",
       "</pre>\n"
      ],
      "text/plain": [
       "\u001b[2;36m          \u001b[0m\u001b[2;36m \u001b[0m\u001b[34mINFO    \u001b[0m Category 1 acc: 86.4% (19/22)                                                                  \n"
      ]
     },
     "metadata": {},
     "output_type": "display_data"
    },
    {
     "data": {
      "text/html": [
       "<pre style=\"white-space:pre;overflow-x:auto;line-height:normal;font-family:Menlo,'DejaVu Sans Mono',consolas,'Courier New',monospace\"><span style=\"color: #7fbfbf; text-decoration-color: #7fbfbf\">[16:56:31] </span><span style=\"color: #000080; text-decoration-color: #000080\">INFO    </span> Attention scores exported to                                                                   \n",
       "<span style=\"color: #7fbfbf; text-decoration-color: #7fbfbf\">           </span>         <span style=\"color: #008000; text-decoration-color: #008000\">/mnt/d/Declich/GitHub/UMD/projects/trained_models/ABMIL-I3LUNG-AD-noqc-nostainnorm/00004-uni/at</span>\n",
       "<span style=\"color: #7fbfbf; text-decoration-color: #7fbfbf\">           </span>         <span style=\"color: #008000; text-decoration-color: #008000\">tention/DIG_PAT_1725901192_att.npz</span>                                                             \n",
       "</pre>\n"
      ],
      "text/plain": [
       "\u001b[2;36m[16:56:31]\u001b[0m\u001b[2;36m \u001b[0m\u001b[34mINFO    \u001b[0m Attention scores exported to                                                                   \n",
       "\u001b[2;36m           \u001b[0m         \u001b[32m/mnt/d/Declich/GitHub/UMD/projects/trained_models/ABMIL-I3LUNG-AD-noqc-nostainnorm/00004-uni/at\u001b[0m\n",
       "\u001b[2;36m           \u001b[0m         \u001b[32mtention/DIG_PAT_1725901192_att.npz\u001b[0m                                                             \n"
      ]
     },
     "metadata": {},
     "output_type": "display_data"
    },
    {
     "name": "stdout",
     "output_type": "stream",
     "text": [
      "Random seed set to: 52812556\n"
     ]
    },
    {
     "data": {
      "text/html": [
       "<pre style=\"white-space:pre;overflow-x:auto;line-height:normal;font-family:Menlo,'DejaVu Sans Mono',consolas,'Courier New',monospace\"><span style=\"color: #7fbfbf; text-decoration-color: #7fbfbf\">           </span><span style=\"color: #808000; text-decoration-color: #808000\">WARNING </span> <span style=\"color: #808000; text-decoration-color: #808000\">297 slides missing tfrecords, skipping</span>                                                         \n",
       "</pre>\n"
      ],
      "text/plain": [
       "\u001b[2;36m          \u001b[0m\u001b[2;36m \u001b[0m\u001b[33mWARNING \u001b[0m \u001b[33m297 slides missing tfrecords, skipping\u001b[0m                                                         \n"
      ]
     },
     "metadata": {},
     "output_type": "display_data"
    },
    {
     "data": {
      "text/html": [
       "<pre style=\"white-space:pre;overflow-x:auto;line-height:normal;font-family:Menlo,'DejaVu Sans Mono',consolas,'Courier New',monospace\"><span style=\"color: #7fbfbf; text-decoration-color: #7fbfbf\">           </span><span style=\"color: #000080; text-decoration-color: #000080\">INFO    </span> No training/validation splits file provided.                                                   \n",
       "</pre>\n"
      ],
      "text/plain": [
       "\u001b[2;36m          \u001b[0m\u001b[2;36m \u001b[0m\u001b[34mINFO    \u001b[0m No training/validation splits file provided.                                                   \n"
      ]
     },
     "metadata": {},
     "output_type": "display_data"
    },
    {
     "data": {
      "text/html": [
       "<pre style=\"white-space:pre;overflow-x:auto;line-height:normal;font-family:Menlo,'DejaVu Sans Mono',consolas,'Courier New',monospace\"><span style=\"color: #7fbfbf; text-decoration-color: #7fbfbf\">           </span><span style=\"color: #000080; text-decoration-color: #000080\">INFO    </span> Unable to save or load validation splits.                                                      \n",
       "</pre>\n"
      ],
      "text/plain": [
       "\u001b[2;36m          \u001b[0m\u001b[2;36m \u001b[0m\u001b[34mINFO    \u001b[0m Unable to save or load validation splits.                                                      \n"
      ]
     },
     "metadata": {},
     "output_type": "display_data"
    },
    {
     "data": {
      "text/html": [
       "<pre style=\"white-space:pre;overflow-x:auto;line-height:normal;font-family:Menlo,'DejaVu Sans Mono',consolas,'Courier New',monospace\"><span style=\"color: #7fbfbf; text-decoration-color: #7fbfbf\">           </span><span style=\"color: #000080; text-decoration-color: #000080\">INFO    </span> Training FastAI MIL model with config:                                                         \n",
       "</pre>\n"
      ],
      "text/plain": [
       "\u001b[2;36m          \u001b[0m\u001b[2;36m \u001b[0m\u001b[34mINFO    \u001b[0m Training FastAI MIL model with config:                                                         \n"
      ]
     },
     "metadata": {},
     "output_type": "display_data"
    },
    {
     "data": {
      "text/html": [
       "<pre style=\"white-space:pre;overflow-x:auto;line-height:normal;font-family:Menlo,'DejaVu Sans Mono',consolas,'Courier New',monospace\"><span style=\"color: #7fbfbf; text-decoration-color: #7fbfbf\">           </span><span style=\"color: #000080; text-decoration-color: #000080\">INFO    </span> TrainerConfig(                                                                                 \n",
       "<span style=\"color: #7fbfbf; text-decoration-color: #7fbfbf\">           </span>           lr=0.0001                                                                                    \n",
       "<span style=\"color: #7fbfbf; text-decoration-color: #7fbfbf\">           </span>           wd=1e-05                                                                                     \n",
       "<span style=\"color: #7fbfbf; text-decoration-color: #7fbfbf\">           </span>           bag_size=1024                                                                                \n",
       "<span style=\"color: #7fbfbf; text-decoration-color: #7fbfbf\">           </span>           max_val_bag_size=None                                                                        \n",
       "<span style=\"color: #7fbfbf; text-decoration-color: #7fbfbf\">           </span>           fit_one_cycle=True                                                                           \n",
       "<span style=\"color: #7fbfbf; text-decoration-color: #7fbfbf\">           </span>           epochs=20                                                                                    \n",
       "<span style=\"color: #7fbfbf; text-decoration-color: #7fbfbf\">           </span>           batch_size=16                                                                                \n",
       "<span style=\"color: #7fbfbf; text-decoration-color: #7fbfbf\">           </span>           drop_last=True                                                                               \n",
       "<span style=\"color: #7fbfbf; text-decoration-color: #7fbfbf\">           </span>           save_monitor='valid_loss'                                                                    \n",
       "<span style=\"color: #7fbfbf; text-decoration-color: #7fbfbf\">           </span>           weighted_loss=True                                                                           \n",
       "<span style=\"color: #7fbfbf; text-decoration-color: #7fbfbf\">           </span>           model='attention_mil'                                                                        \n",
       "<span style=\"color: #7fbfbf; text-decoration-color: #7fbfbf\">           </span>           model_kwargs=None                                                                            \n",
       "<span style=\"color: #7fbfbf; text-decoration-color: #7fbfbf\">           </span>           loss='cross_entropy'                                                                         \n",
       "<span style=\"color: #7fbfbf; text-decoration-color: #7fbfbf\">           </span>           use_lens=True                                                                                \n",
       "<span style=\"color: #7fbfbf; text-decoration-color: #7fbfbf\">           </span>         )                                                                                              \n",
       "</pre>\n"
      ],
      "text/plain": [
       "\u001b[2;36m          \u001b[0m\u001b[2;36m \u001b[0m\u001b[34mINFO    \u001b[0m TrainerConfig(                                                                                 \n",
       "\u001b[2;36m           \u001b[0m           lr=0.0001                                                                                    \n",
       "\u001b[2;36m           \u001b[0m           wd=1e-05                                                                                     \n",
       "\u001b[2;36m           \u001b[0m           bag_size=1024                                                                                \n",
       "\u001b[2;36m           \u001b[0m           max_val_bag_size=None                                                                        \n",
       "\u001b[2;36m           \u001b[0m           fit_one_cycle=True                                                                           \n",
       "\u001b[2;36m           \u001b[0m           epochs=20                                                                                    \n",
       "\u001b[2;36m           \u001b[0m           batch_size=16                                                                                \n",
       "\u001b[2;36m           \u001b[0m           drop_last=True                                                                               \n",
       "\u001b[2;36m           \u001b[0m           save_monitor='valid_loss'                                                                    \n",
       "\u001b[2;36m           \u001b[0m           weighted_loss=True                                                                           \n",
       "\u001b[2;36m           \u001b[0m           model='attention_mil'                                                                        \n",
       "\u001b[2;36m           \u001b[0m           model_kwargs=None                                                                            \n",
       "\u001b[2;36m           \u001b[0m           loss='cross_entropy'                                                                         \n",
       "\u001b[2;36m           \u001b[0m           use_lens=True                                                                                \n",
       "\u001b[2;36m           \u001b[0m         )                                                                                              \n"
      ]
     },
     "metadata": {},
     "output_type": "display_data"
    },
    {
     "data": {
      "text/html": [
       "<pre style=\"white-space:pre;overflow-x:auto;line-height:normal;font-family:Menlo,'DejaVu Sans Mono',consolas,'Courier New',monospace\"><span style=\"color: #7fbfbf; text-decoration-color: #7fbfbf\">           </span><span style=\"color: #000080; text-decoration-color: #000080\">INFO    </span> Training dataset: 495 merged bags (from 495 possible slides)                                   \n",
       "</pre>\n"
      ],
      "text/plain": [
       "\u001b[2;36m          \u001b[0m\u001b[2;36m \u001b[0m\u001b[34mINFO    \u001b[0m Training dataset: 495 merged bags (from 495 possible slides)                                   \n"
      ]
     },
     "metadata": {},
     "output_type": "display_data"
    },
    {
     "data": {
      "text/html": [
       "<pre style=\"white-space:pre;overflow-x:auto;line-height:normal;font-family:Menlo,'DejaVu Sans Mono',consolas,'Courier New',monospace\"><span style=\"color: #7fbfbf; text-decoration-color: #7fbfbf\">           </span><span style=\"color: #000080; text-decoration-color: #000080\">INFO    </span> Validation dataset: 123 merged bags (from 123 possible slides)                                 \n",
       "</pre>\n"
      ],
      "text/plain": [
       "\u001b[2;36m          \u001b[0m\u001b[2;36m \u001b[0m\u001b[34mINFO    \u001b[0m Validation dataset: 123 merged bags (from 123 possible slides)                                 \n"
      ]
     },
     "metadata": {},
     "output_type": "display_data"
    },
    {
     "data": {
      "text/html": [
       "<pre style=\"white-space:pre;overflow-x:auto;line-height:normal;font-family:Menlo,'DejaVu Sans Mono',consolas,'Courier New',monospace\"><span style=\"color: #7fbfbf; text-decoration-color: #7fbfbf\">[16:56:33] </span><span style=\"color: #000080; text-decoration-color: #000080\">INFO    </span> Building model <span style=\"font-weight: bold\">Attention_MIL</span> (n_in=1024, n_out=2)                                              \n",
       "</pre>\n"
      ],
      "text/plain": [
       "\u001b[2;36m[16:56:33]\u001b[0m\u001b[2;36m \u001b[0m\u001b[34mINFO    \u001b[0m Building model \u001b[1mAttention_MIL\u001b[0m (n_in=1024, n_out=2)                                              \n"
      ]
     },
     "metadata": {},
     "output_type": "display_data"
    },
    {
     "data": {
      "text/html": [
       "\n",
       "<style>\n",
       "    /* Turns off some styling */\n",
       "    progress {\n",
       "        /* gets rid of default border in Firefox and Opera. */\n",
       "        border: none;\n",
       "        /* Needs to be in here for Safari polyfill so background images work as expected. */\n",
       "        background-size: auto;\n",
       "    }\n",
       "    progress:not([value]), progress:not([value])::-webkit-progress-bar {\n",
       "        background: repeating-linear-gradient(45deg, #7e7e7e, #7e7e7e 10px, #5c5c5c 10px, #5c5c5c 20px);\n",
       "    }\n",
       "    .progress-bar-interrupted, .progress-bar-interrupted::-webkit-progress-bar {\n",
       "        background: #F44336;\n",
       "    }\n",
       "</style>\n"
      ],
      "text/plain": [
       "<IPython.core.display.HTML object>"
      ]
     },
     "metadata": {},
     "output_type": "display_data"
    },
    {
     "data": {
      "text/html": [
       "<table border=\"1\" class=\"dataframe\">\n",
       "  <thead>\n",
       "    <tr style=\"text-align: left;\">\n",
       "      <th>epoch</th>\n",
       "      <th>train_loss</th>\n",
       "      <th>valid_loss</th>\n",
       "      <th>roc_auc_score</th>\n",
       "      <th>time</th>\n",
       "    </tr>\n",
       "  </thead>\n",
       "  <tbody>\n",
       "    <tr>\n",
       "      <td>0</td>\n",
       "      <td>0.291119</td>\n",
       "      <td>0.213075</td>\n",
       "      <td>0.664815</td>\n",
       "      <td>00:29</td>\n",
       "    </tr>\n",
       "    <tr>\n",
       "      <td>1</td>\n",
       "      <td>0.284948</td>\n",
       "      <td>0.217064</td>\n",
       "      <td>0.734568</td>\n",
       "      <td>00:35</td>\n",
       "    </tr>\n",
       "    <tr>\n",
       "      <td>2</td>\n",
       "      <td>0.257786</td>\n",
       "      <td>0.195472</td>\n",
       "      <td>0.817284</td>\n",
       "      <td>00:35</td>\n",
       "    </tr>\n",
       "    <tr>\n",
       "      <td>3</td>\n",
       "      <td>0.227680</td>\n",
       "      <td>0.178647</td>\n",
       "      <td>0.800617</td>\n",
       "      <td>00:27</td>\n",
       "    </tr>\n",
       "    <tr>\n",
       "      <td>4</td>\n",
       "      <td>0.199332</td>\n",
       "      <td>0.182008</td>\n",
       "      <td>0.832099</td>\n",
       "      <td>00:25</td>\n",
       "    </tr>\n",
       "    <tr>\n",
       "      <td>5</td>\n",
       "      <td>0.178955</td>\n",
       "      <td>0.159203</td>\n",
       "      <td>0.860494</td>\n",
       "      <td>00:25</td>\n",
       "    </tr>\n",
       "    <tr>\n",
       "      <td>6</td>\n",
       "      <td>0.157003</td>\n",
       "      <td>0.147118</td>\n",
       "      <td>0.841975</td>\n",
       "      <td>00:35</td>\n",
       "    </tr>\n",
       "    <tr>\n",
       "      <td>7</td>\n",
       "      <td>0.138121</td>\n",
       "      <td>0.154826</td>\n",
       "      <td>0.853704</td>\n",
       "      <td>00:34</td>\n",
       "    </tr>\n",
       "    <tr>\n",
       "      <td>8</td>\n",
       "      <td>0.119235</td>\n",
       "      <td>0.136956</td>\n",
       "      <td>0.862346</td>\n",
       "      <td>00:30</td>\n",
       "    </tr>\n",
       "    <tr>\n",
       "      <td>9</td>\n",
       "      <td>0.113943</td>\n",
       "      <td>0.146681</td>\n",
       "      <td>0.873457</td>\n",
       "      <td>00:34</td>\n",
       "    </tr>\n",
       "    <tr>\n",
       "      <td>10</td>\n",
       "      <td>0.104558</td>\n",
       "      <td>0.139926</td>\n",
       "      <td>0.883333</td>\n",
       "      <td>00:27</td>\n",
       "    </tr>\n",
       "    <tr>\n",
       "      <td>11</td>\n",
       "      <td>0.096860</td>\n",
       "      <td>0.131167</td>\n",
       "      <td>0.882716</td>\n",
       "      <td>00:34</td>\n",
       "    </tr>\n",
       "    <tr>\n",
       "      <td>12</td>\n",
       "      <td>0.092031</td>\n",
       "      <td>0.136631</td>\n",
       "      <td>0.880247</td>\n",
       "      <td>00:25</td>\n",
       "    </tr>\n",
       "    <tr>\n",
       "      <td>13</td>\n",
       "      <td>0.081479</td>\n",
       "      <td>0.123676</td>\n",
       "      <td>0.884568</td>\n",
       "      <td>00:40</td>\n",
       "    </tr>\n",
       "    <tr>\n",
       "      <td>14</td>\n",
       "      <td>0.080609</td>\n",
       "      <td>0.133437</td>\n",
       "      <td>0.879630</td>\n",
       "      <td>00:36</td>\n",
       "    </tr>\n",
       "    <tr>\n",
       "      <td>15</td>\n",
       "      <td>0.078185</td>\n",
       "      <td>0.125325</td>\n",
       "      <td>0.878395</td>\n",
       "      <td>00:34</td>\n",
       "    </tr>\n",
       "    <tr>\n",
       "      <td>16</td>\n",
       "      <td>0.076444</td>\n",
       "      <td>0.128221</td>\n",
       "      <td>0.878395</td>\n",
       "      <td>00:32</td>\n",
       "    </tr>\n",
       "    <tr>\n",
       "      <td>17</td>\n",
       "      <td>0.073803</td>\n",
       "      <td>0.117222</td>\n",
       "      <td>0.879012</td>\n",
       "      <td>00:30</td>\n",
       "    </tr>\n",
       "    <tr>\n",
       "      <td>18</td>\n",
       "      <td>0.072690</td>\n",
       "      <td>0.126394</td>\n",
       "      <td>0.875309</td>\n",
       "      <td>00:33</td>\n",
       "    </tr>\n",
       "    <tr>\n",
       "      <td>19</td>\n",
       "      <td>0.067482</td>\n",
       "      <td>0.124671</td>\n",
       "      <td>0.880247</td>\n",
       "      <td>00:25</td>\n",
       "    </tr>\n",
       "  </tbody>\n",
       "</table>"
      ],
      "text/plain": [
       "<IPython.core.display.HTML object>"
      ]
     },
     "metadata": {},
     "output_type": "display_data"
    },
    {
     "name": "stdout",
     "output_type": "stream",
     "text": [
      "Better model found at epoch 0 with valid_loss value: 0.21307474374771118.\n",
      "Better model found at epoch 2 with valid_loss value: 0.19547154009342194.\n",
      "Better model found at epoch 3 with valid_loss value: 0.17864666879177094.\n",
      "Better model found at epoch 5 with valid_loss value: 0.15920262038707733.\n",
      "Better model found at epoch 6 with valid_loss value: 0.14711825549602509.\n",
      "Better model found at epoch 8 with valid_loss value: 0.13695627450942993.\n",
      "Better model found at epoch 11 with valid_loss value: 0.13116680085659027.\n",
      "Better model found at epoch 13 with valid_loss value: 0.12367638200521469.\n",
      "Better model found at epoch 17 with valid_loss value: 0.1172216385602951.\n"
     ]
    },
    {
     "data": {
      "text/html": [
       "<pre style=\"white-space:pre;overflow-x:auto;line-height:normal;font-family:Menlo,'DejaVu Sans Mono',consolas,'Courier New',monospace\"><span style=\"color: #7fbfbf; text-decoration-color: #7fbfbf\">[17:07:14] </span><span style=\"color: #000080; text-decoration-color: #000080\">INFO    </span> Predictions saved to                                                                           \n",
       "<span style=\"color: #7fbfbf; text-decoration-color: #7fbfbf\">           </span>         <span style=\"color: #008000; text-decoration-color: #008000\">/mnt/d/Declich/GitHub/UMD/projects/trained_models/ABMIL-I3LUNG-AD-noqc-nostainnorm/00005-uni/pr</span>\n",
       "<span style=\"color: #7fbfbf; text-decoration-color: #7fbfbf\">           </span>         <span style=\"color: #008000; text-decoration-color: #008000\">edictions.parquet</span>                                                                              \n",
       "</pre>\n"
      ],
      "text/plain": [
       "\u001b[2;36m[17:07:14]\u001b[0m\u001b[2;36m \u001b[0m\u001b[34mINFO    \u001b[0m Predictions saved to                                                                           \n",
       "\u001b[2;36m           \u001b[0m         \u001b[32m/mnt/d/Declich/GitHub/UMD/projects/trained_models/ABMIL-I3LUNG-AD-noqc-nostainnorm/00005-uni/pr\u001b[0m\n",
       "\u001b[2;36m           \u001b[0m         \u001b[32medictions.parquet\u001b[0m                                                                              \n"
      ]
     },
     "metadata": {},
     "output_type": "display_data"
    },
    {
     "data": {
      "text/html": [
       "<pre style=\"white-space:pre;overflow-x:auto;line-height:normal;font-family:Menlo,'DejaVu Sans Mono',consolas,'Courier New',monospace\"><span style=\"color: #7fbfbf; text-decoration-color: #7fbfbf\">           </span><span style=\"color: #000080; text-decoration-color: #000080\">INFO    </span> Validation metrics for outcome <span style=\"color: #008000; text-decoration-color: #008000\">HISTOLOGY</span>:                                                      \n",
       "</pre>\n"
      ],
      "text/plain": [
       "\u001b[2;36m          \u001b[0m\u001b[2;36m \u001b[0m\u001b[34mINFO    \u001b[0m Validation metrics for outcome \u001b[32mHISTOLOGY\u001b[0m:                                                      \n"
      ]
     },
     "metadata": {},
     "output_type": "display_data"
    },
    {
     "data": {
      "text/html": [
       "<pre style=\"white-space:pre;overflow-x:auto;line-height:normal;font-family:Menlo,'DejaVu Sans Mono',consolas,'Courier New',monospace\"><span style=\"color: #7fbfbf; text-decoration-color: #7fbfbf\">           </span><span style=\"color: #000080; text-decoration-color: #000080\">INFO    </span> slide-level AUC (cat # 0): 0.879 AP: 0.973 (opt. threshold: 0.594)                             \n",
       "</pre>\n"
      ],
      "text/plain": [
       "\u001b[2;36m          \u001b[0m\u001b[2;36m \u001b[0m\u001b[34mINFO    \u001b[0m slide-level AUC (cat # 0): 0.879 AP: 0.973 (opt. threshold: 0.594)                             \n"
      ]
     },
     "metadata": {},
     "output_type": "display_data"
    },
    {
     "data": {
      "text/html": [
       "<pre style=\"white-space:pre;overflow-x:auto;line-height:normal;font-family:Menlo,'DejaVu Sans Mono',consolas,'Courier New',monospace\"><span style=\"color: #7fbfbf; text-decoration-color: #7fbfbf\">[17:07:15] </span><span style=\"color: #000080; text-decoration-color: #000080\">INFO    </span> slide-level AUC (cat # 1): 0.879 AP: 0.714 (opt. threshold: 0.409)                             \n",
       "</pre>\n"
      ],
      "text/plain": [
       "\u001b[2;36m[17:07:15]\u001b[0m\u001b[2;36m \u001b[0m\u001b[34mINFO    \u001b[0m slide-level AUC (cat # 1): 0.879 AP: 0.714 (opt. threshold: 0.409)                             \n"
      ]
     },
     "metadata": {},
     "output_type": "display_data"
    },
    {
     "data": {
      "text/html": [
       "<pre style=\"white-space:pre;overflow-x:auto;line-height:normal;font-family:Menlo,'DejaVu Sans Mono',consolas,'Courier New',monospace\"><span style=\"color: #7fbfbf; text-decoration-color: #7fbfbf\">           </span><span style=\"color: #000080; text-decoration-color: #000080\">INFO    </span> Category 0 acc: 90.7% (98/108)                                                                 \n",
       "</pre>\n"
      ],
      "text/plain": [
       "\u001b[2;36m          \u001b[0m\u001b[2;36m \u001b[0m\u001b[34mINFO    \u001b[0m Category 0 acc: 90.7% (98/108)                                                                 \n"
      ]
     },
     "metadata": {},
     "output_type": "display_data"
    },
    {
     "data": {
      "text/html": [
       "<pre style=\"white-space:pre;overflow-x:auto;line-height:normal;font-family:Menlo,'DejaVu Sans Mono',consolas,'Courier New',monospace\"><span style=\"color: #7fbfbf; text-decoration-color: #7fbfbf\">           </span><span style=\"color: #000080; text-decoration-color: #000080\">INFO    </span> Category 1 acc: 66.7% (10/15)                                                                  \n",
       "</pre>\n"
      ],
      "text/plain": [
       "\u001b[2;36m          \u001b[0m\u001b[2;36m \u001b[0m\u001b[34mINFO    \u001b[0m Category 1 acc: 66.7% (10/15)                                                                  \n"
      ]
     },
     "metadata": {},
     "output_type": "display_data"
    },
    {
     "data": {
      "text/html": [
       "<pre style=\"white-space:pre;overflow-x:auto;line-height:normal;font-family:Menlo,'DejaVu Sans Mono',consolas,'Courier New',monospace\"><span style=\"color: #7fbfbf; text-decoration-color: #7fbfbf\">           </span><span style=\"color: #000080; text-decoration-color: #000080\">INFO    </span> Attention scores exported to                                                                   \n",
       "<span style=\"color: #7fbfbf; text-decoration-color: #7fbfbf\">           </span>         <span style=\"color: #008000; text-decoration-color: #008000\">/mnt/d/Declich/GitHub/UMD/projects/trained_models/ABMIL-I3LUNG-AD-noqc-nostainnorm/00005-uni/at</span>\n",
       "<span style=\"color: #7fbfbf; text-decoration-color: #7fbfbf\">           </span>         <span style=\"color: #008000; text-decoration-color: #008000\">tention/DIG_PAT_1725901955_att.npz</span>                                                             \n",
       "</pre>\n"
      ],
      "text/plain": [
       "\u001b[2;36m          \u001b[0m\u001b[2;36m \u001b[0m\u001b[34mINFO    \u001b[0m Attention scores exported to                                                                   \n",
       "\u001b[2;36m           \u001b[0m         \u001b[32m/mnt/d/Declich/GitHub/UMD/projects/trained_models/ABMIL-I3LUNG-AD-noqc-nostainnorm/00005-uni/at\u001b[0m\n",
       "\u001b[2;36m           \u001b[0m         \u001b[32mtention/DIG_PAT_1725901955_att.npz\u001b[0m                                                             \n"
      ]
     },
     "metadata": {},
     "output_type": "display_data"
    },
    {
     "name": "stdout",
     "output_type": "stream",
     "text": [
      "Random seed set to: 65768388\n"
     ]
    },
    {
     "data": {
      "text/html": [
       "<pre style=\"white-space:pre;overflow-x:auto;line-height:normal;font-family:Menlo,'DejaVu Sans Mono',consolas,'Courier New',monospace\"><span style=\"color: #7fbfbf; text-decoration-color: #7fbfbf\">           </span><span style=\"color: #808000; text-decoration-color: #808000\">WARNING </span> <span style=\"color: #808000; text-decoration-color: #808000\">297 slides missing tfrecords, skipping</span>                                                         \n",
       "</pre>\n"
      ],
      "text/plain": [
       "\u001b[2;36m          \u001b[0m\u001b[2;36m \u001b[0m\u001b[33mWARNING \u001b[0m \u001b[33m297 slides missing tfrecords, skipping\u001b[0m                                                         \n"
      ]
     },
     "metadata": {},
     "output_type": "display_data"
    },
    {
     "data": {
      "text/html": [
       "<pre style=\"white-space:pre;overflow-x:auto;line-height:normal;font-family:Menlo,'DejaVu Sans Mono',consolas,'Courier New',monospace\"><span style=\"color: #7fbfbf; text-decoration-color: #7fbfbf\">           </span><span style=\"color: #000080; text-decoration-color: #000080\">INFO    </span> No training/validation splits file provided.                                                   \n",
       "</pre>\n"
      ],
      "text/plain": [
       "\u001b[2;36m          \u001b[0m\u001b[2;36m \u001b[0m\u001b[34mINFO    \u001b[0m No training/validation splits file provided.                                                   \n"
      ]
     },
     "metadata": {},
     "output_type": "display_data"
    },
    {
     "data": {
      "text/html": [
       "<pre style=\"white-space:pre;overflow-x:auto;line-height:normal;font-family:Menlo,'DejaVu Sans Mono',consolas,'Courier New',monospace\"><span style=\"color: #7fbfbf; text-decoration-color: #7fbfbf\">           </span><span style=\"color: #000080; text-decoration-color: #000080\">INFO    </span> Unable to save or load validation splits.                                                      \n",
       "</pre>\n"
      ],
      "text/plain": [
       "\u001b[2;36m          \u001b[0m\u001b[2;36m \u001b[0m\u001b[34mINFO    \u001b[0m Unable to save or load validation splits.                                                      \n"
      ]
     },
     "metadata": {},
     "output_type": "display_data"
    },
    {
     "data": {
      "text/html": [
       "<pre style=\"white-space:pre;overflow-x:auto;line-height:normal;font-family:Menlo,'DejaVu Sans Mono',consolas,'Courier New',monospace\"><span style=\"color: #7fbfbf; text-decoration-color: #7fbfbf\">           </span><span style=\"color: #000080; text-decoration-color: #000080\">INFO    </span> Training FastAI MIL model with config:                                                         \n",
       "</pre>\n"
      ],
      "text/plain": [
       "\u001b[2;36m          \u001b[0m\u001b[2;36m \u001b[0m\u001b[34mINFO    \u001b[0m Training FastAI MIL model with config:                                                         \n"
      ]
     },
     "metadata": {},
     "output_type": "display_data"
    },
    {
     "data": {
      "text/html": [
       "<pre style=\"white-space:pre;overflow-x:auto;line-height:normal;font-family:Menlo,'DejaVu Sans Mono',consolas,'Courier New',monospace\"><span style=\"color: #7fbfbf; text-decoration-color: #7fbfbf\">           </span><span style=\"color: #000080; text-decoration-color: #000080\">INFO    </span> TrainerConfig(                                                                                 \n",
       "<span style=\"color: #7fbfbf; text-decoration-color: #7fbfbf\">           </span>           lr=0.0001                                                                                    \n",
       "<span style=\"color: #7fbfbf; text-decoration-color: #7fbfbf\">           </span>           wd=1e-05                                                                                     \n",
       "<span style=\"color: #7fbfbf; text-decoration-color: #7fbfbf\">           </span>           bag_size=1024                                                                                \n",
       "<span style=\"color: #7fbfbf; text-decoration-color: #7fbfbf\">           </span>           max_val_bag_size=None                                                                        \n",
       "<span style=\"color: #7fbfbf; text-decoration-color: #7fbfbf\">           </span>           fit_one_cycle=True                                                                           \n",
       "<span style=\"color: #7fbfbf; text-decoration-color: #7fbfbf\">           </span>           epochs=20                                                                                    \n",
       "<span style=\"color: #7fbfbf; text-decoration-color: #7fbfbf\">           </span>           batch_size=16                                                                                \n",
       "<span style=\"color: #7fbfbf; text-decoration-color: #7fbfbf\">           </span>           drop_last=True                                                                               \n",
       "<span style=\"color: #7fbfbf; text-decoration-color: #7fbfbf\">           </span>           save_monitor='valid_loss'                                                                    \n",
       "<span style=\"color: #7fbfbf; text-decoration-color: #7fbfbf\">           </span>           weighted_loss=True                                                                           \n",
       "<span style=\"color: #7fbfbf; text-decoration-color: #7fbfbf\">           </span>           model='attention_mil'                                                                        \n",
       "<span style=\"color: #7fbfbf; text-decoration-color: #7fbfbf\">           </span>           model_kwargs=None                                                                            \n",
       "<span style=\"color: #7fbfbf; text-decoration-color: #7fbfbf\">           </span>           loss='cross_entropy'                                                                         \n",
       "<span style=\"color: #7fbfbf; text-decoration-color: #7fbfbf\">           </span>           use_lens=True                                                                                \n",
       "<span style=\"color: #7fbfbf; text-decoration-color: #7fbfbf\">           </span>         )                                                                                              \n",
       "</pre>\n"
      ],
      "text/plain": [
       "\u001b[2;36m          \u001b[0m\u001b[2;36m \u001b[0m\u001b[34mINFO    \u001b[0m TrainerConfig(                                                                                 \n",
       "\u001b[2;36m           \u001b[0m           lr=0.0001                                                                                    \n",
       "\u001b[2;36m           \u001b[0m           wd=1e-05                                                                                     \n",
       "\u001b[2;36m           \u001b[0m           bag_size=1024                                                                                \n",
       "\u001b[2;36m           \u001b[0m           max_val_bag_size=None                                                                        \n",
       "\u001b[2;36m           \u001b[0m           fit_one_cycle=True                                                                           \n",
       "\u001b[2;36m           \u001b[0m           epochs=20                                                                                    \n",
       "\u001b[2;36m           \u001b[0m           batch_size=16                                                                                \n",
       "\u001b[2;36m           \u001b[0m           drop_last=True                                                                               \n",
       "\u001b[2;36m           \u001b[0m           save_monitor='valid_loss'                                                                    \n",
       "\u001b[2;36m           \u001b[0m           weighted_loss=True                                                                           \n",
       "\u001b[2;36m           \u001b[0m           model='attention_mil'                                                                        \n",
       "\u001b[2;36m           \u001b[0m           model_kwargs=None                                                                            \n",
       "\u001b[2;36m           \u001b[0m           loss='cross_entropy'                                                                         \n",
       "\u001b[2;36m           \u001b[0m           use_lens=True                                                                                \n",
       "\u001b[2;36m           \u001b[0m         )                                                                                              \n"
      ]
     },
     "metadata": {},
     "output_type": "display_data"
    },
    {
     "data": {
      "text/html": [
       "<pre style=\"white-space:pre;overflow-x:auto;line-height:normal;font-family:Menlo,'DejaVu Sans Mono',consolas,'Courier New',monospace\"><span style=\"color: #7fbfbf; text-decoration-color: #7fbfbf\">[17:07:16] </span><span style=\"color: #000080; text-decoration-color: #000080\">INFO    </span> Training dataset: 496 merged bags (from 496 possible slides)                                   \n",
       "</pre>\n"
      ],
      "text/plain": [
       "\u001b[2;36m[17:07:16]\u001b[0m\u001b[2;36m \u001b[0m\u001b[34mINFO    \u001b[0m Training dataset: 496 merged bags (from 496 possible slides)                                   \n"
      ]
     },
     "metadata": {},
     "output_type": "display_data"
    },
    {
     "data": {
      "text/html": [
       "<pre style=\"white-space:pre;overflow-x:auto;line-height:normal;font-family:Menlo,'DejaVu Sans Mono',consolas,'Courier New',monospace\"><span style=\"color: #7fbfbf; text-decoration-color: #7fbfbf\">           </span><span style=\"color: #000080; text-decoration-color: #000080\">INFO    </span> Validation dataset: 122 merged bags (from 122 possible slides)                                 \n",
       "</pre>\n"
      ],
      "text/plain": [
       "\u001b[2;36m          \u001b[0m\u001b[2;36m \u001b[0m\u001b[34mINFO    \u001b[0m Validation dataset: 122 merged bags (from 122 possible slides)                                 \n"
      ]
     },
     "metadata": {},
     "output_type": "display_data"
    },
    {
     "data": {
      "text/html": [
       "<pre style=\"white-space:pre;overflow-x:auto;line-height:normal;font-family:Menlo,'DejaVu Sans Mono',consolas,'Courier New',monospace\"><span style=\"color: #7fbfbf; text-decoration-color: #7fbfbf\">           </span><span style=\"color: #000080; text-decoration-color: #000080\">INFO    </span> Building model <span style=\"font-weight: bold\">Attention_MIL</span> (n_in=1024, n_out=2)                                              \n",
       "</pre>\n"
      ],
      "text/plain": [
       "\u001b[2;36m          \u001b[0m\u001b[2;36m \u001b[0m\u001b[34mINFO    \u001b[0m Building model \u001b[1mAttention_MIL\u001b[0m (n_in=1024, n_out=2)                                              \n"
      ]
     },
     "metadata": {},
     "output_type": "display_data"
    },
    {
     "data": {
      "text/html": [
       "\n",
       "<style>\n",
       "    /* Turns off some styling */\n",
       "    progress {\n",
       "        /* gets rid of default border in Firefox and Opera. */\n",
       "        border: none;\n",
       "        /* Needs to be in here for Safari polyfill so background images work as expected. */\n",
       "        background-size: auto;\n",
       "    }\n",
       "    progress:not([value]), progress:not([value])::-webkit-progress-bar {\n",
       "        background: repeating-linear-gradient(45deg, #7e7e7e, #7e7e7e 10px, #5c5c5c 10px, #5c5c5c 20px);\n",
       "    }\n",
       "    .progress-bar-interrupted, .progress-bar-interrupted::-webkit-progress-bar {\n",
       "        background: #F44336;\n",
       "    }\n",
       "</style>\n"
      ],
      "text/plain": [
       "<IPython.core.display.HTML object>"
      ]
     },
     "metadata": {},
     "output_type": "display_data"
    },
    {
     "data": {
      "text/html": [
       "<table border=\"1\" class=\"dataframe\">\n",
       "  <thead>\n",
       "    <tr style=\"text-align: left;\">\n",
       "      <th>epoch</th>\n",
       "      <th>train_loss</th>\n",
       "      <th>valid_loss</th>\n",
       "      <th>roc_auc_score</th>\n",
       "      <th>time</th>\n",
       "    </tr>\n",
       "  </thead>\n",
       "  <tbody>\n",
       "    <tr>\n",
       "      <td>0</td>\n",
       "      <td>0.305560</td>\n",
       "      <td>0.256489</td>\n",
       "      <td>0.393282</td>\n",
       "      <td>00:40</td>\n",
       "    </tr>\n",
       "    <tr>\n",
       "      <td>1</td>\n",
       "      <td>0.289383</td>\n",
       "      <td>0.239187</td>\n",
       "      <td>0.596514</td>\n",
       "      <td>00:28</td>\n",
       "    </tr>\n",
       "    <tr>\n",
       "      <td>2</td>\n",
       "      <td>0.260959</td>\n",
       "      <td>0.218205</td>\n",
       "      <td>0.717262</td>\n",
       "      <td>00:35</td>\n",
       "    </tr>\n",
       "    <tr>\n",
       "      <td>3</td>\n",
       "      <td>0.235594</td>\n",
       "      <td>0.198424</td>\n",
       "      <td>0.775085</td>\n",
       "      <td>00:35</td>\n",
       "    </tr>\n",
       "    <tr>\n",
       "      <td>4</td>\n",
       "      <td>0.198482</td>\n",
       "      <td>0.188958</td>\n",
       "      <td>0.841412</td>\n",
       "      <td>00:26</td>\n",
       "    </tr>\n",
       "    <tr>\n",
       "      <td>5</td>\n",
       "      <td>0.177007</td>\n",
       "      <td>0.178738</td>\n",
       "      <td>0.854167</td>\n",
       "      <td>00:37</td>\n",
       "    </tr>\n",
       "    <tr>\n",
       "      <td>6</td>\n",
       "      <td>0.157005</td>\n",
       "      <td>0.195932</td>\n",
       "      <td>0.875425</td>\n",
       "      <td>00:26</td>\n",
       "    </tr>\n",
       "    <tr>\n",
       "      <td>7</td>\n",
       "      <td>0.142627</td>\n",
       "      <td>0.151458</td>\n",
       "      <td>0.889881</td>\n",
       "      <td>00:33</td>\n",
       "    </tr>\n",
       "    <tr>\n",
       "      <td>8</td>\n",
       "      <td>0.123001</td>\n",
       "      <td>0.149777</td>\n",
       "      <td>0.901361</td>\n",
       "      <td>00:31</td>\n",
       "    </tr>\n",
       "    <tr>\n",
       "      <td>9</td>\n",
       "      <td>0.118765</td>\n",
       "      <td>0.154663</td>\n",
       "      <td>0.917092</td>\n",
       "      <td>00:36</td>\n",
       "    </tr>\n",
       "    <tr>\n",
       "      <td>10</td>\n",
       "      <td>0.103552</td>\n",
       "      <td>0.145827</td>\n",
       "      <td>0.909014</td>\n",
       "      <td>00:28</td>\n",
       "    </tr>\n",
       "    <tr>\n",
       "      <td>11</td>\n",
       "      <td>0.097025</td>\n",
       "      <td>0.147864</td>\n",
       "      <td>0.909439</td>\n",
       "      <td>00:34</td>\n",
       "    </tr>\n",
       "    <tr>\n",
       "      <td>12</td>\n",
       "      <td>0.097115</td>\n",
       "      <td>0.152189</td>\n",
       "      <td>0.907738</td>\n",
       "      <td>00:35</td>\n",
       "    </tr>\n",
       "    <tr>\n",
       "      <td>13</td>\n",
       "      <td>0.092846</td>\n",
       "      <td>0.140573</td>\n",
       "      <td>0.914116</td>\n",
       "      <td>00:31</td>\n",
       "    </tr>\n",
       "    <tr>\n",
       "      <td>14</td>\n",
       "      <td>0.084180</td>\n",
       "      <td>0.138905</td>\n",
       "      <td>0.915816</td>\n",
       "      <td>00:29</td>\n",
       "    </tr>\n",
       "    <tr>\n",
       "      <td>15</td>\n",
       "      <td>0.078753</td>\n",
       "      <td>0.139685</td>\n",
       "      <td>0.915391</td>\n",
       "      <td>00:33</td>\n",
       "    </tr>\n",
       "    <tr>\n",
       "      <td>16</td>\n",
       "      <td>0.081487</td>\n",
       "      <td>0.145838</td>\n",
       "      <td>0.920068</td>\n",
       "      <td>00:33</td>\n",
       "    </tr>\n",
       "    <tr>\n",
       "      <td>17</td>\n",
       "      <td>0.078859</td>\n",
       "      <td>0.145847</td>\n",
       "      <td>0.918367</td>\n",
       "      <td>00:36</td>\n",
       "    </tr>\n",
       "    <tr>\n",
       "      <td>18</td>\n",
       "      <td>0.075136</td>\n",
       "      <td>0.144770</td>\n",
       "      <td>0.918367</td>\n",
       "      <td>00:36</td>\n",
       "    </tr>\n",
       "    <tr>\n",
       "      <td>19</td>\n",
       "      <td>0.073977</td>\n",
       "      <td>0.145604</td>\n",
       "      <td>0.914116</td>\n",
       "      <td>00:35</td>\n",
       "    </tr>\n",
       "  </tbody>\n",
       "</table>"
      ],
      "text/plain": [
       "<IPython.core.display.HTML object>"
      ]
     },
     "metadata": {},
     "output_type": "display_data"
    },
    {
     "name": "stdout",
     "output_type": "stream",
     "text": [
      "Better model found at epoch 0 with valid_loss value: 0.2564893662929535.\n",
      "Better model found at epoch 1 with valid_loss value: 0.23918719589710236.\n",
      "Better model found at epoch 2 with valid_loss value: 0.21820542216300964.\n",
      "Better model found at epoch 3 with valid_loss value: 0.19842369854450226.\n",
      "Better model found at epoch 4 with valid_loss value: 0.18895825743675232.\n",
      "Better model found at epoch 5 with valid_loss value: 0.17873787879943848.\n",
      "Better model found at epoch 7 with valid_loss value: 0.15145769715309143.\n",
      "Better model found at epoch 8 with valid_loss value: 0.14977675676345825.\n",
      "Better model found at epoch 10 with valid_loss value: 0.14582739770412445.\n",
      "Better model found at epoch 13 with valid_loss value: 0.14057324826717377.\n",
      "Better model found at epoch 14 with valid_loss value: 0.13890530169010162.\n"
     ]
    },
    {
     "data": {
      "text/html": [
       "<pre style=\"white-space:pre;overflow-x:auto;line-height:normal;font-family:Menlo,'DejaVu Sans Mono',consolas,'Courier New',monospace\"><span style=\"color: #7fbfbf; text-decoration-color: #7fbfbf\">[17:18:33] </span><span style=\"color: #000080; text-decoration-color: #000080\">INFO    </span> Predictions saved to                                                                           \n",
       "<span style=\"color: #7fbfbf; text-decoration-color: #7fbfbf\">           </span>         <span style=\"color: #008000; text-decoration-color: #008000\">/mnt/d/Declich/GitHub/UMD/projects/trained_models/ABMIL-I3LUNG-AD-noqc-nostainnorm/00006-uni/pr</span>\n",
       "<span style=\"color: #7fbfbf; text-decoration-color: #7fbfbf\">           </span>         <span style=\"color: #008000; text-decoration-color: #008000\">edictions.parquet</span>                                                                              \n",
       "</pre>\n"
      ],
      "text/plain": [
       "\u001b[2;36m[17:18:33]\u001b[0m\u001b[2;36m \u001b[0m\u001b[34mINFO    \u001b[0m Predictions saved to                                                                           \n",
       "\u001b[2;36m           \u001b[0m         \u001b[32m/mnt/d/Declich/GitHub/UMD/projects/trained_models/ABMIL-I3LUNG-AD-noqc-nostainnorm/00006-uni/pr\u001b[0m\n",
       "\u001b[2;36m           \u001b[0m         \u001b[32medictions.parquet\u001b[0m                                                                              \n"
      ]
     },
     "metadata": {},
     "output_type": "display_data"
    },
    {
     "data": {
      "text/html": [
       "<pre style=\"white-space:pre;overflow-x:auto;line-height:normal;font-family:Menlo,'DejaVu Sans Mono',consolas,'Courier New',monospace\"><span style=\"color: #7fbfbf; text-decoration-color: #7fbfbf\">           </span><span style=\"color: #000080; text-decoration-color: #000080\">INFO    </span> Validation metrics for outcome <span style=\"color: #008000; text-decoration-color: #008000\">HISTOLOGY</span>:                                                      \n",
       "</pre>\n"
      ],
      "text/plain": [
       "\u001b[2;36m          \u001b[0m\u001b[2;36m \u001b[0m\u001b[34mINFO    \u001b[0m Validation metrics for outcome \u001b[32mHISTOLOGY\u001b[0m:                                                      \n"
      ]
     },
     "metadata": {},
     "output_type": "display_data"
    },
    {
     "data": {
      "text/html": [
       "<pre style=\"white-space:pre;overflow-x:auto;line-height:normal;font-family:Menlo,'DejaVu Sans Mono',consolas,'Courier New',monospace\"><span style=\"color: #7fbfbf; text-decoration-color: #7fbfbf\">           </span><span style=\"color: #000080; text-decoration-color: #000080\">INFO    </span> slide-level AUC (cat # 0): 0.916 AP: 0.978 (opt. threshold: 0.425)                             \n",
       "</pre>\n"
      ],
      "text/plain": [
       "\u001b[2;36m          \u001b[0m\u001b[2;36m \u001b[0m\u001b[34mINFO    \u001b[0m slide-level AUC (cat # 0): 0.916 AP: 0.978 (opt. threshold: 0.425)                             \n"
      ]
     },
     "metadata": {},
     "output_type": "display_data"
    },
    {
     "data": {
      "text/html": [
       "<pre style=\"white-space:pre;overflow-x:auto;line-height:normal;font-family:Menlo,'DejaVu Sans Mono',consolas,'Courier New',monospace\"><span style=\"color: #7fbfbf; text-decoration-color: #7fbfbf\">           </span><span style=\"color: #000080; text-decoration-color: #000080\">INFO    </span> slide-level AUC (cat # 1): 0.916 AP: 0.780 (opt. threshold: 0.590)                             \n",
       "</pre>\n"
      ],
      "text/plain": [
       "\u001b[2;36m          \u001b[0m\u001b[2;36m \u001b[0m\u001b[34mINFO    \u001b[0m slide-level AUC (cat # 1): 0.916 AP: 0.780 (opt. threshold: 0.590)                             \n"
      ]
     },
     "metadata": {},
     "output_type": "display_data"
    },
    {
     "data": {
      "text/html": [
       "<pre style=\"white-space:pre;overflow-x:auto;line-height:normal;font-family:Menlo,'DejaVu Sans Mono',consolas,'Courier New',monospace\"><span style=\"color: #7fbfbf; text-decoration-color: #7fbfbf\">           </span><span style=\"color: #000080; text-decoration-color: #000080\">INFO    </span> Category 0 acc: 73.5% (72/98)                                                                  \n",
       "</pre>\n"
      ],
      "text/plain": [
       "\u001b[2;36m          \u001b[0m\u001b[2;36m \u001b[0m\u001b[34mINFO    \u001b[0m Category 0 acc: 73.5% (72/98)                                                                  \n"
      ]
     },
     "metadata": {},
     "output_type": "display_data"
    },
    {
     "data": {
      "text/html": [
       "<pre style=\"white-space:pre;overflow-x:auto;line-height:normal;font-family:Menlo,'DejaVu Sans Mono',consolas,'Courier New',monospace\"><span style=\"color: #7fbfbf; text-decoration-color: #7fbfbf\">           </span><span style=\"color: #000080; text-decoration-color: #000080\">INFO    </span> Category 1 acc: 91.7% (22/24)                                                                  \n",
       "</pre>\n"
      ],
      "text/plain": [
       "\u001b[2;36m          \u001b[0m\u001b[2;36m \u001b[0m\u001b[34mINFO    \u001b[0m Category 1 acc: 91.7% (22/24)                                                                  \n"
      ]
     },
     "metadata": {},
     "output_type": "display_data"
    },
    {
     "data": {
      "text/html": [
       "<pre style=\"white-space:pre;overflow-x:auto;line-height:normal;font-family:Menlo,'DejaVu Sans Mono',consolas,'Courier New',monospace\"><span style=\"color: #7fbfbf; text-decoration-color: #7fbfbf\">[17:18:34] </span><span style=\"color: #000080; text-decoration-color: #000080\">INFO    </span> Attention scores exported to                                                                   \n",
       "<span style=\"color: #7fbfbf; text-decoration-color: #7fbfbf\">           </span>         <span style=\"color: #008000; text-decoration-color: #008000\">/mnt/d/Declich/GitHub/UMD/projects/trained_models/ABMIL-I3LUNG-AD-noqc-nostainnorm/00006-uni/at</span>\n",
       "<span style=\"color: #7fbfbf; text-decoration-color: #7fbfbf\">           </span>         <span style=\"color: #008000; text-decoration-color: #008000\">tention/DIG_PAT_1725901844_att.npz</span>                                                             \n",
       "</pre>\n"
      ],
      "text/plain": [
       "\u001b[2;36m[17:18:34]\u001b[0m\u001b[2;36m \u001b[0m\u001b[34mINFO    \u001b[0m Attention scores exported to                                                                   \n",
       "\u001b[2;36m           \u001b[0m         \u001b[32m/mnt/d/Declich/GitHub/UMD/projects/trained_models/ABMIL-I3LUNG-AD-noqc-nostainnorm/00006-uni/at\u001b[0m\n",
       "\u001b[2;36m           \u001b[0m         \u001b[32mtention/DIG_PAT_1725901844_att.npz\u001b[0m                                                             \n"
      ]
     },
     "metadata": {},
     "output_type": "display_data"
    },
    {
     "name": "stdout",
     "output_type": "stream",
     "text": [
      "Random seed set to: 96000731\n"
     ]
    },
    {
     "data": {
      "text/html": [
       "<pre style=\"white-space:pre;overflow-x:auto;line-height:normal;font-family:Menlo,'DejaVu Sans Mono',consolas,'Courier New',monospace\"><span style=\"color: #7fbfbf; text-decoration-color: #7fbfbf\">           </span><span style=\"color: #808000; text-decoration-color: #808000\">WARNING </span> <span style=\"color: #808000; text-decoration-color: #808000\">297 slides missing tfrecords, skipping</span>                                                         \n",
       "</pre>\n"
      ],
      "text/plain": [
       "\u001b[2;36m          \u001b[0m\u001b[2;36m \u001b[0m\u001b[33mWARNING \u001b[0m \u001b[33m297 slides missing tfrecords, skipping\u001b[0m                                                         \n"
      ]
     },
     "metadata": {},
     "output_type": "display_data"
    },
    {
     "data": {
      "text/html": [
       "<pre style=\"white-space:pre;overflow-x:auto;line-height:normal;font-family:Menlo,'DejaVu Sans Mono',consolas,'Courier New',monospace\"><span style=\"color: #7fbfbf; text-decoration-color: #7fbfbf\">           </span><span style=\"color: #000080; text-decoration-color: #000080\">INFO    </span> No training/validation splits file provided.                                                   \n",
       "</pre>\n"
      ],
      "text/plain": [
       "\u001b[2;36m          \u001b[0m\u001b[2;36m \u001b[0m\u001b[34mINFO    \u001b[0m No training/validation splits file provided.                                                   \n"
      ]
     },
     "metadata": {},
     "output_type": "display_data"
    },
    {
     "data": {
      "text/html": [
       "<pre style=\"white-space:pre;overflow-x:auto;line-height:normal;font-family:Menlo,'DejaVu Sans Mono',consolas,'Courier New',monospace\"><span style=\"color: #7fbfbf; text-decoration-color: #7fbfbf\">           </span><span style=\"color: #000080; text-decoration-color: #000080\">INFO    </span> Unable to save or load validation splits.                                                      \n",
       "</pre>\n"
      ],
      "text/plain": [
       "\u001b[2;36m          \u001b[0m\u001b[2;36m \u001b[0m\u001b[34mINFO    \u001b[0m Unable to save or load validation splits.                                                      \n"
      ]
     },
     "metadata": {},
     "output_type": "display_data"
    },
    {
     "data": {
      "text/html": [
       "<pre style=\"white-space:pre;overflow-x:auto;line-height:normal;font-family:Menlo,'DejaVu Sans Mono',consolas,'Courier New',monospace\"><span style=\"color: #7fbfbf; text-decoration-color: #7fbfbf\">           </span><span style=\"color: #000080; text-decoration-color: #000080\">INFO    </span> Training FastAI MIL model with config:                                                         \n",
       "</pre>\n"
      ],
      "text/plain": [
       "\u001b[2;36m          \u001b[0m\u001b[2;36m \u001b[0m\u001b[34mINFO    \u001b[0m Training FastAI MIL model with config:                                                         \n"
      ]
     },
     "metadata": {},
     "output_type": "display_data"
    },
    {
     "data": {
      "text/html": [
       "<pre style=\"white-space:pre;overflow-x:auto;line-height:normal;font-family:Menlo,'DejaVu Sans Mono',consolas,'Courier New',monospace\"><span style=\"color: #7fbfbf; text-decoration-color: #7fbfbf\">           </span><span style=\"color: #000080; text-decoration-color: #000080\">INFO    </span> TrainerConfig(                                                                                 \n",
       "<span style=\"color: #7fbfbf; text-decoration-color: #7fbfbf\">           </span>           lr=0.0001                                                                                    \n",
       "<span style=\"color: #7fbfbf; text-decoration-color: #7fbfbf\">           </span>           wd=1e-05                                                                                     \n",
       "<span style=\"color: #7fbfbf; text-decoration-color: #7fbfbf\">           </span>           bag_size=1024                                                                                \n",
       "<span style=\"color: #7fbfbf; text-decoration-color: #7fbfbf\">           </span>           max_val_bag_size=None                                                                        \n",
       "<span style=\"color: #7fbfbf; text-decoration-color: #7fbfbf\">           </span>           fit_one_cycle=True                                                                           \n",
       "<span style=\"color: #7fbfbf; text-decoration-color: #7fbfbf\">           </span>           epochs=20                                                                                    \n",
       "<span style=\"color: #7fbfbf; text-decoration-color: #7fbfbf\">           </span>           batch_size=16                                                                                \n",
       "<span style=\"color: #7fbfbf; text-decoration-color: #7fbfbf\">           </span>           drop_last=True                                                                               \n",
       "<span style=\"color: #7fbfbf; text-decoration-color: #7fbfbf\">           </span>           save_monitor='valid_loss'                                                                    \n",
       "<span style=\"color: #7fbfbf; text-decoration-color: #7fbfbf\">           </span>           weighted_loss=True                                                                           \n",
       "<span style=\"color: #7fbfbf; text-decoration-color: #7fbfbf\">           </span>           model='attention_mil'                                                                        \n",
       "<span style=\"color: #7fbfbf; text-decoration-color: #7fbfbf\">           </span>           model_kwargs=None                                                                            \n",
       "<span style=\"color: #7fbfbf; text-decoration-color: #7fbfbf\">           </span>           loss='cross_entropy'                                                                         \n",
       "<span style=\"color: #7fbfbf; text-decoration-color: #7fbfbf\">           </span>           use_lens=True                                                                                \n",
       "<span style=\"color: #7fbfbf; text-decoration-color: #7fbfbf\">           </span>         )                                                                                              \n",
       "</pre>\n"
      ],
      "text/plain": [
       "\u001b[2;36m          \u001b[0m\u001b[2;36m \u001b[0m\u001b[34mINFO    \u001b[0m TrainerConfig(                                                                                 \n",
       "\u001b[2;36m           \u001b[0m           lr=0.0001                                                                                    \n",
       "\u001b[2;36m           \u001b[0m           wd=1e-05                                                                                     \n",
       "\u001b[2;36m           \u001b[0m           bag_size=1024                                                                                \n",
       "\u001b[2;36m           \u001b[0m           max_val_bag_size=None                                                                        \n",
       "\u001b[2;36m           \u001b[0m           fit_one_cycle=True                                                                           \n",
       "\u001b[2;36m           \u001b[0m           epochs=20                                                                                    \n",
       "\u001b[2;36m           \u001b[0m           batch_size=16                                                                                \n",
       "\u001b[2;36m           \u001b[0m           drop_last=True                                                                               \n",
       "\u001b[2;36m           \u001b[0m           save_monitor='valid_loss'                                                                    \n",
       "\u001b[2;36m           \u001b[0m           weighted_loss=True                                                                           \n",
       "\u001b[2;36m           \u001b[0m           model='attention_mil'                                                                        \n",
       "\u001b[2;36m           \u001b[0m           model_kwargs=None                                                                            \n",
       "\u001b[2;36m           \u001b[0m           loss='cross_entropy'                                                                         \n",
       "\u001b[2;36m           \u001b[0m           use_lens=True                                                                                \n",
       "\u001b[2;36m           \u001b[0m         )                                                                                              \n"
      ]
     },
     "metadata": {},
     "output_type": "display_data"
    },
    {
     "data": {
      "text/html": [
       "<pre style=\"white-space:pre;overflow-x:auto;line-height:normal;font-family:Menlo,'DejaVu Sans Mono',consolas,'Courier New',monospace\"><span style=\"color: #7fbfbf; text-decoration-color: #7fbfbf\">[17:18:35] </span><span style=\"color: #000080; text-decoration-color: #000080\">INFO    </span> Training dataset: 497 merged bags (from 497 possible slides)                                   \n",
       "</pre>\n"
      ],
      "text/plain": [
       "\u001b[2;36m[17:18:35]\u001b[0m\u001b[2;36m \u001b[0m\u001b[34mINFO    \u001b[0m Training dataset: 497 merged bags (from 497 possible slides)                                   \n"
      ]
     },
     "metadata": {},
     "output_type": "display_data"
    },
    {
     "data": {
      "text/html": [
       "<pre style=\"white-space:pre;overflow-x:auto;line-height:normal;font-family:Menlo,'DejaVu Sans Mono',consolas,'Courier New',monospace\"><span style=\"color: #7fbfbf; text-decoration-color: #7fbfbf\">           </span><span style=\"color: #000080; text-decoration-color: #000080\">INFO    </span> Validation dataset: 121 merged bags (from 121 possible slides)                                 \n",
       "</pre>\n"
      ],
      "text/plain": [
       "\u001b[2;36m          \u001b[0m\u001b[2;36m \u001b[0m\u001b[34mINFO    \u001b[0m Validation dataset: 121 merged bags (from 121 possible slides)                                 \n"
      ]
     },
     "metadata": {},
     "output_type": "display_data"
    },
    {
     "data": {
      "text/html": [
       "<pre style=\"white-space:pre;overflow-x:auto;line-height:normal;font-family:Menlo,'DejaVu Sans Mono',consolas,'Courier New',monospace\"><span style=\"color: #7fbfbf; text-decoration-color: #7fbfbf\">           </span><span style=\"color: #000080; text-decoration-color: #000080\">INFO    </span> Building model <span style=\"font-weight: bold\">Attention_MIL</span> (n_in=1024, n_out=2)                                              \n",
       "</pre>\n"
      ],
      "text/plain": [
       "\u001b[2;36m          \u001b[0m\u001b[2;36m \u001b[0m\u001b[34mINFO    \u001b[0m Building model \u001b[1mAttention_MIL\u001b[0m (n_in=1024, n_out=2)                                              \n"
      ]
     },
     "metadata": {},
     "output_type": "display_data"
    },
    {
     "data": {
      "text/html": [
       "\n",
       "<style>\n",
       "    /* Turns off some styling */\n",
       "    progress {\n",
       "        /* gets rid of default border in Firefox and Opera. */\n",
       "        border: none;\n",
       "        /* Needs to be in here for Safari polyfill so background images work as expected. */\n",
       "        background-size: auto;\n",
       "    }\n",
       "    progress:not([value]), progress:not([value])::-webkit-progress-bar {\n",
       "        background: repeating-linear-gradient(45deg, #7e7e7e, #7e7e7e 10px, #5c5c5c 10px, #5c5c5c 20px);\n",
       "    }\n",
       "    .progress-bar-interrupted, .progress-bar-interrupted::-webkit-progress-bar {\n",
       "        background: #F44336;\n",
       "    }\n",
       "</style>\n"
      ],
      "text/plain": [
       "<IPython.core.display.HTML object>"
      ]
     },
     "metadata": {},
     "output_type": "display_data"
    },
    {
     "data": {
      "text/html": [
       "<table border=\"1\" class=\"dataframe\">\n",
       "  <thead>\n",
       "    <tr style=\"text-align: left;\">\n",
       "      <th>epoch</th>\n",
       "      <th>train_loss</th>\n",
       "      <th>valid_loss</th>\n",
       "      <th>roc_auc_score</th>\n",
       "      <th>time</th>\n",
       "    </tr>\n",
       "  </thead>\n",
       "  <tbody>\n",
       "    <tr>\n",
       "      <td>0</td>\n",
       "      <td>0.373573</td>\n",
       "      <td>0.229897</td>\n",
       "      <td>0.532362</td>\n",
       "      <td>00:34</td>\n",
       "    </tr>\n",
       "    <tr>\n",
       "      <td>1</td>\n",
       "      <td>0.334431</td>\n",
       "      <td>0.222807</td>\n",
       "      <td>0.633225</td>\n",
       "      <td>00:35</td>\n",
       "    </tr>\n",
       "    <tr>\n",
       "      <td>2</td>\n",
       "      <td>0.288737</td>\n",
       "      <td>0.198789</td>\n",
       "      <td>0.721683</td>\n",
       "      <td>00:35</td>\n",
       "    </tr>\n",
       "    <tr>\n",
       "      <td>3</td>\n",
       "      <td>0.248882</td>\n",
       "      <td>0.195146</td>\n",
       "      <td>0.824164</td>\n",
       "      <td>00:36</td>\n",
       "    </tr>\n",
       "    <tr>\n",
       "      <td>4</td>\n",
       "      <td>0.210197</td>\n",
       "      <td>0.173498</td>\n",
       "      <td>0.829018</td>\n",
       "      <td>00:32</td>\n",
       "    </tr>\n",
       "    <tr>\n",
       "      <td>5</td>\n",
       "      <td>0.190089</td>\n",
       "      <td>0.182672</td>\n",
       "      <td>0.871090</td>\n",
       "      <td>00:34</td>\n",
       "    </tr>\n",
       "    <tr>\n",
       "      <td>6</td>\n",
       "      <td>0.168793</td>\n",
       "      <td>0.157221</td>\n",
       "      <td>0.883495</td>\n",
       "      <td>00:35</td>\n",
       "    </tr>\n",
       "    <tr>\n",
       "      <td>7</td>\n",
       "      <td>0.149760</td>\n",
       "      <td>0.147255</td>\n",
       "      <td>0.897519</td>\n",
       "      <td>00:38</td>\n",
       "    </tr>\n",
       "    <tr>\n",
       "      <td>8</td>\n",
       "      <td>0.132324</td>\n",
       "      <td>0.147997</td>\n",
       "      <td>0.885113</td>\n",
       "      <td>00:33</td>\n",
       "    </tr>\n",
       "    <tr>\n",
       "      <td>9</td>\n",
       "      <td>0.117268</td>\n",
       "      <td>0.157393</td>\n",
       "      <td>0.899137</td>\n",
       "      <td>00:33</td>\n",
       "    </tr>\n",
       "    <tr>\n",
       "      <td>10</td>\n",
       "      <td>0.107932</td>\n",
       "      <td>0.142655</td>\n",
       "      <td>0.910464</td>\n",
       "      <td>00:34</td>\n",
       "    </tr>\n",
       "    <tr>\n",
       "      <td>11</td>\n",
       "      <td>0.097215</td>\n",
       "      <td>0.138624</td>\n",
       "      <td>0.915318</td>\n",
       "      <td>00:30</td>\n",
       "    </tr>\n",
       "    <tr>\n",
       "      <td>12</td>\n",
       "      <td>0.089248</td>\n",
       "      <td>0.138361</td>\n",
       "      <td>0.920712</td>\n",
       "      <td>00:35</td>\n",
       "    </tr>\n",
       "    <tr>\n",
       "      <td>13</td>\n",
       "      <td>0.082877</td>\n",
       "      <td>0.146426</td>\n",
       "      <td>0.920173</td>\n",
       "      <td>00:32</td>\n",
       "    </tr>\n",
       "    <tr>\n",
       "      <td>14</td>\n",
       "      <td>0.083439</td>\n",
       "      <td>0.143663</td>\n",
       "      <td>0.920173</td>\n",
       "      <td>00:35</td>\n",
       "    </tr>\n",
       "    <tr>\n",
       "      <td>15</td>\n",
       "      <td>0.080731</td>\n",
       "      <td>0.131351</td>\n",
       "      <td>0.924488</td>\n",
       "      <td>00:33</td>\n",
       "    </tr>\n",
       "    <tr>\n",
       "      <td>16</td>\n",
       "      <td>0.081065</td>\n",
       "      <td>0.128294</td>\n",
       "      <td>0.923948</td>\n",
       "      <td>00:33</td>\n",
       "    </tr>\n",
       "    <tr>\n",
       "      <td>17</td>\n",
       "      <td>0.075567</td>\n",
       "      <td>0.130620</td>\n",
       "      <td>0.923948</td>\n",
       "      <td>00:33</td>\n",
       "    </tr>\n",
       "    <tr>\n",
       "      <td>18</td>\n",
       "      <td>0.074321</td>\n",
       "      <td>0.134744</td>\n",
       "      <td>0.922869</td>\n",
       "      <td>00:35</td>\n",
       "    </tr>\n",
       "    <tr>\n",
       "      <td>19</td>\n",
       "      <td>0.074898</td>\n",
       "      <td>0.130756</td>\n",
       "      <td>0.925566</td>\n",
       "      <td>00:32</td>\n",
       "    </tr>\n",
       "  </tbody>\n",
       "</table>"
      ],
      "text/plain": [
       "<IPython.core.display.HTML object>"
      ]
     },
     "metadata": {},
     "output_type": "display_data"
    },
    {
     "name": "stdout",
     "output_type": "stream",
     "text": [
      "Better model found at epoch 0 with valid_loss value: 0.22989653050899506.\n",
      "Better model found at epoch 1 with valid_loss value: 0.22280707955360413.\n",
      "Better model found at epoch 2 with valid_loss value: 0.19878926873207092.\n",
      "Better model found at epoch 3 with valid_loss value: 0.19514556229114532.\n",
      "Better model found at epoch 4 with valid_loss value: 0.17349809408187866.\n",
      "Better model found at epoch 6 with valid_loss value: 0.15722133219242096.\n",
      "Better model found at epoch 7 with valid_loss value: 0.14725469052791595.\n",
      "Better model found at epoch 10 with valid_loss value: 0.14265543222427368.\n",
      "Better model found at epoch 11 with valid_loss value: 0.13862395286560059.\n",
      "Better model found at epoch 12 with valid_loss value: 0.13836126029491425.\n",
      "Better model found at epoch 15 with valid_loss value: 0.13135063648223877.\n",
      "Better model found at epoch 16 with valid_loss value: 0.12829361855983734.\n"
     ]
    },
    {
     "data": {
      "text/html": [
       "<pre style=\"white-space:pre;overflow-x:auto;line-height:normal;font-family:Menlo,'DejaVu Sans Mono',consolas,'Courier New',monospace\"><span style=\"color: #7fbfbf; text-decoration-color: #7fbfbf\">[17:30:11] </span><span style=\"color: #000080; text-decoration-color: #000080\">INFO    </span> Predictions saved to                                                                           \n",
       "<span style=\"color: #7fbfbf; text-decoration-color: #7fbfbf\">           </span>         <span style=\"color: #008000; text-decoration-color: #008000\">/mnt/d/Declich/GitHub/UMD/projects/trained_models/ABMIL-I3LUNG-AD-noqc-nostainnorm/00007-uni/pr</span>\n",
       "<span style=\"color: #7fbfbf; text-decoration-color: #7fbfbf\">           </span>         <span style=\"color: #008000; text-decoration-color: #008000\">edictions.parquet</span>                                                                              \n",
       "</pre>\n"
      ],
      "text/plain": [
       "\u001b[2;36m[17:30:11]\u001b[0m\u001b[2;36m \u001b[0m\u001b[34mINFO    \u001b[0m Predictions saved to                                                                           \n",
       "\u001b[2;36m           \u001b[0m         \u001b[32m/mnt/d/Declich/GitHub/UMD/projects/trained_models/ABMIL-I3LUNG-AD-noqc-nostainnorm/00007-uni/pr\u001b[0m\n",
       "\u001b[2;36m           \u001b[0m         \u001b[32medictions.parquet\u001b[0m                                                                              \n"
      ]
     },
     "metadata": {},
     "output_type": "display_data"
    },
    {
     "data": {
      "text/html": [
       "<pre style=\"white-space:pre;overflow-x:auto;line-height:normal;font-family:Menlo,'DejaVu Sans Mono',consolas,'Courier New',monospace\"><span style=\"color: #7fbfbf; text-decoration-color: #7fbfbf\">           </span><span style=\"color: #000080; text-decoration-color: #000080\">INFO    </span> Validation metrics for outcome <span style=\"color: #008000; text-decoration-color: #008000\">HISTOLOGY</span>:                                                      \n",
       "</pre>\n"
      ],
      "text/plain": [
       "\u001b[2;36m          \u001b[0m\u001b[2;36m \u001b[0m\u001b[34mINFO    \u001b[0m Validation metrics for outcome \u001b[32mHISTOLOGY\u001b[0m:                                                      \n"
      ]
     },
     "metadata": {},
     "output_type": "display_data"
    },
    {
     "data": {
      "text/html": [
       "<pre style=\"white-space:pre;overflow-x:auto;line-height:normal;font-family:Menlo,'DejaVu Sans Mono',consolas,'Courier New',monospace\"><span style=\"color: #7fbfbf; text-decoration-color: #7fbfbf\">[17:30:12] </span><span style=\"color: #000080; text-decoration-color: #000080\">INFO    </span> slide-level AUC (cat # 0): 0.924 AP: 0.984 (opt. threshold: 0.404)                             \n",
       "</pre>\n"
      ],
      "text/plain": [
       "\u001b[2;36m[17:30:12]\u001b[0m\u001b[2;36m \u001b[0m\u001b[34mINFO    \u001b[0m slide-level AUC (cat # 0): 0.924 AP: 0.984 (opt. threshold: 0.404)                             \n"
      ]
     },
     "metadata": {},
     "output_type": "display_data"
    },
    {
     "data": {
      "text/html": [
       "<pre style=\"white-space:pre;overflow-x:auto;line-height:normal;font-family:Menlo,'DejaVu Sans Mono',consolas,'Courier New',monospace\"><span style=\"color: #7fbfbf; text-decoration-color: #7fbfbf\">           </span><span style=\"color: #000080; text-decoration-color: #000080\">INFO    </span> slide-level AUC (cat # 1): 0.924 AP: 0.756 (opt. threshold: 0.596)                             \n",
       "</pre>\n"
      ],
      "text/plain": [
       "\u001b[2;36m          \u001b[0m\u001b[2;36m \u001b[0m\u001b[34mINFO    \u001b[0m slide-level AUC (cat # 1): 0.924 AP: 0.756 (opt. threshold: 0.596)                             \n"
      ]
     },
     "metadata": {},
     "output_type": "display_data"
    },
    {
     "data": {
      "text/html": [
       "<pre style=\"white-space:pre;overflow-x:auto;line-height:normal;font-family:Menlo,'DejaVu Sans Mono',consolas,'Courier New',monospace\"><span style=\"color: #7fbfbf; text-decoration-color: #7fbfbf\">           </span><span style=\"color: #000080; text-decoration-color: #000080\">INFO    </span> Category 0 acc: 82.5% (85/103)                                                                 \n",
       "</pre>\n"
      ],
      "text/plain": [
       "\u001b[2;36m          \u001b[0m\u001b[2;36m \u001b[0m\u001b[34mINFO    \u001b[0m Category 0 acc: 82.5% (85/103)                                                                 \n"
      ]
     },
     "metadata": {},
     "output_type": "display_data"
    },
    {
     "data": {
      "text/html": [
       "<pre style=\"white-space:pre;overflow-x:auto;line-height:normal;font-family:Menlo,'DejaVu Sans Mono',consolas,'Courier New',monospace\"><span style=\"color: #7fbfbf; text-decoration-color: #7fbfbf\">           </span><span style=\"color: #000080; text-decoration-color: #000080\">INFO    </span> Category 1 acc: 88.9% (16/18)                                                                  \n",
       "</pre>\n"
      ],
      "text/plain": [
       "\u001b[2;36m          \u001b[0m\u001b[2;36m \u001b[0m\u001b[34mINFO    \u001b[0m Category 1 acc: 88.9% (16/18)                                                                  \n"
      ]
     },
     "metadata": {},
     "output_type": "display_data"
    },
    {
     "data": {
      "text/html": [
       "<pre style=\"white-space:pre;overflow-x:auto;line-height:normal;font-family:Menlo,'DejaVu Sans Mono',consolas,'Courier New',monospace\"><span style=\"color: #7fbfbf; text-decoration-color: #7fbfbf\">[17:30:13] </span><span style=\"color: #000080; text-decoration-color: #000080\">INFO    </span> Attention scores exported to                                                                   \n",
       "<span style=\"color: #7fbfbf; text-decoration-color: #7fbfbf\">           </span>         <span style=\"color: #008000; text-decoration-color: #008000\">/mnt/d/Declich/GitHub/UMD/projects/trained_models/ABMIL-I3LUNG-AD-noqc-nostainnorm/00007-uni/at</span>\n",
       "<span style=\"color: #7fbfbf; text-decoration-color: #7fbfbf\">           </span>         <span style=\"color: #008000; text-decoration-color: #008000\">tention/DIG_PAT_1725902696_att.npz</span>                                                             \n",
       "</pre>\n"
      ],
      "text/plain": [
       "\u001b[2;36m[17:30:13]\u001b[0m\u001b[2;36m \u001b[0m\u001b[34mINFO    \u001b[0m Attention scores exported to                                                                   \n",
       "\u001b[2;36m           \u001b[0m         \u001b[32m/mnt/d/Declich/GitHub/UMD/projects/trained_models/ABMIL-I3LUNG-AD-noqc-nostainnorm/00007-uni/at\u001b[0m\n",
       "\u001b[2;36m           \u001b[0m         \u001b[32mtention/DIG_PAT_1725902696_att.npz\u001b[0m                                                             \n"
      ]
     },
     "metadata": {},
     "output_type": "display_data"
    },
    {
     "name": "stdout",
     "output_type": "stream",
     "text": [
      "Random seed set to: 21042693\n"
     ]
    },
    {
     "data": {
      "text/html": [
       "<pre style=\"white-space:pre;overflow-x:auto;line-height:normal;font-family:Menlo,'DejaVu Sans Mono',consolas,'Courier New',monospace\"><span style=\"color: #7fbfbf; text-decoration-color: #7fbfbf\">           </span><span style=\"color: #808000; text-decoration-color: #808000\">WARNING </span> <span style=\"color: #808000; text-decoration-color: #808000\">297 slides missing tfrecords, skipping</span>                                                         \n",
       "</pre>\n"
      ],
      "text/plain": [
       "\u001b[2;36m          \u001b[0m\u001b[2;36m \u001b[0m\u001b[33mWARNING \u001b[0m \u001b[33m297 slides missing tfrecords, skipping\u001b[0m                                                         \n"
      ]
     },
     "metadata": {},
     "output_type": "display_data"
    },
    {
     "data": {
      "text/html": [
       "<pre style=\"white-space:pre;overflow-x:auto;line-height:normal;font-family:Menlo,'DejaVu Sans Mono',consolas,'Courier New',monospace\"><span style=\"color: #7fbfbf; text-decoration-color: #7fbfbf\">           </span><span style=\"color: #000080; text-decoration-color: #000080\">INFO    </span> No training/validation splits file provided.                                                   \n",
       "</pre>\n"
      ],
      "text/plain": [
       "\u001b[2;36m          \u001b[0m\u001b[2;36m \u001b[0m\u001b[34mINFO    \u001b[0m No training/validation splits file provided.                                                   \n"
      ]
     },
     "metadata": {},
     "output_type": "display_data"
    },
    {
     "data": {
      "text/html": [
       "<pre style=\"white-space:pre;overflow-x:auto;line-height:normal;font-family:Menlo,'DejaVu Sans Mono',consolas,'Courier New',monospace\"><span style=\"color: #7fbfbf; text-decoration-color: #7fbfbf\">           </span><span style=\"color: #000080; text-decoration-color: #000080\">INFO    </span> Unable to save or load validation splits.                                                      \n",
       "</pre>\n"
      ],
      "text/plain": [
       "\u001b[2;36m          \u001b[0m\u001b[2;36m \u001b[0m\u001b[34mINFO    \u001b[0m Unable to save or load validation splits.                                                      \n"
      ]
     },
     "metadata": {},
     "output_type": "display_data"
    },
    {
     "data": {
      "text/html": [
       "<pre style=\"white-space:pre;overflow-x:auto;line-height:normal;font-family:Menlo,'DejaVu Sans Mono',consolas,'Courier New',monospace\"><span style=\"color: #7fbfbf; text-decoration-color: #7fbfbf\">           </span><span style=\"color: #000080; text-decoration-color: #000080\">INFO    </span> Training FastAI MIL model with config:                                                         \n",
       "</pre>\n"
      ],
      "text/plain": [
       "\u001b[2;36m          \u001b[0m\u001b[2;36m \u001b[0m\u001b[34mINFO    \u001b[0m Training FastAI MIL model with config:                                                         \n"
      ]
     },
     "metadata": {},
     "output_type": "display_data"
    },
    {
     "data": {
      "text/html": [
       "<pre style=\"white-space:pre;overflow-x:auto;line-height:normal;font-family:Menlo,'DejaVu Sans Mono',consolas,'Courier New',monospace\"><span style=\"color: #7fbfbf; text-decoration-color: #7fbfbf\">           </span><span style=\"color: #000080; text-decoration-color: #000080\">INFO    </span> TrainerConfig(                                                                                 \n",
       "<span style=\"color: #7fbfbf; text-decoration-color: #7fbfbf\">           </span>           lr=0.0001                                                                                    \n",
       "<span style=\"color: #7fbfbf; text-decoration-color: #7fbfbf\">           </span>           wd=1e-05                                                                                     \n",
       "<span style=\"color: #7fbfbf; text-decoration-color: #7fbfbf\">           </span>           bag_size=1024                                                                                \n",
       "<span style=\"color: #7fbfbf; text-decoration-color: #7fbfbf\">           </span>           max_val_bag_size=None                                                                        \n",
       "<span style=\"color: #7fbfbf; text-decoration-color: #7fbfbf\">           </span>           fit_one_cycle=True                                                                           \n",
       "<span style=\"color: #7fbfbf; text-decoration-color: #7fbfbf\">           </span>           epochs=20                                                                                    \n",
       "<span style=\"color: #7fbfbf; text-decoration-color: #7fbfbf\">           </span>           batch_size=16                                                                                \n",
       "<span style=\"color: #7fbfbf; text-decoration-color: #7fbfbf\">           </span>           drop_last=True                                                                               \n",
       "<span style=\"color: #7fbfbf; text-decoration-color: #7fbfbf\">           </span>           save_monitor='valid_loss'                                                                    \n",
       "<span style=\"color: #7fbfbf; text-decoration-color: #7fbfbf\">           </span>           weighted_loss=True                                                                           \n",
       "<span style=\"color: #7fbfbf; text-decoration-color: #7fbfbf\">           </span>           model='attention_mil'                                                                        \n",
       "<span style=\"color: #7fbfbf; text-decoration-color: #7fbfbf\">           </span>           model_kwargs=None                                                                            \n",
       "<span style=\"color: #7fbfbf; text-decoration-color: #7fbfbf\">           </span>           loss='cross_entropy'                                                                         \n",
       "<span style=\"color: #7fbfbf; text-decoration-color: #7fbfbf\">           </span>           use_lens=True                                                                                \n",
       "<span style=\"color: #7fbfbf; text-decoration-color: #7fbfbf\">           </span>         )                                                                                              \n",
       "</pre>\n"
      ],
      "text/plain": [
       "\u001b[2;36m          \u001b[0m\u001b[2;36m \u001b[0m\u001b[34mINFO    \u001b[0m TrainerConfig(                                                                                 \n",
       "\u001b[2;36m           \u001b[0m           lr=0.0001                                                                                    \n",
       "\u001b[2;36m           \u001b[0m           wd=1e-05                                                                                     \n",
       "\u001b[2;36m           \u001b[0m           bag_size=1024                                                                                \n",
       "\u001b[2;36m           \u001b[0m           max_val_bag_size=None                                                                        \n",
       "\u001b[2;36m           \u001b[0m           fit_one_cycle=True                                                                           \n",
       "\u001b[2;36m           \u001b[0m           epochs=20                                                                                    \n",
       "\u001b[2;36m           \u001b[0m           batch_size=16                                                                                \n",
       "\u001b[2;36m           \u001b[0m           drop_last=True                                                                               \n",
       "\u001b[2;36m           \u001b[0m           save_monitor='valid_loss'                                                                    \n",
       "\u001b[2;36m           \u001b[0m           weighted_loss=True                                                                           \n",
       "\u001b[2;36m           \u001b[0m           model='attention_mil'                                                                        \n",
       "\u001b[2;36m           \u001b[0m           model_kwargs=None                                                                            \n",
       "\u001b[2;36m           \u001b[0m           loss='cross_entropy'                                                                         \n",
       "\u001b[2;36m           \u001b[0m           use_lens=True                                                                                \n",
       "\u001b[2;36m           \u001b[0m         )                                                                                              \n"
      ]
     },
     "metadata": {},
     "output_type": "display_data"
    },
    {
     "data": {
      "text/html": [
       "<pre style=\"white-space:pre;overflow-x:auto;line-height:normal;font-family:Menlo,'DejaVu Sans Mono',consolas,'Courier New',monospace\"><span style=\"color: #7fbfbf; text-decoration-color: #7fbfbf\">           </span><span style=\"color: #000080; text-decoration-color: #000080\">INFO    </span> Training dataset: 493 merged bags (from 493 possible slides)                                   \n",
       "</pre>\n"
      ],
      "text/plain": [
       "\u001b[2;36m          \u001b[0m\u001b[2;36m \u001b[0m\u001b[34mINFO    \u001b[0m Training dataset: 493 merged bags (from 493 possible slides)                                   \n"
      ]
     },
     "metadata": {},
     "output_type": "display_data"
    },
    {
     "data": {
      "text/html": [
       "<pre style=\"white-space:pre;overflow-x:auto;line-height:normal;font-family:Menlo,'DejaVu Sans Mono',consolas,'Courier New',monospace\"><span style=\"color: #7fbfbf; text-decoration-color: #7fbfbf\">           </span><span style=\"color: #000080; text-decoration-color: #000080\">INFO    </span> Validation dataset: 125 merged bags (from 125 possible slides)                                 \n",
       "</pre>\n"
      ],
      "text/plain": [
       "\u001b[2;36m          \u001b[0m\u001b[2;36m \u001b[0m\u001b[34mINFO    \u001b[0m Validation dataset: 125 merged bags (from 125 possible slides)                                 \n"
      ]
     },
     "metadata": {},
     "output_type": "display_data"
    },
    {
     "data": {
      "text/html": [
       "<pre style=\"white-space:pre;overflow-x:auto;line-height:normal;font-family:Menlo,'DejaVu Sans Mono',consolas,'Courier New',monospace\"><span style=\"color: #7fbfbf; text-decoration-color: #7fbfbf\">[17:30:14] </span><span style=\"color: #000080; text-decoration-color: #000080\">INFO    </span> Building model <span style=\"font-weight: bold\">Attention_MIL</span> (n_in=1024, n_out=2)                                              \n",
       "</pre>\n"
      ],
      "text/plain": [
       "\u001b[2;36m[17:30:14]\u001b[0m\u001b[2;36m \u001b[0m\u001b[34mINFO    \u001b[0m Building model \u001b[1mAttention_MIL\u001b[0m (n_in=1024, n_out=2)                                              \n"
      ]
     },
     "metadata": {},
     "output_type": "display_data"
    },
    {
     "data": {
      "text/html": [
       "\n",
       "<style>\n",
       "    /* Turns off some styling */\n",
       "    progress {\n",
       "        /* gets rid of default border in Firefox and Opera. */\n",
       "        border: none;\n",
       "        /* Needs to be in here for Safari polyfill so background images work as expected. */\n",
       "        background-size: auto;\n",
       "    }\n",
       "    progress:not([value]), progress:not([value])::-webkit-progress-bar {\n",
       "        background: repeating-linear-gradient(45deg, #7e7e7e, #7e7e7e 10px, #5c5c5c 10px, #5c5c5c 20px);\n",
       "    }\n",
       "    .progress-bar-interrupted, .progress-bar-interrupted::-webkit-progress-bar {\n",
       "        background: #F44336;\n",
       "    }\n",
       "</style>\n"
      ],
      "text/plain": [
       "<IPython.core.display.HTML object>"
      ]
     },
     "metadata": {},
     "output_type": "display_data"
    },
    {
     "data": {
      "text/html": [
       "<table border=\"1\" class=\"dataframe\">\n",
       "  <thead>\n",
       "    <tr style=\"text-align: left;\">\n",
       "      <th>epoch</th>\n",
       "      <th>train_loss</th>\n",
       "      <th>valid_loss</th>\n",
       "      <th>roc_auc_score</th>\n",
       "      <th>time</th>\n",
       "    </tr>\n",
       "  </thead>\n",
       "  <tbody>\n",
       "    <tr>\n",
       "      <td>0</td>\n",
       "      <td>0.273620</td>\n",
       "      <td>0.246637</td>\n",
       "      <td>0.574811</td>\n",
       "      <td>00:33</td>\n",
       "    </tr>\n",
       "    <tr>\n",
       "      <td>1</td>\n",
       "      <td>0.252737</td>\n",
       "      <td>0.240407</td>\n",
       "      <td>0.655113</td>\n",
       "      <td>00:30</td>\n",
       "    </tr>\n",
       "    <tr>\n",
       "      <td>2</td>\n",
       "      <td>0.232340</td>\n",
       "      <td>0.225504</td>\n",
       "      <td>0.733013</td>\n",
       "      <td>00:35</td>\n",
       "    </tr>\n",
       "    <tr>\n",
       "      <td>3</td>\n",
       "      <td>0.209913</td>\n",
       "      <td>0.237604</td>\n",
       "      <td>0.760124</td>\n",
       "      <td>00:32</td>\n",
       "    </tr>\n",
       "    <tr>\n",
       "      <td>4</td>\n",
       "      <td>0.184228</td>\n",
       "      <td>0.210075</td>\n",
       "      <td>0.795127</td>\n",
       "      <td>00:35</td>\n",
       "    </tr>\n",
       "    <tr>\n",
       "      <td>5</td>\n",
       "      <td>0.167087</td>\n",
       "      <td>0.215322</td>\n",
       "      <td>0.796156</td>\n",
       "      <td>00:35</td>\n",
       "    </tr>\n",
       "    <tr>\n",
       "      <td>6</td>\n",
       "      <td>0.145487</td>\n",
       "      <td>0.209571</td>\n",
       "      <td>0.807138</td>\n",
       "      <td>00:34</td>\n",
       "    </tr>\n",
       "    <tr>\n",
       "      <td>7</td>\n",
       "      <td>0.127746</td>\n",
       "      <td>0.210566</td>\n",
       "      <td>0.821208</td>\n",
       "      <td>00:35</td>\n",
       "    </tr>\n",
       "    <tr>\n",
       "      <td>8</td>\n",
       "      <td>0.112150</td>\n",
       "      <td>0.221872</td>\n",
       "      <td>0.818463</td>\n",
       "      <td>00:33</td>\n",
       "    </tr>\n",
       "    <tr>\n",
       "      <td>9</td>\n",
       "      <td>0.103198</td>\n",
       "      <td>0.202392</td>\n",
       "      <td>0.829787</td>\n",
       "      <td>00:34</td>\n",
       "    </tr>\n",
       "    <tr>\n",
       "      <td>10</td>\n",
       "      <td>0.094598</td>\n",
       "      <td>0.216563</td>\n",
       "      <td>0.827728</td>\n",
       "      <td>00:36</td>\n",
       "    </tr>\n",
       "    <tr>\n",
       "      <td>11</td>\n",
       "      <td>0.088326</td>\n",
       "      <td>0.216159</td>\n",
       "      <td>0.824296</td>\n",
       "      <td>00:37</td>\n",
       "    </tr>\n",
       "    <tr>\n",
       "      <td>12</td>\n",
       "      <td>0.082167</td>\n",
       "      <td>0.206590</td>\n",
       "      <td>0.828415</td>\n",
       "      <td>00:35</td>\n",
       "    </tr>\n",
       "    <tr>\n",
       "      <td>13</td>\n",
       "      <td>0.076284</td>\n",
       "      <td>0.200940</td>\n",
       "      <td>0.837680</td>\n",
       "      <td>00:36</td>\n",
       "    </tr>\n",
       "    <tr>\n",
       "      <td>14</td>\n",
       "      <td>0.072290</td>\n",
       "      <td>0.210636</td>\n",
       "      <td>0.831160</td>\n",
       "      <td>00:37</td>\n",
       "    </tr>\n",
       "    <tr>\n",
       "      <td>15</td>\n",
       "      <td>0.070211</td>\n",
       "      <td>0.208524</td>\n",
       "      <td>0.833562</td>\n",
       "      <td>00:33</td>\n",
       "    </tr>\n",
       "    <tr>\n",
       "      <td>16</td>\n",
       "      <td>0.067107</td>\n",
       "      <td>0.210288</td>\n",
       "      <td>0.828758</td>\n",
       "      <td>00:38</td>\n",
       "    </tr>\n",
       "    <tr>\n",
       "      <td>17</td>\n",
       "      <td>0.066069</td>\n",
       "      <td>0.209237</td>\n",
       "      <td>0.832876</td>\n",
       "      <td>00:36</td>\n",
       "    </tr>\n",
       "    <tr>\n",
       "      <td>18</td>\n",
       "      <td>0.065103</td>\n",
       "      <td>0.210881</td>\n",
       "      <td>0.831503</td>\n",
       "      <td>00:36</td>\n",
       "    </tr>\n",
       "    <tr>\n",
       "      <td>19</td>\n",
       "      <td>0.062061</td>\n",
       "      <td>0.209445</td>\n",
       "      <td>0.830817</td>\n",
       "      <td>00:34</td>\n",
       "    </tr>\n",
       "  </tbody>\n",
       "</table>"
      ],
      "text/plain": [
       "<IPython.core.display.HTML object>"
      ]
     },
     "metadata": {},
     "output_type": "display_data"
    },
    {
     "name": "stdout",
     "output_type": "stream",
     "text": [
      "Better model found at epoch 0 with valid_loss value: 0.24663695693016052.\n",
      "Better model found at epoch 1 with valid_loss value: 0.24040737748146057.\n",
      "Better model found at epoch 2 with valid_loss value: 0.22550365328788757.\n",
      "Better model found at epoch 4 with valid_loss value: 0.21007531881332397.\n",
      "Better model found at epoch 6 with valid_loss value: 0.20957113802433014.\n",
      "Better model found at epoch 9 with valid_loss value: 0.2023918330669403.\n",
      "Better model found at epoch 13 with valid_loss value: 0.20093950629234314.\n"
     ]
    },
    {
     "data": {
      "text/html": [
       "<pre style=\"white-space:pre;overflow-x:auto;line-height:normal;font-family:Menlo,'DejaVu Sans Mono',consolas,'Courier New',monospace\"><span style=\"color: #7fbfbf; text-decoration-color: #7fbfbf\">[17:42:08] </span><span style=\"color: #000080; text-decoration-color: #000080\">INFO    </span> Predictions saved to                                                                           \n",
       "<span style=\"color: #7fbfbf; text-decoration-color: #7fbfbf\">           </span>         <span style=\"color: #008000; text-decoration-color: #008000\">/mnt/d/Declich/GitHub/UMD/projects/trained_models/ABMIL-I3LUNG-AD-noqc-nostainnorm/00008-uni/pr</span>\n",
       "<span style=\"color: #7fbfbf; text-decoration-color: #7fbfbf\">           </span>         <span style=\"color: #008000; text-decoration-color: #008000\">edictions.parquet</span>                                                                              \n",
       "</pre>\n"
      ],
      "text/plain": [
       "\u001b[2;36m[17:42:08]\u001b[0m\u001b[2;36m \u001b[0m\u001b[34mINFO    \u001b[0m Predictions saved to                                                                           \n",
       "\u001b[2;36m           \u001b[0m         \u001b[32m/mnt/d/Declich/GitHub/UMD/projects/trained_models/ABMIL-I3LUNG-AD-noqc-nostainnorm/00008-uni/pr\u001b[0m\n",
       "\u001b[2;36m           \u001b[0m         \u001b[32medictions.parquet\u001b[0m                                                                              \n"
      ]
     },
     "metadata": {},
     "output_type": "display_data"
    },
    {
     "data": {
      "text/html": [
       "<pre style=\"white-space:pre;overflow-x:auto;line-height:normal;font-family:Menlo,'DejaVu Sans Mono',consolas,'Courier New',monospace\"><span style=\"color: #7fbfbf; text-decoration-color: #7fbfbf\">           </span><span style=\"color: #000080; text-decoration-color: #000080\">INFO    </span> Validation metrics for outcome <span style=\"color: #008000; text-decoration-color: #008000\">HISTOLOGY</span>:                                                      \n",
       "</pre>\n"
      ],
      "text/plain": [
       "\u001b[2;36m          \u001b[0m\u001b[2;36m \u001b[0m\u001b[34mINFO    \u001b[0m Validation metrics for outcome \u001b[32mHISTOLOGY\u001b[0m:                                                      \n"
      ]
     },
     "metadata": {},
     "output_type": "display_data"
    },
    {
     "data": {
      "text/html": [
       "<pre style=\"white-space:pre;overflow-x:auto;line-height:normal;font-family:Menlo,'DejaVu Sans Mono',consolas,'Courier New',monospace\"><span style=\"color: #7fbfbf; text-decoration-color: #7fbfbf\">           </span><span style=\"color: #000080; text-decoration-color: #000080\">INFO    </span> slide-level AUC (cat # 0): 0.838 AP: 0.906 (opt. threshold: 0.398)                             \n",
       "</pre>\n"
      ],
      "text/plain": [
       "\u001b[2;36m          \u001b[0m\u001b[2;36m \u001b[0m\u001b[34mINFO    \u001b[0m slide-level AUC (cat # 0): 0.838 AP: 0.906 (opt. threshold: 0.398)                             \n"
      ]
     },
     "metadata": {},
     "output_type": "display_data"
    },
    {
     "data": {
      "text/html": [
       "<pre style=\"white-space:pre;overflow-x:auto;line-height:normal;font-family:Menlo,'DejaVu Sans Mono',consolas,'Courier New',monospace\"><span style=\"color: #7fbfbf; text-decoration-color: #7fbfbf\">           </span><span style=\"color: #000080; text-decoration-color: #000080\">INFO    </span> slide-level AUC (cat # 1): 0.838 AP: 0.678 (opt. threshold: 0.612)                             \n",
       "</pre>\n"
      ],
      "text/plain": [
       "\u001b[2;36m          \u001b[0m\u001b[2;36m \u001b[0m\u001b[34mINFO    \u001b[0m slide-level AUC (cat # 1): 0.838 AP: 0.678 (opt. threshold: 0.612)                             \n"
      ]
     },
     "metadata": {},
     "output_type": "display_data"
    },
    {
     "data": {
      "text/html": [
       "<pre style=\"white-space:pre;overflow-x:auto;line-height:normal;font-family:Menlo,'DejaVu Sans Mono',consolas,'Courier New',monospace\"><span style=\"color: #7fbfbf; text-decoration-color: #7fbfbf\">           </span><span style=\"color: #000080; text-decoration-color: #000080\">INFO    </span> Category 0 acc: 85.1% (80/94)                                                                  \n",
       "</pre>\n"
      ],
      "text/plain": [
       "\u001b[2;36m          \u001b[0m\u001b[2;36m \u001b[0m\u001b[34mINFO    \u001b[0m Category 0 acc: 85.1% (80/94)                                                                  \n"
      ]
     },
     "metadata": {},
     "output_type": "display_data"
    },
    {
     "data": {
      "text/html": [
       "<pre style=\"white-space:pre;overflow-x:auto;line-height:normal;font-family:Menlo,'DejaVu Sans Mono',consolas,'Courier New',monospace\"><span style=\"color: #7fbfbf; text-decoration-color: #7fbfbf\">           </span><span style=\"color: #000080; text-decoration-color: #000080\">INFO    </span> Category 1 acc: 77.4% (24/31)                                                                  \n",
       "</pre>\n"
      ],
      "text/plain": [
       "\u001b[2;36m          \u001b[0m\u001b[2;36m \u001b[0m\u001b[34mINFO    \u001b[0m Category 1 acc: 77.4% (24/31)                                                                  \n"
      ]
     },
     "metadata": {},
     "output_type": "display_data"
    },
    {
     "data": {
      "text/html": [
       "<pre style=\"white-space:pre;overflow-x:auto;line-height:normal;font-family:Menlo,'DejaVu Sans Mono',consolas,'Courier New',monospace\"><span style=\"color: #7fbfbf; text-decoration-color: #7fbfbf\">[17:42:09] </span><span style=\"color: #000080; text-decoration-color: #000080\">INFO    </span> Attention scores exported to                                                                   \n",
       "<span style=\"color: #7fbfbf; text-decoration-color: #7fbfbf\">           </span>         <span style=\"color: #008000; text-decoration-color: #008000\">/mnt/d/Declich/GitHub/UMD/projects/trained_models/ABMIL-I3LUNG-AD-noqc-nostainnorm/00008-uni/at</span>\n",
       "<span style=\"color: #7fbfbf; text-decoration-color: #7fbfbf\">           </span>         <span style=\"color: #008000; text-decoration-color: #008000\">tention/DIG_PAT_1725902645_att.npz</span>                                                             \n",
       "</pre>\n"
      ],
      "text/plain": [
       "\u001b[2;36m[17:42:09]\u001b[0m\u001b[2;36m \u001b[0m\u001b[34mINFO    \u001b[0m Attention scores exported to                                                                   \n",
       "\u001b[2;36m           \u001b[0m         \u001b[32m/mnt/d/Declich/GitHub/UMD/projects/trained_models/ABMIL-I3LUNG-AD-noqc-nostainnorm/00008-uni/at\u001b[0m\n",
       "\u001b[2;36m           \u001b[0m         \u001b[32mtention/DIG_PAT_1725902645_att.npz\u001b[0m                                                             \n"
      ]
     },
     "metadata": {},
     "output_type": "display_data"
    },
    {
     "name": "stdout",
     "output_type": "stream",
     "text": [
      "Random seed set to: 58671338\n"
     ]
    },
    {
     "data": {
      "text/html": [
       "<pre style=\"white-space:pre;overflow-x:auto;line-height:normal;font-family:Menlo,'DejaVu Sans Mono',consolas,'Courier New',monospace\"><span style=\"color: #7fbfbf; text-decoration-color: #7fbfbf\">           </span><span style=\"color: #808000; text-decoration-color: #808000\">WARNING </span> <span style=\"color: #808000; text-decoration-color: #808000\">297 slides missing tfrecords, skipping</span>                                                         \n",
       "</pre>\n"
      ],
      "text/plain": [
       "\u001b[2;36m          \u001b[0m\u001b[2;36m \u001b[0m\u001b[33mWARNING \u001b[0m \u001b[33m297 slides missing tfrecords, skipping\u001b[0m                                                         \n"
      ]
     },
     "metadata": {},
     "output_type": "display_data"
    },
    {
     "data": {
      "text/html": [
       "<pre style=\"white-space:pre;overflow-x:auto;line-height:normal;font-family:Menlo,'DejaVu Sans Mono',consolas,'Courier New',monospace\"><span style=\"color: #7fbfbf; text-decoration-color: #7fbfbf\">           </span><span style=\"color: #000080; text-decoration-color: #000080\">INFO    </span> No training/validation splits file provided.                                                   \n",
       "</pre>\n"
      ],
      "text/plain": [
       "\u001b[2;36m          \u001b[0m\u001b[2;36m \u001b[0m\u001b[34mINFO    \u001b[0m No training/validation splits file provided.                                                   \n"
      ]
     },
     "metadata": {},
     "output_type": "display_data"
    },
    {
     "data": {
      "text/html": [
       "<pre style=\"white-space:pre;overflow-x:auto;line-height:normal;font-family:Menlo,'DejaVu Sans Mono',consolas,'Courier New',monospace\"><span style=\"color: #7fbfbf; text-decoration-color: #7fbfbf\">           </span><span style=\"color: #000080; text-decoration-color: #000080\">INFO    </span> Unable to save or load validation splits.                                                      \n",
       "</pre>\n"
      ],
      "text/plain": [
       "\u001b[2;36m          \u001b[0m\u001b[2;36m \u001b[0m\u001b[34mINFO    \u001b[0m Unable to save or load validation splits.                                                      \n"
      ]
     },
     "metadata": {},
     "output_type": "display_data"
    },
    {
     "data": {
      "text/html": [
       "<pre style=\"white-space:pre;overflow-x:auto;line-height:normal;font-family:Menlo,'DejaVu Sans Mono',consolas,'Courier New',monospace\"><span style=\"color: #7fbfbf; text-decoration-color: #7fbfbf\">[17:42:10] </span><span style=\"color: #000080; text-decoration-color: #000080\">INFO    </span> Training FastAI MIL model with config:                                                         \n",
       "</pre>\n"
      ],
      "text/plain": [
       "\u001b[2;36m[17:42:10]\u001b[0m\u001b[2;36m \u001b[0m\u001b[34mINFO    \u001b[0m Training FastAI MIL model with config:                                                         \n"
      ]
     },
     "metadata": {},
     "output_type": "display_data"
    },
    {
     "data": {
      "text/html": [
       "<pre style=\"white-space:pre;overflow-x:auto;line-height:normal;font-family:Menlo,'DejaVu Sans Mono',consolas,'Courier New',monospace\"><span style=\"color: #7fbfbf; text-decoration-color: #7fbfbf\">           </span><span style=\"color: #000080; text-decoration-color: #000080\">INFO    </span> TrainerConfig(                                                                                 \n",
       "<span style=\"color: #7fbfbf; text-decoration-color: #7fbfbf\">           </span>           lr=0.0001                                                                                    \n",
       "<span style=\"color: #7fbfbf; text-decoration-color: #7fbfbf\">           </span>           wd=1e-05                                                                                     \n",
       "<span style=\"color: #7fbfbf; text-decoration-color: #7fbfbf\">           </span>           bag_size=1024                                                                                \n",
       "<span style=\"color: #7fbfbf; text-decoration-color: #7fbfbf\">           </span>           max_val_bag_size=None                                                                        \n",
       "<span style=\"color: #7fbfbf; text-decoration-color: #7fbfbf\">           </span>           fit_one_cycle=True                                                                           \n",
       "<span style=\"color: #7fbfbf; text-decoration-color: #7fbfbf\">           </span>           epochs=20                                                                                    \n",
       "<span style=\"color: #7fbfbf; text-decoration-color: #7fbfbf\">           </span>           batch_size=16                                                                                \n",
       "<span style=\"color: #7fbfbf; text-decoration-color: #7fbfbf\">           </span>           drop_last=True                                                                               \n",
       "<span style=\"color: #7fbfbf; text-decoration-color: #7fbfbf\">           </span>           save_monitor='valid_loss'                                                                    \n",
       "<span style=\"color: #7fbfbf; text-decoration-color: #7fbfbf\">           </span>           weighted_loss=True                                                                           \n",
       "<span style=\"color: #7fbfbf; text-decoration-color: #7fbfbf\">           </span>           model='attention_mil'                                                                        \n",
       "<span style=\"color: #7fbfbf; text-decoration-color: #7fbfbf\">           </span>           model_kwargs=None                                                                            \n",
       "<span style=\"color: #7fbfbf; text-decoration-color: #7fbfbf\">           </span>           loss='cross_entropy'                                                                         \n",
       "<span style=\"color: #7fbfbf; text-decoration-color: #7fbfbf\">           </span>           use_lens=True                                                                                \n",
       "<span style=\"color: #7fbfbf; text-decoration-color: #7fbfbf\">           </span>         )                                                                                              \n",
       "</pre>\n"
      ],
      "text/plain": [
       "\u001b[2;36m          \u001b[0m\u001b[2;36m \u001b[0m\u001b[34mINFO    \u001b[0m TrainerConfig(                                                                                 \n",
       "\u001b[2;36m           \u001b[0m           lr=0.0001                                                                                    \n",
       "\u001b[2;36m           \u001b[0m           wd=1e-05                                                                                     \n",
       "\u001b[2;36m           \u001b[0m           bag_size=1024                                                                                \n",
       "\u001b[2;36m           \u001b[0m           max_val_bag_size=None                                                                        \n",
       "\u001b[2;36m           \u001b[0m           fit_one_cycle=True                                                                           \n",
       "\u001b[2;36m           \u001b[0m           epochs=20                                                                                    \n",
       "\u001b[2;36m           \u001b[0m           batch_size=16                                                                                \n",
       "\u001b[2;36m           \u001b[0m           drop_last=True                                                                               \n",
       "\u001b[2;36m           \u001b[0m           save_monitor='valid_loss'                                                                    \n",
       "\u001b[2;36m           \u001b[0m           weighted_loss=True                                                                           \n",
       "\u001b[2;36m           \u001b[0m           model='attention_mil'                                                                        \n",
       "\u001b[2;36m           \u001b[0m           model_kwargs=None                                                                            \n",
       "\u001b[2;36m           \u001b[0m           loss='cross_entropy'                                                                         \n",
       "\u001b[2;36m           \u001b[0m           use_lens=True                                                                                \n",
       "\u001b[2;36m           \u001b[0m         )                                                                                              \n"
      ]
     },
     "metadata": {},
     "output_type": "display_data"
    },
    {
     "data": {
      "text/html": [
       "<pre style=\"white-space:pre;overflow-x:auto;line-height:normal;font-family:Menlo,'DejaVu Sans Mono',consolas,'Courier New',monospace\"><span style=\"color: #7fbfbf; text-decoration-color: #7fbfbf\">           </span><span style=\"color: #000080; text-decoration-color: #000080\">INFO    </span> Training dataset: 492 merged bags (from 492 possible slides)                                   \n",
       "</pre>\n"
      ],
      "text/plain": [
       "\u001b[2;36m          \u001b[0m\u001b[2;36m \u001b[0m\u001b[34mINFO    \u001b[0m Training dataset: 492 merged bags (from 492 possible slides)                                   \n"
      ]
     },
     "metadata": {},
     "output_type": "display_data"
    },
    {
     "data": {
      "text/html": [
       "<pre style=\"white-space:pre;overflow-x:auto;line-height:normal;font-family:Menlo,'DejaVu Sans Mono',consolas,'Courier New',monospace\"><span style=\"color: #7fbfbf; text-decoration-color: #7fbfbf\">           </span><span style=\"color: #000080; text-decoration-color: #000080\">INFO    </span> Validation dataset: 126 merged bags (from 126 possible slides)                                 \n",
       "</pre>\n"
      ],
      "text/plain": [
       "\u001b[2;36m          \u001b[0m\u001b[2;36m \u001b[0m\u001b[34mINFO    \u001b[0m Validation dataset: 126 merged bags (from 126 possible slides)                                 \n"
      ]
     },
     "metadata": {},
     "output_type": "display_data"
    },
    {
     "data": {
      "text/html": [
       "<pre style=\"white-space:pre;overflow-x:auto;line-height:normal;font-family:Menlo,'DejaVu Sans Mono',consolas,'Courier New',monospace\"><span style=\"color: #7fbfbf; text-decoration-color: #7fbfbf\">[17:42:11] </span><span style=\"color: #000080; text-decoration-color: #000080\">INFO    </span> Building model <span style=\"font-weight: bold\">Attention_MIL</span> (n_in=1024, n_out=2)                                              \n",
       "</pre>\n"
      ],
      "text/plain": [
       "\u001b[2;36m[17:42:11]\u001b[0m\u001b[2;36m \u001b[0m\u001b[34mINFO    \u001b[0m Building model \u001b[1mAttention_MIL\u001b[0m (n_in=1024, n_out=2)                                              \n"
      ]
     },
     "metadata": {},
     "output_type": "display_data"
    },
    {
     "data": {
      "text/html": [
       "\n",
       "<style>\n",
       "    /* Turns off some styling */\n",
       "    progress {\n",
       "        /* gets rid of default border in Firefox and Opera. */\n",
       "        border: none;\n",
       "        /* Needs to be in here for Safari polyfill so background images work as expected. */\n",
       "        background-size: auto;\n",
       "    }\n",
       "    progress:not([value]), progress:not([value])::-webkit-progress-bar {\n",
       "        background: repeating-linear-gradient(45deg, #7e7e7e, #7e7e7e 10px, #5c5c5c 10px, #5c5c5c 20px);\n",
       "    }\n",
       "    .progress-bar-interrupted, .progress-bar-interrupted::-webkit-progress-bar {\n",
       "        background: #F44336;\n",
       "    }\n",
       "</style>\n"
      ],
      "text/plain": [
       "<IPython.core.display.HTML object>"
      ]
     },
     "metadata": {},
     "output_type": "display_data"
    },
    {
     "data": {
      "text/html": [
       "<table border=\"1\" class=\"dataframe\">\n",
       "  <thead>\n",
       "    <tr style=\"text-align: left;\">\n",
       "      <th>epoch</th>\n",
       "      <th>train_loss</th>\n",
       "      <th>valid_loss</th>\n",
       "      <th>roc_auc_score</th>\n",
       "      <th>time</th>\n",
       "    </tr>\n",
       "  </thead>\n",
       "  <tbody>\n",
       "    <tr>\n",
       "      <td>0</td>\n",
       "      <td>0.298792</td>\n",
       "      <td>0.295940</td>\n",
       "      <td>0.341805</td>\n",
       "      <td>00:36</td>\n",
       "    </tr>\n",
       "    <tr>\n",
       "      <td>1</td>\n",
       "      <td>0.284765</td>\n",
       "      <td>0.291517</td>\n",
       "      <td>0.399804</td>\n",
       "      <td>00:33</td>\n",
       "    </tr>\n",
       "    <tr>\n",
       "      <td>2</td>\n",
       "      <td>0.258589</td>\n",
       "      <td>0.240235</td>\n",
       "      <td>0.635060</td>\n",
       "      <td>00:36</td>\n",
       "    </tr>\n",
       "    <tr>\n",
       "      <td>3</td>\n",
       "      <td>0.228345</td>\n",
       "      <td>0.208651</td>\n",
       "      <td>0.765070</td>\n",
       "      <td>00:36</td>\n",
       "    </tr>\n",
       "    <tr>\n",
       "      <td>4</td>\n",
       "      <td>0.202584</td>\n",
       "      <td>0.175070</td>\n",
       "      <td>0.863473</td>\n",
       "      <td>00:38</td>\n",
       "    </tr>\n",
       "    <tr>\n",
       "      <td>5</td>\n",
       "      <td>0.175547</td>\n",
       "      <td>0.172194</td>\n",
       "      <td>0.863473</td>\n",
       "      <td>00:37</td>\n",
       "    </tr>\n",
       "    <tr>\n",
       "      <td>6</td>\n",
       "      <td>0.152284</td>\n",
       "      <td>0.157820</td>\n",
       "      <td>0.884001</td>\n",
       "      <td>00:35</td>\n",
       "    </tr>\n",
       "    <tr>\n",
       "      <td>7</td>\n",
       "      <td>0.141241</td>\n",
       "      <td>0.150786</td>\n",
       "      <td>0.898338</td>\n",
       "      <td>00:35</td>\n",
       "    </tr>\n",
       "    <tr>\n",
       "      <td>8</td>\n",
       "      <td>0.132726</td>\n",
       "      <td>0.158356</td>\n",
       "      <td>0.885630</td>\n",
       "      <td>00:36</td>\n",
       "    </tr>\n",
       "    <tr>\n",
       "      <td>9</td>\n",
       "      <td>0.121249</td>\n",
       "      <td>0.149160</td>\n",
       "      <td>0.900619</td>\n",
       "      <td>00:36</td>\n",
       "    </tr>\n",
       "    <tr>\n",
       "      <td>10</td>\n",
       "      <td>0.114189</td>\n",
       "      <td>0.142360</td>\n",
       "      <td>0.902574</td>\n",
       "      <td>00:36</td>\n",
       "    </tr>\n",
       "    <tr>\n",
       "      <td>11</td>\n",
       "      <td>0.107973</td>\n",
       "      <td>0.134681</td>\n",
       "      <td>0.907462</td>\n",
       "      <td>00:33</td>\n",
       "    </tr>\n",
       "    <tr>\n",
       "      <td>12</td>\n",
       "      <td>0.100406</td>\n",
       "      <td>0.133658</td>\n",
       "      <td>0.907136</td>\n",
       "      <td>00:34</td>\n",
       "    </tr>\n",
       "    <tr>\n",
       "      <td>13</td>\n",
       "      <td>0.088782</td>\n",
       "      <td>0.136440</td>\n",
       "      <td>0.907136</td>\n",
       "      <td>00:43</td>\n",
       "    </tr>\n",
       "    <tr>\n",
       "      <td>14</td>\n",
       "      <td>0.091012</td>\n",
       "      <td>0.130800</td>\n",
       "      <td>0.912675</td>\n",
       "      <td>00:54</td>\n",
       "    </tr>\n",
       "    <tr>\n",
       "      <td>15</td>\n",
       "      <td>0.087904</td>\n",
       "      <td>0.129967</td>\n",
       "      <td>0.917237</td>\n",
       "      <td>00:52</td>\n",
       "    </tr>\n",
       "    <tr>\n",
       "      <td>16</td>\n",
       "      <td>0.082307</td>\n",
       "      <td>0.128340</td>\n",
       "      <td>0.919192</td>\n",
       "      <td>00:44</td>\n",
       "    </tr>\n",
       "    <tr>\n",
       "      <td>17</td>\n",
       "      <td>0.078580</td>\n",
       "      <td>0.130390</td>\n",
       "      <td>0.911046</td>\n",
       "      <td>00:45</td>\n",
       "    </tr>\n",
       "    <tr>\n",
       "      <td>18</td>\n",
       "      <td>0.080433</td>\n",
       "      <td>0.133592</td>\n",
       "      <td>0.906158</td>\n",
       "      <td>00:51</td>\n",
       "    </tr>\n",
       "    <tr>\n",
       "      <td>19</td>\n",
       "      <td>0.075391</td>\n",
       "      <td>0.135290</td>\n",
       "      <td>0.903226</td>\n",
       "      <td>00:48</td>\n",
       "    </tr>\n",
       "  </tbody>\n",
       "</table>"
      ],
      "text/plain": [
       "<IPython.core.display.HTML object>"
      ]
     },
     "metadata": {},
     "output_type": "display_data"
    },
    {
     "name": "stdout",
     "output_type": "stream",
     "text": [
      "Better model found at epoch 0 with valid_loss value: 0.29594048857688904.\n",
      "Better model found at epoch 1 with valid_loss value: 0.2915169298648834.\n",
      "Better model found at epoch 2 with valid_loss value: 0.24023500084877014.\n",
      "Better model found at epoch 3 with valid_loss value: 0.20865142345428467.\n",
      "Better model found at epoch 4 with valid_loss value: 0.17507007718086243.\n",
      "Better model found at epoch 5 with valid_loss value: 0.17219413816928864.\n",
      "Better model found at epoch 6 with valid_loss value: 0.15782025456428528.\n",
      "Better model found at epoch 7 with valid_loss value: 0.15078620612621307.\n",
      "Better model found at epoch 9 with valid_loss value: 0.14916019141674042.\n",
      "Better model found at epoch 10 with valid_loss value: 0.14235976338386536.\n",
      "Better model found at epoch 11 with valid_loss value: 0.1346806287765503.\n",
      "Better model found at epoch 12 with valid_loss value: 0.13365764915943146.\n",
      "Better model found at epoch 14 with valid_loss value: 0.130800262093544.\n",
      "Better model found at epoch 15 with valid_loss value: 0.12996718287467957.\n",
      "Better model found at epoch 16 with valid_loss value: 0.12834037840366364.\n"
     ]
    },
    {
     "data": {
      "text/html": [
       "<pre style=\"white-space:pre;overflow-x:auto;line-height:normal;font-family:Menlo,'DejaVu Sans Mono',consolas,'Courier New',monospace\"><span style=\"color: #7fbfbf; text-decoration-color: #7fbfbf\">[17:55:51] </span><span style=\"color: #000080; text-decoration-color: #000080\">INFO    </span> Predictions saved to                                                                           \n",
       "<span style=\"color: #7fbfbf; text-decoration-color: #7fbfbf\">           </span>         <span style=\"color: #008000; text-decoration-color: #008000\">/mnt/d/Declich/GitHub/UMD/projects/trained_models/ABMIL-I3LUNG-AD-noqc-nostainnorm/00009-uni/pr</span>\n",
       "<span style=\"color: #7fbfbf; text-decoration-color: #7fbfbf\">           </span>         <span style=\"color: #008000; text-decoration-color: #008000\">edictions.parquet</span>                                                                              \n",
       "</pre>\n"
      ],
      "text/plain": [
       "\u001b[2;36m[17:55:51]\u001b[0m\u001b[2;36m \u001b[0m\u001b[34mINFO    \u001b[0m Predictions saved to                                                                           \n",
       "\u001b[2;36m           \u001b[0m         \u001b[32m/mnt/d/Declich/GitHub/UMD/projects/trained_models/ABMIL-I3LUNG-AD-noqc-nostainnorm/00009-uni/pr\u001b[0m\n",
       "\u001b[2;36m           \u001b[0m         \u001b[32medictions.parquet\u001b[0m                                                                              \n"
      ]
     },
     "metadata": {},
     "output_type": "display_data"
    },
    {
     "data": {
      "text/html": [
       "<pre style=\"white-space:pre;overflow-x:auto;line-height:normal;font-family:Menlo,'DejaVu Sans Mono',consolas,'Courier New',monospace\"><span style=\"color: #7fbfbf; text-decoration-color: #7fbfbf\">           </span><span style=\"color: #000080; text-decoration-color: #000080\">INFO    </span> Validation metrics for outcome <span style=\"color: #008000; text-decoration-color: #008000\">HISTOLOGY</span>:                                                      \n",
       "</pre>\n"
      ],
      "text/plain": [
       "\u001b[2;36m          \u001b[0m\u001b[2;36m \u001b[0m\u001b[34mINFO    \u001b[0m Validation metrics for outcome \u001b[32mHISTOLOGY\u001b[0m:                                                      \n"
      ]
     },
     "metadata": {},
     "output_type": "display_data"
    },
    {
     "data": {
      "text/html": [
       "<pre style=\"white-space:pre;overflow-x:auto;line-height:normal;font-family:Menlo,'DejaVu Sans Mono',consolas,'Courier New',monospace\"><span style=\"color: #7fbfbf; text-decoration-color: #7fbfbf\">           </span><span style=\"color: #000080; text-decoration-color: #000080\">INFO    </span> slide-level AUC (cat # 0): 0.919 AP: 0.941 (opt. threshold: 0.314)                             \n",
       "</pre>\n"
      ],
      "text/plain": [
       "\u001b[2;36m          \u001b[0m\u001b[2;36m \u001b[0m\u001b[34mINFO    \u001b[0m slide-level AUC (cat # 0): 0.919 AP: 0.941 (opt. threshold: 0.314)                             \n"
      ]
     },
     "metadata": {},
     "output_type": "display_data"
    },
    {
     "data": {
      "text/html": [
       "<pre style=\"white-space:pre;overflow-x:auto;line-height:normal;font-family:Menlo,'DejaVu Sans Mono',consolas,'Courier New',monospace\"><span style=\"color: #7fbfbf; text-decoration-color: #7fbfbf\">[17:55:52] </span><span style=\"color: #000080; text-decoration-color: #000080\">INFO    </span> slide-level AUC (cat # 1): 0.919 AP: 0.912 (opt. threshold: 0.702)                             \n",
       "</pre>\n"
      ],
      "text/plain": [
       "\u001b[2;36m[17:55:52]\u001b[0m\u001b[2;36m \u001b[0m\u001b[34mINFO    \u001b[0m slide-level AUC (cat # 1): 0.919 AP: 0.912 (opt. threshold: 0.702)                             \n"
      ]
     },
     "metadata": {},
     "output_type": "display_data"
    },
    {
     "data": {
      "text/html": [
       "<pre style=\"white-space:pre;overflow-x:auto;line-height:normal;font-family:Menlo,'DejaVu Sans Mono',consolas,'Courier New',monospace\"><span style=\"color: #7fbfbf; text-decoration-color: #7fbfbf\">           </span><span style=\"color: #000080; text-decoration-color: #000080\">INFO    </span> Category 0 acc: 78.5% (73/93)                                                                  \n",
       "</pre>\n"
      ],
      "text/plain": [
       "\u001b[2;36m          \u001b[0m\u001b[2;36m \u001b[0m\u001b[34mINFO    \u001b[0m Category 0 acc: 78.5% (73/93)                                                                  \n"
      ]
     },
     "metadata": {},
     "output_type": "display_data"
    },
    {
     "data": {
      "text/html": [
       "<pre style=\"white-space:pre;overflow-x:auto;line-height:normal;font-family:Menlo,'DejaVu Sans Mono',consolas,'Courier New',monospace\"><span style=\"color: #7fbfbf; text-decoration-color: #7fbfbf\">           </span><span style=\"color: #000080; text-decoration-color: #000080\">INFO    </span> Category 1 acc: 90.9% (30/33)                                                                  \n",
       "</pre>\n"
      ],
      "text/plain": [
       "\u001b[2;36m          \u001b[0m\u001b[2;36m \u001b[0m\u001b[34mINFO    \u001b[0m Category 1 acc: 90.9% (30/33)                                                                  \n"
      ]
     },
     "metadata": {},
     "output_type": "display_data"
    },
    {
     "data": {
      "text/html": [
       "<pre style=\"white-space:pre;overflow-x:auto;line-height:normal;font-family:Menlo,'DejaVu Sans Mono',consolas,'Courier New',monospace\"><span style=\"color: #7fbfbf; text-decoration-color: #7fbfbf\">[17:55:53] </span><span style=\"color: #000080; text-decoration-color: #000080\">INFO    </span> Attention scores exported to                                                                   \n",
       "<span style=\"color: #7fbfbf; text-decoration-color: #7fbfbf\">           </span>         <span style=\"color: #008000; text-decoration-color: #008000\">/mnt/d/Declich/GitHub/UMD/projects/trained_models/ABMIL-I3LUNG-AD-noqc-nostainnorm/00009-uni/at</span>\n",
       "<span style=\"color: #7fbfbf; text-decoration-color: #7fbfbf\">           </span>         <span style=\"color: #008000; text-decoration-color: #008000\">tention/DIG_PAT_1725901484_att.npz</span>                                                             \n",
       "</pre>\n"
      ],
      "text/plain": [
       "\u001b[2;36m[17:55:53]\u001b[0m\u001b[2;36m \u001b[0m\u001b[34mINFO    \u001b[0m Attention scores exported to                                                                   \n",
       "\u001b[2;36m           \u001b[0m         \u001b[32m/mnt/d/Declich/GitHub/UMD/projects/trained_models/ABMIL-I3LUNG-AD-noqc-nostainnorm/00009-uni/at\u001b[0m\n",
       "\u001b[2;36m           \u001b[0m         \u001b[32mtention/DIG_PAT_1725901484_att.npz\u001b[0m                                                             \n"
      ]
     },
     "metadata": {},
     "output_type": "display_data"
    },
    {
     "name": "stdout",
     "output_type": "stream",
     "text": [
      "Random seed set to: 78573194\n"
     ]
    },
    {
     "data": {
      "text/html": [
       "<pre style=\"white-space:pre;overflow-x:auto;line-height:normal;font-family:Menlo,'DejaVu Sans Mono',consolas,'Courier New',monospace\"><span style=\"color: #7fbfbf; text-decoration-color: #7fbfbf\">           </span><span style=\"color: #808000; text-decoration-color: #808000\">WARNING </span> <span style=\"color: #808000; text-decoration-color: #808000\">297 slides missing tfrecords, skipping</span>                                                         \n",
       "</pre>\n"
      ],
      "text/plain": [
       "\u001b[2;36m          \u001b[0m\u001b[2;36m \u001b[0m\u001b[33mWARNING \u001b[0m \u001b[33m297 slides missing tfrecords, skipping\u001b[0m                                                         \n"
      ]
     },
     "metadata": {},
     "output_type": "display_data"
    },
    {
     "data": {
      "text/html": [
       "<pre style=\"white-space:pre;overflow-x:auto;line-height:normal;font-family:Menlo,'DejaVu Sans Mono',consolas,'Courier New',monospace\"><span style=\"color: #7fbfbf; text-decoration-color: #7fbfbf\">           </span><span style=\"color: #000080; text-decoration-color: #000080\">INFO    </span> No training/validation splits file provided.                                                   \n",
       "</pre>\n"
      ],
      "text/plain": [
       "\u001b[2;36m          \u001b[0m\u001b[2;36m \u001b[0m\u001b[34mINFO    \u001b[0m No training/validation splits file provided.                                                   \n"
      ]
     },
     "metadata": {},
     "output_type": "display_data"
    },
    {
     "data": {
      "text/html": [
       "<pre style=\"white-space:pre;overflow-x:auto;line-height:normal;font-family:Menlo,'DejaVu Sans Mono',consolas,'Courier New',monospace\"><span style=\"color: #7fbfbf; text-decoration-color: #7fbfbf\">           </span><span style=\"color: #000080; text-decoration-color: #000080\">INFO    </span> Unable to save or load validation splits.                                                      \n",
       "</pre>\n"
      ],
      "text/plain": [
       "\u001b[2;36m          \u001b[0m\u001b[2;36m \u001b[0m\u001b[34mINFO    \u001b[0m Unable to save or load validation splits.                                                      \n"
      ]
     },
     "metadata": {},
     "output_type": "display_data"
    },
    {
     "data": {
      "text/html": [
       "<pre style=\"white-space:pre;overflow-x:auto;line-height:normal;font-family:Menlo,'DejaVu Sans Mono',consolas,'Courier New',monospace\"><span style=\"color: #7fbfbf; text-decoration-color: #7fbfbf\">           </span><span style=\"color: #000080; text-decoration-color: #000080\">INFO    </span> Training FastAI MIL model with config:                                                         \n",
       "</pre>\n"
      ],
      "text/plain": [
       "\u001b[2;36m          \u001b[0m\u001b[2;36m \u001b[0m\u001b[34mINFO    \u001b[0m Training FastAI MIL model with config:                                                         \n"
      ]
     },
     "metadata": {},
     "output_type": "display_data"
    },
    {
     "data": {
      "text/html": [
       "<pre style=\"white-space:pre;overflow-x:auto;line-height:normal;font-family:Menlo,'DejaVu Sans Mono',consolas,'Courier New',monospace\"><span style=\"color: #7fbfbf; text-decoration-color: #7fbfbf\">           </span><span style=\"color: #000080; text-decoration-color: #000080\">INFO    </span> TrainerConfig(                                                                                 \n",
       "<span style=\"color: #7fbfbf; text-decoration-color: #7fbfbf\">           </span>           lr=0.0001                                                                                    \n",
       "<span style=\"color: #7fbfbf; text-decoration-color: #7fbfbf\">           </span>           wd=1e-05                                                                                     \n",
       "<span style=\"color: #7fbfbf; text-decoration-color: #7fbfbf\">           </span>           bag_size=1024                                                                                \n",
       "<span style=\"color: #7fbfbf; text-decoration-color: #7fbfbf\">           </span>           max_val_bag_size=None                                                                        \n",
       "<span style=\"color: #7fbfbf; text-decoration-color: #7fbfbf\">           </span>           fit_one_cycle=True                                                                           \n",
       "<span style=\"color: #7fbfbf; text-decoration-color: #7fbfbf\">           </span>           epochs=20                                                                                    \n",
       "<span style=\"color: #7fbfbf; text-decoration-color: #7fbfbf\">           </span>           batch_size=16                                                                                \n",
       "<span style=\"color: #7fbfbf; text-decoration-color: #7fbfbf\">           </span>           drop_last=True                                                                               \n",
       "<span style=\"color: #7fbfbf; text-decoration-color: #7fbfbf\">           </span>           save_monitor='valid_loss'                                                                    \n",
       "<span style=\"color: #7fbfbf; text-decoration-color: #7fbfbf\">           </span>           weighted_loss=True                                                                           \n",
       "<span style=\"color: #7fbfbf; text-decoration-color: #7fbfbf\">           </span>           model='attention_mil'                                                                        \n",
       "<span style=\"color: #7fbfbf; text-decoration-color: #7fbfbf\">           </span>           model_kwargs=None                                                                            \n",
       "<span style=\"color: #7fbfbf; text-decoration-color: #7fbfbf\">           </span>           loss='cross_entropy'                                                                         \n",
       "<span style=\"color: #7fbfbf; text-decoration-color: #7fbfbf\">           </span>           use_lens=True                                                                                \n",
       "<span style=\"color: #7fbfbf; text-decoration-color: #7fbfbf\">           </span>         )                                                                                              \n",
       "</pre>\n"
      ],
      "text/plain": [
       "\u001b[2;36m          \u001b[0m\u001b[2;36m \u001b[0m\u001b[34mINFO    \u001b[0m TrainerConfig(                                                                                 \n",
       "\u001b[2;36m           \u001b[0m           lr=0.0001                                                                                    \n",
       "\u001b[2;36m           \u001b[0m           wd=1e-05                                                                                     \n",
       "\u001b[2;36m           \u001b[0m           bag_size=1024                                                                                \n",
       "\u001b[2;36m           \u001b[0m           max_val_bag_size=None                                                                        \n",
       "\u001b[2;36m           \u001b[0m           fit_one_cycle=True                                                                           \n",
       "\u001b[2;36m           \u001b[0m           epochs=20                                                                                    \n",
       "\u001b[2;36m           \u001b[0m           batch_size=16                                                                                \n",
       "\u001b[2;36m           \u001b[0m           drop_last=True                                                                               \n",
       "\u001b[2;36m           \u001b[0m           save_monitor='valid_loss'                                                                    \n",
       "\u001b[2;36m           \u001b[0m           weighted_loss=True                                                                           \n",
       "\u001b[2;36m           \u001b[0m           model='attention_mil'                                                                        \n",
       "\u001b[2;36m           \u001b[0m           model_kwargs=None                                                                            \n",
       "\u001b[2;36m           \u001b[0m           loss='cross_entropy'                                                                         \n",
       "\u001b[2;36m           \u001b[0m           use_lens=True                                                                                \n",
       "\u001b[2;36m           \u001b[0m         )                                                                                              \n"
      ]
     },
     "metadata": {},
     "output_type": "display_data"
    },
    {
     "data": {
      "text/html": [
       "<pre style=\"white-space:pre;overflow-x:auto;line-height:normal;font-family:Menlo,'DejaVu Sans Mono',consolas,'Courier New',monospace\"><span style=\"color: #7fbfbf; text-decoration-color: #7fbfbf\">           </span><span style=\"color: #000080; text-decoration-color: #000080\">INFO    </span> Training dataset: 495 merged bags (from 495 possible slides)                                   \n",
       "</pre>\n"
      ],
      "text/plain": [
       "\u001b[2;36m          \u001b[0m\u001b[2;36m \u001b[0m\u001b[34mINFO    \u001b[0m Training dataset: 495 merged bags (from 495 possible slides)                                   \n"
      ]
     },
     "metadata": {},
     "output_type": "display_data"
    },
    {
     "data": {
      "text/html": [
       "<pre style=\"white-space:pre;overflow-x:auto;line-height:normal;font-family:Menlo,'DejaVu Sans Mono',consolas,'Courier New',monospace\"><span style=\"color: #7fbfbf; text-decoration-color: #7fbfbf\">           </span><span style=\"color: #000080; text-decoration-color: #000080\">INFO    </span> Validation dataset: 123 merged bags (from 123 possible slides)                                 \n",
       "</pre>\n"
      ],
      "text/plain": [
       "\u001b[2;36m          \u001b[0m\u001b[2;36m \u001b[0m\u001b[34mINFO    \u001b[0m Validation dataset: 123 merged bags (from 123 possible slides)                                 \n"
      ]
     },
     "metadata": {},
     "output_type": "display_data"
    },
    {
     "data": {
      "text/html": [
       "<pre style=\"white-space:pre;overflow-x:auto;line-height:normal;font-family:Menlo,'DejaVu Sans Mono',consolas,'Courier New',monospace\"><span style=\"color: #7fbfbf; text-decoration-color: #7fbfbf\">[17:55:55] </span><span style=\"color: #000080; text-decoration-color: #000080\">INFO    </span> Building model <span style=\"font-weight: bold\">Attention_MIL</span> (n_in=1024, n_out=2)                                              \n",
       "</pre>\n"
      ],
      "text/plain": [
       "\u001b[2;36m[17:55:55]\u001b[0m\u001b[2;36m \u001b[0m\u001b[34mINFO    \u001b[0m Building model \u001b[1mAttention_MIL\u001b[0m (n_in=1024, n_out=2)                                              \n"
      ]
     },
     "metadata": {},
     "output_type": "display_data"
    },
    {
     "data": {
      "text/html": [
       "\n",
       "<style>\n",
       "    /* Turns off some styling */\n",
       "    progress {\n",
       "        /* gets rid of default border in Firefox and Opera. */\n",
       "        border: none;\n",
       "        /* Needs to be in here for Safari polyfill so background images work as expected. */\n",
       "        background-size: auto;\n",
       "    }\n",
       "    progress:not([value]), progress:not([value])::-webkit-progress-bar {\n",
       "        background: repeating-linear-gradient(45deg, #7e7e7e, #7e7e7e 10px, #5c5c5c 10px, #5c5c5c 20px);\n",
       "    }\n",
       "    .progress-bar-interrupted, .progress-bar-interrupted::-webkit-progress-bar {\n",
       "        background: #F44336;\n",
       "    }\n",
       "</style>\n"
      ],
      "text/plain": [
       "<IPython.core.display.HTML object>"
      ]
     },
     "metadata": {},
     "output_type": "display_data"
    },
    {
     "data": {
      "text/html": [
       "<table border=\"1\" class=\"dataframe\">\n",
       "  <thead>\n",
       "    <tr style=\"text-align: left;\">\n",
       "      <th>epoch</th>\n",
       "      <th>train_loss</th>\n",
       "      <th>valid_loss</th>\n",
       "      <th>roc_auc_score</th>\n",
       "      <th>time</th>\n",
       "    </tr>\n",
       "  </thead>\n",
       "  <tbody>\n",
       "    <tr>\n",
       "      <td>0</td>\n",
       "      <td>0.289444</td>\n",
       "      <td>0.217888</td>\n",
       "      <td>0.626050</td>\n",
       "      <td>00:56</td>\n",
       "    </tr>\n",
       "    <tr>\n",
       "      <td>1</td>\n",
       "      <td>0.272703</td>\n",
       "      <td>0.200809</td>\n",
       "      <td>0.702614</td>\n",
       "      <td>00:53</td>\n",
       "    </tr>\n",
       "    <tr>\n",
       "      <td>2</td>\n",
       "      <td>0.248682</td>\n",
       "      <td>0.193002</td>\n",
       "      <td>0.776377</td>\n",
       "      <td>00:51</td>\n",
       "    </tr>\n",
       "    <tr>\n",
       "      <td>3</td>\n",
       "      <td>0.218460</td>\n",
       "      <td>0.165554</td>\n",
       "      <td>0.860878</td>\n",
       "      <td>00:53</td>\n",
       "    </tr>\n",
       "    <tr>\n",
       "      <td>4</td>\n",
       "      <td>0.199471</td>\n",
       "      <td>0.168764</td>\n",
       "      <td>0.840336</td>\n",
       "      <td>00:52</td>\n",
       "    </tr>\n",
       "    <tr>\n",
       "      <td>5</td>\n",
       "      <td>0.177954</td>\n",
       "      <td>0.164373</td>\n",
       "      <td>0.847806</td>\n",
       "      <td>00:51</td>\n",
       "    </tr>\n",
       "    <tr>\n",
       "      <td>6</td>\n",
       "      <td>0.156550</td>\n",
       "      <td>0.155276</td>\n",
       "      <td>0.859477</td>\n",
       "      <td>00:54</td>\n",
       "    </tr>\n",
       "    <tr>\n",
       "      <td>7</td>\n",
       "      <td>0.137641</td>\n",
       "      <td>0.150845</td>\n",
       "      <td>0.857610</td>\n",
       "      <td>00:53</td>\n",
       "    </tr>\n",
       "    <tr>\n",
       "      <td>8</td>\n",
       "      <td>0.124694</td>\n",
       "      <td>0.163531</td>\n",
       "      <td>0.869748</td>\n",
       "      <td>00:55</td>\n",
       "    </tr>\n",
       "    <tr>\n",
       "      <td>9</td>\n",
       "      <td>0.116720</td>\n",
       "      <td>0.151489</td>\n",
       "      <td>0.879552</td>\n",
       "      <td>00:54</td>\n",
       "    </tr>\n",
       "    <tr>\n",
       "      <td>10</td>\n",
       "      <td>0.103339</td>\n",
       "      <td>0.153538</td>\n",
       "      <td>0.875817</td>\n",
       "      <td>00:56</td>\n",
       "    </tr>\n",
       "    <tr>\n",
       "      <td>11</td>\n",
       "      <td>0.094483</td>\n",
       "      <td>0.141830</td>\n",
       "      <td>0.876751</td>\n",
       "      <td>00:48</td>\n",
       "    </tr>\n",
       "    <tr>\n",
       "      <td>12</td>\n",
       "      <td>0.089237</td>\n",
       "      <td>0.149348</td>\n",
       "      <td>0.881886</td>\n",
       "      <td>00:47</td>\n",
       "    </tr>\n",
       "    <tr>\n",
       "      <td>13</td>\n",
       "      <td>0.081552</td>\n",
       "      <td>0.142462</td>\n",
       "      <td>0.877684</td>\n",
       "      <td>00:50</td>\n",
       "    </tr>\n",
       "    <tr>\n",
       "      <td>14</td>\n",
       "      <td>0.075045</td>\n",
       "      <td>0.145003</td>\n",
       "      <td>0.878151</td>\n",
       "      <td>00:47</td>\n",
       "    </tr>\n",
       "    <tr>\n",
       "      <td>15</td>\n",
       "      <td>0.079170</td>\n",
       "      <td>0.145301</td>\n",
       "      <td>0.876284</td>\n",
       "      <td>00:48</td>\n",
       "    </tr>\n",
       "    <tr>\n",
       "      <td>16</td>\n",
       "      <td>0.075051</td>\n",
       "      <td>0.142529</td>\n",
       "      <td>0.877218</td>\n",
       "      <td>00:45</td>\n",
       "    </tr>\n",
       "    <tr>\n",
       "      <td>17</td>\n",
       "      <td>0.071963</td>\n",
       "      <td>0.144607</td>\n",
       "      <td>0.876751</td>\n",
       "      <td>00:54</td>\n",
       "    </tr>\n",
       "    <tr>\n",
       "      <td>18</td>\n",
       "      <td>0.072254</td>\n",
       "      <td>0.147073</td>\n",
       "      <td>0.876751</td>\n",
       "      <td>00:52</td>\n",
       "    </tr>\n",
       "    <tr>\n",
       "      <td>19</td>\n",
       "      <td>0.070132</td>\n",
       "      <td>0.146296</td>\n",
       "      <td>0.874416</td>\n",
       "      <td>00:44</td>\n",
       "    </tr>\n",
       "  </tbody>\n",
       "</table>"
      ],
      "text/plain": [
       "<IPython.core.display.HTML object>"
      ]
     },
     "metadata": {},
     "output_type": "display_data"
    },
    {
     "name": "stdout",
     "output_type": "stream",
     "text": [
      "Better model found at epoch 0 with valid_loss value: 0.217887744307518.\n",
      "Better model found at epoch 1 with valid_loss value: 0.2008093148469925.\n",
      "Better model found at epoch 2 with valid_loss value: 0.19300207495689392.\n",
      "Better model found at epoch 3 with valid_loss value: 0.1655544489622116.\n",
      "Better model found at epoch 5 with valid_loss value: 0.16437329351902008.\n",
      "Better model found at epoch 6 with valid_loss value: 0.15527568757534027.\n",
      "Better model found at epoch 7 with valid_loss value: 0.15084537863731384.\n",
      "Better model found at epoch 11 with valid_loss value: 0.14183001220226288.\n"
     ]
    },
    {
     "data": {
      "text/html": [
       "<pre style=\"white-space:pre;overflow-x:auto;line-height:normal;font-family:Menlo,'DejaVu Sans Mono',consolas,'Courier New',monospace\"><span style=\"color: #7fbfbf; text-decoration-color: #7fbfbf\">[18:13:18] </span><span style=\"color: #000080; text-decoration-color: #000080\">INFO    </span> Predictions saved to                                                                           \n",
       "<span style=\"color: #7fbfbf; text-decoration-color: #7fbfbf\">           </span>         <span style=\"color: #008000; text-decoration-color: #008000\">/mnt/d/Declich/GitHub/UMD/projects/trained_models/ABMIL-I3LUNG-AD-noqc-nostainnorm/00010-uni/pr</span>\n",
       "<span style=\"color: #7fbfbf; text-decoration-color: #7fbfbf\">           </span>         <span style=\"color: #008000; text-decoration-color: #008000\">edictions.parquet</span>                                                                              \n",
       "</pre>\n"
      ],
      "text/plain": [
       "\u001b[2;36m[18:13:18]\u001b[0m\u001b[2;36m \u001b[0m\u001b[34mINFO    \u001b[0m Predictions saved to                                                                           \n",
       "\u001b[2;36m           \u001b[0m         \u001b[32m/mnt/d/Declich/GitHub/UMD/projects/trained_models/ABMIL-I3LUNG-AD-noqc-nostainnorm/00010-uni/pr\u001b[0m\n",
       "\u001b[2;36m           \u001b[0m         \u001b[32medictions.parquet\u001b[0m                                                                              \n"
      ]
     },
     "metadata": {},
     "output_type": "display_data"
    },
    {
     "data": {
      "text/html": [
       "<pre style=\"white-space:pre;overflow-x:auto;line-height:normal;font-family:Menlo,'DejaVu Sans Mono',consolas,'Courier New',monospace\"><span style=\"color: #7fbfbf; text-decoration-color: #7fbfbf\">           </span><span style=\"color: #000080; text-decoration-color: #000080\">INFO    </span> Validation metrics for outcome <span style=\"color: #008000; text-decoration-color: #008000\">HISTOLOGY</span>:                                                      \n",
       "</pre>\n"
      ],
      "text/plain": [
       "\u001b[2;36m          \u001b[0m\u001b[2;36m \u001b[0m\u001b[34mINFO    \u001b[0m Validation metrics for outcome \u001b[32mHISTOLOGY\u001b[0m:                                                      \n"
      ]
     },
     "metadata": {},
     "output_type": "display_data"
    },
    {
     "data": {
      "text/html": [
       "<pre style=\"white-space:pre;overflow-x:auto;line-height:normal;font-family:Menlo,'DejaVu Sans Mono',consolas,'Courier New',monospace\"><span style=\"color: #7fbfbf; text-decoration-color: #7fbfbf\">[18:13:19] </span><span style=\"color: #000080; text-decoration-color: #000080\">INFO    </span> slide-level AUC (cat # 0): 0.877 AP: 0.949 (opt. threshold: 0.533)                             \n",
       "</pre>\n"
      ],
      "text/plain": [
       "\u001b[2;36m[18:13:19]\u001b[0m\u001b[2;36m \u001b[0m\u001b[34mINFO    \u001b[0m slide-level AUC (cat # 0): 0.877 AP: 0.949 (opt. threshold: 0.533)                             \n"
      ]
     },
     "metadata": {},
     "output_type": "display_data"
    },
    {
     "data": {
      "text/html": [
       "<pre style=\"white-space:pre;overflow-x:auto;line-height:normal;font-family:Menlo,'DejaVu Sans Mono',consolas,'Courier New',monospace\"><span style=\"color: #7fbfbf; text-decoration-color: #7fbfbf\">           </span><span style=\"color: #000080; text-decoration-color: #000080\">INFO    </span> slide-level AUC (cat # 1): 0.877 AP: 0.771 (opt. threshold: 0.478)                             \n",
       "</pre>\n"
      ],
      "text/plain": [
       "\u001b[2;36m          \u001b[0m\u001b[2;36m \u001b[0m\u001b[34mINFO    \u001b[0m slide-level AUC (cat # 1): 0.877 AP: 0.771 (opt. threshold: 0.478)                             \n"
      ]
     },
     "metadata": {},
     "output_type": "display_data"
    },
    {
     "data": {
      "text/html": [
       "<pre style=\"white-space:pre;overflow-x:auto;line-height:normal;font-family:Menlo,'DejaVu Sans Mono',consolas,'Courier New',monospace\"><span style=\"color: #7fbfbf; text-decoration-color: #7fbfbf\">           </span><span style=\"color: #000080; text-decoration-color: #000080\">INFO    </span> Category 0 acc: 83.3% (85/102)                                                                 \n",
       "</pre>\n"
      ],
      "text/plain": [
       "\u001b[2;36m          \u001b[0m\u001b[2;36m \u001b[0m\u001b[34mINFO    \u001b[0m Category 0 acc: 83.3% (85/102)                                                                 \n"
      ]
     },
     "metadata": {},
     "output_type": "display_data"
    },
    {
     "data": {
      "text/html": [
       "<pre style=\"white-space:pre;overflow-x:auto;line-height:normal;font-family:Menlo,'DejaVu Sans Mono',consolas,'Courier New',monospace\"><span style=\"color: #7fbfbf; text-decoration-color: #7fbfbf\">           </span><span style=\"color: #000080; text-decoration-color: #000080\">INFO    </span> Category 1 acc: 85.7% (18/21)                                                                  \n",
       "</pre>\n"
      ],
      "text/plain": [
       "\u001b[2;36m          \u001b[0m\u001b[2;36m \u001b[0m\u001b[34mINFO    \u001b[0m Category 1 acc: 85.7% (18/21)                                                                  \n"
      ]
     },
     "metadata": {},
     "output_type": "display_data"
    },
    {
     "data": {
      "text/html": [
       "<pre style=\"white-space:pre;overflow-x:auto;line-height:normal;font-family:Menlo,'DejaVu Sans Mono',consolas,'Courier New',monospace\"><span style=\"color: #7fbfbf; text-decoration-color: #7fbfbf\">[18:13:20] </span><span style=\"color: #000080; text-decoration-color: #000080\">INFO    </span> Attention scores exported to                                                                   \n",
       "<span style=\"color: #7fbfbf; text-decoration-color: #7fbfbf\">           </span>         <span style=\"color: #008000; text-decoration-color: #008000\">/mnt/d/Declich/GitHub/UMD/projects/trained_models/ABMIL-I3LUNG-AD-noqc-nostainnorm/00010-uni/at</span>\n",
       "<span style=\"color: #7fbfbf; text-decoration-color: #7fbfbf\">           </span>         <span style=\"color: #008000; text-decoration-color: #008000\">tention/DIG_PAT_1725901844_att.npz</span>                                                             \n",
       "</pre>\n"
      ],
      "text/plain": [
       "\u001b[2;36m[18:13:20]\u001b[0m\u001b[2;36m \u001b[0m\u001b[34mINFO    \u001b[0m Attention scores exported to                                                                   \n",
       "\u001b[2;36m           \u001b[0m         \u001b[32m/mnt/d/Declich/GitHub/UMD/projects/trained_models/ABMIL-I3LUNG-AD-noqc-nostainnorm/00010-uni/at\u001b[0m\n",
       "\u001b[2;36m           \u001b[0m         \u001b[32mtention/DIG_PAT_1725901844_att.npz\u001b[0m                                                             \n"
      ]
     },
     "metadata": {},
     "output_type": "display_data"
    },
    {
     "name": "stdout",
     "output_type": "stream",
     "text": [
      "Random seed set to: 14099982\n"
     ]
    },
    {
     "data": {
      "text/html": [
       "<pre style=\"white-space:pre;overflow-x:auto;line-height:normal;font-family:Menlo,'DejaVu Sans Mono',consolas,'Courier New',monospace\"><span style=\"color: #7fbfbf; text-decoration-color: #7fbfbf\">           </span><span style=\"color: #808000; text-decoration-color: #808000\">WARNING </span> <span style=\"color: #808000; text-decoration-color: #808000\">297 slides missing tfrecords, skipping</span>                                                         \n",
       "</pre>\n"
      ],
      "text/plain": [
       "\u001b[2;36m          \u001b[0m\u001b[2;36m \u001b[0m\u001b[33mWARNING \u001b[0m \u001b[33m297 slides missing tfrecords, skipping\u001b[0m                                                         \n"
      ]
     },
     "metadata": {},
     "output_type": "display_data"
    },
    {
     "data": {
      "text/html": [
       "<pre style=\"white-space:pre;overflow-x:auto;line-height:normal;font-family:Menlo,'DejaVu Sans Mono',consolas,'Courier New',monospace\"><span style=\"color: #7fbfbf; text-decoration-color: #7fbfbf\">           </span><span style=\"color: #000080; text-decoration-color: #000080\">INFO    </span> No training/validation splits file provided.                                                   \n",
       "</pre>\n"
      ],
      "text/plain": [
       "\u001b[2;36m          \u001b[0m\u001b[2;36m \u001b[0m\u001b[34mINFO    \u001b[0m No training/validation splits file provided.                                                   \n"
      ]
     },
     "metadata": {},
     "output_type": "display_data"
    },
    {
     "data": {
      "text/html": [
       "<pre style=\"white-space:pre;overflow-x:auto;line-height:normal;font-family:Menlo,'DejaVu Sans Mono',consolas,'Courier New',monospace\"><span style=\"color: #7fbfbf; text-decoration-color: #7fbfbf\">           </span><span style=\"color: #000080; text-decoration-color: #000080\">INFO    </span> Unable to save or load validation splits.                                                      \n",
       "</pre>\n"
      ],
      "text/plain": [
       "\u001b[2;36m          \u001b[0m\u001b[2;36m \u001b[0m\u001b[34mINFO    \u001b[0m Unable to save or load validation splits.                                                      \n"
      ]
     },
     "metadata": {},
     "output_type": "display_data"
    },
    {
     "data": {
      "text/html": [
       "<pre style=\"white-space:pre;overflow-x:auto;line-height:normal;font-family:Menlo,'DejaVu Sans Mono',consolas,'Courier New',monospace\"><span style=\"color: #7fbfbf; text-decoration-color: #7fbfbf\">           </span><span style=\"color: #000080; text-decoration-color: #000080\">INFO    </span> Training FastAI MIL model with config:                                                         \n",
       "</pre>\n"
      ],
      "text/plain": [
       "\u001b[2;36m          \u001b[0m\u001b[2;36m \u001b[0m\u001b[34mINFO    \u001b[0m Training FastAI MIL model with config:                                                         \n"
      ]
     },
     "metadata": {},
     "output_type": "display_data"
    },
    {
     "data": {
      "text/html": [
       "<pre style=\"white-space:pre;overflow-x:auto;line-height:normal;font-family:Menlo,'DejaVu Sans Mono',consolas,'Courier New',monospace\"><span style=\"color: #7fbfbf; text-decoration-color: #7fbfbf\">           </span><span style=\"color: #000080; text-decoration-color: #000080\">INFO    </span> TrainerConfig(                                                                                 \n",
       "<span style=\"color: #7fbfbf; text-decoration-color: #7fbfbf\">           </span>           lr=0.0001                                                                                    \n",
       "<span style=\"color: #7fbfbf; text-decoration-color: #7fbfbf\">           </span>           wd=1e-05                                                                                     \n",
       "<span style=\"color: #7fbfbf; text-decoration-color: #7fbfbf\">           </span>           bag_size=1024                                                                                \n",
       "<span style=\"color: #7fbfbf; text-decoration-color: #7fbfbf\">           </span>           max_val_bag_size=None                                                                        \n",
       "<span style=\"color: #7fbfbf; text-decoration-color: #7fbfbf\">           </span>           fit_one_cycle=True                                                                           \n",
       "<span style=\"color: #7fbfbf; text-decoration-color: #7fbfbf\">           </span>           epochs=20                                                                                    \n",
       "<span style=\"color: #7fbfbf; text-decoration-color: #7fbfbf\">           </span>           batch_size=16                                                                                \n",
       "<span style=\"color: #7fbfbf; text-decoration-color: #7fbfbf\">           </span>           drop_last=True                                                                               \n",
       "<span style=\"color: #7fbfbf; text-decoration-color: #7fbfbf\">           </span>           save_monitor='valid_loss'                                                                    \n",
       "<span style=\"color: #7fbfbf; text-decoration-color: #7fbfbf\">           </span>           weighted_loss=True                                                                           \n",
       "<span style=\"color: #7fbfbf; text-decoration-color: #7fbfbf\">           </span>           model='attention_mil'                                                                        \n",
       "<span style=\"color: #7fbfbf; text-decoration-color: #7fbfbf\">           </span>           model_kwargs=None                                                                            \n",
       "<span style=\"color: #7fbfbf; text-decoration-color: #7fbfbf\">           </span>           loss='cross_entropy'                                                                         \n",
       "<span style=\"color: #7fbfbf; text-decoration-color: #7fbfbf\">           </span>           use_lens=True                                                                                \n",
       "<span style=\"color: #7fbfbf; text-decoration-color: #7fbfbf\">           </span>         )                                                                                              \n",
       "</pre>\n"
      ],
      "text/plain": [
       "\u001b[2;36m          \u001b[0m\u001b[2;36m \u001b[0m\u001b[34mINFO    \u001b[0m TrainerConfig(                                                                                 \n",
       "\u001b[2;36m           \u001b[0m           lr=0.0001                                                                                    \n",
       "\u001b[2;36m           \u001b[0m           wd=1e-05                                                                                     \n",
       "\u001b[2;36m           \u001b[0m           bag_size=1024                                                                                \n",
       "\u001b[2;36m           \u001b[0m           max_val_bag_size=None                                                                        \n",
       "\u001b[2;36m           \u001b[0m           fit_one_cycle=True                                                                           \n",
       "\u001b[2;36m           \u001b[0m           epochs=20                                                                                    \n",
       "\u001b[2;36m           \u001b[0m           batch_size=16                                                                                \n",
       "\u001b[2;36m           \u001b[0m           drop_last=True                                                                               \n",
       "\u001b[2;36m           \u001b[0m           save_monitor='valid_loss'                                                                    \n",
       "\u001b[2;36m           \u001b[0m           weighted_loss=True                                                                           \n",
       "\u001b[2;36m           \u001b[0m           model='attention_mil'                                                                        \n",
       "\u001b[2;36m           \u001b[0m           model_kwargs=None                                                                            \n",
       "\u001b[2;36m           \u001b[0m           loss='cross_entropy'                                                                         \n",
       "\u001b[2;36m           \u001b[0m           use_lens=True                                                                                \n",
       "\u001b[2;36m           \u001b[0m         )                                                                                              \n"
      ]
     },
     "metadata": {},
     "output_type": "display_data"
    },
    {
     "data": {
      "text/html": [
       "<pre style=\"white-space:pre;overflow-x:auto;line-height:normal;font-family:Menlo,'DejaVu Sans Mono',consolas,'Courier New',monospace\"><span style=\"color: #7fbfbf; text-decoration-color: #7fbfbf\">           </span><span style=\"color: #000080; text-decoration-color: #000080\">INFO    </span> Training dataset: 492 merged bags (from 492 possible slides)                                   \n",
       "</pre>\n"
      ],
      "text/plain": [
       "\u001b[2;36m          \u001b[0m\u001b[2;36m \u001b[0m\u001b[34mINFO    \u001b[0m Training dataset: 492 merged bags (from 492 possible slides)                                   \n"
      ]
     },
     "metadata": {},
     "output_type": "display_data"
    },
    {
     "data": {
      "text/html": [
       "<pre style=\"white-space:pre;overflow-x:auto;line-height:normal;font-family:Menlo,'DejaVu Sans Mono',consolas,'Courier New',monospace\"><span style=\"color: #7fbfbf; text-decoration-color: #7fbfbf\">           </span><span style=\"color: #000080; text-decoration-color: #000080\">INFO    </span> Validation dataset: 126 merged bags (from 126 possible slides)                                 \n",
       "</pre>\n"
      ],
      "text/plain": [
       "\u001b[2;36m          \u001b[0m\u001b[2;36m \u001b[0m\u001b[34mINFO    \u001b[0m Validation dataset: 126 merged bags (from 126 possible slides)                                 \n"
      ]
     },
     "metadata": {},
     "output_type": "display_data"
    },
    {
     "data": {
      "text/html": [
       "<pre style=\"white-space:pre;overflow-x:auto;line-height:normal;font-family:Menlo,'DejaVu Sans Mono',consolas,'Courier New',monospace\"><span style=\"color: #7fbfbf; text-decoration-color: #7fbfbf\">[18:13:22] </span><span style=\"color: #000080; text-decoration-color: #000080\">INFO    </span> Building model <span style=\"font-weight: bold\">Attention_MIL</span> (n_in=1024, n_out=2)                                              \n",
       "</pre>\n"
      ],
      "text/plain": [
       "\u001b[2;36m[18:13:22]\u001b[0m\u001b[2;36m \u001b[0m\u001b[34mINFO    \u001b[0m Building model \u001b[1mAttention_MIL\u001b[0m (n_in=1024, n_out=2)                                              \n"
      ]
     },
     "metadata": {},
     "output_type": "display_data"
    },
    {
     "data": {
      "text/html": [
       "\n",
       "<style>\n",
       "    /* Turns off some styling */\n",
       "    progress {\n",
       "        /* gets rid of default border in Firefox and Opera. */\n",
       "        border: none;\n",
       "        /* Needs to be in here for Safari polyfill so background images work as expected. */\n",
       "        background-size: auto;\n",
       "    }\n",
       "    progress:not([value]), progress:not([value])::-webkit-progress-bar {\n",
       "        background: repeating-linear-gradient(45deg, #7e7e7e, #7e7e7e 10px, #5c5c5c 10px, #5c5c5c 20px);\n",
       "    }\n",
       "    .progress-bar-interrupted, .progress-bar-interrupted::-webkit-progress-bar {\n",
       "        background: #F44336;\n",
       "    }\n",
       "</style>\n"
      ],
      "text/plain": [
       "<IPython.core.display.HTML object>"
      ]
     },
     "metadata": {},
     "output_type": "display_data"
    },
    {
     "data": {
      "text/html": [
       "<table border=\"1\" class=\"dataframe\">\n",
       "  <thead>\n",
       "    <tr style=\"text-align: left;\">\n",
       "      <th>epoch</th>\n",
       "      <th>train_loss</th>\n",
       "      <th>valid_loss</th>\n",
       "      <th>roc_auc_score</th>\n",
       "      <th>time</th>\n",
       "    </tr>\n",
       "  </thead>\n",
       "  <tbody>\n",
       "    <tr>\n",
       "      <td>0</td>\n",
       "      <td>0.284843</td>\n",
       "      <td>0.249351</td>\n",
       "      <td>0.471939</td>\n",
       "      <td>00:49</td>\n",
       "    </tr>\n",
       "    <tr>\n",
       "      <td>1</td>\n",
       "      <td>0.264585</td>\n",
       "      <td>0.231759</td>\n",
       "      <td>0.617347</td>\n",
       "      <td>00:44</td>\n",
       "    </tr>\n",
       "    <tr>\n",
       "      <td>2</td>\n",
       "      <td>0.252435</td>\n",
       "      <td>0.206548</td>\n",
       "      <td>0.778061</td>\n",
       "      <td>00:57</td>\n",
       "    </tr>\n",
       "    <tr>\n",
       "      <td>3</td>\n",
       "      <td>0.218087</td>\n",
       "      <td>0.189126</td>\n",
       "      <td>0.826166</td>\n",
       "      <td>00:52</td>\n",
       "    </tr>\n",
       "    <tr>\n",
       "      <td>4</td>\n",
       "      <td>0.195406</td>\n",
       "      <td>0.178968</td>\n",
       "      <td>0.825437</td>\n",
       "      <td>00:46</td>\n",
       "    </tr>\n",
       "    <tr>\n",
       "      <td>5</td>\n",
       "      <td>0.179174</td>\n",
       "      <td>0.170695</td>\n",
       "      <td>0.858601</td>\n",
       "      <td>00:43</td>\n",
       "    </tr>\n",
       "    <tr>\n",
       "      <td>6</td>\n",
       "      <td>0.153469</td>\n",
       "      <td>0.162496</td>\n",
       "      <td>0.886297</td>\n",
       "      <td>00:43</td>\n",
       "    </tr>\n",
       "    <tr>\n",
       "      <td>7</td>\n",
       "      <td>0.134949</td>\n",
       "      <td>0.158709</td>\n",
       "      <td>0.890306</td>\n",
       "      <td>00:48</td>\n",
       "    </tr>\n",
       "    <tr>\n",
       "      <td>8</td>\n",
       "      <td>0.122398</td>\n",
       "      <td>0.149566</td>\n",
       "      <td>0.899052</td>\n",
       "      <td>00:43</td>\n",
       "    </tr>\n",
       "    <tr>\n",
       "      <td>9</td>\n",
       "      <td>0.108260</td>\n",
       "      <td>0.147890</td>\n",
       "      <td>0.901603</td>\n",
       "      <td>00:47</td>\n",
       "    </tr>\n",
       "    <tr>\n",
       "      <td>10</td>\n",
       "      <td>0.098127</td>\n",
       "      <td>0.144985</td>\n",
       "      <td>0.901968</td>\n",
       "      <td>00:35</td>\n",
       "    </tr>\n",
       "    <tr>\n",
       "      <td>11</td>\n",
       "      <td>0.096207</td>\n",
       "      <td>0.145052</td>\n",
       "      <td>0.907434</td>\n",
       "      <td>00:46</td>\n",
       "    </tr>\n",
       "    <tr>\n",
       "      <td>12</td>\n",
       "      <td>0.089994</td>\n",
       "      <td>0.141579</td>\n",
       "      <td>0.911808</td>\n",
       "      <td>00:46</td>\n",
       "    </tr>\n",
       "    <tr>\n",
       "      <td>13</td>\n",
       "      <td>0.083605</td>\n",
       "      <td>0.147565</td>\n",
       "      <td>0.904883</td>\n",
       "      <td>00:47</td>\n",
       "    </tr>\n",
       "    <tr>\n",
       "      <td>14</td>\n",
       "      <td>0.076993</td>\n",
       "      <td>0.142904</td>\n",
       "      <td>0.908892</td>\n",
       "      <td>00:47</td>\n",
       "    </tr>\n",
       "    <tr>\n",
       "      <td>15</td>\n",
       "      <td>0.073198</td>\n",
       "      <td>0.147572</td>\n",
       "      <td>0.907434</td>\n",
       "      <td>00:47</td>\n",
       "    </tr>\n",
       "    <tr>\n",
       "      <td>16</td>\n",
       "      <td>0.071391</td>\n",
       "      <td>0.146615</td>\n",
       "      <td>0.907434</td>\n",
       "      <td>00:51</td>\n",
       "    </tr>\n",
       "    <tr>\n",
       "      <td>17</td>\n",
       "      <td>0.071983</td>\n",
       "      <td>0.139815</td>\n",
       "      <td>0.906706</td>\n",
       "      <td>00:46</td>\n",
       "    </tr>\n",
       "    <tr>\n",
       "      <td>18</td>\n",
       "      <td>0.067756</td>\n",
       "      <td>0.138889</td>\n",
       "      <td>0.906341</td>\n",
       "      <td>00:46</td>\n",
       "    </tr>\n",
       "    <tr>\n",
       "      <td>19</td>\n",
       "      <td>0.069898</td>\n",
       "      <td>0.144309</td>\n",
       "      <td>0.906706</td>\n",
       "      <td>00:50</td>\n",
       "    </tr>\n",
       "  </tbody>\n",
       "</table>"
      ],
      "text/plain": [
       "<IPython.core.display.HTML object>"
      ]
     },
     "metadata": {},
     "output_type": "display_data"
    },
    {
     "name": "stdout",
     "output_type": "stream",
     "text": [
      "Better model found at epoch 0 with valid_loss value: 0.24935108423233032.\n",
      "Better model found at epoch 1 with valid_loss value: 0.23175933957099915.\n",
      "Better model found at epoch 2 with valid_loss value: 0.20654761791229248.\n",
      "Better model found at epoch 3 with valid_loss value: 0.1891258955001831.\n",
      "Better model found at epoch 4 with valid_loss value: 0.17896835505962372.\n",
      "Better model found at epoch 5 with valid_loss value: 0.17069506645202637.\n",
      "Better model found at epoch 6 with valid_loss value: 0.16249589622020721.\n",
      "Better model found at epoch 7 with valid_loss value: 0.15870916843414307.\n",
      "Better model found at epoch 8 with valid_loss value: 0.14956633746623993.\n",
      "Better model found at epoch 9 with valid_loss value: 0.1478899121284485.\n",
      "Better model found at epoch 10 with valid_loss value: 0.14498476684093475.\n",
      "Better model found at epoch 12 with valid_loss value: 0.14157895743846893.\n",
      "Better model found at epoch 17 with valid_loss value: 0.13981540501117706.\n",
      "Better model found at epoch 18 with valid_loss value: 0.13888858258724213.\n"
     ]
    },
    {
     "data": {
      "text/html": [
       "<pre style=\"white-space:pre;overflow-x:auto;line-height:normal;font-family:Menlo,'DejaVu Sans Mono',consolas,'Courier New',monospace\"><span style=\"color: #7fbfbf; text-decoration-color: #7fbfbf\">[18:29:20] </span><span style=\"color: #000080; text-decoration-color: #000080\">INFO    </span> Predictions saved to                                                                           \n",
       "<span style=\"color: #7fbfbf; text-decoration-color: #7fbfbf\">           </span>         <span style=\"color: #008000; text-decoration-color: #008000\">/mnt/d/Declich/GitHub/UMD/projects/trained_models/ABMIL-I3LUNG-AD-noqc-nostainnorm/00011-uni/pr</span>\n",
       "<span style=\"color: #7fbfbf; text-decoration-color: #7fbfbf\">           </span>         <span style=\"color: #008000; text-decoration-color: #008000\">edictions.parquet</span>                                                                              \n",
       "</pre>\n"
      ],
      "text/plain": [
       "\u001b[2;36m[18:29:20]\u001b[0m\u001b[2;36m \u001b[0m\u001b[34mINFO    \u001b[0m Predictions saved to                                                                           \n",
       "\u001b[2;36m           \u001b[0m         \u001b[32m/mnt/d/Declich/GitHub/UMD/projects/trained_models/ABMIL-I3LUNG-AD-noqc-nostainnorm/00011-uni/pr\u001b[0m\n",
       "\u001b[2;36m           \u001b[0m         \u001b[32medictions.parquet\u001b[0m                                                                              \n"
      ]
     },
     "metadata": {},
     "output_type": "display_data"
    },
    {
     "data": {
      "text/html": [
       "<pre style=\"white-space:pre;overflow-x:auto;line-height:normal;font-family:Menlo,'DejaVu Sans Mono',consolas,'Courier New',monospace\"><span style=\"color: #7fbfbf; text-decoration-color: #7fbfbf\">           </span><span style=\"color: #000080; text-decoration-color: #000080\">INFO    </span> Validation metrics for outcome <span style=\"color: #008000; text-decoration-color: #008000\">HISTOLOGY</span>:                                                      \n",
       "</pre>\n"
      ],
      "text/plain": [
       "\u001b[2;36m          \u001b[0m\u001b[2;36m \u001b[0m\u001b[34mINFO    \u001b[0m Validation metrics for outcome \u001b[32mHISTOLOGY\u001b[0m:                                                      \n"
      ]
     },
     "metadata": {},
     "output_type": "display_data"
    },
    {
     "data": {
      "text/html": [
       "<pre style=\"white-space:pre;overflow-x:auto;line-height:normal;font-family:Menlo,'DejaVu Sans Mono',consolas,'Courier New',monospace\"><span style=\"color: #7fbfbf; text-decoration-color: #7fbfbf\">           </span><span style=\"color: #000080; text-decoration-color: #000080\">INFO    </span> slide-level AUC (cat # 0): 0.906 AP: 0.969 (opt. threshold: 0.445)                             \n",
       "</pre>\n"
      ],
      "text/plain": [
       "\u001b[2;36m          \u001b[0m\u001b[2;36m \u001b[0m\u001b[34mINFO    \u001b[0m slide-level AUC (cat # 0): 0.906 AP: 0.969 (opt. threshold: 0.445)                             \n"
      ]
     },
     "metadata": {},
     "output_type": "display_data"
    },
    {
     "data": {
      "text/html": [
       "<pre style=\"white-space:pre;overflow-x:auto;line-height:normal;font-family:Menlo,'DejaVu Sans Mono',consolas,'Courier New',monospace\"><span style=\"color: #7fbfbf; text-decoration-color: #7fbfbf\">[18:29:21] </span><span style=\"color: #000080; text-decoration-color: #000080\">INFO    </span> slide-level AUC (cat # 1): 0.906 AP: 0.773 (opt. threshold: 0.635)                             \n",
       "</pre>\n"
      ],
      "text/plain": [
       "\u001b[2;36m[18:29:21]\u001b[0m\u001b[2;36m \u001b[0m\u001b[34mINFO    \u001b[0m slide-level AUC (cat # 1): 0.906 AP: 0.773 (opt. threshold: 0.635)                             \n"
      ]
     },
     "metadata": {},
     "output_type": "display_data"
    },
    {
     "data": {
      "text/html": [
       "<pre style=\"white-space:pre;overflow-x:auto;line-height:normal;font-family:Menlo,'DejaVu Sans Mono',consolas,'Courier New',monospace\"><span style=\"color: #7fbfbf; text-decoration-color: #7fbfbf\">           </span><span style=\"color: #000080; text-decoration-color: #000080\">INFO    </span> Category 0 acc: 84.7% (83/98)                                                                  \n",
       "</pre>\n"
      ],
      "text/plain": [
       "\u001b[2;36m          \u001b[0m\u001b[2;36m \u001b[0m\u001b[34mINFO    \u001b[0m Category 0 acc: 84.7% (83/98)                                                                  \n"
      ]
     },
     "metadata": {},
     "output_type": "display_data"
    },
    {
     "data": {
      "text/html": [
       "<pre style=\"white-space:pre;overflow-x:auto;line-height:normal;font-family:Menlo,'DejaVu Sans Mono',consolas,'Courier New',monospace\"><span style=\"color: #7fbfbf; text-decoration-color: #7fbfbf\">           </span><span style=\"color: #000080; text-decoration-color: #000080\">INFO    </span> Category 1 acc: 85.7% (24/28)                                                                  \n",
       "</pre>\n"
      ],
      "text/plain": [
       "\u001b[2;36m          \u001b[0m\u001b[2;36m \u001b[0m\u001b[34mINFO    \u001b[0m Category 1 acc: 85.7% (24/28)                                                                  \n"
      ]
     },
     "metadata": {},
     "output_type": "display_data"
    },
    {
     "data": {
      "text/html": [
       "<pre style=\"white-space:pre;overflow-x:auto;line-height:normal;font-family:Menlo,'DejaVu Sans Mono',consolas,'Courier New',monospace\"><span style=\"color: #7fbfbf; text-decoration-color: #7fbfbf\">[18:29:22] </span><span style=\"color: #000080; text-decoration-color: #000080\">INFO    </span> Attention scores exported to                                                                   \n",
       "<span style=\"color: #7fbfbf; text-decoration-color: #7fbfbf\">           </span>         <span style=\"color: #008000; text-decoration-color: #008000\">/mnt/d/Declich/GitHub/UMD/projects/trained_models/ABMIL-I3LUNG-AD-noqc-nostainnorm/00011-uni/at</span>\n",
       "<span style=\"color: #7fbfbf; text-decoration-color: #7fbfbf\">           </span>         <span style=\"color: #008000; text-decoration-color: #008000\">tention/DIG_PAT_1725901895_att.npz</span>                                                             \n",
       "</pre>\n"
      ],
      "text/plain": [
       "\u001b[2;36m[18:29:22]\u001b[0m\u001b[2;36m \u001b[0m\u001b[34mINFO    \u001b[0m Attention scores exported to                                                                   \n",
       "\u001b[2;36m           \u001b[0m         \u001b[32m/mnt/d/Declich/GitHub/UMD/projects/trained_models/ABMIL-I3LUNG-AD-noqc-nostainnorm/00011-uni/at\u001b[0m\n",
       "\u001b[2;36m           \u001b[0m         \u001b[32mtention/DIG_PAT_1725901895_att.npz\u001b[0m                                                             \n"
      ]
     },
     "metadata": {},
     "output_type": "display_data"
    },
    {
     "name": "stdout",
     "output_type": "stream",
     "text": [
      "Random seed set to: 97150360\n"
     ]
    },
    {
     "data": {
      "text/html": [
       "<pre style=\"white-space:pre;overflow-x:auto;line-height:normal;font-family:Menlo,'DejaVu Sans Mono',consolas,'Courier New',monospace\"><span style=\"color: #7fbfbf; text-decoration-color: #7fbfbf\">           </span><span style=\"color: #808000; text-decoration-color: #808000\">WARNING </span> <span style=\"color: #808000; text-decoration-color: #808000\">297 slides missing tfrecords, skipping</span>                                                         \n",
       "</pre>\n"
      ],
      "text/plain": [
       "\u001b[2;36m          \u001b[0m\u001b[2;36m \u001b[0m\u001b[33mWARNING \u001b[0m \u001b[33m297 slides missing tfrecords, skipping\u001b[0m                                                         \n"
      ]
     },
     "metadata": {},
     "output_type": "display_data"
    },
    {
     "data": {
      "text/html": [
       "<pre style=\"white-space:pre;overflow-x:auto;line-height:normal;font-family:Menlo,'DejaVu Sans Mono',consolas,'Courier New',monospace\"><span style=\"color: #7fbfbf; text-decoration-color: #7fbfbf\">           </span><span style=\"color: #000080; text-decoration-color: #000080\">INFO    </span> No training/validation splits file provided.                                                   \n",
       "</pre>\n"
      ],
      "text/plain": [
       "\u001b[2;36m          \u001b[0m\u001b[2;36m \u001b[0m\u001b[34mINFO    \u001b[0m No training/validation splits file provided.                                                   \n"
      ]
     },
     "metadata": {},
     "output_type": "display_data"
    },
    {
     "data": {
      "text/html": [
       "<pre style=\"white-space:pre;overflow-x:auto;line-height:normal;font-family:Menlo,'DejaVu Sans Mono',consolas,'Courier New',monospace\"><span style=\"color: #7fbfbf; text-decoration-color: #7fbfbf\">           </span><span style=\"color: #000080; text-decoration-color: #000080\">INFO    </span> Unable to save or load validation splits.                                                      \n",
       "</pre>\n"
      ],
      "text/plain": [
       "\u001b[2;36m          \u001b[0m\u001b[2;36m \u001b[0m\u001b[34mINFO    \u001b[0m Unable to save or load validation splits.                                                      \n"
      ]
     },
     "metadata": {},
     "output_type": "display_data"
    },
    {
     "data": {
      "text/html": [
       "<pre style=\"white-space:pre;overflow-x:auto;line-height:normal;font-family:Menlo,'DejaVu Sans Mono',consolas,'Courier New',monospace\"><span style=\"color: #7fbfbf; text-decoration-color: #7fbfbf\">           </span><span style=\"color: #000080; text-decoration-color: #000080\">INFO    </span> Training FastAI MIL model with config:                                                         \n",
       "</pre>\n"
      ],
      "text/plain": [
       "\u001b[2;36m          \u001b[0m\u001b[2;36m \u001b[0m\u001b[34mINFO    \u001b[0m Training FastAI MIL model with config:                                                         \n"
      ]
     },
     "metadata": {},
     "output_type": "display_data"
    },
    {
     "data": {
      "text/html": [
       "<pre style=\"white-space:pre;overflow-x:auto;line-height:normal;font-family:Menlo,'DejaVu Sans Mono',consolas,'Courier New',monospace\"><span style=\"color: #7fbfbf; text-decoration-color: #7fbfbf\">           </span><span style=\"color: #000080; text-decoration-color: #000080\">INFO    </span> TrainerConfig(                                                                                 \n",
       "<span style=\"color: #7fbfbf; text-decoration-color: #7fbfbf\">           </span>           lr=0.0001                                                                                    \n",
       "<span style=\"color: #7fbfbf; text-decoration-color: #7fbfbf\">           </span>           wd=1e-05                                                                                     \n",
       "<span style=\"color: #7fbfbf; text-decoration-color: #7fbfbf\">           </span>           bag_size=1024                                                                                \n",
       "<span style=\"color: #7fbfbf; text-decoration-color: #7fbfbf\">           </span>           max_val_bag_size=None                                                                        \n",
       "<span style=\"color: #7fbfbf; text-decoration-color: #7fbfbf\">           </span>           fit_one_cycle=True                                                                           \n",
       "<span style=\"color: #7fbfbf; text-decoration-color: #7fbfbf\">           </span>           epochs=20                                                                                    \n",
       "<span style=\"color: #7fbfbf; text-decoration-color: #7fbfbf\">           </span>           batch_size=16                                                                                \n",
       "<span style=\"color: #7fbfbf; text-decoration-color: #7fbfbf\">           </span>           drop_last=True                                                                               \n",
       "<span style=\"color: #7fbfbf; text-decoration-color: #7fbfbf\">           </span>           save_monitor='valid_loss'                                                                    \n",
       "<span style=\"color: #7fbfbf; text-decoration-color: #7fbfbf\">           </span>           weighted_loss=True                                                                           \n",
       "<span style=\"color: #7fbfbf; text-decoration-color: #7fbfbf\">           </span>           model='attention_mil'                                                                        \n",
       "<span style=\"color: #7fbfbf; text-decoration-color: #7fbfbf\">           </span>           model_kwargs=None                                                                            \n",
       "<span style=\"color: #7fbfbf; text-decoration-color: #7fbfbf\">           </span>           loss='cross_entropy'                                                                         \n",
       "<span style=\"color: #7fbfbf; text-decoration-color: #7fbfbf\">           </span>           use_lens=True                                                                                \n",
       "<span style=\"color: #7fbfbf; text-decoration-color: #7fbfbf\">           </span>         )                                                                                              \n",
       "</pre>\n"
      ],
      "text/plain": [
       "\u001b[2;36m          \u001b[0m\u001b[2;36m \u001b[0m\u001b[34mINFO    \u001b[0m TrainerConfig(                                                                                 \n",
       "\u001b[2;36m           \u001b[0m           lr=0.0001                                                                                    \n",
       "\u001b[2;36m           \u001b[0m           wd=1e-05                                                                                     \n",
       "\u001b[2;36m           \u001b[0m           bag_size=1024                                                                                \n",
       "\u001b[2;36m           \u001b[0m           max_val_bag_size=None                                                                        \n",
       "\u001b[2;36m           \u001b[0m           fit_one_cycle=True                                                                           \n",
       "\u001b[2;36m           \u001b[0m           epochs=20                                                                                    \n",
       "\u001b[2;36m           \u001b[0m           batch_size=16                                                                                \n",
       "\u001b[2;36m           \u001b[0m           drop_last=True                                                                               \n",
       "\u001b[2;36m           \u001b[0m           save_monitor='valid_loss'                                                                    \n",
       "\u001b[2;36m           \u001b[0m           weighted_loss=True                                                                           \n",
       "\u001b[2;36m           \u001b[0m           model='attention_mil'                                                                        \n",
       "\u001b[2;36m           \u001b[0m           model_kwargs=None                                                                            \n",
       "\u001b[2;36m           \u001b[0m           loss='cross_entropy'                                                                         \n",
       "\u001b[2;36m           \u001b[0m           use_lens=True                                                                                \n",
       "\u001b[2;36m           \u001b[0m         )                                                                                              \n"
      ]
     },
     "metadata": {},
     "output_type": "display_data"
    },
    {
     "data": {
      "text/html": [
       "<pre style=\"white-space:pre;overflow-x:auto;line-height:normal;font-family:Menlo,'DejaVu Sans Mono',consolas,'Courier New',monospace\"><span style=\"color: #7fbfbf; text-decoration-color: #7fbfbf\">           </span><span style=\"color: #000080; text-decoration-color: #000080\">INFO    </span> Training dataset: 497 merged bags (from 497 possible slides)                                   \n",
       "</pre>\n"
      ],
      "text/plain": [
       "\u001b[2;36m          \u001b[0m\u001b[2;36m \u001b[0m\u001b[34mINFO    \u001b[0m Training dataset: 497 merged bags (from 497 possible slides)                                   \n"
      ]
     },
     "metadata": {},
     "output_type": "display_data"
    },
    {
     "data": {
      "text/html": [
       "<pre style=\"white-space:pre;overflow-x:auto;line-height:normal;font-family:Menlo,'DejaVu Sans Mono',consolas,'Courier New',monospace\"><span style=\"color: #7fbfbf; text-decoration-color: #7fbfbf\">           </span><span style=\"color: #000080; text-decoration-color: #000080\">INFO    </span> Validation dataset: 121 merged bags (from 121 possible slides)                                 \n",
       "</pre>\n"
      ],
      "text/plain": [
       "\u001b[2;36m          \u001b[0m\u001b[2;36m \u001b[0m\u001b[34mINFO    \u001b[0m Validation dataset: 121 merged bags (from 121 possible slides)                                 \n"
      ]
     },
     "metadata": {},
     "output_type": "display_data"
    },
    {
     "data": {
      "text/html": [
       "<pre style=\"white-space:pre;overflow-x:auto;line-height:normal;font-family:Menlo,'DejaVu Sans Mono',consolas,'Courier New',monospace\"><span style=\"color: #7fbfbf; text-decoration-color: #7fbfbf\">[18:29:24] </span><span style=\"color: #000080; text-decoration-color: #000080\">INFO    </span> Building model <span style=\"font-weight: bold\">Attention_MIL</span> (n_in=1024, n_out=2)                                              \n",
       "</pre>\n"
      ],
      "text/plain": [
       "\u001b[2;36m[18:29:24]\u001b[0m\u001b[2;36m \u001b[0m\u001b[34mINFO    \u001b[0m Building model \u001b[1mAttention_MIL\u001b[0m (n_in=1024, n_out=2)                                              \n"
      ]
     },
     "metadata": {},
     "output_type": "display_data"
    },
    {
     "data": {
      "text/html": [
       "\n",
       "<style>\n",
       "    /* Turns off some styling */\n",
       "    progress {\n",
       "        /* gets rid of default border in Firefox and Opera. */\n",
       "        border: none;\n",
       "        /* Needs to be in here for Safari polyfill so background images work as expected. */\n",
       "        background-size: auto;\n",
       "    }\n",
       "    progress:not([value]), progress:not([value])::-webkit-progress-bar {\n",
       "        background: repeating-linear-gradient(45deg, #7e7e7e, #7e7e7e 10px, #5c5c5c 10px, #5c5c5c 20px);\n",
       "    }\n",
       "    .progress-bar-interrupted, .progress-bar-interrupted::-webkit-progress-bar {\n",
       "        background: #F44336;\n",
       "    }\n",
       "</style>\n"
      ],
      "text/plain": [
       "<IPython.core.display.HTML object>"
      ]
     },
     "metadata": {},
     "output_type": "display_data"
    },
    {
     "data": {
      "text/html": [
       "<table border=\"1\" class=\"dataframe\">\n",
       "  <thead>\n",
       "    <tr style=\"text-align: left;\">\n",
       "      <th>epoch</th>\n",
       "      <th>train_loss</th>\n",
       "      <th>valid_loss</th>\n",
       "      <th>roc_auc_score</th>\n",
       "      <th>time</th>\n",
       "    </tr>\n",
       "  </thead>\n",
       "  <tbody>\n",
       "    <tr>\n",
       "      <td>0</td>\n",
       "      <td>0.290630</td>\n",
       "      <td>0.248945</td>\n",
       "      <td>0.530338</td>\n",
       "      <td>00:53</td>\n",
       "    </tr>\n",
       "    <tr>\n",
       "      <td>1</td>\n",
       "      <td>0.275141</td>\n",
       "      <td>0.224006</td>\n",
       "      <td>0.684716</td>\n",
       "      <td>00:53</td>\n",
       "    </tr>\n",
       "    <tr>\n",
       "      <td>2</td>\n",
       "      <td>0.252426</td>\n",
       "      <td>0.197043</td>\n",
       "      <td>0.783026</td>\n",
       "      <td>00:53</td>\n",
       "    </tr>\n",
       "    <tr>\n",
       "      <td>3</td>\n",
       "      <td>0.220113</td>\n",
       "      <td>0.178358</td>\n",
       "      <td>0.835637</td>\n",
       "      <td>00:51</td>\n",
       "    </tr>\n",
       "    <tr>\n",
       "      <td>4</td>\n",
       "      <td>0.190114</td>\n",
       "      <td>0.165741</td>\n",
       "      <td>0.864823</td>\n",
       "      <td>00:53</td>\n",
       "    </tr>\n",
       "    <tr>\n",
       "      <td>5</td>\n",
       "      <td>0.169437</td>\n",
       "      <td>0.159179</td>\n",
       "      <td>0.878264</td>\n",
       "      <td>00:52</td>\n",
       "    </tr>\n",
       "    <tr>\n",
       "      <td>6</td>\n",
       "      <td>0.151724</td>\n",
       "      <td>0.169428</td>\n",
       "      <td>0.893241</td>\n",
       "      <td>00:49</td>\n",
       "    </tr>\n",
       "    <tr>\n",
       "      <td>7</td>\n",
       "      <td>0.130169</td>\n",
       "      <td>0.150935</td>\n",
       "      <td>0.901690</td>\n",
       "      <td>00:51</td>\n",
       "    </tr>\n",
       "    <tr>\n",
       "      <td>8</td>\n",
       "      <td>0.117539</td>\n",
       "      <td>0.143843</td>\n",
       "      <td>0.912826</td>\n",
       "      <td>00:51</td>\n",
       "    </tr>\n",
       "    <tr>\n",
       "      <td>9</td>\n",
       "      <td>0.104039</td>\n",
       "      <td>0.141673</td>\n",
       "      <td>0.907066</td>\n",
       "      <td>00:53</td>\n",
       "    </tr>\n",
       "    <tr>\n",
       "      <td>10</td>\n",
       "      <td>0.099784</td>\n",
       "      <td>0.135356</td>\n",
       "      <td>0.914363</td>\n",
       "      <td>00:52</td>\n",
       "    </tr>\n",
       "    <tr>\n",
       "      <td>11</td>\n",
       "      <td>0.091828</td>\n",
       "      <td>0.133984</td>\n",
       "      <td>0.918971</td>\n",
       "      <td>00:50</td>\n",
       "    </tr>\n",
       "    <tr>\n",
       "      <td>12</td>\n",
       "      <td>0.085197</td>\n",
       "      <td>0.128075</td>\n",
       "      <td>0.923579</td>\n",
       "      <td>00:53</td>\n",
       "    </tr>\n",
       "    <tr>\n",
       "      <td>13</td>\n",
       "      <td>0.077718</td>\n",
       "      <td>0.131659</td>\n",
       "      <td>0.923195</td>\n",
       "      <td>00:52</td>\n",
       "    </tr>\n",
       "    <tr>\n",
       "      <td>14</td>\n",
       "      <td>0.074338</td>\n",
       "      <td>0.132867</td>\n",
       "      <td>0.921659</td>\n",
       "      <td>00:54</td>\n",
       "    </tr>\n",
       "    <tr>\n",
       "      <td>15</td>\n",
       "      <td>0.075460</td>\n",
       "      <td>0.130582</td>\n",
       "      <td>0.921659</td>\n",
       "      <td>00:53</td>\n",
       "    </tr>\n",
       "    <tr>\n",
       "      <td>16</td>\n",
       "      <td>0.073849</td>\n",
       "      <td>0.129240</td>\n",
       "      <td>0.921275</td>\n",
       "      <td>00:51</td>\n",
       "    </tr>\n",
       "    <tr>\n",
       "      <td>17</td>\n",
       "      <td>0.072123</td>\n",
       "      <td>0.132341</td>\n",
       "      <td>0.920123</td>\n",
       "      <td>00:52</td>\n",
       "    </tr>\n",
       "    <tr>\n",
       "      <td>18</td>\n",
       "      <td>0.065616</td>\n",
       "      <td>0.131946</td>\n",
       "      <td>0.920507</td>\n",
       "      <td>00:53</td>\n",
       "    </tr>\n",
       "    <tr>\n",
       "      <td>19</td>\n",
       "      <td>0.070767</td>\n",
       "      <td>0.130203</td>\n",
       "      <td>0.920891</td>\n",
       "      <td>00:50</td>\n",
       "    </tr>\n",
       "  </tbody>\n",
       "</table>"
      ],
      "text/plain": [
       "<IPython.core.display.HTML object>"
      ]
     },
     "metadata": {},
     "output_type": "display_data"
    },
    {
     "name": "stdout",
     "output_type": "stream",
     "text": [
      "Better model found at epoch 0 with valid_loss value: 0.24894484877586365.\n",
      "Better model found at epoch 1 with valid_loss value: 0.22400622069835663.\n",
      "Better model found at epoch 2 with valid_loss value: 0.1970432847738266.\n",
      "Better model found at epoch 3 with valid_loss value: 0.17835789918899536.\n",
      "Better model found at epoch 4 with valid_loss value: 0.16574080288410187.\n",
      "Better model found at epoch 5 with valid_loss value: 0.15917852520942688.\n",
      "Better model found at epoch 7 with valid_loss value: 0.15093529224395752.\n",
      "Better model found at epoch 8 with valid_loss value: 0.14384299516677856.\n",
      "Better model found at epoch 9 with valid_loss value: 0.1416732668876648.\n",
      "Better model found at epoch 10 with valid_loss value: 0.1353560984134674.\n",
      "Better model found at epoch 11 with valid_loss value: 0.13398368656635284.\n",
      "Better model found at epoch 12 with valid_loss value: 0.12807512283325195.\n"
     ]
    },
    {
     "data": {
      "text/html": [
       "<pre style=\"white-space:pre;overflow-x:auto;line-height:normal;font-family:Menlo,'DejaVu Sans Mono',consolas,'Courier New',monospace\"><span style=\"color: #7fbfbf; text-decoration-color: #7fbfbf\">[18:47:06] </span><span style=\"color: #000080; text-decoration-color: #000080\">INFO    </span> Predictions saved to                                                                           \n",
       "<span style=\"color: #7fbfbf; text-decoration-color: #7fbfbf\">           </span>         <span style=\"color: #008000; text-decoration-color: #008000\">/mnt/d/Declich/GitHub/UMD/projects/trained_models/ABMIL-I3LUNG-AD-noqc-nostainnorm/00012-uni/pr</span>\n",
       "<span style=\"color: #7fbfbf; text-decoration-color: #7fbfbf\">           </span>         <span style=\"color: #008000; text-decoration-color: #008000\">edictions.parquet</span>                                                                              \n",
       "</pre>\n"
      ],
      "text/plain": [
       "\u001b[2;36m[18:47:06]\u001b[0m\u001b[2;36m \u001b[0m\u001b[34mINFO    \u001b[0m Predictions saved to                                                                           \n",
       "\u001b[2;36m           \u001b[0m         \u001b[32m/mnt/d/Declich/GitHub/UMD/projects/trained_models/ABMIL-I3LUNG-AD-noqc-nostainnorm/00012-uni/pr\u001b[0m\n",
       "\u001b[2;36m           \u001b[0m         \u001b[32medictions.parquet\u001b[0m                                                                              \n"
      ]
     },
     "metadata": {},
     "output_type": "display_data"
    },
    {
     "data": {
      "text/html": [
       "<pre style=\"white-space:pre;overflow-x:auto;line-height:normal;font-family:Menlo,'DejaVu Sans Mono',consolas,'Courier New',monospace\"><span style=\"color: #7fbfbf; text-decoration-color: #7fbfbf\">           </span><span style=\"color: #000080; text-decoration-color: #000080\">INFO    </span> Validation metrics for outcome <span style=\"color: #008000; text-decoration-color: #008000\">HISTOLOGY</span>:                                                      \n",
       "</pre>\n"
      ],
      "text/plain": [
       "\u001b[2;36m          \u001b[0m\u001b[2;36m \u001b[0m\u001b[34mINFO    \u001b[0m Validation metrics for outcome \u001b[32mHISTOLOGY\u001b[0m:                                                      \n"
      ]
     },
     "metadata": {},
     "output_type": "display_data"
    },
    {
     "data": {
      "text/html": [
       "<pre style=\"white-space:pre;overflow-x:auto;line-height:normal;font-family:Menlo,'DejaVu Sans Mono',consolas,'Courier New',monospace\"><span style=\"color: #7fbfbf; text-decoration-color: #7fbfbf\">[18:47:07] </span><span style=\"color: #000080; text-decoration-color: #000080\">INFO    </span> slide-level AUC (cat # 0): 0.924 AP: 0.972 (opt. threshold: 0.542)                             \n",
       "</pre>\n"
      ],
      "text/plain": [
       "\u001b[2;36m[18:47:07]\u001b[0m\u001b[2;36m \u001b[0m\u001b[34mINFO    \u001b[0m slide-level AUC (cat # 0): 0.924 AP: 0.972 (opt. threshold: 0.542)                             \n"
      ]
     },
     "metadata": {},
     "output_type": "display_data"
    },
    {
     "data": {
      "text/html": [
       "<pre style=\"white-space:pre;overflow-x:auto;line-height:normal;font-family:Menlo,'DejaVu Sans Mono',consolas,'Courier New',monospace\"><span style=\"color: #7fbfbf; text-decoration-color: #7fbfbf\">           </span><span style=\"color: #000080; text-decoration-color: #000080\">INFO    </span> slide-level AUC (cat # 1): 0.924 AP: 0.795 (opt. threshold: 0.462)                             \n",
       "</pre>\n"
      ],
      "text/plain": [
       "\u001b[2;36m          \u001b[0m\u001b[2;36m \u001b[0m\u001b[34mINFO    \u001b[0m slide-level AUC (cat # 1): 0.924 AP: 0.795 (opt. threshold: 0.462)                             \n"
      ]
     },
     "metadata": {},
     "output_type": "display_data"
    },
    {
     "data": {
      "text/html": [
       "<pre style=\"white-space:pre;overflow-x:auto;line-height:normal;font-family:Menlo,'DejaVu Sans Mono',consolas,'Courier New',monospace\"><span style=\"color: #7fbfbf; text-decoration-color: #7fbfbf\">           </span><span style=\"color: #000080; text-decoration-color: #000080\">INFO    </span> Category 0 acc: 83.9% (78/93)                                                                  \n",
       "</pre>\n"
      ],
      "text/plain": [
       "\u001b[2;36m          \u001b[0m\u001b[2;36m \u001b[0m\u001b[34mINFO    \u001b[0m Category 0 acc: 83.9% (78/93)                                                                  \n"
      ]
     },
     "metadata": {},
     "output_type": "display_data"
    },
    {
     "data": {
      "text/html": [
       "<pre style=\"white-space:pre;overflow-x:auto;line-height:normal;font-family:Menlo,'DejaVu Sans Mono',consolas,'Courier New',monospace\"><span style=\"color: #7fbfbf; text-decoration-color: #7fbfbf\">           </span><span style=\"color: #000080; text-decoration-color: #000080\">INFO    </span> Category 1 acc: 85.7% (24/28)                                                                  \n",
       "</pre>\n"
      ],
      "text/plain": [
       "\u001b[2;36m          \u001b[0m\u001b[2;36m \u001b[0m\u001b[34mINFO    \u001b[0m Category 1 acc: 85.7% (24/28)                                                                  \n"
      ]
     },
     "metadata": {},
     "output_type": "display_data"
    },
    {
     "data": {
      "text/html": [
       "<pre style=\"white-space:pre;overflow-x:auto;line-height:normal;font-family:Menlo,'DejaVu Sans Mono',consolas,'Courier New',monospace\"><span style=\"color: #7fbfbf; text-decoration-color: #7fbfbf\">[18:47:08] </span><span style=\"color: #000080; text-decoration-color: #000080\">INFO    </span> Attention scores exported to                                                                   \n",
       "<span style=\"color: #7fbfbf; text-decoration-color: #7fbfbf\">           </span>         <span style=\"color: #008000; text-decoration-color: #008000\">/mnt/d/Declich/GitHub/UMD/projects/trained_models/ABMIL-I3LUNG-AD-noqc-nostainnorm/00012-uni/at</span>\n",
       "<span style=\"color: #7fbfbf; text-decoration-color: #7fbfbf\">           </span>         <span style=\"color: #008000; text-decoration-color: #008000\">tention/DIG_PAT_1725901955_att.npz</span>                                                             \n",
       "</pre>\n"
      ],
      "text/plain": [
       "\u001b[2;36m[18:47:08]\u001b[0m\u001b[2;36m \u001b[0m\u001b[34mINFO    \u001b[0m Attention scores exported to                                                                   \n",
       "\u001b[2;36m           \u001b[0m         \u001b[32m/mnt/d/Declich/GitHub/UMD/projects/trained_models/ABMIL-I3LUNG-AD-noqc-nostainnorm/00012-uni/at\u001b[0m\n",
       "\u001b[2;36m           \u001b[0m         \u001b[32mtention/DIG_PAT_1725901955_att.npz\u001b[0m                                                             \n"
      ]
     },
     "metadata": {},
     "output_type": "display_data"
    },
    {
     "name": "stdout",
     "output_type": "stream",
     "text": [
      "Random seed set to: 96784867\n"
     ]
    },
    {
     "data": {
      "text/html": [
       "<pre style=\"white-space:pre;overflow-x:auto;line-height:normal;font-family:Menlo,'DejaVu Sans Mono',consolas,'Courier New',monospace\"><span style=\"color: #7fbfbf; text-decoration-color: #7fbfbf\">           </span><span style=\"color: #808000; text-decoration-color: #808000\">WARNING </span> <span style=\"color: #808000; text-decoration-color: #808000\">297 slides missing tfrecords, skipping</span>                                                         \n",
       "</pre>\n"
      ],
      "text/plain": [
       "\u001b[2;36m          \u001b[0m\u001b[2;36m \u001b[0m\u001b[33mWARNING \u001b[0m \u001b[33m297 slides missing tfrecords, skipping\u001b[0m                                                         \n"
      ]
     },
     "metadata": {},
     "output_type": "display_data"
    },
    {
     "data": {
      "text/html": [
       "<pre style=\"white-space:pre;overflow-x:auto;line-height:normal;font-family:Menlo,'DejaVu Sans Mono',consolas,'Courier New',monospace\"><span style=\"color: #7fbfbf; text-decoration-color: #7fbfbf\">           </span><span style=\"color: #000080; text-decoration-color: #000080\">INFO    </span> No training/validation splits file provided.                                                   \n",
       "</pre>\n"
      ],
      "text/plain": [
       "\u001b[2;36m          \u001b[0m\u001b[2;36m \u001b[0m\u001b[34mINFO    \u001b[0m No training/validation splits file provided.                                                   \n"
      ]
     },
     "metadata": {},
     "output_type": "display_data"
    },
    {
     "data": {
      "text/html": [
       "<pre style=\"white-space:pre;overflow-x:auto;line-height:normal;font-family:Menlo,'DejaVu Sans Mono',consolas,'Courier New',monospace\"><span style=\"color: #7fbfbf; text-decoration-color: #7fbfbf\">           </span><span style=\"color: #000080; text-decoration-color: #000080\">INFO    </span> Unable to save or load validation splits.                                                      \n",
       "</pre>\n"
      ],
      "text/plain": [
       "\u001b[2;36m          \u001b[0m\u001b[2;36m \u001b[0m\u001b[34mINFO    \u001b[0m Unable to save or load validation splits.                                                      \n"
      ]
     },
     "metadata": {},
     "output_type": "display_data"
    },
    {
     "data": {
      "text/html": [
       "<pre style=\"white-space:pre;overflow-x:auto;line-height:normal;font-family:Menlo,'DejaVu Sans Mono',consolas,'Courier New',monospace\"><span style=\"color: #7fbfbf; text-decoration-color: #7fbfbf\">           </span><span style=\"color: #000080; text-decoration-color: #000080\">INFO    </span> Training FastAI MIL model with config:                                                         \n",
       "</pre>\n"
      ],
      "text/plain": [
       "\u001b[2;36m          \u001b[0m\u001b[2;36m \u001b[0m\u001b[34mINFO    \u001b[0m Training FastAI MIL model with config:                                                         \n"
      ]
     },
     "metadata": {},
     "output_type": "display_data"
    },
    {
     "data": {
      "text/html": [
       "<pre style=\"white-space:pre;overflow-x:auto;line-height:normal;font-family:Menlo,'DejaVu Sans Mono',consolas,'Courier New',monospace\"><span style=\"color: #7fbfbf; text-decoration-color: #7fbfbf\">           </span><span style=\"color: #000080; text-decoration-color: #000080\">INFO    </span> TrainerConfig(                                                                                 \n",
       "<span style=\"color: #7fbfbf; text-decoration-color: #7fbfbf\">           </span>           lr=0.0001                                                                                    \n",
       "<span style=\"color: #7fbfbf; text-decoration-color: #7fbfbf\">           </span>           wd=1e-05                                                                                     \n",
       "<span style=\"color: #7fbfbf; text-decoration-color: #7fbfbf\">           </span>           bag_size=1024                                                                                \n",
       "<span style=\"color: #7fbfbf; text-decoration-color: #7fbfbf\">           </span>           max_val_bag_size=None                                                                        \n",
       "<span style=\"color: #7fbfbf; text-decoration-color: #7fbfbf\">           </span>           fit_one_cycle=True                                                                           \n",
       "<span style=\"color: #7fbfbf; text-decoration-color: #7fbfbf\">           </span>           epochs=20                                                                                    \n",
       "<span style=\"color: #7fbfbf; text-decoration-color: #7fbfbf\">           </span>           batch_size=16                                                                                \n",
       "<span style=\"color: #7fbfbf; text-decoration-color: #7fbfbf\">           </span>           drop_last=True                                                                               \n",
       "<span style=\"color: #7fbfbf; text-decoration-color: #7fbfbf\">           </span>           save_monitor='valid_loss'                                                                    \n",
       "<span style=\"color: #7fbfbf; text-decoration-color: #7fbfbf\">           </span>           weighted_loss=True                                                                           \n",
       "<span style=\"color: #7fbfbf; text-decoration-color: #7fbfbf\">           </span>           model='attention_mil'                                                                        \n",
       "<span style=\"color: #7fbfbf; text-decoration-color: #7fbfbf\">           </span>           model_kwargs=None                                                                            \n",
       "<span style=\"color: #7fbfbf; text-decoration-color: #7fbfbf\">           </span>           loss='cross_entropy'                                                                         \n",
       "<span style=\"color: #7fbfbf; text-decoration-color: #7fbfbf\">           </span>           use_lens=True                                                                                \n",
       "<span style=\"color: #7fbfbf; text-decoration-color: #7fbfbf\">           </span>         )                                                                                              \n",
       "</pre>\n"
      ],
      "text/plain": [
       "\u001b[2;36m          \u001b[0m\u001b[2;36m \u001b[0m\u001b[34mINFO    \u001b[0m TrainerConfig(                                                                                 \n",
       "\u001b[2;36m           \u001b[0m           lr=0.0001                                                                                    \n",
       "\u001b[2;36m           \u001b[0m           wd=1e-05                                                                                     \n",
       "\u001b[2;36m           \u001b[0m           bag_size=1024                                                                                \n",
       "\u001b[2;36m           \u001b[0m           max_val_bag_size=None                                                                        \n",
       "\u001b[2;36m           \u001b[0m           fit_one_cycle=True                                                                           \n",
       "\u001b[2;36m           \u001b[0m           epochs=20                                                                                    \n",
       "\u001b[2;36m           \u001b[0m           batch_size=16                                                                                \n",
       "\u001b[2;36m           \u001b[0m           drop_last=True                                                                               \n",
       "\u001b[2;36m           \u001b[0m           save_monitor='valid_loss'                                                                    \n",
       "\u001b[2;36m           \u001b[0m           weighted_loss=True                                                                           \n",
       "\u001b[2;36m           \u001b[0m           model='attention_mil'                                                                        \n",
       "\u001b[2;36m           \u001b[0m           model_kwargs=None                                                                            \n",
       "\u001b[2;36m           \u001b[0m           loss='cross_entropy'                                                                         \n",
       "\u001b[2;36m           \u001b[0m           use_lens=True                                                                                \n",
       "\u001b[2;36m           \u001b[0m         )                                                                                              \n"
      ]
     },
     "metadata": {},
     "output_type": "display_data"
    },
    {
     "data": {
      "text/html": [
       "<pre style=\"white-space:pre;overflow-x:auto;line-height:normal;font-family:Menlo,'DejaVu Sans Mono',consolas,'Courier New',monospace\"><span style=\"color: #7fbfbf; text-decoration-color: #7fbfbf\">           </span><span style=\"color: #000080; text-decoration-color: #000080\">INFO    </span> Training dataset: 491 merged bags (from 491 possible slides)                                   \n",
       "</pre>\n"
      ],
      "text/plain": [
       "\u001b[2;36m          \u001b[0m\u001b[2;36m \u001b[0m\u001b[34mINFO    \u001b[0m Training dataset: 491 merged bags (from 491 possible slides)                                   \n"
      ]
     },
     "metadata": {},
     "output_type": "display_data"
    },
    {
     "data": {
      "text/html": [
       "<pre style=\"white-space:pre;overflow-x:auto;line-height:normal;font-family:Menlo,'DejaVu Sans Mono',consolas,'Courier New',monospace\"><span style=\"color: #7fbfbf; text-decoration-color: #7fbfbf\">           </span><span style=\"color: #000080; text-decoration-color: #000080\">INFO    </span> Validation dataset: 127 merged bags (from 127 possible slides)                                 \n",
       "</pre>\n"
      ],
      "text/plain": [
       "\u001b[2;36m          \u001b[0m\u001b[2;36m \u001b[0m\u001b[34mINFO    \u001b[0m Validation dataset: 127 merged bags (from 127 possible slides)                                 \n"
      ]
     },
     "metadata": {},
     "output_type": "display_data"
    },
    {
     "data": {
      "text/html": [
       "<pre style=\"white-space:pre;overflow-x:auto;line-height:normal;font-family:Menlo,'DejaVu Sans Mono',consolas,'Courier New',monospace\"><span style=\"color: #7fbfbf; text-decoration-color: #7fbfbf\">[18:47:09] </span><span style=\"color: #000080; text-decoration-color: #000080\">INFO    </span> Building model <span style=\"font-weight: bold\">Attention_MIL</span> (n_in=1024, n_out=2)                                              \n",
       "</pre>\n"
      ],
      "text/plain": [
       "\u001b[2;36m[18:47:09]\u001b[0m\u001b[2;36m \u001b[0m\u001b[34mINFO    \u001b[0m Building model \u001b[1mAttention_MIL\u001b[0m (n_in=1024, n_out=2)                                              \n"
      ]
     },
     "metadata": {},
     "output_type": "display_data"
    },
    {
     "data": {
      "text/html": [
       "\n",
       "<style>\n",
       "    /* Turns off some styling */\n",
       "    progress {\n",
       "        /* gets rid of default border in Firefox and Opera. */\n",
       "        border: none;\n",
       "        /* Needs to be in here for Safari polyfill so background images work as expected. */\n",
       "        background-size: auto;\n",
       "    }\n",
       "    progress:not([value]), progress:not([value])::-webkit-progress-bar {\n",
       "        background: repeating-linear-gradient(45deg, #7e7e7e, #7e7e7e 10px, #5c5c5c 10px, #5c5c5c 20px);\n",
       "    }\n",
       "    .progress-bar-interrupted, .progress-bar-interrupted::-webkit-progress-bar {\n",
       "        background: #F44336;\n",
       "    }\n",
       "</style>\n"
      ],
      "text/plain": [
       "<IPython.core.display.HTML object>"
      ]
     },
     "metadata": {},
     "output_type": "display_data"
    },
    {
     "data": {
      "text/html": [
       "<table border=\"1\" class=\"dataframe\">\n",
       "  <thead>\n",
       "    <tr style=\"text-align: left;\">\n",
       "      <th>epoch</th>\n",
       "      <th>train_loss</th>\n",
       "      <th>valid_loss</th>\n",
       "      <th>roc_auc_score</th>\n",
       "      <th>time</th>\n",
       "    </tr>\n",
       "  </thead>\n",
       "  <tbody>\n",
       "    <tr>\n",
       "      <td>0</td>\n",
       "      <td>0.292275</td>\n",
       "      <td>0.238495</td>\n",
       "      <td>0.564444</td>\n",
       "      <td>00:52</td>\n",
       "    </tr>\n",
       "    <tr>\n",
       "      <td>1</td>\n",
       "      <td>0.277655</td>\n",
       "      <td>0.227798</td>\n",
       "      <td>0.663333</td>\n",
       "      <td>00:52</td>\n",
       "    </tr>\n",
       "    <tr>\n",
       "      <td>2</td>\n",
       "      <td>0.251435</td>\n",
       "      <td>0.205451</td>\n",
       "      <td>0.788889</td>\n",
       "      <td>00:53</td>\n",
       "    </tr>\n",
       "    <tr>\n",
       "      <td>3</td>\n",
       "      <td>0.217150</td>\n",
       "      <td>0.194291</td>\n",
       "      <td>0.808889</td>\n",
       "      <td>00:55</td>\n",
       "    </tr>\n",
       "    <tr>\n",
       "      <td>4</td>\n",
       "      <td>0.188029</td>\n",
       "      <td>0.176054</td>\n",
       "      <td>0.864815</td>\n",
       "      <td>00:54</td>\n",
       "    </tr>\n",
       "    <tr>\n",
       "      <td>5</td>\n",
       "      <td>0.163693</td>\n",
       "      <td>0.161926</td>\n",
       "      <td>0.866667</td>\n",
       "      <td>00:52</td>\n",
       "    </tr>\n",
       "    <tr>\n",
       "      <td>6</td>\n",
       "      <td>0.147407</td>\n",
       "      <td>0.174528</td>\n",
       "      <td>0.888519</td>\n",
       "      <td>00:53</td>\n",
       "    </tr>\n",
       "    <tr>\n",
       "      <td>7</td>\n",
       "      <td>0.136873</td>\n",
       "      <td>0.169655</td>\n",
       "      <td>0.899259</td>\n",
       "      <td>00:54</td>\n",
       "    </tr>\n",
       "    <tr>\n",
       "      <td>8</td>\n",
       "      <td>0.118642</td>\n",
       "      <td>0.157590</td>\n",
       "      <td>0.902222</td>\n",
       "      <td>00:53</td>\n",
       "    </tr>\n",
       "    <tr>\n",
       "      <td>9</td>\n",
       "      <td>0.114398</td>\n",
       "      <td>0.158962</td>\n",
       "      <td>0.913333</td>\n",
       "      <td>00:53</td>\n",
       "    </tr>\n",
       "    <tr>\n",
       "      <td>10</td>\n",
       "      <td>0.104956</td>\n",
       "      <td>0.152360</td>\n",
       "      <td>0.920000</td>\n",
       "      <td>00:56</td>\n",
       "    </tr>\n",
       "    <tr>\n",
       "      <td>11</td>\n",
       "      <td>0.094522</td>\n",
       "      <td>0.147907</td>\n",
       "      <td>0.931852</td>\n",
       "      <td>00:53</td>\n",
       "    </tr>\n",
       "    <tr>\n",
       "      <td>12</td>\n",
       "      <td>0.086915</td>\n",
       "      <td>0.136821</td>\n",
       "      <td>0.940000</td>\n",
       "      <td>00:53</td>\n",
       "    </tr>\n",
       "    <tr>\n",
       "      <td>13</td>\n",
       "      <td>0.083123</td>\n",
       "      <td>0.138958</td>\n",
       "      <td>0.928519</td>\n",
       "      <td>00:52</td>\n",
       "    </tr>\n",
       "    <tr>\n",
       "      <td>14</td>\n",
       "      <td>0.082497</td>\n",
       "      <td>0.140088</td>\n",
       "      <td>0.938148</td>\n",
       "      <td>00:52</td>\n",
       "    </tr>\n",
       "    <tr>\n",
       "      <td>15</td>\n",
       "      <td>0.079321</td>\n",
       "      <td>0.145379</td>\n",
       "      <td>0.939259</td>\n",
       "      <td>00:51</td>\n",
       "    </tr>\n",
       "    <tr>\n",
       "      <td>16</td>\n",
       "      <td>0.075685</td>\n",
       "      <td>0.140566</td>\n",
       "      <td>0.939630</td>\n",
       "      <td>00:52</td>\n",
       "    </tr>\n",
       "    <tr>\n",
       "      <td>17</td>\n",
       "      <td>0.075373</td>\n",
       "      <td>0.143972</td>\n",
       "      <td>0.936667</td>\n",
       "      <td>00:52</td>\n",
       "    </tr>\n",
       "    <tr>\n",
       "      <td>18</td>\n",
       "      <td>0.074755</td>\n",
       "      <td>0.139589</td>\n",
       "      <td>0.936667</td>\n",
       "      <td>00:53</td>\n",
       "    </tr>\n",
       "    <tr>\n",
       "      <td>19</td>\n",
       "      <td>0.074820</td>\n",
       "      <td>0.138711</td>\n",
       "      <td>0.937407</td>\n",
       "      <td>00:51</td>\n",
       "    </tr>\n",
       "  </tbody>\n",
       "</table>"
      ],
      "text/plain": [
       "<IPython.core.display.HTML object>"
      ]
     },
     "metadata": {},
     "output_type": "display_data"
    },
    {
     "name": "stdout",
     "output_type": "stream",
     "text": [
      "Better model found at epoch 0 with valid_loss value: 0.2384953796863556.\n",
      "Better model found at epoch 1 with valid_loss value: 0.22779834270477295.\n",
      "Better model found at epoch 2 with valid_loss value: 0.20545051991939545.\n",
      "Better model found at epoch 3 with valid_loss value: 0.19429084658622742.\n",
      "Better model found at epoch 4 with valid_loss value: 0.17605359852313995.\n",
      "Better model found at epoch 5 with valid_loss value: 0.16192592680454254.\n",
      "Better model found at epoch 8 with valid_loss value: 0.15759015083312988.\n",
      "Better model found at epoch 10 with valid_loss value: 0.1523600071668625.\n",
      "Better model found at epoch 11 with valid_loss value: 0.14790686964988708.\n",
      "Better model found at epoch 12 with valid_loss value: 0.13682110607624054.\n"
     ]
    },
    {
     "data": {
      "text/html": [
       "<pre style=\"white-space:pre;overflow-x:auto;line-height:normal;font-family:Menlo,'DejaVu Sans Mono',consolas,'Courier New',monospace\"><span style=\"color: #7fbfbf; text-decoration-color: #7fbfbf\">[19:05:10] </span><span style=\"color: #000080; text-decoration-color: #000080\">INFO    </span> Predictions saved to                                                                           \n",
       "<span style=\"color: #7fbfbf; text-decoration-color: #7fbfbf\">           </span>         <span style=\"color: #008000; text-decoration-color: #008000\">/mnt/d/Declich/GitHub/UMD/projects/trained_models/ABMIL-I3LUNG-AD-noqc-nostainnorm/00013-uni/pr</span>\n",
       "<span style=\"color: #7fbfbf; text-decoration-color: #7fbfbf\">           </span>         <span style=\"color: #008000; text-decoration-color: #008000\">edictions.parquet</span>                                                                              \n",
       "</pre>\n"
      ],
      "text/plain": [
       "\u001b[2;36m[19:05:10]\u001b[0m\u001b[2;36m \u001b[0m\u001b[34mINFO    \u001b[0m Predictions saved to                                                                           \n",
       "\u001b[2;36m           \u001b[0m         \u001b[32m/mnt/d/Declich/GitHub/UMD/projects/trained_models/ABMIL-I3LUNG-AD-noqc-nostainnorm/00013-uni/pr\u001b[0m\n",
       "\u001b[2;36m           \u001b[0m         \u001b[32medictions.parquet\u001b[0m                                                                              \n"
      ]
     },
     "metadata": {},
     "output_type": "display_data"
    },
    {
     "data": {
      "text/html": [
       "<pre style=\"white-space:pre;overflow-x:auto;line-height:normal;font-family:Menlo,'DejaVu Sans Mono',consolas,'Courier New',monospace\"><span style=\"color: #7fbfbf; text-decoration-color: #7fbfbf\">           </span><span style=\"color: #000080; text-decoration-color: #000080\">INFO    </span> Validation metrics for outcome <span style=\"color: #008000; text-decoration-color: #008000\">HISTOLOGY</span>:                                                      \n",
       "</pre>\n"
      ],
      "text/plain": [
       "\u001b[2;36m          \u001b[0m\u001b[2;36m \u001b[0m\u001b[34mINFO    \u001b[0m Validation metrics for outcome \u001b[32mHISTOLOGY\u001b[0m:                                                      \n"
      ]
     },
     "metadata": {},
     "output_type": "display_data"
    },
    {
     "data": {
      "text/html": [
       "<pre style=\"white-space:pre;overflow-x:auto;line-height:normal;font-family:Menlo,'DejaVu Sans Mono',consolas,'Courier New',monospace\"><span style=\"color: #7fbfbf; text-decoration-color: #7fbfbf\">           </span><span style=\"color: #000080; text-decoration-color: #000080\">INFO    </span> slide-level AUC (cat # 0): 0.940 AP: 0.980 (opt. threshold: 0.229)                             \n",
       "</pre>\n"
      ],
      "text/plain": [
       "\u001b[2;36m          \u001b[0m\u001b[2;36m \u001b[0m\u001b[34mINFO    \u001b[0m slide-level AUC (cat # 0): 0.940 AP: 0.980 (opt. threshold: 0.229)                             \n"
      ]
     },
     "metadata": {},
     "output_type": "display_data"
    },
    {
     "data": {
      "text/html": [
       "<pre style=\"white-space:pre;overflow-x:auto;line-height:normal;font-family:Menlo,'DejaVu Sans Mono',consolas,'Courier New',monospace\"><span style=\"color: #7fbfbf; text-decoration-color: #7fbfbf\">           </span><span style=\"color: #000080; text-decoration-color: #000080\">INFO    </span> slide-level AUC (cat # 1): 0.940 AP: 0.834 (opt. threshold: 0.787)                             \n",
       "</pre>\n"
      ],
      "text/plain": [
       "\u001b[2;36m          \u001b[0m\u001b[2;36m \u001b[0m\u001b[34mINFO    \u001b[0m slide-level AUC (cat # 1): 0.940 AP: 0.834 (opt. threshold: 0.787)                             \n"
      ]
     },
     "metadata": {},
     "output_type": "display_data"
    },
    {
     "data": {
      "text/html": [
       "<pre style=\"white-space:pre;overflow-x:auto;line-height:normal;font-family:Menlo,'DejaVu Sans Mono',consolas,'Courier New',monospace\"><span style=\"color: #7fbfbf; text-decoration-color: #7fbfbf\">           </span><span style=\"color: #000080; text-decoration-color: #000080\">INFO    </span> Category 0 acc: 71.0% (71/100)                                                                 \n",
       "</pre>\n"
      ],
      "text/plain": [
       "\u001b[2;36m          \u001b[0m\u001b[2;36m \u001b[0m\u001b[34mINFO    \u001b[0m Category 0 acc: 71.0% (71/100)                                                                 \n"
      ]
     },
     "metadata": {},
     "output_type": "display_data"
    },
    {
     "data": {
      "text/html": [
       "<pre style=\"white-space:pre;overflow-x:auto;line-height:normal;font-family:Menlo,'DejaVu Sans Mono',consolas,'Courier New',monospace\"><span style=\"color: #7fbfbf; text-decoration-color: #7fbfbf\">           </span><span style=\"color: #000080; text-decoration-color: #000080\">INFO    </span> Category 1 acc: 96.3% (26/27)                                                                  \n",
       "</pre>\n"
      ],
      "text/plain": [
       "\u001b[2;36m          \u001b[0m\u001b[2;36m \u001b[0m\u001b[34mINFO    \u001b[0m Category 1 acc: 96.3% (26/27)                                                                  \n"
      ]
     },
     "metadata": {},
     "output_type": "display_data"
    },
    {
     "data": {
      "text/html": [
       "<pre style=\"white-space:pre;overflow-x:auto;line-height:normal;font-family:Menlo,'DejaVu Sans Mono',consolas,'Courier New',monospace\"><span style=\"color: #7fbfbf; text-decoration-color: #7fbfbf\">[19:05:11] </span><span style=\"color: #000080; text-decoration-color: #000080\">INFO    </span> Attention scores exported to                                                                   \n",
       "<span style=\"color: #7fbfbf; text-decoration-color: #7fbfbf\">           </span>         <span style=\"color: #008000; text-decoration-color: #008000\">/mnt/d/Declich/GitHub/UMD/projects/trained_models/ABMIL-I3LUNG-AD-noqc-nostainnorm/00013-uni/at</span>\n",
       "<span style=\"color: #7fbfbf; text-decoration-color: #7fbfbf\">           </span>         <span style=\"color: #008000; text-decoration-color: #008000\">tention/DIG_PAT_1725901598_att.npz</span>                                                             \n",
       "</pre>\n"
      ],
      "text/plain": [
       "\u001b[2;36m[19:05:11]\u001b[0m\u001b[2;36m \u001b[0m\u001b[34mINFO    \u001b[0m Attention scores exported to                                                                   \n",
       "\u001b[2;36m           \u001b[0m         \u001b[32m/mnt/d/Declich/GitHub/UMD/projects/trained_models/ABMIL-I3LUNG-AD-noqc-nostainnorm/00013-uni/at\u001b[0m\n",
       "\u001b[2;36m           \u001b[0m         \u001b[32mtention/DIG_PAT_1725901598_att.npz\u001b[0m                                                             \n"
      ]
     },
     "metadata": {},
     "output_type": "display_data"
    },
    {
     "name": "stdout",
     "output_type": "stream",
     "text": [
      "Random seed set to: 93880968\n"
     ]
    },
    {
     "data": {
      "text/html": [
       "<pre style=\"white-space:pre;overflow-x:auto;line-height:normal;font-family:Menlo,'DejaVu Sans Mono',consolas,'Courier New',monospace\"><span style=\"color: #7fbfbf; text-decoration-color: #7fbfbf\">           </span><span style=\"color: #808000; text-decoration-color: #808000\">WARNING </span> <span style=\"color: #808000; text-decoration-color: #808000\">297 slides missing tfrecords, skipping</span>                                                         \n",
       "</pre>\n"
      ],
      "text/plain": [
       "\u001b[2;36m          \u001b[0m\u001b[2;36m \u001b[0m\u001b[33mWARNING \u001b[0m \u001b[33m297 slides missing tfrecords, skipping\u001b[0m                                                         \n"
      ]
     },
     "metadata": {},
     "output_type": "display_data"
    },
    {
     "data": {
      "text/html": [
       "<pre style=\"white-space:pre;overflow-x:auto;line-height:normal;font-family:Menlo,'DejaVu Sans Mono',consolas,'Courier New',monospace\"><span style=\"color: #7fbfbf; text-decoration-color: #7fbfbf\">           </span><span style=\"color: #000080; text-decoration-color: #000080\">INFO    </span> No training/validation splits file provided.                                                   \n",
       "</pre>\n"
      ],
      "text/plain": [
       "\u001b[2;36m          \u001b[0m\u001b[2;36m \u001b[0m\u001b[34mINFO    \u001b[0m No training/validation splits file provided.                                                   \n"
      ]
     },
     "metadata": {},
     "output_type": "display_data"
    },
    {
     "data": {
      "text/html": [
       "<pre style=\"white-space:pre;overflow-x:auto;line-height:normal;font-family:Menlo,'DejaVu Sans Mono',consolas,'Courier New',monospace\"><span style=\"color: #7fbfbf; text-decoration-color: #7fbfbf\">           </span><span style=\"color: #000080; text-decoration-color: #000080\">INFO    </span> Unable to save or load validation splits.                                                      \n",
       "</pre>\n"
      ],
      "text/plain": [
       "\u001b[2;36m          \u001b[0m\u001b[2;36m \u001b[0m\u001b[34mINFO    \u001b[0m Unable to save or load validation splits.                                                      \n"
      ]
     },
     "metadata": {},
     "output_type": "display_data"
    },
    {
     "data": {
      "text/html": [
       "<pre style=\"white-space:pre;overflow-x:auto;line-height:normal;font-family:Menlo,'DejaVu Sans Mono',consolas,'Courier New',monospace\"><span style=\"color: #7fbfbf; text-decoration-color: #7fbfbf\">[19:05:12] </span><span style=\"color: #000080; text-decoration-color: #000080\">INFO    </span> Training FastAI MIL model with config:                                                         \n",
       "</pre>\n"
      ],
      "text/plain": [
       "\u001b[2;36m[19:05:12]\u001b[0m\u001b[2;36m \u001b[0m\u001b[34mINFO    \u001b[0m Training FastAI MIL model with config:                                                         \n"
      ]
     },
     "metadata": {},
     "output_type": "display_data"
    },
    {
     "data": {
      "text/html": [
       "<pre style=\"white-space:pre;overflow-x:auto;line-height:normal;font-family:Menlo,'DejaVu Sans Mono',consolas,'Courier New',monospace\"><span style=\"color: #7fbfbf; text-decoration-color: #7fbfbf\">           </span><span style=\"color: #000080; text-decoration-color: #000080\">INFO    </span> TrainerConfig(                                                                                 \n",
       "<span style=\"color: #7fbfbf; text-decoration-color: #7fbfbf\">           </span>           lr=0.0001                                                                                    \n",
       "<span style=\"color: #7fbfbf; text-decoration-color: #7fbfbf\">           </span>           wd=1e-05                                                                                     \n",
       "<span style=\"color: #7fbfbf; text-decoration-color: #7fbfbf\">           </span>           bag_size=1024                                                                                \n",
       "<span style=\"color: #7fbfbf; text-decoration-color: #7fbfbf\">           </span>           max_val_bag_size=None                                                                        \n",
       "<span style=\"color: #7fbfbf; text-decoration-color: #7fbfbf\">           </span>           fit_one_cycle=True                                                                           \n",
       "<span style=\"color: #7fbfbf; text-decoration-color: #7fbfbf\">           </span>           epochs=20                                                                                    \n",
       "<span style=\"color: #7fbfbf; text-decoration-color: #7fbfbf\">           </span>           batch_size=16                                                                                \n",
       "<span style=\"color: #7fbfbf; text-decoration-color: #7fbfbf\">           </span>           drop_last=True                                                                               \n",
       "<span style=\"color: #7fbfbf; text-decoration-color: #7fbfbf\">           </span>           save_monitor='valid_loss'                                                                    \n",
       "<span style=\"color: #7fbfbf; text-decoration-color: #7fbfbf\">           </span>           weighted_loss=True                                                                           \n",
       "<span style=\"color: #7fbfbf; text-decoration-color: #7fbfbf\">           </span>           model='attention_mil'                                                                        \n",
       "<span style=\"color: #7fbfbf; text-decoration-color: #7fbfbf\">           </span>           model_kwargs=None                                                                            \n",
       "<span style=\"color: #7fbfbf; text-decoration-color: #7fbfbf\">           </span>           loss='cross_entropy'                                                                         \n",
       "<span style=\"color: #7fbfbf; text-decoration-color: #7fbfbf\">           </span>           use_lens=True                                                                                \n",
       "<span style=\"color: #7fbfbf; text-decoration-color: #7fbfbf\">           </span>         )                                                                                              \n",
       "</pre>\n"
      ],
      "text/plain": [
       "\u001b[2;36m          \u001b[0m\u001b[2;36m \u001b[0m\u001b[34mINFO    \u001b[0m TrainerConfig(                                                                                 \n",
       "\u001b[2;36m           \u001b[0m           lr=0.0001                                                                                    \n",
       "\u001b[2;36m           \u001b[0m           wd=1e-05                                                                                     \n",
       "\u001b[2;36m           \u001b[0m           bag_size=1024                                                                                \n",
       "\u001b[2;36m           \u001b[0m           max_val_bag_size=None                                                                        \n",
       "\u001b[2;36m           \u001b[0m           fit_one_cycle=True                                                                           \n",
       "\u001b[2;36m           \u001b[0m           epochs=20                                                                                    \n",
       "\u001b[2;36m           \u001b[0m           batch_size=16                                                                                \n",
       "\u001b[2;36m           \u001b[0m           drop_last=True                                                                               \n",
       "\u001b[2;36m           \u001b[0m           save_monitor='valid_loss'                                                                    \n",
       "\u001b[2;36m           \u001b[0m           weighted_loss=True                                                                           \n",
       "\u001b[2;36m           \u001b[0m           model='attention_mil'                                                                        \n",
       "\u001b[2;36m           \u001b[0m           model_kwargs=None                                                                            \n",
       "\u001b[2;36m           \u001b[0m           loss='cross_entropy'                                                                         \n",
       "\u001b[2;36m           \u001b[0m           use_lens=True                                                                                \n",
       "\u001b[2;36m           \u001b[0m         )                                                                                              \n"
      ]
     },
     "metadata": {},
     "output_type": "display_data"
    },
    {
     "data": {
      "text/html": [
       "<pre style=\"white-space:pre;overflow-x:auto;line-height:normal;font-family:Menlo,'DejaVu Sans Mono',consolas,'Courier New',monospace\"><span style=\"color: #7fbfbf; text-decoration-color: #7fbfbf\">           </span><span style=\"color: #000080; text-decoration-color: #000080\">INFO    </span> Training dataset: 495 merged bags (from 495 possible slides)                                   \n",
       "</pre>\n"
      ],
      "text/plain": [
       "\u001b[2;36m          \u001b[0m\u001b[2;36m \u001b[0m\u001b[34mINFO    \u001b[0m Training dataset: 495 merged bags (from 495 possible slides)                                   \n"
      ]
     },
     "metadata": {},
     "output_type": "display_data"
    },
    {
     "data": {
      "text/html": [
       "<pre style=\"white-space:pre;overflow-x:auto;line-height:normal;font-family:Menlo,'DejaVu Sans Mono',consolas,'Courier New',monospace\"><span style=\"color: #7fbfbf; text-decoration-color: #7fbfbf\">           </span><span style=\"color: #000080; text-decoration-color: #000080\">INFO    </span> Validation dataset: 123 merged bags (from 123 possible slides)                                 \n",
       "</pre>\n"
      ],
      "text/plain": [
       "\u001b[2;36m          \u001b[0m\u001b[2;36m \u001b[0m\u001b[34mINFO    \u001b[0m Validation dataset: 123 merged bags (from 123 possible slides)                                 \n"
      ]
     },
     "metadata": {},
     "output_type": "display_data"
    },
    {
     "data": {
      "text/html": [
       "<pre style=\"white-space:pre;overflow-x:auto;line-height:normal;font-family:Menlo,'DejaVu Sans Mono',consolas,'Courier New',monospace\"><span style=\"color: #7fbfbf; text-decoration-color: #7fbfbf\">[19:05:13] </span><span style=\"color: #000080; text-decoration-color: #000080\">INFO    </span> Building model <span style=\"font-weight: bold\">Attention_MIL</span> (n_in=1024, n_out=2)                                              \n",
       "</pre>\n"
      ],
      "text/plain": [
       "\u001b[2;36m[19:05:13]\u001b[0m\u001b[2;36m \u001b[0m\u001b[34mINFO    \u001b[0m Building model \u001b[1mAttention_MIL\u001b[0m (n_in=1024, n_out=2)                                              \n"
      ]
     },
     "metadata": {},
     "output_type": "display_data"
    },
    {
     "data": {
      "text/html": [
       "\n",
       "<style>\n",
       "    /* Turns off some styling */\n",
       "    progress {\n",
       "        /* gets rid of default border in Firefox and Opera. */\n",
       "        border: none;\n",
       "        /* Needs to be in here for Safari polyfill so background images work as expected. */\n",
       "        background-size: auto;\n",
       "    }\n",
       "    progress:not([value]), progress:not([value])::-webkit-progress-bar {\n",
       "        background: repeating-linear-gradient(45deg, #7e7e7e, #7e7e7e 10px, #5c5c5c 10px, #5c5c5c 20px);\n",
       "    }\n",
       "    .progress-bar-interrupted, .progress-bar-interrupted::-webkit-progress-bar {\n",
       "        background: #F44336;\n",
       "    }\n",
       "</style>\n"
      ],
      "text/plain": [
       "<IPython.core.display.HTML object>"
      ]
     },
     "metadata": {},
     "output_type": "display_data"
    },
    {
     "data": {
      "text/html": [
       "<table border=\"1\" class=\"dataframe\">\n",
       "  <thead>\n",
       "    <tr style=\"text-align: left;\">\n",
       "      <th>epoch</th>\n",
       "      <th>train_loss</th>\n",
       "      <th>valid_loss</th>\n",
       "      <th>roc_auc_score</th>\n",
       "      <th>time</th>\n",
       "    </tr>\n",
       "  </thead>\n",
       "  <tbody>\n",
       "    <tr>\n",
       "      <td>0</td>\n",
       "      <td>0.273120</td>\n",
       "      <td>0.244275</td>\n",
       "      <td>0.550154</td>\n",
       "      <td>00:53</td>\n",
       "    </tr>\n",
       "    <tr>\n",
       "      <td>1</td>\n",
       "      <td>0.264313</td>\n",
       "      <td>0.237539</td>\n",
       "      <td>0.634645</td>\n",
       "      <td>00:53</td>\n",
       "    </tr>\n",
       "    <tr>\n",
       "      <td>2</td>\n",
       "      <td>0.241105</td>\n",
       "      <td>0.219842</td>\n",
       "      <td>0.722608</td>\n",
       "      <td>00:51</td>\n",
       "    </tr>\n",
       "    <tr>\n",
       "      <td>3</td>\n",
       "      <td>0.217915</td>\n",
       "      <td>0.187697</td>\n",
       "      <td>0.810571</td>\n",
       "      <td>00:54</td>\n",
       "    </tr>\n",
       "    <tr>\n",
       "      <td>4</td>\n",
       "      <td>0.190227</td>\n",
       "      <td>0.198125</td>\n",
       "      <td>0.814815</td>\n",
       "      <td>00:53</td>\n",
       "    </tr>\n",
       "    <tr>\n",
       "      <td>5</td>\n",
       "      <td>0.169374</td>\n",
       "      <td>0.202996</td>\n",
       "      <td>0.817901</td>\n",
       "      <td>00:53</td>\n",
       "    </tr>\n",
       "    <tr>\n",
       "      <td>6</td>\n",
       "      <td>0.149887</td>\n",
       "      <td>0.178882</td>\n",
       "      <td>0.828704</td>\n",
       "      <td>00:52</td>\n",
       "    </tr>\n",
       "    <tr>\n",
       "      <td>7</td>\n",
       "      <td>0.133763</td>\n",
       "      <td>0.179627</td>\n",
       "      <td>0.829861</td>\n",
       "      <td>00:53</td>\n",
       "    </tr>\n",
       "    <tr>\n",
       "      <td>8</td>\n",
       "      <td>0.121743</td>\n",
       "      <td>0.185729</td>\n",
       "      <td>0.833719</td>\n",
       "      <td>00:50</td>\n",
       "    </tr>\n",
       "    <tr>\n",
       "      <td>9</td>\n",
       "      <td>0.112099</td>\n",
       "      <td>0.180990</td>\n",
       "      <td>0.839506</td>\n",
       "      <td>00:53</td>\n",
       "    </tr>\n",
       "    <tr>\n",
       "      <td>10</td>\n",
       "      <td>0.103071</td>\n",
       "      <td>0.190767</td>\n",
       "      <td>0.826003</td>\n",
       "      <td>00:53</td>\n",
       "    </tr>\n",
       "    <tr>\n",
       "      <td>11</td>\n",
       "      <td>0.094829</td>\n",
       "      <td>0.183417</td>\n",
       "      <td>0.830633</td>\n",
       "      <td>00:53</td>\n",
       "    </tr>\n",
       "    <tr>\n",
       "      <td>12</td>\n",
       "      <td>0.087109</td>\n",
       "      <td>0.170094</td>\n",
       "      <td>0.847222</td>\n",
       "      <td>00:53</td>\n",
       "    </tr>\n",
       "    <tr>\n",
       "      <td>13</td>\n",
       "      <td>0.083174</td>\n",
       "      <td>0.169655</td>\n",
       "      <td>0.850694</td>\n",
       "      <td>00:53</td>\n",
       "    </tr>\n",
       "    <tr>\n",
       "      <td>14</td>\n",
       "      <td>0.077534</td>\n",
       "      <td>0.169488</td>\n",
       "      <td>0.852238</td>\n",
       "      <td>00:53</td>\n",
       "    </tr>\n",
       "    <tr>\n",
       "      <td>15</td>\n",
       "      <td>0.078325</td>\n",
       "      <td>0.169884</td>\n",
       "      <td>0.853395</td>\n",
       "      <td>00:52</td>\n",
       "    </tr>\n",
       "    <tr>\n",
       "      <td>16</td>\n",
       "      <td>0.073820</td>\n",
       "      <td>0.173243</td>\n",
       "      <td>0.846451</td>\n",
       "      <td>00:53</td>\n",
       "    </tr>\n",
       "    <tr>\n",
       "      <td>17</td>\n",
       "      <td>0.072230</td>\n",
       "      <td>0.171845</td>\n",
       "      <td>0.851466</td>\n",
       "      <td>00:53</td>\n",
       "    </tr>\n",
       "    <tr>\n",
       "      <td>18</td>\n",
       "      <td>0.068347</td>\n",
       "      <td>0.171887</td>\n",
       "      <td>0.847608</td>\n",
       "      <td>00:53</td>\n",
       "    </tr>\n",
       "    <tr>\n",
       "      <td>19</td>\n",
       "      <td>0.065147</td>\n",
       "      <td>0.172416</td>\n",
       "      <td>0.848765</td>\n",
       "      <td>00:52</td>\n",
       "    </tr>\n",
       "  </tbody>\n",
       "</table>"
      ],
      "text/plain": [
       "<IPython.core.display.HTML object>"
      ]
     },
     "metadata": {},
     "output_type": "display_data"
    },
    {
     "name": "stdout",
     "output_type": "stream",
     "text": [
      "Better model found at epoch 0 with valid_loss value: 0.24427472054958344.\n",
      "Better model found at epoch 1 with valid_loss value: 0.2375391274690628.\n",
      "Better model found at epoch 2 with valid_loss value: 0.21984218060970306.\n",
      "Better model found at epoch 3 with valid_loss value: 0.1876968890428543.\n",
      "Better model found at epoch 6 with valid_loss value: 0.17888234555721283.\n",
      "Better model found at epoch 12 with valid_loss value: 0.17009371519088745.\n",
      "Better model found at epoch 13 with valid_loss value: 0.16965484619140625.\n",
      "Better model found at epoch 14 with valid_loss value: 0.16948829591274261.\n"
     ]
    },
    {
     "data": {
      "text/html": [
       "<pre style=\"white-space:pre;overflow-x:auto;line-height:normal;font-family:Menlo,'DejaVu Sans Mono',consolas,'Courier New',monospace\"><span style=\"color: #7fbfbf; text-decoration-color: #7fbfbf\">[19:23:12] </span><span style=\"color: #000080; text-decoration-color: #000080\">INFO    </span> Predictions saved to                                                                           \n",
       "<span style=\"color: #7fbfbf; text-decoration-color: #7fbfbf\">           </span>         <span style=\"color: #008000; text-decoration-color: #008000\">/mnt/d/Declich/GitHub/UMD/projects/trained_models/ABMIL-I3LUNG-AD-noqc-nostainnorm/00014-uni/pr</span>\n",
       "<span style=\"color: #7fbfbf; text-decoration-color: #7fbfbf\">           </span>         <span style=\"color: #008000; text-decoration-color: #008000\">edictions.parquet</span>                                                                              \n",
       "</pre>\n"
      ],
      "text/plain": [
       "\u001b[2;36m[19:23:12]\u001b[0m\u001b[2;36m \u001b[0m\u001b[34mINFO    \u001b[0m Predictions saved to                                                                           \n",
       "\u001b[2;36m           \u001b[0m         \u001b[32m/mnt/d/Declich/GitHub/UMD/projects/trained_models/ABMIL-I3LUNG-AD-noqc-nostainnorm/00014-uni/pr\u001b[0m\n",
       "\u001b[2;36m           \u001b[0m         \u001b[32medictions.parquet\u001b[0m                                                                              \n"
      ]
     },
     "metadata": {},
     "output_type": "display_data"
    },
    {
     "data": {
      "text/html": [
       "<pre style=\"white-space:pre;overflow-x:auto;line-height:normal;font-family:Menlo,'DejaVu Sans Mono',consolas,'Courier New',monospace\"><span style=\"color: #7fbfbf; text-decoration-color: #7fbfbf\">           </span><span style=\"color: #000080; text-decoration-color: #000080\">INFO    </span> Validation metrics for outcome <span style=\"color: #008000; text-decoration-color: #008000\">HISTOLOGY</span>:                                                      \n",
       "</pre>\n"
      ],
      "text/plain": [
       "\u001b[2;36m          \u001b[0m\u001b[2;36m \u001b[0m\u001b[34mINFO    \u001b[0m Validation metrics for outcome \u001b[32mHISTOLOGY\u001b[0m:                                                      \n"
      ]
     },
     "metadata": {},
     "output_type": "display_data"
    },
    {
     "data": {
      "text/html": [
       "<pre style=\"white-space:pre;overflow-x:auto;line-height:normal;font-family:Menlo,'DejaVu Sans Mono',consolas,'Courier New',monospace\"><span style=\"color: #7fbfbf; text-decoration-color: #7fbfbf\">[19:23:13] </span><span style=\"color: #000080; text-decoration-color: #000080\">INFO    </span> slide-level AUC (cat # 0): 0.852 AP: 0.939 (opt. threshold: 0.532)                             \n",
       "</pre>\n"
      ],
      "text/plain": [
       "\u001b[2;36m[19:23:13]\u001b[0m\u001b[2;36m \u001b[0m\u001b[34mINFO    \u001b[0m slide-level AUC (cat # 0): 0.852 AP: 0.939 (opt. threshold: 0.532)                             \n"
      ]
     },
     "metadata": {},
     "output_type": "display_data"
    },
    {
     "data": {
      "text/html": [
       "<pre style=\"white-space:pre;overflow-x:auto;line-height:normal;font-family:Menlo,'DejaVu Sans Mono',consolas,'Courier New',monospace\"><span style=\"color: #7fbfbf; text-decoration-color: #7fbfbf\">           </span><span style=\"color: #000080; text-decoration-color: #000080\">INFO    </span> slide-level AUC (cat # 1): 0.852 AP: 0.716 (opt. threshold: 0.474)                             \n",
       "</pre>\n"
      ],
      "text/plain": [
       "\u001b[2;36m          \u001b[0m\u001b[2;36m \u001b[0m\u001b[34mINFO    \u001b[0m slide-level AUC (cat # 1): 0.852 AP: 0.716 (opt. threshold: 0.474)                             \n"
      ]
     },
     "metadata": {},
     "output_type": "display_data"
    },
    {
     "data": {
      "text/html": [
       "<pre style=\"white-space:pre;overflow-x:auto;line-height:normal;font-family:Menlo,'DejaVu Sans Mono',consolas,'Courier New',monospace\"><span style=\"color: #7fbfbf; text-decoration-color: #7fbfbf\">           </span><span style=\"color: #000080; text-decoration-color: #000080\">INFO    </span> Category 0 acc: 87.5% (84/96)                                                                  \n",
       "</pre>\n"
      ],
      "text/plain": [
       "\u001b[2;36m          \u001b[0m\u001b[2;36m \u001b[0m\u001b[34mINFO    \u001b[0m Category 0 acc: 87.5% (84/96)                                                                  \n"
      ]
     },
     "metadata": {},
     "output_type": "display_data"
    },
    {
     "data": {
      "text/html": [
       "<pre style=\"white-space:pre;overflow-x:auto;line-height:normal;font-family:Menlo,'DejaVu Sans Mono',consolas,'Courier New',monospace\"><span style=\"color: #7fbfbf; text-decoration-color: #7fbfbf\">           </span><span style=\"color: #000080; text-decoration-color: #000080\">INFO    </span> Category 1 acc: 77.8% (21/27)                                                                  \n",
       "</pre>\n"
      ],
      "text/plain": [
       "\u001b[2;36m          \u001b[0m\u001b[2;36m \u001b[0m\u001b[34mINFO    \u001b[0m Category 1 acc: 77.8% (21/27)                                                                  \n"
      ]
     },
     "metadata": {},
     "output_type": "display_data"
    },
    {
     "data": {
      "text/html": [
       "<pre style=\"white-space:pre;overflow-x:auto;line-height:normal;font-family:Menlo,'DejaVu Sans Mono',consolas,'Courier New',monospace\"><span style=\"color: #7fbfbf; text-decoration-color: #7fbfbf\">[19:23:14] </span><span style=\"color: #000080; text-decoration-color: #000080\">INFO    </span> Attention scores exported to                                                                   \n",
       "<span style=\"color: #7fbfbf; text-decoration-color: #7fbfbf\">           </span>         <span style=\"color: #008000; text-decoration-color: #008000\">/mnt/d/Declich/GitHub/UMD/projects/trained_models/ABMIL-I3LUNG-AD-noqc-nostainnorm/00014-uni/at</span>\n",
       "<span style=\"color: #7fbfbf; text-decoration-color: #7fbfbf\">           </span>         <span style=\"color: #008000; text-decoration-color: #008000\">tention/DIG_PAT_1725901844_att.npz</span>                                                             \n",
       "</pre>\n"
      ],
      "text/plain": [
       "\u001b[2;36m[19:23:14]\u001b[0m\u001b[2;36m \u001b[0m\u001b[34mINFO    \u001b[0m Attention scores exported to                                                                   \n",
       "\u001b[2;36m           \u001b[0m         \u001b[32m/mnt/d/Declich/GitHub/UMD/projects/trained_models/ABMIL-I3LUNG-AD-noqc-nostainnorm/00014-uni/at\u001b[0m\n",
       "\u001b[2;36m           \u001b[0m         \u001b[32mtention/DIG_PAT_1725901844_att.npz\u001b[0m                                                             \n"
      ]
     },
     "metadata": {},
     "output_type": "display_data"
    },
    {
     "name": "stdout",
     "output_type": "stream",
     "text": [
      "Random seed set to: 23269569\n"
     ]
    },
    {
     "data": {
      "text/html": [
       "<pre style=\"white-space:pre;overflow-x:auto;line-height:normal;font-family:Menlo,'DejaVu Sans Mono',consolas,'Courier New',monospace\"><span style=\"color: #7fbfbf; text-decoration-color: #7fbfbf\">           </span><span style=\"color: #808000; text-decoration-color: #808000\">WARNING </span> <span style=\"color: #808000; text-decoration-color: #808000\">297 slides missing tfrecords, skipping</span>                                                         \n",
       "</pre>\n"
      ],
      "text/plain": [
       "\u001b[2;36m          \u001b[0m\u001b[2;36m \u001b[0m\u001b[33mWARNING \u001b[0m \u001b[33m297 slides missing tfrecords, skipping\u001b[0m                                                         \n"
      ]
     },
     "metadata": {},
     "output_type": "display_data"
    },
    {
     "data": {
      "text/html": [
       "<pre style=\"white-space:pre;overflow-x:auto;line-height:normal;font-family:Menlo,'DejaVu Sans Mono',consolas,'Courier New',monospace\"><span style=\"color: #7fbfbf; text-decoration-color: #7fbfbf\">           </span><span style=\"color: #000080; text-decoration-color: #000080\">INFO    </span> No training/validation splits file provided.                                                   \n",
       "</pre>\n"
      ],
      "text/plain": [
       "\u001b[2;36m          \u001b[0m\u001b[2;36m \u001b[0m\u001b[34mINFO    \u001b[0m No training/validation splits file provided.                                                   \n"
      ]
     },
     "metadata": {},
     "output_type": "display_data"
    },
    {
     "data": {
      "text/html": [
       "<pre style=\"white-space:pre;overflow-x:auto;line-height:normal;font-family:Menlo,'DejaVu Sans Mono',consolas,'Courier New',monospace\"><span style=\"color: #7fbfbf; text-decoration-color: #7fbfbf\">           </span><span style=\"color: #000080; text-decoration-color: #000080\">INFO    </span> Unable to save or load validation splits.                                                      \n",
       "</pre>\n"
      ],
      "text/plain": [
       "\u001b[2;36m          \u001b[0m\u001b[2;36m \u001b[0m\u001b[34mINFO    \u001b[0m Unable to save or load validation splits.                                                      \n"
      ]
     },
     "metadata": {},
     "output_type": "display_data"
    },
    {
     "data": {
      "text/html": [
       "<pre style=\"white-space:pre;overflow-x:auto;line-height:normal;font-family:Menlo,'DejaVu Sans Mono',consolas,'Courier New',monospace\"><span style=\"color: #7fbfbf; text-decoration-color: #7fbfbf\">           </span><span style=\"color: #000080; text-decoration-color: #000080\">INFO    </span> Training FastAI MIL model with config:                                                         \n",
       "</pre>\n"
      ],
      "text/plain": [
       "\u001b[2;36m          \u001b[0m\u001b[2;36m \u001b[0m\u001b[34mINFO    \u001b[0m Training FastAI MIL model with config:                                                         \n"
      ]
     },
     "metadata": {},
     "output_type": "display_data"
    },
    {
     "data": {
      "text/html": [
       "<pre style=\"white-space:pre;overflow-x:auto;line-height:normal;font-family:Menlo,'DejaVu Sans Mono',consolas,'Courier New',monospace\"><span style=\"color: #7fbfbf; text-decoration-color: #7fbfbf\">           </span><span style=\"color: #000080; text-decoration-color: #000080\">INFO    </span> TrainerConfig(                                                                                 \n",
       "<span style=\"color: #7fbfbf; text-decoration-color: #7fbfbf\">           </span>           lr=0.0001                                                                                    \n",
       "<span style=\"color: #7fbfbf; text-decoration-color: #7fbfbf\">           </span>           wd=1e-05                                                                                     \n",
       "<span style=\"color: #7fbfbf; text-decoration-color: #7fbfbf\">           </span>           bag_size=1024                                                                                \n",
       "<span style=\"color: #7fbfbf; text-decoration-color: #7fbfbf\">           </span>           max_val_bag_size=None                                                                        \n",
       "<span style=\"color: #7fbfbf; text-decoration-color: #7fbfbf\">           </span>           fit_one_cycle=True                                                                           \n",
       "<span style=\"color: #7fbfbf; text-decoration-color: #7fbfbf\">           </span>           epochs=20                                                                                    \n",
       "<span style=\"color: #7fbfbf; text-decoration-color: #7fbfbf\">           </span>           batch_size=16                                                                                \n",
       "<span style=\"color: #7fbfbf; text-decoration-color: #7fbfbf\">           </span>           drop_last=True                                                                               \n",
       "<span style=\"color: #7fbfbf; text-decoration-color: #7fbfbf\">           </span>           save_monitor='valid_loss'                                                                    \n",
       "<span style=\"color: #7fbfbf; text-decoration-color: #7fbfbf\">           </span>           weighted_loss=True                                                                           \n",
       "<span style=\"color: #7fbfbf; text-decoration-color: #7fbfbf\">           </span>           model='attention_mil'                                                                        \n",
       "<span style=\"color: #7fbfbf; text-decoration-color: #7fbfbf\">           </span>           model_kwargs=None                                                                            \n",
       "<span style=\"color: #7fbfbf; text-decoration-color: #7fbfbf\">           </span>           loss='cross_entropy'                                                                         \n",
       "<span style=\"color: #7fbfbf; text-decoration-color: #7fbfbf\">           </span>           use_lens=True                                                                                \n",
       "<span style=\"color: #7fbfbf; text-decoration-color: #7fbfbf\">           </span>         )                                                                                              \n",
       "</pre>\n"
      ],
      "text/plain": [
       "\u001b[2;36m          \u001b[0m\u001b[2;36m \u001b[0m\u001b[34mINFO    \u001b[0m TrainerConfig(                                                                                 \n",
       "\u001b[2;36m           \u001b[0m           lr=0.0001                                                                                    \n",
       "\u001b[2;36m           \u001b[0m           wd=1e-05                                                                                     \n",
       "\u001b[2;36m           \u001b[0m           bag_size=1024                                                                                \n",
       "\u001b[2;36m           \u001b[0m           max_val_bag_size=None                                                                        \n",
       "\u001b[2;36m           \u001b[0m           fit_one_cycle=True                                                                           \n",
       "\u001b[2;36m           \u001b[0m           epochs=20                                                                                    \n",
       "\u001b[2;36m           \u001b[0m           batch_size=16                                                                                \n",
       "\u001b[2;36m           \u001b[0m           drop_last=True                                                                               \n",
       "\u001b[2;36m           \u001b[0m           save_monitor='valid_loss'                                                                    \n",
       "\u001b[2;36m           \u001b[0m           weighted_loss=True                                                                           \n",
       "\u001b[2;36m           \u001b[0m           model='attention_mil'                                                                        \n",
       "\u001b[2;36m           \u001b[0m           model_kwargs=None                                                                            \n",
       "\u001b[2;36m           \u001b[0m           loss='cross_entropy'                                                                         \n",
       "\u001b[2;36m           \u001b[0m           use_lens=True                                                                                \n",
       "\u001b[2;36m           \u001b[0m         )                                                                                              \n"
      ]
     },
     "metadata": {},
     "output_type": "display_data"
    },
    {
     "data": {
      "text/html": [
       "<pre style=\"white-space:pre;overflow-x:auto;line-height:normal;font-family:Menlo,'DejaVu Sans Mono',consolas,'Courier New',monospace\"><span style=\"color: #7fbfbf; text-decoration-color: #7fbfbf\">           </span><span style=\"color: #000080; text-decoration-color: #000080\">INFO    </span> Training dataset: 496 merged bags (from 496 possible slides)                                   \n",
       "</pre>\n"
      ],
      "text/plain": [
       "\u001b[2;36m          \u001b[0m\u001b[2;36m \u001b[0m\u001b[34mINFO    \u001b[0m Training dataset: 496 merged bags (from 496 possible slides)                                   \n"
      ]
     },
     "metadata": {},
     "output_type": "display_data"
    },
    {
     "data": {
      "text/html": [
       "<pre style=\"white-space:pre;overflow-x:auto;line-height:normal;font-family:Menlo,'DejaVu Sans Mono',consolas,'Courier New',monospace\"><span style=\"color: #7fbfbf; text-decoration-color: #7fbfbf\">           </span><span style=\"color: #000080; text-decoration-color: #000080\">INFO    </span> Validation dataset: 122 merged bags (from 122 possible slides)                                 \n",
       "</pre>\n"
      ],
      "text/plain": [
       "\u001b[2;36m          \u001b[0m\u001b[2;36m \u001b[0m\u001b[34mINFO    \u001b[0m Validation dataset: 122 merged bags (from 122 possible slides)                                 \n"
      ]
     },
     "metadata": {},
     "output_type": "display_data"
    },
    {
     "data": {
      "text/html": [
       "<pre style=\"white-space:pre;overflow-x:auto;line-height:normal;font-family:Menlo,'DejaVu Sans Mono',consolas,'Courier New',monospace\"><span style=\"color: #7fbfbf; text-decoration-color: #7fbfbf\">[19:23:16] </span><span style=\"color: #000080; text-decoration-color: #000080\">INFO    </span> Building model <span style=\"font-weight: bold\">Attention_MIL</span> (n_in=1024, n_out=2)                                              \n",
       "</pre>\n"
      ],
      "text/plain": [
       "\u001b[2;36m[19:23:16]\u001b[0m\u001b[2;36m \u001b[0m\u001b[34mINFO    \u001b[0m Building model \u001b[1mAttention_MIL\u001b[0m (n_in=1024, n_out=2)                                              \n"
      ]
     },
     "metadata": {},
     "output_type": "display_data"
    },
    {
     "data": {
      "text/html": [
       "\n",
       "<style>\n",
       "    /* Turns off some styling */\n",
       "    progress {\n",
       "        /* gets rid of default border in Firefox and Opera. */\n",
       "        border: none;\n",
       "        /* Needs to be in here for Safari polyfill so background images work as expected. */\n",
       "        background-size: auto;\n",
       "    }\n",
       "    progress:not([value]), progress:not([value])::-webkit-progress-bar {\n",
       "        background: repeating-linear-gradient(45deg, #7e7e7e, #7e7e7e 10px, #5c5c5c 10px, #5c5c5c 20px);\n",
       "    }\n",
       "    .progress-bar-interrupted, .progress-bar-interrupted::-webkit-progress-bar {\n",
       "        background: #F44336;\n",
       "    }\n",
       "</style>\n"
      ],
      "text/plain": [
       "<IPython.core.display.HTML object>"
      ]
     },
     "metadata": {},
     "output_type": "display_data"
    },
    {
     "data": {
      "text/html": [
       "<table border=\"1\" class=\"dataframe\">\n",
       "  <thead>\n",
       "    <tr style=\"text-align: left;\">\n",
       "      <th>epoch</th>\n",
       "      <th>train_loss</th>\n",
       "      <th>valid_loss</th>\n",
       "      <th>roc_auc_score</th>\n",
       "      <th>time</th>\n",
       "    </tr>\n",
       "  </thead>\n",
       "  <tbody>\n",
       "    <tr>\n",
       "      <td>0</td>\n",
       "      <td>0.266296</td>\n",
       "      <td>0.255357</td>\n",
       "      <td>0.532246</td>\n",
       "      <td>00:54</td>\n",
       "    </tr>\n",
       "    <tr>\n",
       "      <td>1</td>\n",
       "      <td>0.268608</td>\n",
       "      <td>0.246484</td>\n",
       "      <td>0.598188</td>\n",
       "      <td>00:52</td>\n",
       "    </tr>\n",
       "    <tr>\n",
       "      <td>2</td>\n",
       "      <td>0.242568</td>\n",
       "      <td>0.223532</td>\n",
       "      <td>0.688406</td>\n",
       "      <td>00:52</td>\n",
       "    </tr>\n",
       "    <tr>\n",
       "      <td>3</td>\n",
       "      <td>0.213331</td>\n",
       "      <td>0.195557</td>\n",
       "      <td>0.805072</td>\n",
       "      <td>00:56</td>\n",
       "    </tr>\n",
       "    <tr>\n",
       "      <td>4</td>\n",
       "      <td>0.192646</td>\n",
       "      <td>0.190737</td>\n",
       "      <td>0.834783</td>\n",
       "      <td>00:53</td>\n",
       "    </tr>\n",
       "    <tr>\n",
       "      <td>5</td>\n",
       "      <td>0.171450</td>\n",
       "      <td>0.178978</td>\n",
       "      <td>0.857609</td>\n",
       "      <td>00:51</td>\n",
       "    </tr>\n",
       "    <tr>\n",
       "      <td>6</td>\n",
       "      <td>0.152678</td>\n",
       "      <td>0.181854</td>\n",
       "      <td>0.870290</td>\n",
       "      <td>00:53</td>\n",
       "    </tr>\n",
       "    <tr>\n",
       "      <td>7</td>\n",
       "      <td>0.141019</td>\n",
       "      <td>0.169360</td>\n",
       "      <td>0.872464</td>\n",
       "      <td>00:53</td>\n",
       "    </tr>\n",
       "    <tr>\n",
       "      <td>8</td>\n",
       "      <td>0.122818</td>\n",
       "      <td>0.164378</td>\n",
       "      <td>0.886232</td>\n",
       "      <td>00:53</td>\n",
       "    </tr>\n",
       "    <tr>\n",
       "      <td>9</td>\n",
       "      <td>0.118447</td>\n",
       "      <td>0.158016</td>\n",
       "      <td>0.885145</td>\n",
       "      <td>00:54</td>\n",
       "    </tr>\n",
       "    <tr>\n",
       "      <td>10</td>\n",
       "      <td>0.105281</td>\n",
       "      <td>0.163023</td>\n",
       "      <td>0.889855</td>\n",
       "      <td>00:53</td>\n",
       "    </tr>\n",
       "    <tr>\n",
       "      <td>11</td>\n",
       "      <td>0.097136</td>\n",
       "      <td>0.159051</td>\n",
       "      <td>0.887681</td>\n",
       "      <td>00:54</td>\n",
       "    </tr>\n",
       "    <tr>\n",
       "      <td>12</td>\n",
       "      <td>0.098125</td>\n",
       "      <td>0.162714</td>\n",
       "      <td>0.889130</td>\n",
       "      <td>00:52</td>\n",
       "    </tr>\n",
       "    <tr>\n",
       "      <td>13</td>\n",
       "      <td>0.091466</td>\n",
       "      <td>0.157884</td>\n",
       "      <td>0.891304</td>\n",
       "      <td>00:53</td>\n",
       "    </tr>\n",
       "    <tr>\n",
       "      <td>14</td>\n",
       "      <td>0.085002</td>\n",
       "      <td>0.161968</td>\n",
       "      <td>0.889130</td>\n",
       "      <td>00:55</td>\n",
       "    </tr>\n",
       "    <tr>\n",
       "      <td>15</td>\n",
       "      <td>0.076673</td>\n",
       "      <td>0.158643</td>\n",
       "      <td>0.889855</td>\n",
       "      <td>00:53</td>\n",
       "    </tr>\n",
       "    <tr>\n",
       "      <td>16</td>\n",
       "      <td>0.076478</td>\n",
       "      <td>0.167709</td>\n",
       "      <td>0.886957</td>\n",
       "      <td>00:54</td>\n",
       "    </tr>\n",
       "    <tr>\n",
       "      <td>17</td>\n",
       "      <td>0.073453</td>\n",
       "      <td>0.158197</td>\n",
       "      <td>0.887681</td>\n",
       "      <td>00:53</td>\n",
       "    </tr>\n",
       "    <tr>\n",
       "      <td>18</td>\n",
       "      <td>0.077152</td>\n",
       "      <td>0.164197</td>\n",
       "      <td>0.890217</td>\n",
       "      <td>00:53</td>\n",
       "    </tr>\n",
       "    <tr>\n",
       "      <td>19</td>\n",
       "      <td>0.070674</td>\n",
       "      <td>0.156737</td>\n",
       "      <td>0.888406</td>\n",
       "      <td>00:51</td>\n",
       "    </tr>\n",
       "  </tbody>\n",
       "</table>"
      ],
      "text/plain": [
       "<IPython.core.display.HTML object>"
      ]
     },
     "metadata": {},
     "output_type": "display_data"
    },
    {
     "name": "stdout",
     "output_type": "stream",
     "text": [
      "Better model found at epoch 0 with valid_loss value: 0.2553567588329315.\n",
      "Better model found at epoch 1 with valid_loss value: 0.24648426473140717.\n",
      "Better model found at epoch 2 with valid_loss value: 0.22353221476078033.\n",
      "Better model found at epoch 3 with valid_loss value: 0.195557102560997.\n",
      "Better model found at epoch 4 with valid_loss value: 0.19073748588562012.\n",
      "Better model found at epoch 5 with valid_loss value: 0.17897777259349823.\n",
      "Better model found at epoch 7 with valid_loss value: 0.1693597137928009.\n",
      "Better model found at epoch 8 with valid_loss value: 0.16437837481498718.\n",
      "Better model found at epoch 9 with valid_loss value: 0.15801620483398438.\n",
      "Better model found at epoch 13 with valid_loss value: 0.15788425505161285.\n",
      "Better model found at epoch 19 with valid_loss value: 0.15673692524433136.\n"
     ]
    },
    {
     "data": {
      "text/html": [
       "<pre style=\"white-space:pre;overflow-x:auto;line-height:normal;font-family:Menlo,'DejaVu Sans Mono',consolas,'Courier New',monospace\"><span style=\"color: #7fbfbf; text-decoration-color: #7fbfbf\">[19:41:21] </span><span style=\"color: #000080; text-decoration-color: #000080\">INFO    </span> Predictions saved to                                                                           \n",
       "<span style=\"color: #7fbfbf; text-decoration-color: #7fbfbf\">           </span>         <span style=\"color: #008000; text-decoration-color: #008000\">/mnt/d/Declich/GitHub/UMD/projects/trained_models/ABMIL-I3LUNG-AD-noqc-nostainnorm/00015-uni/pr</span>\n",
       "<span style=\"color: #7fbfbf; text-decoration-color: #7fbfbf\">           </span>         <span style=\"color: #008000; text-decoration-color: #008000\">edictions.parquet</span>                                                                              \n",
       "</pre>\n"
      ],
      "text/plain": [
       "\u001b[2;36m[19:41:21]\u001b[0m\u001b[2;36m \u001b[0m\u001b[34mINFO    \u001b[0m Predictions saved to                                                                           \n",
       "\u001b[2;36m           \u001b[0m         \u001b[32m/mnt/d/Declich/GitHub/UMD/projects/trained_models/ABMIL-I3LUNG-AD-noqc-nostainnorm/00015-uni/pr\u001b[0m\n",
       "\u001b[2;36m           \u001b[0m         \u001b[32medictions.parquet\u001b[0m                                                                              \n"
      ]
     },
     "metadata": {},
     "output_type": "display_data"
    },
    {
     "data": {
      "text/html": [
       "<pre style=\"white-space:pre;overflow-x:auto;line-height:normal;font-family:Menlo,'DejaVu Sans Mono',consolas,'Courier New',monospace\"><span style=\"color: #7fbfbf; text-decoration-color: #7fbfbf\">           </span><span style=\"color: #000080; text-decoration-color: #000080\">INFO    </span> Validation metrics for outcome <span style=\"color: #008000; text-decoration-color: #008000\">HISTOLOGY</span>:                                                      \n",
       "</pre>\n"
      ],
      "text/plain": [
       "\u001b[2;36m          \u001b[0m\u001b[2;36m \u001b[0m\u001b[34mINFO    \u001b[0m Validation metrics for outcome \u001b[32mHISTOLOGY\u001b[0m:                                                      \n"
      ]
     },
     "metadata": {},
     "output_type": "display_data"
    },
    {
     "data": {
      "text/html": [
       "<pre style=\"white-space:pre;overflow-x:auto;line-height:normal;font-family:Menlo,'DejaVu Sans Mono',consolas,'Courier New',monospace\"><span style=\"color: #7fbfbf; text-decoration-color: #7fbfbf\">           </span><span style=\"color: #000080; text-decoration-color: #000080\">INFO    </span> slide-level AUC (cat # 0): 0.888 AP: 0.935 (opt. threshold: 0.294)                             \n",
       "</pre>\n"
      ],
      "text/plain": [
       "\u001b[2;36m          \u001b[0m\u001b[2;36m \u001b[0m\u001b[34mINFO    \u001b[0m slide-level AUC (cat # 0): 0.888 AP: 0.935 (opt. threshold: 0.294)                             \n"
      ]
     },
     "metadata": {},
     "output_type": "display_data"
    },
    {
     "data": {
      "text/html": [
       "<pre style=\"white-space:pre;overflow-x:auto;line-height:normal;font-family:Menlo,'DejaVu Sans Mono',consolas,'Courier New',monospace\"><span style=\"color: #7fbfbf; text-decoration-color: #7fbfbf\">[19:41:22] </span><span style=\"color: #000080; text-decoration-color: #000080\">INFO    </span> slide-level AUC (cat # 1): 0.888 AP: 0.785 (opt. threshold: 0.787)                             \n",
       "</pre>\n"
      ],
      "text/plain": [
       "\u001b[2;36m[19:41:22]\u001b[0m\u001b[2;36m \u001b[0m\u001b[34mINFO    \u001b[0m slide-level AUC (cat # 1): 0.888 AP: 0.785 (opt. threshold: 0.787)                             \n"
      ]
     },
     "metadata": {},
     "output_type": "display_data"
    },
    {
     "data": {
      "text/html": [
       "<pre style=\"white-space:pre;overflow-x:auto;line-height:normal;font-family:Menlo,'DejaVu Sans Mono',consolas,'Courier New',monospace\"><span style=\"color: #7fbfbf; text-decoration-color: #7fbfbf\">           </span><span style=\"color: #000080; text-decoration-color: #000080\">INFO    </span> Category 0 acc: 80.4% (74/92)                                                                  \n",
       "</pre>\n"
      ],
      "text/plain": [
       "\u001b[2;36m          \u001b[0m\u001b[2;36m \u001b[0m\u001b[34mINFO    \u001b[0m Category 0 acc: 80.4% (74/92)                                                                  \n"
      ]
     },
     "metadata": {},
     "output_type": "display_data"
    },
    {
     "data": {
      "text/html": [
       "<pre style=\"white-space:pre;overflow-x:auto;line-height:normal;font-family:Menlo,'DejaVu Sans Mono',consolas,'Courier New',monospace\"><span style=\"color: #7fbfbf; text-decoration-color: #7fbfbf\">           </span><span style=\"color: #000080; text-decoration-color: #000080\">INFO    </span> Category 1 acc: 86.7% (26/30)                                                                  \n",
       "</pre>\n"
      ],
      "text/plain": [
       "\u001b[2;36m          \u001b[0m\u001b[2;36m \u001b[0m\u001b[34mINFO    \u001b[0m Category 1 acc: 86.7% (26/30)                                                                  \n"
      ]
     },
     "metadata": {},
     "output_type": "display_data"
    },
    {
     "data": {
      "text/html": [
       "<pre style=\"white-space:pre;overflow-x:auto;line-height:normal;font-family:Menlo,'DejaVu Sans Mono',consolas,'Courier New',monospace\"><span style=\"color: #7fbfbf; text-decoration-color: #7fbfbf\">[19:41:23] </span><span style=\"color: #000080; text-decoration-color: #000080\">INFO    </span> Attention scores exported to                                                                   \n",
       "<span style=\"color: #7fbfbf; text-decoration-color: #7fbfbf\">           </span>         <span style=\"color: #008000; text-decoration-color: #008000\">/mnt/d/Declich/GitHub/UMD/projects/trained_models/ABMIL-I3LUNG-AD-noqc-nostainnorm/00015-uni/at</span>\n",
       "<span style=\"color: #7fbfbf; text-decoration-color: #7fbfbf\">           </span>         <span style=\"color: #008000; text-decoration-color: #008000\">tention/DIG_PAT_1725901870_att.npz</span>                                                             \n",
       "</pre>\n"
      ],
      "text/plain": [
       "\u001b[2;36m[19:41:23]\u001b[0m\u001b[2;36m \u001b[0m\u001b[34mINFO    \u001b[0m Attention scores exported to                                                                   \n",
       "\u001b[2;36m           \u001b[0m         \u001b[32m/mnt/d/Declich/GitHub/UMD/projects/trained_models/ABMIL-I3LUNG-AD-noqc-nostainnorm/00015-uni/at\u001b[0m\n",
       "\u001b[2;36m           \u001b[0m         \u001b[32mtention/DIG_PAT_1725901870_att.npz\u001b[0m                                                             \n"
      ]
     },
     "metadata": {},
     "output_type": "display_data"
    },
    {
     "name": "stdout",
     "output_type": "stream",
     "text": [
      "Random seed set to: 68279737\n"
     ]
    },
    {
     "data": {
      "text/html": [
       "<pre style=\"white-space:pre;overflow-x:auto;line-height:normal;font-family:Menlo,'DejaVu Sans Mono',consolas,'Courier New',monospace\"><span style=\"color: #7fbfbf; text-decoration-color: #7fbfbf\">           </span><span style=\"color: #808000; text-decoration-color: #808000\">WARNING </span> <span style=\"color: #808000; text-decoration-color: #808000\">297 slides missing tfrecords, skipping</span>                                                         \n",
       "</pre>\n"
      ],
      "text/plain": [
       "\u001b[2;36m          \u001b[0m\u001b[2;36m \u001b[0m\u001b[33mWARNING \u001b[0m \u001b[33m297 slides missing tfrecords, skipping\u001b[0m                                                         \n"
      ]
     },
     "metadata": {},
     "output_type": "display_data"
    },
    {
     "data": {
      "text/html": [
       "<pre style=\"white-space:pre;overflow-x:auto;line-height:normal;font-family:Menlo,'DejaVu Sans Mono',consolas,'Courier New',monospace\"><span style=\"color: #7fbfbf; text-decoration-color: #7fbfbf\">           </span><span style=\"color: #000080; text-decoration-color: #000080\">INFO    </span> No training/validation splits file provided.                                                   \n",
       "</pre>\n"
      ],
      "text/plain": [
       "\u001b[2;36m          \u001b[0m\u001b[2;36m \u001b[0m\u001b[34mINFO    \u001b[0m No training/validation splits file provided.                                                   \n"
      ]
     },
     "metadata": {},
     "output_type": "display_data"
    },
    {
     "data": {
      "text/html": [
       "<pre style=\"white-space:pre;overflow-x:auto;line-height:normal;font-family:Menlo,'DejaVu Sans Mono',consolas,'Courier New',monospace\"><span style=\"color: #7fbfbf; text-decoration-color: #7fbfbf\">           </span><span style=\"color: #000080; text-decoration-color: #000080\">INFO    </span> Unable to save or load validation splits.                                                      \n",
       "</pre>\n"
      ],
      "text/plain": [
       "\u001b[2;36m          \u001b[0m\u001b[2;36m \u001b[0m\u001b[34mINFO    \u001b[0m Unable to save or load validation splits.                                                      \n"
      ]
     },
     "metadata": {},
     "output_type": "display_data"
    },
    {
     "data": {
      "text/html": [
       "<pre style=\"white-space:pre;overflow-x:auto;line-height:normal;font-family:Menlo,'DejaVu Sans Mono',consolas,'Courier New',monospace\"><span style=\"color: #7fbfbf; text-decoration-color: #7fbfbf\">           </span><span style=\"color: #000080; text-decoration-color: #000080\">INFO    </span> Training FastAI MIL model with config:                                                         \n",
       "</pre>\n"
      ],
      "text/plain": [
       "\u001b[2;36m          \u001b[0m\u001b[2;36m \u001b[0m\u001b[34mINFO    \u001b[0m Training FastAI MIL model with config:                                                         \n"
      ]
     },
     "metadata": {},
     "output_type": "display_data"
    },
    {
     "data": {
      "text/html": [
       "<pre style=\"white-space:pre;overflow-x:auto;line-height:normal;font-family:Menlo,'DejaVu Sans Mono',consolas,'Courier New',monospace\"><span style=\"color: #7fbfbf; text-decoration-color: #7fbfbf\">           </span><span style=\"color: #000080; text-decoration-color: #000080\">INFO    </span> TrainerConfig(                                                                                 \n",
       "<span style=\"color: #7fbfbf; text-decoration-color: #7fbfbf\">           </span>           lr=0.0001                                                                                    \n",
       "<span style=\"color: #7fbfbf; text-decoration-color: #7fbfbf\">           </span>           wd=1e-05                                                                                     \n",
       "<span style=\"color: #7fbfbf; text-decoration-color: #7fbfbf\">           </span>           bag_size=1024                                                                                \n",
       "<span style=\"color: #7fbfbf; text-decoration-color: #7fbfbf\">           </span>           max_val_bag_size=None                                                                        \n",
       "<span style=\"color: #7fbfbf; text-decoration-color: #7fbfbf\">           </span>           fit_one_cycle=True                                                                           \n",
       "<span style=\"color: #7fbfbf; text-decoration-color: #7fbfbf\">           </span>           epochs=20                                                                                    \n",
       "<span style=\"color: #7fbfbf; text-decoration-color: #7fbfbf\">           </span>           batch_size=16                                                                                \n",
       "<span style=\"color: #7fbfbf; text-decoration-color: #7fbfbf\">           </span>           drop_last=True                                                                               \n",
       "<span style=\"color: #7fbfbf; text-decoration-color: #7fbfbf\">           </span>           save_monitor='valid_loss'                                                                    \n",
       "<span style=\"color: #7fbfbf; text-decoration-color: #7fbfbf\">           </span>           weighted_loss=True                                                                           \n",
       "<span style=\"color: #7fbfbf; text-decoration-color: #7fbfbf\">           </span>           model='attention_mil'                                                                        \n",
       "<span style=\"color: #7fbfbf; text-decoration-color: #7fbfbf\">           </span>           model_kwargs=None                                                                            \n",
       "<span style=\"color: #7fbfbf; text-decoration-color: #7fbfbf\">           </span>           loss='cross_entropy'                                                                         \n",
       "<span style=\"color: #7fbfbf; text-decoration-color: #7fbfbf\">           </span>           use_lens=True                                                                                \n",
       "<span style=\"color: #7fbfbf; text-decoration-color: #7fbfbf\">           </span>         )                                                                                              \n",
       "</pre>\n"
      ],
      "text/plain": [
       "\u001b[2;36m          \u001b[0m\u001b[2;36m \u001b[0m\u001b[34mINFO    \u001b[0m TrainerConfig(                                                                                 \n",
       "\u001b[2;36m           \u001b[0m           lr=0.0001                                                                                    \n",
       "\u001b[2;36m           \u001b[0m           wd=1e-05                                                                                     \n",
       "\u001b[2;36m           \u001b[0m           bag_size=1024                                                                                \n",
       "\u001b[2;36m           \u001b[0m           max_val_bag_size=None                                                                        \n",
       "\u001b[2;36m           \u001b[0m           fit_one_cycle=True                                                                           \n",
       "\u001b[2;36m           \u001b[0m           epochs=20                                                                                    \n",
       "\u001b[2;36m           \u001b[0m           batch_size=16                                                                                \n",
       "\u001b[2;36m           \u001b[0m           drop_last=True                                                                               \n",
       "\u001b[2;36m           \u001b[0m           save_monitor='valid_loss'                                                                    \n",
       "\u001b[2;36m           \u001b[0m           weighted_loss=True                                                                           \n",
       "\u001b[2;36m           \u001b[0m           model='attention_mil'                                                                        \n",
       "\u001b[2;36m           \u001b[0m           model_kwargs=None                                                                            \n",
       "\u001b[2;36m           \u001b[0m           loss='cross_entropy'                                                                         \n",
       "\u001b[2;36m           \u001b[0m           use_lens=True                                                                                \n",
       "\u001b[2;36m           \u001b[0m         )                                                                                              \n"
      ]
     },
     "metadata": {},
     "output_type": "display_data"
    },
    {
     "data": {
      "text/html": [
       "<pre style=\"white-space:pre;overflow-x:auto;line-height:normal;font-family:Menlo,'DejaVu Sans Mono',consolas,'Courier New',monospace\"><span style=\"color: #7fbfbf; text-decoration-color: #7fbfbf\">           </span><span style=\"color: #000080; text-decoration-color: #000080\">INFO    </span> Training dataset: 499 merged bags (from 499 possible slides)                                   \n",
       "</pre>\n"
      ],
      "text/plain": [
       "\u001b[2;36m          \u001b[0m\u001b[2;36m \u001b[0m\u001b[34mINFO    \u001b[0m Training dataset: 499 merged bags (from 499 possible slides)                                   \n"
      ]
     },
     "metadata": {},
     "output_type": "display_data"
    },
    {
     "data": {
      "text/html": [
       "<pre style=\"white-space:pre;overflow-x:auto;line-height:normal;font-family:Menlo,'DejaVu Sans Mono',consolas,'Courier New',monospace\"><span style=\"color: #7fbfbf; text-decoration-color: #7fbfbf\">           </span><span style=\"color: #000080; text-decoration-color: #000080\">INFO    </span> Validation dataset: 119 merged bags (from 119 possible slides)                                 \n",
       "</pre>\n"
      ],
      "text/plain": [
       "\u001b[2;36m          \u001b[0m\u001b[2;36m \u001b[0m\u001b[34mINFO    \u001b[0m Validation dataset: 119 merged bags (from 119 possible slides)                                 \n"
      ]
     },
     "metadata": {},
     "output_type": "display_data"
    },
    {
     "data": {
      "text/html": [
       "<pre style=\"white-space:pre;overflow-x:auto;line-height:normal;font-family:Menlo,'DejaVu Sans Mono',consolas,'Courier New',monospace\"><span style=\"color: #7fbfbf; text-decoration-color: #7fbfbf\">[19:41:25] </span><span style=\"color: #000080; text-decoration-color: #000080\">INFO    </span> Building model <span style=\"font-weight: bold\">Attention_MIL</span> (n_in=1024, n_out=2)                                              \n",
       "</pre>\n"
      ],
      "text/plain": [
       "\u001b[2;36m[19:41:25]\u001b[0m\u001b[2;36m \u001b[0m\u001b[34mINFO    \u001b[0m Building model \u001b[1mAttention_MIL\u001b[0m (n_in=1024, n_out=2)                                              \n"
      ]
     },
     "metadata": {},
     "output_type": "display_data"
    },
    {
     "data": {
      "text/html": [
       "\n",
       "<style>\n",
       "    /* Turns off some styling */\n",
       "    progress {\n",
       "        /* gets rid of default border in Firefox and Opera. */\n",
       "        border: none;\n",
       "        /* Needs to be in here for Safari polyfill so background images work as expected. */\n",
       "        background-size: auto;\n",
       "    }\n",
       "    progress:not([value]), progress:not([value])::-webkit-progress-bar {\n",
       "        background: repeating-linear-gradient(45deg, #7e7e7e, #7e7e7e 10px, #5c5c5c 10px, #5c5c5c 20px);\n",
       "    }\n",
       "    .progress-bar-interrupted, .progress-bar-interrupted::-webkit-progress-bar {\n",
       "        background: #F44336;\n",
       "    }\n",
       "</style>\n"
      ],
      "text/plain": [
       "<IPython.core.display.HTML object>"
      ]
     },
     "metadata": {},
     "output_type": "display_data"
    },
    {
     "data": {
      "text/html": [
       "<table border=\"1\" class=\"dataframe\">\n",
       "  <thead>\n",
       "    <tr style=\"text-align: left;\">\n",
       "      <th>epoch</th>\n",
       "      <th>train_loss</th>\n",
       "      <th>valid_loss</th>\n",
       "      <th>roc_auc_score</th>\n",
       "      <th>time</th>\n",
       "    </tr>\n",
       "  </thead>\n",
       "  <tbody>\n",
       "    <tr>\n",
       "      <td>0</td>\n",
       "      <td>0.272432</td>\n",
       "      <td>0.243417</td>\n",
       "      <td>0.617816</td>\n",
       "      <td>00:55</td>\n",
       "    </tr>\n",
       "    <tr>\n",
       "      <td>1</td>\n",
       "      <td>0.252041</td>\n",
       "      <td>0.229141</td>\n",
       "      <td>0.691092</td>\n",
       "      <td>00:52</td>\n",
       "    </tr>\n",
       "    <tr>\n",
       "      <td>2</td>\n",
       "      <td>0.232578</td>\n",
       "      <td>0.200821</td>\n",
       "      <td>0.793463</td>\n",
       "      <td>00:53</td>\n",
       "    </tr>\n",
       "    <tr>\n",
       "      <td>3</td>\n",
       "      <td>0.205131</td>\n",
       "      <td>0.184851</td>\n",
       "      <td>0.825072</td>\n",
       "      <td>00:53</td>\n",
       "    </tr>\n",
       "    <tr>\n",
       "      <td>4</td>\n",
       "      <td>0.183614</td>\n",
       "      <td>0.162310</td>\n",
       "      <td>0.890805</td>\n",
       "      <td>00:56</td>\n",
       "    </tr>\n",
       "    <tr>\n",
       "      <td>5</td>\n",
       "      <td>0.159216</td>\n",
       "      <td>0.157126</td>\n",
       "      <td>0.871408</td>\n",
       "      <td>00:52</td>\n",
       "    </tr>\n",
       "    <tr>\n",
       "      <td>6</td>\n",
       "      <td>0.143130</td>\n",
       "      <td>0.157428</td>\n",
       "      <td>0.876078</td>\n",
       "      <td>00:55</td>\n",
       "    </tr>\n",
       "    <tr>\n",
       "      <td>7</td>\n",
       "      <td>0.129287</td>\n",
       "      <td>0.153996</td>\n",
       "      <td>0.880388</td>\n",
       "      <td>00:52</td>\n",
       "    </tr>\n",
       "    <tr>\n",
       "      <td>8</td>\n",
       "      <td>0.114879</td>\n",
       "      <td>0.154933</td>\n",
       "      <td>0.877874</td>\n",
       "      <td>00:55</td>\n",
       "    </tr>\n",
       "    <tr>\n",
       "      <td>9</td>\n",
       "      <td>0.105070</td>\n",
       "      <td>0.152220</td>\n",
       "      <td>0.885057</td>\n",
       "      <td>00:56</td>\n",
       "    </tr>\n",
       "    <tr>\n",
       "      <td>10</td>\n",
       "      <td>0.097419</td>\n",
       "      <td>0.154161</td>\n",
       "      <td>0.882184</td>\n",
       "      <td>00:54</td>\n",
       "    </tr>\n",
       "    <tr>\n",
       "      <td>11</td>\n",
       "      <td>0.086544</td>\n",
       "      <td>0.153813</td>\n",
       "      <td>0.883261</td>\n",
       "      <td>00:53</td>\n",
       "    </tr>\n",
       "    <tr>\n",
       "      <td>12</td>\n",
       "      <td>0.086373</td>\n",
       "      <td>0.149976</td>\n",
       "      <td>0.890805</td>\n",
       "      <td>00:54</td>\n",
       "    </tr>\n",
       "    <tr>\n",
       "      <td>13</td>\n",
       "      <td>0.081769</td>\n",
       "      <td>0.150085</td>\n",
       "      <td>0.890805</td>\n",
       "      <td>00:52</td>\n",
       "    </tr>\n",
       "    <tr>\n",
       "      <td>14</td>\n",
       "      <td>0.079536</td>\n",
       "      <td>0.152305</td>\n",
       "      <td>0.886853</td>\n",
       "      <td>00:55</td>\n",
       "    </tr>\n",
       "    <tr>\n",
       "      <td>15</td>\n",
       "      <td>0.073229</td>\n",
       "      <td>0.154834</td>\n",
       "      <td>0.884698</td>\n",
       "      <td>00:52</td>\n",
       "    </tr>\n",
       "    <tr>\n",
       "      <td>16</td>\n",
       "      <td>0.072392</td>\n",
       "      <td>0.163175</td>\n",
       "      <td>0.883621</td>\n",
       "      <td>00:54</td>\n",
       "    </tr>\n",
       "    <tr>\n",
       "      <td>17</td>\n",
       "      <td>0.069375</td>\n",
       "      <td>0.155555</td>\n",
       "      <td>0.882543</td>\n",
       "      <td>00:52</td>\n",
       "    </tr>\n",
       "    <tr>\n",
       "      <td>18</td>\n",
       "      <td>0.070401</td>\n",
       "      <td>0.155527</td>\n",
       "      <td>0.880388</td>\n",
       "      <td>00:52</td>\n",
       "    </tr>\n",
       "    <tr>\n",
       "      <td>19</td>\n",
       "      <td>0.069442</td>\n",
       "      <td>0.158469</td>\n",
       "      <td>0.881825</td>\n",
       "      <td>00:54</td>\n",
       "    </tr>\n",
       "  </tbody>\n",
       "</table>"
      ],
      "text/plain": [
       "<IPython.core.display.HTML object>"
      ]
     },
     "metadata": {},
     "output_type": "display_data"
    },
    {
     "name": "stdout",
     "output_type": "stream",
     "text": [
      "Better model found at epoch 0 with valid_loss value: 0.24341696500778198.\n",
      "Better model found at epoch 1 with valid_loss value: 0.22914107143878937.\n",
      "Better model found at epoch 2 with valid_loss value: 0.2008209079504013.\n",
      "Better model found at epoch 3 with valid_loss value: 0.18485064804553986.\n",
      "Better model found at epoch 4 with valid_loss value: 0.1623099446296692.\n",
      "Better model found at epoch 5 with valid_loss value: 0.1571258008480072.\n",
      "Better model found at epoch 7 with valid_loss value: 0.15399593114852905.\n",
      "Better model found at epoch 9 with valid_loss value: 0.15221984684467316.\n",
      "Better model found at epoch 12 with valid_loss value: 0.149976447224617.\n"
     ]
    },
    {
     "data": {
      "text/html": [
       "<pre style=\"white-space:pre;overflow-x:auto;line-height:normal;font-family:Menlo,'DejaVu Sans Mono',consolas,'Courier New',monospace\"><span style=\"color: #7fbfbf; text-decoration-color: #7fbfbf\">[19:59:40] </span><span style=\"color: #000080; text-decoration-color: #000080\">INFO    </span> Predictions saved to                                                                           \n",
       "<span style=\"color: #7fbfbf; text-decoration-color: #7fbfbf\">           </span>         <span style=\"color: #008000; text-decoration-color: #008000\">/mnt/d/Declich/GitHub/UMD/projects/trained_models/ABMIL-I3LUNG-AD-noqc-nostainnorm/00016-uni/pr</span>\n",
       "<span style=\"color: #7fbfbf; text-decoration-color: #7fbfbf\">           </span>         <span style=\"color: #008000; text-decoration-color: #008000\">edictions.parquet</span>                                                                              \n",
       "</pre>\n"
      ],
      "text/plain": [
       "\u001b[2;36m[19:59:40]\u001b[0m\u001b[2;36m \u001b[0m\u001b[34mINFO    \u001b[0m Predictions saved to                                                                           \n",
       "\u001b[2;36m           \u001b[0m         \u001b[32m/mnt/d/Declich/GitHub/UMD/projects/trained_models/ABMIL-I3LUNG-AD-noqc-nostainnorm/00016-uni/pr\u001b[0m\n",
       "\u001b[2;36m           \u001b[0m         \u001b[32medictions.parquet\u001b[0m                                                                              \n"
      ]
     },
     "metadata": {},
     "output_type": "display_data"
    },
    {
     "data": {
      "text/html": [
       "<pre style=\"white-space:pre;overflow-x:auto;line-height:normal;font-family:Menlo,'DejaVu Sans Mono',consolas,'Courier New',monospace\"><span style=\"color: #7fbfbf; text-decoration-color: #7fbfbf\">           </span><span style=\"color: #000080; text-decoration-color: #000080\">INFO    </span> Validation metrics for outcome <span style=\"color: #008000; text-decoration-color: #008000\">HISTOLOGY</span>:                                                      \n",
       "</pre>\n"
      ],
      "text/plain": [
       "\u001b[2;36m          \u001b[0m\u001b[2;36m \u001b[0m\u001b[34mINFO    \u001b[0m Validation metrics for outcome \u001b[32mHISTOLOGY\u001b[0m:                                                      \n"
      ]
     },
     "metadata": {},
     "output_type": "display_data"
    },
    {
     "data": {
      "text/html": [
       "<pre style=\"white-space:pre;overflow-x:auto;line-height:normal;font-family:Menlo,'DejaVu Sans Mono',consolas,'Courier New',monospace\"><span style=\"color: #7fbfbf; text-decoration-color: #7fbfbf\">           </span><span style=\"color: #000080; text-decoration-color: #000080\">INFO    </span> slide-level AUC (cat # 0): 0.891 AP: 0.938 (opt. threshold: 0.679)                             \n",
       "</pre>\n"
      ],
      "text/plain": [
       "\u001b[2;36m          \u001b[0m\u001b[2;36m \u001b[0m\u001b[34mINFO    \u001b[0m slide-level AUC (cat # 0): 0.891 AP: 0.938 (opt. threshold: 0.679)                             \n"
      ]
     },
     "metadata": {},
     "output_type": "display_data"
    },
    {
     "data": {
      "text/html": [
       "<pre style=\"white-space:pre;overflow-x:auto;line-height:normal;font-family:Menlo,'DejaVu Sans Mono',consolas,'Courier New',monospace\"><span style=\"color: #7fbfbf; text-decoration-color: #7fbfbf\">           </span><span style=\"color: #000080; text-decoration-color: #000080\">INFO    </span> slide-level AUC (cat # 1): 0.891 AP: 0.856 (opt. threshold: 0.328)                             \n",
       "</pre>\n"
      ],
      "text/plain": [
       "\u001b[2;36m          \u001b[0m\u001b[2;36m \u001b[0m\u001b[34mINFO    \u001b[0m slide-level AUC (cat # 1): 0.891 AP: 0.856 (opt. threshold: 0.328)                             \n"
      ]
     },
     "metadata": {},
     "output_type": "display_data"
    },
    {
     "data": {
      "text/html": [
       "<pre style=\"white-space:pre;overflow-x:auto;line-height:normal;font-family:Menlo,'DejaVu Sans Mono',consolas,'Courier New',monospace\"><span style=\"color: #7fbfbf; text-decoration-color: #7fbfbf\">           </span><span style=\"color: #000080; text-decoration-color: #000080\">INFO    </span> Category 0 acc: 88.5% (77/87)                                                                  \n",
       "</pre>\n"
      ],
      "text/plain": [
       "\u001b[2;36m          \u001b[0m\u001b[2;36m \u001b[0m\u001b[34mINFO    \u001b[0m Category 0 acc: 88.5% (77/87)                                                                  \n"
      ]
     },
     "metadata": {},
     "output_type": "display_data"
    },
    {
     "data": {
      "text/html": [
       "<pre style=\"white-space:pre;overflow-x:auto;line-height:normal;font-family:Menlo,'DejaVu Sans Mono',consolas,'Courier New',monospace\"><span style=\"color: #7fbfbf; text-decoration-color: #7fbfbf\">           </span><span style=\"color: #000080; text-decoration-color: #000080\">INFO    </span> Category 1 acc: 75.0% (24/32)                                                                  \n",
       "</pre>\n"
      ],
      "text/plain": [
       "\u001b[2;36m          \u001b[0m\u001b[2;36m \u001b[0m\u001b[34mINFO    \u001b[0m Category 1 acc: 75.0% (24/32)                                                                  \n"
      ]
     },
     "metadata": {},
     "output_type": "display_data"
    },
    {
     "data": {
      "text/html": [
       "<pre style=\"white-space:pre;overflow-x:auto;line-height:normal;font-family:Menlo,'DejaVu Sans Mono',consolas,'Courier New',monospace\"><span style=\"color: #7fbfbf; text-decoration-color: #7fbfbf\">[19:59:41] </span><span style=\"color: #000080; text-decoration-color: #000080\">INFO    </span> Attention scores exported to                                                                   \n",
       "<span style=\"color: #7fbfbf; text-decoration-color: #7fbfbf\">           </span>         <span style=\"color: #008000; text-decoration-color: #008000\">/mnt/d/Declich/GitHub/UMD/projects/trained_models/ABMIL-I3LUNG-AD-noqc-nostainnorm/00016-uni/at</span>\n",
       "<span style=\"color: #7fbfbf; text-decoration-color: #7fbfbf\">           </span>         <span style=\"color: #008000; text-decoration-color: #008000\">tention/DIG_PAT_1725901666_att.npz</span>                                                             \n",
       "</pre>\n"
      ],
      "text/plain": [
       "\u001b[2;36m[19:59:41]\u001b[0m\u001b[2;36m \u001b[0m\u001b[34mINFO    \u001b[0m Attention scores exported to                                                                   \n",
       "\u001b[2;36m           \u001b[0m         \u001b[32m/mnt/d/Declich/GitHub/UMD/projects/trained_models/ABMIL-I3LUNG-AD-noqc-nostainnorm/00016-uni/at\u001b[0m\n",
       "\u001b[2;36m           \u001b[0m         \u001b[32mtention/DIG_PAT_1725901666_att.npz\u001b[0m                                                             \n"
      ]
     },
     "metadata": {},
     "output_type": "display_data"
    },
    {
     "name": "stdout",
     "output_type": "stream",
     "text": [
      "Random seed set to: 20440790\n"
     ]
    },
    {
     "data": {
      "text/html": [
       "<pre style=\"white-space:pre;overflow-x:auto;line-height:normal;font-family:Menlo,'DejaVu Sans Mono',consolas,'Courier New',monospace\"><span style=\"color: #7fbfbf; text-decoration-color: #7fbfbf\">           </span><span style=\"color: #808000; text-decoration-color: #808000\">WARNING </span> <span style=\"color: #808000; text-decoration-color: #808000\">297 slides missing tfrecords, skipping</span>                                                         \n",
       "</pre>\n"
      ],
      "text/plain": [
       "\u001b[2;36m          \u001b[0m\u001b[2;36m \u001b[0m\u001b[33mWARNING \u001b[0m \u001b[33m297 slides missing tfrecords, skipping\u001b[0m                                                         \n"
      ]
     },
     "metadata": {},
     "output_type": "display_data"
    },
    {
     "data": {
      "text/html": [
       "<pre style=\"white-space:pre;overflow-x:auto;line-height:normal;font-family:Menlo,'DejaVu Sans Mono',consolas,'Courier New',monospace\"><span style=\"color: #7fbfbf; text-decoration-color: #7fbfbf\">           </span><span style=\"color: #000080; text-decoration-color: #000080\">INFO    </span> No training/validation splits file provided.                                                   \n",
       "</pre>\n"
      ],
      "text/plain": [
       "\u001b[2;36m          \u001b[0m\u001b[2;36m \u001b[0m\u001b[34mINFO    \u001b[0m No training/validation splits file provided.                                                   \n"
      ]
     },
     "metadata": {},
     "output_type": "display_data"
    },
    {
     "data": {
      "text/html": [
       "<pre style=\"white-space:pre;overflow-x:auto;line-height:normal;font-family:Menlo,'DejaVu Sans Mono',consolas,'Courier New',monospace\"><span style=\"color: #7fbfbf; text-decoration-color: #7fbfbf\">           </span><span style=\"color: #000080; text-decoration-color: #000080\">INFO    </span> Unable to save or load validation splits.                                                      \n",
       "</pre>\n"
      ],
      "text/plain": [
       "\u001b[2;36m          \u001b[0m\u001b[2;36m \u001b[0m\u001b[34mINFO    \u001b[0m Unable to save or load validation splits.                                                      \n"
      ]
     },
     "metadata": {},
     "output_type": "display_data"
    },
    {
     "data": {
      "text/html": [
       "<pre style=\"white-space:pre;overflow-x:auto;line-height:normal;font-family:Menlo,'DejaVu Sans Mono',consolas,'Courier New',monospace\"><span style=\"color: #7fbfbf; text-decoration-color: #7fbfbf\">[19:59:42] </span><span style=\"color: #000080; text-decoration-color: #000080\">INFO    </span> Training FastAI MIL model with config:                                                         \n",
       "</pre>\n"
      ],
      "text/plain": [
       "\u001b[2;36m[19:59:42]\u001b[0m\u001b[2;36m \u001b[0m\u001b[34mINFO    \u001b[0m Training FastAI MIL model with config:                                                         \n"
      ]
     },
     "metadata": {},
     "output_type": "display_data"
    },
    {
     "data": {
      "text/html": [
       "<pre style=\"white-space:pre;overflow-x:auto;line-height:normal;font-family:Menlo,'DejaVu Sans Mono',consolas,'Courier New',monospace\"><span style=\"color: #7fbfbf; text-decoration-color: #7fbfbf\">           </span><span style=\"color: #000080; text-decoration-color: #000080\">INFO    </span> TrainerConfig(                                                                                 \n",
       "<span style=\"color: #7fbfbf; text-decoration-color: #7fbfbf\">           </span>           lr=0.0001                                                                                    \n",
       "<span style=\"color: #7fbfbf; text-decoration-color: #7fbfbf\">           </span>           wd=1e-05                                                                                     \n",
       "<span style=\"color: #7fbfbf; text-decoration-color: #7fbfbf\">           </span>           bag_size=1024                                                                                \n",
       "<span style=\"color: #7fbfbf; text-decoration-color: #7fbfbf\">           </span>           max_val_bag_size=None                                                                        \n",
       "<span style=\"color: #7fbfbf; text-decoration-color: #7fbfbf\">           </span>           fit_one_cycle=True                                                                           \n",
       "<span style=\"color: #7fbfbf; text-decoration-color: #7fbfbf\">           </span>           epochs=20                                                                                    \n",
       "<span style=\"color: #7fbfbf; text-decoration-color: #7fbfbf\">           </span>           batch_size=16                                                                                \n",
       "<span style=\"color: #7fbfbf; text-decoration-color: #7fbfbf\">           </span>           drop_last=True                                                                               \n",
       "<span style=\"color: #7fbfbf; text-decoration-color: #7fbfbf\">           </span>           save_monitor='valid_loss'                                                                    \n",
       "<span style=\"color: #7fbfbf; text-decoration-color: #7fbfbf\">           </span>           weighted_loss=True                                                                           \n",
       "<span style=\"color: #7fbfbf; text-decoration-color: #7fbfbf\">           </span>           model='attention_mil'                                                                        \n",
       "<span style=\"color: #7fbfbf; text-decoration-color: #7fbfbf\">           </span>           model_kwargs=None                                                                            \n",
       "<span style=\"color: #7fbfbf; text-decoration-color: #7fbfbf\">           </span>           loss='cross_entropy'                                                                         \n",
       "<span style=\"color: #7fbfbf; text-decoration-color: #7fbfbf\">           </span>           use_lens=True                                                                                \n",
       "<span style=\"color: #7fbfbf; text-decoration-color: #7fbfbf\">           </span>         )                                                                                              \n",
       "</pre>\n"
      ],
      "text/plain": [
       "\u001b[2;36m          \u001b[0m\u001b[2;36m \u001b[0m\u001b[34mINFO    \u001b[0m TrainerConfig(                                                                                 \n",
       "\u001b[2;36m           \u001b[0m           lr=0.0001                                                                                    \n",
       "\u001b[2;36m           \u001b[0m           wd=1e-05                                                                                     \n",
       "\u001b[2;36m           \u001b[0m           bag_size=1024                                                                                \n",
       "\u001b[2;36m           \u001b[0m           max_val_bag_size=None                                                                        \n",
       "\u001b[2;36m           \u001b[0m           fit_one_cycle=True                                                                           \n",
       "\u001b[2;36m           \u001b[0m           epochs=20                                                                                    \n",
       "\u001b[2;36m           \u001b[0m           batch_size=16                                                                                \n",
       "\u001b[2;36m           \u001b[0m           drop_last=True                                                                               \n",
       "\u001b[2;36m           \u001b[0m           save_monitor='valid_loss'                                                                    \n",
       "\u001b[2;36m           \u001b[0m           weighted_loss=True                                                                           \n",
       "\u001b[2;36m           \u001b[0m           model='attention_mil'                                                                        \n",
       "\u001b[2;36m           \u001b[0m           model_kwargs=None                                                                            \n",
       "\u001b[2;36m           \u001b[0m           loss='cross_entropy'                                                                         \n",
       "\u001b[2;36m           \u001b[0m           use_lens=True                                                                                \n",
       "\u001b[2;36m           \u001b[0m         )                                                                                              \n"
      ]
     },
     "metadata": {},
     "output_type": "display_data"
    },
    {
     "data": {
      "text/html": [
       "<pre style=\"white-space:pre;overflow-x:auto;line-height:normal;font-family:Menlo,'DejaVu Sans Mono',consolas,'Courier New',monospace\"><span style=\"color: #7fbfbf; text-decoration-color: #7fbfbf\">           </span><span style=\"color: #000080; text-decoration-color: #000080\">INFO    </span> Training dataset: 495 merged bags (from 495 possible slides)                                   \n",
       "</pre>\n"
      ],
      "text/plain": [
       "\u001b[2;36m          \u001b[0m\u001b[2;36m \u001b[0m\u001b[34mINFO    \u001b[0m Training dataset: 495 merged bags (from 495 possible slides)                                   \n"
      ]
     },
     "metadata": {},
     "output_type": "display_data"
    },
    {
     "data": {
      "text/html": [
       "<pre style=\"white-space:pre;overflow-x:auto;line-height:normal;font-family:Menlo,'DejaVu Sans Mono',consolas,'Courier New',monospace\"><span style=\"color: #7fbfbf; text-decoration-color: #7fbfbf\">           </span><span style=\"color: #000080; text-decoration-color: #000080\">INFO    </span> Validation dataset: 123 merged bags (from 123 possible slides)                                 \n",
       "</pre>\n"
      ],
      "text/plain": [
       "\u001b[2;36m          \u001b[0m\u001b[2;36m \u001b[0m\u001b[34mINFO    \u001b[0m Validation dataset: 123 merged bags (from 123 possible slides)                                 \n"
      ]
     },
     "metadata": {},
     "output_type": "display_data"
    },
    {
     "data": {
      "text/html": [
       "<pre style=\"white-space:pre;overflow-x:auto;line-height:normal;font-family:Menlo,'DejaVu Sans Mono',consolas,'Courier New',monospace\"><span style=\"color: #7fbfbf; text-decoration-color: #7fbfbf\">[19:59:43] </span><span style=\"color: #000080; text-decoration-color: #000080\">INFO    </span> Building model <span style=\"font-weight: bold\">Attention_MIL</span> (n_in=1024, n_out=2)                                              \n",
       "</pre>\n"
      ],
      "text/plain": [
       "\u001b[2;36m[19:59:43]\u001b[0m\u001b[2;36m \u001b[0m\u001b[34mINFO    \u001b[0m Building model \u001b[1mAttention_MIL\u001b[0m (n_in=1024, n_out=2)                                              \n"
      ]
     },
     "metadata": {},
     "output_type": "display_data"
    },
    {
     "data": {
      "text/html": [
       "\n",
       "<style>\n",
       "    /* Turns off some styling */\n",
       "    progress {\n",
       "        /* gets rid of default border in Firefox and Opera. */\n",
       "        border: none;\n",
       "        /* Needs to be in here for Safari polyfill so background images work as expected. */\n",
       "        background-size: auto;\n",
       "    }\n",
       "    progress:not([value]), progress:not([value])::-webkit-progress-bar {\n",
       "        background: repeating-linear-gradient(45deg, #7e7e7e, #7e7e7e 10px, #5c5c5c 10px, #5c5c5c 20px);\n",
       "    }\n",
       "    .progress-bar-interrupted, .progress-bar-interrupted::-webkit-progress-bar {\n",
       "        background: #F44336;\n",
       "    }\n",
       "</style>\n"
      ],
      "text/plain": [
       "<IPython.core.display.HTML object>"
      ]
     },
     "metadata": {},
     "output_type": "display_data"
    },
    {
     "data": {
      "text/html": [
       "<table border=\"1\" class=\"dataframe\">\n",
       "  <thead>\n",
       "    <tr style=\"text-align: left;\">\n",
       "      <th>epoch</th>\n",
       "      <th>train_loss</th>\n",
       "      <th>valid_loss</th>\n",
       "      <th>roc_auc_score</th>\n",
       "      <th>time</th>\n",
       "    </tr>\n",
       "  </thead>\n",
       "  <tbody>\n",
       "    <tr>\n",
       "      <td>0</td>\n",
       "      <td>0.262449</td>\n",
       "      <td>0.224026</td>\n",
       "      <td>0.625714</td>\n",
       "      <td>00:52</td>\n",
       "    </tr>\n",
       "    <tr>\n",
       "      <td>1</td>\n",
       "      <td>0.251780</td>\n",
       "      <td>0.209440</td>\n",
       "      <td>0.722041</td>\n",
       "      <td>00:53</td>\n",
       "    </tr>\n",
       "    <tr>\n",
       "      <td>2</td>\n",
       "      <td>0.233498</td>\n",
       "      <td>0.187575</td>\n",
       "      <td>0.802449</td>\n",
       "      <td>00:53</td>\n",
       "    </tr>\n",
       "    <tr>\n",
       "      <td>3</td>\n",
       "      <td>0.214991</td>\n",
       "      <td>0.191229</td>\n",
       "      <td>0.837959</td>\n",
       "      <td>00:54</td>\n",
       "    </tr>\n",
       "    <tr>\n",
       "      <td>4</td>\n",
       "      <td>0.194473</td>\n",
       "      <td>0.165759</td>\n",
       "      <td>0.885714</td>\n",
       "      <td>00:50</td>\n",
       "    </tr>\n",
       "    <tr>\n",
       "      <td>5</td>\n",
       "      <td>0.175831</td>\n",
       "      <td>0.151129</td>\n",
       "      <td>0.884082</td>\n",
       "      <td>00:51</td>\n",
       "    </tr>\n",
       "    <tr>\n",
       "      <td>6</td>\n",
       "      <td>0.156282</td>\n",
       "      <td>0.146816</td>\n",
       "      <td>0.900408</td>\n",
       "      <td>00:51</td>\n",
       "    </tr>\n",
       "    <tr>\n",
       "      <td>7</td>\n",
       "      <td>0.141555</td>\n",
       "      <td>0.135795</td>\n",
       "      <td>0.905306</td>\n",
       "      <td>00:53</td>\n",
       "    </tr>\n",
       "    <tr>\n",
       "      <td>8</td>\n",
       "      <td>0.127272</td>\n",
       "      <td>0.130053</td>\n",
       "      <td>0.921224</td>\n",
       "      <td>00:54</td>\n",
       "    </tr>\n",
       "    <tr>\n",
       "      <td>9</td>\n",
       "      <td>0.119846</td>\n",
       "      <td>0.148122</td>\n",
       "      <td>0.940000</td>\n",
       "      <td>00:51</td>\n",
       "    </tr>\n",
       "    <tr>\n",
       "      <td>10</td>\n",
       "      <td>0.109334</td>\n",
       "      <td>0.122917</td>\n",
       "      <td>0.934694</td>\n",
       "      <td>00:53</td>\n",
       "    </tr>\n",
       "    <tr>\n",
       "      <td>11</td>\n",
       "      <td>0.101501</td>\n",
       "      <td>0.124084</td>\n",
       "      <td>0.937551</td>\n",
       "      <td>00:53</td>\n",
       "    </tr>\n",
       "    <tr>\n",
       "      <td>12</td>\n",
       "      <td>0.096834</td>\n",
       "      <td>0.129124</td>\n",
       "      <td>0.935102</td>\n",
       "      <td>00:52</td>\n",
       "    </tr>\n",
       "    <tr>\n",
       "      <td>13</td>\n",
       "      <td>0.091919</td>\n",
       "      <td>0.126939</td>\n",
       "      <td>0.943265</td>\n",
       "      <td>00:52</td>\n",
       "    </tr>\n",
       "    <tr>\n",
       "      <td>14</td>\n",
       "      <td>0.083880</td>\n",
       "      <td>0.122668</td>\n",
       "      <td>0.943673</td>\n",
       "      <td>00:50</td>\n",
       "    </tr>\n",
       "    <tr>\n",
       "      <td>15</td>\n",
       "      <td>0.080631</td>\n",
       "      <td>0.115914</td>\n",
       "      <td>0.943265</td>\n",
       "      <td>00:52</td>\n",
       "    </tr>\n",
       "    <tr>\n",
       "      <td>16</td>\n",
       "      <td>0.076482</td>\n",
       "      <td>0.120928</td>\n",
       "      <td>0.944490</td>\n",
       "      <td>00:53</td>\n",
       "    </tr>\n",
       "    <tr>\n",
       "      <td>17</td>\n",
       "      <td>0.075014</td>\n",
       "      <td>0.117779</td>\n",
       "      <td>0.945306</td>\n",
       "      <td>00:53</td>\n",
       "    </tr>\n",
       "    <tr>\n",
       "      <td>18</td>\n",
       "      <td>0.072937</td>\n",
       "      <td>0.115758</td>\n",
       "      <td>0.946531</td>\n",
       "      <td>00:52</td>\n",
       "    </tr>\n",
       "    <tr>\n",
       "      <td>19</td>\n",
       "      <td>0.073835</td>\n",
       "      <td>0.123831</td>\n",
       "      <td>0.944490</td>\n",
       "      <td>00:52</td>\n",
       "    </tr>\n",
       "  </tbody>\n",
       "</table>"
      ],
      "text/plain": [
       "<IPython.core.display.HTML object>"
      ]
     },
     "metadata": {},
     "output_type": "display_data"
    },
    {
     "name": "stdout",
     "output_type": "stream",
     "text": [
      "Better model found at epoch 0 with valid_loss value: 0.22402583062648773.\n",
      "Better model found at epoch 1 with valid_loss value: 0.20943982899188995.\n",
      "Better model found at epoch 2 with valid_loss value: 0.1875750571489334.\n",
      "Better model found at epoch 4 with valid_loss value: 0.16575905680656433.\n",
      "Better model found at epoch 5 with valid_loss value: 0.15112890303134918.\n",
      "Better model found at epoch 6 with valid_loss value: 0.14681601524353027.\n",
      "Better model found at epoch 7 with valid_loss value: 0.13579536974430084.\n",
      "Better model found at epoch 8 with valid_loss value: 0.13005331158638.\n",
      "Better model found at epoch 10 with valid_loss value: 0.1229170709848404.\n",
      "Better model found at epoch 14 with valid_loss value: 0.12266828864812851.\n",
      "Better model found at epoch 15 with valid_loss value: 0.11591372638940811.\n",
      "Better model found at epoch 18 with valid_loss value: 0.1157577857375145.\n"
     ]
    },
    {
     "data": {
      "text/html": [
       "<pre style=\"white-space:pre;overflow-x:auto;line-height:normal;font-family:Menlo,'DejaVu Sans Mono',consolas,'Courier New',monospace\"><span style=\"color: #7fbfbf; text-decoration-color: #7fbfbf\">[20:17:36] </span><span style=\"color: #000080; text-decoration-color: #000080\">INFO    </span> Predictions saved to                                                                           \n",
       "<span style=\"color: #7fbfbf; text-decoration-color: #7fbfbf\">           </span>         <span style=\"color: #008000; text-decoration-color: #008000\">/mnt/d/Declich/GitHub/UMD/projects/trained_models/ABMIL-I3LUNG-AD-noqc-nostainnorm/00017-uni/pr</span>\n",
       "<span style=\"color: #7fbfbf; text-decoration-color: #7fbfbf\">           </span>         <span style=\"color: #008000; text-decoration-color: #008000\">edictions.parquet</span>                                                                              \n",
       "</pre>\n"
      ],
      "text/plain": [
       "\u001b[2;36m[20:17:36]\u001b[0m\u001b[2;36m \u001b[0m\u001b[34mINFO    \u001b[0m Predictions saved to                                                                           \n",
       "\u001b[2;36m           \u001b[0m         \u001b[32m/mnt/d/Declich/GitHub/UMD/projects/trained_models/ABMIL-I3LUNG-AD-noqc-nostainnorm/00017-uni/pr\u001b[0m\n",
       "\u001b[2;36m           \u001b[0m         \u001b[32medictions.parquet\u001b[0m                                                                              \n"
      ]
     },
     "metadata": {},
     "output_type": "display_data"
    },
    {
     "data": {
      "text/html": [
       "<pre style=\"white-space:pre;overflow-x:auto;line-height:normal;font-family:Menlo,'DejaVu Sans Mono',consolas,'Courier New',monospace\"><span style=\"color: #7fbfbf; text-decoration-color: #7fbfbf\">           </span><span style=\"color: #000080; text-decoration-color: #000080\">INFO    </span> Validation metrics for outcome <span style=\"color: #008000; text-decoration-color: #008000\">HISTOLOGY</span>:                                                      \n",
       "</pre>\n"
      ],
      "text/plain": [
       "\u001b[2;36m          \u001b[0m\u001b[2;36m \u001b[0m\u001b[34mINFO    \u001b[0m Validation metrics for outcome \u001b[32mHISTOLOGY\u001b[0m:                                                      \n"
      ]
     },
     "metadata": {},
     "output_type": "display_data"
    },
    {
     "data": {
      "text/html": [
       "<pre style=\"white-space:pre;overflow-x:auto;line-height:normal;font-family:Menlo,'DejaVu Sans Mono',consolas,'Courier New',monospace\"><span style=\"color: #7fbfbf; text-decoration-color: #7fbfbf\">           </span><span style=\"color: #000080; text-decoration-color: #000080\">INFO    </span> slide-level AUC (cat # 0): 0.947 AP: 0.986 (opt. threshold: 0.227)                             \n",
       "</pre>\n"
      ],
      "text/plain": [
       "\u001b[2;36m          \u001b[0m\u001b[2;36m \u001b[0m\u001b[34mINFO    \u001b[0m slide-level AUC (cat # 0): 0.947 AP: 0.986 (opt. threshold: 0.227)                             \n"
      ]
     },
     "metadata": {},
     "output_type": "display_data"
    },
    {
     "data": {
      "text/html": [
       "<pre style=\"white-space:pre;overflow-x:auto;line-height:normal;font-family:Menlo,'DejaVu Sans Mono',consolas,'Courier New',monospace\"><span style=\"color: #7fbfbf; text-decoration-color: #7fbfbf\">           </span><span style=\"color: #000080; text-decoration-color: #000080\">INFO    </span> slide-level AUC (cat # 1): 0.947 AP: 0.862 (opt. threshold: 0.774)                             \n",
       "</pre>\n"
      ],
      "text/plain": [
       "\u001b[2;36m          \u001b[0m\u001b[2;36m \u001b[0m\u001b[34mINFO    \u001b[0m slide-level AUC (cat # 1): 0.947 AP: 0.862 (opt. threshold: 0.774)                             \n"
      ]
     },
     "metadata": {},
     "output_type": "display_data"
    },
    {
     "data": {
      "text/html": [
       "<pre style=\"white-space:pre;overflow-x:auto;line-height:normal;font-family:Menlo,'DejaVu Sans Mono',consolas,'Courier New',monospace\"><span style=\"color: #7fbfbf; text-decoration-color: #7fbfbf\">           </span><span style=\"color: #000080; text-decoration-color: #000080\">INFO    </span> Category 0 acc: 79.6% (78/98)                                                                  \n",
       "</pre>\n"
      ],
      "text/plain": [
       "\u001b[2;36m          \u001b[0m\u001b[2;36m \u001b[0m\u001b[34mINFO    \u001b[0m Category 0 acc: 79.6% (78/98)                                                                  \n"
      ]
     },
     "metadata": {},
     "output_type": "display_data"
    },
    {
     "data": {
      "text/html": [
       "<pre style=\"white-space:pre;overflow-x:auto;line-height:normal;font-family:Menlo,'DejaVu Sans Mono',consolas,'Courier New',monospace\"><span style=\"color: #7fbfbf; text-decoration-color: #7fbfbf\">           </span><span style=\"color: #000080; text-decoration-color: #000080\">INFO    </span> Category 1 acc: 92.0% (23/25)                                                                  \n",
       "</pre>\n"
      ],
      "text/plain": [
       "\u001b[2;36m          \u001b[0m\u001b[2;36m \u001b[0m\u001b[34mINFO    \u001b[0m Category 1 acc: 92.0% (23/25)                                                                  \n"
      ]
     },
     "metadata": {},
     "output_type": "display_data"
    },
    {
     "data": {
      "text/html": [
       "<pre style=\"white-space:pre;overflow-x:auto;line-height:normal;font-family:Menlo,'DejaVu Sans Mono',consolas,'Courier New',monospace\"><span style=\"color: #7fbfbf; text-decoration-color: #7fbfbf\">[20:17:38] </span><span style=\"color: #000080; text-decoration-color: #000080\">INFO    </span> Attention scores exported to                                                                   \n",
       "<span style=\"color: #7fbfbf; text-decoration-color: #7fbfbf\">           </span>         <span style=\"color: #008000; text-decoration-color: #008000\">/mnt/d/Declich/GitHub/UMD/projects/trained_models/ABMIL-I3LUNG-AD-noqc-nostainnorm/00017-uni/at</span>\n",
       "<span style=\"color: #7fbfbf; text-decoration-color: #7fbfbf\">           </span>         <span style=\"color: #008000; text-decoration-color: #008000\">tention/DIG_PAT_1725901666_att.npz</span>                                                             \n",
       "</pre>\n"
      ],
      "text/plain": [
       "\u001b[2;36m[20:17:38]\u001b[0m\u001b[2;36m \u001b[0m\u001b[34mINFO    \u001b[0m Attention scores exported to                                                                   \n",
       "\u001b[2;36m           \u001b[0m         \u001b[32m/mnt/d/Declich/GitHub/UMD/projects/trained_models/ABMIL-I3LUNG-AD-noqc-nostainnorm/00017-uni/at\u001b[0m\n",
       "\u001b[2;36m           \u001b[0m         \u001b[32mtention/DIG_PAT_1725901666_att.npz\u001b[0m                                                             \n"
      ]
     },
     "metadata": {},
     "output_type": "display_data"
    },
    {
     "name": "stdout",
     "output_type": "stream",
     "text": [
      "Random seed set to: 15888874\n"
     ]
    },
    {
     "data": {
      "text/html": [
       "<pre style=\"white-space:pre;overflow-x:auto;line-height:normal;font-family:Menlo,'DejaVu Sans Mono',consolas,'Courier New',monospace\"><span style=\"color: #7fbfbf; text-decoration-color: #7fbfbf\">           </span><span style=\"color: #808000; text-decoration-color: #808000\">WARNING </span> <span style=\"color: #808000; text-decoration-color: #808000\">297 slides missing tfrecords, skipping</span>                                                         \n",
       "</pre>\n"
      ],
      "text/plain": [
       "\u001b[2;36m          \u001b[0m\u001b[2;36m \u001b[0m\u001b[33mWARNING \u001b[0m \u001b[33m297 slides missing tfrecords, skipping\u001b[0m                                                         \n"
      ]
     },
     "metadata": {},
     "output_type": "display_data"
    },
    {
     "data": {
      "text/html": [
       "<pre style=\"white-space:pre;overflow-x:auto;line-height:normal;font-family:Menlo,'DejaVu Sans Mono',consolas,'Courier New',monospace\"><span style=\"color: #7fbfbf; text-decoration-color: #7fbfbf\">           </span><span style=\"color: #000080; text-decoration-color: #000080\">INFO    </span> No training/validation splits file provided.                                                   \n",
       "</pre>\n"
      ],
      "text/plain": [
       "\u001b[2;36m          \u001b[0m\u001b[2;36m \u001b[0m\u001b[34mINFO    \u001b[0m No training/validation splits file provided.                                                   \n"
      ]
     },
     "metadata": {},
     "output_type": "display_data"
    },
    {
     "data": {
      "text/html": [
       "<pre style=\"white-space:pre;overflow-x:auto;line-height:normal;font-family:Menlo,'DejaVu Sans Mono',consolas,'Courier New',monospace\"><span style=\"color: #7fbfbf; text-decoration-color: #7fbfbf\">           </span><span style=\"color: #000080; text-decoration-color: #000080\">INFO    </span> Unable to save or load validation splits.                                                      \n",
       "</pre>\n"
      ],
      "text/plain": [
       "\u001b[2;36m          \u001b[0m\u001b[2;36m \u001b[0m\u001b[34mINFO    \u001b[0m Unable to save or load validation splits.                                                      \n"
      ]
     },
     "metadata": {},
     "output_type": "display_data"
    },
    {
     "data": {
      "text/html": [
       "<pre style=\"white-space:pre;overflow-x:auto;line-height:normal;font-family:Menlo,'DejaVu Sans Mono',consolas,'Courier New',monospace\"><span style=\"color: #7fbfbf; text-decoration-color: #7fbfbf\">           </span><span style=\"color: #000080; text-decoration-color: #000080\">INFO    </span> Training FastAI MIL model with config:                                                         \n",
       "</pre>\n"
      ],
      "text/plain": [
       "\u001b[2;36m          \u001b[0m\u001b[2;36m \u001b[0m\u001b[34mINFO    \u001b[0m Training FastAI MIL model with config:                                                         \n"
      ]
     },
     "metadata": {},
     "output_type": "display_data"
    },
    {
     "data": {
      "text/html": [
       "<pre style=\"white-space:pre;overflow-x:auto;line-height:normal;font-family:Menlo,'DejaVu Sans Mono',consolas,'Courier New',monospace\"><span style=\"color: #7fbfbf; text-decoration-color: #7fbfbf\">           </span><span style=\"color: #000080; text-decoration-color: #000080\">INFO    </span> TrainerConfig(                                                                                 \n",
       "<span style=\"color: #7fbfbf; text-decoration-color: #7fbfbf\">           </span>           lr=0.0001                                                                                    \n",
       "<span style=\"color: #7fbfbf; text-decoration-color: #7fbfbf\">           </span>           wd=1e-05                                                                                     \n",
       "<span style=\"color: #7fbfbf; text-decoration-color: #7fbfbf\">           </span>           bag_size=1024                                                                                \n",
       "<span style=\"color: #7fbfbf; text-decoration-color: #7fbfbf\">           </span>           max_val_bag_size=None                                                                        \n",
       "<span style=\"color: #7fbfbf; text-decoration-color: #7fbfbf\">           </span>           fit_one_cycle=True                                                                           \n",
       "<span style=\"color: #7fbfbf; text-decoration-color: #7fbfbf\">           </span>           epochs=20                                                                                    \n",
       "<span style=\"color: #7fbfbf; text-decoration-color: #7fbfbf\">           </span>           batch_size=16                                                                                \n",
       "<span style=\"color: #7fbfbf; text-decoration-color: #7fbfbf\">           </span>           drop_last=True                                                                               \n",
       "<span style=\"color: #7fbfbf; text-decoration-color: #7fbfbf\">           </span>           save_monitor='valid_loss'                                                                    \n",
       "<span style=\"color: #7fbfbf; text-decoration-color: #7fbfbf\">           </span>           weighted_loss=True                                                                           \n",
       "<span style=\"color: #7fbfbf; text-decoration-color: #7fbfbf\">           </span>           model='attention_mil'                                                                        \n",
       "<span style=\"color: #7fbfbf; text-decoration-color: #7fbfbf\">           </span>           model_kwargs=None                                                                            \n",
       "<span style=\"color: #7fbfbf; text-decoration-color: #7fbfbf\">           </span>           loss='cross_entropy'                                                                         \n",
       "<span style=\"color: #7fbfbf; text-decoration-color: #7fbfbf\">           </span>           use_lens=True                                                                                \n",
       "<span style=\"color: #7fbfbf; text-decoration-color: #7fbfbf\">           </span>         )                                                                                              \n",
       "</pre>\n"
      ],
      "text/plain": [
       "\u001b[2;36m          \u001b[0m\u001b[2;36m \u001b[0m\u001b[34mINFO    \u001b[0m TrainerConfig(                                                                                 \n",
       "\u001b[2;36m           \u001b[0m           lr=0.0001                                                                                    \n",
       "\u001b[2;36m           \u001b[0m           wd=1e-05                                                                                     \n",
       "\u001b[2;36m           \u001b[0m           bag_size=1024                                                                                \n",
       "\u001b[2;36m           \u001b[0m           max_val_bag_size=None                                                                        \n",
       "\u001b[2;36m           \u001b[0m           fit_one_cycle=True                                                                           \n",
       "\u001b[2;36m           \u001b[0m           epochs=20                                                                                    \n",
       "\u001b[2;36m           \u001b[0m           batch_size=16                                                                                \n",
       "\u001b[2;36m           \u001b[0m           drop_last=True                                                                               \n",
       "\u001b[2;36m           \u001b[0m           save_monitor='valid_loss'                                                                    \n",
       "\u001b[2;36m           \u001b[0m           weighted_loss=True                                                                           \n",
       "\u001b[2;36m           \u001b[0m           model='attention_mil'                                                                        \n",
       "\u001b[2;36m           \u001b[0m           model_kwargs=None                                                                            \n",
       "\u001b[2;36m           \u001b[0m           loss='cross_entropy'                                                                         \n",
       "\u001b[2;36m           \u001b[0m           use_lens=True                                                                                \n",
       "\u001b[2;36m           \u001b[0m         )                                                                                              \n"
      ]
     },
     "metadata": {},
     "output_type": "display_data"
    },
    {
     "data": {
      "text/html": [
       "<pre style=\"white-space:pre;overflow-x:auto;line-height:normal;font-family:Menlo,'DejaVu Sans Mono',consolas,'Courier New',monospace\"><span style=\"color: #7fbfbf; text-decoration-color: #7fbfbf\">           </span><span style=\"color: #000080; text-decoration-color: #000080\">INFO    </span> Training dataset: 494 merged bags (from 494 possible slides)                                   \n",
       "</pre>\n"
      ],
      "text/plain": [
       "\u001b[2;36m          \u001b[0m\u001b[2;36m \u001b[0m\u001b[34mINFO    \u001b[0m Training dataset: 494 merged bags (from 494 possible slides)                                   \n"
      ]
     },
     "metadata": {},
     "output_type": "display_data"
    },
    {
     "data": {
      "text/html": [
       "<pre style=\"white-space:pre;overflow-x:auto;line-height:normal;font-family:Menlo,'DejaVu Sans Mono',consolas,'Courier New',monospace\"><span style=\"color: #7fbfbf; text-decoration-color: #7fbfbf\">           </span><span style=\"color: #000080; text-decoration-color: #000080\">INFO    </span> Validation dataset: 124 merged bags (from 124 possible slides)                                 \n",
       "</pre>\n"
      ],
      "text/plain": [
       "\u001b[2;36m          \u001b[0m\u001b[2;36m \u001b[0m\u001b[34mINFO    \u001b[0m Validation dataset: 124 merged bags (from 124 possible slides)                                 \n"
      ]
     },
     "metadata": {},
     "output_type": "display_data"
    },
    {
     "data": {
      "text/html": [
       "<pre style=\"white-space:pre;overflow-x:auto;line-height:normal;font-family:Menlo,'DejaVu Sans Mono',consolas,'Courier New',monospace\"><span style=\"color: #7fbfbf; text-decoration-color: #7fbfbf\">[20:17:40] </span><span style=\"color: #000080; text-decoration-color: #000080\">INFO    </span> Building model <span style=\"font-weight: bold\">Attention_MIL</span> (n_in=1024, n_out=2)                                              \n",
       "</pre>\n"
      ],
      "text/plain": [
       "\u001b[2;36m[20:17:40]\u001b[0m\u001b[2;36m \u001b[0m\u001b[34mINFO    \u001b[0m Building model \u001b[1mAttention_MIL\u001b[0m (n_in=1024, n_out=2)                                              \n"
      ]
     },
     "metadata": {},
     "output_type": "display_data"
    },
    {
     "data": {
      "text/html": [
       "\n",
       "<style>\n",
       "    /* Turns off some styling */\n",
       "    progress {\n",
       "        /* gets rid of default border in Firefox and Opera. */\n",
       "        border: none;\n",
       "        /* Needs to be in here for Safari polyfill so background images work as expected. */\n",
       "        background-size: auto;\n",
       "    }\n",
       "    progress:not([value]), progress:not([value])::-webkit-progress-bar {\n",
       "        background: repeating-linear-gradient(45deg, #7e7e7e, #7e7e7e 10px, #5c5c5c 10px, #5c5c5c 20px);\n",
       "    }\n",
       "    .progress-bar-interrupted, .progress-bar-interrupted::-webkit-progress-bar {\n",
       "        background: #F44336;\n",
       "    }\n",
       "</style>\n"
      ],
      "text/plain": [
       "<IPython.core.display.HTML object>"
      ]
     },
     "metadata": {},
     "output_type": "display_data"
    },
    {
     "data": {
      "text/html": [
       "<table border=\"1\" class=\"dataframe\">\n",
       "  <thead>\n",
       "    <tr style=\"text-align: left;\">\n",
       "      <th>epoch</th>\n",
       "      <th>train_loss</th>\n",
       "      <th>valid_loss</th>\n",
       "      <th>roc_auc_score</th>\n",
       "      <th>time</th>\n",
       "    </tr>\n",
       "  </thead>\n",
       "  <tbody>\n",
       "    <tr>\n",
       "      <td>0</td>\n",
       "      <td>0.281170</td>\n",
       "      <td>0.249422</td>\n",
       "      <td>0.502604</td>\n",
       "      <td>00:53</td>\n",
       "    </tr>\n",
       "    <tr>\n",
       "      <td>1</td>\n",
       "      <td>0.266876</td>\n",
       "      <td>0.234462</td>\n",
       "      <td>0.629092</td>\n",
       "      <td>00:55</td>\n",
       "    </tr>\n",
       "    <tr>\n",
       "      <td>2</td>\n",
       "      <td>0.249090</td>\n",
       "      <td>0.221442</td>\n",
       "      <td>0.678571</td>\n",
       "      <td>00:55</td>\n",
       "    </tr>\n",
       "    <tr>\n",
       "      <td>3</td>\n",
       "      <td>0.216702</td>\n",
       "      <td>0.196332</td>\n",
       "      <td>0.811756</td>\n",
       "      <td>00:54</td>\n",
       "    </tr>\n",
       "    <tr>\n",
       "      <td>4</td>\n",
       "      <td>0.196827</td>\n",
       "      <td>0.178630</td>\n",
       "      <td>0.851562</td>\n",
       "      <td>00:55</td>\n",
       "    </tr>\n",
       "    <tr>\n",
       "      <td>5</td>\n",
       "      <td>0.172643</td>\n",
       "      <td>0.169339</td>\n",
       "      <td>0.870908</td>\n",
       "      <td>00:55</td>\n",
       "    </tr>\n",
       "    <tr>\n",
       "      <td>6</td>\n",
       "      <td>0.155400</td>\n",
       "      <td>0.164785</td>\n",
       "      <td>0.875744</td>\n",
       "      <td>00:55</td>\n",
       "    </tr>\n",
       "    <tr>\n",
       "      <td>7</td>\n",
       "      <td>0.139394</td>\n",
       "      <td>0.149502</td>\n",
       "      <td>0.883929</td>\n",
       "      <td>00:53</td>\n",
       "    </tr>\n",
       "    <tr>\n",
       "      <td>8</td>\n",
       "      <td>0.128626</td>\n",
       "      <td>0.162621</td>\n",
       "      <td>0.870908</td>\n",
       "      <td>00:54</td>\n",
       "    </tr>\n",
       "    <tr>\n",
       "      <td>9</td>\n",
       "      <td>0.110436</td>\n",
       "      <td>0.152401</td>\n",
       "      <td>0.882440</td>\n",
       "      <td>00:55</td>\n",
       "    </tr>\n",
       "    <tr>\n",
       "      <td>10</td>\n",
       "      <td>0.101091</td>\n",
       "      <td>0.154222</td>\n",
       "      <td>0.879464</td>\n",
       "      <td>00:55</td>\n",
       "    </tr>\n",
       "    <tr>\n",
       "      <td>11</td>\n",
       "      <td>0.093948</td>\n",
       "      <td>0.157931</td>\n",
       "      <td>0.874628</td>\n",
       "      <td>00:52</td>\n",
       "    </tr>\n",
       "    <tr>\n",
       "      <td>12</td>\n",
       "      <td>0.091448</td>\n",
       "      <td>0.149197</td>\n",
       "      <td>0.888765</td>\n",
       "      <td>00:56</td>\n",
       "    </tr>\n",
       "    <tr>\n",
       "      <td>13</td>\n",
       "      <td>0.085642</td>\n",
       "      <td>0.148814</td>\n",
       "      <td>0.888765</td>\n",
       "      <td>00:56</td>\n",
       "    </tr>\n",
       "    <tr>\n",
       "      <td>14</td>\n",
       "      <td>0.083643</td>\n",
       "      <td>0.148625</td>\n",
       "      <td>0.884673</td>\n",
       "      <td>00:55</td>\n",
       "    </tr>\n",
       "    <tr>\n",
       "      <td>15</td>\n",
       "      <td>0.077695</td>\n",
       "      <td>0.144091</td>\n",
       "      <td>0.892857</td>\n",
       "      <td>00:54</td>\n",
       "    </tr>\n",
       "    <tr>\n",
       "      <td>16</td>\n",
       "      <td>0.075959</td>\n",
       "      <td>0.144626</td>\n",
       "      <td>0.895833</td>\n",
       "      <td>00:56</td>\n",
       "    </tr>\n",
       "    <tr>\n",
       "      <td>17</td>\n",
       "      <td>0.075904</td>\n",
       "      <td>0.143216</td>\n",
       "      <td>0.895461</td>\n",
       "      <td>00:55</td>\n",
       "    </tr>\n",
       "    <tr>\n",
       "      <td>18</td>\n",
       "      <td>0.078687</td>\n",
       "      <td>0.143991</td>\n",
       "      <td>0.893601</td>\n",
       "      <td>00:53</td>\n",
       "    </tr>\n",
       "    <tr>\n",
       "      <td>19</td>\n",
       "      <td>0.075005</td>\n",
       "      <td>0.144221</td>\n",
       "      <td>0.894717</td>\n",
       "      <td>00:54</td>\n",
       "    </tr>\n",
       "  </tbody>\n",
       "</table>"
      ],
      "text/plain": [
       "<IPython.core.display.HTML object>"
      ]
     },
     "metadata": {},
     "output_type": "display_data"
    },
    {
     "name": "stdout",
     "output_type": "stream",
     "text": [
      "Better model found at epoch 0 with valid_loss value: 0.24942238628864288.\n",
      "Better model found at epoch 1 with valid_loss value: 0.23446200788021088.\n",
      "Better model found at epoch 2 with valid_loss value: 0.22144196927547455.\n",
      "Better model found at epoch 3 with valid_loss value: 0.1963316649198532.\n",
      "Better model found at epoch 4 with valid_loss value: 0.1786302775144577.\n",
      "Better model found at epoch 5 with valid_loss value: 0.16933853924274445.\n",
      "Better model found at epoch 6 with valid_loss value: 0.1647850126028061.\n",
      "Better model found at epoch 7 with valid_loss value: 0.14950188994407654.\n",
      "Better model found at epoch 12 with valid_loss value: 0.1491965353488922.\n",
      "Better model found at epoch 13 with valid_loss value: 0.14881375432014465.\n",
      "Better model found at epoch 14 with valid_loss value: 0.14862467348575592.\n",
      "Better model found at epoch 15 with valid_loss value: 0.14409123361110687.\n",
      "Better model found at epoch 17 with valid_loss value: 0.14321628212928772.\n"
     ]
    },
    {
     "data": {
      "text/html": [
       "<pre style=\"white-space:pre;overflow-x:auto;line-height:normal;font-family:Menlo,'DejaVu Sans Mono',consolas,'Courier New',monospace\"><span style=\"color: #7fbfbf; text-decoration-color: #7fbfbf\">[20:36:14] </span><span style=\"color: #000080; text-decoration-color: #000080\">INFO    </span> Predictions saved to                                                                           \n",
       "<span style=\"color: #7fbfbf; text-decoration-color: #7fbfbf\">           </span>         <span style=\"color: #008000; text-decoration-color: #008000\">/mnt/d/Declich/GitHub/UMD/projects/trained_models/ABMIL-I3LUNG-AD-noqc-nostainnorm/00018-uni/pr</span>\n",
       "<span style=\"color: #7fbfbf; text-decoration-color: #7fbfbf\">           </span>         <span style=\"color: #008000; text-decoration-color: #008000\">edictions.parquet</span>                                                                              \n",
       "</pre>\n"
      ],
      "text/plain": [
       "\u001b[2;36m[20:36:14]\u001b[0m\u001b[2;36m \u001b[0m\u001b[34mINFO    \u001b[0m Predictions saved to                                                                           \n",
       "\u001b[2;36m           \u001b[0m         \u001b[32m/mnt/d/Declich/GitHub/UMD/projects/trained_models/ABMIL-I3LUNG-AD-noqc-nostainnorm/00018-uni/pr\u001b[0m\n",
       "\u001b[2;36m           \u001b[0m         \u001b[32medictions.parquet\u001b[0m                                                                              \n"
      ]
     },
     "metadata": {},
     "output_type": "display_data"
    },
    {
     "data": {
      "text/html": [
       "<pre style=\"white-space:pre;overflow-x:auto;line-height:normal;font-family:Menlo,'DejaVu Sans Mono',consolas,'Courier New',monospace\"><span style=\"color: #7fbfbf; text-decoration-color: #7fbfbf\">           </span><span style=\"color: #000080; text-decoration-color: #000080\">INFO    </span> Validation metrics for outcome <span style=\"color: #008000; text-decoration-color: #008000\">HISTOLOGY</span>:                                                      \n",
       "</pre>\n"
      ],
      "text/plain": [
       "\u001b[2;36m          \u001b[0m\u001b[2;36m \u001b[0m\u001b[34mINFO    \u001b[0m Validation metrics for outcome \u001b[32mHISTOLOGY\u001b[0m:                                                      \n"
      ]
     },
     "metadata": {},
     "output_type": "display_data"
    },
    {
     "data": {
      "text/html": [
       "<pre style=\"white-space:pre;overflow-x:auto;line-height:normal;font-family:Menlo,'DejaVu Sans Mono',consolas,'Courier New',monospace\"><span style=\"color: #7fbfbf; text-decoration-color: #7fbfbf\">           </span><span style=\"color: #000080; text-decoration-color: #000080\">INFO    </span> slide-level AUC (cat # 0): 0.895 AP: 0.960 (opt. threshold: 0.340)                             \n",
       "</pre>\n"
      ],
      "text/plain": [
       "\u001b[2;36m          \u001b[0m\u001b[2;36m \u001b[0m\u001b[34mINFO    \u001b[0m slide-level AUC (cat # 0): 0.895 AP: 0.960 (opt. threshold: 0.340)                             \n"
      ]
     },
     "metadata": {},
     "output_type": "display_data"
    },
    {
     "data": {
      "text/html": [
       "<pre style=\"white-space:pre;overflow-x:auto;line-height:normal;font-family:Menlo,'DejaVu Sans Mono',consolas,'Courier New',monospace\"><span style=\"color: #7fbfbf; text-decoration-color: #7fbfbf\">           </span><span style=\"color: #000080; text-decoration-color: #000080\">INFO    </span> slide-level AUC (cat # 1): 0.895 AP: 0.779 (opt. threshold: 0.685)                             \n",
       "</pre>\n"
      ],
      "text/plain": [
       "\u001b[2;36m          \u001b[0m\u001b[2;36m \u001b[0m\u001b[34mINFO    \u001b[0m slide-level AUC (cat # 1): 0.895 AP: 0.779 (opt. threshold: 0.685)                             \n"
      ]
     },
     "metadata": {},
     "output_type": "display_data"
    },
    {
     "data": {
      "text/html": [
       "<pre style=\"white-space:pre;overflow-x:auto;line-height:normal;font-family:Menlo,'DejaVu Sans Mono',consolas,'Courier New',monospace\"><span style=\"color: #7fbfbf; text-decoration-color: #7fbfbf\">           </span><span style=\"color: #000080; text-decoration-color: #000080\">INFO    </span> Category 0 acc: 82.3% (79/96)                                                                  \n",
       "</pre>\n"
      ],
      "text/plain": [
       "\u001b[2;36m          \u001b[0m\u001b[2;36m \u001b[0m\u001b[34mINFO    \u001b[0m Category 0 acc: 82.3% (79/96)                                                                  \n"
      ]
     },
     "metadata": {},
     "output_type": "display_data"
    },
    {
     "data": {
      "text/html": [
       "<pre style=\"white-space:pre;overflow-x:auto;line-height:normal;font-family:Menlo,'DejaVu Sans Mono',consolas,'Courier New',monospace\"><span style=\"color: #7fbfbf; text-decoration-color: #7fbfbf\">           </span><span style=\"color: #000080; text-decoration-color: #000080\">INFO    </span> Category 1 acc: 82.1% (23/28)                                                                  \n",
       "</pre>\n"
      ],
      "text/plain": [
       "\u001b[2;36m          \u001b[0m\u001b[2;36m \u001b[0m\u001b[34mINFO    \u001b[0m Category 1 acc: 82.1% (23/28)                                                                  \n"
      ]
     },
     "metadata": {},
     "output_type": "display_data"
    },
    {
     "data": {
      "text/html": [
       "<pre style=\"white-space:pre;overflow-x:auto;line-height:normal;font-family:Menlo,'DejaVu Sans Mono',consolas,'Courier New',monospace\"><span style=\"color: #7fbfbf; text-decoration-color: #7fbfbf\">[20:36:15] </span><span style=\"color: #000080; text-decoration-color: #000080\">INFO    </span> Attention scores exported to                                                                   \n",
       "<span style=\"color: #7fbfbf; text-decoration-color: #7fbfbf\">           </span>         <span style=\"color: #008000; text-decoration-color: #008000\">/mnt/d/Declich/GitHub/UMD/projects/trained_models/ABMIL-I3LUNG-AD-noqc-nostainnorm/00018-uni/at</span>\n",
       "<span style=\"color: #7fbfbf; text-decoration-color: #7fbfbf\">           </span>         <span style=\"color: #008000; text-decoration-color: #008000\">tention/DIG_PAT_1725902645_att.npz</span>                                                             \n",
       "</pre>\n"
      ],
      "text/plain": [
       "\u001b[2;36m[20:36:15]\u001b[0m\u001b[2;36m \u001b[0m\u001b[34mINFO    \u001b[0m Attention scores exported to                                                                   \n",
       "\u001b[2;36m           \u001b[0m         \u001b[32m/mnt/d/Declich/GitHub/UMD/projects/trained_models/ABMIL-I3LUNG-AD-noqc-nostainnorm/00018-uni/at\u001b[0m\n",
       "\u001b[2;36m           \u001b[0m         \u001b[32mtention/DIG_PAT_1725902645_att.npz\u001b[0m                                                             \n"
      ]
     },
     "metadata": {},
     "output_type": "display_data"
    },
    {
     "name": "stdout",
     "output_type": "stream",
     "text": [
      "Random seed set to: 95362779\n"
     ]
    },
    {
     "data": {
      "text/html": [
       "<pre style=\"white-space:pre;overflow-x:auto;line-height:normal;font-family:Menlo,'DejaVu Sans Mono',consolas,'Courier New',monospace\"><span style=\"color: #7fbfbf; text-decoration-color: #7fbfbf\">[20:36:16] </span><span style=\"color: #808000; text-decoration-color: #808000\">WARNING </span> <span style=\"color: #808000; text-decoration-color: #808000\">297 slides missing tfrecords, skipping</span>                                                         \n",
       "</pre>\n"
      ],
      "text/plain": [
       "\u001b[2;36m[20:36:16]\u001b[0m\u001b[2;36m \u001b[0m\u001b[33mWARNING \u001b[0m \u001b[33m297 slides missing tfrecords, skipping\u001b[0m                                                         \n"
      ]
     },
     "metadata": {},
     "output_type": "display_data"
    },
    {
     "data": {
      "text/html": [
       "<pre style=\"white-space:pre;overflow-x:auto;line-height:normal;font-family:Menlo,'DejaVu Sans Mono',consolas,'Courier New',monospace\"><span style=\"color: #7fbfbf; text-decoration-color: #7fbfbf\">           </span><span style=\"color: #000080; text-decoration-color: #000080\">INFO    </span> No training/validation splits file provided.                                                   \n",
       "</pre>\n"
      ],
      "text/plain": [
       "\u001b[2;36m          \u001b[0m\u001b[2;36m \u001b[0m\u001b[34mINFO    \u001b[0m No training/validation splits file provided.                                                   \n"
      ]
     },
     "metadata": {},
     "output_type": "display_data"
    },
    {
     "data": {
      "text/html": [
       "<pre style=\"white-space:pre;overflow-x:auto;line-height:normal;font-family:Menlo,'DejaVu Sans Mono',consolas,'Courier New',monospace\"><span style=\"color: #7fbfbf; text-decoration-color: #7fbfbf\">           </span><span style=\"color: #000080; text-decoration-color: #000080\">INFO    </span> Unable to save or load validation splits.                                                      \n",
       "</pre>\n"
      ],
      "text/plain": [
       "\u001b[2;36m          \u001b[0m\u001b[2;36m \u001b[0m\u001b[34mINFO    \u001b[0m Unable to save or load validation splits.                                                      \n"
      ]
     },
     "metadata": {},
     "output_type": "display_data"
    },
    {
     "data": {
      "text/html": [
       "<pre style=\"white-space:pre;overflow-x:auto;line-height:normal;font-family:Menlo,'DejaVu Sans Mono',consolas,'Courier New',monospace\"><span style=\"color: #7fbfbf; text-decoration-color: #7fbfbf\">           </span><span style=\"color: #000080; text-decoration-color: #000080\">INFO    </span> Training FastAI MIL model with config:                                                         \n",
       "</pre>\n"
      ],
      "text/plain": [
       "\u001b[2;36m          \u001b[0m\u001b[2;36m \u001b[0m\u001b[34mINFO    \u001b[0m Training FastAI MIL model with config:                                                         \n"
      ]
     },
     "metadata": {},
     "output_type": "display_data"
    },
    {
     "data": {
      "text/html": [
       "<pre style=\"white-space:pre;overflow-x:auto;line-height:normal;font-family:Menlo,'DejaVu Sans Mono',consolas,'Courier New',monospace\"><span style=\"color: #7fbfbf; text-decoration-color: #7fbfbf\">           </span><span style=\"color: #000080; text-decoration-color: #000080\">INFO    </span> TrainerConfig(                                                                                 \n",
       "<span style=\"color: #7fbfbf; text-decoration-color: #7fbfbf\">           </span>           lr=0.0001                                                                                    \n",
       "<span style=\"color: #7fbfbf; text-decoration-color: #7fbfbf\">           </span>           wd=1e-05                                                                                     \n",
       "<span style=\"color: #7fbfbf; text-decoration-color: #7fbfbf\">           </span>           bag_size=1024                                                                                \n",
       "<span style=\"color: #7fbfbf; text-decoration-color: #7fbfbf\">           </span>           max_val_bag_size=None                                                                        \n",
       "<span style=\"color: #7fbfbf; text-decoration-color: #7fbfbf\">           </span>           fit_one_cycle=True                                                                           \n",
       "<span style=\"color: #7fbfbf; text-decoration-color: #7fbfbf\">           </span>           epochs=20                                                                                    \n",
       "<span style=\"color: #7fbfbf; text-decoration-color: #7fbfbf\">           </span>           batch_size=16                                                                                \n",
       "<span style=\"color: #7fbfbf; text-decoration-color: #7fbfbf\">           </span>           drop_last=True                                                                               \n",
       "<span style=\"color: #7fbfbf; text-decoration-color: #7fbfbf\">           </span>           save_monitor='valid_loss'                                                                    \n",
       "<span style=\"color: #7fbfbf; text-decoration-color: #7fbfbf\">           </span>           weighted_loss=True                                                                           \n",
       "<span style=\"color: #7fbfbf; text-decoration-color: #7fbfbf\">           </span>           model='attention_mil'                                                                        \n",
       "<span style=\"color: #7fbfbf; text-decoration-color: #7fbfbf\">           </span>           model_kwargs=None                                                                            \n",
       "<span style=\"color: #7fbfbf; text-decoration-color: #7fbfbf\">           </span>           loss='cross_entropy'                                                                         \n",
       "<span style=\"color: #7fbfbf; text-decoration-color: #7fbfbf\">           </span>           use_lens=True                                                                                \n",
       "<span style=\"color: #7fbfbf; text-decoration-color: #7fbfbf\">           </span>         )                                                                                              \n",
       "</pre>\n"
      ],
      "text/plain": [
       "\u001b[2;36m          \u001b[0m\u001b[2;36m \u001b[0m\u001b[34mINFO    \u001b[0m TrainerConfig(                                                                                 \n",
       "\u001b[2;36m           \u001b[0m           lr=0.0001                                                                                    \n",
       "\u001b[2;36m           \u001b[0m           wd=1e-05                                                                                     \n",
       "\u001b[2;36m           \u001b[0m           bag_size=1024                                                                                \n",
       "\u001b[2;36m           \u001b[0m           max_val_bag_size=None                                                                        \n",
       "\u001b[2;36m           \u001b[0m           fit_one_cycle=True                                                                           \n",
       "\u001b[2;36m           \u001b[0m           epochs=20                                                                                    \n",
       "\u001b[2;36m           \u001b[0m           batch_size=16                                                                                \n",
       "\u001b[2;36m           \u001b[0m           drop_last=True                                                                               \n",
       "\u001b[2;36m           \u001b[0m           save_monitor='valid_loss'                                                                    \n",
       "\u001b[2;36m           \u001b[0m           weighted_loss=True                                                                           \n",
       "\u001b[2;36m           \u001b[0m           model='attention_mil'                                                                        \n",
       "\u001b[2;36m           \u001b[0m           model_kwargs=None                                                                            \n",
       "\u001b[2;36m           \u001b[0m           loss='cross_entropy'                                                                         \n",
       "\u001b[2;36m           \u001b[0m           use_lens=True                                                                                \n",
       "\u001b[2;36m           \u001b[0m         )                                                                                              \n"
      ]
     },
     "metadata": {},
     "output_type": "display_data"
    },
    {
     "data": {
      "text/html": [
       "<pre style=\"white-space:pre;overflow-x:auto;line-height:normal;font-family:Menlo,'DejaVu Sans Mono',consolas,'Courier New',monospace\"><span style=\"color: #7fbfbf; text-decoration-color: #7fbfbf\">           </span><span style=\"color: #000080; text-decoration-color: #000080\">INFO    </span> Training dataset: 497 merged bags (from 497 possible slides)                                   \n",
       "</pre>\n"
      ],
      "text/plain": [
       "\u001b[2;36m          \u001b[0m\u001b[2;36m \u001b[0m\u001b[34mINFO    \u001b[0m Training dataset: 497 merged bags (from 497 possible slides)                                   \n"
      ]
     },
     "metadata": {},
     "output_type": "display_data"
    },
    {
     "data": {
      "text/html": [
       "<pre style=\"white-space:pre;overflow-x:auto;line-height:normal;font-family:Menlo,'DejaVu Sans Mono',consolas,'Courier New',monospace\"><span style=\"color: #7fbfbf; text-decoration-color: #7fbfbf\">           </span><span style=\"color: #000080; text-decoration-color: #000080\">INFO    </span> Validation dataset: 121 merged bags (from 121 possible slides)                                 \n",
       "</pre>\n"
      ],
      "text/plain": [
       "\u001b[2;36m          \u001b[0m\u001b[2;36m \u001b[0m\u001b[34mINFO    \u001b[0m Validation dataset: 121 merged bags (from 121 possible slides)                                 \n"
      ]
     },
     "metadata": {},
     "output_type": "display_data"
    },
    {
     "data": {
      "text/html": [
       "<pre style=\"white-space:pre;overflow-x:auto;line-height:normal;font-family:Menlo,'DejaVu Sans Mono',consolas,'Courier New',monospace\"><span style=\"color: #7fbfbf; text-decoration-color: #7fbfbf\">[20:36:18] </span><span style=\"color: #000080; text-decoration-color: #000080\">INFO    </span> Building model <span style=\"font-weight: bold\">Attention_MIL</span> (n_in=1024, n_out=2)                                              \n",
       "</pre>\n"
      ],
      "text/plain": [
       "\u001b[2;36m[20:36:18]\u001b[0m\u001b[2;36m \u001b[0m\u001b[34mINFO    \u001b[0m Building model \u001b[1mAttention_MIL\u001b[0m (n_in=1024, n_out=2)                                              \n"
      ]
     },
     "metadata": {},
     "output_type": "display_data"
    },
    {
     "data": {
      "text/html": [
       "\n",
       "<style>\n",
       "    /* Turns off some styling */\n",
       "    progress {\n",
       "        /* gets rid of default border in Firefox and Opera. */\n",
       "        border: none;\n",
       "        /* Needs to be in here for Safari polyfill so background images work as expected. */\n",
       "        background-size: auto;\n",
       "    }\n",
       "    progress:not([value]), progress:not([value])::-webkit-progress-bar {\n",
       "        background: repeating-linear-gradient(45deg, #7e7e7e, #7e7e7e 10px, #5c5c5c 10px, #5c5c5c 20px);\n",
       "    }\n",
       "    .progress-bar-interrupted, .progress-bar-interrupted::-webkit-progress-bar {\n",
       "        background: #F44336;\n",
       "    }\n",
       "</style>\n"
      ],
      "text/plain": [
       "<IPython.core.display.HTML object>"
      ]
     },
     "metadata": {},
     "output_type": "display_data"
    },
    {
     "data": {
      "text/html": [
       "<table border=\"1\" class=\"dataframe\">\n",
       "  <thead>\n",
       "    <tr style=\"text-align: left;\">\n",
       "      <th>epoch</th>\n",
       "      <th>train_loss</th>\n",
       "      <th>valid_loss</th>\n",
       "      <th>roc_auc_score</th>\n",
       "      <th>time</th>\n",
       "    </tr>\n",
       "  </thead>\n",
       "  <tbody>\n",
       "    <tr>\n",
       "      <td>0</td>\n",
       "      <td>0.308238</td>\n",
       "      <td>0.250500</td>\n",
       "      <td>0.483333</td>\n",
       "      <td>00:53</td>\n",
       "    </tr>\n",
       "    <tr>\n",
       "      <td>1</td>\n",
       "      <td>0.281893</td>\n",
       "      <td>0.233134</td>\n",
       "      <td>0.620833</td>\n",
       "      <td>00:54</td>\n",
       "    </tr>\n",
       "    <tr>\n",
       "      <td>2</td>\n",
       "      <td>0.263533</td>\n",
       "      <td>0.198681</td>\n",
       "      <td>0.768750</td>\n",
       "      <td>00:54</td>\n",
       "    </tr>\n",
       "    <tr>\n",
       "      <td>3</td>\n",
       "      <td>0.228834</td>\n",
       "      <td>0.172796</td>\n",
       "      <td>0.850833</td>\n",
       "      <td>00:54</td>\n",
       "    </tr>\n",
       "    <tr>\n",
       "      <td>4</td>\n",
       "      <td>0.195324</td>\n",
       "      <td>0.150341</td>\n",
       "      <td>0.886667</td>\n",
       "      <td>00:52</td>\n",
       "    </tr>\n",
       "    <tr>\n",
       "      <td>5</td>\n",
       "      <td>0.169145</td>\n",
       "      <td>0.156518</td>\n",
       "      <td>0.893750</td>\n",
       "      <td>00:55</td>\n",
       "    </tr>\n",
       "    <tr>\n",
       "      <td>6</td>\n",
       "      <td>0.149446</td>\n",
       "      <td>0.146525</td>\n",
       "      <td>0.892917</td>\n",
       "      <td>00:54</td>\n",
       "    </tr>\n",
       "    <tr>\n",
       "      <td>7</td>\n",
       "      <td>0.142381</td>\n",
       "      <td>0.139522</td>\n",
       "      <td>0.885000</td>\n",
       "      <td>00:53</td>\n",
       "    </tr>\n",
       "    <tr>\n",
       "      <td>8</td>\n",
       "      <td>0.126648</td>\n",
       "      <td>0.144547</td>\n",
       "      <td>0.877500</td>\n",
       "      <td>00:53</td>\n",
       "    </tr>\n",
       "    <tr>\n",
       "      <td>9</td>\n",
       "      <td>0.112183</td>\n",
       "      <td>0.138260</td>\n",
       "      <td>0.888333</td>\n",
       "      <td>00:53</td>\n",
       "    </tr>\n",
       "    <tr>\n",
       "      <td>10</td>\n",
       "      <td>0.102599</td>\n",
       "      <td>0.136680</td>\n",
       "      <td>0.893750</td>\n",
       "      <td>00:53</td>\n",
       "    </tr>\n",
       "    <tr>\n",
       "      <td>11</td>\n",
       "      <td>0.092929</td>\n",
       "      <td>0.130624</td>\n",
       "      <td>0.898333</td>\n",
       "      <td>00:52</td>\n",
       "    </tr>\n",
       "    <tr>\n",
       "      <td>12</td>\n",
       "      <td>0.083274</td>\n",
       "      <td>0.125927</td>\n",
       "      <td>0.906667</td>\n",
       "      <td>00:54</td>\n",
       "    </tr>\n",
       "    <tr>\n",
       "      <td>13</td>\n",
       "      <td>0.080310</td>\n",
       "      <td>0.125887</td>\n",
       "      <td>0.909583</td>\n",
       "      <td>00:55</td>\n",
       "    </tr>\n",
       "    <tr>\n",
       "      <td>14</td>\n",
       "      <td>0.077441</td>\n",
       "      <td>0.127957</td>\n",
       "      <td>0.900417</td>\n",
       "      <td>00:56</td>\n",
       "    </tr>\n",
       "    <tr>\n",
       "      <td>15</td>\n",
       "      <td>0.073220</td>\n",
       "      <td>0.126415</td>\n",
       "      <td>0.907083</td>\n",
       "      <td>00:54</td>\n",
       "    </tr>\n",
       "    <tr>\n",
       "      <td>16</td>\n",
       "      <td>0.069486</td>\n",
       "      <td>0.123228</td>\n",
       "      <td>0.907917</td>\n",
       "      <td>00:53</td>\n",
       "    </tr>\n",
       "    <tr>\n",
       "      <td>17</td>\n",
       "      <td>0.071075</td>\n",
       "      <td>0.126532</td>\n",
       "      <td>0.910833</td>\n",
       "      <td>00:55</td>\n",
       "    </tr>\n",
       "    <tr>\n",
       "      <td>18</td>\n",
       "      <td>0.071468</td>\n",
       "      <td>0.126095</td>\n",
       "      <td>0.911250</td>\n",
       "      <td>00:55</td>\n",
       "    </tr>\n",
       "    <tr>\n",
       "      <td>19</td>\n",
       "      <td>0.071071</td>\n",
       "      <td>0.122821</td>\n",
       "      <td>0.916667</td>\n",
       "      <td>00:53</td>\n",
       "    </tr>\n",
       "  </tbody>\n",
       "</table>"
      ],
      "text/plain": [
       "<IPython.core.display.HTML object>"
      ]
     },
     "metadata": {},
     "output_type": "display_data"
    },
    {
     "name": "stdout",
     "output_type": "stream",
     "text": [
      "Better model found at epoch 0 with valid_loss value: 0.2504996061325073.\n",
      "Better model found at epoch 1 with valid_loss value: 0.23313412070274353.\n",
      "Better model found at epoch 2 with valid_loss value: 0.19868135452270508.\n",
      "Better model found at epoch 3 with valid_loss value: 0.17279627919197083.\n",
      "Better model found at epoch 4 with valid_loss value: 0.15034113824367523.\n",
      "Better model found at epoch 6 with valid_loss value: 0.14652487635612488.\n",
      "Better model found at epoch 7 with valid_loss value: 0.1395217776298523.\n",
      "Better model found at epoch 9 with valid_loss value: 0.1382599025964737.\n",
      "Better model found at epoch 10 with valid_loss value: 0.13667993247509003.\n",
      "Better model found at epoch 11 with valid_loss value: 0.1306244283914566.\n",
      "Better model found at epoch 12 with valid_loss value: 0.12592673301696777.\n",
      "Better model found at epoch 13 with valid_loss value: 0.12588709592819214.\n",
      "Better model found at epoch 16 with valid_loss value: 0.12322808802127838.\n",
      "Better model found at epoch 19 with valid_loss value: 0.12282109260559082.\n"
     ]
    },
    {
     "data": {
      "text/html": [
       "<pre style=\"white-space:pre;overflow-x:auto;line-height:normal;font-family:Menlo,'DejaVu Sans Mono',consolas,'Courier New',monospace\"><span style=\"color: #7fbfbf; text-decoration-color: #7fbfbf\">[20:54:38] </span><span style=\"color: #000080; text-decoration-color: #000080\">INFO    </span> Predictions saved to                                                                           \n",
       "<span style=\"color: #7fbfbf; text-decoration-color: #7fbfbf\">           </span>         <span style=\"color: #008000; text-decoration-color: #008000\">/mnt/d/Declich/GitHub/UMD/projects/trained_models/ABMIL-I3LUNG-AD-noqc-nostainnorm/00019-uni/pr</span>\n",
       "<span style=\"color: #7fbfbf; text-decoration-color: #7fbfbf\">           </span>         <span style=\"color: #008000; text-decoration-color: #008000\">edictions.parquet</span>                                                                              \n",
       "</pre>\n"
      ],
      "text/plain": [
       "\u001b[2;36m[20:54:38]\u001b[0m\u001b[2;36m \u001b[0m\u001b[34mINFO    \u001b[0m Predictions saved to                                                                           \n",
       "\u001b[2;36m           \u001b[0m         \u001b[32m/mnt/d/Declich/GitHub/UMD/projects/trained_models/ABMIL-I3LUNG-AD-noqc-nostainnorm/00019-uni/pr\u001b[0m\n",
       "\u001b[2;36m           \u001b[0m         \u001b[32medictions.parquet\u001b[0m                                                                              \n"
      ]
     },
     "metadata": {},
     "output_type": "display_data"
    },
    {
     "data": {
      "text/html": [
       "<pre style=\"white-space:pre;overflow-x:auto;line-height:normal;font-family:Menlo,'DejaVu Sans Mono',consolas,'Courier New',monospace\"><span style=\"color: #7fbfbf; text-decoration-color: #7fbfbf\">           </span><span style=\"color: #000080; text-decoration-color: #000080\">INFO    </span> Validation metrics for outcome <span style=\"color: #008000; text-decoration-color: #008000\">HISTOLOGY</span>:                                                      \n",
       "</pre>\n"
      ],
      "text/plain": [
       "\u001b[2;36m          \u001b[0m\u001b[2;36m \u001b[0m\u001b[34mINFO    \u001b[0m Validation metrics for outcome \u001b[32mHISTOLOGY\u001b[0m:                                                      \n"
      ]
     },
     "metadata": {},
     "output_type": "display_data"
    },
    {
     "data": {
      "text/html": [
       "<pre style=\"white-space:pre;overflow-x:auto;line-height:normal;font-family:Menlo,'DejaVu Sans Mono',consolas,'Courier New',monospace\"><span style=\"color: #7fbfbf; text-decoration-color: #7fbfbf\">           </span><span style=\"color: #000080; text-decoration-color: #000080\">INFO    </span> slide-level AUC (cat # 0): 0.917 AP: 0.973 (opt. threshold: 0.649)                             \n",
       "</pre>\n"
      ],
      "text/plain": [
       "\u001b[2;36m          \u001b[0m\u001b[2;36m \u001b[0m\u001b[34mINFO    \u001b[0m slide-level AUC (cat # 0): 0.917 AP: 0.973 (opt. threshold: 0.649)                             \n"
      ]
     },
     "metadata": {},
     "output_type": "display_data"
    },
    {
     "data": {
      "text/html": [
       "<pre style=\"white-space:pre;overflow-x:auto;line-height:normal;font-family:Menlo,'DejaVu Sans Mono',consolas,'Courier New',monospace\"><span style=\"color: #7fbfbf; text-decoration-color: #7fbfbf\">[20:54:39] </span><span style=\"color: #000080; text-decoration-color: #000080\">INFO    </span> slide-level AUC (cat # 1): 0.917 AP: 0.837 (opt. threshold: 0.366)                             \n",
       "</pre>\n"
      ],
      "text/plain": [
       "\u001b[2;36m[20:54:39]\u001b[0m\u001b[2;36m \u001b[0m\u001b[34mINFO    \u001b[0m slide-level AUC (cat # 1): 0.917 AP: 0.837 (opt. threshold: 0.366)                             \n"
      ]
     },
     "metadata": {},
     "output_type": "display_data"
    },
    {
     "data": {
      "text/html": [
       "<pre style=\"white-space:pre;overflow-x:auto;line-height:normal;font-family:Menlo,'DejaVu Sans Mono',consolas,'Courier New',monospace\"><span style=\"color: #7fbfbf; text-decoration-color: #7fbfbf\">           </span><span style=\"color: #000080; text-decoration-color: #000080\">INFO    </span> Category 0 acc: 84.4% (81/96)                                                                  \n",
       "</pre>\n"
      ],
      "text/plain": [
       "\u001b[2;36m          \u001b[0m\u001b[2;36m \u001b[0m\u001b[34mINFO    \u001b[0m Category 0 acc: 84.4% (81/96)                                                                  \n"
      ]
     },
     "metadata": {},
     "output_type": "display_data"
    },
    {
     "data": {
      "text/html": [
       "<pre style=\"white-space:pre;overflow-x:auto;line-height:normal;font-family:Menlo,'DejaVu Sans Mono',consolas,'Courier New',monospace\"><span style=\"color: #7fbfbf; text-decoration-color: #7fbfbf\">           </span><span style=\"color: #000080; text-decoration-color: #000080\">INFO    </span> Category 1 acc: 76.0% (19/25)                                                                  \n",
       "</pre>\n"
      ],
      "text/plain": [
       "\u001b[2;36m          \u001b[0m\u001b[2;36m \u001b[0m\u001b[34mINFO    \u001b[0m Category 1 acc: 76.0% (19/25)                                                                  \n"
      ]
     },
     "metadata": {},
     "output_type": "display_data"
    },
    {
     "data": {
      "text/html": [
       "<pre style=\"white-space:pre;overflow-x:auto;line-height:normal;font-family:Menlo,'DejaVu Sans Mono',consolas,'Courier New',monospace\"><span style=\"color: #7fbfbf; text-decoration-color: #7fbfbf\">[20:54:40] </span><span style=\"color: #000080; text-decoration-color: #000080\">INFO    </span> Attention scores exported to                                                                   \n",
       "<span style=\"color: #7fbfbf; text-decoration-color: #7fbfbf\">           </span>         <span style=\"color: #008000; text-decoration-color: #008000\">/mnt/d/Declich/GitHub/UMD/projects/trained_models/ABMIL-I3LUNG-AD-noqc-nostainnorm/00019-uni/at</span>\n",
       "<span style=\"color: #7fbfbf; text-decoration-color: #7fbfbf\">           </span>         <span style=\"color: #008000; text-decoration-color: #008000\">tention/DIG_PAT_1725902645_att.npz</span>                                                             \n",
       "</pre>\n"
      ],
      "text/plain": [
       "\u001b[2;36m[20:54:40]\u001b[0m\u001b[2;36m \u001b[0m\u001b[34mINFO    \u001b[0m Attention scores exported to                                                                   \n",
       "\u001b[2;36m           \u001b[0m         \u001b[32m/mnt/d/Declich/GitHub/UMD/projects/trained_models/ABMIL-I3LUNG-AD-noqc-nostainnorm/00019-uni/at\u001b[0m\n",
       "\u001b[2;36m           \u001b[0m         \u001b[32mtention/DIG_PAT_1725902645_att.npz\u001b[0m                                                             \n"
      ]
     },
     "metadata": {},
     "output_type": "display_data"
    },
    {
     "name": "stdout",
     "output_type": "stream",
     "text": [
      "Random seed set to: 3997005\n"
     ]
    },
    {
     "data": {
      "text/html": [
       "<pre style=\"white-space:pre;overflow-x:auto;line-height:normal;font-family:Menlo,'DejaVu Sans Mono',consolas,'Courier New',monospace\"><span style=\"color: #7fbfbf; text-decoration-color: #7fbfbf\">           </span><span style=\"color: #808000; text-decoration-color: #808000\">WARNING </span> <span style=\"color: #808000; text-decoration-color: #808000\">297 slides missing tfrecords, skipping</span>                                                         \n",
       "</pre>\n"
      ],
      "text/plain": [
       "\u001b[2;36m          \u001b[0m\u001b[2;36m \u001b[0m\u001b[33mWARNING \u001b[0m \u001b[33m297 slides missing tfrecords, skipping\u001b[0m                                                         \n"
      ]
     },
     "metadata": {},
     "output_type": "display_data"
    },
    {
     "data": {
      "text/html": [
       "<pre style=\"white-space:pre;overflow-x:auto;line-height:normal;font-family:Menlo,'DejaVu Sans Mono',consolas,'Courier New',monospace\"><span style=\"color: #7fbfbf; text-decoration-color: #7fbfbf\">           </span><span style=\"color: #000080; text-decoration-color: #000080\">INFO    </span> No training/validation splits file provided.                                                   \n",
       "</pre>\n"
      ],
      "text/plain": [
       "\u001b[2;36m          \u001b[0m\u001b[2;36m \u001b[0m\u001b[34mINFO    \u001b[0m No training/validation splits file provided.                                                   \n"
      ]
     },
     "metadata": {},
     "output_type": "display_data"
    },
    {
     "data": {
      "text/html": [
       "<pre style=\"white-space:pre;overflow-x:auto;line-height:normal;font-family:Menlo,'DejaVu Sans Mono',consolas,'Courier New',monospace\"><span style=\"color: #7fbfbf; text-decoration-color: #7fbfbf\">           </span><span style=\"color: #000080; text-decoration-color: #000080\">INFO    </span> Unable to save or load validation splits.                                                      \n",
       "</pre>\n"
      ],
      "text/plain": [
       "\u001b[2;36m          \u001b[0m\u001b[2;36m \u001b[0m\u001b[34mINFO    \u001b[0m Unable to save or load validation splits.                                                      \n"
      ]
     },
     "metadata": {},
     "output_type": "display_data"
    },
    {
     "data": {
      "text/html": [
       "<pre style=\"white-space:pre;overflow-x:auto;line-height:normal;font-family:Menlo,'DejaVu Sans Mono',consolas,'Courier New',monospace\"><span style=\"color: #7fbfbf; text-decoration-color: #7fbfbf\">           </span><span style=\"color: #000080; text-decoration-color: #000080\">INFO    </span> Training FastAI MIL model with config:                                                         \n",
       "</pre>\n"
      ],
      "text/plain": [
       "\u001b[2;36m          \u001b[0m\u001b[2;36m \u001b[0m\u001b[34mINFO    \u001b[0m Training FastAI MIL model with config:                                                         \n"
      ]
     },
     "metadata": {},
     "output_type": "display_data"
    },
    {
     "data": {
      "text/html": [
       "<pre style=\"white-space:pre;overflow-x:auto;line-height:normal;font-family:Menlo,'DejaVu Sans Mono',consolas,'Courier New',monospace\"><span style=\"color: #7fbfbf; text-decoration-color: #7fbfbf\">           </span><span style=\"color: #000080; text-decoration-color: #000080\">INFO    </span> TrainerConfig(                                                                                 \n",
       "<span style=\"color: #7fbfbf; text-decoration-color: #7fbfbf\">           </span>           lr=0.0001                                                                                    \n",
       "<span style=\"color: #7fbfbf; text-decoration-color: #7fbfbf\">           </span>           wd=1e-05                                                                                     \n",
       "<span style=\"color: #7fbfbf; text-decoration-color: #7fbfbf\">           </span>           bag_size=1024                                                                                \n",
       "<span style=\"color: #7fbfbf; text-decoration-color: #7fbfbf\">           </span>           max_val_bag_size=None                                                                        \n",
       "<span style=\"color: #7fbfbf; text-decoration-color: #7fbfbf\">           </span>           fit_one_cycle=True                                                                           \n",
       "<span style=\"color: #7fbfbf; text-decoration-color: #7fbfbf\">           </span>           epochs=20                                                                                    \n",
       "<span style=\"color: #7fbfbf; text-decoration-color: #7fbfbf\">           </span>           batch_size=16                                                                                \n",
       "<span style=\"color: #7fbfbf; text-decoration-color: #7fbfbf\">           </span>           drop_last=True                                                                               \n",
       "<span style=\"color: #7fbfbf; text-decoration-color: #7fbfbf\">           </span>           save_monitor='valid_loss'                                                                    \n",
       "<span style=\"color: #7fbfbf; text-decoration-color: #7fbfbf\">           </span>           weighted_loss=True                                                                           \n",
       "<span style=\"color: #7fbfbf; text-decoration-color: #7fbfbf\">           </span>           model='attention_mil'                                                                        \n",
       "<span style=\"color: #7fbfbf; text-decoration-color: #7fbfbf\">           </span>           model_kwargs=None                                                                            \n",
       "<span style=\"color: #7fbfbf; text-decoration-color: #7fbfbf\">           </span>           loss='cross_entropy'                                                                         \n",
       "<span style=\"color: #7fbfbf; text-decoration-color: #7fbfbf\">           </span>           use_lens=True                                                                                \n",
       "<span style=\"color: #7fbfbf; text-decoration-color: #7fbfbf\">           </span>         )                                                                                              \n",
       "</pre>\n"
      ],
      "text/plain": [
       "\u001b[2;36m          \u001b[0m\u001b[2;36m \u001b[0m\u001b[34mINFO    \u001b[0m TrainerConfig(                                                                                 \n",
       "\u001b[2;36m           \u001b[0m           lr=0.0001                                                                                    \n",
       "\u001b[2;36m           \u001b[0m           wd=1e-05                                                                                     \n",
       "\u001b[2;36m           \u001b[0m           bag_size=1024                                                                                \n",
       "\u001b[2;36m           \u001b[0m           max_val_bag_size=None                                                                        \n",
       "\u001b[2;36m           \u001b[0m           fit_one_cycle=True                                                                           \n",
       "\u001b[2;36m           \u001b[0m           epochs=20                                                                                    \n",
       "\u001b[2;36m           \u001b[0m           batch_size=16                                                                                \n",
       "\u001b[2;36m           \u001b[0m           drop_last=True                                                                               \n",
       "\u001b[2;36m           \u001b[0m           save_monitor='valid_loss'                                                                    \n",
       "\u001b[2;36m           \u001b[0m           weighted_loss=True                                                                           \n",
       "\u001b[2;36m           \u001b[0m           model='attention_mil'                                                                        \n",
       "\u001b[2;36m           \u001b[0m           model_kwargs=None                                                                            \n",
       "\u001b[2;36m           \u001b[0m           loss='cross_entropy'                                                                         \n",
       "\u001b[2;36m           \u001b[0m           use_lens=True                                                                                \n",
       "\u001b[2;36m           \u001b[0m         )                                                                                              \n"
      ]
     },
     "metadata": {},
     "output_type": "display_data"
    },
    {
     "data": {
      "text/html": [
       "<pre style=\"white-space:pre;overflow-x:auto;line-height:normal;font-family:Menlo,'DejaVu Sans Mono',consolas,'Courier New',monospace\"><span style=\"color: #7fbfbf; text-decoration-color: #7fbfbf\">           </span><span style=\"color: #000080; text-decoration-color: #000080\">INFO    </span> Training dataset: 488 merged bags (from 488 possible slides)                                   \n",
       "</pre>\n"
      ],
      "text/plain": [
       "\u001b[2;36m          \u001b[0m\u001b[2;36m \u001b[0m\u001b[34mINFO    \u001b[0m Training dataset: 488 merged bags (from 488 possible slides)                                   \n"
      ]
     },
     "metadata": {},
     "output_type": "display_data"
    },
    {
     "data": {
      "text/html": [
       "<pre style=\"white-space:pre;overflow-x:auto;line-height:normal;font-family:Menlo,'DejaVu Sans Mono',consolas,'Courier New',monospace\"><span style=\"color: #7fbfbf; text-decoration-color: #7fbfbf\">           </span><span style=\"color: #000080; text-decoration-color: #000080\">INFO    </span> Validation dataset: 130 merged bags (from 130 possible slides)                                 \n",
       "</pre>\n"
      ],
      "text/plain": [
       "\u001b[2;36m          \u001b[0m\u001b[2;36m \u001b[0m\u001b[34mINFO    \u001b[0m Validation dataset: 130 merged bags (from 130 possible slides)                                 \n"
      ]
     },
     "metadata": {},
     "output_type": "display_data"
    },
    {
     "data": {
      "text/html": [
       "<pre style=\"white-space:pre;overflow-x:auto;line-height:normal;font-family:Menlo,'DejaVu Sans Mono',consolas,'Courier New',monospace\"><span style=\"color: #7fbfbf; text-decoration-color: #7fbfbf\">[20:54:42] </span><span style=\"color: #000080; text-decoration-color: #000080\">INFO    </span> Building model <span style=\"font-weight: bold\">Attention_MIL</span> (n_in=1024, n_out=2)                                              \n",
       "</pre>\n"
      ],
      "text/plain": [
       "\u001b[2;36m[20:54:42]\u001b[0m\u001b[2;36m \u001b[0m\u001b[34mINFO    \u001b[0m Building model \u001b[1mAttention_MIL\u001b[0m (n_in=1024, n_out=2)                                              \n"
      ]
     },
     "metadata": {},
     "output_type": "display_data"
    },
    {
     "data": {
      "text/html": [
       "\n",
       "<style>\n",
       "    /* Turns off some styling */\n",
       "    progress {\n",
       "        /* gets rid of default border in Firefox and Opera. */\n",
       "        border: none;\n",
       "        /* Needs to be in here for Safari polyfill so background images work as expected. */\n",
       "        background-size: auto;\n",
       "    }\n",
       "    progress:not([value]), progress:not([value])::-webkit-progress-bar {\n",
       "        background: repeating-linear-gradient(45deg, #7e7e7e, #7e7e7e 10px, #5c5c5c 10px, #5c5c5c 20px);\n",
       "    }\n",
       "    .progress-bar-interrupted, .progress-bar-interrupted::-webkit-progress-bar {\n",
       "        background: #F44336;\n",
       "    }\n",
       "</style>\n"
      ],
      "text/plain": [
       "<IPython.core.display.HTML object>"
      ]
     },
     "metadata": {},
     "output_type": "display_data"
    },
    {
     "data": {
      "text/html": [
       "<table border=\"1\" class=\"dataframe\">\n",
       "  <thead>\n",
       "    <tr style=\"text-align: left;\">\n",
       "      <th>epoch</th>\n",
       "      <th>train_loss</th>\n",
       "      <th>valid_loss</th>\n",
       "      <th>roc_auc_score</th>\n",
       "      <th>time</th>\n",
       "    </tr>\n",
       "  </thead>\n",
       "  <tbody>\n",
       "    <tr>\n",
       "      <td>0</td>\n",
       "      <td>0.280867</td>\n",
       "      <td>0.231224</td>\n",
       "      <td>0.638970</td>\n",
       "      <td>00:52</td>\n",
       "    </tr>\n",
       "    <tr>\n",
       "      <td>1</td>\n",
       "      <td>0.258824</td>\n",
       "      <td>0.216923</td>\n",
       "      <td>0.728250</td>\n",
       "      <td>00:52</td>\n",
       "    </tr>\n",
       "    <tr>\n",
       "      <td>2</td>\n",
       "      <td>0.228315</td>\n",
       "      <td>0.200418</td>\n",
       "      <td>0.779407</td>\n",
       "      <td>00:52</td>\n",
       "    </tr>\n",
       "    <tr>\n",
       "      <td>3</td>\n",
       "      <td>0.207592</td>\n",
       "      <td>0.182307</td>\n",
       "      <td>0.828609</td>\n",
       "      <td>00:51</td>\n",
       "    </tr>\n",
       "    <tr>\n",
       "      <td>4</td>\n",
       "      <td>0.181271</td>\n",
       "      <td>0.172436</td>\n",
       "      <td>0.847181</td>\n",
       "      <td>00:51</td>\n",
       "    </tr>\n",
       "    <tr>\n",
       "      <td>5</td>\n",
       "      <td>0.161327</td>\n",
       "      <td>0.173483</td>\n",
       "      <td>0.856957</td>\n",
       "      <td>00:52</td>\n",
       "    </tr>\n",
       "    <tr>\n",
       "      <td>6</td>\n",
       "      <td>0.144928</td>\n",
       "      <td>0.165733</td>\n",
       "      <td>0.861844</td>\n",
       "      <td>00:51</td>\n",
       "    </tr>\n",
       "    <tr>\n",
       "      <td>7</td>\n",
       "      <td>0.133592</td>\n",
       "      <td>0.146211</td>\n",
       "      <td>0.894102</td>\n",
       "      <td>00:52</td>\n",
       "    </tr>\n",
       "    <tr>\n",
       "      <td>8</td>\n",
       "      <td>0.120501</td>\n",
       "      <td>0.155458</td>\n",
       "      <td>0.883024</td>\n",
       "      <td>00:51</td>\n",
       "    </tr>\n",
       "    <tr>\n",
       "      <td>9</td>\n",
       "      <td>0.114518</td>\n",
       "      <td>0.151368</td>\n",
       "      <td>0.889541</td>\n",
       "      <td>00:51</td>\n",
       "    </tr>\n",
       "    <tr>\n",
       "      <td>10</td>\n",
       "      <td>0.106043</td>\n",
       "      <td>0.158467</td>\n",
       "      <td>0.877485</td>\n",
       "      <td>00:52</td>\n",
       "    </tr>\n",
       "    <tr>\n",
       "      <td>11</td>\n",
       "      <td>0.095310</td>\n",
       "      <td>0.132403</td>\n",
       "      <td>0.907788</td>\n",
       "      <td>00:52</td>\n",
       "    </tr>\n",
       "    <tr>\n",
       "      <td>12</td>\n",
       "      <td>0.089341</td>\n",
       "      <td>0.133755</td>\n",
       "      <td>0.909417</td>\n",
       "      <td>00:49</td>\n",
       "    </tr>\n",
       "    <tr>\n",
       "      <td>13</td>\n",
       "      <td>0.089603</td>\n",
       "      <td>0.130551</td>\n",
       "      <td>0.913001</td>\n",
       "      <td>00:51</td>\n",
       "    </tr>\n",
       "    <tr>\n",
       "      <td>14</td>\n",
       "      <td>0.080432</td>\n",
       "      <td>0.138175</td>\n",
       "      <td>0.907136</td>\n",
       "      <td>00:53</td>\n",
       "    </tr>\n",
       "    <tr>\n",
       "      <td>15</td>\n",
       "      <td>0.080192</td>\n",
       "      <td>0.146175</td>\n",
       "      <td>0.902248</td>\n",
       "      <td>00:52</td>\n",
       "    </tr>\n",
       "    <tr>\n",
       "      <td>16</td>\n",
       "      <td>0.075716</td>\n",
       "      <td>0.149444</td>\n",
       "      <td>0.888889</td>\n",
       "      <td>00:51</td>\n",
       "    </tr>\n",
       "    <tr>\n",
       "      <td>17</td>\n",
       "      <td>0.070445</td>\n",
       "      <td>0.141465</td>\n",
       "      <td>0.893451</td>\n",
       "      <td>00:52</td>\n",
       "    </tr>\n",
       "    <tr>\n",
       "      <td>18</td>\n",
       "      <td>0.068683</td>\n",
       "      <td>0.137638</td>\n",
       "      <td>0.896057</td>\n",
       "      <td>00:53</td>\n",
       "    </tr>\n",
       "    <tr>\n",
       "      <td>19</td>\n",
       "      <td>0.072439</td>\n",
       "      <td>0.141161</td>\n",
       "      <td>0.893776</td>\n",
       "      <td>00:52</td>\n",
       "    </tr>\n",
       "  </tbody>\n",
       "</table>"
      ],
      "text/plain": [
       "<IPython.core.display.HTML object>"
      ]
     },
     "metadata": {},
     "output_type": "display_data"
    },
    {
     "name": "stdout",
     "output_type": "stream",
     "text": [
      "Better model found at epoch 0 with valid_loss value: 0.23122437298297882.\n",
      "Better model found at epoch 1 with valid_loss value: 0.21692317724227905.\n",
      "Better model found at epoch 2 with valid_loss value: 0.20041753351688385.\n",
      "Better model found at epoch 3 with valid_loss value: 0.18230733275413513.\n",
      "Better model found at epoch 4 with valid_loss value: 0.17243580520153046.\n",
      "Better model found at epoch 6 with valid_loss value: 0.16573341190814972.\n",
      "Better model found at epoch 7 with valid_loss value: 0.1462114453315735.\n",
      "Better model found at epoch 11 with valid_loss value: 0.13240304589271545.\n",
      "Better model found at epoch 13 with valid_loss value: 0.1305513232946396.\n"
     ]
    },
    {
     "data": {
      "text/html": [
       "<pre style=\"white-space:pre;overflow-x:auto;line-height:normal;font-family:Menlo,'DejaVu Sans Mono',consolas,'Courier New',monospace\"><span style=\"color: #7fbfbf; text-decoration-color: #7fbfbf\">[21:12:22] </span><span style=\"color: #000080; text-decoration-color: #000080\">INFO    </span> Predictions saved to                                                                           \n",
       "<span style=\"color: #7fbfbf; text-decoration-color: #7fbfbf\">           </span>         <span style=\"color: #008000; text-decoration-color: #008000\">/mnt/d/Declich/GitHub/UMD/projects/trained_models/ABMIL-I3LUNG-AD-noqc-nostainnorm/00020-uni/pr</span>\n",
       "<span style=\"color: #7fbfbf; text-decoration-color: #7fbfbf\">           </span>         <span style=\"color: #008000; text-decoration-color: #008000\">edictions.parquet</span>                                                                              \n",
       "</pre>\n"
      ],
      "text/plain": [
       "\u001b[2;36m[21:12:22]\u001b[0m\u001b[2;36m \u001b[0m\u001b[34mINFO    \u001b[0m Predictions saved to                                                                           \n",
       "\u001b[2;36m           \u001b[0m         \u001b[32m/mnt/d/Declich/GitHub/UMD/projects/trained_models/ABMIL-I3LUNG-AD-noqc-nostainnorm/00020-uni/pr\u001b[0m\n",
       "\u001b[2;36m           \u001b[0m         \u001b[32medictions.parquet\u001b[0m                                                                              \n"
      ]
     },
     "metadata": {},
     "output_type": "display_data"
    },
    {
     "data": {
      "text/html": [
       "<pre style=\"white-space:pre;overflow-x:auto;line-height:normal;font-family:Menlo,'DejaVu Sans Mono',consolas,'Courier New',monospace\"><span style=\"color: #7fbfbf; text-decoration-color: #7fbfbf\">           </span><span style=\"color: #000080; text-decoration-color: #000080\">INFO    </span> Validation metrics for outcome <span style=\"color: #008000; text-decoration-color: #008000\">HISTOLOGY</span>:                                                      \n",
       "</pre>\n"
      ],
      "text/plain": [
       "\u001b[2;36m          \u001b[0m\u001b[2;36m \u001b[0m\u001b[34mINFO    \u001b[0m Validation metrics for outcome \u001b[32mHISTOLOGY\u001b[0m:                                                      \n"
      ]
     },
     "metadata": {},
     "output_type": "display_data"
    },
    {
     "data": {
      "text/html": [
       "<pre style=\"white-space:pre;overflow-x:auto;line-height:normal;font-family:Menlo,'DejaVu Sans Mono',consolas,'Courier New',monospace\"><span style=\"color: #7fbfbf; text-decoration-color: #7fbfbf\">[21:12:23] </span><span style=\"color: #000080; text-decoration-color: #000080\">INFO    </span> slide-level AUC (cat # 0): 0.913 AP: 0.967 (opt. threshold: 0.145)                             \n",
       "</pre>\n"
      ],
      "text/plain": [
       "\u001b[2;36m[21:12:23]\u001b[0m\u001b[2;36m \u001b[0m\u001b[34mINFO    \u001b[0m slide-level AUC (cat # 0): 0.913 AP: 0.967 (opt. threshold: 0.145)                             \n"
      ]
     },
     "metadata": {},
     "output_type": "display_data"
    },
    {
     "data": {
      "text/html": [
       "<pre style=\"white-space:pre;overflow-x:auto;line-height:normal;font-family:Menlo,'DejaVu Sans Mono',consolas,'Courier New',monospace\"><span style=\"color: #7fbfbf; text-decoration-color: #7fbfbf\">           </span><span style=\"color: #000080; text-decoration-color: #000080\">INFO    </span> slide-level AUC (cat # 1): 0.913 AP: 0.853 (opt. threshold: 0.888)                             \n",
       "</pre>\n"
      ],
      "text/plain": [
       "\u001b[2;36m          \u001b[0m\u001b[2;36m \u001b[0m\u001b[34mINFO    \u001b[0m slide-level AUC (cat # 1): 0.913 AP: 0.853 (opt. threshold: 0.888)                             \n"
      ]
     },
     "metadata": {},
     "output_type": "display_data"
    },
    {
     "data": {
      "text/html": [
       "<pre style=\"white-space:pre;overflow-x:auto;line-height:normal;font-family:Menlo,'DejaVu Sans Mono',consolas,'Courier New',monospace\"><span style=\"color: #7fbfbf; text-decoration-color: #7fbfbf\">           </span><span style=\"color: #000080; text-decoration-color: #000080\">INFO    </span> Category 0 acc: 78.8% (78/99)                                                                  \n",
       "</pre>\n"
      ],
      "text/plain": [
       "\u001b[2;36m          \u001b[0m\u001b[2;36m \u001b[0m\u001b[34mINFO    \u001b[0m Category 0 acc: 78.8% (78/99)                                                                  \n"
      ]
     },
     "metadata": {},
     "output_type": "display_data"
    },
    {
     "data": {
      "text/html": [
       "<pre style=\"white-space:pre;overflow-x:auto;line-height:normal;font-family:Menlo,'DejaVu Sans Mono',consolas,'Courier New',monospace\"><span style=\"color: #7fbfbf; text-decoration-color: #7fbfbf\">           </span><span style=\"color: #000080; text-decoration-color: #000080\">INFO    </span> Category 1 acc: 80.6% (25/31)                                                                  \n",
       "</pre>\n"
      ],
      "text/plain": [
       "\u001b[2;36m          \u001b[0m\u001b[2;36m \u001b[0m\u001b[34mINFO    \u001b[0m Category 1 acc: 80.6% (25/31)                                                                  \n"
      ]
     },
     "metadata": {},
     "output_type": "display_data"
    },
    {
     "data": {
      "text/html": [
       "<pre style=\"white-space:pre;overflow-x:auto;line-height:normal;font-family:Menlo,'DejaVu Sans Mono',consolas,'Courier New',monospace\"><span style=\"color: #7fbfbf; text-decoration-color: #7fbfbf\">[21:12:24] </span><span style=\"color: #000080; text-decoration-color: #000080\">INFO    </span> Attention scores exported to                                                                   \n",
       "<span style=\"color: #7fbfbf; text-decoration-color: #7fbfbf\">           </span>         <span style=\"color: #008000; text-decoration-color: #008000\">/mnt/d/Declich/GitHub/UMD/projects/trained_models/ABMIL-I3LUNG-AD-noqc-nostainnorm/00020-uni/at</span>\n",
       "<span style=\"color: #7fbfbf; text-decoration-color: #7fbfbf\">           </span>         <span style=\"color: #008000; text-decoration-color: #008000\">tention/DIG_PAT_1725901192_att.npz</span>                                                             \n",
       "</pre>\n"
      ],
      "text/plain": [
       "\u001b[2;36m[21:12:24]\u001b[0m\u001b[2;36m \u001b[0m\u001b[34mINFO    \u001b[0m Attention scores exported to                                                                   \n",
       "\u001b[2;36m           \u001b[0m         \u001b[32m/mnt/d/Declich/GitHub/UMD/projects/trained_models/ABMIL-I3LUNG-AD-noqc-nostainnorm/00020-uni/at\u001b[0m\n",
       "\u001b[2;36m           \u001b[0m         \u001b[32mtention/DIG_PAT_1725901192_att.npz\u001b[0m                                                             \n"
      ]
     },
     "metadata": {},
     "output_type": "display_data"
    },
    {
     "name": "stdout",
     "output_type": "stream",
     "text": [
      "Random seed set to: 38893083\n"
     ]
    },
    {
     "data": {
      "text/html": [
       "<pre style=\"white-space:pre;overflow-x:auto;line-height:normal;font-family:Menlo,'DejaVu Sans Mono',consolas,'Courier New',monospace\"><span style=\"color: #7fbfbf; text-decoration-color: #7fbfbf\">           </span><span style=\"color: #808000; text-decoration-color: #808000\">WARNING </span> <span style=\"color: #808000; text-decoration-color: #808000\">297 slides missing tfrecords, skipping</span>                                                         \n",
       "</pre>\n"
      ],
      "text/plain": [
       "\u001b[2;36m          \u001b[0m\u001b[2;36m \u001b[0m\u001b[33mWARNING \u001b[0m \u001b[33m297 slides missing tfrecords, skipping\u001b[0m                                                         \n"
      ]
     },
     "metadata": {},
     "output_type": "display_data"
    },
    {
     "data": {
      "text/html": [
       "<pre style=\"white-space:pre;overflow-x:auto;line-height:normal;font-family:Menlo,'DejaVu Sans Mono',consolas,'Courier New',monospace\"><span style=\"color: #7fbfbf; text-decoration-color: #7fbfbf\">           </span><span style=\"color: #000080; text-decoration-color: #000080\">INFO    </span> No training/validation splits file provided.                                                   \n",
       "</pre>\n"
      ],
      "text/plain": [
       "\u001b[2;36m          \u001b[0m\u001b[2;36m \u001b[0m\u001b[34mINFO    \u001b[0m No training/validation splits file provided.                                                   \n"
      ]
     },
     "metadata": {},
     "output_type": "display_data"
    },
    {
     "data": {
      "text/html": [
       "<pre style=\"white-space:pre;overflow-x:auto;line-height:normal;font-family:Menlo,'DejaVu Sans Mono',consolas,'Courier New',monospace\"><span style=\"color: #7fbfbf; text-decoration-color: #7fbfbf\">           </span><span style=\"color: #000080; text-decoration-color: #000080\">INFO    </span> Unable to save or load validation splits.                                                      \n",
       "</pre>\n"
      ],
      "text/plain": [
       "\u001b[2;36m          \u001b[0m\u001b[2;36m \u001b[0m\u001b[34mINFO    \u001b[0m Unable to save or load validation splits.                                                      \n"
      ]
     },
     "metadata": {},
     "output_type": "display_data"
    },
    {
     "data": {
      "text/html": [
       "<pre style=\"white-space:pre;overflow-x:auto;line-height:normal;font-family:Menlo,'DejaVu Sans Mono',consolas,'Courier New',monospace\"><span style=\"color: #7fbfbf; text-decoration-color: #7fbfbf\">           </span><span style=\"color: #000080; text-decoration-color: #000080\">INFO    </span> Training FastAI MIL model with config:                                                         \n",
       "</pre>\n"
      ],
      "text/plain": [
       "\u001b[2;36m          \u001b[0m\u001b[2;36m \u001b[0m\u001b[34mINFO    \u001b[0m Training FastAI MIL model with config:                                                         \n"
      ]
     },
     "metadata": {},
     "output_type": "display_data"
    },
    {
     "data": {
      "text/html": [
       "<pre style=\"white-space:pre;overflow-x:auto;line-height:normal;font-family:Menlo,'DejaVu Sans Mono',consolas,'Courier New',monospace\"><span style=\"color: #7fbfbf; text-decoration-color: #7fbfbf\">           </span><span style=\"color: #000080; text-decoration-color: #000080\">INFO    </span> TrainerConfig(                                                                                 \n",
       "<span style=\"color: #7fbfbf; text-decoration-color: #7fbfbf\">           </span>           lr=0.0001                                                                                    \n",
       "<span style=\"color: #7fbfbf; text-decoration-color: #7fbfbf\">           </span>           wd=1e-05                                                                                     \n",
       "<span style=\"color: #7fbfbf; text-decoration-color: #7fbfbf\">           </span>           bag_size=1024                                                                                \n",
       "<span style=\"color: #7fbfbf; text-decoration-color: #7fbfbf\">           </span>           max_val_bag_size=None                                                                        \n",
       "<span style=\"color: #7fbfbf; text-decoration-color: #7fbfbf\">           </span>           fit_one_cycle=True                                                                           \n",
       "<span style=\"color: #7fbfbf; text-decoration-color: #7fbfbf\">           </span>           epochs=20                                                                                    \n",
       "<span style=\"color: #7fbfbf; text-decoration-color: #7fbfbf\">           </span>           batch_size=16                                                                                \n",
       "<span style=\"color: #7fbfbf; text-decoration-color: #7fbfbf\">           </span>           drop_last=True                                                                               \n",
       "<span style=\"color: #7fbfbf; text-decoration-color: #7fbfbf\">           </span>           save_monitor='valid_loss'                                                                    \n",
       "<span style=\"color: #7fbfbf; text-decoration-color: #7fbfbf\">           </span>           weighted_loss=True                                                                           \n",
       "<span style=\"color: #7fbfbf; text-decoration-color: #7fbfbf\">           </span>           model='attention_mil'                                                                        \n",
       "<span style=\"color: #7fbfbf; text-decoration-color: #7fbfbf\">           </span>           model_kwargs=None                                                                            \n",
       "<span style=\"color: #7fbfbf; text-decoration-color: #7fbfbf\">           </span>           loss='cross_entropy'                                                                         \n",
       "<span style=\"color: #7fbfbf; text-decoration-color: #7fbfbf\">           </span>           use_lens=True                                                                                \n",
       "<span style=\"color: #7fbfbf; text-decoration-color: #7fbfbf\">           </span>         )                                                                                              \n",
       "</pre>\n"
      ],
      "text/plain": [
       "\u001b[2;36m          \u001b[0m\u001b[2;36m \u001b[0m\u001b[34mINFO    \u001b[0m TrainerConfig(                                                                                 \n",
       "\u001b[2;36m           \u001b[0m           lr=0.0001                                                                                    \n",
       "\u001b[2;36m           \u001b[0m           wd=1e-05                                                                                     \n",
       "\u001b[2;36m           \u001b[0m           bag_size=1024                                                                                \n",
       "\u001b[2;36m           \u001b[0m           max_val_bag_size=None                                                                        \n",
       "\u001b[2;36m           \u001b[0m           fit_one_cycle=True                                                                           \n",
       "\u001b[2;36m           \u001b[0m           epochs=20                                                                                    \n",
       "\u001b[2;36m           \u001b[0m           batch_size=16                                                                                \n",
       "\u001b[2;36m           \u001b[0m           drop_last=True                                                                               \n",
       "\u001b[2;36m           \u001b[0m           save_monitor='valid_loss'                                                                    \n",
       "\u001b[2;36m           \u001b[0m           weighted_loss=True                                                                           \n",
       "\u001b[2;36m           \u001b[0m           model='attention_mil'                                                                        \n",
       "\u001b[2;36m           \u001b[0m           model_kwargs=None                                                                            \n",
       "\u001b[2;36m           \u001b[0m           loss='cross_entropy'                                                                         \n",
       "\u001b[2;36m           \u001b[0m           use_lens=True                                                                                \n",
       "\u001b[2;36m           \u001b[0m         )                                                                                              \n"
      ]
     },
     "metadata": {},
     "output_type": "display_data"
    },
    {
     "data": {
      "text/html": [
       "<pre style=\"white-space:pre;overflow-x:auto;line-height:normal;font-family:Menlo,'DejaVu Sans Mono',consolas,'Courier New',monospace\"><span style=\"color: #7fbfbf; text-decoration-color: #7fbfbf\">           </span><span style=\"color: #000080; text-decoration-color: #000080\">INFO    </span> Training dataset: 492 merged bags (from 492 possible slides)                                   \n",
       "</pre>\n"
      ],
      "text/plain": [
       "\u001b[2;36m          \u001b[0m\u001b[2;36m \u001b[0m\u001b[34mINFO    \u001b[0m Training dataset: 492 merged bags (from 492 possible slides)                                   \n"
      ]
     },
     "metadata": {},
     "output_type": "display_data"
    },
    {
     "data": {
      "text/html": [
       "<pre style=\"white-space:pre;overflow-x:auto;line-height:normal;font-family:Menlo,'DejaVu Sans Mono',consolas,'Courier New',monospace\"><span style=\"color: #7fbfbf; text-decoration-color: #7fbfbf\">           </span><span style=\"color: #000080; text-decoration-color: #000080\">INFO    </span> Validation dataset: 126 merged bags (from 126 possible slides)                                 \n",
       "</pre>\n"
      ],
      "text/plain": [
       "\u001b[2;36m          \u001b[0m\u001b[2;36m \u001b[0m\u001b[34mINFO    \u001b[0m Validation dataset: 126 merged bags (from 126 possible slides)                                 \n"
      ]
     },
     "metadata": {},
     "output_type": "display_data"
    },
    {
     "data": {
      "text/html": [
       "<pre style=\"white-space:pre;overflow-x:auto;line-height:normal;font-family:Menlo,'DejaVu Sans Mono',consolas,'Courier New',monospace\"><span style=\"color: #7fbfbf; text-decoration-color: #7fbfbf\">[21:12:26] </span><span style=\"color: #000080; text-decoration-color: #000080\">INFO    </span> Building model <span style=\"font-weight: bold\">Attention_MIL</span> (n_in=1024, n_out=2)                                              \n",
       "</pre>\n"
      ],
      "text/plain": [
       "\u001b[2;36m[21:12:26]\u001b[0m\u001b[2;36m \u001b[0m\u001b[34mINFO    \u001b[0m Building model \u001b[1mAttention_MIL\u001b[0m (n_in=1024, n_out=2)                                              \n"
      ]
     },
     "metadata": {},
     "output_type": "display_data"
    },
    {
     "data": {
      "text/html": [
       "\n",
       "<style>\n",
       "    /* Turns off some styling */\n",
       "    progress {\n",
       "        /* gets rid of default border in Firefox and Opera. */\n",
       "        border: none;\n",
       "        /* Needs to be in here for Safari polyfill so background images work as expected. */\n",
       "        background-size: auto;\n",
       "    }\n",
       "    progress:not([value]), progress:not([value])::-webkit-progress-bar {\n",
       "        background: repeating-linear-gradient(45deg, #7e7e7e, #7e7e7e 10px, #5c5c5c 10px, #5c5c5c 20px);\n",
       "    }\n",
       "    .progress-bar-interrupted, .progress-bar-interrupted::-webkit-progress-bar {\n",
       "        background: #F44336;\n",
       "    }\n",
       "</style>\n"
      ],
      "text/plain": [
       "<IPython.core.display.HTML object>"
      ]
     },
     "metadata": {},
     "output_type": "display_data"
    },
    {
     "data": {
      "text/html": [
       "<table border=\"1\" class=\"dataframe\">\n",
       "  <thead>\n",
       "    <tr style=\"text-align: left;\">\n",
       "      <th>epoch</th>\n",
       "      <th>train_loss</th>\n",
       "      <th>valid_loss</th>\n",
       "      <th>roc_auc_score</th>\n",
       "      <th>time</th>\n",
       "    </tr>\n",
       "  </thead>\n",
       "  <tbody>\n",
       "    <tr>\n",
       "      <td>0</td>\n",
       "      <td>0.294619</td>\n",
       "      <td>0.230975</td>\n",
       "      <td>0.577614</td>\n",
       "      <td>00:50</td>\n",
       "    </tr>\n",
       "    <tr>\n",
       "      <td>1</td>\n",
       "      <td>0.288427</td>\n",
       "      <td>0.219887</td>\n",
       "      <td>0.671569</td>\n",
       "      <td>00:52</td>\n",
       "    </tr>\n",
       "    <tr>\n",
       "      <td>2</td>\n",
       "      <td>0.253085</td>\n",
       "      <td>0.184660</td>\n",
       "      <td>0.819036</td>\n",
       "      <td>00:52</td>\n",
       "    </tr>\n",
       "    <tr>\n",
       "      <td>3</td>\n",
       "      <td>0.219935</td>\n",
       "      <td>0.165447</td>\n",
       "      <td>0.857843</td>\n",
       "      <td>00:54</td>\n",
       "    </tr>\n",
       "    <tr>\n",
       "      <td>4</td>\n",
       "      <td>0.190620</td>\n",
       "      <td>0.164390</td>\n",
       "      <td>0.893382</td>\n",
       "      <td>00:51</td>\n",
       "    </tr>\n",
       "    <tr>\n",
       "      <td>5</td>\n",
       "      <td>0.162267</td>\n",
       "      <td>0.136634</td>\n",
       "      <td>0.900327</td>\n",
       "      <td>00:52</td>\n",
       "    </tr>\n",
       "    <tr>\n",
       "      <td>6</td>\n",
       "      <td>0.149926</td>\n",
       "      <td>0.152079</td>\n",
       "      <td>0.911765</td>\n",
       "      <td>00:53</td>\n",
       "    </tr>\n",
       "    <tr>\n",
       "      <td>7</td>\n",
       "      <td>0.142059</td>\n",
       "      <td>0.146540</td>\n",
       "      <td>0.912990</td>\n",
       "      <td>00:53</td>\n",
       "    </tr>\n",
       "    <tr>\n",
       "      <td>8</td>\n",
       "      <td>0.125656</td>\n",
       "      <td>0.142641</td>\n",
       "      <td>0.913807</td>\n",
       "      <td>00:54</td>\n",
       "    </tr>\n",
       "    <tr>\n",
       "      <td>9</td>\n",
       "      <td>0.113698</td>\n",
       "      <td>0.136580</td>\n",
       "      <td>0.916667</td>\n",
       "      <td>00:52</td>\n",
       "    </tr>\n",
       "    <tr>\n",
       "      <td>10</td>\n",
       "      <td>0.108054</td>\n",
       "      <td>0.132813</td>\n",
       "      <td>0.921160</td>\n",
       "      <td>00:52</td>\n",
       "    </tr>\n",
       "    <tr>\n",
       "      <td>11</td>\n",
       "      <td>0.098259</td>\n",
       "      <td>0.136099</td>\n",
       "      <td>0.915441</td>\n",
       "      <td>00:51</td>\n",
       "    </tr>\n",
       "    <tr>\n",
       "      <td>12</td>\n",
       "      <td>0.091813</td>\n",
       "      <td>0.139046</td>\n",
       "      <td>0.920343</td>\n",
       "      <td>00:52</td>\n",
       "    </tr>\n",
       "    <tr>\n",
       "      <td>13</td>\n",
       "      <td>0.088135</td>\n",
       "      <td>0.146928</td>\n",
       "      <td>0.917484</td>\n",
       "      <td>00:53</td>\n",
       "    </tr>\n",
       "    <tr>\n",
       "      <td>14</td>\n",
       "      <td>0.085320</td>\n",
       "      <td>0.139755</td>\n",
       "      <td>0.919935</td>\n",
       "      <td>00:51</td>\n",
       "    </tr>\n",
       "    <tr>\n",
       "      <td>15</td>\n",
       "      <td>0.079054</td>\n",
       "      <td>0.137404</td>\n",
       "      <td>0.921160</td>\n",
       "      <td>00:53</td>\n",
       "    </tr>\n",
       "    <tr>\n",
       "      <td>16</td>\n",
       "      <td>0.079632</td>\n",
       "      <td>0.133879</td>\n",
       "      <td>0.921160</td>\n",
       "      <td>00:49</td>\n",
       "    </tr>\n",
       "    <tr>\n",
       "      <td>17</td>\n",
       "      <td>0.077211</td>\n",
       "      <td>0.132152</td>\n",
       "      <td>0.918709</td>\n",
       "      <td>00:52</td>\n",
       "    </tr>\n",
       "    <tr>\n",
       "      <td>18</td>\n",
       "      <td>0.079145</td>\n",
       "      <td>0.141660</td>\n",
       "      <td>0.918301</td>\n",
       "      <td>00:51</td>\n",
       "    </tr>\n",
       "    <tr>\n",
       "      <td>19</td>\n",
       "      <td>0.075424</td>\n",
       "      <td>0.146739</td>\n",
       "      <td>0.917075</td>\n",
       "      <td>00:51</td>\n",
       "    </tr>\n",
       "  </tbody>\n",
       "</table>"
      ],
      "text/plain": [
       "<IPython.core.display.HTML object>"
      ]
     },
     "metadata": {},
     "output_type": "display_data"
    },
    {
     "name": "stdout",
     "output_type": "stream",
     "text": [
      "Better model found at epoch 0 with valid_loss value: 0.23097528517246246.\n",
      "Better model found at epoch 1 with valid_loss value: 0.21988673508167267.\n",
      "Better model found at epoch 2 with valid_loss value: 0.18465979397296906.\n",
      "Better model found at epoch 3 with valid_loss value: 0.16544654965400696.\n",
      "Better model found at epoch 4 with valid_loss value: 0.1643896996974945.\n",
      "Better model found at epoch 5 with valid_loss value: 0.13663369417190552.\n",
      "Better model found at epoch 9 with valid_loss value: 0.13657987117767334.\n",
      "Better model found at epoch 10 with valid_loss value: 0.13281294703483582.\n",
      "Better model found at epoch 17 with valid_loss value: 0.13215170800685883.\n"
     ]
    },
    {
     "data": {
      "text/html": [
       "<pre style=\"white-space:pre;overflow-x:auto;line-height:normal;font-family:Menlo,'DejaVu Sans Mono',consolas,'Courier New',monospace\"><span style=\"color: #7fbfbf; text-decoration-color: #7fbfbf\">[21:30:11] </span><span style=\"color: #000080; text-decoration-color: #000080\">INFO    </span> Predictions saved to                                                                           \n",
       "<span style=\"color: #7fbfbf; text-decoration-color: #7fbfbf\">           </span>         <span style=\"color: #008000; text-decoration-color: #008000\">/mnt/d/Declich/GitHub/UMD/projects/trained_models/ABMIL-I3LUNG-AD-noqc-nostainnorm/00021-uni/pr</span>\n",
       "<span style=\"color: #7fbfbf; text-decoration-color: #7fbfbf\">           </span>         <span style=\"color: #008000; text-decoration-color: #008000\">edictions.parquet</span>                                                                              \n",
       "</pre>\n"
      ],
      "text/plain": [
       "\u001b[2;36m[21:30:11]\u001b[0m\u001b[2;36m \u001b[0m\u001b[34mINFO    \u001b[0m Predictions saved to                                                                           \n",
       "\u001b[2;36m           \u001b[0m         \u001b[32m/mnt/d/Declich/GitHub/UMD/projects/trained_models/ABMIL-I3LUNG-AD-noqc-nostainnorm/00021-uni/pr\u001b[0m\n",
       "\u001b[2;36m           \u001b[0m         \u001b[32medictions.parquet\u001b[0m                                                                              \n"
      ]
     },
     "metadata": {},
     "output_type": "display_data"
    },
    {
     "data": {
      "text/html": [
       "<pre style=\"white-space:pre;overflow-x:auto;line-height:normal;font-family:Menlo,'DejaVu Sans Mono',consolas,'Courier New',monospace\"><span style=\"color: #7fbfbf; text-decoration-color: #7fbfbf\">           </span><span style=\"color: #000080; text-decoration-color: #000080\">INFO    </span> Validation metrics for outcome <span style=\"color: #008000; text-decoration-color: #008000\">HISTOLOGY</span>:                                                      \n",
       "</pre>\n"
      ],
      "text/plain": [
       "\u001b[2;36m          \u001b[0m\u001b[2;36m \u001b[0m\u001b[34mINFO    \u001b[0m Validation metrics for outcome \u001b[32mHISTOLOGY\u001b[0m:                                                      \n"
      ]
     },
     "metadata": {},
     "output_type": "display_data"
    },
    {
     "data": {
      "text/html": [
       "<pre style=\"white-space:pre;overflow-x:auto;line-height:normal;font-family:Menlo,'DejaVu Sans Mono',consolas,'Courier New',monospace\"><span style=\"color: #7fbfbf; text-decoration-color: #7fbfbf\">           </span><span style=\"color: #000080; text-decoration-color: #000080\">INFO    </span> slide-level AUC (cat # 0): 0.919 AP: 0.959 (opt. threshold: 0.244)                             \n",
       "</pre>\n"
      ],
      "text/plain": [
       "\u001b[2;36m          \u001b[0m\u001b[2;36m \u001b[0m\u001b[34mINFO    \u001b[0m slide-level AUC (cat # 0): 0.919 AP: 0.959 (opt. threshold: 0.244)                             \n"
      ]
     },
     "metadata": {},
     "output_type": "display_data"
    },
    {
     "data": {
      "text/html": [
       "<pre style=\"white-space:pre;overflow-x:auto;line-height:normal;font-family:Menlo,'DejaVu Sans Mono',consolas,'Courier New',monospace\"><span style=\"color: #7fbfbf; text-decoration-color: #7fbfbf\">           </span><span style=\"color: #000080; text-decoration-color: #000080\">INFO    </span> slide-level AUC (cat # 1): 0.919 AP: 0.857 (opt. threshold: 0.757)                             \n",
       "</pre>\n"
      ],
      "text/plain": [
       "\u001b[2;36m          \u001b[0m\u001b[2;36m \u001b[0m\u001b[34mINFO    \u001b[0m slide-level AUC (cat # 1): 0.919 AP: 0.857 (opt. threshold: 0.757)                             \n"
      ]
     },
     "metadata": {},
     "output_type": "display_data"
    },
    {
     "data": {
      "text/html": [
       "<pre style=\"white-space:pre;overflow-x:auto;line-height:normal;font-family:Menlo,'DejaVu Sans Mono',consolas,'Courier New',monospace\"><span style=\"color: #7fbfbf; text-decoration-color: #7fbfbf\">           </span><span style=\"color: #000080; text-decoration-color: #000080\">INFO    </span> Category 0 acc: 83.3% (85/102)                                                                 \n",
       "</pre>\n"
      ],
      "text/plain": [
       "\u001b[2;36m          \u001b[0m\u001b[2;36m \u001b[0m\u001b[34mINFO    \u001b[0m Category 0 acc: 83.3% (85/102)                                                                 \n"
      ]
     },
     "metadata": {},
     "output_type": "display_data"
    },
    {
     "data": {
      "text/html": [
       "<pre style=\"white-space:pre;overflow-x:auto;line-height:normal;font-family:Menlo,'DejaVu Sans Mono',consolas,'Courier New',monospace\"><span style=\"color: #7fbfbf; text-decoration-color: #7fbfbf\">           </span><span style=\"color: #000080; text-decoration-color: #000080\">INFO    </span> Category 1 acc: 87.5% (21/24)                                                                  \n",
       "</pre>\n"
      ],
      "text/plain": [
       "\u001b[2;36m          \u001b[0m\u001b[2;36m \u001b[0m\u001b[34mINFO    \u001b[0m Category 1 acc: 87.5% (21/24)                                                                  \n"
      ]
     },
     "metadata": {},
     "output_type": "display_data"
    },
    {
     "data": {
      "text/html": [
       "<pre style=\"white-space:pre;overflow-x:auto;line-height:normal;font-family:Menlo,'DejaVu Sans Mono',consolas,'Courier New',monospace\"><span style=\"color: #7fbfbf; text-decoration-color: #7fbfbf\">[21:30:12] </span><span style=\"color: #000080; text-decoration-color: #000080\">INFO    </span> Attention scores exported to                                                                   \n",
       "<span style=\"color: #7fbfbf; text-decoration-color: #7fbfbf\">           </span>         <span style=\"color: #008000; text-decoration-color: #008000\">/mnt/d/Declich/GitHub/UMD/projects/trained_models/ABMIL-I3LUNG-AD-noqc-nostainnorm/00021-uni/at</span>\n",
       "<span style=\"color: #7fbfbf; text-decoration-color: #7fbfbf\">           </span>         <span style=\"color: #008000; text-decoration-color: #008000\">tention/DIG_PAT_1725901798_att.npz</span>                                                             \n",
       "</pre>\n"
      ],
      "text/plain": [
       "\u001b[2;36m[21:30:12]\u001b[0m\u001b[2;36m \u001b[0m\u001b[34mINFO    \u001b[0m Attention scores exported to                                                                   \n",
       "\u001b[2;36m           \u001b[0m         \u001b[32m/mnt/d/Declich/GitHub/UMD/projects/trained_models/ABMIL-I3LUNG-AD-noqc-nostainnorm/00021-uni/at\u001b[0m\n",
       "\u001b[2;36m           \u001b[0m         \u001b[32mtention/DIG_PAT_1725901798_att.npz\u001b[0m                                                             \n"
      ]
     },
     "metadata": {},
     "output_type": "display_data"
    },
    {
     "name": "stdout",
     "output_type": "stream",
     "text": [
      "Random seed set to: 33128620\n"
     ]
    },
    {
     "data": {
      "text/html": [
       "<pre style=\"white-space:pre;overflow-x:auto;line-height:normal;font-family:Menlo,'DejaVu Sans Mono',consolas,'Courier New',monospace\"><span style=\"color: #7fbfbf; text-decoration-color: #7fbfbf\">[21:30:13] </span><span style=\"color: #808000; text-decoration-color: #808000\">WARNING </span> <span style=\"color: #808000; text-decoration-color: #808000\">297 slides missing tfrecords, skipping</span>                                                         \n",
       "</pre>\n"
      ],
      "text/plain": [
       "\u001b[2;36m[21:30:13]\u001b[0m\u001b[2;36m \u001b[0m\u001b[33mWARNING \u001b[0m \u001b[33m297 slides missing tfrecords, skipping\u001b[0m                                                         \n"
      ]
     },
     "metadata": {},
     "output_type": "display_data"
    },
    {
     "data": {
      "text/html": [
       "<pre style=\"white-space:pre;overflow-x:auto;line-height:normal;font-family:Menlo,'DejaVu Sans Mono',consolas,'Courier New',monospace\"><span style=\"color: #7fbfbf; text-decoration-color: #7fbfbf\">           </span><span style=\"color: #000080; text-decoration-color: #000080\">INFO    </span> No training/validation splits file provided.                                                   \n",
       "</pre>\n"
      ],
      "text/plain": [
       "\u001b[2;36m          \u001b[0m\u001b[2;36m \u001b[0m\u001b[34mINFO    \u001b[0m No training/validation splits file provided.                                                   \n"
      ]
     },
     "metadata": {},
     "output_type": "display_data"
    },
    {
     "data": {
      "text/html": [
       "<pre style=\"white-space:pre;overflow-x:auto;line-height:normal;font-family:Menlo,'DejaVu Sans Mono',consolas,'Courier New',monospace\"><span style=\"color: #7fbfbf; text-decoration-color: #7fbfbf\">           </span><span style=\"color: #000080; text-decoration-color: #000080\">INFO    </span> Unable to save or load validation splits.                                                      \n",
       "</pre>\n"
      ],
      "text/plain": [
       "\u001b[2;36m          \u001b[0m\u001b[2;36m \u001b[0m\u001b[34mINFO    \u001b[0m Unable to save or load validation splits.                                                      \n"
      ]
     },
     "metadata": {},
     "output_type": "display_data"
    },
    {
     "data": {
      "text/html": [
       "<pre style=\"white-space:pre;overflow-x:auto;line-height:normal;font-family:Menlo,'DejaVu Sans Mono',consolas,'Courier New',monospace\"><span style=\"color: #7fbfbf; text-decoration-color: #7fbfbf\">           </span><span style=\"color: #000080; text-decoration-color: #000080\">INFO    </span> Training FastAI MIL model with config:                                                         \n",
       "</pre>\n"
      ],
      "text/plain": [
       "\u001b[2;36m          \u001b[0m\u001b[2;36m \u001b[0m\u001b[34mINFO    \u001b[0m Training FastAI MIL model with config:                                                         \n"
      ]
     },
     "metadata": {},
     "output_type": "display_data"
    },
    {
     "data": {
      "text/html": [
       "<pre style=\"white-space:pre;overflow-x:auto;line-height:normal;font-family:Menlo,'DejaVu Sans Mono',consolas,'Courier New',monospace\"><span style=\"color: #7fbfbf; text-decoration-color: #7fbfbf\">           </span><span style=\"color: #000080; text-decoration-color: #000080\">INFO    </span> TrainerConfig(                                                                                 \n",
       "<span style=\"color: #7fbfbf; text-decoration-color: #7fbfbf\">           </span>           lr=0.0001                                                                                    \n",
       "<span style=\"color: #7fbfbf; text-decoration-color: #7fbfbf\">           </span>           wd=1e-05                                                                                     \n",
       "<span style=\"color: #7fbfbf; text-decoration-color: #7fbfbf\">           </span>           bag_size=1024                                                                                \n",
       "<span style=\"color: #7fbfbf; text-decoration-color: #7fbfbf\">           </span>           max_val_bag_size=None                                                                        \n",
       "<span style=\"color: #7fbfbf; text-decoration-color: #7fbfbf\">           </span>           fit_one_cycle=True                                                                           \n",
       "<span style=\"color: #7fbfbf; text-decoration-color: #7fbfbf\">           </span>           epochs=20                                                                                    \n",
       "<span style=\"color: #7fbfbf; text-decoration-color: #7fbfbf\">           </span>           batch_size=16                                                                                \n",
       "<span style=\"color: #7fbfbf; text-decoration-color: #7fbfbf\">           </span>           drop_last=True                                                                               \n",
       "<span style=\"color: #7fbfbf; text-decoration-color: #7fbfbf\">           </span>           save_monitor='valid_loss'                                                                    \n",
       "<span style=\"color: #7fbfbf; text-decoration-color: #7fbfbf\">           </span>           weighted_loss=True                                                                           \n",
       "<span style=\"color: #7fbfbf; text-decoration-color: #7fbfbf\">           </span>           model='attention_mil'                                                                        \n",
       "<span style=\"color: #7fbfbf; text-decoration-color: #7fbfbf\">           </span>           model_kwargs=None                                                                            \n",
       "<span style=\"color: #7fbfbf; text-decoration-color: #7fbfbf\">           </span>           loss='cross_entropy'                                                                         \n",
       "<span style=\"color: #7fbfbf; text-decoration-color: #7fbfbf\">           </span>           use_lens=True                                                                                \n",
       "<span style=\"color: #7fbfbf; text-decoration-color: #7fbfbf\">           </span>         )                                                                                              \n",
       "</pre>\n"
      ],
      "text/plain": [
       "\u001b[2;36m          \u001b[0m\u001b[2;36m \u001b[0m\u001b[34mINFO    \u001b[0m TrainerConfig(                                                                                 \n",
       "\u001b[2;36m           \u001b[0m           lr=0.0001                                                                                    \n",
       "\u001b[2;36m           \u001b[0m           wd=1e-05                                                                                     \n",
       "\u001b[2;36m           \u001b[0m           bag_size=1024                                                                                \n",
       "\u001b[2;36m           \u001b[0m           max_val_bag_size=None                                                                        \n",
       "\u001b[2;36m           \u001b[0m           fit_one_cycle=True                                                                           \n",
       "\u001b[2;36m           \u001b[0m           epochs=20                                                                                    \n",
       "\u001b[2;36m           \u001b[0m           batch_size=16                                                                                \n",
       "\u001b[2;36m           \u001b[0m           drop_last=True                                                                               \n",
       "\u001b[2;36m           \u001b[0m           save_monitor='valid_loss'                                                                    \n",
       "\u001b[2;36m           \u001b[0m           weighted_loss=True                                                                           \n",
       "\u001b[2;36m           \u001b[0m           model='attention_mil'                                                                        \n",
       "\u001b[2;36m           \u001b[0m           model_kwargs=None                                                                            \n",
       "\u001b[2;36m           \u001b[0m           loss='cross_entropy'                                                                         \n",
       "\u001b[2;36m           \u001b[0m           use_lens=True                                                                                \n",
       "\u001b[2;36m           \u001b[0m         )                                                                                              \n"
      ]
     },
     "metadata": {},
     "output_type": "display_data"
    },
    {
     "data": {
      "text/html": [
       "<pre style=\"white-space:pre;overflow-x:auto;line-height:normal;font-family:Menlo,'DejaVu Sans Mono',consolas,'Courier New',monospace\"><span style=\"color: #7fbfbf; text-decoration-color: #7fbfbf\">           </span><span style=\"color: #000080; text-decoration-color: #000080\">INFO    </span> Training dataset: 496 merged bags (from 496 possible slides)                                   \n",
       "</pre>\n"
      ],
      "text/plain": [
       "\u001b[2;36m          \u001b[0m\u001b[2;36m \u001b[0m\u001b[34mINFO    \u001b[0m Training dataset: 496 merged bags (from 496 possible slides)                                   \n"
      ]
     },
     "metadata": {},
     "output_type": "display_data"
    },
    {
     "data": {
      "text/html": [
       "<pre style=\"white-space:pre;overflow-x:auto;line-height:normal;font-family:Menlo,'DejaVu Sans Mono',consolas,'Courier New',monospace\"><span style=\"color: #7fbfbf; text-decoration-color: #7fbfbf\">           </span><span style=\"color: #000080; text-decoration-color: #000080\">INFO    </span> Validation dataset: 122 merged bags (from 122 possible slides)                                 \n",
       "</pre>\n"
      ],
      "text/plain": [
       "\u001b[2;36m          \u001b[0m\u001b[2;36m \u001b[0m\u001b[34mINFO    \u001b[0m Validation dataset: 122 merged bags (from 122 possible slides)                                 \n"
      ]
     },
     "metadata": {},
     "output_type": "display_data"
    },
    {
     "data": {
      "text/html": [
       "<pre style=\"white-space:pre;overflow-x:auto;line-height:normal;font-family:Menlo,'DejaVu Sans Mono',consolas,'Courier New',monospace\"><span style=\"color: #7fbfbf; text-decoration-color: #7fbfbf\">[21:30:14] </span><span style=\"color: #000080; text-decoration-color: #000080\">INFO    </span> Building model <span style=\"font-weight: bold\">Attention_MIL</span> (n_in=1024, n_out=2)                                              \n",
       "</pre>\n"
      ],
      "text/plain": [
       "\u001b[2;36m[21:30:14]\u001b[0m\u001b[2;36m \u001b[0m\u001b[34mINFO    \u001b[0m Building model \u001b[1mAttention_MIL\u001b[0m (n_in=1024, n_out=2)                                              \n"
      ]
     },
     "metadata": {},
     "output_type": "display_data"
    },
    {
     "data": {
      "text/html": [
       "\n",
       "<style>\n",
       "    /* Turns off some styling */\n",
       "    progress {\n",
       "        /* gets rid of default border in Firefox and Opera. */\n",
       "        border: none;\n",
       "        /* Needs to be in here for Safari polyfill so background images work as expected. */\n",
       "        background-size: auto;\n",
       "    }\n",
       "    progress:not([value]), progress:not([value])::-webkit-progress-bar {\n",
       "        background: repeating-linear-gradient(45deg, #7e7e7e, #7e7e7e 10px, #5c5c5c 10px, #5c5c5c 20px);\n",
       "    }\n",
       "    .progress-bar-interrupted, .progress-bar-interrupted::-webkit-progress-bar {\n",
       "        background: #F44336;\n",
       "    }\n",
       "</style>\n"
      ],
      "text/plain": [
       "<IPython.core.display.HTML object>"
      ]
     },
     "metadata": {},
     "output_type": "display_data"
    },
    {
     "data": {
      "text/html": [
       "<table border=\"1\" class=\"dataframe\">\n",
       "  <thead>\n",
       "    <tr style=\"text-align: left;\">\n",
       "      <th>epoch</th>\n",
       "      <th>train_loss</th>\n",
       "      <th>valid_loss</th>\n",
       "      <th>roc_auc_score</th>\n",
       "      <th>time</th>\n",
       "    </tr>\n",
       "  </thead>\n",
       "  <tbody>\n",
       "    <tr>\n",
       "      <td>0</td>\n",
       "      <td>0.302161</td>\n",
       "      <td>0.261561</td>\n",
       "      <td>0.490174</td>\n",
       "      <td>00:56</td>\n",
       "    </tr>\n",
       "    <tr>\n",
       "      <td>1</td>\n",
       "      <td>0.283595</td>\n",
       "      <td>0.258538</td>\n",
       "      <td>0.537634</td>\n",
       "      <td>00:54</td>\n",
       "    </tr>\n",
       "    <tr>\n",
       "      <td>2</td>\n",
       "      <td>0.254267</td>\n",
       "      <td>0.237362</td>\n",
       "      <td>0.639970</td>\n",
       "      <td>00:56</td>\n",
       "    </tr>\n",
       "    <tr>\n",
       "      <td>3</td>\n",
       "      <td>0.219342</td>\n",
       "      <td>0.214186</td>\n",
       "      <td>0.715981</td>\n",
       "      <td>00:56</td>\n",
       "    </tr>\n",
       "    <tr>\n",
       "      <td>4</td>\n",
       "      <td>0.188951</td>\n",
       "      <td>0.221058</td>\n",
       "      <td>0.726733</td>\n",
       "      <td>00:55</td>\n",
       "    </tr>\n",
       "    <tr>\n",
       "      <td>5</td>\n",
       "      <td>0.165777</td>\n",
       "      <td>0.195166</td>\n",
       "      <td>0.787542</td>\n",
       "      <td>00:49</td>\n",
       "    </tr>\n",
       "    <tr>\n",
       "      <td>6</td>\n",
       "      <td>0.150837</td>\n",
       "      <td>0.190818</td>\n",
       "      <td>0.799407</td>\n",
       "      <td>00:53</td>\n",
       "    </tr>\n",
       "    <tr>\n",
       "      <td>7</td>\n",
       "      <td>0.132178</td>\n",
       "      <td>0.183855</td>\n",
       "      <td>0.814980</td>\n",
       "      <td>00:54</td>\n",
       "    </tr>\n",
       "    <tr>\n",
       "      <td>8</td>\n",
       "      <td>0.115907</td>\n",
       "      <td>0.192805</td>\n",
       "      <td>0.803856</td>\n",
       "      <td>00:56</td>\n",
       "    </tr>\n",
       "    <tr>\n",
       "      <td>9</td>\n",
       "      <td>0.104733</td>\n",
       "      <td>0.169983</td>\n",
       "      <td>0.850945</td>\n",
       "      <td>00:55</td>\n",
       "    </tr>\n",
       "    <tr>\n",
       "      <td>10</td>\n",
       "      <td>0.098938</td>\n",
       "      <td>0.178548</td>\n",
       "      <td>0.829440</td>\n",
       "      <td>00:55</td>\n",
       "    </tr>\n",
       "    <tr>\n",
       "      <td>11</td>\n",
       "      <td>0.091260</td>\n",
       "      <td>0.183176</td>\n",
       "      <td>0.827957</td>\n",
       "      <td>00:54</td>\n",
       "    </tr>\n",
       "    <tr>\n",
       "      <td>12</td>\n",
       "      <td>0.086993</td>\n",
       "      <td>0.184828</td>\n",
       "      <td>0.823878</td>\n",
       "      <td>00:56</td>\n",
       "    </tr>\n",
       "    <tr>\n",
       "      <td>13</td>\n",
       "      <td>0.087593</td>\n",
       "      <td>0.182630</td>\n",
       "      <td>0.826845</td>\n",
       "      <td>00:51</td>\n",
       "    </tr>\n",
       "    <tr>\n",
       "      <td>14</td>\n",
       "      <td>0.080571</td>\n",
       "      <td>0.182300</td>\n",
       "      <td>0.833519</td>\n",
       "      <td>00:53</td>\n",
       "    </tr>\n",
       "    <tr>\n",
       "      <td>15</td>\n",
       "      <td>0.075546</td>\n",
       "      <td>0.182186</td>\n",
       "      <td>0.831665</td>\n",
       "      <td>00:55</td>\n",
       "    </tr>\n",
       "    <tr>\n",
       "      <td>16</td>\n",
       "      <td>0.070424</td>\n",
       "      <td>0.182161</td>\n",
       "      <td>0.835743</td>\n",
       "      <td>00:53</td>\n",
       "    </tr>\n",
       "    <tr>\n",
       "      <td>17</td>\n",
       "      <td>0.071817</td>\n",
       "      <td>0.178059</td>\n",
       "      <td>0.835743</td>\n",
       "      <td>00:56</td>\n",
       "    </tr>\n",
       "    <tr>\n",
       "      <td>18</td>\n",
       "      <td>0.072542</td>\n",
       "      <td>0.178050</td>\n",
       "      <td>0.837597</td>\n",
       "      <td>00:55</td>\n",
       "    </tr>\n",
       "    <tr>\n",
       "      <td>19</td>\n",
       "      <td>0.073147</td>\n",
       "      <td>0.178209</td>\n",
       "      <td>0.839080</td>\n",
       "      <td>00:51</td>\n",
       "    </tr>\n",
       "  </tbody>\n",
       "</table>"
      ],
      "text/plain": [
       "<IPython.core.display.HTML object>"
      ]
     },
     "metadata": {},
     "output_type": "display_data"
    },
    {
     "name": "stdout",
     "output_type": "stream",
     "text": [
      "Better model found at epoch 0 with valid_loss value: 0.2615610659122467.\n",
      "Better model found at epoch 1 with valid_loss value: 0.2585383653640747.\n",
      "Better model found at epoch 2 with valid_loss value: 0.23736245930194855.\n",
      "Better model found at epoch 3 with valid_loss value: 0.214186429977417.\n",
      "Better model found at epoch 5 with valid_loss value: 0.19516561925411224.\n",
      "Better model found at epoch 6 with valid_loss value: 0.1908176839351654.\n",
      "Better model found at epoch 7 with valid_loss value: 0.18385519087314606.\n",
      "Better model found at epoch 9 with valid_loss value: 0.16998310387134552.\n"
     ]
    },
    {
     "data": {
      "text/html": [
       "<pre style=\"white-space:pre;overflow-x:auto;line-height:normal;font-family:Menlo,'DejaVu Sans Mono',consolas,'Courier New',monospace\"><span style=\"color: #7fbfbf; text-decoration-color: #7fbfbf\">[21:48:42] </span><span style=\"color: #000080; text-decoration-color: #000080\">INFO    </span> Predictions saved to                                                                           \n",
       "<span style=\"color: #7fbfbf; text-decoration-color: #7fbfbf\">           </span>         <span style=\"color: #008000; text-decoration-color: #008000\">/mnt/d/Declich/GitHub/UMD/projects/trained_models/ABMIL-I3LUNG-AD-noqc-nostainnorm/00022-uni/pr</span>\n",
       "<span style=\"color: #7fbfbf; text-decoration-color: #7fbfbf\">           </span>         <span style=\"color: #008000; text-decoration-color: #008000\">edictions.parquet</span>                                                                              \n",
       "</pre>\n"
      ],
      "text/plain": [
       "\u001b[2;36m[21:48:42]\u001b[0m\u001b[2;36m \u001b[0m\u001b[34mINFO    \u001b[0m Predictions saved to                                                                           \n",
       "\u001b[2;36m           \u001b[0m         \u001b[32m/mnt/d/Declich/GitHub/UMD/projects/trained_models/ABMIL-I3LUNG-AD-noqc-nostainnorm/00022-uni/pr\u001b[0m\n",
       "\u001b[2;36m           \u001b[0m         \u001b[32medictions.parquet\u001b[0m                                                                              \n"
      ]
     },
     "metadata": {},
     "output_type": "display_data"
    },
    {
     "data": {
      "text/html": [
       "<pre style=\"white-space:pre;overflow-x:auto;line-height:normal;font-family:Menlo,'DejaVu Sans Mono',consolas,'Courier New',monospace\"><span style=\"color: #7fbfbf; text-decoration-color: #7fbfbf\">           </span><span style=\"color: #000080; text-decoration-color: #000080\">INFO    </span> Validation metrics for outcome <span style=\"color: #008000; text-decoration-color: #008000\">HISTOLOGY</span>:                                                      \n",
       "</pre>\n"
      ],
      "text/plain": [
       "\u001b[2;36m          \u001b[0m\u001b[2;36m \u001b[0m\u001b[34mINFO    \u001b[0m Validation metrics for outcome \u001b[32mHISTOLOGY\u001b[0m:                                                      \n"
      ]
     },
     "metadata": {},
     "output_type": "display_data"
    },
    {
     "data": {
      "text/html": [
       "<pre style=\"white-space:pre;overflow-x:auto;line-height:normal;font-family:Menlo,'DejaVu Sans Mono',consolas,'Courier New',monospace\"><span style=\"color: #7fbfbf; text-decoration-color: #7fbfbf\">           </span><span style=\"color: #000080; text-decoration-color: #000080\">INFO    </span> slide-level AUC (cat # 0): 0.851 AP: 0.933 (opt. threshold: 0.258)                             \n",
       "</pre>\n"
      ],
      "text/plain": [
       "\u001b[2;36m          \u001b[0m\u001b[2;36m \u001b[0m\u001b[34mINFO    \u001b[0m slide-level AUC (cat # 0): 0.851 AP: 0.933 (opt. threshold: 0.258)                             \n"
      ]
     },
     "metadata": {},
     "output_type": "display_data"
    },
    {
     "data": {
      "text/html": [
       "<pre style=\"white-space:pre;overflow-x:auto;line-height:normal;font-family:Menlo,'DejaVu Sans Mono',consolas,'Courier New',monospace\"><span style=\"color: #7fbfbf; text-decoration-color: #7fbfbf\">           </span><span style=\"color: #000080; text-decoration-color: #000080\">INFO    </span> slide-level AUC (cat # 1): 0.851 AP: 0.771 (opt. threshold: 0.745)                             \n",
       "</pre>\n"
      ],
      "text/plain": [
       "\u001b[2;36m          \u001b[0m\u001b[2;36m \u001b[0m\u001b[34mINFO    \u001b[0m slide-level AUC (cat # 1): 0.851 AP: 0.771 (opt. threshold: 0.745)                             \n"
      ]
     },
     "metadata": {},
     "output_type": "display_data"
    },
    {
     "data": {
      "text/html": [
       "<pre style=\"white-space:pre;overflow-x:auto;line-height:normal;font-family:Menlo,'DejaVu Sans Mono',consolas,'Courier New',monospace\"><span style=\"color: #7fbfbf; text-decoration-color: #7fbfbf\">           </span><span style=\"color: #000080; text-decoration-color: #000080\">INFO    </span> Category 0 acc: 79.6% (74/93)                                                                  \n",
       "</pre>\n"
      ],
      "text/plain": [
       "\u001b[2;36m          \u001b[0m\u001b[2;36m \u001b[0m\u001b[34mINFO    \u001b[0m Category 0 acc: 79.6% (74/93)                                                                  \n"
      ]
     },
     "metadata": {},
     "output_type": "display_data"
    },
    {
     "data": {
      "text/html": [
       "<pre style=\"white-space:pre;overflow-x:auto;line-height:normal;font-family:Menlo,'DejaVu Sans Mono',consolas,'Courier New',monospace\"><span style=\"color: #7fbfbf; text-decoration-color: #7fbfbf\">           </span><span style=\"color: #000080; text-decoration-color: #000080\">INFO    </span> Category 1 acc: 69.0% (20/29)                                                                  \n",
       "</pre>\n"
      ],
      "text/plain": [
       "\u001b[2;36m          \u001b[0m\u001b[2;36m \u001b[0m\u001b[34mINFO    \u001b[0m Category 1 acc: 69.0% (20/29)                                                                  \n"
      ]
     },
     "metadata": {},
     "output_type": "display_data"
    },
    {
     "data": {
      "text/html": [
       "<pre style=\"white-space:pre;overflow-x:auto;line-height:normal;font-family:Menlo,'DejaVu Sans Mono',consolas,'Courier New',monospace\"><span style=\"color: #7fbfbf; text-decoration-color: #7fbfbf\">[21:48:43] </span><span style=\"color: #000080; text-decoration-color: #000080\">INFO    </span> Attention scores exported to                                                                   \n",
       "<span style=\"color: #7fbfbf; text-decoration-color: #7fbfbf\">           </span>         <span style=\"color: #008000; text-decoration-color: #008000\">/mnt/d/Declich/GitHub/UMD/projects/trained_models/ABMIL-I3LUNG-AD-noqc-nostainnorm/00022-uni/at</span>\n",
       "<span style=\"color: #7fbfbf; text-decoration-color: #7fbfbf\">           </span>         <span style=\"color: #008000; text-decoration-color: #008000\">tention/DIG_PAT_1725902696_att.npz</span>                                                             \n",
       "</pre>\n"
      ],
      "text/plain": [
       "\u001b[2;36m[21:48:43]\u001b[0m\u001b[2;36m \u001b[0m\u001b[34mINFO    \u001b[0m Attention scores exported to                                                                   \n",
       "\u001b[2;36m           \u001b[0m         \u001b[32m/mnt/d/Declich/GitHub/UMD/projects/trained_models/ABMIL-I3LUNG-AD-noqc-nostainnorm/00022-uni/at\u001b[0m\n",
       "\u001b[2;36m           \u001b[0m         \u001b[32mtention/DIG_PAT_1725902696_att.npz\u001b[0m                                                             \n"
      ]
     },
     "metadata": {},
     "output_type": "display_data"
    },
    {
     "name": "stdout",
     "output_type": "stream",
     "text": [
      "Random seed set to: 19351495\n"
     ]
    },
    {
     "data": {
      "text/html": [
       "<pre style=\"white-space:pre;overflow-x:auto;line-height:normal;font-family:Menlo,'DejaVu Sans Mono',consolas,'Courier New',monospace\"><span style=\"color: #7fbfbf; text-decoration-color: #7fbfbf\">           </span><span style=\"color: #808000; text-decoration-color: #808000\">WARNING </span> <span style=\"color: #808000; text-decoration-color: #808000\">297 slides missing tfrecords, skipping</span>                                                         \n",
       "</pre>\n"
      ],
      "text/plain": [
       "\u001b[2;36m          \u001b[0m\u001b[2;36m \u001b[0m\u001b[33mWARNING \u001b[0m \u001b[33m297 slides missing tfrecords, skipping\u001b[0m                                                         \n"
      ]
     },
     "metadata": {},
     "output_type": "display_data"
    },
    {
     "data": {
      "text/html": [
       "<pre style=\"white-space:pre;overflow-x:auto;line-height:normal;font-family:Menlo,'DejaVu Sans Mono',consolas,'Courier New',monospace\"><span style=\"color: #7fbfbf; text-decoration-color: #7fbfbf\">           </span><span style=\"color: #000080; text-decoration-color: #000080\">INFO    </span> No training/validation splits file provided.                                                   \n",
       "</pre>\n"
      ],
      "text/plain": [
       "\u001b[2;36m          \u001b[0m\u001b[2;36m \u001b[0m\u001b[34mINFO    \u001b[0m No training/validation splits file provided.                                                   \n"
      ]
     },
     "metadata": {},
     "output_type": "display_data"
    },
    {
     "data": {
      "text/html": [
       "<pre style=\"white-space:pre;overflow-x:auto;line-height:normal;font-family:Menlo,'DejaVu Sans Mono',consolas,'Courier New',monospace\"><span style=\"color: #7fbfbf; text-decoration-color: #7fbfbf\">           </span><span style=\"color: #000080; text-decoration-color: #000080\">INFO    </span> Unable to save or load validation splits.                                                      \n",
       "</pre>\n"
      ],
      "text/plain": [
       "\u001b[2;36m          \u001b[0m\u001b[2;36m \u001b[0m\u001b[34mINFO    \u001b[0m Unable to save or load validation splits.                                                      \n"
      ]
     },
     "metadata": {},
     "output_type": "display_data"
    },
    {
     "data": {
      "text/html": [
       "<pre style=\"white-space:pre;overflow-x:auto;line-height:normal;font-family:Menlo,'DejaVu Sans Mono',consolas,'Courier New',monospace\"><span style=\"color: #7fbfbf; text-decoration-color: #7fbfbf\">           </span><span style=\"color: #000080; text-decoration-color: #000080\">INFO    </span> Training FastAI MIL model with config:                                                         \n",
       "</pre>\n"
      ],
      "text/plain": [
       "\u001b[2;36m          \u001b[0m\u001b[2;36m \u001b[0m\u001b[34mINFO    \u001b[0m Training FastAI MIL model with config:                                                         \n"
      ]
     },
     "metadata": {},
     "output_type": "display_data"
    },
    {
     "data": {
      "text/html": [
       "<pre style=\"white-space:pre;overflow-x:auto;line-height:normal;font-family:Menlo,'DejaVu Sans Mono',consolas,'Courier New',monospace\"><span style=\"color: #7fbfbf; text-decoration-color: #7fbfbf\">           </span><span style=\"color: #000080; text-decoration-color: #000080\">INFO    </span> TrainerConfig(                                                                                 \n",
       "<span style=\"color: #7fbfbf; text-decoration-color: #7fbfbf\">           </span>           lr=0.0001                                                                                    \n",
       "<span style=\"color: #7fbfbf; text-decoration-color: #7fbfbf\">           </span>           wd=1e-05                                                                                     \n",
       "<span style=\"color: #7fbfbf; text-decoration-color: #7fbfbf\">           </span>           bag_size=1024                                                                                \n",
       "<span style=\"color: #7fbfbf; text-decoration-color: #7fbfbf\">           </span>           max_val_bag_size=None                                                                        \n",
       "<span style=\"color: #7fbfbf; text-decoration-color: #7fbfbf\">           </span>           fit_one_cycle=True                                                                           \n",
       "<span style=\"color: #7fbfbf; text-decoration-color: #7fbfbf\">           </span>           epochs=20                                                                                    \n",
       "<span style=\"color: #7fbfbf; text-decoration-color: #7fbfbf\">           </span>           batch_size=16                                                                                \n",
       "<span style=\"color: #7fbfbf; text-decoration-color: #7fbfbf\">           </span>           drop_last=True                                                                               \n",
       "<span style=\"color: #7fbfbf; text-decoration-color: #7fbfbf\">           </span>           save_monitor='valid_loss'                                                                    \n",
       "<span style=\"color: #7fbfbf; text-decoration-color: #7fbfbf\">           </span>           weighted_loss=True                                                                           \n",
       "<span style=\"color: #7fbfbf; text-decoration-color: #7fbfbf\">           </span>           model='attention_mil'                                                                        \n",
       "<span style=\"color: #7fbfbf; text-decoration-color: #7fbfbf\">           </span>           model_kwargs=None                                                                            \n",
       "<span style=\"color: #7fbfbf; text-decoration-color: #7fbfbf\">           </span>           loss='cross_entropy'                                                                         \n",
       "<span style=\"color: #7fbfbf; text-decoration-color: #7fbfbf\">           </span>           use_lens=True                                                                                \n",
       "<span style=\"color: #7fbfbf; text-decoration-color: #7fbfbf\">           </span>         )                                                                                              \n",
       "</pre>\n"
      ],
      "text/plain": [
       "\u001b[2;36m          \u001b[0m\u001b[2;36m \u001b[0m\u001b[34mINFO    \u001b[0m TrainerConfig(                                                                                 \n",
       "\u001b[2;36m           \u001b[0m           lr=0.0001                                                                                    \n",
       "\u001b[2;36m           \u001b[0m           wd=1e-05                                                                                     \n",
       "\u001b[2;36m           \u001b[0m           bag_size=1024                                                                                \n",
       "\u001b[2;36m           \u001b[0m           max_val_bag_size=None                                                                        \n",
       "\u001b[2;36m           \u001b[0m           fit_one_cycle=True                                                                           \n",
       "\u001b[2;36m           \u001b[0m           epochs=20                                                                                    \n",
       "\u001b[2;36m           \u001b[0m           batch_size=16                                                                                \n",
       "\u001b[2;36m           \u001b[0m           drop_last=True                                                                               \n",
       "\u001b[2;36m           \u001b[0m           save_monitor='valid_loss'                                                                    \n",
       "\u001b[2;36m           \u001b[0m           weighted_loss=True                                                                           \n",
       "\u001b[2;36m           \u001b[0m           model='attention_mil'                                                                        \n",
       "\u001b[2;36m           \u001b[0m           model_kwargs=None                                                                            \n",
       "\u001b[2;36m           \u001b[0m           loss='cross_entropy'                                                                         \n",
       "\u001b[2;36m           \u001b[0m           use_lens=True                                                                                \n",
       "\u001b[2;36m           \u001b[0m         )                                                                                              \n"
      ]
     },
     "metadata": {},
     "output_type": "display_data"
    },
    {
     "data": {
      "text/html": [
       "<pre style=\"white-space:pre;overflow-x:auto;line-height:normal;font-family:Menlo,'DejaVu Sans Mono',consolas,'Courier New',monospace\"><span style=\"color: #7fbfbf; text-decoration-color: #7fbfbf\">[21:48:44] </span><span style=\"color: #000080; text-decoration-color: #000080\">INFO    </span> Training dataset: 491 merged bags (from 491 possible slides)                                   \n",
       "</pre>\n"
      ],
      "text/plain": [
       "\u001b[2;36m[21:48:44]\u001b[0m\u001b[2;36m \u001b[0m\u001b[34mINFO    \u001b[0m Training dataset: 491 merged bags (from 491 possible slides)                                   \n"
      ]
     },
     "metadata": {},
     "output_type": "display_data"
    },
    {
     "data": {
      "text/html": [
       "<pre style=\"white-space:pre;overflow-x:auto;line-height:normal;font-family:Menlo,'DejaVu Sans Mono',consolas,'Courier New',monospace\"><span style=\"color: #7fbfbf; text-decoration-color: #7fbfbf\">           </span><span style=\"color: #000080; text-decoration-color: #000080\">INFO    </span> Validation dataset: 127 merged bags (from 127 possible slides)                                 \n",
       "</pre>\n"
      ],
      "text/plain": [
       "\u001b[2;36m          \u001b[0m\u001b[2;36m \u001b[0m\u001b[34mINFO    \u001b[0m Validation dataset: 127 merged bags (from 127 possible slides)                                 \n"
      ]
     },
     "metadata": {},
     "output_type": "display_data"
    },
    {
     "data": {
      "text/html": [
       "<pre style=\"white-space:pre;overflow-x:auto;line-height:normal;font-family:Menlo,'DejaVu Sans Mono',consolas,'Courier New',monospace\"><span style=\"color: #7fbfbf; text-decoration-color: #7fbfbf\">[21:48:45] </span><span style=\"color: #000080; text-decoration-color: #000080\">INFO    </span> Building model <span style=\"font-weight: bold\">Attention_MIL</span> (n_in=1024, n_out=2)                                              \n",
       "</pre>\n"
      ],
      "text/plain": [
       "\u001b[2;36m[21:48:45]\u001b[0m\u001b[2;36m \u001b[0m\u001b[34mINFO    \u001b[0m Building model \u001b[1mAttention_MIL\u001b[0m (n_in=1024, n_out=2)                                              \n"
      ]
     },
     "metadata": {},
     "output_type": "display_data"
    },
    {
     "data": {
      "text/html": [
       "\n",
       "<style>\n",
       "    /* Turns off some styling */\n",
       "    progress {\n",
       "        /* gets rid of default border in Firefox and Opera. */\n",
       "        border: none;\n",
       "        /* Needs to be in here for Safari polyfill so background images work as expected. */\n",
       "        background-size: auto;\n",
       "    }\n",
       "    progress:not([value]), progress:not([value])::-webkit-progress-bar {\n",
       "        background: repeating-linear-gradient(45deg, #7e7e7e, #7e7e7e 10px, #5c5c5c 10px, #5c5c5c 20px);\n",
       "    }\n",
       "    .progress-bar-interrupted, .progress-bar-interrupted::-webkit-progress-bar {\n",
       "        background: #F44336;\n",
       "    }\n",
       "</style>\n"
      ],
      "text/plain": [
       "<IPython.core.display.HTML object>"
      ]
     },
     "metadata": {},
     "output_type": "display_data"
    },
    {
     "data": {
      "text/html": [
       "<table border=\"1\" class=\"dataframe\">\n",
       "  <thead>\n",
       "    <tr style=\"text-align: left;\">\n",
       "      <th>epoch</th>\n",
       "      <th>train_loss</th>\n",
       "      <th>valid_loss</th>\n",
       "      <th>roc_auc_score</th>\n",
       "      <th>time</th>\n",
       "    </tr>\n",
       "  </thead>\n",
       "  <tbody>\n",
       "    <tr>\n",
       "      <td>0</td>\n",
       "      <td>0.241828</td>\n",
       "      <td>0.230990</td>\n",
       "      <td>0.650598</td>\n",
       "      <td>00:52</td>\n",
       "    </tr>\n",
       "    <tr>\n",
       "      <td>1</td>\n",
       "      <td>0.239320</td>\n",
       "      <td>0.215452</td>\n",
       "      <td>0.729064</td>\n",
       "      <td>00:54</td>\n",
       "    </tr>\n",
       "    <tr>\n",
       "      <td>2</td>\n",
       "      <td>0.226788</td>\n",
       "      <td>0.197547</td>\n",
       "      <td>0.803308</td>\n",
       "      <td>00:51</td>\n",
       "    </tr>\n",
       "    <tr>\n",
       "      <td>3</td>\n",
       "      <td>0.196845</td>\n",
       "      <td>0.178662</td>\n",
       "      <td>0.833568</td>\n",
       "      <td>00:48</td>\n",
       "    </tr>\n",
       "    <tr>\n",
       "      <td>4</td>\n",
       "      <td>0.178037</td>\n",
       "      <td>0.167348</td>\n",
       "      <td>0.862773</td>\n",
       "      <td>00:51</td>\n",
       "    </tr>\n",
       "    <tr>\n",
       "      <td>5</td>\n",
       "      <td>0.163693</td>\n",
       "      <td>0.156942</td>\n",
       "      <td>0.884940</td>\n",
       "      <td>00:51</td>\n",
       "    </tr>\n",
       "    <tr>\n",
       "      <td>6</td>\n",
       "      <td>0.150336</td>\n",
       "      <td>0.148054</td>\n",
       "      <td>0.908867</td>\n",
       "      <td>00:53</td>\n",
       "    </tr>\n",
       "    <tr>\n",
       "      <td>7</td>\n",
       "      <td>0.135207</td>\n",
       "      <td>0.137041</td>\n",
       "      <td>0.909219</td>\n",
       "      <td>00:53</td>\n",
       "    </tr>\n",
       "    <tr>\n",
       "      <td>8</td>\n",
       "      <td>0.127723</td>\n",
       "      <td>0.134630</td>\n",
       "      <td>0.924349</td>\n",
       "      <td>00:51</td>\n",
       "    </tr>\n",
       "    <tr>\n",
       "      <td>9</td>\n",
       "      <td>0.113605</td>\n",
       "      <td>0.136726</td>\n",
       "      <td>0.918367</td>\n",
       "      <td>00:53</td>\n",
       "    </tr>\n",
       "    <tr>\n",
       "      <td>10</td>\n",
       "      <td>0.104451</td>\n",
       "      <td>0.129849</td>\n",
       "      <td>0.928923</td>\n",
       "      <td>00:53</td>\n",
       "    </tr>\n",
       "    <tr>\n",
       "      <td>11</td>\n",
       "      <td>0.099767</td>\n",
       "      <td>0.138775</td>\n",
       "      <td>0.928923</td>\n",
       "      <td>00:51</td>\n",
       "    </tr>\n",
       "    <tr>\n",
       "      <td>12</td>\n",
       "      <td>0.093455</td>\n",
       "      <td>0.129566</td>\n",
       "      <td>0.931034</td>\n",
       "      <td>00:52</td>\n",
       "    </tr>\n",
       "    <tr>\n",
       "      <td>13</td>\n",
       "      <td>0.087313</td>\n",
       "      <td>0.121939</td>\n",
       "      <td>0.935257</td>\n",
       "      <td>00:50</td>\n",
       "    </tr>\n",
       "    <tr>\n",
       "      <td>14</td>\n",
       "      <td>0.079620</td>\n",
       "      <td>0.122237</td>\n",
       "      <td>0.933498</td>\n",
       "      <td>00:52</td>\n",
       "    </tr>\n",
       "    <tr>\n",
       "      <td>15</td>\n",
       "      <td>0.083465</td>\n",
       "      <td>0.122708</td>\n",
       "      <td>0.932794</td>\n",
       "      <td>00:53</td>\n",
       "    </tr>\n",
       "    <tr>\n",
       "      <td>16</td>\n",
       "      <td>0.079995</td>\n",
       "      <td>0.121882</td>\n",
       "      <td>0.933498</td>\n",
       "      <td>00:53</td>\n",
       "    </tr>\n",
       "    <tr>\n",
       "      <td>17</td>\n",
       "      <td>0.077736</td>\n",
       "      <td>0.123555</td>\n",
       "      <td>0.933849</td>\n",
       "      <td>00:53</td>\n",
       "    </tr>\n",
       "    <tr>\n",
       "      <td>18</td>\n",
       "      <td>0.076356</td>\n",
       "      <td>0.124962</td>\n",
       "      <td>0.933498</td>\n",
       "      <td>00:49</td>\n",
       "    </tr>\n",
       "    <tr>\n",
       "      <td>19</td>\n",
       "      <td>0.077112</td>\n",
       "      <td>0.123092</td>\n",
       "      <td>0.933849</td>\n",
       "      <td>00:53</td>\n",
       "    </tr>\n",
       "  </tbody>\n",
       "</table>"
      ],
      "text/plain": [
       "<IPython.core.display.HTML object>"
      ]
     },
     "metadata": {},
     "output_type": "display_data"
    },
    {
     "name": "stdout",
     "output_type": "stream",
     "text": [
      "Better model found at epoch 0 with valid_loss value: 0.23098967969417572.\n",
      "Better model found at epoch 1 with valid_loss value: 0.2154521942138672.\n",
      "Better model found at epoch 2 with valid_loss value: 0.1975465565919876.\n",
      "Better model found at epoch 3 with valid_loss value: 0.1786615252494812.\n",
      "Better model found at epoch 4 with valid_loss value: 0.1673479676246643.\n",
      "Better model found at epoch 5 with valid_loss value: 0.15694206953048706.\n",
      "Better model found at epoch 6 with valid_loss value: 0.14805375039577484.\n",
      "Better model found at epoch 7 with valid_loss value: 0.13704092800617218.\n",
      "Better model found at epoch 8 with valid_loss value: 0.13463033735752106.\n",
      "Better model found at epoch 10 with valid_loss value: 0.1298494189977646.\n",
      "Better model found at epoch 12 with valid_loss value: 0.12956595420837402.\n",
      "Better model found at epoch 13 with valid_loss value: 0.12193892896175385.\n",
      "Better model found at epoch 16 with valid_loss value: 0.12188215553760529.\n"
     ]
    },
    {
     "data": {
      "text/html": [
       "<pre style=\"white-space:pre;overflow-x:auto;line-height:normal;font-family:Menlo,'DejaVu Sans Mono',consolas,'Courier New',monospace\"><span style=\"color: #7fbfbf; text-decoration-color: #7fbfbf\">[22:06:27] </span><span style=\"color: #000080; text-decoration-color: #000080\">INFO    </span> Predictions saved to                                                                           \n",
       "<span style=\"color: #7fbfbf; text-decoration-color: #7fbfbf\">           </span>         <span style=\"color: #008000; text-decoration-color: #008000\">/mnt/d/Declich/GitHub/UMD/projects/trained_models/ABMIL-I3LUNG-AD-noqc-nostainnorm/00023-uni/pr</span>\n",
       "<span style=\"color: #7fbfbf; text-decoration-color: #7fbfbf\">           </span>         <span style=\"color: #008000; text-decoration-color: #008000\">edictions.parquet</span>                                                                              \n",
       "</pre>\n"
      ],
      "text/plain": [
       "\u001b[2;36m[22:06:27]\u001b[0m\u001b[2;36m \u001b[0m\u001b[34mINFO    \u001b[0m Predictions saved to                                                                           \n",
       "\u001b[2;36m           \u001b[0m         \u001b[32m/mnt/d/Declich/GitHub/UMD/projects/trained_models/ABMIL-I3LUNG-AD-noqc-nostainnorm/00023-uni/pr\u001b[0m\n",
       "\u001b[2;36m           \u001b[0m         \u001b[32medictions.parquet\u001b[0m                                                                              \n"
      ]
     },
     "metadata": {},
     "output_type": "display_data"
    },
    {
     "data": {
      "text/html": [
       "<pre style=\"white-space:pre;overflow-x:auto;line-height:normal;font-family:Menlo,'DejaVu Sans Mono',consolas,'Courier New',monospace\"><span style=\"color: #7fbfbf; text-decoration-color: #7fbfbf\">           </span><span style=\"color: #000080; text-decoration-color: #000080\">INFO    </span> Validation metrics for outcome <span style=\"color: #008000; text-decoration-color: #008000\">HISTOLOGY</span>:                                                      \n",
       "</pre>\n"
      ],
      "text/plain": [
       "\u001b[2;36m          \u001b[0m\u001b[2;36m \u001b[0m\u001b[34mINFO    \u001b[0m Validation metrics for outcome \u001b[32mHISTOLOGY\u001b[0m:                                                      \n"
      ]
     },
     "metadata": {},
     "output_type": "display_data"
    },
    {
     "data": {
      "text/html": [
       "<pre style=\"white-space:pre;overflow-x:auto;line-height:normal;font-family:Menlo,'DejaVu Sans Mono',consolas,'Courier New',monospace\"><span style=\"color: #7fbfbf; text-decoration-color: #7fbfbf\">           </span><span style=\"color: #000080; text-decoration-color: #000080\">INFO    </span> slide-level AUC (cat # 0): 0.933 AP: 0.979 (opt. threshold: 0.546)                             \n",
       "</pre>\n"
      ],
      "text/plain": [
       "\u001b[2;36m          \u001b[0m\u001b[2;36m \u001b[0m\u001b[34mINFO    \u001b[0m slide-level AUC (cat # 0): 0.933 AP: 0.979 (opt. threshold: 0.546)                             \n"
      ]
     },
     "metadata": {},
     "output_type": "display_data"
    },
    {
     "data": {
      "text/html": [
       "<pre style=\"white-space:pre;overflow-x:auto;line-height:normal;font-family:Menlo,'DejaVu Sans Mono',consolas,'Courier New',monospace\"><span style=\"color: #7fbfbf; text-decoration-color: #7fbfbf\">           </span><span style=\"color: #000080; text-decoration-color: #000080\">INFO    </span> slide-level AUC (cat # 1): 0.933 AP: 0.856 (opt. threshold: 0.463)                             \n",
       "</pre>\n"
      ],
      "text/plain": [
       "\u001b[2;36m          \u001b[0m\u001b[2;36m \u001b[0m\u001b[34mINFO    \u001b[0m slide-level AUC (cat # 1): 0.933 AP: 0.856 (opt. threshold: 0.463)                             \n"
      ]
     },
     "metadata": {},
     "output_type": "display_data"
    },
    {
     "data": {
      "text/html": [
       "<pre style=\"white-space:pre;overflow-x:auto;line-height:normal;font-family:Menlo,'DejaVu Sans Mono',consolas,'Courier New',monospace\"><span style=\"color: #7fbfbf; text-decoration-color: #7fbfbf\">           </span><span style=\"color: #000080; text-decoration-color: #000080\">INFO    </span> Category 0 acc: 82.7% (81/98)                                                                  \n",
       "</pre>\n"
      ],
      "text/plain": [
       "\u001b[2;36m          \u001b[0m\u001b[2;36m \u001b[0m\u001b[34mINFO    \u001b[0m Category 0 acc: 82.7% (81/98)                                                                  \n"
      ]
     },
     "metadata": {},
     "output_type": "display_data"
    },
    {
     "data": {
      "text/html": [
       "<pre style=\"white-space:pre;overflow-x:auto;line-height:normal;font-family:Menlo,'DejaVu Sans Mono',consolas,'Courier New',monospace\"><span style=\"color: #7fbfbf; text-decoration-color: #7fbfbf\">           </span><span style=\"color: #000080; text-decoration-color: #000080\">INFO    </span> Category 1 acc: 86.2% (25/29)                                                                  \n",
       "</pre>\n"
      ],
      "text/plain": [
       "\u001b[2;36m          \u001b[0m\u001b[2;36m \u001b[0m\u001b[34mINFO    \u001b[0m Category 1 acc: 86.2% (25/29)                                                                  \n"
      ]
     },
     "metadata": {},
     "output_type": "display_data"
    },
    {
     "data": {
      "text/html": [
       "<pre style=\"white-space:pre;overflow-x:auto;line-height:normal;font-family:Menlo,'DejaVu Sans Mono',consolas,'Courier New',monospace\"><span style=\"color: #7fbfbf; text-decoration-color: #7fbfbf\">[22:06:29] </span><span style=\"color: #000080; text-decoration-color: #000080\">INFO    </span> Attention scores exported to                                                                   \n",
       "<span style=\"color: #7fbfbf; text-decoration-color: #7fbfbf\">           </span>         <span style=\"color: #008000; text-decoration-color: #008000\">/mnt/d/Declich/GitHub/UMD/projects/trained_models/ABMIL-I3LUNG-AD-noqc-nostainnorm/00023-uni/at</span>\n",
       "<span style=\"color: #7fbfbf; text-decoration-color: #7fbfbf\">           </span>         <span style=\"color: #008000; text-decoration-color: #008000\">tention/DIG_PAT_1725901955_att.npz</span>                                                             \n",
       "</pre>\n"
      ],
      "text/plain": [
       "\u001b[2;36m[22:06:29]\u001b[0m\u001b[2;36m \u001b[0m\u001b[34mINFO    \u001b[0m Attention scores exported to                                                                   \n",
       "\u001b[2;36m           \u001b[0m         \u001b[32m/mnt/d/Declich/GitHub/UMD/projects/trained_models/ABMIL-I3LUNG-AD-noqc-nostainnorm/00023-uni/at\u001b[0m\n",
       "\u001b[2;36m           \u001b[0m         \u001b[32mtention/DIG_PAT_1725901955_att.npz\u001b[0m                                                             \n"
      ]
     },
     "metadata": {},
     "output_type": "display_data"
    },
    {
     "name": "stdout",
     "output_type": "stream",
     "text": [
      "Random seed set to: 13948414\n"
     ]
    },
    {
     "data": {
      "text/html": [
       "<pre style=\"white-space:pre;overflow-x:auto;line-height:normal;font-family:Menlo,'DejaVu Sans Mono',consolas,'Courier New',monospace\"><span style=\"color: #7fbfbf; text-decoration-color: #7fbfbf\">           </span><span style=\"color: #808000; text-decoration-color: #808000\">WARNING </span> <span style=\"color: #808000; text-decoration-color: #808000\">297 slides missing tfrecords, skipping</span>                                                         \n",
       "</pre>\n"
      ],
      "text/plain": [
       "\u001b[2;36m          \u001b[0m\u001b[2;36m \u001b[0m\u001b[33mWARNING \u001b[0m \u001b[33m297 slides missing tfrecords, skipping\u001b[0m                                                         \n"
      ]
     },
     "metadata": {},
     "output_type": "display_data"
    },
    {
     "data": {
      "text/html": [
       "<pre style=\"white-space:pre;overflow-x:auto;line-height:normal;font-family:Menlo,'DejaVu Sans Mono',consolas,'Courier New',monospace\"><span style=\"color: #7fbfbf; text-decoration-color: #7fbfbf\">           </span><span style=\"color: #000080; text-decoration-color: #000080\">INFO    </span> No training/validation splits file provided.                                                   \n",
       "</pre>\n"
      ],
      "text/plain": [
       "\u001b[2;36m          \u001b[0m\u001b[2;36m \u001b[0m\u001b[34mINFO    \u001b[0m No training/validation splits file provided.                                                   \n"
      ]
     },
     "metadata": {},
     "output_type": "display_data"
    },
    {
     "data": {
      "text/html": [
       "<pre style=\"white-space:pre;overflow-x:auto;line-height:normal;font-family:Menlo,'DejaVu Sans Mono',consolas,'Courier New',monospace\"><span style=\"color: #7fbfbf; text-decoration-color: #7fbfbf\">           </span><span style=\"color: #000080; text-decoration-color: #000080\">INFO    </span> Unable to save or load validation splits.                                                      \n",
       "</pre>\n"
      ],
      "text/plain": [
       "\u001b[2;36m          \u001b[0m\u001b[2;36m \u001b[0m\u001b[34mINFO    \u001b[0m Unable to save or load validation splits.                                                      \n"
      ]
     },
     "metadata": {},
     "output_type": "display_data"
    },
    {
     "data": {
      "text/html": [
       "<pre style=\"white-space:pre;overflow-x:auto;line-height:normal;font-family:Menlo,'DejaVu Sans Mono',consolas,'Courier New',monospace\"><span style=\"color: #7fbfbf; text-decoration-color: #7fbfbf\">           </span><span style=\"color: #000080; text-decoration-color: #000080\">INFO    </span> Training FastAI MIL model with config:                                                         \n",
       "</pre>\n"
      ],
      "text/plain": [
       "\u001b[2;36m          \u001b[0m\u001b[2;36m \u001b[0m\u001b[34mINFO    \u001b[0m Training FastAI MIL model with config:                                                         \n"
      ]
     },
     "metadata": {},
     "output_type": "display_data"
    },
    {
     "data": {
      "text/html": [
       "<pre style=\"white-space:pre;overflow-x:auto;line-height:normal;font-family:Menlo,'DejaVu Sans Mono',consolas,'Courier New',monospace\"><span style=\"color: #7fbfbf; text-decoration-color: #7fbfbf\">           </span><span style=\"color: #000080; text-decoration-color: #000080\">INFO    </span> TrainerConfig(                                                                                 \n",
       "<span style=\"color: #7fbfbf; text-decoration-color: #7fbfbf\">           </span>           lr=0.0001                                                                                    \n",
       "<span style=\"color: #7fbfbf; text-decoration-color: #7fbfbf\">           </span>           wd=1e-05                                                                                     \n",
       "<span style=\"color: #7fbfbf; text-decoration-color: #7fbfbf\">           </span>           bag_size=1024                                                                                \n",
       "<span style=\"color: #7fbfbf; text-decoration-color: #7fbfbf\">           </span>           max_val_bag_size=None                                                                        \n",
       "<span style=\"color: #7fbfbf; text-decoration-color: #7fbfbf\">           </span>           fit_one_cycle=True                                                                           \n",
       "<span style=\"color: #7fbfbf; text-decoration-color: #7fbfbf\">           </span>           epochs=20                                                                                    \n",
       "<span style=\"color: #7fbfbf; text-decoration-color: #7fbfbf\">           </span>           batch_size=16                                                                                \n",
       "<span style=\"color: #7fbfbf; text-decoration-color: #7fbfbf\">           </span>           drop_last=True                                                                               \n",
       "<span style=\"color: #7fbfbf; text-decoration-color: #7fbfbf\">           </span>           save_monitor='valid_loss'                                                                    \n",
       "<span style=\"color: #7fbfbf; text-decoration-color: #7fbfbf\">           </span>           weighted_loss=True                                                                           \n",
       "<span style=\"color: #7fbfbf; text-decoration-color: #7fbfbf\">           </span>           model='attention_mil'                                                                        \n",
       "<span style=\"color: #7fbfbf; text-decoration-color: #7fbfbf\">           </span>           model_kwargs=None                                                                            \n",
       "<span style=\"color: #7fbfbf; text-decoration-color: #7fbfbf\">           </span>           loss='cross_entropy'                                                                         \n",
       "<span style=\"color: #7fbfbf; text-decoration-color: #7fbfbf\">           </span>           use_lens=True                                                                                \n",
       "<span style=\"color: #7fbfbf; text-decoration-color: #7fbfbf\">           </span>         )                                                                                              \n",
       "</pre>\n"
      ],
      "text/plain": [
       "\u001b[2;36m          \u001b[0m\u001b[2;36m \u001b[0m\u001b[34mINFO    \u001b[0m TrainerConfig(                                                                                 \n",
       "\u001b[2;36m           \u001b[0m           lr=0.0001                                                                                    \n",
       "\u001b[2;36m           \u001b[0m           wd=1e-05                                                                                     \n",
       "\u001b[2;36m           \u001b[0m           bag_size=1024                                                                                \n",
       "\u001b[2;36m           \u001b[0m           max_val_bag_size=None                                                                        \n",
       "\u001b[2;36m           \u001b[0m           fit_one_cycle=True                                                                           \n",
       "\u001b[2;36m           \u001b[0m           epochs=20                                                                                    \n",
       "\u001b[2;36m           \u001b[0m           batch_size=16                                                                                \n",
       "\u001b[2;36m           \u001b[0m           drop_last=True                                                                               \n",
       "\u001b[2;36m           \u001b[0m           save_monitor='valid_loss'                                                                    \n",
       "\u001b[2;36m           \u001b[0m           weighted_loss=True                                                                           \n",
       "\u001b[2;36m           \u001b[0m           model='attention_mil'                                                                        \n",
       "\u001b[2;36m           \u001b[0m           model_kwargs=None                                                                            \n",
       "\u001b[2;36m           \u001b[0m           loss='cross_entropy'                                                                         \n",
       "\u001b[2;36m           \u001b[0m           use_lens=True                                                                                \n",
       "\u001b[2;36m           \u001b[0m         )                                                                                              \n"
      ]
     },
     "metadata": {},
     "output_type": "display_data"
    },
    {
     "data": {
      "text/html": [
       "<pre style=\"white-space:pre;overflow-x:auto;line-height:normal;font-family:Menlo,'DejaVu Sans Mono',consolas,'Courier New',monospace\"><span style=\"color: #7fbfbf; text-decoration-color: #7fbfbf\">           </span><span style=\"color: #000080; text-decoration-color: #000080\">INFO    </span> Training dataset: 492 merged bags (from 492 possible slides)                                   \n",
       "</pre>\n"
      ],
      "text/plain": [
       "\u001b[2;36m          \u001b[0m\u001b[2;36m \u001b[0m\u001b[34mINFO    \u001b[0m Training dataset: 492 merged bags (from 492 possible slides)                                   \n"
      ]
     },
     "metadata": {},
     "output_type": "display_data"
    },
    {
     "data": {
      "text/html": [
       "<pre style=\"white-space:pre;overflow-x:auto;line-height:normal;font-family:Menlo,'DejaVu Sans Mono',consolas,'Courier New',monospace\"><span style=\"color: #7fbfbf; text-decoration-color: #7fbfbf\">           </span><span style=\"color: #000080; text-decoration-color: #000080\">INFO    </span> Validation dataset: 126 merged bags (from 126 possible slides)                                 \n",
       "</pre>\n"
      ],
      "text/plain": [
       "\u001b[2;36m          \u001b[0m\u001b[2;36m \u001b[0m\u001b[34mINFO    \u001b[0m Validation dataset: 126 merged bags (from 126 possible slides)                                 \n"
      ]
     },
     "metadata": {},
     "output_type": "display_data"
    },
    {
     "data": {
      "text/html": [
       "<pre style=\"white-space:pre;overflow-x:auto;line-height:normal;font-family:Menlo,'DejaVu Sans Mono',consolas,'Courier New',monospace\"><span style=\"color: #7fbfbf; text-decoration-color: #7fbfbf\">[22:06:31] </span><span style=\"color: #000080; text-decoration-color: #000080\">INFO    </span> Building model <span style=\"font-weight: bold\">Attention_MIL</span> (n_in=1024, n_out=2)                                              \n",
       "</pre>\n"
      ],
      "text/plain": [
       "\u001b[2;36m[22:06:31]\u001b[0m\u001b[2;36m \u001b[0m\u001b[34mINFO    \u001b[0m Building model \u001b[1mAttention_MIL\u001b[0m (n_in=1024, n_out=2)                                              \n"
      ]
     },
     "metadata": {},
     "output_type": "display_data"
    },
    {
     "data": {
      "text/html": [
       "\n",
       "<style>\n",
       "    /* Turns off some styling */\n",
       "    progress {\n",
       "        /* gets rid of default border in Firefox and Opera. */\n",
       "        border: none;\n",
       "        /* Needs to be in here for Safari polyfill so background images work as expected. */\n",
       "        background-size: auto;\n",
       "    }\n",
       "    progress:not([value]), progress:not([value])::-webkit-progress-bar {\n",
       "        background: repeating-linear-gradient(45deg, #7e7e7e, #7e7e7e 10px, #5c5c5c 10px, #5c5c5c 20px);\n",
       "    }\n",
       "    .progress-bar-interrupted, .progress-bar-interrupted::-webkit-progress-bar {\n",
       "        background: #F44336;\n",
       "    }\n",
       "</style>\n"
      ],
      "text/plain": [
       "<IPython.core.display.HTML object>"
      ]
     },
     "metadata": {},
     "output_type": "display_data"
    },
    {
     "data": {
      "text/html": [
       "<table border=\"1\" class=\"dataframe\">\n",
       "  <thead>\n",
       "    <tr style=\"text-align: left;\">\n",
       "      <th>epoch</th>\n",
       "      <th>train_loss</th>\n",
       "      <th>valid_loss</th>\n",
       "      <th>roc_auc_score</th>\n",
       "      <th>time</th>\n",
       "    </tr>\n",
       "  </thead>\n",
       "  <tbody>\n",
       "    <tr>\n",
       "      <td>0</td>\n",
       "      <td>0.311687</td>\n",
       "      <td>0.232034</td>\n",
       "      <td>0.431381</td>\n",
       "      <td>00:53</td>\n",
       "    </tr>\n",
       "    <tr>\n",
       "      <td>1</td>\n",
       "      <td>0.285789</td>\n",
       "      <td>0.226182</td>\n",
       "      <td>0.551136</td>\n",
       "      <td>00:54</td>\n",
       "    </tr>\n",
       "    <tr>\n",
       "      <td>2</td>\n",
       "      <td>0.261230</td>\n",
       "      <td>0.210706</td>\n",
       "      <td>0.684003</td>\n",
       "      <td>00:54</td>\n",
       "    </tr>\n",
       "    <tr>\n",
       "      <td>3</td>\n",
       "      <td>0.236469</td>\n",
       "      <td>0.202417</td>\n",
       "      <td>0.746066</td>\n",
       "      <td>00:53</td>\n",
       "    </tr>\n",
       "    <tr>\n",
       "      <td>4</td>\n",
       "      <td>0.209541</td>\n",
       "      <td>0.205952</td>\n",
       "      <td>0.786713</td>\n",
       "      <td>00:55</td>\n",
       "    </tr>\n",
       "    <tr>\n",
       "      <td>5</td>\n",
       "      <td>0.184209</td>\n",
       "      <td>0.176756</td>\n",
       "      <td>0.854458</td>\n",
       "      <td>00:53</td>\n",
       "    </tr>\n",
       "    <tr>\n",
       "      <td>6</td>\n",
       "      <td>0.161024</td>\n",
       "      <td>0.146486</td>\n",
       "      <td>0.907343</td>\n",
       "      <td>00:54</td>\n",
       "    </tr>\n",
       "    <tr>\n",
       "      <td>7</td>\n",
       "      <td>0.141473</td>\n",
       "      <td>0.158647</td>\n",
       "      <td>0.893794</td>\n",
       "      <td>00:56</td>\n",
       "    </tr>\n",
       "    <tr>\n",
       "      <td>8</td>\n",
       "      <td>0.122590</td>\n",
       "      <td>0.143101</td>\n",
       "      <td>0.916521</td>\n",
       "      <td>00:54</td>\n",
       "    </tr>\n",
       "    <tr>\n",
       "      <td>9</td>\n",
       "      <td>0.119880</td>\n",
       "      <td>0.146200</td>\n",
       "      <td>0.925262</td>\n",
       "      <td>00:55</td>\n",
       "    </tr>\n",
       "    <tr>\n",
       "      <td>10</td>\n",
       "      <td>0.109175</td>\n",
       "      <td>0.141666</td>\n",
       "      <td>0.923514</td>\n",
       "      <td>00:55</td>\n",
       "    </tr>\n",
       "    <tr>\n",
       "      <td>11</td>\n",
       "      <td>0.100037</td>\n",
       "      <td>0.133013</td>\n",
       "      <td>0.923951</td>\n",
       "      <td>00:52</td>\n",
       "    </tr>\n",
       "    <tr>\n",
       "      <td>12</td>\n",
       "      <td>0.096154</td>\n",
       "      <td>0.146962</td>\n",
       "      <td>0.918269</td>\n",
       "      <td>00:55</td>\n",
       "    </tr>\n",
       "    <tr>\n",
       "      <td>13</td>\n",
       "      <td>0.088896</td>\n",
       "      <td>0.119681</td>\n",
       "      <td>0.932692</td>\n",
       "      <td>00:54</td>\n",
       "    </tr>\n",
       "    <tr>\n",
       "      <td>14</td>\n",
       "      <td>0.087394</td>\n",
       "      <td>0.139164</td>\n",
       "      <td>0.930944</td>\n",
       "      <td>00:55</td>\n",
       "    </tr>\n",
       "    <tr>\n",
       "      <td>15</td>\n",
       "      <td>0.084015</td>\n",
       "      <td>0.124724</td>\n",
       "      <td>0.931818</td>\n",
       "      <td>00:50</td>\n",
       "    </tr>\n",
       "    <tr>\n",
       "      <td>16</td>\n",
       "      <td>0.080196</td>\n",
       "      <td>0.133464</td>\n",
       "      <td>0.931818</td>\n",
       "      <td>00:53</td>\n",
       "    </tr>\n",
       "    <tr>\n",
       "      <td>17</td>\n",
       "      <td>0.078020</td>\n",
       "      <td>0.137220</td>\n",
       "      <td>0.928759</td>\n",
       "      <td>00:55</td>\n",
       "    </tr>\n",
       "    <tr>\n",
       "      <td>18</td>\n",
       "      <td>0.073433</td>\n",
       "      <td>0.133985</td>\n",
       "      <td>0.930507</td>\n",
       "      <td>00:53</td>\n",
       "    </tr>\n",
       "    <tr>\n",
       "      <td>19</td>\n",
       "      <td>0.074214</td>\n",
       "      <td>0.141588</td>\n",
       "      <td>0.927448</td>\n",
       "      <td>00:55</td>\n",
       "    </tr>\n",
       "  </tbody>\n",
       "</table>"
      ],
      "text/plain": [
       "<IPython.core.display.HTML object>"
      ]
     },
     "metadata": {},
     "output_type": "display_data"
    },
    {
     "name": "stdout",
     "output_type": "stream",
     "text": [
      "Better model found at epoch 0 with valid_loss value: 0.23203401267528534.\n",
      "Better model found at epoch 1 with valid_loss value: 0.22618205845355988.\n",
      "Better model found at epoch 2 with valid_loss value: 0.21070632338523865.\n",
      "Better model found at epoch 3 with valid_loss value: 0.2024168223142624.\n",
      "Better model found at epoch 5 with valid_loss value: 0.17675575613975525.\n",
      "Better model found at epoch 6 with valid_loss value: 0.1464862823486328.\n",
      "Better model found at epoch 8 with valid_loss value: 0.14310145378112793.\n",
      "Better model found at epoch 10 with valid_loss value: 0.14166587591171265.\n",
      "Better model found at epoch 11 with valid_loss value: 0.13301317393779755.\n",
      "Better model found at epoch 13 with valid_loss value: 0.11968107521533966.\n"
     ]
    },
    {
     "data": {
      "text/html": [
       "<pre style=\"white-space:pre;overflow-x:auto;line-height:normal;font-family:Menlo,'DejaVu Sans Mono',consolas,'Courier New',monospace\"><span style=\"color: #7fbfbf; text-decoration-color: #7fbfbf\">[22:24:55] </span><span style=\"color: #000080; text-decoration-color: #000080\">INFO    </span> Predictions saved to                                                                           \n",
       "<span style=\"color: #7fbfbf; text-decoration-color: #7fbfbf\">           </span>         <span style=\"color: #008000; text-decoration-color: #008000\">/mnt/d/Declich/GitHub/UMD/projects/trained_models/ABMIL-I3LUNG-AD-noqc-nostainnorm/00024-uni/pr</span>\n",
       "<span style=\"color: #7fbfbf; text-decoration-color: #7fbfbf\">           </span>         <span style=\"color: #008000; text-decoration-color: #008000\">edictions.parquet</span>                                                                              \n",
       "</pre>\n"
      ],
      "text/plain": [
       "\u001b[2;36m[22:24:55]\u001b[0m\u001b[2;36m \u001b[0m\u001b[34mINFO    \u001b[0m Predictions saved to                                                                           \n",
       "\u001b[2;36m           \u001b[0m         \u001b[32m/mnt/d/Declich/GitHub/UMD/projects/trained_models/ABMIL-I3LUNG-AD-noqc-nostainnorm/00024-uni/pr\u001b[0m\n",
       "\u001b[2;36m           \u001b[0m         \u001b[32medictions.parquet\u001b[0m                                                                              \n"
      ]
     },
     "metadata": {},
     "output_type": "display_data"
    },
    {
     "data": {
      "text/html": [
       "<pre style=\"white-space:pre;overflow-x:auto;line-height:normal;font-family:Menlo,'DejaVu Sans Mono',consolas,'Courier New',monospace\"><span style=\"color: #7fbfbf; text-decoration-color: #7fbfbf\">           </span><span style=\"color: #000080; text-decoration-color: #000080\">INFO    </span> Validation metrics for outcome <span style=\"color: #008000; text-decoration-color: #008000\">HISTOLOGY</span>:                                                      \n",
       "</pre>\n"
      ],
      "text/plain": [
       "\u001b[2;36m          \u001b[0m\u001b[2;36m \u001b[0m\u001b[34mINFO    \u001b[0m Validation metrics for outcome \u001b[32mHISTOLOGY\u001b[0m:                                                      \n"
      ]
     },
     "metadata": {},
     "output_type": "display_data"
    },
    {
     "data": {
      "text/html": [
       "<pre style=\"white-space:pre;overflow-x:auto;line-height:normal;font-family:Menlo,'DejaVu Sans Mono',consolas,'Courier New',monospace\"><span style=\"color: #7fbfbf; text-decoration-color: #7fbfbf\">           </span><span style=\"color: #000080; text-decoration-color: #000080\">INFO    </span> slide-level AUC (cat # 0): 0.933 AP: 0.983 (opt. threshold: 0.459)                             \n",
       "</pre>\n"
      ],
      "text/plain": [
       "\u001b[2;36m          \u001b[0m\u001b[2;36m \u001b[0m\u001b[34mINFO    \u001b[0m slide-level AUC (cat # 0): 0.933 AP: 0.983 (opt. threshold: 0.459)                             \n"
      ]
     },
     "metadata": {},
     "output_type": "display_data"
    },
    {
     "data": {
      "text/html": [
       "<pre style=\"white-space:pre;overflow-x:auto;line-height:normal;font-family:Menlo,'DejaVu Sans Mono',consolas,'Courier New',monospace\"><span style=\"color: #7fbfbf; text-decoration-color: #7fbfbf\">           </span><span style=\"color: #000080; text-decoration-color: #000080\">INFO    </span> slide-level AUC (cat # 1): 0.933 AP: 0.821 (opt. threshold: 0.560)                             \n",
       "</pre>\n"
      ],
      "text/plain": [
       "\u001b[2;36m          \u001b[0m\u001b[2;36m \u001b[0m\u001b[34mINFO    \u001b[0m slide-level AUC (cat # 1): 0.933 AP: 0.821 (opt. threshold: 0.560)                             \n"
      ]
     },
     "metadata": {},
     "output_type": "display_data"
    },
    {
     "data": {
      "text/html": [
       "<pre style=\"white-space:pre;overflow-x:auto;line-height:normal;font-family:Menlo,'DejaVu Sans Mono',consolas,'Courier New',monospace\"><span style=\"color: #7fbfbf; text-decoration-color: #7fbfbf\">           </span><span style=\"color: #000080; text-decoration-color: #000080\">INFO    </span> Category 0 acc: 81.7% (85/104)                                                                 \n",
       "</pre>\n"
      ],
      "text/plain": [
       "\u001b[2;36m          \u001b[0m\u001b[2;36m \u001b[0m\u001b[34mINFO    \u001b[0m Category 0 acc: 81.7% (85/104)                                                                 \n"
      ]
     },
     "metadata": {},
     "output_type": "display_data"
    },
    {
     "data": {
      "text/html": [
       "<pre style=\"white-space:pre;overflow-x:auto;line-height:normal;font-family:Menlo,'DejaVu Sans Mono',consolas,'Courier New',monospace\"><span style=\"color: #7fbfbf; text-decoration-color: #7fbfbf\">           </span><span style=\"color: #000080; text-decoration-color: #000080\">INFO    </span> Category 1 acc: 95.5% (21/22)                                                                  \n",
       "</pre>\n"
      ],
      "text/plain": [
       "\u001b[2;36m          \u001b[0m\u001b[2;36m \u001b[0m\u001b[34mINFO    \u001b[0m Category 1 acc: 95.5% (21/22)                                                                  \n"
      ]
     },
     "metadata": {},
     "output_type": "display_data"
    },
    {
     "data": {
      "text/html": [
       "<pre style=\"white-space:pre;overflow-x:auto;line-height:normal;font-family:Menlo,'DejaVu Sans Mono',consolas,'Courier New',monospace\"><span style=\"color: #7fbfbf; text-decoration-color: #7fbfbf\">[22:24:56] </span><span style=\"color: #000080; text-decoration-color: #000080\">INFO    </span> Attention scores exported to                                                                   \n",
       "<span style=\"color: #7fbfbf; text-decoration-color: #7fbfbf\">           </span>         <span style=\"color: #008000; text-decoration-color: #008000\">/mnt/d/Declich/GitHub/UMD/projects/trained_models/ABMIL-I3LUNG-AD-noqc-nostainnorm/00024-uni/at</span>\n",
       "<span style=\"color: #7fbfbf; text-decoration-color: #7fbfbf\">           </span>         <span style=\"color: #008000; text-decoration-color: #008000\">tention/DIG_PAT_1725901870_att.npz</span>                                                             \n",
       "</pre>\n"
      ],
      "text/plain": [
       "\u001b[2;36m[22:24:56]\u001b[0m\u001b[2;36m \u001b[0m\u001b[34mINFO    \u001b[0m Attention scores exported to                                                                   \n",
       "\u001b[2;36m           \u001b[0m         \u001b[32m/mnt/d/Declich/GitHub/UMD/projects/trained_models/ABMIL-I3LUNG-AD-noqc-nostainnorm/00024-uni/at\u001b[0m\n",
       "\u001b[2;36m           \u001b[0m         \u001b[32mtention/DIG_PAT_1725901870_att.npz\u001b[0m                                                             \n"
      ]
     },
     "metadata": {},
     "output_type": "display_data"
    },
    {
     "name": "stdout",
     "output_type": "stream",
     "text": [
      "/mnt/d/Declich/GitHub/UMD/projects/trained_models/ABMIL-I3LUNG-AD-noqc-nostainnorm\n"
     ]
    },
    {
     "ename": "IndexError",
     "evalue": "list index out of range",
     "output_type": "error",
     "traceback": [
      "\u001b[0;31m---------------------------------------------------------------------------\u001b[0m",
      "\u001b[0;31mIndexError\u001b[0m                                Traceback (most recent call last)",
      "Cell \u001b[0;32mIn[2], line 4\u001b[0m\n\u001b[1;32m      2\u001b[0m \u001b[38;5;28;01mfor\u001b[39;00m i \u001b[38;5;129;01min\u001b[39;00m \u001b[38;5;28mrange\u001b[39m(\u001b[38;5;241m3\u001b[39m):\n\u001b[1;32m      3\u001b[0m     tag \u001b[38;5;241m=\u001b[39m tag_list[i]\n\u001b[0;32m----> 4\u001b[0m     dir_uni \u001b[38;5;241m=\u001b[39m \u001b[43mlist_dir_uni\u001b[49m\u001b[43m[\u001b[49m\u001b[43mi\u001b[49m\u001b[43m]\u001b[49m\n\u001b[1;32m      5\u001b[0m     source \u001b[38;5;241m=\u001b[39m \u001b[38;5;124m\"\u001b[39m\u001b[38;5;124mINT\u001b[39m\u001b[38;5;124m\"\u001b[39m\n\u001b[1;32m      6\u001b[0m     get_ipython()\u001b[38;5;241m.\u001b[39mrun_line_magic(\u001b[38;5;124m'\u001b[39m\u001b[38;5;124mrun\u001b[39m\u001b[38;5;124m'\u001b[39m, \u001b[38;5;124m'\u001b[39m\u001b[38;5;124m\"\u001b[39m\u001b[38;5;124m4. I3LUNG-SA-Uni-Training.ipynb\u001b[39m\u001b[38;5;124m\"\u001b[39m\u001b[38;5;124m'\u001b[39m)\n",
      "\u001b[0;31mIndexError\u001b[0m: list index out of range"
     ]
    }
   ],
   "source": [
    "project_path = projects_list[0]\n",
    "for i in range(3):\n",
    "    tag = tag_list[i]\n",
    "    dir_uni = list_dir_uni[i]\n",
    "    source = \"INT\"\n",
    "    %run \"4. I3LUNG-SA-Uni-Training.ipynb\""
   ]
  },
  {
   "cell_type": "code",
   "execution_count": null,
   "metadata": {},
   "outputs": [],
   "source": [
    "project_path = projects_list[1]\n",
    "for i in range(3):\n",
    "    tag = tag_list_2[i]\n",
    "    dir_uni = list_dir_uni[i]\n",
    "    source = \"INT-QC\"\n",
    "    %run \"4. I3LUNG-SA-Uni-Training.ipynb\""
   ]
  }
 ],
 "metadata": {
  "kernelspec": {
   "display_name": "sf3",
   "language": "python",
   "name": "python3"
  },
  "language_info": {
   "codemirror_mode": {
    "name": "ipython",
    "version": 3
   },
   "file_extension": ".py",
   "mimetype": "text/x-python",
   "name": "python",
   "nbconvert_exporter": "python",
   "pygments_lexer": "ipython3",
   "version": "3.9.18"
  }
 },
 "nbformat": 4,
 "nbformat_minor": 2
}
