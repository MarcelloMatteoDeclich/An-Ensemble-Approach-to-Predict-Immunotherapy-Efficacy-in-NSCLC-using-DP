{
 "cells": [
  {
   "cell_type": "code",
   "execution_count": null,
   "metadata": {},
   "outputs": [],
   "source": [
    "list_dir_uni = [\"/mnt/d/Declich/bags/uni/no-qc/10x No Gaussian\"\n",
    "                ]\n",
    "\n",
    "projects_list  = [\"projects/I3lung-sqad-project\", \n",
    "                  \"projects/I3lung-sqadqc-project\",\n",
    "]\n",
    "\n",
    "tag_list = ['ABMIL-I3LUNG-AD-noqc-nostainnorm',\n",
    "            'ABMIL-I3LUNG-AD-noqc-macenko_fast',\n",
    "            'ABMIL-I3LUNG-AD-noqc-reinhard_fast']\n",
    "\n",
    "tag_list_2 = ['ABMIL-I3LUNG-AD-qc-nostainnorm',\n",
    "            'ABMIL-I3LUNG-AD-qc-macenko_fast',\n",
    "            'ABMIL-I3LUNG-AD-qc-reinhard_fast']\n",
    "\n",
    "\n",
    "import sys\n",
    "sys.path.append(\"..\")\n",
    "from my_library.config import *\n"
   ]
  },
  {
   "cell_type": "code",
   "execution_count": null,
   "metadata": {},
   "outputs": [],
   "source": [
    "project_path = projects_list[0]\n",
    "for i in range(3):\n",
    "    tag = tag_list[i]\n",
    "    dir_uni = list_dir_uni[i]\n",
    "    source = \"INT\"\n",
    "    %run \"4. I3LUNG-SA-Uni-Training.ipynb\""
   ]
  },
  {
   "cell_type": "code",
   "execution_count": null,
   "metadata": {},
   "outputs": [],
   "source": [
    "project_path = projects_list[1]\n",
    "for i in range(3):\n",
    "    tag = tag_list_2[i]\n",
    "    dir_uni = list_dir_uni[i]\n",
    "    source = \"INT-QC\"\n",
    "    %run \"4. I3LUNG-SA-Uni-Training.ipynb\""
   ]
  }
 ],
 "metadata": {
  "kernelspec": {
   "display_name": "sf3",
   "language": "python",
   "name": "python3"
  },
  "language_info": {
   "codemirror_mode": {
    "name": "ipython",
    "version": 3
   },
   "file_extension": ".py",
   "mimetype": "text/x-python",
   "name": "python",
   "nbconvert_exporter": "python",
   "pygments_lexer": "ipython3",
   "version": "3.9.18"
  }
 },
 "nbformat": 4,
 "nbformat_minor": 2
}
