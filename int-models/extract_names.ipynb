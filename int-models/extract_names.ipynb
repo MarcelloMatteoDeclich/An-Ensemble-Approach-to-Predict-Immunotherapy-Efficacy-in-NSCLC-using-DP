{
 "cells": [
  {
   "cell_type": "code",
   "execution_count": null,
   "metadata": {},
   "outputs": [],
   "source": [
    "import pandas as pd\n",
    "csv_df = pd.read_csv(\"/home/mmd/Documents/GitHub/UMD/projects/I3lung-sqadqc-project/annotations.csv\")\n"
   ]
  },
  {
   "cell_type": "code",
   "execution_count": null,
   "metadata": {},
   "outputs": [],
   "source": [
    "import pandas as pd\n",
    "\n",
    "# Install requirements if needed:\n",
    "# pip install pyarrow\n",
    "\n",
    "# Read the Parquet file\n",
    "path = \"/home/mmd/Documents/GitHub/UMD/eval/train/pdl1-3/inner_iteration_1/00000-attention_mil\"\n",
    "df_predictions = pd.read_parquet(path + \"/predictions.parquet\")\n",
    "\n",
    "# Explore the data\n",
    "print(df_predictions.head())\n",
    "print(df_predictions.info())\n",
    "\n",
    "df_predictions"
   ]
  },
  {
   "cell_type": "code",
   "execution_count": null,
   "metadata": {},
   "outputs": [],
   "source": [
    "csv_df"
   ]
  },
  {
   "cell_type": "code",
   "execution_count": null,
   "metadata": {},
   "outputs": [],
   "source": [
    "df_joined = pd.merge(df_predictions, csv_df, on ='slide', how = 'left')"
   ]
  },
  {
   "cell_type": "code",
   "execution_count": null,
   "metadata": {},
   "outputs": [],
   "source": [
    "df_joined"
   ]
  },
  {
   "cell_type": "code",
   "execution_count": null,
   "metadata": {},
   "outputs": [],
   "source": [
    "\n",
    "\n",
    "# Distribution of values in 'category'\n",
    "distribution = df_joined[\"PDL1_CATHEGORY\"].value_counts()\n",
    "print(distribution)\n"
   ]
  },
  {
   "cell_type": "code",
   "execution_count": null,
   "metadata": {},
   "outputs": [],
   "source": [
    "import os\n",
    "\n",
    "root_dir = \"../eval/train/pdl1-3\"\n",
    "\n",
    "train_parquet_paths = []\n",
    "val_parquet_paths = []\n",
    "test_parquet_paths = []\n",
    "\n",
    "for dirpath, dirnames, filenames in os.walk(root_dir):\n",
    "    # Check if the folder name contains \"attention\"\n",
    "    if \"attention\" in os.path.basename(dirpath).lower():\n",
    "\n",
    "        # If you want to do something with each file inside those folders\n",
    "        for f in filenames:\n",
    "            file_path = os.path.join(dirpath, f)\n",
    "            if f.lower().endswith(\".parquet\"):\n",
    "                #print(f\"   This is a Parquet file: {file_path}\")\n",
    "                train_parquet_paths.append(file_path)\n",
    "train_parquet_paths.sort()\n",
    "\n",
    "#print(\"Sorted Parquet paths:\")\n",
    "#for path in train_parquet_paths:\n",
    "#    print(path)\n",
    "\n",
    "root_dir = \"../eval/val/pdl1-3\"\n",
    "\n",
    "for dirpath, dirnames, filenames in os.walk(root_dir):\n",
    "    # Check if the folder name contains \"attention\"\n",
    "    if \"attention\" in os.path.basename(dirpath).lower():\n",
    "\n",
    "        # If you want to do something with each file inside those folders\n",
    "        for f in filenames:\n",
    "            file_path = os.path.join(dirpath, f)\n",
    "            if f.lower().endswith(\".parquet\"):\n",
    "                #print(f\"   This is a Parquet file: {file_path}\")\n",
    "                val_parquet_paths.append(file_path)\n",
    "val_parquet_paths.sort()\n",
    "\n",
    "\n",
    "root_dir = \"../eval/test-int/pdl1-3\"\n",
    "\n",
    "for dirpath, dirnames, filenames in os.walk(root_dir):\n",
    "    # Check if the folder name contains \"attention\"\n",
    "    if \"attention\" in os.path.basename(dirpath).lower():\n",
    "\n",
    "        # If you want to do something with each file inside those folders\n",
    "        for f in filenames:\n",
    "            file_path = os.path.join(dirpath, f)\n",
    "            if f.lower().endswith(\".parquet\"):\n",
    "                #print(f\"   This is a Parquet file: {file_path}\")\n",
    "                test_parquet_paths.append(file_path)\n",
    "test_parquet_paths.sort()\n"
   ]
  },
  {
   "cell_type": "code",
   "execution_count": null,
   "metadata": {},
   "outputs": [],
   "source": [
    "val_parquet_paths"
   ]
  },
  {
   "cell_type": "code",
   "execution_count": null,
   "metadata": {},
   "outputs": [],
   "source": [
    "test_parquet_paths"
   ]
  },
  {
   "cell_type": "code",
   "execution_count": null,
   "metadata": {},
   "outputs": [],
   "source": [
    "metrics_list = []\n",
    "numbers = []\n",
    "desired_order = [\"< 1 %\", \"1-49 %\", \">=50 %\"]\n",
    "\n",
    "for i in train_parquet_paths:\n",
    "    df_predictions = pd.read_parquet(i)\n",
    "    df_joined = pd.merge(df_predictions, csv_df, on ='slide', how = 'left')\n",
    "    #print(df_joined)\n",
    "    distribution = df_joined[\"PDL1_CATHEGORY\"].value_counts()\n",
    "    #print(distribution)\n",
    "\n",
    "    distribution.reindex(desired_order)\n",
    "    total = distribution.sum()\n",
    "    numbers.append(total)\n",
    "\n",
    "    metrics_list.append(distribution)\n",
    "    print(\"\")\n",
    "\n",
    "df_train = pd.DataFrame(metrics_list, numbers)\n",
    "display(df_train)\n"
   ]
  },
  {
   "cell_type": "code",
   "execution_count": null,
   "metadata": {},
   "outputs": [],
   "source": [
    "metrics_list = []\n",
    "numbers = []\n",
    "desired_order = [\"< 1 %\", \"1-49 %\", \">=50 %\"]\n",
    "\n",
    "for i in val_parquet_paths:\n",
    "    df_predictions = pd.read_parquet(i)\n",
    "    df_joined = pd.merge(df_predictions, csv_df, on ='slide', how = 'left')\n",
    "    #print(df_joined)\n",
    "    distribution = df_joined[\"PDL1_CATHEGORY\"].value_counts()\n",
    "    #print(distribution)\n",
    "\n",
    "    distribution.reindex(desired_order)\n",
    "    total = distribution.sum()\n",
    "    numbers.append(total)\n",
    "\n",
    "    metrics_list.append(distribution)\n",
    "    print(\"\")\n",
    "\n",
    "df_val = pd.DataFrame(metrics_list, numbers)\n",
    "display(df_val)"
   ]
  },
  {
   "cell_type": "code",
   "execution_count": null,
   "metadata": {},
   "outputs": [],
   "source": [
    "metrics_list = []\n",
    "numbers = []\n",
    "desired_order = [\"< 1 %\", \"1-49 %\", \">=50 %\"]\n",
    "\n",
    "for i in test_parquet_paths:\n",
    "    df_predictions = pd.read_parquet(i)\n",
    "    df_joined = pd.merge(df_predictions, csv_df, on ='slide', how = 'left')\n",
    "    #print(df_joined)\n",
    "    distribution = df_joined[\"PDL1_CATHEGORY\"].value_counts()\n",
    "    #print(distribution)\n",
    "\n",
    "    distribution.reindex(desired_order)\n",
    "    total = distribution.sum()\n",
    "    numbers.append(total)\n",
    "\n",
    "    metrics_list.append(distribution)\n",
    "    print(\"\")\n",
    "\n",
    "df_test = pd.DataFrame(metrics_list, numbers)\n",
    "display(df_test)"
   ]
  },
  {
   "cell_type": "code",
   "execution_count": null,
   "metadata": {},
   "outputs": [],
   "source": [
    "\n",
    "df_train.shape[1]"
   ]
  },
  {
   "cell_type": "code",
   "execution_count": null,
   "metadata": {},
   "outputs": [],
   "source": [
    "df_train=df_train.reset_index()\n",
    "df_val=df_val.reset_index()\n",
    "df_test=df_test.reset_index()\n",
    "df_train.columns = [\"Total number of patients\", \"< 1 %\", \"1-49 %\", \">=50 %\"]\n",
    "df_val .columns = [\"Total number of patients\", \"< 1 %\", \"1-49 %\", \">=50 %\"]\n",
    "df_test.columns = [\"Total number of patients\", \"< 1 %\", \"1-49 %\", \">=50 %\"]\n",
    "\n",
    "\n",
    "df_train_prefixed = df_train.add_suffix(\"_train\")\n",
    "df_val_prefixed   = df_val.add_suffix(\"_val\")\n",
    "df_test_prefixed  = df_test.add_suffix(\"_test\")\n",
    "\n",
    "df_final = pd.concat([df_train_prefixed, df_val_prefixed, df_test_prefixed], axis=1)\n",
    "print(df_final)\n"
   ]
  },
  {
   "cell_type": "code",
   "execution_count": null,
   "metadata": {},
   "outputs": [],
   "source": [
    "display(df_final)"
   ]
  },
  {
   "cell_type": "code",
   "execution_count": null,
   "metadata": {},
   "outputs": [],
   "source": [
    "display(df_final)"
   ]
  },
  {
   "cell_type": "code",
   "execution_count": null,
   "metadata": {},
   "outputs": [],
   "source": [
    "df_final.to_csv(\"pdl1-3.csv\", index=True)"
   ]
  }
 ],
 "metadata": {
  "kernelspec": {
   "display_name": "sf3",
   "language": "python",
   "name": "python3"
  },
  "language_info": {
   "codemirror_mode": {
    "name": "ipython",
    "version": 3
   },
   "file_extension": ".py",
   "mimetype": "text/x-python",
   "name": "python",
   "nbconvert_exporter": "python",
   "pygments_lexer": "ipython3",
   "version": "3.9.13"
  }
 },
 "nbformat": 4,
 "nbformat_minor": 2
}
