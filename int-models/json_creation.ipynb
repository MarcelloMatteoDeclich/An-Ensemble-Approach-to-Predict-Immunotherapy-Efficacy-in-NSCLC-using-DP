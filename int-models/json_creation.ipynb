{
 "cells": [
  {
   "cell_type": "code",
   "execution_count": null,
   "metadata": {},
   "outputs": [],
   "source": [
    "import pandas as pd\n",
    "import os\n",
    "import platform\n",
    "device_name = platform.node()\n",
    "\n",
    "previous_folder = os.getcwd()\n",
    "print (\"This is the working folder: \" + previous_folder)\n",
    "\n",
    "if device_name == 'mmd-MS-7D98': \n",
    "    #This passage is done because everytime I log into the remote server the default folder is:\n",
    "    #/mmd/home and I need to localize the correct folder to load the settings \n",
    "    os.chdir(\"/media/mmd/Samsung_T5/GitHub/UMD\")\n",
    "\n",
    "if previous_folder != os.getcwd(): # This is now the right working folder\n",
    "    print(\"The current working folder has been changed, now the working folder is: \" + os.getcwd())"
   ]
  },
  {
   "cell_type": "code",
   "execution_count": null,
   "metadata": {},
   "outputs": [],
   "source": [
    "from my_library.config import *"
   ]
  },
  {
   "cell_type": "code",
   "execution_count": null,
   "metadata": {},
   "outputs": [],
   "source": [
    "import json\n",
    "file_path_json = working_directory+\"/data_config.json\""
   ]
  },
  {
   "cell_type": "code",
   "execution_count": null,
   "metadata": {},
   "outputs": [],
   "source": [
    "import json\n",
    "import os\n",
    "\n",
    "def update_json(file_path, new_dict, dict_name):\n",
    "    # Check if the JSON file exists\n",
    "    if os.path.exists(file_path):\n",
    "        with open(file_path, \"r\") as f:\n",
    "            try:\n",
    "                data = json.load(f)\n",
    "                if not isinstance(data, dict):\n",
    "                    data = {}  # Reset if not a dictionary\n",
    "            except json.JSONDecodeError:\n",
    "                data = {}  # Reset if invalid JSON\n",
    "    else:\n",
    "        data = {}  # Create new if file does not exist\n",
    "\n",
    "    # Check if the dictionary already exists\n",
    "    if dict_name not in data:\n",
    "        data[dict_name] = new_dict  # Add new dictionary\n",
    "\n",
    "    # Write back to file\n",
    "    with open(file_path, \"w\") as f:\n",
    "        json.dump(data, f, indent=4)"
   ]
  },
  {
   "cell_type": "code",
   "execution_count": null,
   "metadata": {},
   "outputs": [],
   "source": [
    "tags = [\"adsq\", \"br3\", \"pdl1-3\"]\n",
    "columns = [ 'HISTOLOGY', 'BEST_RESPONSE_3','PDL1_CATHEGORY']\n",
    "\n",
    "file_path = \"data_config.json\"\n",
    "update_json(file_path, tags, \"models\")"
   ]
  },
  {
   "cell_type": "code",
   "execution_count": null,
   "metadata": {},
   "outputs": [],
   "source": [
    "projects_list  = [\"projects/I3lung-sqadqc-project\",\n",
    "]\n",
    "project_path = projects_list[0]"
   ]
  },
  {
   "cell_type": "markdown",
   "metadata": {},
   "source": [
    "### labels"
   ]
  },
  {
   "cell_type": "code",
   "execution_count": null,
   "metadata": {},
   "outputs": [],
   "source": [
    "labels = dict(zip(tags, columns))"
   ]
  },
  {
   "cell_type": "code",
   "execution_count": null,
   "metadata": {},
   "outputs": [],
   "source": [
    "print(labels)\n",
    "update_json(file_path_json, labels, \"labels\")"
   ]
  },
  {
   "cell_type": "markdown",
   "metadata": {},
   "source": [
    "### model outdir"
   ]
  },
  {
   "cell_type": "code",
   "execution_count": null,
   "metadata": {},
   "outputs": [],
   "source": [
    "model_outdir_path = []\n",
    "for tag in tags: \n",
    "    temp = os.path.join(working_directory,\"projects\", \"trained_models\",f\"{tag}\")\n",
    "    model_outdir_path.append(temp)\n"
   ]
  },
  {
   "cell_type": "code",
   "execution_count": null,
   "metadata": {},
   "outputs": [],
   "source": [
    "model_outdir = dict(zip(tags, model_outdir_path))\n",
    "print(model_outdir)\n",
    "update_json(file_path_json, model_outdir, \"model_outdir\")"
   ]
  },
  {
   "cell_type": "markdown",
   "metadata": {},
   "source": [
    "### creating filters"
   ]
  },
  {
   "cell_type": "code",
   "execution_count": null,
   "metadata": {},
   "outputs": [],
   "source": [
    "#This code is used to store the filters dinamycally in the json, to load them and train the models.\n",
    "file_path = os.path.join(working_directory, project_path, \"annotations.csv\")  # Replace with your actual file path\n",
    "df = pd.read_csv(file_path) \n",
    "\n",
    "\n",
    "for l,v in labels.items():\n",
    "    filter = {}\n",
    "\n",
    "    # name of the dictionary containing the filter\n",
    "    filter_name = f'filter_{l}'\n",
    "\n",
    "    #extractiong of the only valid values of the columns of the annotations\n",
    "    distinct_values = df[v].dropna().unique().astype(str).tolist()\n",
    "\n",
    "    distinct_values = [item for item in distinct_values if item != 'other']\n",
    "    \n",
    "    #Adding the dictionary to the json\n",
    "    filter[v] = distinct_values\n",
    "\n",
    "    #This is the exact syntax that the filter must have to be accepted by slideflow\n",
    "    display(filter)\n",
    "\n",
    "    update_json(file_path_json, filter, filter_name)\n"
   ]
  },
  {
   "cell_type": "markdown",
   "metadata": {},
   "source": [
    "### br3 converting types to strings"
   ]
  },
  {
   "cell_type": "code",
   "execution_count": null,
   "metadata": {},
   "outputs": [],
   "source": [
    "import json\n",
    "\n",
    "# Open and read the JSON file\n",
    "with open(file_path_json, \"r\") as file:\n",
    "    data = json.load(file)  # Load JSON data into a Python dictionary or list\n",
    "\n",
    "print(data)\n",
    "data.keys()"
   ]
  },
  {
   "cell_type": "code",
   "execution_count": null,
   "metadata": {},
   "outputs": [],
   "source": [
    "# Step 1: Load the .csv file into a DataFrame\n",
    "file_path = os.path.join(working_directory, project_path, \"annotations.csv\")  # Replace with your actual file path\n",
    "df = pd.read_csv(file_path)\n",
    "\n",
    "#The json contains the names of the outcome labels\n",
    "outcome_label = data[\"labels\"][\"br3\"]\n",
    "\n",
    "#converting float values to strings for training with slideflowx\n",
    "df[outcome_label] = df[outcome_label].astype(str)\n",
    "\n",
    "#save annotations back to the .csv file\n",
    "#df.to_csv(file_path, index = False)"
   ]
  }
 ],
 "metadata": {
  "kernelspec": {
   "display_name": "sf3",
   "language": "python",
   "name": "python3"
  },
  "language_info": {
   "codemirror_mode": {
    "name": "ipython",
    "version": 3
   },
   "file_extension": ".py",
   "mimetype": "text/x-python",
   "name": "python",
   "nbconvert_exporter": "python",
   "pygments_lexer": "ipython3",
   "version": "3.9.13"
  }
 },
 "nbformat": 4,
 "nbformat_minor": 2
}
