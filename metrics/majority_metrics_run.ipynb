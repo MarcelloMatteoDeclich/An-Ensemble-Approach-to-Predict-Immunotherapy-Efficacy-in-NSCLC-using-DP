{
 "cells": [
  {
   "cell_type": "code",
   "execution_count": 1,
   "metadata": {},
   "outputs": [
    {
     "name": "stdout",
     "output_type": "stream",
     "text": [
      "This is the working folder: /media/mmd/Samsung_T5/GitHub/UMD/metriche\n",
      "The current working folder has been changed, now the working folder is: /media/mmd/Samsung_T5/GitHub/UMD\n"
     ]
    }
   ],
   "source": [
    "# Import necessary libraries\n",
    "import pandas as pd\n",
    "import os\n",
    "import platform\n",
    "device_name = platform.node()\n",
    "\n",
    "previous_folder = os.getcwd()\n",
    "print (\"This is the working folder: \" + previous_folder)\n",
    "\n",
    "if device_name == 'mmd-MS-7D98': \n",
    "    #This passage is done because everytime I log into the remote server the default folder is:\n",
    "    #/mmd/home and I need to localize the correct folder to load the settings \n",
    "    os.chdir(\"/media/mmd/Samsung_T5/GitHub/UMD\")\n",
    "\n",
    "if previous_folder != os.getcwd(): # This is now the right working folder\n",
    "    print(\"The current working folder has been changed, now the working folder is: \" + os.getcwd())"
   ]
  },
  {
   "cell_type": "code",
   "execution_count": null,
   "metadata": {},
   "outputs": [
    {
     "name": "stderr",
     "output_type": "stream",
     "text": [
      "/home/mmd/anaconda3/envs/sf3/lib/python3.9/site-packages/timm/models/helpers.py:7: FutureWarning: Importing from timm.models.helpers is deprecated, please import via timm.models\n",
      "  warnings.warn(f\"Importing from {__name__} is deprecated, please import via timm.models\", FutureWarning)\n",
      "/home/mmd/anaconda3/envs/sf3/lib/python3.9/site-packages/timm/models/layers/__init__.py:48: FutureWarning: Importing from timm.models.layers is deprecated, please import via timm.layers\n",
      "  warnings.warn(f\"Importing from {__name__} is deprecated, please import via timm.layers\", FutureWarning)\n"
     ]
    },
    {
     "name": "stdout",
     "output_type": "stream",
     "text": [
      "this is the current directory:  /media/mmd/Samsung_T5/GitHub/UMD\n",
      "This is the thesis folder, where all the code is located:  GitHub/UMD\n",
      "Questo è samsung:/media/mmd/Samsung_T5\n"
     ]
    }
   ],
   "source": [
    "import sys\n",
    "sys.path.append(\"..\")\n",
    "sys.path.append(\"my_library\")\n",
    "from my_library.config import *\n",
    "from my_library.metrics.cmp_metrics import *\n",
    "sys.path.append(\"..\")"
   ]
  },
  {
   "cell_type": "markdown",
   "metadata": {},
   "source": [
    "Clear example of spaghetti code\n",
    "I had to rush to obtain the statistics"
   ]
  },
  {
   "cell_type": "code",
   "execution_count": null,
   "metadata": {},
   "outputs": [],
   "source": [
    "#eval = \"ALLeval/eval/test-int\"\n",
    "#eval = \"ALLeval/eval_15folds/test-int\"\n",
    "eval = \"ALLeval/eval_max50slides/test-int\"\n",
    "#eval = \"ALLeval/eval_1_single_fold/test-int\"\n",
    "#setup =\"1 Fold\"\n",
    "#setup =\"15 Fold\"\n",
    "setup = \"5 Folds-Max 50 Tiles\"\n",
    "#setup = \"5 Folds\"\n",
    "\n",
    "#ile_name = \"ABMIL_results_test_set_all models_15_fold.xlsx\"\n",
    "file_name = \"ABMIL_results_test_set_all models_Max50tiles_fold.xlsx\"\n",
    "#file_name = \"ABMIL_results_test_single_model.xlsx\"\n",
    "#file_name = \"ABMIL_results_test_set_all models.xlsx\""
   ]
  },
  {
   "cell_type": "code",
   "execution_count": null,
   "metadata": {},
   "outputs": [
    {
     "name": "stdout",
     "output_type": "stream",
     "text": [
      "adsq\n",
      "This is the working folder: /media/mmd/Samsung_T5/GitHub/UMD\n",
      "Queste sono le lablesdict_values(['adenocarcinoma', 'squamous'])\n",
      "                slide  y_true  y_pred_max_idx_1  y_pred_max_idx_2  \\\n",
      "0  DIG_PAT_1696325152       0                 0                 0   \n",
      "1  DIG_PAT_1696325261       0                 0                 0   \n",
      "2  DIG_PAT_1696325298       0                 0                 1   \n",
      "3  DIG_PAT_1696325346       0                 1                 1   \n",
      "4  DIG_PAT_1696325458       0                 1                 0   \n",
      "\n",
      "   y_pred_max_idx_3  y_pred_max_idx_4  y_pred_max_idx_5  y_pred  \n",
      "0                 0                 0                 0       0  \n",
      "1                 0                 0                 0       0  \n",
      "2                 1                 1                 1       1  \n",
      "3                 1                 0                 0       1  \n",
      "4                 0                 0                 0       0  \n"
     ]
    },
    {
     "data": {
      "text/html": [
       "<div>\n",
       "<style scoped>\n",
       "    .dataframe tbody tr th:only-of-type {\n",
       "        vertical-align: middle;\n",
       "    }\n",
       "\n",
       "    .dataframe tbody tr th {\n",
       "        vertical-align: top;\n",
       "    }\n",
       "\n",
       "    .dataframe thead th {\n",
       "        text-align: right;\n",
       "    }\n",
       "</style>\n",
       "<table border=\"1\" class=\"dataframe\">\n",
       "  <thead>\n",
       "    <tr style=\"text-align: right;\">\n",
       "      <th></th>\n",
       "      <th>Dataset</th>\n",
       "      <th>Fold</th>\n",
       "      <th>Accuracy</th>\n",
       "      <th>Balanced Accuracy</th>\n",
       "      <th>Precision</th>\n",
       "      <th>Recall</th>\n",
       "      <th>F1_score</th>\n",
       "      <th>adenocarcinoma_precision</th>\n",
       "      <th>adenocarcinoma_recall</th>\n",
       "      <th>adenocarcinoma_f1-score</th>\n",
       "      <th>...</th>\n",
       "      <th>squamous_f1-score</th>\n",
       "      <th>squamous_support</th>\n",
       "      <th>macro avg_precision</th>\n",
       "      <th>macro avg_recall</th>\n",
       "      <th>macro avg_f1-score</th>\n",
       "      <th>macro avg_support</th>\n",
       "      <th>weighted avg_precision</th>\n",
       "      <th>weighted avg_recall</th>\n",
       "      <th>weighted avg_f1-score</th>\n",
       "      <th>weighted avg_support</th>\n",
       "    </tr>\n",
       "  </thead>\n",
       "  <tbody>\n",
       "    <tr>\n",
       "      <th>0</th>\n",
       "      <td>test</td>\n",
       "      <td>25</td>\n",
       "      <td>0.767101</td>\n",
       "      <td>0.772062</td>\n",
       "      <td>0.826241</td>\n",
       "      <td>0.767101</td>\n",
       "      <td>0.783078</td>\n",
       "      <td>0.923858</td>\n",
       "      <td>0.763103</td>\n",
       "      <td>0.835821</td>\n",
       "      <td>...</td>\n",
       "      <td>0.59944</td>\n",
       "      <td>137.0</td>\n",
       "      <td>0.705111</td>\n",
       "      <td>0.772062</td>\n",
       "      <td>0.71763</td>\n",
       "      <td>614.0</td>\n",
       "      <td>0.826241</td>\n",
       "      <td>0.767101</td>\n",
       "      <td>0.783078</td>\n",
       "      <td>614.0</td>\n",
       "    </tr>\n",
       "  </tbody>\n",
       "</table>\n",
       "<p>1 rows × 23 columns</p>\n",
       "</div>"
      ],
      "text/plain": [
       "  Dataset  Fold  Accuracy  Balanced Accuracy  Precision    Recall  F1_score  \\\n",
       "0    test    25  0.767101           0.772062   0.826241  0.767101  0.783078   \n",
       "\n",
       "   adenocarcinoma_precision  adenocarcinoma_recall  adenocarcinoma_f1-score  \\\n",
       "0                  0.923858               0.763103                 0.835821   \n",
       "\n",
       "   ...  squamous_f1-score  squamous_support  macro avg_precision  \\\n",
       "0  ...            0.59944             137.0             0.705111   \n",
       "\n",
       "   macro avg_recall  macro avg_f1-score  macro avg_support  \\\n",
       "0          0.772062             0.71763              614.0   \n",
       "\n",
       "   weighted avg_precision  weighted avg_recall  weighted avg_f1-score  \\\n",
       "0                0.826241             0.767101               0.783078   \n",
       "\n",
       "   weighted avg_support  \n",
       "0                 614.0  \n",
       "\n",
       "[1 rows x 23 columns]"
      ]
     },
     "metadata": {},
     "output_type": "display_data"
    },
    {
     "name": "stdout",
     "output_type": "stream",
     "text": [
      "br3\n",
      "This is the working folder: /media/mmd/Samsung_T5/GitHub/UMD\n",
      "Queste sono le lablesdict_values(['0.0', '1.0', '2.0'])\n",
      "                slide  y_true  y_pred_max_idx_1  y_pred_max_idx_2  \\\n",
      "0  DIG_PAT_1696325152       2                 0                 1   \n",
      "1  DIG_PAT_1696325261       1                 0                 0   \n",
      "2  DIG_PAT_1696325298       2                 0                 0   \n",
      "3  DIG_PAT_1696325346       0                 0                 0   \n",
      "4  DIG_PAT_1696325458       0                 1                 2   \n",
      "\n",
      "   y_pred_max_idx_3  y_pred_max_idx_4  y_pred_max_idx_5  y_pred  \n",
      "0                 1                 2                 1     1.0  \n",
      "1                 2                 2                 2     2.0  \n",
      "2                 2                 0                 1     0.0  \n",
      "3                 1                 2                 2     0.0  \n",
      "4                 1                 1                 1     1.0  \n"
     ]
    },
    {
     "data": {
      "text/html": [
       "<div>\n",
       "<style scoped>\n",
       "    .dataframe tbody tr th:only-of-type {\n",
       "        vertical-align: middle;\n",
       "    }\n",
       "\n",
       "    .dataframe tbody tr th {\n",
       "        vertical-align: top;\n",
       "    }\n",
       "\n",
       "    .dataframe thead th {\n",
       "        text-align: right;\n",
       "    }\n",
       "</style>\n",
       "<table border=\"1\" class=\"dataframe\">\n",
       "  <thead>\n",
       "    <tr style=\"text-align: right;\">\n",
       "      <th></th>\n",
       "      <th>Dataset</th>\n",
       "      <th>Fold</th>\n",
       "      <th>Accuracy</th>\n",
       "      <th>Balanced Accuracy</th>\n",
       "      <th>Precision</th>\n",
       "      <th>Recall</th>\n",
       "      <th>F1_score</th>\n",
       "      <th>0.0_precision</th>\n",
       "      <th>0.0_recall</th>\n",
       "      <th>0.0_f1-score</th>\n",
       "      <th>...</th>\n",
       "      <th>2.0_f1-score</th>\n",
       "      <th>2.0_support</th>\n",
       "      <th>macro avg_precision</th>\n",
       "      <th>macro avg_recall</th>\n",
       "      <th>macro avg_f1-score</th>\n",
       "      <th>macro avg_support</th>\n",
       "      <th>weighted avg_precision</th>\n",
       "      <th>weighted avg_recall</th>\n",
       "      <th>weighted avg_f1-score</th>\n",
       "      <th>weighted avg_support</th>\n",
       "    </tr>\n",
       "  </thead>\n",
       "  <tbody>\n",
       "    <tr>\n",
       "      <th>0</th>\n",
       "      <td>test</td>\n",
       "      <td>25</td>\n",
       "      <td>0.376963</td>\n",
       "      <td>0.35576</td>\n",
       "      <td>0.366481</td>\n",
       "      <td>0.376963</td>\n",
       "      <td>0.365313</td>\n",
       "      <td>0.457447</td>\n",
       "      <td>0.53527</td>\n",
       "      <td>0.493308</td>\n",
       "      <td>...</td>\n",
       "      <td>0.229391</td>\n",
       "      <td>174.0</td>\n",
       "      <td>0.352636</td>\n",
       "      <td>0.35576</td>\n",
       "      <td>0.347489</td>\n",
       "      <td>573.0</td>\n",
       "      <td>0.366481</td>\n",
       "      <td>0.376963</td>\n",
       "      <td>0.365313</td>\n",
       "      <td>573.0</td>\n",
       "    </tr>\n",
       "  </tbody>\n",
       "</table>\n",
       "<p>1 rows × 27 columns</p>\n",
       "</div>"
      ],
      "text/plain": [
       "  Dataset  Fold  Accuracy  Balanced Accuracy  Precision    Recall  F1_score  \\\n",
       "0    test    25  0.376963            0.35576   0.366481  0.376963  0.365313   \n",
       "\n",
       "   0.0_precision  0.0_recall  0.0_f1-score  ...  2.0_f1-score  2.0_support  \\\n",
       "0       0.457447     0.53527      0.493308  ...      0.229391        174.0   \n",
       "\n",
       "   macro avg_precision  macro avg_recall  macro avg_f1-score  \\\n",
       "0             0.352636           0.35576            0.347489   \n",
       "\n",
       "   macro avg_support  weighted avg_precision  weighted avg_recall  \\\n",
       "0              573.0                0.366481             0.376963   \n",
       "\n",
       "   weighted avg_f1-score  weighted avg_support  \n",
       "0               0.365313                 573.0  \n",
       "\n",
       "[1 rows x 27 columns]"
      ]
     },
     "metadata": {},
     "output_type": "display_data"
    },
    {
     "name": "stdout",
     "output_type": "stream",
     "text": [
      "pdl1-3\n",
      "This is the working folder: /media/mmd/Samsung_T5/GitHub/UMD\n",
      "Queste sono le lablesdict_values(['1-49 %', '< 1 %', '>=50 %'])\n",
      "                slide  y_true  y_pred_max_idx_1  y_pred_max_idx_2  \\\n",
      "0  DIG_PAT_1696325152       2                 0                 0   \n",
      "1  DIG_PAT_1696325261       0                 1                 0   \n",
      "2  DIG_PAT_1696325298       0                 0                 2   \n",
      "3  DIG_PAT_1696325346       0                 1                 0   \n",
      "4  DIG_PAT_1696325556       2                 2                 2   \n",
      "\n",
      "   y_pred_max_idx_3  y_pred_max_idx_4  y_pred_max_idx_5  y_pred  \n",
      "0                 0                 0                 2     0.0  \n",
      "1                 2                 0                 2     0.0  \n",
      "2                 0                 2                 2     2.0  \n",
      "3                 2                 0                 0     0.0  \n",
      "4                 1                 0                 2     2.0  \n"
     ]
    },
    {
     "data": {
      "text/html": [
       "<div>\n",
       "<style scoped>\n",
       "    .dataframe tbody tr th:only-of-type {\n",
       "        vertical-align: middle;\n",
       "    }\n",
       "\n",
       "    .dataframe tbody tr th {\n",
       "        vertical-align: top;\n",
       "    }\n",
       "\n",
       "    .dataframe thead th {\n",
       "        text-align: right;\n",
       "    }\n",
       "</style>\n",
       "<table border=\"1\" class=\"dataframe\">\n",
       "  <thead>\n",
       "    <tr style=\"text-align: right;\">\n",
       "      <th></th>\n",
       "      <th>Dataset</th>\n",
       "      <th>Fold</th>\n",
       "      <th>Accuracy</th>\n",
       "      <th>Balanced Accuracy</th>\n",
       "      <th>Precision</th>\n",
       "      <th>Recall</th>\n",
       "      <th>F1_score</th>\n",
       "      <th>1-49 %_precision</th>\n",
       "      <th>1-49 %_recall</th>\n",
       "      <th>1-49 %_f1-score</th>\n",
       "      <th>...</th>\n",
       "      <th>&gt;=50 %_f1-score</th>\n",
       "      <th>&gt;=50 %_support</th>\n",
       "      <th>macro avg_precision</th>\n",
       "      <th>macro avg_recall</th>\n",
       "      <th>macro avg_f1-score</th>\n",
       "      <th>macro avg_support</th>\n",
       "      <th>weighted avg_precision</th>\n",
       "      <th>weighted avg_recall</th>\n",
       "      <th>weighted avg_f1-score</th>\n",
       "      <th>weighted avg_support</th>\n",
       "    </tr>\n",
       "  </thead>\n",
       "  <tbody>\n",
       "    <tr>\n",
       "      <th>0</th>\n",
       "      <td>test</td>\n",
       "      <td>25</td>\n",
       "      <td>0.498807</td>\n",
       "      <td>0.497773</td>\n",
       "      <td>0.529623</td>\n",
       "      <td>0.498807</td>\n",
       "      <td>0.492468</td>\n",
       "      <td>0.429204</td>\n",
       "      <td>0.692857</td>\n",
       "      <td>0.530055</td>\n",
       "      <td>...</td>\n",
       "      <td>0.445455</td>\n",
       "      <td>135.0</td>\n",
       "      <td>0.529669</td>\n",
       "      <td>0.497773</td>\n",
       "      <td>0.491836</td>\n",
       "      <td>419.0</td>\n",
       "      <td>0.529623</td>\n",
       "      <td>0.498807</td>\n",
       "      <td>0.492468</td>\n",
       "      <td>419.0</td>\n",
       "    </tr>\n",
       "  </tbody>\n",
       "</table>\n",
       "<p>1 rows × 27 columns</p>\n",
       "</div>"
      ],
      "text/plain": [
       "  Dataset  Fold  Accuracy  Balanced Accuracy  Precision    Recall  F1_score  \\\n",
       "0    test    25  0.498807           0.497773   0.529623  0.498807  0.492468   \n",
       "\n",
       "   1-49 %_precision  1-49 %_recall  1-49 %_f1-score  ...  >=50 %_f1-score  \\\n",
       "0          0.429204       0.692857         0.530055  ...         0.445455   \n",
       "\n",
       "   >=50 %_support  macro avg_precision  macro avg_recall  macro avg_f1-score  \\\n",
       "0           135.0             0.529669          0.497773            0.491836   \n",
       "\n",
       "   macro avg_support  weighted avg_precision  weighted avg_recall  \\\n",
       "0              419.0                0.529623             0.498807   \n",
       "\n",
       "   weighted avg_f1-score  weighted avg_support  \n",
       "0               0.492468                 419.0  \n",
       "\n",
       "[1 rows x 27 columns]"
      ]
     },
     "metadata": {},
     "output_type": "display_data"
    },
    {
     "name": "stdout",
     "output_type": "stream",
     "text": [
      "pdl1-2\n",
      "This is the working folder: /media/mmd/Samsung_T5/GitHub/UMD\n",
      "Queste sono le lablesdict_values(['0-49 %', '>=50 %'])\n",
      "                slide  y_true  y_pred_max_idx_1  y_pred_max_idx_2  \\\n",
      "0  DIG_PAT_1696325152       1                 1                 1   \n",
      "1  DIG_PAT_1696325261       0                 0                 1   \n",
      "2  DIG_PAT_1696325298       0                 0                 1   \n",
      "3  DIG_PAT_1696325346       0                 0                 0   \n",
      "4  DIG_PAT_1696325556       1                 1                 1   \n",
      "\n",
      "   y_pred_max_idx_3  y_pred_max_idx_4  y_pred_max_idx_5  y_pred  \n",
      "0                 0                 0                 1       1  \n",
      "1                 1                 0                 1       1  \n",
      "2                 0                 0                 0       0  \n",
      "3                 1                 0                 0       0  \n",
      "4                 1                 0                 0       1  \n"
     ]
    },
    {
     "data": {
      "text/html": [
       "<div>\n",
       "<style scoped>\n",
       "    .dataframe tbody tr th:only-of-type {\n",
       "        vertical-align: middle;\n",
       "    }\n",
       "\n",
       "    .dataframe tbody tr th {\n",
       "        vertical-align: top;\n",
       "    }\n",
       "\n",
       "    .dataframe thead th {\n",
       "        text-align: right;\n",
       "    }\n",
       "</style>\n",
       "<table border=\"1\" class=\"dataframe\">\n",
       "  <thead>\n",
       "    <tr style=\"text-align: right;\">\n",
       "      <th></th>\n",
       "      <th>Dataset</th>\n",
       "      <th>Fold</th>\n",
       "      <th>Accuracy</th>\n",
       "      <th>Balanced Accuracy</th>\n",
       "      <th>Precision</th>\n",
       "      <th>Recall</th>\n",
       "      <th>F1_score</th>\n",
       "      <th>0-49 %_precision</th>\n",
       "      <th>0-49 %_recall</th>\n",
       "      <th>0-49 %_f1-score</th>\n",
       "      <th>...</th>\n",
       "      <th>&gt;=50 %_f1-score</th>\n",
       "      <th>&gt;=50 %_support</th>\n",
       "      <th>macro avg_precision</th>\n",
       "      <th>macro avg_recall</th>\n",
       "      <th>macro avg_f1-score</th>\n",
       "      <th>macro avg_support</th>\n",
       "      <th>weighted avg_precision</th>\n",
       "      <th>weighted avg_recall</th>\n",
       "      <th>weighted avg_f1-score</th>\n",
       "      <th>weighted avg_support</th>\n",
       "    </tr>\n",
       "  </thead>\n",
       "  <tbody>\n",
       "    <tr>\n",
       "      <th>0</th>\n",
       "      <td>test</td>\n",
       "      <td>25</td>\n",
       "      <td>0.696897</td>\n",
       "      <td>0.718114</td>\n",
       "      <td>0.751577</td>\n",
       "      <td>0.696897</td>\n",
       "      <td>0.70676</td>\n",
       "      <td>0.861751</td>\n",
       "      <td>0.658451</td>\n",
       "      <td>0.746507</td>\n",
       "      <td>...</td>\n",
       "      <td>0.623145</td>\n",
       "      <td>135.0</td>\n",
       "      <td>0.690777</td>\n",
       "      <td>0.718114</td>\n",
       "      <td>0.684826</td>\n",
       "      <td>419.0</td>\n",
       "      <td>0.751577</td>\n",
       "      <td>0.696897</td>\n",
       "      <td>0.70676</td>\n",
       "      <td>419.0</td>\n",
       "    </tr>\n",
       "  </tbody>\n",
       "</table>\n",
       "<p>1 rows × 23 columns</p>\n",
       "</div>"
      ],
      "text/plain": [
       "  Dataset  Fold  Accuracy  Balanced Accuracy  Precision    Recall  F1_score  \\\n",
       "0    test    25  0.696897           0.718114   0.751577  0.696897   0.70676   \n",
       "\n",
       "   0-49 %_precision  0-49 %_recall  0-49 %_f1-score  ...  >=50 %_f1-score  \\\n",
       "0          0.861751       0.658451         0.746507  ...         0.623145   \n",
       "\n",
       "   >=50 %_support  macro avg_precision  macro avg_recall  macro avg_f1-score  \\\n",
       "0           135.0             0.690777          0.718114            0.684826   \n",
       "\n",
       "   macro avg_support  weighted avg_precision  weighted avg_recall  \\\n",
       "0              419.0                0.751577             0.696897   \n",
       "\n",
       "   weighted avg_f1-score  weighted avg_support  \n",
       "0                0.70676                 419.0  \n",
       "\n",
       "[1 rows x 23 columns]"
      ]
     },
     "metadata": {},
     "output_type": "display_data"
    }
   ],
   "source": [
    "base_folder = os.path.join(working_directory,eval)\n",
    "subfolder = [name for name in os.listdir(base_folder) if os.path.isdir(os.path.join(base_folder, name))]\n",
    "\n",
    "results = []\n",
    "intermediate_values = []\n",
    "df_test_list = []\n",
    "\n",
    "for m in subfolder:\n",
    "    df = []\n",
    "    print(m)\n",
    "    root_dir = os.path.join(base_folder, m)\n",
    "\n",
    "    %run -i './metriche/from_parquet.ipynb'\n",
    "\n",
    "    #print(parent_directory)\n",
    "    #compute_metrics(parent_directory, n_classes, parent_directory)\n",
    "    results.append(df)\n",
    "    df_test_list.append(df_test)\n",
    "    intermediate_values.append((m, y_true, y_pred, outcome_labels))\n"
   ]
  },
  {
   "cell_type": "code",
   "execution_count": 5,
   "metadata": {},
   "outputs": [
    {
     "data": {
      "text/plain": [
       "('pdl1-2',\n",
       " array([1, 0, 0, 0, 1, 0, 1, 0, 1, 0, 0, 0, 0, 0, 1, 1, 1, 0, 0, 0, 1, 0,\n",
       "        0, 0, 0, 1, 1, 0, 0, 0, 1, 0, 1, 1, 0, 1, 1, 0, 0, 0, 0, 0, 0, 0,\n",
       "        0, 0, 0, 0, 0, 0, 0, 0, 0, 0, 0, 0, 1, 0, 0, 0, 0, 0, 0, 1, 0, 1,\n",
       "        0, 1, 0, 1, 1, 0, 0, 0, 1, 0, 1, 0, 0, 1, 0, 0, 1, 0, 1, 0, 0, 0,\n",
       "        0, 0, 0, 0, 0, 0, 0, 0, 0, 0, 0, 0, 0, 0, 0, 0, 0, 0, 0, 1, 0, 0,\n",
       "        1, 0, 0, 0, 1, 0, 1, 0, 0, 0, 0, 0, 0, 0, 1, 0, 0, 0, 1, 0, 0, 0,\n",
       "        1, 1, 0, 0, 1, 1, 0, 0, 1, 0, 0, 0, 1, 1, 1, 1, 0, 1, 0, 1, 0, 1,\n",
       "        0, 1, 0, 0, 0, 0, 0, 0, 0, 0, 0, 0, 0, 0, 0, 0, 1, 1, 0, 0, 0, 0,\n",
       "        1, 0, 0, 0, 0, 0, 1, 1, 0, 1, 0, 1, 1, 1, 0, 0, 0, 0, 0, 1, 0, 0,\n",
       "        0, 0, 1, 1, 1, 0, 0, 0, 1, 0, 0, 0, 0, 0, 1, 0, 0, 1, 1, 1, 0, 1,\n",
       "        1, 0, 1, 0, 0, 0, 0, 1, 1, 0, 0, 0, 0, 0, 0, 0, 0, 0, 1, 0, 0, 0,\n",
       "        0, 1, 0, 1, 0, 1, 1, 1, 1, 1, 1, 1, 0, 1, 1, 1, 0, 1, 0, 0, 1, 1,\n",
       "        1, 1, 0, 0, 0, 0, 0, 0, 0, 0, 0, 1, 1, 0, 1, 0, 0, 1, 0, 1, 0, 0,\n",
       "        0, 0, 0, 0, 0, 0, 1, 0, 0, 0, 0, 1, 0, 0, 0, 0, 0, 1, 0, 0, 0, 0,\n",
       "        1, 1, 1, 0, 0, 0, 0, 0, 0, 0, 1, 1, 1, 1, 1, 0, 1, 0, 1, 1, 0, 0,\n",
       "        1, 1, 0, 0, 1, 0, 0, 0, 0, 0, 0, 0, 1, 0, 0, 0, 1, 0, 1, 0, 0, 1,\n",
       "        0, 1, 0, 0, 0, 0, 0, 1, 0, 1, 0, 0, 0, 0, 0, 1, 0, 0, 0, 1, 0, 0,\n",
       "        0, 0, 0, 1, 1, 0, 1, 0, 0, 1, 1, 0, 0, 0, 0, 0, 1, 0, 0, 0, 1, 1,\n",
       "        1, 0, 1, 0, 1, 0, 1, 0, 0, 0, 0, 0, 1, 1, 0, 1, 0, 1, 0, 1, 0, 1,\n",
       "        0]),\n",
       " array([1, 1, 0, 0, 1, 0, 1, 0, 0, 0, 0, 1, 0, 0, 1, 0, 1, 1, 0, 0, 0, 0,\n",
       "        0, 0, 1, 1, 1, 0, 0, 0, 0, 1, 1, 1, 0, 0, 0, 0, 0, 0, 1, 0, 0, 1,\n",
       "        0, 1, 0, 0, 0, 1, 0, 0, 0, 0, 0, 0, 1, 1, 0, 0, 1, 0, 1, 1, 0, 1,\n",
       "        0, 1, 0, 1, 1, 0, 1, 0, 1, 1, 0, 0, 0, 1, 0, 0, 1, 0, 0, 0, 0, 0,\n",
       "        0, 0, 1, 0, 0, 0, 1, 1, 0, 0, 0, 0, 0, 1, 0, 0, 0, 0, 0, 1, 0, 0,\n",
       "        0, 0, 0, 1, 0, 0, 0, 0, 1, 0, 0, 0, 0, 0, 1, 0, 1, 0, 0, 1, 0, 0,\n",
       "        0, 1, 1, 1, 1, 1, 1, 0, 1, 1, 0, 1, 1, 1, 1, 1, 1, 1, 0, 0, 0, 1,\n",
       "        0, 0, 1, 1, 0, 0, 1, 1, 0, 1, 0, 1, 0, 0, 1, 0, 1, 1, 0, 1, 1, 1,\n",
       "        1, 0, 0, 0, 1, 0, 1, 1, 0, 1, 0, 1, 1, 0, 1, 0, 0, 0, 1, 1, 1, 0,\n",
       "        0, 0, 1, 1, 1, 0, 1, 0, 1, 0, 0, 0, 1, 0, 1, 1, 1, 1, 1, 1, 0, 1,\n",
       "        1, 0, 1, 0, 0, 0, 1, 1, 1, 1, 0, 0, 1, 1, 0, 0, 0, 0, 1, 1, 1, 0,\n",
       "        1, 1, 1, 1, 1, 1, 1, 0, 1, 1, 1, 1, 1, 1, 1, 1, 1, 0, 1, 1, 1, 0,\n",
       "        1, 1, 1, 0, 0, 0, 0, 0, 1, 0, 0, 1, 0, 0, 1, 0, 1, 1, 0, 0, 0, 1,\n",
       "        0, 0, 1, 0, 0, 0, 1, 0, 1, 1, 0, 1, 0, 0, 0, 1, 1, 1, 1, 0, 0, 1,\n",
       "        0, 0, 1, 0, 0, 1, 0, 0, 0, 1, 1, 1, 1, 0, 1, 0, 1, 1, 0, 1, 1, 1,\n",
       "        1, 1, 1, 0, 1, 0, 1, 1, 0, 1, 0, 0, 1, 0, 1, 0, 0, 1, 1, 0, 0, 1,\n",
       "        1, 1, 1, 1, 0, 0, 1, 1, 1, 1, 0, 1, 0, 0, 0, 1, 0, 0, 0, 1, 0, 0,\n",
       "        0, 1, 0, 1, 1, 0, 1, 0, 0, 0, 0, 0, 0, 0, 0, 0, 1, 1, 1, 0, 1, 1,\n",
       "        1, 1, 1, 0, 1, 0, 1, 1, 1, 1, 1, 0, 1, 1, 0, 1, 1, 0, 0, 1, 1, 0,\n",
       "        0]),\n",
       " dict_values(['0-49 %', '>=50 %']))"
      ]
     },
     "execution_count": 5,
     "metadata": {},
     "output_type": "execute_result"
    }
   ],
   "source": [
    "intermediate_values[3]"
   ]
  },
  {
   "cell_type": "code",
   "execution_count": 6,
   "metadata": {},
   "outputs": [
    {
     "name": "stdout",
     "output_type": "stream",
     "text": [
      "dict_values(['adenocarcinoma', 'squamous'])\n"
     ]
    },
    {
     "data": {
      "image/png": "[encoded data removed]",
      "text/plain": [
       "<Figure size 800x600 with 2 Axes>"
      ]
     },
     "metadata": {},
     "output_type": "display_data"
    },
    {
     "name": "stdout",
     "output_type": "stream",
     "text": [
      "dict_values(['0.0', '1.0', '2.0'])\n"
     ]
    },
    {
     "data": {
      "image/png": "[encoded data removed]",
      "text/plain": [
       "<Figure size 800x600 with 2 Axes>"
      ]
     },
     "metadata": {},
     "output_type": "display_data"
    },
    {
     "name": "stdout",
     "output_type": "stream",
     "text": [
      "dict_values(['1-49 %', '< 1 %', '>=50 %'])\n"
     ]
    },
    {
     "data": {
      "image/png": "[encoded data removed]",
      "text/plain": [
       "<Figure size 800x600 with 2 Axes>"
      ]
     },
     "metadata": {},
     "output_type": "display_data"
    },
    {
     "data": {
      "image/png": "[encoded data removed]",
      "text/plain": [
       "<Figure size 800x600 with 2 Axes>"
      ]
     },
     "metadata": {},
     "output_type": "display_data"
    },
    {
     "name": "stdout",
     "output_type": "stream",
     "text": [
      "dict_values(['0-49 %', '>=50 %'])\n"
     ]
    },
    {
     "data": {
      "image/png": "[encoded data removed]",
      "text/plain": [
       "<Figure size 800x600 with 2 Axes>"
      ]
     },
     "metadata": {},
     "output_type": "display_data"
    }
   ],
   "source": [
    "for i in intermediate_values:\n",
    "    model, y_true, y_pred, outcome_labels = i\n",
    "\n",
    "    print(outcome_labels)\n",
    "    \n",
    "    labels = [idx for idx, val in enumerate(sorted(set(outcome_labels)))]\n",
    "    conf_matrix = confusion_matrix(y_true, y_pred, labels=labels)\n",
    "    conf_matrix = np.array(conf_matrix)\n",
    "    plot_confusion_matrix_complex(conf_matrix, outcome_labels,  model, setup, working_directory = working_directory, cmap = \"YlGnBu\")\n",
    "\n",
    "\n",
    "    if model == \"pdl1-3\":\n",
    "        outcome_labels = np.array(list(outcome_labels))\n",
    "        outcome_labels[0], outcome_labels[1] = outcome_labels[1], outcome_labels[0]\n",
    "\n",
    "        conf_matrix[[0, 1]] = conf_matrix[[1, 0]]\n",
    "        plot_confusion_matrix_complex(conf_matrix, outcome_labels,  model, setup, working_directory = working_directory, cmap = \"YlGnBu\")\n",
    "    "
   ]
  },
  {
   "cell_type": "code",
   "execution_count": 7,
   "metadata": {},
   "outputs": [
    {
     "data": {
      "text/plain": [
       "'conf_matrix = confusion_matrix(y_true, y_pred, labels=[0,1,2])\\nconf_matrix = np.array(conf_matrix)\\nplot_confusion_matrix_complex(conf_matrix, outcome_labels,  m, \"15 Folds\", \"YlGnBu\")\\n\\noutcome_labels = np.array(list(outcome_labels))\\noutcome_labels[0], outcome_labels[1] = outcome_labels[1], outcome_labels[0]\\n\\nconf_matrix[[0, 1]] = conf_matrix[[1, 0]]\\nplot_confusion_matrix_complex(conf_matrix, outcome_labels,  m, \"15 Folds\", \"YlGnBu\")'"
      ]
     },
     "execution_count": 7,
     "metadata": {},
     "output_type": "execute_result"
    }
   ],
   "source": [
    "\"\"\"conf_matrix = confusion_matrix(y_true, y_pred, labels=[0,1,2])\n",
    "conf_matrix = np.array(conf_matrix)\n",
    "plot_confusion_matrix_complex(conf_matrix, outcome_labels,  m, \"15 Folds\", \"YlGnBu\")\n",
    "\n",
    "outcome_labels = np.array(list(outcome_labels))\n",
    "outcome_labels[0], outcome_labels[1] = outcome_labels[1], outcome_labels[0]\n",
    "\n",
    "conf_matrix[[0, 1]] = conf_matrix[[1, 0]]\n",
    "plot_confusion_matrix_complex(conf_matrix, outcome_labels,  m, \"15 Folds\", \"YlGnBu\")\"\"\""
   ]
  },
  {
   "cell_type": "code",
   "execution_count": 8,
   "metadata": {},
   "outputs": [
    {
     "data": {
      "text/plain": [
       "['adsq', 'br3', 'pdl1-3', 'pdl1-2']"
      ]
     },
     "execution_count": 8,
     "metadata": {},
     "output_type": "execute_result"
    }
   ],
   "source": [
    "subfolder"
   ]
  },
  {
   "cell_type": "code",
   "execution_count": 9,
   "metadata": {},
   "outputs": [],
   "source": [
    "from re import sub\n",
    "\n",
    "df_list = []\n",
    "\n",
    "for i, m in zip(results, subfolder):\n",
    "    transpose_df = i.T\n",
    "    transpose_df = transpose_df.rename(columns={0: m})\n",
    "    #display(transpose_df)\n",
    "    transpose_df = transpose_df.reset_index()\n",
    "    transpose_df.rename(columns={transpose_df.columns[0]: 'MyModel'}, inplace=True)\n",
    "\n",
    "    df_list.append(transpose_df)\n",
    "\n",
    "\n"
   ]
  },
  {
   "cell_type": "code",
   "execution_count": 10,
   "metadata": {},
   "outputs": [
    {
     "data": {
      "text/html": [
       "<div>\n",
       "<style scoped>\n",
       "    .dataframe tbody tr th:only-of-type {\n",
       "        vertical-align: middle;\n",
       "    }\n",
       "\n",
       "    .dataframe tbody tr th {\n",
       "        vertical-align: top;\n",
       "    }\n",
       "\n",
       "    .dataframe thead th {\n",
       "        text-align: right;\n",
       "    }\n",
       "</style>\n",
       "<table border=\"1\" class=\"dataframe\">\n",
       "  <thead>\n",
       "    <tr style=\"text-align: right;\">\n",
       "      <th></th>\n",
       "      <th>MyModel</th>\n",
       "      <th>pdl1-2</th>\n",
       "    </tr>\n",
       "  </thead>\n",
       "  <tbody>\n",
       "    <tr>\n",
       "      <th>0</th>\n",
       "      <td>Dataset</td>\n",
       "      <td>test</td>\n",
       "    </tr>\n",
       "    <tr>\n",
       "      <th>1</th>\n",
       "      <td>Fold</td>\n",
       "      <td>25</td>\n",
       "    </tr>\n",
       "    <tr>\n",
       "      <th>2</th>\n",
       "      <td>Accuracy</td>\n",
       "      <td>0.696897</td>\n",
       "    </tr>\n",
       "    <tr>\n",
       "      <th>3</th>\n",
       "      <td>Balanced Accuracy</td>\n",
       "      <td>0.718114</td>\n",
       "    </tr>\n",
       "    <tr>\n",
       "      <th>4</th>\n",
       "      <td>Precision</td>\n",
       "      <td>0.751577</td>\n",
       "    </tr>\n",
       "    <tr>\n",
       "      <th>5</th>\n",
       "      <td>Recall</td>\n",
       "      <td>0.696897</td>\n",
       "    </tr>\n",
       "    <tr>\n",
       "      <th>6</th>\n",
       "      <td>F1_score</td>\n",
       "      <td>0.70676</td>\n",
       "    </tr>\n",
       "    <tr>\n",
       "      <th>7</th>\n",
       "      <td>0-49 %_precision</td>\n",
       "      <td>0.861751</td>\n",
       "    </tr>\n",
       "    <tr>\n",
       "      <th>8</th>\n",
       "      <td>0-49 %_recall</td>\n",
       "      <td>0.658451</td>\n",
       "    </tr>\n",
       "    <tr>\n",
       "      <th>9</th>\n",
       "      <td>0-49 %_f1-score</td>\n",
       "      <td>0.746507</td>\n",
       "    </tr>\n",
       "    <tr>\n",
       "      <th>10</th>\n",
       "      <td>0-49 %_support</td>\n",
       "      <td>284.0</td>\n",
       "    </tr>\n",
       "    <tr>\n",
       "      <th>11</th>\n",
       "      <td>&gt;=50 %_precision</td>\n",
       "      <td>0.519802</td>\n",
       "    </tr>\n",
       "    <tr>\n",
       "      <th>12</th>\n",
       "      <td>&gt;=50 %_recall</td>\n",
       "      <td>0.777778</td>\n",
       "    </tr>\n",
       "    <tr>\n",
       "      <th>13</th>\n",
       "      <td>&gt;=50 %_f1-score</td>\n",
       "      <td>0.623145</td>\n",
       "    </tr>\n",
       "    <tr>\n",
       "      <th>14</th>\n",
       "      <td>&gt;=50 %_support</td>\n",
       "      <td>135.0</td>\n",
       "    </tr>\n",
       "    <tr>\n",
       "      <th>15</th>\n",
       "      <td>macro avg_precision</td>\n",
       "      <td>0.690777</td>\n",
       "    </tr>\n",
       "    <tr>\n",
       "      <th>16</th>\n",
       "      <td>macro avg_recall</td>\n",
       "      <td>0.718114</td>\n",
       "    </tr>\n",
       "    <tr>\n",
       "      <th>17</th>\n",
       "      <td>macro avg_f1-score</td>\n",
       "      <td>0.684826</td>\n",
       "    </tr>\n",
       "    <tr>\n",
       "      <th>18</th>\n",
       "      <td>macro avg_support</td>\n",
       "      <td>419.0</td>\n",
       "    </tr>\n",
       "    <tr>\n",
       "      <th>19</th>\n",
       "      <td>weighted avg_precision</td>\n",
       "      <td>0.751577</td>\n",
       "    </tr>\n",
       "    <tr>\n",
       "      <th>20</th>\n",
       "      <td>weighted avg_recall</td>\n",
       "      <td>0.696897</td>\n",
       "    </tr>\n",
       "    <tr>\n",
       "      <th>21</th>\n",
       "      <td>weighted avg_f1-score</td>\n",
       "      <td>0.70676</td>\n",
       "    </tr>\n",
       "    <tr>\n",
       "      <th>22</th>\n",
       "      <td>weighted avg_support</td>\n",
       "      <td>419.0</td>\n",
       "    </tr>\n",
       "  </tbody>\n",
       "</table>\n",
       "</div>"
      ],
      "text/plain": [
       "                   MyModel    pdl1-2\n",
       "0                  Dataset      test\n",
       "1                     Fold        25\n",
       "2                 Accuracy  0.696897\n",
       "3        Balanced Accuracy  0.718114\n",
       "4                Precision  0.751577\n",
       "5                   Recall  0.696897\n",
       "6                 F1_score   0.70676\n",
       "7         0-49 %_precision  0.861751\n",
       "8            0-49 %_recall  0.658451\n",
       "9          0-49 %_f1-score  0.746507\n",
       "10          0-49 %_support     284.0\n",
       "11        >=50 %_precision  0.519802\n",
       "12           >=50 %_recall  0.777778\n",
       "13         >=50 %_f1-score  0.623145\n",
       "14          >=50 %_support     135.0\n",
       "15     macro avg_precision  0.690777\n",
       "16        macro avg_recall  0.718114\n",
       "17      macro avg_f1-score  0.684826\n",
       "18       macro avg_support     419.0\n",
       "19  weighted avg_precision  0.751577\n",
       "20     weighted avg_recall  0.696897\n",
       "21   weighted avg_f1-score   0.70676\n",
       "22    weighted avg_support     419.0"
      ]
     },
     "execution_count": 10,
     "metadata": {},
     "output_type": "execute_result"
    }
   ],
   "source": [
    "df_list[3]"
   ]
  },
  {
   "cell_type": "code",
   "execution_count": 11,
   "metadata": {},
   "outputs": [],
   "source": [
    "result_df_1 = pd.concat([df_list[0]] , axis=1)\n",
    "result_df_2 = pd.concat([df_list[1]] , axis=1)\n",
    "result_df_3 = pd.concat([df_list[2]] , axis=1)\n",
    "result_df_4 = pd.concat([df_list[3]] , axis=1)"
   ]
  },
  {
   "cell_type": "code",
   "execution_count": null,
   "metadata": {},
   "outputs": [],
   "source": []
  },
  {
   "cell_type": "code",
   "execution_count": 12,
   "metadata": {},
   "outputs": [],
   "source": [
    "with pd.ExcelWriter(file_name) as writer:\n",
    "    result_df_1.to_excel(writer, sheet_name=\"Best Response 3\", index=False)\n",
    "    result_df_2.to_excel(writer, sheet_name=\"Adeno vs Squamous\", index=False)\n",
    "    result_df_3.to_excel(writer, sheet_name=\"PDL1 3 classes\", index=False)\n",
    "    result_df_4.to_excel(writer, sheet_name=\"PDL1 2 classes\", index=False)"
   ]
  },
  {
   "cell_type": "code",
   "execution_count": 13,
   "metadata": {},
   "outputs": [
    {
     "data": {
      "text/plain": [
       "['adsq', 'br3', 'pdl1-3', 'pdl1-2']"
      ]
     },
     "execution_count": 13,
     "metadata": {},
     "output_type": "execute_result"
    }
   ],
   "source": [
    "subfolder"
   ]
  },
  {
   "cell_type": "code",
   "execution_count": 14,
   "metadata": {},
   "outputs": [
    {
     "data": {
      "text/html": [
       "<div>\n",
       "<style scoped>\n",
       "    .dataframe tbody tr th:only-of-type {\n",
       "        vertical-align: middle;\n",
       "    }\n",
       "\n",
       "    .dataframe tbody tr th {\n",
       "        vertical-align: top;\n",
       "    }\n",
       "\n",
       "    .dataframe thead th {\n",
       "        text-align: right;\n",
       "    }\n",
       "</style>\n",
       "<table border=\"1\" class=\"dataframe\">\n",
       "  <thead>\n",
       "    <tr style=\"text-align: right;\">\n",
       "      <th></th>\n",
       "      <th>slide</th>\n",
       "      <th>y_true</th>\n",
       "      <th>y_pred</th>\n",
       "    </tr>\n",
       "  </thead>\n",
       "  <tbody>\n",
       "    <tr>\n",
       "      <th>0</th>\n",
       "      <td>DIG_PAT_1696325152</td>\n",
       "      <td>0</td>\n",
       "      <td>0</td>\n",
       "    </tr>\n",
       "    <tr>\n",
       "      <th>1</th>\n",
       "      <td>DIG_PAT_1696325261</td>\n",
       "      <td>0</td>\n",
       "      <td>0</td>\n",
       "    </tr>\n",
       "    <tr>\n",
       "      <th>2</th>\n",
       "      <td>DIG_PAT_1696325298</td>\n",
       "      <td>0</td>\n",
       "      <td>1</td>\n",
       "    </tr>\n",
       "    <tr>\n",
       "      <th>3</th>\n",
       "      <td>DIG_PAT_1696325346</td>\n",
       "      <td>0</td>\n",
       "      <td>1</td>\n",
       "    </tr>\n",
       "    <tr>\n",
       "      <th>4</th>\n",
       "      <td>DIG_PAT_1696325458</td>\n",
       "      <td>0</td>\n",
       "      <td>0</td>\n",
       "    </tr>\n",
       "    <tr>\n",
       "      <th>...</th>\n",
       "      <td>...</td>\n",
       "      <td>...</td>\n",
       "      <td>...</td>\n",
       "    </tr>\n",
       "    <tr>\n",
       "      <th>609</th>\n",
       "      <td>DIG_PAT_1725901895</td>\n",
       "      <td>1</td>\n",
       "      <td>1</td>\n",
       "    </tr>\n",
       "    <tr>\n",
       "      <th>610</th>\n",
       "      <td>DIG_PAT_1725901924</td>\n",
       "      <td>1</td>\n",
       "      <td>1</td>\n",
       "    </tr>\n",
       "    <tr>\n",
       "      <th>611</th>\n",
       "      <td>DIG_PAT_1725901955</td>\n",
       "      <td>0</td>\n",
       "      <td>0</td>\n",
       "    </tr>\n",
       "    <tr>\n",
       "      <th>612</th>\n",
       "      <td>DIG_PAT_1725902645</td>\n",
       "      <td>1</td>\n",
       "      <td>1</td>\n",
       "    </tr>\n",
       "    <tr>\n",
       "      <th>613</th>\n",
       "      <td>DIG_PAT_1725902696</td>\n",
       "      <td>1</td>\n",
       "      <td>0</td>\n",
       "    </tr>\n",
       "  </tbody>\n",
       "</table>\n",
       "<p>614 rows × 3 columns</p>\n",
       "</div>"
      ],
      "text/plain": [
       "                  slide  y_true  y_pred\n",
       "0    DIG_PAT_1696325152       0       0\n",
       "1    DIG_PAT_1696325261       0       0\n",
       "2    DIG_PAT_1696325298       0       1\n",
       "3    DIG_PAT_1696325346       0       1\n",
       "4    DIG_PAT_1696325458       0       0\n",
       "..                  ...     ...     ...\n",
       "609  DIG_PAT_1725901895       1       1\n",
       "610  DIG_PAT_1725901924       1       1\n",
       "611  DIG_PAT_1725901955       0       0\n",
       "612  DIG_PAT_1725902645       1       1\n",
       "613  DIG_PAT_1725902696       1       0\n",
       "\n",
       "[614 rows x 3 columns]"
      ]
     },
     "execution_count": 14,
     "metadata": {},
     "output_type": "execute_result"
    }
   ],
   "source": [
    "df_test_list[0]"
   ]
  },
  {
   "cell_type": "code",
   "execution_count": 15,
   "metadata": {},
   "outputs": [
    {
     "data": {
      "text/html": [
       "<div>\n",
       "<style scoped>\n",
       "    .dataframe tbody tr th:only-of-type {\n",
       "        vertical-align: middle;\n",
       "    }\n",
       "\n",
       "    .dataframe tbody tr th {\n",
       "        vertical-align: top;\n",
       "    }\n",
       "\n",
       "    .dataframe thead th {\n",
       "        text-align: right;\n",
       "    }\n",
       "</style>\n",
       "<table border=\"1\" class=\"dataframe\">\n",
       "  <thead>\n",
       "    <tr style=\"text-align: right;\">\n",
       "      <th></th>\n",
       "      <th>slide</th>\n",
       "      <th>y_true</th>\n",
       "      <th>y_pred</th>\n",
       "    </tr>\n",
       "  </thead>\n",
       "  <tbody>\n",
       "    <tr>\n",
       "      <th>0</th>\n",
       "      <td>DIG_PAT_1696325152</td>\n",
       "      <td>2</td>\n",
       "      <td>0.0</td>\n",
       "    </tr>\n",
       "    <tr>\n",
       "      <th>1</th>\n",
       "      <td>DIG_PAT_1696325261</td>\n",
       "      <td>0</td>\n",
       "      <td>0.0</td>\n",
       "    </tr>\n",
       "    <tr>\n",
       "      <th>2</th>\n",
       "      <td>DIG_PAT_1696325298</td>\n",
       "      <td>0</td>\n",
       "      <td>2.0</td>\n",
       "    </tr>\n",
       "    <tr>\n",
       "      <th>3</th>\n",
       "      <td>DIG_PAT_1696325346</td>\n",
       "      <td>0</td>\n",
       "      <td>0.0</td>\n",
       "    </tr>\n",
       "    <tr>\n",
       "      <th>4</th>\n",
       "      <td>DIG_PAT_1696325556</td>\n",
       "      <td>2</td>\n",
       "      <td>2.0</td>\n",
       "    </tr>\n",
       "    <tr>\n",
       "      <th>...</th>\n",
       "      <td>...</td>\n",
       "      <td>...</td>\n",
       "      <td>...</td>\n",
       "    </tr>\n",
       "    <tr>\n",
       "      <th>414</th>\n",
       "      <td>DIG_PAT_1725901798</td>\n",
       "      <td>1</td>\n",
       "      <td>1.0</td>\n",
       "    </tr>\n",
       "    <tr>\n",
       "      <th>415</th>\n",
       "      <td>DIG_PAT_1725901844</td>\n",
       "      <td>2</td>\n",
       "      <td>1.0</td>\n",
       "    </tr>\n",
       "    <tr>\n",
       "      <th>416</th>\n",
       "      <td>DIG_PAT_1725901870</td>\n",
       "      <td>0</td>\n",
       "      <td>2.0</td>\n",
       "    </tr>\n",
       "    <tr>\n",
       "      <th>417</th>\n",
       "      <td>DIG_PAT_1725901895</td>\n",
       "      <td>2</td>\n",
       "      <td>1.0</td>\n",
       "    </tr>\n",
       "    <tr>\n",
       "      <th>418</th>\n",
       "      <td>DIG_PAT_1725901955</td>\n",
       "      <td>0</td>\n",
       "      <td>2.0</td>\n",
       "    </tr>\n",
       "  </tbody>\n",
       "</table>\n",
       "<p>419 rows × 3 columns</p>\n",
       "</div>"
      ],
      "text/plain": [
       "                  slide  y_true  y_pred\n",
       "0    DIG_PAT_1696325152       2     0.0\n",
       "1    DIG_PAT_1696325261       0     0.0\n",
       "2    DIG_PAT_1696325298       0     2.0\n",
       "3    DIG_PAT_1696325346       0     0.0\n",
       "4    DIG_PAT_1696325556       2     2.0\n",
       "..                  ...     ...     ...\n",
       "414  DIG_PAT_1725901798       1     1.0\n",
       "415  DIG_PAT_1725901844       2     1.0\n",
       "416  DIG_PAT_1725901870       0     2.0\n",
       "417  DIG_PAT_1725901895       2     1.0\n",
       "418  DIG_PAT_1725901955       0     2.0\n",
       "\n",
       "[419 rows x 3 columns]"
      ]
     },
     "execution_count": 15,
     "metadata": {},
     "output_type": "execute_result"
    }
   ],
   "source": [
    "df_test_list[2]"
   ]
  },
  {
   "cell_type": "code",
   "execution_count": 16,
   "metadata": {},
   "outputs": [],
   "source": [
    "csv_df = pd.read_csv(f\"{working_directory}/projects/I3lung-sqadqc-project/annotations.csv\")"
   ]
  },
  {
   "cell_type": "code",
   "execution_count": 17,
   "metadata": {},
   "outputs": [
    {
     "name": "stdout",
     "output_type": "stream",
     "text": [
      "{'models': ['adsq', 'br3', 'pdl1-3', 'pdl1-2'], 'labels': {'adsq': 'HISTOLOGY', 'br3': 'BEST_RESPONSE_3', 'pdl1-3': 'PDL1_CATHEGORY', 'pdl1-2': 'PDL1_BINARY'}, 'model_outdir': {'adsq': '/media/mmd/Samsung_T5/GitHub/UMD/projects/trained_models/adsq', 'br3': '/media/mmd/Samsung_T5/GitHub/UMD/projects/trained_models/br3', 'pdl1-3': '/media/mmd/Samsung_T5/GitHub/UMD/projects/trained_models/pdl1-3', 'pdl1-2': '/media/mmd/Samsung_T5/GitHub/UMD/projects/trained_models/pdl1-2'}, 'filter_adsq': {'HISTOLOGY': ['squamous', 'adenocarcinoma']}, 'filter_br3': {'BEST_RESPONSE_3': ['2.0', '1.0', '0.0']}, 'filter_pdl1-3': {'PDL1_CATHEGORY': ['1-49 %', '>=50 %', '< 1 %']}, 'filter_pdl1-2': {'PDL1_BINARY': ['0-49 %', '>=50 %']}}\n"
     ]
    },
    {
     "data": {
      "text/plain": [
       "dict_keys(['models', 'labels', 'model_outdir', 'filter_adsq', 'filter_br3', 'filter_pdl1-3', 'filter_pdl1-2'])"
      ]
     },
     "execution_count": 17,
     "metadata": {},
     "output_type": "execute_result"
    }
   ],
   "source": [
    "file_path = working_directory+\"/data_config.json\"\n",
    "\n",
    "import json\n",
    "\n",
    "# Open and read the JSON file\n",
    "with open(file_path, \"r\") as file:\n",
    "    data = json.load(file)  # Load JSON data into a Python dictionary or list\n",
    "\n",
    "print(data)\n",
    "data.keys()"
   ]
  },
  {
   "cell_type": "code",
   "execution_count": 18,
   "metadata": {},
   "outputs": [],
   "source": [
    "import json"
   ]
  },
  {
   "cell_type": "code",
   "execution_count": 19,
   "metadata": {},
   "outputs": [],
   "source": [
    "labels = list(data[\"labels\"].values())"
   ]
  },
  {
   "cell_type": "code",
   "execution_count": 20,
   "metadata": {},
   "outputs": [
    {
     "data": {
      "text/plain": [
       "['HISTOLOGY', 'BEST_RESPONSE_3', 'PDL1_CATHEGORY', 'PDL1_BINARY']"
      ]
     },
     "execution_count": 20,
     "metadata": {},
     "output_type": "execute_result"
    }
   ],
   "source": [
    "labels"
   ]
  },
  {
   "cell_type": "code",
   "execution_count": 21,
   "metadata": {},
   "outputs": [
    {
     "name": "stdout",
     "output_type": "stream",
     "text": [
      "HISTOLOGY\n",
      "adenocarcinoma    477\n",
      "squamous          137\n",
      "Name: count, dtype: int64\n"
     ]
    },
    {
     "data": {
      "text/html": [
       "<div>\n",
       "<style scoped>\n",
       "    .dataframe tbody tr th:only-of-type {\n",
       "        vertical-align: middle;\n",
       "    }\n",
       "\n",
       "    .dataframe tbody tr th {\n",
       "        vertical-align: top;\n",
       "    }\n",
       "\n",
       "    .dataframe thead th {\n",
       "        text-align: right;\n",
       "    }\n",
       "</style>\n",
       "<table border=\"1\" class=\"dataframe\">\n",
       "  <thead>\n",
       "    <tr style=\"text-align: right;\">\n",
       "      <th></th>\n",
       "      <th>Count</th>\n",
       "      <th>Percentage (%)</th>\n",
       "    </tr>\n",
       "    <tr>\n",
       "      <th>HISTOLOGY</th>\n",
       "      <th></th>\n",
       "      <th></th>\n",
       "    </tr>\n",
       "  </thead>\n",
       "  <tbody>\n",
       "    <tr>\n",
       "      <th>adenocarcinoma</th>\n",
       "      <td>477</td>\n",
       "      <td>77.687296</td>\n",
       "    </tr>\n",
       "    <tr>\n",
       "      <th>squamous</th>\n",
       "      <td>137</td>\n",
       "      <td>22.312704</td>\n",
       "    </tr>\n",
       "  </tbody>\n",
       "</table>\n",
       "</div>"
      ],
      "text/plain": [
       "                Count  Percentage (%)\n",
       "HISTOLOGY                            \n",
       "adenocarcinoma    477       77.687296\n",
       "squamous          137       22.312704"
      ]
     },
     "metadata": {},
     "output_type": "display_data"
    },
    {
     "name": "stdout",
     "output_type": "stream",
     "text": [
      "BEST_RESPONSE_3\n",
      "0.0    241\n",
      "2.0    174\n",
      "1.0    158\n",
      "Name: count, dtype: int64\n"
     ]
    },
    {
     "data": {
      "text/html": [
       "<div>\n",
       "<style scoped>\n",
       "    .dataframe tbody tr th:only-of-type {\n",
       "        vertical-align: middle;\n",
       "    }\n",
       "\n",
       "    .dataframe tbody tr th {\n",
       "        vertical-align: top;\n",
       "    }\n",
       "\n",
       "    .dataframe thead th {\n",
       "        text-align: right;\n",
       "    }\n",
       "</style>\n",
       "<table border=\"1\" class=\"dataframe\">\n",
       "  <thead>\n",
       "    <tr style=\"text-align: right;\">\n",
       "      <th></th>\n",
       "      <th>Count</th>\n",
       "      <th>Percentage (%)</th>\n",
       "    </tr>\n",
       "    <tr>\n",
       "      <th>BEST_RESPONSE_3</th>\n",
       "      <th></th>\n",
       "      <th></th>\n",
       "    </tr>\n",
       "  </thead>\n",
       "  <tbody>\n",
       "    <tr>\n",
       "      <th>0.0</th>\n",
       "      <td>241</td>\n",
       "      <td>42.059337</td>\n",
       "    </tr>\n",
       "    <tr>\n",
       "      <th>2.0</th>\n",
       "      <td>174</td>\n",
       "      <td>30.366492</td>\n",
       "    </tr>\n",
       "    <tr>\n",
       "      <th>1.0</th>\n",
       "      <td>158</td>\n",
       "      <td>27.574171</td>\n",
       "    </tr>\n",
       "  </tbody>\n",
       "</table>\n",
       "</div>"
      ],
      "text/plain": [
       "                 Count  Percentage (%)\n",
       "BEST_RESPONSE_3                       \n",
       "0.0                241       42.059337\n",
       "2.0                174       30.366492\n",
       "1.0                158       27.574171"
      ]
     },
     "metadata": {},
     "output_type": "display_data"
    },
    {
     "name": "stdout",
     "output_type": "stream",
     "text": [
      "PDL1_CATHEGORY\n",
      "< 1 %     144\n",
      "1-49 %    140\n",
      ">=50 %    135\n",
      "Name: count, dtype: int64\n"
     ]
    },
    {
     "data": {
      "text/html": [
       "<div>\n",
       "<style scoped>\n",
       "    .dataframe tbody tr th:only-of-type {\n",
       "        vertical-align: middle;\n",
       "    }\n",
       "\n",
       "    .dataframe tbody tr th {\n",
       "        vertical-align: top;\n",
       "    }\n",
       "\n",
       "    .dataframe thead th {\n",
       "        text-align: right;\n",
       "    }\n",
       "</style>\n",
       "<table border=\"1\" class=\"dataframe\">\n",
       "  <thead>\n",
       "    <tr style=\"text-align: right;\">\n",
       "      <th></th>\n",
       "      <th>Count</th>\n",
       "      <th>Percentage (%)</th>\n",
       "    </tr>\n",
       "    <tr>\n",
       "      <th>PDL1_CATHEGORY</th>\n",
       "      <th></th>\n",
       "      <th></th>\n",
       "    </tr>\n",
       "  </thead>\n",
       "  <tbody>\n",
       "    <tr>\n",
       "      <th>&lt; 1 %</th>\n",
       "      <td>144</td>\n",
       "      <td>34.367542</td>\n",
       "    </tr>\n",
       "    <tr>\n",
       "      <th>1-49 %</th>\n",
       "      <td>140</td>\n",
       "      <td>33.412888</td>\n",
       "    </tr>\n",
       "    <tr>\n",
       "      <th>&gt;=50 %</th>\n",
       "      <td>135</td>\n",
       "      <td>32.219570</td>\n",
       "    </tr>\n",
       "  </tbody>\n",
       "</table>\n",
       "</div>"
      ],
      "text/plain": [
       "                Count  Percentage (%)\n",
       "PDL1_CATHEGORY                       \n",
       "< 1 %             144       34.367542\n",
       "1-49 %            140       33.412888\n",
       ">=50 %            135       32.219570"
      ]
     },
     "metadata": {},
     "output_type": "display_data"
    },
    {
     "name": "stdout",
     "output_type": "stream",
     "text": [
      "PDL1_BINARY\n",
      "0-49 %    284\n",
      ">=50 %    135\n",
      "Name: count, dtype: int64\n"
     ]
    },
    {
     "data": {
      "text/html": [
       "<div>\n",
       "<style scoped>\n",
       "    .dataframe tbody tr th:only-of-type {\n",
       "        vertical-align: middle;\n",
       "    }\n",
       "\n",
       "    .dataframe tbody tr th {\n",
       "        vertical-align: top;\n",
       "    }\n",
       "\n",
       "    .dataframe thead th {\n",
       "        text-align: right;\n",
       "    }\n",
       "</style>\n",
       "<table border=\"1\" class=\"dataframe\">\n",
       "  <thead>\n",
       "    <tr style=\"text-align: right;\">\n",
       "      <th></th>\n",
       "      <th>Count</th>\n",
       "      <th>Percentage (%)</th>\n",
       "    </tr>\n",
       "    <tr>\n",
       "      <th>PDL1_BINARY</th>\n",
       "      <th></th>\n",
       "      <th></th>\n",
       "    </tr>\n",
       "  </thead>\n",
       "  <tbody>\n",
       "    <tr>\n",
       "      <th>0-49 %</th>\n",
       "      <td>284</td>\n",
       "      <td>67.78043</td>\n",
       "    </tr>\n",
       "    <tr>\n",
       "      <th>&gt;=50 %</th>\n",
       "      <td>135</td>\n",
       "      <td>32.21957</td>\n",
       "    </tr>\n",
       "  </tbody>\n",
       "</table>\n",
       "</div>"
      ],
      "text/plain": [
       "             Count  Percentage (%)\n",
       "PDL1_BINARY                       \n",
       "0-49 %         284        67.78043\n",
       ">=50 %         135        32.21957"
      ]
     },
     "metadata": {},
     "output_type": "display_data"
    }
   ],
   "source": [
    "from anyio import value\n",
    "from pandas import value_counts\n",
    "\n",
    "id_list_list = []\n",
    "\n",
    "for i,l in zip(df_test_list, labels):\n",
    "    df_joined = pd.merge(i, csv_df, on ='slide', how = 'left')\n",
    "    selected_df = df_joined[[\"slide\", l]]\n",
    "    value_counts = selected_df[l].value_counts()\n",
    "    df_counts = value_counts.to_frame(name=\"Count\")\n",
    "    df_counts[\"Percentage (%)\"] = (df_counts[\"Count\"] / df_counts[\"Count\"].sum()) * 100\n",
    "\n",
    "    #display(selected_df)\n",
    "    print(selected_df[l].value_counts())\n",
    "    display(df_counts)\n",
    "\n",
    "        # Convertire la colonna \"ID\" in una lista\n",
    "    id_list = df_joined[\"slide\"].tolist()\n",
    "    id_list = [i+\".pt\" for i in id_list]\n",
    "\n",
    "    # Mostrare la lista risultante\n",
    "    id_list_list.append(id_list)"
   ]
  },
  {
   "cell_type": "code",
   "execution_count": 22,
   "metadata": {},
   "outputs": [],
   "source": [
    "# Aggiungere \".pt\" a tutte le stringhe nella colonna \"ID\"\n",
    "#df_joined[\"slide\"] = df_joined[\"slide\"] + \".pt\""
   ]
  },
  {
   "cell_type": "code",
   "execution_count": null,
   "metadata": {},
   "outputs": [],
   "source": []
  },
  {
   "cell_type": "code",
   "execution_count": 23,
   "metadata": {},
   "outputs": [],
   "source": [
    "import torch"
   ]
  },
  {
   "cell_type": "code",
   "execution_count": 24,
   "metadata": {},
   "outputs": [
    {
     "name": "stdout",
     "output_type": "stream",
     "text": [
      "614\n",
      "573\n",
      "419\n",
      "419\n"
     ]
    }
   ],
   "source": [
    "shape_list_list = []\n",
    "folder_path = \"/media/mmd/Extreme SSD/work/bags/uni/full-qc/10x reinhard_fast\"\n",
    "for list_dir in id_list_list:\n",
    "    shape_list = []\n",
    "    for filename in os.listdir(folder_path):\n",
    "\n",
    "        if filename in list_dir:\n",
    "            file_path = os.path.join(folder_path, filename)\n",
    "            \n",
    "            # Load the PyTorch object\n",
    "            data = torch.load(file_path)\n",
    "            \n",
    "            # If each .pt file stores a *single* tensor, print its shape\n",
    "            if hasattr(data, 'shape'):\n",
    "                #print(f\"{filename} => shape: {tuple(data.shape)}\")\n",
    "                shape_list.append(data.shape[0])\n",
    "            #else:\n",
    "                # If data isn't a single tensor, just show what was loaded\n",
    "                #print(f\"{filename} => not a single tensor (type: {type(data)})\")\n",
    "    print(len(shape_list))\n",
    "    shape_list_list.append(shape_list)\n"
   ]
  },
  {
   "cell_type": "code",
   "execution_count": 25,
   "metadata": {},
   "outputs": [
    {
     "data": {
      "image/png": "[encoded data removed]",
      "text/plain": [
       "<Figure size 1000x800 with 1 Axes>"
      ]
     },
     "metadata": {},
     "output_type": "display_data"
    }
   ],
   "source": [
    "values = shape_list_list[0]\n",
    "# Create the histogram\n",
    "plt.figure(figsize=(10, 8))\n",
    "\n",
    "n, bins, patches = plt.hist(values, bins=10)  # You can adjust 'bins' to change how many bars appear\n",
    "\n",
    "#plt.xticks(bins)\n",
    "import matplotlib as mpl\n",
    "mpl.rcParams['font.size'] = 16\n",
    "\n",
    "# Annotate each bar with its count\n",
    "for i, patch in enumerate(patches):\n",
    "    # Find the center of each bin\n",
    "    bin_center = (bins[i] + bins[i+1]) / 2\n",
    "    \n",
    "    # Label just above the top of each bar\n",
    "    plt.text(bin_center, n[i], int(n[i]), \n",
    "             ha='center', va='bottom', )#fontsize=12)\n",
    "plt.xticks(fontsize=24)\n",
    "plt.yticks(fontsize=24)\n",
    "# Add axis labels and a title\n",
    "plt.xlabel(\"$N_i$\", fontsize=24)\n",
    "plt.ylabel(\"Frequency\", fontsize = 24)\n",
    "#plt.title(\"Histogram of Values\")\n",
    "\n",
    "# Display the plot\n",
    "plt.savefig(\"histogram_tiles.png\", transparent=True)\n",
    "plt.show()"
   ]
  }
 ],
 "metadata": {
  "kernelspec": {
   "display_name": "sf3",
   "language": "python",
   "name": "python3"
  },
  "language_info": {
   "codemirror_mode": {
    "name": "ipython",
    "version": 3
   },
   "file_extension": ".py",
   "mimetype": "text/x-python",
   "name": "python",
   "nbconvert_exporter": "python",
   "pygments_lexer": "ipython3",
   "version": "3.9.13"
  }
 },
 "nbformat": 4,
 "nbformat_minor": 2
}
