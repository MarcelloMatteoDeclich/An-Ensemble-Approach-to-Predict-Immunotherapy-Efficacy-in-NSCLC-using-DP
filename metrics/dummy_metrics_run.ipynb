{
 "cells": [
  {
   "cell_type": "code",
   "execution_count": null,
   "metadata": {},
   "outputs": [],
   "source": [
    "# Import necessary libraries\n",
    "import pandas as pd\n",
    "import os\n",
    "import platform\n",
    "device_name = platform.node()\n",
    "\n",
    "previous_folder = os.getcwd()\n",
    "print (\"This is the working folder: \" + previous_folder)\n",
    "\n",
    "if device_name == 'mmd-MS-7D98': \n",
    "    #This passage is done because everytime I log into the remote server the default folder is:\n",
    "    #/mmd/home and I need to localize the correct folder to load the settings \n",
    "    os.chdir(\"/media/mmd/Samsung_T5/GitHub/UMD\")\n",
    "\n",
    "if previous_folder != os.getcwd(): # This is now the right working folder\n",
    "    print(\"The current working folder has been changed, now the working folder is: \" + os.getcwd())"
   ]
  },
  {
   "cell_type": "code",
   "execution_count": null,
   "metadata": {},
   "outputs": [],
   "source": [
    "import os"
   ]
  },
  {
   "cell_type": "code",
   "execution_count": null,
   "metadata": {},
   "outputs": [],
   "source": [
    "import sys\n",
    "sys.path.append(\"..\")\n",
    "sys.path.append(\"my_library\")\n",
    "from my_library.config import *\n",
    "from my_library.metrics.cmp_metrics import *\n",
    "sys.path.append(\"..\")\n",
    "import os\n",
    "\n",
    "n_classes = 2\n",
    "\n",
    "import os\n",
    "#%run -i visualization/compute_metrics_single_run.ipynb"
   ]
  },
  {
   "cell_type": "code",
   "execution_count": null,
   "metadata": {},
   "outputs": [],
   "source": [
    "eval = \"eval_max50slides\""
   ]
  },
  {
   "cell_type": "code",
   "execution_count": null,
   "metadata": {},
   "outputs": [],
   "source": [
    "base_folder = os.path.join(working_directory,\"ALLeval/eval_max50slides/test-int\")\n",
    "subfolder = [name for name in os.listdir(base_folder) if os.path.isdir(os.path.join(base_folder, name))]\n",
    "\n",
    "results = []\n",
    "models = [\"br3\", \"adsq\", \"pdl1-3\", \"pdl1-2\"] \n",
    "\n",
    "for m in models:\n",
    "    df = []\n",
    "    print(m)\n",
    "    root_dir = os.path.join(base_folder, m)\n",
    "\n",
    "    %run -i ./metriche/from_parquet.ipynb\n",
    "\n",
    "    #print(parent_directory)\n",
    "    #compute_metrics(parent_directory, n_classes, parent_directory)\n",
    "    results.append(df)"
   ]
  },
  {
   "cell_type": "code",
   "execution_count": null,
   "metadata": {},
   "outputs": [],
   "source": [
    "base_folder = os.path.join(working_directory,\"ALLeval/eval\")\n",
    "subfolder = [name for name in os.listdir(base_folder) if os.path.isdir(os.path.join(base_folder, name))]\n",
    "\n",
    "results = []\n",
    "\n",
    "eval = \"ALLeval/eval\"\n",
    "\n",
    "models = [\"br3\", \"adsq\", \"pdl1-3\", \"pdl1-2\"] \n",
    "outcomes = [\"BEST_RESPONSE_3\", \"HISTOLOGY\", \"PDL1_CATHEGORY\",\"PDL1_BINARY\"]\n",
    "\n",
    "for m,o in zip(models, outcomes):\n",
    "    print(m)\n",
    "    print(o)\n",
    "\n",
    "    outcome = o\n",
    "    model = m\n",
    "    root_dir = os.path.join(base_folder, m)\n",
    "\n",
    "    %run -i './metriche/Dummy_Classifier_PDL1 copy.ipynb'\n",
    "\n",
    "    #print(parent_directory)\n",
    "    #compute_metrics(parent_directory, n_classes, parent_directory)\n",
    "    results.append(df)"
   ]
  },
  {
   "cell_type": "code",
   "execution_count": null,
   "metadata": {},
   "outputs": [],
   "source": [
    "results"
   ]
  },
  {
   "cell_type": "code",
   "execution_count": null,
   "metadata": {},
   "outputs": [],
   "source": [
    "df_list_dummy = []\n",
    "\n",
    "for i, m in zip(results, models):\n",
    "    \n",
    "    transpose_df = i.transpose()\n",
    "    \n",
    "    transpose_df = transpose_df.rename(columns={0: f\"{m}\"})\n",
    "    \n",
    "    transpose_df = transpose_df.reset_index()\n",
    "    transpose_df.rename(columns={transpose_df.columns[0]: 'DummyClassifier-max 50 slides'}, inplace=True)\n",
    "    df_list_dummy.append(transpose_df)\n"
   ]
  },
  {
   "cell_type": "code",
   "execution_count": null,
   "metadata": {},
   "outputs": [],
   "source": [
    "len(df_list_dummy)"
   ]
  },
  {
   "cell_type": "code",
   "execution_count": null,
   "metadata": {},
   "outputs": [],
   "source": [
    "with pd.ExcelWriter(\"ABMIL_results_dummy.xlsx\") as writer:\n",
    "    df_list_dummy[0].to_excel(writer, sheet_name=\"Best Response 3\", index=False)\n",
    "    df_list_dummy[1].to_excel(writer, sheet_name=\"Adeno vs Squamous\", index=False)\n",
    "    df_list_dummy[2].to_excel(writer, sheet_name=\"PDL1 3 classes\", index=False)\n",
    "    df_list_dummy[3].to_excel(writer, sheet_name=\"PDL1 2 classes\", index=False)"
   ]
  }
 ],
 "metadata": {
  "kernelspec": {
   "display_name": "sf3",
   "language": "python",
   "name": "python3"
  },
  "language_info": {
   "codemirror_mode": {
    "name": "ipython",
    "version": 3
   },
   "file_extension": ".py",
   "mimetype": "text/x-python",
   "name": "python",
   "nbconvert_exporter": "python",
   "pygments_lexer": "ipython3",
   "version": "3.9.13"
  }
 },
 "nbformat": 4,
 "nbformat_minor": 2
}
