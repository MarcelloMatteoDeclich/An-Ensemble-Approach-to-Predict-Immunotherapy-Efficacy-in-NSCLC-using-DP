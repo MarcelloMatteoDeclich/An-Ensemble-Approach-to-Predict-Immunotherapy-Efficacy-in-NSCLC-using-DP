{
 "cells": [
  {
   "cell_type": "code",
   "execution_count": 2,
   "metadata": {},
   "outputs": [
    {
     "name": "stdout",
     "output_type": "stream",
     "text": [
      "This is the working folder: /media/mmd/Samsung_T5/GitHub/UMD/visualization\n",
      "The current working folder has been changed, now the working folder is: /media/mmd/Samsung_T5/GitHub/UMD\n"
     ]
    }
   ],
   "source": [
    "# Import necessary libraries\n",
    "import pandas as pd\n",
    "import os\n",
    "import platform\n",
    "device_name = platform.node()\n",
    "\n",
    "previous_folder = os.getcwd()\n",
    "print (\"This is the working folder: \" + previous_folder)\n",
    "\n",
    "if device_name == 'mmd-MS-7D98': \n",
    "    #This passage is done because everytime I log into the remote server the default folder is:\n",
    "    #/mmd/home and I need to localize the correct folder to load the settings \n",
    "    os.chdir(\"/media/mmd/Samsung_T5/GitHub/UMD\")\n",
    "\n",
    "if previous_folder != os.getcwd(): # This is now the right working folder\n",
    "    print(\"The current working folder has been changed, now the working folder is: \" + os.getcwd())"
   ]
  },
  {
   "cell_type": "code",
   "execution_count": 3,
   "metadata": {},
   "outputs": [
    {
     "name": "stderr",
     "output_type": "stream",
     "text": [
      "/home/mmd/anaconda3/envs/sf3/lib/python3.9/site-packages/timm/models/helpers.py:7: FutureWarning: Importing from timm.models.helpers is deprecated, please import via timm.models\n",
      "  warnings.warn(f\"Importing from {__name__} is deprecated, please import via timm.models\", FutureWarning)\n",
      "/home/mmd/anaconda3/envs/sf3/lib/python3.9/site-packages/timm/models/layers/__init__.py:48: FutureWarning: Importing from timm.models.layers is deprecated, please import via timm.layers\n",
      "  warnings.warn(f\"Importing from {__name__} is deprecated, please import via timm.layers\", FutureWarning)\n"
     ]
    },
    {
     "name": "stdout",
     "output_type": "stream",
     "text": [
      "this is the current directory:  /media/mmd/Samsung_T5/GitHub/UMD\n",
      "This is the thesis folder, where all the code is located:  GitHub/UMD\n",
      "Questo è samsung:/media/mmd/Samsung_T5\n"
     ]
    }
   ],
   "source": [
    "import sys\n",
    "sys.path.append(\"..\")\n",
    "sys.path.append(\"my_library\")\n",
    "from my_library.config import *\n",
    "from my_library.metrics.cmp_metrics import *\n",
    "sys.path.append(\"..\")\n",
    "import os\n",
    "\n",
    "n_classes = 2\n",
    "\n",
    "import os\n",
    "\n",
    "#%run -i visualization/compute_metrics_single_run.ipynb\n"
   ]
  },
  {
   "cell_type": "code",
   "execution_count": 4,
   "metadata": {},
   "outputs": [
    {
     "name": "stdout",
     "output_type": "stream",
     "text": [
      "['adsq', 'br3', 'pdl1-3']\n",
      "['inner_iteration_1', 'inner_iteration_2', 'inner_iteration_3', 'inner_iteration_4', 'inner_iteration_5']\n",
      "/media/mmd/Samsung_T5/GitHub/UMD/eval/train/adsq/inner_iteration_1\n",
      "inner_iteration_1\n"
     ]
    },
    {
     "data": {
      "text/plain": [
       "{'0': 'adenocarcinoma', '1': 'squamous'}"
      ]
     },
     "metadata": {},
     "output_type": "display_data"
    },
    {
     "name": "stdout",
     "output_type": "stream",
     "text": [
      "This is outlab 2\n",
      "HISTOLOGY\n"
     ]
    },
    {
     "data": {
      "text/plain": [
       "{'Accuracy': 0.8975409836065574,\n",
       " 'Balanced_Accuracy': 0.9352331606217616,\n",
       " 'Precision': 0.9312446074201898,\n",
       " 'Recall': 0.8975409836065574,\n",
       " 'F1-Score': 0.9040777825890605,\n",
       " 'Confusion Matrix': [[168, 25], [0, 51]]}"
      ]
     },
     "metadata": {},
     "output_type": "display_data"
    },
    {
     "name": "stdout",
     "output_type": "stream",
     "text": [
      "Accuracy: 0.8975409836065574\n",
      "Balanced_Accuracy: 0.9352331606217616\n",
      "Precision: 0.9312446074201898\n",
      "Recall: 0.8975409836065574\n",
      "F1-Score: 0.9040777825890605\n",
      "Confusion Matrix: [[168, 25], [0, 51]]\n",
      "/media/mmd/Samsung_T5/GitHub/UMD/eval/train/adsq/inner_iteration_2\n",
      "inner_iteration_2\n"
     ]
    },
    {
     "data": {
      "text/plain": [
       "{'0': 'adenocarcinoma', '1': 'squamous'}"
      ]
     },
     "metadata": {},
     "output_type": "display_data"
    },
    {
     "name": "stdout",
     "output_type": "stream",
     "text": [
      "This is outlab 2\n",
      "HISTOLOGY\n"
     ]
    },
    {
     "data": {
      "text/plain": [
       "{'Accuracy': 0.8433734939759037,\n",
       " 'Balanced_Accuracy': 0.9029850746268657,\n",
       " 'Precision': 0.9135853759867054,\n",
       " 'Recall': 0.8433734939759037,\n",
       " 'F1-Score': 0.8575835020522863,\n",
       " 'Confusion Matrix': [[162, 39], [0, 48]]}"
      ]
     },
     "metadata": {},
     "output_type": "display_data"
    },
    {
     "name": "stdout",
     "output_type": "stream",
     "text": [
      "Accuracy: 0.8433734939759037\n",
      "Balanced_Accuracy: 0.9029850746268657\n",
      "Precision: 0.9135853759867054\n",
      "Recall: 0.8433734939759037\n",
      "F1-Score: 0.8575835020522863\n",
      "Confusion Matrix: [[162, 39], [0, 48]]\n",
      "/media/mmd/Samsung_T5/GitHub/UMD/eval/train/adsq/inner_iteration_3\n",
      "inner_iteration_3\n"
     ]
    },
    {
     "data": {
      "text/plain": [
       "{'0': 'adenocarcinoma', '1': 'squamous'}"
      ]
     },
     "metadata": {},
     "output_type": "display_data"
    },
    {
     "name": "stdout",
     "output_type": "stream",
     "text": [
      "This is outlab 2\n",
      "HISTOLOGY\n"
     ]
    },
    {
     "data": {
      "text/plain": [
       "{'Accuracy': 0.9166666666666666,\n",
       " 'Balanced_Accuracy': 0.9477611940298507,\n",
       " 'Precision': 0.9409722222222222,\n",
       " 'Recall': 0.9166666666666666,\n",
       " 'F1-Score': 0.9214838998783688,\n",
       " 'Confusion Matrix': [[180, 21], [0, 51]]}"
      ]
     },
     "metadata": {},
     "output_type": "display_data"
    },
    {
     "name": "stdout",
     "output_type": "stream",
     "text": [
      "Accuracy: 0.9166666666666666\n",
      "Balanced_Accuracy: 0.9477611940298507\n",
      "Precision: 0.9409722222222222\n",
      "Recall: 0.9166666666666666\n",
      "F1-Score: 0.9214838998783688\n",
      "Confusion Matrix: [[180, 21], [0, 51]]\n",
      "/media/mmd/Samsung_T5/GitHub/UMD/eval/train/adsq/inner_iteration_4\n",
      "inner_iteration_4\n"
     ]
    },
    {
     "data": {
      "text/plain": [
       "{'0': 'adenocarcinoma', '1': 'squamous'}"
      ]
     },
     "metadata": {},
     "output_type": "display_data"
    },
    {
     "name": "stdout",
     "output_type": "stream",
     "text": [
      "This is outlab 2\n",
      "HISTOLOGY\n"
     ]
    },
    {
     "data": {
      "text/plain": [
       "{'Accuracy': 0.8656126482213439,\n",
       " 'Balanced_Accuracy': 0.916256157635468,\n",
       " 'Precision': 0.9200075287031809,\n",
       " 'Recall': 0.8656126482213439,\n",
       " 'F1-Score': 0.8765204323911489,\n",
       " 'Confusion Matrix': [[169, 34], [0, 50]]}"
      ]
     },
     "metadata": {},
     "output_type": "display_data"
    },
    {
     "name": "stdout",
     "output_type": "stream",
     "text": [
      "Accuracy: 0.8656126482213439\n",
      "Balanced_Accuracy: 0.916256157635468\n",
      "Precision: 0.9200075287031809\n",
      "Recall: 0.8656126482213439\n",
      "F1-Score: 0.8765204323911489\n",
      "Confusion Matrix: [[169, 34], [0, 50]]\n",
      "/media/mmd/Samsung_T5/GitHub/UMD/eval/train/adsq/inner_iteration_5\n",
      "inner_iteration_5\n"
     ]
    },
    {
     "data": {
      "text/plain": [
       "{'0': 'adenocarcinoma', '1': 'squamous'}"
      ]
     },
     "metadata": {},
     "output_type": "display_data"
    },
    {
     "name": "stdout",
     "output_type": "stream",
     "text": [
      "This is outlab 2\n",
      "HISTOLOGY\n"
     ]
    },
    {
     "data": {
      "text/plain": [
       "{'Accuracy': 0.9015748031496063,\n",
       " 'Balanced_Accuracy': 0.9381188118811881,\n",
       " 'Precision': 0.9335310358932406,\n",
       " 'Recall': 0.9015748031496063,\n",
       " 'F1-Score': 0.9078659148093693,\n",
       " 'Confusion Matrix': [[177, 25], [0, 52]]}"
      ]
     },
     "metadata": {},
     "output_type": "display_data"
    },
    {
     "name": "stdout",
     "output_type": "stream",
     "text": [
      "Accuracy: 0.9015748031496063\n",
      "Balanced_Accuracy: 0.9381188118811881\n",
      "Precision: 0.9335310358932406\n",
      "Recall: 0.9015748031496063\n",
      "F1-Score: 0.9078659148093693\n",
      "Confusion Matrix: [[177, 25], [0, 52]]\n",
      "['inner_iteration_1', 'inner_iteration_2', 'inner_iteration_3', 'inner_iteration_4', 'inner_iteration_5']\n",
      "/media/mmd/Samsung_T5/GitHub/UMD/eval/train/br3/inner_iteration_1\n",
      "inner_iteration_1\n"
     ]
    },
    {
     "data": {
      "text/plain": [
       "{'0': '0.0', '1': '1.0', '2': '2.0'}"
      ]
     },
     "metadata": {},
     "output_type": "display_data"
    },
    {
     "name": "stdout",
     "output_type": "stream",
     "text": [
      "This is outlab 3\n",
      "BEST_RESPONSE_3\n"
     ]
    },
    {
     "data": {
      "text/plain": [
       "{'Accuracy': 0.3481781376518219,\n",
       " 'Balanced_Accuracy': 0.3536237947246792,\n",
       " 'Precision': 0.3549452041630631,\n",
       " 'Recall': 0.3481781376518219,\n",
       " 'F1-Score': 0.336152697846558,\n",
       " 'Confusion Matrix': [[18, 33, 43], [13, 24, 27], [17, 28, 44]]}"
      ]
     },
     "metadata": {},
     "output_type": "display_data"
    },
    {
     "name": "stdout",
     "output_type": "stream",
     "text": [
      "Accuracy: 0.3481781376518219\n",
      "Balanced_Accuracy: 0.3536237947246792\n",
      "Precision: 0.3549452041630631\n",
      "Recall: 0.3481781376518219\n",
      "F1-Score: 0.336152697846558\n",
      "Confusion Matrix: [[18, 33, 43], [13, 24, 27], [17, 28, 44]]\n",
      "/media/mmd/Samsung_T5/GitHub/UMD/eval/train/br3/inner_iteration_2\n",
      "inner_iteration_2\n"
     ]
    },
    {
     "data": {
      "text/plain": [
       "{'0': '0.0', '1': '1.0', '2': '2.0'}"
      ]
     },
     "metadata": {},
     "output_type": "display_data"
    },
    {
     "name": "stdout",
     "output_type": "stream",
     "text": [
      "This is outlab 3\n",
      "BEST_RESPONSE_3\n"
     ]
    },
    {
     "data": {
      "text/plain": [
       "{'Accuracy': 0.3665338645418327,\n",
       " 'Balanced_Accuracy': 0.3473036398467433,\n",
       " 'Precision': 0.3832870273292794,\n",
       " 'Recall': 0.3665338645418327,\n",
       " 'F1-Score': 0.3279582746721565,\n",
       " 'Confusion Matrix': [[27, 8, 65], [11, 6, 47], [26, 2, 59]]}"
      ]
     },
     "metadata": {},
     "output_type": "display_data"
    },
    {
     "name": "stdout",
     "output_type": "stream",
     "text": [
      "Accuracy: 0.3665338645418327\n",
      "Balanced_Accuracy: 0.3473036398467433\n",
      "Precision: 0.3832870273292794\n",
      "Recall: 0.3665338645418327\n",
      "F1-Score: 0.3279582746721565\n",
      "Confusion Matrix: [[27, 8, 65], [11, 6, 47], [26, 2, 59]]\n",
      "/media/mmd/Samsung_T5/GitHub/UMD/eval/train/br3/inner_iteration_3\n",
      "inner_iteration_3\n"
     ]
    },
    {
     "data": {
      "text/plain": [
       "{'0': '0.0', '1': '1.0', '2': '2.0'}"
      ]
     },
     "metadata": {},
     "output_type": "display_data"
    },
    {
     "name": "stdout",
     "output_type": "stream",
     "text": [
      "This is outlab 3\n",
      "BEST_RESPONSE_3\n"
     ]
    },
    {
     "data": {
      "text/plain": [
       "{'Accuracy': 0.572,\n",
       " 'Balanced_Accuracy': 0.5730837789661319,\n",
       " 'Precision': 0.5825654116948236,\n",
       " 'Recall': 0.572,\n",
       " 'F1-Score': 0.5736812305721478,\n",
       " 'Confusion Matrix': [[61, 21, 20], [12, 41, 13], [18, 23, 41]]}"
      ]
     },
     "metadata": {},
     "output_type": "display_data"
    },
    {
     "name": "stdout",
     "output_type": "stream",
     "text": [
      "Accuracy: 0.572\n",
      "Balanced_Accuracy: 0.5730837789661319\n",
      "Precision: 0.5825654116948236\n",
      "Recall: 0.572\n",
      "F1-Score: 0.5736812305721478\n",
      "Confusion Matrix: [[61, 21, 20], [12, 41, 13], [18, 23, 41]]\n",
      "/media/mmd/Samsung_T5/GitHub/UMD/eval/train/br3/inner_iteration_4\n",
      "inner_iteration_4\n"
     ]
    },
    {
     "data": {
      "text/plain": [
       "{'0': '0.0', '1': '1.0', '2': '2.0'}"
      ]
     },
     "metadata": {},
     "output_type": "display_data"
    },
    {
     "name": "stdout",
     "output_type": "stream",
     "text": [
      "This is outlab 3\n",
      "BEST_RESPONSE_3\n"
     ]
    },
    {
     "data": {
      "text/plain": [
       "{'Accuracy': 0.3442622950819672,\n",
       " 'Balanced_Accuracy': 0.32232919354321105,\n",
       " 'Precision': 0.33184181655281797,\n",
       " 'Recall': 0.3442622950819672,\n",
       " 'F1-Score': 0.3275545687723674,\n",
       " 'Confusion Matrix': [[51, 17, 26], [42, 10, 13], [44, 18, 23]]}"
      ]
     },
     "metadata": {},
     "output_type": "display_data"
    },
    {
     "name": "stdout",
     "output_type": "stream",
     "text": [
      "Accuracy: 0.3442622950819672\n",
      "Balanced_Accuracy: 0.32232919354321105\n",
      "Precision: 0.33184181655281797\n",
      "Recall: 0.3442622950819672\n",
      "F1-Score: 0.3275545687723674\n",
      "Confusion Matrix: [[51, 17, 26], [42, 10, 13], [44, 18, 23]]\n",
      "/media/mmd/Samsung_T5/GitHub/UMD/eval/train/br3/inner_iteration_5\n",
      "inner_iteration_5\n"
     ]
    },
    {
     "data": {
      "text/plain": [
       "{'0': '0.0', '1': '1.0', '2': '2.0'}"
      ]
     },
     "metadata": {},
     "output_type": "display_data"
    },
    {
     "name": "stdout",
     "output_type": "stream",
     "text": [
      "This is outlab 3\n",
      "BEST_RESPONSE_3\n"
     ]
    },
    {
     "data": {
      "text/plain": [
       "{'Accuracy': 0.5912698412698413,\n",
       " 'Balanced_Accuracy': 0.6099918273273008,\n",
       " 'Precision': 0.6423466117216118,\n",
       " 'Recall': 0.5912698412698413,\n",
       " 'F1-Score': 0.5948862702306172,\n",
       " 'Confusion Matrix': [[46, 38, 14], [9, 49, 7], [10, 25, 54]]}"
      ]
     },
     "metadata": {},
     "output_type": "display_data"
    },
    {
     "name": "stdout",
     "output_type": "stream",
     "text": [
      "Accuracy: 0.5912698412698413\n",
      "Balanced_Accuracy: 0.6099918273273008\n",
      "Precision: 0.6423466117216118\n",
      "Recall: 0.5912698412698413\n",
      "F1-Score: 0.5948862702306172\n",
      "Confusion Matrix: [[46, 38, 14], [9, 49, 7], [10, 25, 54]]\n",
      "['inner_iteration_1', 'inner_iteration_2', 'inner_iteration_3', 'inner_iteration_4', 'inner_iteration_5']\n",
      "/media/mmd/Samsung_T5/GitHub/UMD/eval/train/pdl1-3/inner_iteration_1\n",
      "inner_iteration_1\n"
     ]
    },
    {
     "data": {
      "text/plain": [
       "{'0': '1-49 %', '1': '< 1 %', '2': '>=50 %'}"
      ]
     },
     "metadata": {},
     "output_type": "display_data"
    },
    {
     "name": "stdout",
     "output_type": "stream",
     "text": [
      "This is outlab 3\n",
      "PDL1_CATHEGORY\n"
     ]
    },
    {
     "data": {
      "text/plain": [
       "{'Accuracy': 0.5504587155963303,\n",
       " 'Balanced_Accuracy': 0.5548245614035088,\n",
       " 'Precision': 0.5619339841118859,\n",
       " 'Recall': 0.5504587155963303,\n",
       " 'F1-Score': 0.5512886754904546,\n",
       " 'Confusion Matrix': [[39, 12, 27], [18, 41, 17], [12, 12, 40]]}"
      ]
     },
     "metadata": {},
     "output_type": "display_data"
    },
    {
     "name": "stdout",
     "output_type": "stream",
     "text": [
      "Accuracy: 0.5504587155963303\n",
      "Balanced_Accuracy: 0.5548245614035088\n",
      "Precision: 0.5619339841118859\n",
      "Recall: 0.5504587155963303\n",
      "F1-Score: 0.5512886754904546\n",
      "Confusion Matrix: [[39, 12, 27], [18, 41, 17], [12, 12, 40]]\n",
      "/media/mmd/Samsung_T5/GitHub/UMD/eval/train/pdl1-3/inner_iteration_2\n",
      "inner_iteration_2\n"
     ]
    },
    {
     "data": {
      "text/plain": [
       "{'0': '1-49 %', '1': '< 1 %', '2': '>=50 %'}"
      ]
     },
     "metadata": {},
     "output_type": "display_data"
    },
    {
     "name": "stdout",
     "output_type": "stream",
     "text": [
      "This is outlab 3\n",
      "PDL1_CATHEGORY\n"
     ]
    },
    {
     "data": {
      "text/plain": [
       "{'Accuracy': 0.7300884955752213,\n",
       " 'Balanced_Accuracy': 0.7348093673394879,\n",
       " 'Precision': 0.7440370659735265,\n",
       " 'Recall': 0.7300884955752213,\n",
       " 'F1-Score': 0.7292307604143833,\n",
       " 'Confusion Matrix': [[52, 16, 15], [5, 62, 10], [5, 10, 51]]}"
      ]
     },
     "metadata": {},
     "output_type": "display_data"
    },
    {
     "name": "stdout",
     "output_type": "stream",
     "text": [
      "Accuracy: 0.7300884955752213\n",
      "Balanced_Accuracy: 0.7348093673394879\n",
      "Precision: 0.7440370659735265\n",
      "Recall: 0.7300884955752213\n",
      "F1-Score: 0.7292307604143833\n",
      "Confusion Matrix: [[52, 16, 15], [5, 62, 10], [5, 10, 51]]\n",
      "/media/mmd/Samsung_T5/GitHub/UMD/eval/train/pdl1-3/inner_iteration_3\n",
      "inner_iteration_3\n"
     ]
    },
    {
     "data": {
      "text/plain": [
       "{'0': '1-49 %', '1': '< 1 %', '2': '>=50 %'}"
      ]
     },
     "metadata": {},
     "output_type": "display_data"
    },
    {
     "name": "stdout",
     "output_type": "stream",
     "text": [
      "This is outlab 3\n",
      "PDL1_CATHEGORY\n"
     ]
    },
    {
     "data": {
      "text/plain": [
       "{'Accuracy': 0.5605381165919282,\n",
       " 'Balanced_Accuracy': 0.5748742723993054,\n",
       " 'Precision': 0.6224672915313122,\n",
       " 'Recall': 0.5605381165919282,\n",
       " 'F1-Score': 0.5512112050144851,\n",
       " 'Confusion Matrix': [[33, 9, 35], [12, 34, 33], [5, 4, 58]]}"
      ]
     },
     "metadata": {},
     "output_type": "display_data"
    },
    {
     "name": "stdout",
     "output_type": "stream",
     "text": [
      "Accuracy: 0.5605381165919282\n",
      "Balanced_Accuracy: 0.5748742723993054\n",
      "Precision: 0.6224672915313122\n",
      "Recall: 0.5605381165919282\n",
      "F1-Score: 0.5512112050144851\n",
      "Confusion Matrix: [[33, 9, 35], [12, 34, 33], [5, 4, 58]]\n",
      "/media/mmd/Samsung_T5/GitHub/UMD/eval/train/pdl1-3/inner_iteration_4\n",
      "inner_iteration_4\n"
     ]
    },
    {
     "data": {
      "text/plain": [
       "{'0': '1-49 %', '1': '< 1 %', '2': '>=50 %'}"
      ]
     },
     "metadata": {},
     "output_type": "display_data"
    },
    {
     "name": "stdout",
     "output_type": "stream",
     "text": [
      "This is outlab 3\n",
      "PDL1_CATHEGORY\n"
     ]
    },
    {
     "data": {
      "text/plain": [
       "{'Accuracy': 0.8628318584070797,\n",
       " 'Balanced_Accuracy': 0.8676044634377967,\n",
       " 'Precision': 0.8739346655973242,\n",
       " 'Recall': 0.8628318584070797,\n",
       " 'F1-Score': 0.8638723377591706,\n",
       " 'Confusion Matrix': [[65, 5, 10], [3, 69, 9], [1, 3, 61]]}"
      ]
     },
     "metadata": {},
     "output_type": "display_data"
    },
    {
     "name": "stdout",
     "output_type": "stream",
     "text": [
      "Accuracy: 0.8628318584070797\n",
      "Balanced_Accuracy: 0.8676044634377967\n",
      "Precision: 0.8739346655973242\n",
      "Recall: 0.8628318584070797\n",
      "F1-Score: 0.8638723377591706\n",
      "Confusion Matrix: [[65, 5, 10], [3, 69, 9], [1, 3, 61]]\n",
      "/media/mmd/Samsung_T5/GitHub/UMD/eval/train/pdl1-3/inner_iteration_5\n",
      "inner_iteration_5\n"
     ]
    },
    {
     "data": {
      "text/plain": [
       "{'0': '1-49 %', '1': '< 1 %', '2': '>=50 %'}"
      ]
     },
     "metadata": {},
     "output_type": "display_data"
    },
    {
     "name": "stdout",
     "output_type": "stream",
     "text": [
      "This is outlab 3\n",
      "PDL1_CATHEGORY\n"
     ]
    },
    {
     "data": {
      "text/plain": [
       "{'Accuracy': 0.7397260273972602,\n",
       " 'Balanced_Accuracy': 0.7532430819486761,\n",
       " 'Precision': 0.7940137802159999,\n",
       " 'Recall': 0.7397260273972602,\n",
       " 'F1-Score': 0.743544288469898,\n",
       " 'Confusion Matrix': [[48, 2, 28], [8, 56, 15], [2, 2, 58]]}"
      ]
     },
     "metadata": {},
     "output_type": "display_data"
    },
    {
     "name": "stdout",
     "output_type": "stream",
     "text": [
      "Accuracy: 0.7397260273972602\n",
      "Balanced_Accuracy: 0.7532430819486761\n",
      "Precision: 0.7940137802159999\n",
      "Recall: 0.7397260273972602\n",
      "F1-Score: 0.743544288469898\n",
      "Confusion Matrix: [[48, 2, 28], [8, 56, 15], [2, 2, 58]]\n"
     ]
    }
   ],
   "source": [
    "base_folder = os.path.join(working_directory,\"eval/train\")\n",
    "subfolder = [name for name in os.listdir(base_folder) if os.path.isdir(os.path.join(base_folder, name))]\n",
    "\n",
    "print(subfolder)\n",
    "\n",
    "train_metrics = {}\n",
    "train_class_metrics = {}\n",
    "outer_train_metrics = {}\n",
    "outer_train_class_metrics = {}\n",
    "\n",
    "for m in subfolder:\n",
    "    parent_directory = os.path.join(base_folder, m)\n",
    "    subsubfolder = [name for name in os.listdir(parent_directory) if os.path.isdir(os.path.join(parent_directory, name))]\n",
    "    print(subsubfolder)\n",
    "    train_metrics = {}\n",
    "    train_class_metrics = {}\n",
    "    for s in subsubfolder: \n",
    "        sub_parent_directory = os.path.join(parent_directory, s)\n",
    "        print(sub_parent_directory)\n",
    "        print(s)\n",
    "        train_metrics[s], train_class_metrics[s], a, n = compute_metrics(sub_parent_directory, n_classes, sub_parent_directory)\n",
    "    outer_train_metrics[m] = train_metrics\n",
    "    outer_train_class_metrics[m] =train_class_metrics\n"
   ]
  },
  {
   "cell_type": "code",
   "execution_count": 5,
   "metadata": {},
   "outputs": [
    {
     "data": {
      "text/plain": [
       "{'Accuracy': 0.5504587155963303,\n",
       " 'Balanced_Accuracy': 0.5548245614035088,\n",
       " 'Precision': 0.5619339841118859,\n",
       " 'Recall': 0.5504587155963303,\n",
       " 'F1-Score': 0.5512886754904546,\n",
       " 'Confusion Matrix': [[39, 12, 27], [18, 41, 17], [12, 12, 40]]}"
      ]
     },
     "execution_count": 5,
     "metadata": {},
     "output_type": "execute_result"
    }
   ],
   "source": [
    "outer_train_metrics[\"pdl1-3\"][\"inner_iteration_1\"]"
   ]
  },
  {
   "cell_type": "code",
   "execution_count": 6,
   "metadata": {},
   "outputs": [
    {
     "name": "stdout",
     "output_type": "stream",
     "text": [
      "Chiave: adsq, Valore: {'inner_iteration_1': {'Accuracy': 0.8975409836065574, 'Balanced_Accuracy': 0.9352331606217616, 'Precision': 0.9312446074201898, 'Recall': 0.8975409836065574, 'F1-Score': 0.9040777825890605, 'Confusion Matrix': [[168, 25], [0, 51]]}, 'inner_iteration_2': {'Accuracy': 0.8433734939759037, 'Balanced_Accuracy': 0.9029850746268657, 'Precision': 0.9135853759867054, 'Recall': 0.8433734939759037, 'F1-Score': 0.8575835020522863, 'Confusion Matrix': [[162, 39], [0, 48]]}, 'inner_iteration_3': {'Accuracy': 0.9166666666666666, 'Balanced_Accuracy': 0.9477611940298507, 'Precision': 0.9409722222222222, 'Recall': 0.9166666666666666, 'F1-Score': 0.9214838998783688, 'Confusion Matrix': [[180, 21], [0, 51]]}, 'inner_iteration_4': {'Accuracy': 0.8656126482213439, 'Balanced_Accuracy': 0.916256157635468, 'Precision': 0.9200075287031809, 'Recall': 0.8656126482213439, 'F1-Score': 0.8765204323911489, 'Confusion Matrix': [[169, 34], [0, 50]]}, 'inner_iteration_5': {'Accuracy': 0.9015748031496063, 'Balanced_Accuracy': 0.9381188118811881, 'Precision': 0.9335310358932406, 'Recall': 0.9015748031496063, 'F1-Score': 0.9078659148093693, 'Confusion Matrix': [[177, 25], [0, 52]]}}\n",
      "['Accuracy', 'Balanced_Accuracy', 'Precision', 'Recall', 'F1-Score', 'Confusion Matrix']\n",
      "[0.89754098 0.84337349 0.91666667 0.86561265 0.9015748 ]\n",
      "[0.93523316 0.90298507 0.94776119 0.91625616 0.93811881]\n",
      "[0.93124461 0.91358538 0.94097222 0.92000753 0.93353104]\n",
      "[0.89754098 0.84337349 0.91666667 0.86561265 0.9015748 ]\n",
      "[0.90407778 0.8575835  0.9214839  0.87652043 0.90786591]\n",
      "[[[168  25]\n",
      "  [  0  51]]\n",
      "\n",
      " [[162  39]\n",
      "  [  0  48]]\n",
      "\n",
      " [[180  21]\n",
      "  [  0  51]]\n",
      "\n",
      " [[169  34]\n",
      "  [  0  50]]\n",
      "\n",
      " [[177  25]\n",
      "  [  0  52]]]\n"
     ]
    },
    {
     "data": {
      "text/html": [
       "<div>\n",
       "<style scoped>\n",
       "    .dataframe tbody tr th:only-of-type {\n",
       "        vertical-align: middle;\n",
       "    }\n",
       "\n",
       "    .dataframe tbody tr th {\n",
       "        vertical-align: top;\n",
       "    }\n",
       "\n",
       "    .dataframe thead th {\n",
       "        text-align: right;\n",
       "    }\n",
       "</style>\n",
       "<table border=\"1\" class=\"dataframe\">\n",
       "  <thead>\n",
       "    <tr style=\"text-align: right;\">\n",
       "      <th></th>\n",
       "      <th>Mean</th>\n",
       "      <th>Confidence Interval</th>\n",
       "    </tr>\n",
       "  </thead>\n",
       "  <tbody>\n",
       "    <tr>\n",
       "      <th>Accuracy</th>\n",
       "      <td>0.884954</td>\n",
       "      <td>0.026621</td>\n",
       "    </tr>\n",
       "    <tr>\n",
       "      <th>Balanced_Accuracy</th>\n",
       "      <td>0.928071</td>\n",
       "      <td>0.016179</td>\n",
       "    </tr>\n",
       "    <tr>\n",
       "      <th>Precision</th>\n",
       "      <td>0.927868</td>\n",
       "      <td>0.009808</td>\n",
       "    </tr>\n",
       "    <tr>\n",
       "      <th>Recall</th>\n",
       "      <td>0.884954</td>\n",
       "      <td>0.026621</td>\n",
       "    </tr>\n",
       "    <tr>\n",
       "      <th>F1-Score</th>\n",
       "      <td>0.893506</td>\n",
       "      <td>0.023150</td>\n",
       "    </tr>\n",
       "    <tr>\n",
       "      <th>Confusion Matrix</th>\n",
       "      <td>62.600000</td>\n",
       "      <td>59.986244</td>\n",
       "    </tr>\n",
       "  </tbody>\n",
       "</table>\n",
       "</div>"
      ],
      "text/plain": [
       "                        Mean  Confidence Interval\n",
       "Accuracy            0.884954             0.026621\n",
       "Balanced_Accuracy   0.928071             0.016179\n",
       "Precision           0.927868             0.009808\n",
       "Recall              0.884954             0.026621\n",
       "F1-Score            0.893506             0.023150\n",
       "Confusion Matrix   62.600000            59.986244"
      ]
     },
     "metadata": {},
     "output_type": "display_data"
    },
    {
     "name": "stdout",
     "output_type": "stream",
     "text": [
      "[[171.2  28.8]\n",
      " [  0.   50.4]]\n"
     ]
    },
    {
     "data": {
      "text/html": [
       "<div>\n",
       "<style scoped>\n",
       "    .dataframe tbody tr th:only-of-type {\n",
       "        vertical-align: middle;\n",
       "    }\n",
       "\n",
       "    .dataframe tbody tr th {\n",
       "        vertical-align: top;\n",
       "    }\n",
       "\n",
       "    .dataframe thead th {\n",
       "        text-align: right;\n",
       "    }\n",
       "</style>\n",
       "<table border=\"1\" class=\"dataframe\">\n",
       "  <thead>\n",
       "    <tr style=\"text-align: right;\">\n",
       "      <th></th>\n",
       "      <th>Pred_0</th>\n",
       "      <th>Pred_1</th>\n",
       "    </tr>\n",
       "  </thead>\n",
       "  <tbody>\n",
       "    <tr>\n",
       "      <th>True_0</th>\n",
       "      <td>171.2</td>\n",
       "      <td>28.8</td>\n",
       "    </tr>\n",
       "    <tr>\n",
       "      <th>True_1</th>\n",
       "      <td>0.0</td>\n",
       "      <td>50.4</td>\n",
       "    </tr>\n",
       "  </tbody>\n",
       "</table>\n",
       "</div>"
      ],
      "text/plain": [
       "        Pred_0  Pred_1\n",
       "True_0   171.2    28.8\n",
       "True_1     0.0    50.4"
      ]
     },
     "metadata": {},
     "output_type": "display_data"
    },
    {
     "data": {
      "text/html": [
       "<div>\n",
       "<style scoped>\n",
       "    .dataframe tbody tr th:only-of-type {\n",
       "        vertical-align: middle;\n",
       "    }\n",
       "\n",
       "    .dataframe tbody tr th {\n",
       "        vertical-align: top;\n",
       "    }\n",
       "\n",
       "    .dataframe thead th {\n",
       "        text-align: right;\n",
       "    }\n",
       "</style>\n",
       "<table border=\"1\" class=\"dataframe\">\n",
       "  <thead>\n",
       "    <tr style=\"text-align: right;\">\n",
       "      <th></th>\n",
       "      <th>Pred_0</th>\n",
       "      <th>Pred_1</th>\n",
       "    </tr>\n",
       "  </thead>\n",
       "  <tbody>\n",
       "    <tr>\n",
       "      <th>True_0</th>\n",
       "      <td>6.493073</td>\n",
       "      <td>6.645299</td>\n",
       "    </tr>\n",
       "    <tr>\n",
       "      <th>True_1</th>\n",
       "      <td>0.000000</td>\n",
       "      <td>1.356466</td>\n",
       "    </tr>\n",
       "  </tbody>\n",
       "</table>\n",
       "</div>"
      ],
      "text/plain": [
       "          Pred_0    Pred_1\n",
       "True_0  6.493073  6.645299\n",
       "True_1  0.000000  1.356466"
      ]
     },
     "metadata": {},
     "output_type": "display_data"
    },
    {
     "name": "stdout",
     "output_type": "stream",
     "text": [
      "Chiave: br3, Valore: {'inner_iteration_1': {'Accuracy': 0.3481781376518219, 'Balanced_Accuracy': 0.3536237947246792, 'Precision': 0.3549452041630631, 'Recall': 0.3481781376518219, 'F1-Score': 0.336152697846558, 'Confusion Matrix': [[18, 33, 43], [13, 24, 27], [17, 28, 44]]}, 'inner_iteration_2': {'Accuracy': 0.3665338645418327, 'Balanced_Accuracy': 0.3473036398467433, 'Precision': 0.3832870273292794, 'Recall': 0.3665338645418327, 'F1-Score': 0.3279582746721565, 'Confusion Matrix': [[27, 8, 65], [11, 6, 47], [26, 2, 59]]}, 'inner_iteration_3': {'Accuracy': 0.572, 'Balanced_Accuracy': 0.5730837789661319, 'Precision': 0.5825654116948236, 'Recall': 0.572, 'F1-Score': 0.5736812305721478, 'Confusion Matrix': [[61, 21, 20], [12, 41, 13], [18, 23, 41]]}, 'inner_iteration_4': {'Accuracy': 0.3442622950819672, 'Balanced_Accuracy': 0.32232919354321105, 'Precision': 0.33184181655281797, 'Recall': 0.3442622950819672, 'F1-Score': 0.3275545687723674, 'Confusion Matrix': [[51, 17, 26], [42, 10, 13], [44, 18, 23]]}, 'inner_iteration_5': {'Accuracy': 0.5912698412698413, 'Balanced_Accuracy': 0.6099918273273008, 'Precision': 0.6423466117216118, 'Recall': 0.5912698412698413, 'F1-Score': 0.5948862702306172, 'Confusion Matrix': [[46, 38, 14], [9, 49, 7], [10, 25, 54]]}}\n",
      "['Accuracy', 'Balanced_Accuracy', 'Precision', 'Recall', 'F1-Score', 'Confusion Matrix']\n",
      "[0.34817814 0.36653386 0.572      0.3442623  0.59126984]\n",
      "[0.35362379 0.34730364 0.57308378 0.32232919 0.60999183]\n",
      "[0.3549452  0.38328703 0.58256541 0.33184182 0.64234661]\n",
      "[0.34817814 0.36653386 0.572      0.3442623  0.59126984]\n",
      "[0.3361527  0.32795827 0.57368123 0.32755457 0.59488627]\n",
      "[[[18 33 43]\n",
      "  [13 24 27]\n",
      "  [17 28 44]]\n",
      "\n",
      " [[27  8 65]\n",
      "  [11  6 47]\n",
      "  [26  2 59]]\n",
      "\n",
      " [[61 21 20]\n",
      "  [12 41 13]\n",
      "  [18 23 41]]\n",
      "\n",
      " [[51 17 26]\n",
      "  [42 10 13]\n",
      "  [44 18 23]]\n",
      "\n",
      " [[46 38 14]\n",
      "  [ 9 49  7]\n",
      "  [10 25 54]]]\n"
     ]
    },
    {
     "data": {
      "text/html": [
       "<div>\n",
       "<style scoped>\n",
       "    .dataframe tbody tr th:only-of-type {\n",
       "        vertical-align: middle;\n",
       "    }\n",
       "\n",
       "    .dataframe tbody tr th {\n",
       "        vertical-align: top;\n",
       "    }\n",
       "\n",
       "    .dataframe thead th {\n",
       "        text-align: right;\n",
       "    }\n",
       "</style>\n",
       "<table border=\"1\" class=\"dataframe\">\n",
       "  <thead>\n",
       "    <tr style=\"text-align: right;\">\n",
       "      <th></th>\n",
       "      <th>Mean</th>\n",
       "      <th>Confidence Interval</th>\n",
       "    </tr>\n",
       "  </thead>\n",
       "  <tbody>\n",
       "    <tr>\n",
       "      <th>Accuracy</th>\n",
       "      <td>0.444449</td>\n",
       "      <td>0.112429</td>\n",
       "    </tr>\n",
       "    <tr>\n",
       "      <th>Balanced_Accuracy</th>\n",
       "      <td>0.441266</td>\n",
       "      <td>0.123693</td>\n",
       "    </tr>\n",
       "    <tr>\n",
       "      <th>Precision</th>\n",
       "      <td>0.458997</td>\n",
       "      <td>0.127760</td>\n",
       "    </tr>\n",
       "    <tr>\n",
       "      <th>Recall</th>\n",
       "      <td>0.444449</td>\n",
       "      <td>0.112429</td>\n",
       "    </tr>\n",
       "    <tr>\n",
       "      <th>F1-Score</th>\n",
       "      <td>0.432047</td>\n",
       "      <td>0.124520</td>\n",
       "    </tr>\n",
       "    <tr>\n",
       "      <th>Confusion Matrix</th>\n",
       "      <td>27.644444</td>\n",
       "      <td>14.958312</td>\n",
       "    </tr>\n",
       "  </tbody>\n",
       "</table>\n",
       "</div>"
      ],
      "text/plain": [
       "                        Mean  Confidence Interval\n",
       "Accuracy            0.444449             0.112429\n",
       "Balanced_Accuracy   0.441266             0.123693\n",
       "Precision           0.458997             0.127760\n",
       "Recall              0.444449             0.112429\n",
       "F1-Score            0.432047             0.124520\n",
       "Confusion Matrix   27.644444            14.958312"
      ]
     },
     "metadata": {},
     "output_type": "display_data"
    },
    {
     "name": "stdout",
     "output_type": "stream",
     "text": [
      "[[40.6 23.4 33.6]\n",
      " [17.4 26.  21.4]\n",
      " [23.  19.2 44.2]]\n"
     ]
    },
    {
     "data": {
      "text/html": [
       "<div>\n",
       "<style scoped>\n",
       "    .dataframe tbody tr th:only-of-type {\n",
       "        vertical-align: middle;\n",
       "    }\n",
       "\n",
       "    .dataframe tbody tr th {\n",
       "        vertical-align: top;\n",
       "    }\n",
       "\n",
       "    .dataframe thead th {\n",
       "        text-align: right;\n",
       "    }\n",
       "</style>\n",
       "<table border=\"1\" class=\"dataframe\">\n",
       "  <thead>\n",
       "    <tr style=\"text-align: right;\">\n",
       "      <th></th>\n",
       "      <th>Pred_0</th>\n",
       "      <th>Pred_1</th>\n",
       "      <th>Pred_2</th>\n",
       "    </tr>\n",
       "  </thead>\n",
       "  <tbody>\n",
       "    <tr>\n",
       "      <th>True_0</th>\n",
       "      <td>40.6</td>\n",
       "      <td>23.4</td>\n",
       "      <td>33.6</td>\n",
       "    </tr>\n",
       "    <tr>\n",
       "      <th>True_1</th>\n",
       "      <td>17.4</td>\n",
       "      <td>26.0</td>\n",
       "      <td>21.4</td>\n",
       "    </tr>\n",
       "    <tr>\n",
       "      <th>True_2</th>\n",
       "      <td>23.0</td>\n",
       "      <td>19.2</td>\n",
       "      <td>44.2</td>\n",
       "    </tr>\n",
       "  </tbody>\n",
       "</table>\n",
       "</div>"
      ],
      "text/plain": [
       "        Pred_0  Pred_1  Pred_2\n",
       "True_0    40.6    23.4    33.6\n",
       "True_1    17.4    26.0    21.4\n",
       "True_2    23.0    19.2    44.2"
      ]
     },
     "metadata": {},
     "output_type": "display_data"
    },
    {
     "data": {
      "text/html": [
       "<div>\n",
       "<style scoped>\n",
       "    .dataframe tbody tr th:only-of-type {\n",
       "        vertical-align: middle;\n",
       "    }\n",
       "\n",
       "    .dataframe tbody tr th {\n",
       "        vertical-align: top;\n",
       "    }\n",
       "\n",
       "    .dataframe thead th {\n",
       "        text-align: right;\n",
       "    }\n",
       "</style>\n",
       "<table border=\"1\" class=\"dataframe\">\n",
       "  <thead>\n",
       "    <tr style=\"text-align: right;\">\n",
       "      <th></th>\n",
       "      <th>Pred_0</th>\n",
       "      <th>Pred_1</th>\n",
       "      <th>Pred_2</th>\n",
       "    </tr>\n",
       "  </thead>\n",
       "  <tbody>\n",
       "    <tr>\n",
       "      <th>True_0</th>\n",
       "      <td>15.806328</td>\n",
       "      <td>10.855413</td>\n",
       "      <td>18.445596</td>\n",
       "    </tr>\n",
       "    <tr>\n",
       "      <th>True_1</th>\n",
       "      <td>12.370934</td>\n",
       "      <td>16.816658</td>\n",
       "      <td>14.388885</td>\n",
       "    </tr>\n",
       "    <tr>\n",
       "      <th>True_2</th>\n",
       "      <td>11.661904</td>\n",
       "      <td>9.195651</td>\n",
       "      <td>12.448293</td>\n",
       "    </tr>\n",
       "  </tbody>\n",
       "</table>\n",
       "</div>"
      ],
      "text/plain": [
       "           Pred_0     Pred_1     Pred_2\n",
       "True_0  15.806328  10.855413  18.445596\n",
       "True_1  12.370934  16.816658  14.388885\n",
       "True_2  11.661904   9.195651  12.448293"
      ]
     },
     "metadata": {},
     "output_type": "display_data"
    },
    {
     "name": "stdout",
     "output_type": "stream",
     "text": [
      "Chiave: pdl1-3, Valore: {'inner_iteration_1': {'Accuracy': 0.5504587155963303, 'Balanced_Accuracy': 0.5548245614035088, 'Precision': 0.5619339841118859, 'Recall': 0.5504587155963303, 'F1-Score': 0.5512886754904546, 'Confusion Matrix': [[39, 12, 27], [18, 41, 17], [12, 12, 40]]}, 'inner_iteration_2': {'Accuracy': 0.7300884955752213, 'Balanced_Accuracy': 0.7348093673394879, 'Precision': 0.7440370659735265, 'Recall': 0.7300884955752213, 'F1-Score': 0.7292307604143833, 'Confusion Matrix': [[52, 16, 15], [5, 62, 10], [5, 10, 51]]}, 'inner_iteration_3': {'Accuracy': 0.5605381165919282, 'Balanced_Accuracy': 0.5748742723993054, 'Precision': 0.6224672915313122, 'Recall': 0.5605381165919282, 'F1-Score': 0.5512112050144851, 'Confusion Matrix': [[33, 9, 35], [12, 34, 33], [5, 4, 58]]}, 'inner_iteration_4': {'Accuracy': 0.8628318584070797, 'Balanced_Accuracy': 0.8676044634377967, 'Precision': 0.8739346655973242, 'Recall': 0.8628318584070797, 'F1-Score': 0.8638723377591706, 'Confusion Matrix': [[65, 5, 10], [3, 69, 9], [1, 3, 61]]}, 'inner_iteration_5': {'Accuracy': 0.7397260273972602, 'Balanced_Accuracy': 0.7532430819486761, 'Precision': 0.7940137802159999, 'Recall': 0.7397260273972602, 'F1-Score': 0.743544288469898, 'Confusion Matrix': [[48, 2, 28], [8, 56, 15], [2, 2, 58]]}}\n",
      "['Accuracy', 'Balanced_Accuracy', 'Precision', 'Recall', 'F1-Score', 'Confusion Matrix']\n",
      "[0.55045872 0.7300885  0.56053812 0.86283186 0.73972603]\n",
      "[0.55482456 0.73480937 0.57487427 0.86760446 0.75324308]\n",
      "[0.56193398 0.74403707 0.62246729 0.87393467 0.79401378]\n",
      "[0.55045872 0.7300885  0.56053812 0.86283186 0.73972603]\n",
      "[0.55128868 0.72923076 0.55121121 0.86387234 0.74354429]\n",
      "[[[39 12 27]\n",
      "  [18 41 17]\n",
      "  [12 12 40]]\n",
      "\n",
      " [[52 16 15]\n",
      "  [ 5 62 10]\n",
      "  [ 5 10 51]]\n",
      "\n",
      " [[33  9 35]\n",
      "  [12 34 33]\n",
      "  [ 5  4 58]]\n",
      "\n",
      " [[65  5 10]\n",
      "  [ 3 69  9]\n",
      "  [ 1  3 61]]\n",
      "\n",
      " [[48  2 28]\n",
      "  [ 8 56 15]\n",
      "  [ 2  2 58]]]\n"
     ]
    },
    {
     "data": {
      "text/html": [
       "<div>\n",
       "<style scoped>\n",
       "    .dataframe tbody tr th:only-of-type {\n",
       "        vertical-align: middle;\n",
       "    }\n",
       "\n",
       "    .dataframe tbody tr th {\n",
       "        vertical-align: top;\n",
       "    }\n",
       "\n",
       "    .dataframe thead th {\n",
       "        text-align: right;\n",
       "    }\n",
       "</style>\n",
       "<table border=\"1\" class=\"dataframe\">\n",
       "  <thead>\n",
       "    <tr style=\"text-align: right;\">\n",
       "      <th></th>\n",
       "      <th>Mean</th>\n",
       "      <th>Confidence Interval</th>\n",
       "    </tr>\n",
       "  </thead>\n",
       "  <tbody>\n",
       "    <tr>\n",
       "      <th>Accuracy</th>\n",
       "      <td>0.688729</td>\n",
       "      <td>0.118469</td>\n",
       "    </tr>\n",
       "    <tr>\n",
       "      <th>Balanced_Accuracy</th>\n",
       "      <td>0.697071</td>\n",
       "      <td>0.117326</td>\n",
       "    </tr>\n",
       "    <tr>\n",
       "      <th>Precision</th>\n",
       "      <td>0.719277</td>\n",
       "      <td>0.113355</td>\n",
       "    </tr>\n",
       "    <tr>\n",
       "      <th>Recall</th>\n",
       "      <td>0.688729</td>\n",
       "      <td>0.118469</td>\n",
       "    </tr>\n",
       "    <tr>\n",
       "      <th>F1-Score</th>\n",
       "      <td>0.687829</td>\n",
       "      <td>0.120927</td>\n",
       "    </tr>\n",
       "    <tr>\n",
       "      <th>Confusion Matrix</th>\n",
       "      <td>24.711111</td>\n",
       "      <td>19.063170</td>\n",
       "    </tr>\n",
       "  </tbody>\n",
       "</table>\n",
       "</div>"
      ],
      "text/plain": [
       "                        Mean  Confidence Interval\n",
       "Accuracy            0.688729             0.118469\n",
       "Balanced_Accuracy   0.697071             0.117326\n",
       "Precision           0.719277             0.113355\n",
       "Recall              0.688729             0.118469\n",
       "F1-Score            0.687829             0.120927\n",
       "Confusion Matrix   24.711111            19.063170"
      ]
     },
     "metadata": {},
     "output_type": "display_data"
    },
    {
     "name": "stdout",
     "output_type": "stream",
     "text": [
      "[[47.4  8.8 23. ]\n",
      " [ 9.2 52.4 16.8]\n",
      " [ 5.   6.2 53.6]]\n"
     ]
    },
    {
     "data": {
      "text/html": [
       "<div>\n",
       "<style scoped>\n",
       "    .dataframe tbody tr th:only-of-type {\n",
       "        vertical-align: middle;\n",
       "    }\n",
       "\n",
       "    .dataframe tbody tr th {\n",
       "        vertical-align: top;\n",
       "    }\n",
       "\n",
       "    .dataframe thead th {\n",
       "        text-align: right;\n",
       "    }\n",
       "</style>\n",
       "<table border=\"1\" class=\"dataframe\">\n",
       "  <thead>\n",
       "    <tr style=\"text-align: right;\">\n",
       "      <th></th>\n",
       "      <th>Pred_0</th>\n",
       "      <th>Pred_1</th>\n",
       "      <th>Pred_2</th>\n",
       "    </tr>\n",
       "  </thead>\n",
       "  <tbody>\n",
       "    <tr>\n",
       "      <th>True_0</th>\n",
       "      <td>47.4</td>\n",
       "      <td>8.8</td>\n",
       "      <td>23.0</td>\n",
       "    </tr>\n",
       "    <tr>\n",
       "      <th>True_1</th>\n",
       "      <td>9.2</td>\n",
       "      <td>52.4</td>\n",
       "      <td>16.8</td>\n",
       "    </tr>\n",
       "    <tr>\n",
       "      <th>True_2</th>\n",
       "      <td>5.0</td>\n",
       "      <td>6.2</td>\n",
       "      <td>53.6</td>\n",
       "    </tr>\n",
       "  </tbody>\n",
       "</table>\n",
       "</div>"
      ],
      "text/plain": [
       "        Pred_0  Pred_1  Pred_2\n",
       "True_0    47.4     8.8    23.0\n",
       "True_1     9.2    52.4    16.8\n",
       "True_2     5.0     6.2    53.6"
      ]
     },
     "metadata": {},
     "output_type": "display_data"
    },
    {
     "data": {
      "text/html": [
       "<div>\n",
       "<style scoped>\n",
       "    .dataframe tbody tr th:only-of-type {\n",
       "        vertical-align: middle;\n",
       "    }\n",
       "\n",
       "    .dataframe tbody tr th {\n",
       "        vertical-align: top;\n",
       "    }\n",
       "\n",
       "    .dataframe thead th {\n",
       "        text-align: right;\n",
       "    }\n",
       "</style>\n",
       "<table border=\"1\" class=\"dataframe\">\n",
       "  <thead>\n",
       "    <tr style=\"text-align: right;\">\n",
       "      <th></th>\n",
       "      <th>Pred_0</th>\n",
       "      <th>Pred_1</th>\n",
       "      <th>Pred_2</th>\n",
       "    </tr>\n",
       "  </thead>\n",
       "  <tbody>\n",
       "    <tr>\n",
       "      <th>True_0</th>\n",
       "      <td>11.038116</td>\n",
       "      <td>4.955805</td>\n",
       "      <td>9.143304</td>\n",
       "    </tr>\n",
       "    <tr>\n",
       "      <th>True_1</th>\n",
       "      <td>5.344156</td>\n",
       "      <td>13.032268</td>\n",
       "      <td>8.634813</td>\n",
       "    </tr>\n",
       "    <tr>\n",
       "      <th>True_2</th>\n",
       "      <td>3.847077</td>\n",
       "      <td>4.019950</td>\n",
       "      <td>7.552483</td>\n",
       "    </tr>\n",
       "  </tbody>\n",
       "</table>\n",
       "</div>"
      ],
      "text/plain": [
       "           Pred_0     Pred_1    Pred_2\n",
       "True_0  11.038116   4.955805  9.143304\n",
       "True_1   5.344156  13.032268  8.634813\n",
       "True_2   3.847077   4.019950  7.552483"
      ]
     },
     "metadata": {},
     "output_type": "display_data"
    }
   ],
   "source": [
    "import numpy as np\n",
    "import pandas as pd\n",
    "from scipy.stats import sem\n",
    "\n",
    "#train_metrics\n",
    "for key, value in outer_train_metrics.items():\n",
    "    print(f\"Chiave: {key}, Valore: {value}\")\n",
    "    train_metrics = value\n",
    "    # Extract metrics\n",
    "    metrics = list(train_metrics['inner_iteration_1'].keys())\n",
    "    #metrics = metrics[:-1]\n",
    "    print(metrics)\n",
    "\n",
    "    # Compute mean and confidence interval for each metric\n",
    "    summary = {}\n",
    "    n = len(train_metrics)  # Number of iterations\n",
    "\n",
    "    for metric in metrics:\n",
    "        values = np.array([train_metrics[key][metric] for key in train_metrics.keys()])\n",
    "        print(values)\n",
    "        mean_value = np.mean(values)\n",
    "        confidence_interval = 2 * np.std(values, ddof=1) / np.sqrt(n)  # 2 * standard error of the mean\n",
    "        \n",
    "        summary[metric] = {'Mean': mean_value, 'Confidence Interval': confidence_interval}\n",
    "\n",
    "    # Convert results to a DataFrame for visualization\n",
    "    summary_df = pd.DataFrame(summary).T\n",
    "\n",
    "    display(summary_df)\n",
    "\n",
    "    metrics = ['Confusion Matrix']\n",
    "\n",
    "    for metric in metrics:\n",
    "        values = np.array([train_metrics[key][metric] for key in train_metrics.keys()])\n",
    "        #print(values)\n",
    "\n",
    "\n",
    "    # Compute the mean confusion matrix\n",
    "    mean_confusion_matrix = np.mean(values, axis=0)\n",
    "    print(mean_confusion_matrix)\n",
    "\n",
    "    # Compute the confidence interval (2 * standard error of the mean)\n",
    "    n_matrices = values.shape[0]\n",
    "    confidence_interval_matrix = 2 * np.std(values, axis=0, ddof=1) / np.sqrt(n_matrices)\n",
    "\n",
    "    # Convert to DataFrame for better visualization\n",
    "    size = mean_confusion_matrix.shape[0]\n",
    "    \n",
    "    mean_confusion_df = pd.DataFrame(mean_confusion_matrix, columns=[f'Pred_{i}' for i in range(size)], index=[f'True_{i}' for i in range(size)])\n",
    "    confidence_interval_df = pd.DataFrame(confidence_interval_matrix, columns=[f'Pred_{i}' for i in range(size)], index=[f'True_{i}' for i in range(size)])\n",
    "    \n",
    "\n",
    "    display(mean_confusion_df)\n",
    "    display(confidence_interval_df)"
   ]
  },
  {
   "cell_type": "code",
   "execution_count": 7,
   "metadata": {},
   "outputs": [
    {
     "data": {
      "text/plain": [
       "{'adsq': {'inner_iteration_1': {'Accuracy': 0.8975409836065574,\n",
       "   'Balanced_Accuracy': 0.9352331606217616,\n",
       "   'Precision': 0.9312446074201898,\n",
       "   'Recall': 0.8975409836065574,\n",
       "   'F1-Score': 0.9040777825890605,\n",
       "   'Confusion Matrix': [[168, 25], [0, 51]]},\n",
       "  'inner_iteration_2': {'Accuracy': 0.8433734939759037,\n",
       "   'Balanced_Accuracy': 0.9029850746268657,\n",
       "   'Precision': 0.9135853759867054,\n",
       "   'Recall': 0.8433734939759037,\n",
       "   'F1-Score': 0.8575835020522863,\n",
       "   'Confusion Matrix': [[162, 39], [0, 48]]},\n",
       "  'inner_iteration_3': {'Accuracy': 0.9166666666666666,\n",
       "   'Balanced_Accuracy': 0.9477611940298507,\n",
       "   'Precision': 0.9409722222222222,\n",
       "   'Recall': 0.9166666666666666,\n",
       "   'F1-Score': 0.9214838998783688,\n",
       "   'Confusion Matrix': [[180, 21], [0, 51]]},\n",
       "  'inner_iteration_4': {'Accuracy': 0.8656126482213439,\n",
       "   'Balanced_Accuracy': 0.916256157635468,\n",
       "   'Precision': 0.9200075287031809,\n",
       "   'Recall': 0.8656126482213439,\n",
       "   'F1-Score': 0.8765204323911489,\n",
       "   'Confusion Matrix': [[169, 34], [0, 50]]},\n",
       "  'inner_iteration_5': {'Accuracy': 0.9015748031496063,\n",
       "   'Balanced_Accuracy': 0.9381188118811881,\n",
       "   'Precision': 0.9335310358932406,\n",
       "   'Recall': 0.9015748031496063,\n",
       "   'F1-Score': 0.9078659148093693,\n",
       "   'Confusion Matrix': [[177, 25], [0, 52]]}},\n",
       " 'br3': {'inner_iteration_1': {'Accuracy': 0.3481781376518219,\n",
       "   'Balanced_Accuracy': 0.3536237947246792,\n",
       "   'Precision': 0.3549452041630631,\n",
       "   'Recall': 0.3481781376518219,\n",
       "   'F1-Score': 0.336152697846558,\n",
       "   'Confusion Matrix': [[18, 33, 43], [13, 24, 27], [17, 28, 44]]},\n",
       "  'inner_iteration_2': {'Accuracy': 0.3665338645418327,\n",
       "   'Balanced_Accuracy': 0.3473036398467433,\n",
       "   'Precision': 0.3832870273292794,\n",
       "   'Recall': 0.3665338645418327,\n",
       "   'F1-Score': 0.3279582746721565,\n",
       "   'Confusion Matrix': [[27, 8, 65], [11, 6, 47], [26, 2, 59]]},\n",
       "  'inner_iteration_3': {'Accuracy': 0.572,\n",
       "   'Balanced_Accuracy': 0.5730837789661319,\n",
       "   'Precision': 0.5825654116948236,\n",
       "   'Recall': 0.572,\n",
       "   'F1-Score': 0.5736812305721478,\n",
       "   'Confusion Matrix': [[61, 21, 20], [12, 41, 13], [18, 23, 41]]},\n",
       "  'inner_iteration_4': {'Accuracy': 0.3442622950819672,\n",
       "   'Balanced_Accuracy': 0.32232919354321105,\n",
       "   'Precision': 0.33184181655281797,\n",
       "   'Recall': 0.3442622950819672,\n",
       "   'F1-Score': 0.3275545687723674,\n",
       "   'Confusion Matrix': [[51, 17, 26], [42, 10, 13], [44, 18, 23]]},\n",
       "  'inner_iteration_5': {'Accuracy': 0.5912698412698413,\n",
       "   'Balanced_Accuracy': 0.6099918273273008,\n",
       "   'Precision': 0.6423466117216118,\n",
       "   'Recall': 0.5912698412698413,\n",
       "   'F1-Score': 0.5948862702306172,\n",
       "   'Confusion Matrix': [[46, 38, 14], [9, 49, 7], [10, 25, 54]]}},\n",
       " 'pdl1-3': {'inner_iteration_1': {'Accuracy': 0.5504587155963303,\n",
       "   'Balanced_Accuracy': 0.5548245614035088,\n",
       "   'Precision': 0.5619339841118859,\n",
       "   'Recall': 0.5504587155963303,\n",
       "   'F1-Score': 0.5512886754904546,\n",
       "   'Confusion Matrix': [[39, 12, 27], [18, 41, 17], [12, 12, 40]]},\n",
       "  'inner_iteration_2': {'Accuracy': 0.7300884955752213,\n",
       "   'Balanced_Accuracy': 0.7348093673394879,\n",
       "   'Precision': 0.7440370659735265,\n",
       "   'Recall': 0.7300884955752213,\n",
       "   'F1-Score': 0.7292307604143833,\n",
       "   'Confusion Matrix': [[52, 16, 15], [5, 62, 10], [5, 10, 51]]},\n",
       "  'inner_iteration_3': {'Accuracy': 0.5605381165919282,\n",
       "   'Balanced_Accuracy': 0.5748742723993054,\n",
       "   'Precision': 0.6224672915313122,\n",
       "   'Recall': 0.5605381165919282,\n",
       "   'F1-Score': 0.5512112050144851,\n",
       "   'Confusion Matrix': [[33, 9, 35], [12, 34, 33], [5, 4, 58]]},\n",
       "  'inner_iteration_4': {'Accuracy': 0.8628318584070797,\n",
       "   'Balanced_Accuracy': 0.8676044634377967,\n",
       "   'Precision': 0.8739346655973242,\n",
       "   'Recall': 0.8628318584070797,\n",
       "   'F1-Score': 0.8638723377591706,\n",
       "   'Confusion Matrix': [[65, 5, 10], [3, 69, 9], [1, 3, 61]]},\n",
       "  'inner_iteration_5': {'Accuracy': 0.7397260273972602,\n",
       "   'Balanced_Accuracy': 0.7532430819486761,\n",
       "   'Precision': 0.7940137802159999,\n",
       "   'Recall': 0.7397260273972602,\n",
       "   'F1-Score': 0.743544288469898,\n",
       "   'Confusion Matrix': [[48, 2, 28], [8, 56, 15], [2, 2, 58]]}}}"
      ]
     },
     "execution_count": 7,
     "metadata": {},
     "output_type": "execute_result"
    }
   ],
   "source": [
    "outer_train_metrics"
   ]
  },
  {
   "cell_type": "code",
   "execution_count": 8,
   "metadata": {},
   "outputs": [
    {
     "data": {
      "text/plain": [
       "{'inner_iteration_1': {'Class_0': {'Accuracy': 0.8704663212435233,\n",
       "   'Precision': 1.0,\n",
       "   'Recall': 0.8704663212435233,\n",
       "   'F1-score': 0.9307479224376731},\n",
       "  'Class_1': {'Accuracy': 1.0,\n",
       "   'Precision': 0.6710526315789473,\n",
       "   'Recall': 1.0,\n",
       "   'F1-score': 0.8031496062992126}},\n",
       " 'inner_iteration_2': {'Class_0': {'Accuracy': 0.8059701492537313,\n",
       "   'Precision': 1.0,\n",
       "   'Recall': 0.8059701492537313,\n",
       "   'F1-score': 0.8925619834710744},\n",
       "  'Class_1': {'Accuracy': 1.0,\n",
       "   'Precision': 0.5517241379310345,\n",
       "   'Recall': 1.0,\n",
       "   'F1-score': 0.7111111111111111}},\n",
       " 'inner_iteration_3': {'Class_0': {'Accuracy': 0.8955223880597015,\n",
       "   'Precision': 1.0,\n",
       "   'Recall': 0.8955223880597015,\n",
       "   'F1-score': 0.9448818897637795},\n",
       "  'Class_1': {'Accuracy': 1.0,\n",
       "   'Precision': 0.7083333333333334,\n",
       "   'Recall': 1.0,\n",
       "   'F1-score': 0.8292682926829268}},\n",
       " 'inner_iteration_4': {'Class_0': {'Accuracy': 0.8325123152709359,\n",
       "   'Precision': 1.0,\n",
       "   'Recall': 0.8325123152709359,\n",
       "   'F1-score': 0.9086021505376344},\n",
       "  'Class_1': {'Accuracy': 1.0,\n",
       "   'Precision': 0.5952380952380952,\n",
       "   'Recall': 1.0,\n",
       "   'F1-score': 0.746268656716418}},\n",
       " 'inner_iteration_5': {'Class_0': {'Accuracy': 0.8762376237623762,\n",
       "   'Precision': 1.0,\n",
       "   'Recall': 0.8762376237623762,\n",
       "   'F1-score': 0.9340369393139841},\n",
       "  'Class_1': {'Accuracy': 1.0,\n",
       "   'Precision': 0.6753246753246753,\n",
       "   'Recall': 1.0,\n",
       "   'F1-score': 0.8062015503875969}}}"
      ]
     },
     "execution_count": 8,
     "metadata": {},
     "output_type": "execute_result"
    }
   ],
   "source": [
    "outer_train_class_metrics[\"adsq\"]"
   ]
  },
  {
   "cell_type": "code",
   "execution_count": 9,
   "metadata": {},
   "outputs": [],
   "source": [
    "# ------------------------------------------------------------------------------\n",
    "# Function to compute a simple 95% confidence interval ≈ mean ± 2 * (std / sqrt(n))\n",
    "# ------------------------------------------------------------------------------\n",
    "def compute_mean_and_ci(values):\n",
    "    \"\"\"\n",
    "    Returns (mean, ci) where ci is an approximate +/- 95% confidence interval\n",
    "    using 2 * standard_error. (You could also switch to a t- or z-based formula.)\n",
    "    \"\"\"\n",
    "    arr = np.array(values, dtype=float)\n",
    "    mean_val = arr.mean()\n",
    "    n = len(arr)\n",
    "    if n > 1:\n",
    "        std_err = arr.std(ddof=1) / np.sqrt(n)\n",
    "        ci = 2.0 * std_err  # Approx 95% if n is reasonably large\n",
    "    else:\n",
    "        # If only one sample, CI is 0\n",
    "        ci = 0.0\n",
    "    return mean_val, ci"
   ]
  },
  {
   "cell_type": "code",
   "execution_count": 10,
   "metadata": {},
   "outputs": [
    {
     "name": "stdout",
     "output_type": "stream",
     "text": [
      "adsq\n",
      "['inner_iteration_1', 'inner_iteration_2', 'inner_iteration_3', 'inner_iteration_4', 'inner_iteration_5']\n",
      "['Class_0', 'Class_1']\n",
      "br3\n",
      "['inner_iteration_1', 'inner_iteration_2', 'inner_iteration_3', 'inner_iteration_4', 'inner_iteration_5']\n",
      "['Class_0', 'Class_1', 'Class_2']\n",
      "pdl1-3\n",
      "['inner_iteration_1', 'inner_iteration_2', 'inner_iteration_3', 'inner_iteration_4', 'inner_iteration_5']\n",
      "['Class_0', 'Class_1', 'Class_2']\n"
     ]
    },
    {
     "data": {
      "text/html": [
       "<div>\n",
       "<style scoped>\n",
       "    .dataframe tbody tr th:only-of-type {\n",
       "        vertical-align: middle;\n",
       "    }\n",
       "\n",
       "    .dataframe tbody tr th {\n",
       "        vertical-align: top;\n",
       "    }\n",
       "\n",
       "    .dataframe thead th {\n",
       "        text-align: right;\n",
       "    }\n",
       "</style>\n",
       "<table border=\"1\" class=\"dataframe\">\n",
       "  <thead>\n",
       "    <tr style=\"text-align: right;\">\n",
       "      <th></th>\n",
       "      <th>Model</th>\n",
       "      <th>Class</th>\n",
       "      <th>Metric</th>\n",
       "      <th>Mean</th>\n",
       "      <th>95% CI</th>\n",
       "    </tr>\n",
       "  </thead>\n",
       "  <tbody>\n",
       "    <tr>\n",
       "      <th>0</th>\n",
       "      <td>adsq</td>\n",
       "      <td>Class_0</td>\n",
       "      <td>Accuracy</td>\n",
       "      <td>0.856142</td>\n",
       "      <td>0.032359</td>\n",
       "    </tr>\n",
       "    <tr>\n",
       "      <th>1</th>\n",
       "      <td>adsq</td>\n",
       "      <td>Class_0</td>\n",
       "      <td>Precision</td>\n",
       "      <td>1.000000</td>\n",
       "      <td>0.000000</td>\n",
       "    </tr>\n",
       "    <tr>\n",
       "      <th>2</th>\n",
       "      <td>adsq</td>\n",
       "      <td>Class_0</td>\n",
       "      <td>Recall</td>\n",
       "      <td>0.856142</td>\n",
       "      <td>0.032359</td>\n",
       "    </tr>\n",
       "    <tr>\n",
       "      <th>3</th>\n",
       "      <td>adsq</td>\n",
       "      <td>Class_0</td>\n",
       "      <td>F1-score</td>\n",
       "      <td>0.922166</td>\n",
       "      <td>0.018926</td>\n",
       "    </tr>\n",
       "    <tr>\n",
       "      <th>4</th>\n",
       "      <td>adsq</td>\n",
       "      <td>Class_1</td>\n",
       "      <td>Accuracy</td>\n",
       "      <td>1.000000</td>\n",
       "      <td>0.000000</td>\n",
       "    </tr>\n",
       "    <tr>\n",
       "      <th>5</th>\n",
       "      <td>adsq</td>\n",
       "      <td>Class_1</td>\n",
       "      <td>Precision</td>\n",
       "      <td>0.640335</td>\n",
       "      <td>0.057753</td>\n",
       "    </tr>\n",
       "    <tr>\n",
       "      <th>6</th>\n",
       "      <td>adsq</td>\n",
       "      <td>Class_1</td>\n",
       "      <td>Recall</td>\n",
       "      <td>1.000000</td>\n",
       "      <td>0.000000</td>\n",
       "    </tr>\n",
       "    <tr>\n",
       "      <th>7</th>\n",
       "      <td>adsq</td>\n",
       "      <td>Class_1</td>\n",
       "      <td>F1-score</td>\n",
       "      <td>0.779200</td>\n",
       "      <td>0.043658</td>\n",
       "    </tr>\n",
       "    <tr>\n",
       "      <th>8</th>\n",
       "      <td>br3</td>\n",
       "      <td>Class_0</td>\n",
       "      <td>Accuracy</td>\n",
       "      <td>0.414294</td>\n",
       "      <td>0.157296</td>\n",
       "    </tr>\n",
       "    <tr>\n",
       "      <th>9</th>\n",
       "      <td>br3</td>\n",
       "      <td>Class_0</td>\n",
       "      <td>Precision</td>\n",
       "      <td>0.509432</td>\n",
       "      <td>0.148155</td>\n",
       "    </tr>\n",
       "    <tr>\n",
       "      <th>10</th>\n",
       "      <td>br3</td>\n",
       "      <td>Class_0</td>\n",
       "      <td>Recall</td>\n",
       "      <td>0.414294</td>\n",
       "      <td>0.157296</td>\n",
       "    </tr>\n",
       "    <tr>\n",
       "      <th>11</th>\n",
       "      <td>br3</td>\n",
       "      <td>Class_0</td>\n",
       "      <td>F1-score</td>\n",
       "      <td>0.444178</td>\n",
       "      <td>0.140956</td>\n",
       "    </tr>\n",
       "    <tr>\n",
       "      <th>12</th>\n",
       "      <td>br3</td>\n",
       "      <td>Class_1</td>\n",
       "      <td>Accuracy</td>\n",
       "      <td>0.399531</td>\n",
       "      <td>0.256572</td>\n",
       "    </tr>\n",
       "    <tr>\n",
       "      <th>13</th>\n",
       "      <td>br3</td>\n",
       "      <td>Class_1</td>\n",
       "      <td>Precision</td>\n",
       "      <td>0.359886</td>\n",
       "      <td>0.096139</td>\n",
       "    </tr>\n",
       "    <tr>\n",
       "      <th>14</th>\n",
       "      <td>br3</td>\n",
       "      <td>Class_1</td>\n",
       "      <td>Recall</td>\n",
       "      <td>0.399531</td>\n",
       "      <td>0.256572</td>\n",
       "    </tr>\n",
       "    <tr>\n",
       "      <th>15</th>\n",
       "      <td>br3</td>\n",
       "      <td>Class_1</td>\n",
       "      <td>F1-score</td>\n",
       "      <td>0.350137</td>\n",
       "      <td>0.171936</td>\n",
       "    </tr>\n",
       "    <tr>\n",
       "      <th>16</th>\n",
       "      <td>br3</td>\n",
       "      <td>Class_2</td>\n",
       "      <td>Accuracy</td>\n",
       "      <td>0.509975</td>\n",
       "      <td>0.138057</td>\n",
       "    </tr>\n",
       "    <tr>\n",
       "      <th>17</th>\n",
       "      <td>br3</td>\n",
       "      <td>Class_2</td>\n",
       "      <td>Precision</td>\n",
       "      <td>0.475203</td>\n",
       "      <td>0.142770</td>\n",
       "    </tr>\n",
       "    <tr>\n",
       "      <th>18</th>\n",
       "      <td>br3</td>\n",
       "      <td>Class_2</td>\n",
       "      <td>Recall</td>\n",
       "      <td>0.509975</td>\n",
       "      <td>0.138057</td>\n",
       "    </tr>\n",
       "    <tr>\n",
       "      <th>19</th>\n",
       "      <td>br3</td>\n",
       "      <td>Class_2</td>\n",
       "      <td>F1-score</td>\n",
       "      <td>0.477593</td>\n",
       "      <td>0.113594</td>\n",
       "    </tr>\n",
       "    <tr>\n",
       "      <th>20</th>\n",
       "      <td>pdl1-3</td>\n",
       "      <td>Class_0</td>\n",
       "      <td>Accuracy</td>\n",
       "      <td>0.596592</td>\n",
       "      <td>0.130710</td>\n",
       "    </tr>\n",
       "    <tr>\n",
       "      <th>21</th>\n",
       "      <td>pdl1-3</td>\n",
       "      <td>Class_0</td>\n",
       "      <td>Precision</td>\n",
       "      <td>0.766708</td>\n",
       "      <td>0.135361</td>\n",
       "    </tr>\n",
       "    <tr>\n",
       "      <th>22</th>\n",
       "      <td>pdl1-3</td>\n",
       "      <td>Class_0</td>\n",
       "      <td>Recall</td>\n",
       "      <td>0.596592</td>\n",
       "      <td>0.130710</td>\n",
       "    </tr>\n",
       "    <tr>\n",
       "      <th>23</th>\n",
       "      <td>pdl1-3</td>\n",
       "      <td>Class_0</td>\n",
       "      <td>F1-score</td>\n",
       "      <td>0.669181</td>\n",
       "      <td>0.131559</td>\n",
       "    </tr>\n",
       "    <tr>\n",
       "      <th>24</th>\n",
       "      <td>pdl1-3</td>\n",
       "      <td>Class_1</td>\n",
       "      <td>Accuracy</td>\n",
       "      <td>0.667152</td>\n",
       "      <td>0.159545</td>\n",
       "    </tr>\n",
       "    <tr>\n",
       "      <th>25</th>\n",
       "      <td>pdl1-3</td>\n",
       "      <td>Class_1</td>\n",
       "      <td>Precision</td>\n",
       "      <td>0.777631</td>\n",
       "      <td>0.116730</td>\n",
       "    </tr>\n",
       "    <tr>\n",
       "      <th>26</th>\n",
       "      <td>pdl1-3</td>\n",
       "      <td>Class_1</td>\n",
       "      <td>Recall</td>\n",
       "      <td>0.667152</td>\n",
       "      <td>0.159545</td>\n",
       "    </tr>\n",
       "    <tr>\n",
       "      <th>27</th>\n",
       "      <td>pdl1-3</td>\n",
       "      <td>Class_1</td>\n",
       "      <td>F1-score</td>\n",
       "      <td>0.710386</td>\n",
       "      <td>0.128920</td>\n",
       "    </tr>\n",
       "    <tr>\n",
       "      <th>28</th>\n",
       "      <td>pdl1-3</td>\n",
       "      <td>Class_2</td>\n",
       "      <td>Accuracy</td>\n",
       "      <td>0.827469</td>\n",
       "      <td>0.117844</td>\n",
       "    </tr>\n",
       "    <tr>\n",
       "      <th>29</th>\n",
       "      <td>pdl1-3</td>\n",
       "      <td>Class_2</td>\n",
       "      <td>Precision</td>\n",
       "      <td>0.588864</td>\n",
       "      <td>0.115184</td>\n",
       "    </tr>\n",
       "    <tr>\n",
       "      <th>30</th>\n",
       "      <td>pdl1-3</td>\n",
       "      <td>Class_2</td>\n",
       "      <td>Recall</td>\n",
       "      <td>0.827469</td>\n",
       "      <td>0.117844</td>\n",
       "    </tr>\n",
       "    <tr>\n",
       "      <th>31</th>\n",
       "      <td>pdl1-3</td>\n",
       "      <td>Class_2</td>\n",
       "      <td>F1-score</td>\n",
       "      <td>0.682584</td>\n",
       "      <td>0.104081</td>\n",
       "    </tr>\n",
       "  </tbody>\n",
       "</table>\n",
       "</div>"
      ],
      "text/plain": [
       "     Model    Class     Metric      Mean    95% CI\n",
       "0     adsq  Class_0   Accuracy  0.856142  0.032359\n",
       "1     adsq  Class_0  Precision  1.000000  0.000000\n",
       "2     adsq  Class_0     Recall  0.856142  0.032359\n",
       "3     adsq  Class_0   F1-score  0.922166  0.018926\n",
       "4     adsq  Class_1   Accuracy  1.000000  0.000000\n",
       "5     adsq  Class_1  Precision  0.640335  0.057753\n",
       "6     adsq  Class_1     Recall  1.000000  0.000000\n",
       "7     adsq  Class_1   F1-score  0.779200  0.043658\n",
       "8      br3  Class_0   Accuracy  0.414294  0.157296\n",
       "9      br3  Class_0  Precision  0.509432  0.148155\n",
       "10     br3  Class_0     Recall  0.414294  0.157296\n",
       "11     br3  Class_0   F1-score  0.444178  0.140956\n",
       "12     br3  Class_1   Accuracy  0.399531  0.256572\n",
       "13     br3  Class_1  Precision  0.359886  0.096139\n",
       "14     br3  Class_1     Recall  0.399531  0.256572\n",
       "15     br3  Class_1   F1-score  0.350137  0.171936\n",
       "16     br3  Class_2   Accuracy  0.509975  0.138057\n",
       "17     br3  Class_2  Precision  0.475203  0.142770\n",
       "18     br3  Class_2     Recall  0.509975  0.138057\n",
       "19     br3  Class_2   F1-score  0.477593  0.113594\n",
       "20  pdl1-3  Class_0   Accuracy  0.596592  0.130710\n",
       "21  pdl1-3  Class_0  Precision  0.766708  0.135361\n",
       "22  pdl1-3  Class_0     Recall  0.596592  0.130710\n",
       "23  pdl1-3  Class_0   F1-score  0.669181  0.131559\n",
       "24  pdl1-3  Class_1   Accuracy  0.667152  0.159545\n",
       "25  pdl1-3  Class_1  Precision  0.777631  0.116730\n",
       "26  pdl1-3  Class_1     Recall  0.667152  0.159545\n",
       "27  pdl1-3  Class_1   F1-score  0.710386  0.128920\n",
       "28  pdl1-3  Class_2   Accuracy  0.827469  0.117844\n",
       "29  pdl1-3  Class_2  Precision  0.588864  0.115184\n",
       "30  pdl1-3  Class_2     Recall  0.827469  0.117844\n",
       "31  pdl1-3  Class_2   F1-score  0.682584  0.104081"
      ]
     },
     "metadata": {},
     "output_type": "display_data"
    },
    {
     "data": {
      "text/html": [
       "<div>\n",
       "<style scoped>\n",
       "    .dataframe tbody tr th:only-of-type {\n",
       "        vertical-align: middle;\n",
       "    }\n",
       "\n",
       "    .dataframe tbody tr th {\n",
       "        vertical-align: top;\n",
       "    }\n",
       "\n",
       "    .dataframe thead tr th {\n",
       "        text-align: left;\n",
       "    }\n",
       "\n",
       "    .dataframe thead tr:last-of-type th {\n",
       "        text-align: right;\n",
       "    }\n",
       "</style>\n",
       "<table border=\"1\" class=\"dataframe\">\n",
       "  <thead>\n",
       "    <tr>\n",
       "      <th></th>\n",
       "      <th></th>\n",
       "      <th colspan=\"4\" halign=\"left\">Mean</th>\n",
       "      <th colspan=\"4\" halign=\"left\">95% CI</th>\n",
       "    </tr>\n",
       "    <tr>\n",
       "      <th></th>\n",
       "      <th>Metric</th>\n",
       "      <th>Accuracy</th>\n",
       "      <th>F1-score</th>\n",
       "      <th>Precision</th>\n",
       "      <th>Recall</th>\n",
       "      <th>Accuracy</th>\n",
       "      <th>F1-score</th>\n",
       "      <th>Precision</th>\n",
       "      <th>Recall</th>\n",
       "    </tr>\n",
       "    <tr>\n",
       "      <th>Model</th>\n",
       "      <th>Class</th>\n",
       "      <th></th>\n",
       "      <th></th>\n",
       "      <th></th>\n",
       "      <th></th>\n",
       "      <th></th>\n",
       "      <th></th>\n",
       "      <th></th>\n",
       "      <th></th>\n",
       "    </tr>\n",
       "  </thead>\n",
       "  <tbody>\n",
       "    <tr>\n",
       "      <th rowspan=\"2\" valign=\"top\">adsq</th>\n",
       "      <th>Class_0</th>\n",
       "      <td>0.856142</td>\n",
       "      <td>0.922166</td>\n",
       "      <td>1.000000</td>\n",
       "      <td>0.856142</td>\n",
       "      <td>0.032359</td>\n",
       "      <td>0.018926</td>\n",
       "      <td>0.000000</td>\n",
       "      <td>0.032359</td>\n",
       "    </tr>\n",
       "    <tr>\n",
       "      <th>Class_1</th>\n",
       "      <td>1.000000</td>\n",
       "      <td>0.779200</td>\n",
       "      <td>0.640335</td>\n",
       "      <td>1.000000</td>\n",
       "      <td>0.000000</td>\n",
       "      <td>0.043658</td>\n",
       "      <td>0.057753</td>\n",
       "      <td>0.000000</td>\n",
       "    </tr>\n",
       "    <tr>\n",
       "      <th rowspan=\"3\" valign=\"top\">br3</th>\n",
       "      <th>Class_0</th>\n",
       "      <td>0.414294</td>\n",
       "      <td>0.444178</td>\n",
       "      <td>0.509432</td>\n",
       "      <td>0.414294</td>\n",
       "      <td>0.157296</td>\n",
       "      <td>0.140956</td>\n",
       "      <td>0.148155</td>\n",
       "      <td>0.157296</td>\n",
       "    </tr>\n",
       "    <tr>\n",
       "      <th>Class_1</th>\n",
       "      <td>0.399531</td>\n",
       "      <td>0.350137</td>\n",
       "      <td>0.359886</td>\n",
       "      <td>0.399531</td>\n",
       "      <td>0.256572</td>\n",
       "      <td>0.171936</td>\n",
       "      <td>0.096139</td>\n",
       "      <td>0.256572</td>\n",
       "    </tr>\n",
       "    <tr>\n",
       "      <th>Class_2</th>\n",
       "      <td>0.509975</td>\n",
       "      <td>0.477593</td>\n",
       "      <td>0.475203</td>\n",
       "      <td>0.509975</td>\n",
       "      <td>0.138057</td>\n",
       "      <td>0.113594</td>\n",
       "      <td>0.142770</td>\n",
       "      <td>0.138057</td>\n",
       "    </tr>\n",
       "    <tr>\n",
       "      <th rowspan=\"3\" valign=\"top\">pdl1-3</th>\n",
       "      <th>Class_0</th>\n",
       "      <td>0.596592</td>\n",
       "      <td>0.669181</td>\n",
       "      <td>0.766708</td>\n",
       "      <td>0.596592</td>\n",
       "      <td>0.130710</td>\n",
       "      <td>0.131559</td>\n",
       "      <td>0.135361</td>\n",
       "      <td>0.130710</td>\n",
       "    </tr>\n",
       "    <tr>\n",
       "      <th>Class_1</th>\n",
       "      <td>0.667152</td>\n",
       "      <td>0.710386</td>\n",
       "      <td>0.777631</td>\n",
       "      <td>0.667152</td>\n",
       "      <td>0.159545</td>\n",
       "      <td>0.128920</td>\n",
       "      <td>0.116730</td>\n",
       "      <td>0.159545</td>\n",
       "    </tr>\n",
       "    <tr>\n",
       "      <th>Class_2</th>\n",
       "      <td>0.827469</td>\n",
       "      <td>0.682584</td>\n",
       "      <td>0.588864</td>\n",
       "      <td>0.827469</td>\n",
       "      <td>0.117844</td>\n",
       "      <td>0.104081</td>\n",
       "      <td>0.115184</td>\n",
       "      <td>0.117844</td>\n",
       "    </tr>\n",
       "  </tbody>\n",
       "</table>\n",
       "</div>"
      ],
      "text/plain": [
       "                    Mean                                  95% CI            \\\n",
       "Metric          Accuracy  F1-score Precision    Recall  Accuracy  F1-score   \n",
       "Model  Class                                                                 \n",
       "adsq   Class_0  0.856142  0.922166  1.000000  0.856142  0.032359  0.018926   \n",
       "       Class_1  1.000000  0.779200  0.640335  1.000000  0.000000  0.043658   \n",
       "br3    Class_0  0.414294  0.444178  0.509432  0.414294  0.157296  0.140956   \n",
       "       Class_1  0.399531  0.350137  0.359886  0.399531  0.256572  0.171936   \n",
       "       Class_2  0.509975  0.477593  0.475203  0.509975  0.138057  0.113594   \n",
       "pdl1-3 Class_0  0.596592  0.669181  0.766708  0.596592  0.130710  0.131559   \n",
       "       Class_1  0.667152  0.710386  0.777631  0.667152  0.159545  0.128920   \n",
       "       Class_2  0.827469  0.682584  0.588864  0.827469  0.117844  0.104081   \n",
       "\n",
       "                                    \n",
       "Metric         Precision    Recall  \n",
       "Model  Class                        \n",
       "adsq   Class_0  0.000000  0.032359  \n",
       "       Class_1  0.057753  0.000000  \n",
       "br3    Class_0  0.148155  0.157296  \n",
       "       Class_1  0.096139  0.256572  \n",
       "       Class_2  0.142770  0.138057  \n",
       "pdl1-3 Class_0  0.135361  0.130710  \n",
       "       Class_1  0.116730  0.159545  \n",
       "       Class_2  0.115184  0.117844  "
      ]
     },
     "metadata": {},
     "output_type": "display_data"
    }
   ],
   "source": [
    "from pyexpat import model\n",
    "import numpy as np\n",
    "import pandas as pd\n",
    "\n",
    "# ------------------------------------------------------------------------------\n",
    "# Collect and summarize\n",
    "# ------------------------------------------------------------------------------\n",
    "results_list = []  # We'll accumulate dictionaries to later convert to a DataFrame\n",
    "\n",
    "# outer_train_class_metrics might have multiple top-level keys (e.g., 'br3', 'br4', etc.)\n",
    "for model_key, inner_dict in outer_train_class_metrics.items():\n",
    "    # inner_dict looks like:\n",
    "    # {\n",
    "    #   'inner_iteration_5': {'Class_0': {...}, 'Class_1': {...}, ...},\n",
    "    #   'inner_iteration_4': {...},\n",
    "    #   'inner_iteration_3': {...}\n",
    "    # }\n",
    "    print(model_key)\n",
    "    # 1) Identify all available \"inner_iteration\" keys\n",
    "    iteration_keys = list(inner_dict.keys())\n",
    "    print(iteration_keys)\n",
    "\n",
    "    # 2) From the first iteration, identify the classes\n",
    "    #    (Assumes same classes appear in each iteration, or you can unify them if needed)\n",
    "    first_iteration = iteration_keys[0]\n",
    "    class_names = list(inner_dict[first_iteration].keys())\n",
    "    print(class_names)\n",
    "    \n",
    "    # 3) For each class, gather metric lists across iterations\n",
    "    for class_name in class_names:\n",
    "        # We'll track each metric: Accuracy, Precision, Recall, F1-score\n",
    "        # You could also extract these keys on the fly if each class dict has more/less.\n",
    "        metric_names = [\"Accuracy\", \"Precision\", \"Recall\", \"F1-score\"]\n",
    "        \n",
    "        # For storing raw values across all iterations\n",
    "        metrics_storage = {metric: [] for metric in metric_names}\n",
    "        \n",
    "        # 4) Loop over each iteration to collect values\n",
    "        for iteration_key in iteration_keys:\n",
    "            iteration_data = inner_dict[iteration_key]\n",
    "            if class_name in iteration_data:\n",
    "                class_metrics = iteration_data[class_name]\n",
    "                # class_metrics is e.g. {'Accuracy': 0.81, 'Precision': 0.82, ...}\n",
    "                for metric in metric_names:\n",
    "                    if metric in class_metrics:\n",
    "                        metrics_storage[metric].append(class_metrics[metric])\n",
    "        \n",
    "        # 5) Compute mean & CI for each metric in metrics_storage\n",
    "        for metric, values in metrics_storage.items():\n",
    "            if len(values) == 0:\n",
    "                continue  # skip if no data was found for some reason\n",
    "            \n",
    "            mean_val, ci_val = compute_mean_and_ci(values)\n",
    "\n",
    "            results_list.append({\n",
    "                \"Model\":  model_key,\n",
    "                \"Class\":  class_name,\n",
    "                \"Metric\": metric,\n",
    "                \"Mean\":   mean_val,\n",
    "                \"95% CI\": ci_val\n",
    "            })\n",
    "\n",
    "# ------------------------------------------------------------------------------\n",
    "# Convert the collected results into a DataFrame\n",
    "# ------------------------------------------------------------------------------\n",
    "summary_df = pd.DataFrame(results_list)\n",
    "\n",
    "# If desired, you can pivot or group:\n",
    "# e.g., pivot to see each (Class, Metric) as a row with columns = [\"Mean\", \"95% CI\"]\n",
    "# We'll keep it in \"long\" format here:\n",
    "display(summary_df)\n",
    "\n",
    "#Optionally, you could pivot for a more \"matrix-like\" view:\n",
    "pivot_df = summary_df.pivot(index=[\"Model\",\"Class\"], \n",
    "                             columns=\"Metric\", \n",
    "                            values=[\"Mean\",\"95% CI\"])\n",
    "display(pivot_df)\n"
   ]
  },
  {
   "cell_type": "code",
   "execution_count": 11,
   "metadata": {},
   "outputs": [
    {
     "name": "stdout",
     "output_type": "stream",
     "text": [
      "['adsq', 'br3', 'pdl1-3']\n",
      "['inner_iteration_1', 'inner_iteration_2', 'inner_iteration_3', 'inner_iteration_4', 'inner_iteration_5']\n",
      "/media/mmd/Samsung_T5/GitHub/UMD/eval/val/adsq/inner_iteration_1\n",
      "inner_iteration_1\n"
     ]
    },
    {
     "data": {
      "text/plain": [
       "{'0': 'adenocarcinoma', '1': 'squamous'}"
      ]
     },
     "metadata": {},
     "output_type": "display_data"
    },
    {
     "name": "stdout",
     "output_type": "stream",
     "text": [
      "This is outlab 2\n",
      "HISTOLOGY\n"
     ]
    },
    {
     "data": {
      "text/plain": [
       "{'Accuracy': 0.7090163934426229,\n",
       " 'Balanced_Accuracy': 0.7150767042568322,\n",
       " 'Precision': 0.7994308801302173,\n",
       " 'Recall': 0.7090163934426229,\n",
       " 'F1-Score': 0.7339227413488209,\n",
       " 'Confusion Matrix': [[136, 57], [14, 37]]}"
      ]
     },
     "metadata": {},
     "output_type": "display_data"
    },
    {
     "name": "stdout",
     "output_type": "stream",
     "text": [
      "Accuracy: 0.7090163934426229\n",
      "Balanced_Accuracy: 0.7150767042568322\n",
      "Precision: 0.7994308801302173\n",
      "Recall: 0.7090163934426229\n",
      "F1-Score: 0.7339227413488209\n",
      "Confusion Matrix: [[136, 57], [14, 37]]\n",
      "/media/mmd/Samsung_T5/GitHub/UMD/eval/val/adsq/inner_iteration_2\n",
      "inner_iteration_2\n"
     ]
    },
    {
     "data": {
      "text/plain": [
       "{'0': 'adenocarcinoma', '1': 'squamous'}"
      ]
     },
     "metadata": {},
     "output_type": "display_data"
    },
    {
     "name": "stdout",
     "output_type": "stream",
     "text": [
      "This is outlab 2\n",
      "HISTOLOGY\n"
     ]
    },
    {
     "data": {
      "text/plain": [
       "{'Accuracy': 0.6465863453815262,\n",
       " 'Balanced_Accuracy': 0.7176616915422886,\n",
       " 'Precision': 0.821425235827029,\n",
       " 'Recall': 0.6465863453815262,\n",
       " 'F1-Score': 0.6837636259323006,\n",
       " 'Confusion Matrix': [[121, 80], [8, 40]]}"
      ]
     },
     "metadata": {},
     "output_type": "display_data"
    },
    {
     "name": "stdout",
     "output_type": "stream",
     "text": [
      "Accuracy: 0.6465863453815262\n",
      "Balanced_Accuracy: 0.7176616915422886\n",
      "Precision: 0.821425235827029\n",
      "Recall: 0.6465863453815262\n",
      "F1-Score: 0.6837636259323006\n",
      "Confusion Matrix: [[121, 80], [8, 40]]\n",
      "/media/mmd/Samsung_T5/GitHub/UMD/eval/val/adsq/inner_iteration_3\n",
      "inner_iteration_3\n"
     ]
    },
    {
     "data": {
      "text/plain": [
       "{'0': 'adenocarcinoma', '1': 'squamous'}"
      ]
     },
     "metadata": {},
     "output_type": "display_data"
    },
    {
     "name": "stdout",
     "output_type": "stream",
     "text": [
      "This is outlab 2\n",
      "HISTOLOGY\n"
     ]
    },
    {
     "data": {
      "text/plain": [
       "{'Accuracy': 0.6904761904761905,\n",
       " 'Balanced_Accuracy': 0.7328065554580041,\n",
       " 'Precision': 0.8179664372324923,\n",
       " 'Recall': 0.6904761904761905,\n",
       " 'F1-Score': 0.720483803986711,\n",
       " 'Confusion Matrix': [[133, 68], [10, 41]]}"
      ]
     },
     "metadata": {},
     "output_type": "display_data"
    },
    {
     "name": "stdout",
     "output_type": "stream",
     "text": [
      "Accuracy: 0.6904761904761905\n",
      "Balanced_Accuracy: 0.7328065554580041\n",
      "Precision: 0.8179664372324923\n",
      "Recall: 0.6904761904761905\n",
      "F1-Score: 0.720483803986711\n",
      "Confusion Matrix: [[133, 68], [10, 41]]\n",
      "/media/mmd/Samsung_T5/GitHub/UMD/eval/val/adsq/inner_iteration_4\n",
      "inner_iteration_4\n"
     ]
    },
    {
     "data": {
      "text/plain": [
       "{'0': 'adenocarcinoma', '1': 'squamous'}"
      ]
     },
     "metadata": {},
     "output_type": "display_data"
    },
    {
     "name": "stdout",
     "output_type": "stream",
     "text": [
      "This is outlab 2\n",
      "HISTOLOGY\n"
     ]
    },
    {
     "data": {
      "text/plain": [
       "{'Accuracy': 0.6956521739130435,\n",
       " 'Balanced_Accuracy': 0.7500492610837438,\n",
       " 'Precision': 0.8319458466427236,\n",
       " 'Recall': 0.6956521739130435,\n",
       " 'F1-Score': 0.7264020163831129,\n",
       " 'Confusion Matrix': [[134, 69], [8, 42]]}"
      ]
     },
     "metadata": {},
     "output_type": "display_data"
    },
    {
     "name": "stdout",
     "output_type": "stream",
     "text": [
      "Accuracy: 0.6956521739130435\n",
      "Balanced_Accuracy: 0.7500492610837438\n",
      "Precision: 0.8319458466427236\n",
      "Recall: 0.6956521739130435\n",
      "F1-Score: 0.7264020163831129\n",
      "Confusion Matrix: [[134, 69], [8, 42]]\n",
      "/media/mmd/Samsung_T5/GitHub/UMD/eval/val/adsq/inner_iteration_5\n",
      "inner_iteration_5\n"
     ]
    },
    {
     "data": {
      "text/plain": [
       "{'0': 'adenocarcinoma', '1': 'squamous'}"
      ]
     },
     "metadata": {},
     "output_type": "display_data"
    },
    {
     "name": "stdout",
     "output_type": "stream",
     "text": [
      "This is outlab 2\n",
      "HISTOLOGY\n"
     ]
    },
    {
     "data": {
      "text/plain": [
       "{'Accuracy': 0.7007874015748031,\n",
       " 'Balanced_Accuracy': 0.719059405940594,\n",
       " 'Precision': 0.8055355793374126,\n",
       " 'Recall': 0.7007874015748031,\n",
       " 'F1-Score': 0.7282300421230088,\n",
       " 'Confusion Matrix': [[139, 63], [13, 39]]}"
      ]
     },
     "metadata": {},
     "output_type": "display_data"
    },
    {
     "name": "stdout",
     "output_type": "stream",
     "text": [
      "Accuracy: 0.7007874015748031\n",
      "Balanced_Accuracy: 0.719059405940594\n",
      "Precision: 0.8055355793374126\n",
      "Recall: 0.7007874015748031\n",
      "F1-Score: 0.7282300421230088\n",
      "Confusion Matrix: [[139, 63], [13, 39]]\n",
      "['inner_iteration_1', 'inner_iteration_2', 'inner_iteration_3', 'inner_iteration_4', 'inner_iteration_5']\n",
      "/media/mmd/Samsung_T5/GitHub/UMD/eval/val/br3/inner_iteration_1\n",
      "inner_iteration_1\n"
     ]
    },
    {
     "data": {
      "text/plain": [
       "{'0': '0.0', '1': '1.0', '2': '2.0'}"
      ]
     },
     "metadata": {},
     "output_type": "display_data"
    },
    {
     "name": "stdout",
     "output_type": "stream",
     "text": [
      "This is outlab 3\n",
      "BEST_RESPONSE_3\n"
     ]
    },
    {
     "data": {
      "text/plain": [
       "{'Accuracy': 0.3117408906882591,\n",
       " 'Balanced_Accuracy': 0.31453078930592077,\n",
       " 'Precision': 0.32508189673936705,\n",
       " 'Recall': 0.3117408906882591,\n",
       " 'F1-Score': 0.3121310094609946,\n",
       " 'Confusion Matrix': [[23, 40, 31], [14, 21, 29], [27, 29, 33]]}"
      ]
     },
     "metadata": {},
     "output_type": "display_data"
    },
    {
     "name": "stdout",
     "output_type": "stream",
     "text": [
      "Accuracy: 0.3117408906882591\n",
      "Balanced_Accuracy: 0.31453078930592077\n",
      "Precision: 0.32508189673936705\n",
      "Recall: 0.3117408906882591\n",
      "F1-Score: 0.3121310094609946\n",
      "Confusion Matrix: [[23, 40, 31], [14, 21, 29], [27, 29, 33]]\n",
      "/media/mmd/Samsung_T5/GitHub/UMD/eval/val/br3/inner_iteration_2\n",
      "inner_iteration_2\n"
     ]
    },
    {
     "data": {
      "text/plain": [
       "{'0': '0.0', '1': '1.0', '2': '2.0'}"
      ]
     },
     "metadata": {},
     "output_type": "display_data"
    },
    {
     "name": "stdout",
     "output_type": "stream",
     "text": [
      "This is outlab 3\n",
      "BEST_RESPONSE_3\n"
     ]
    },
    {
     "data": {
      "text/plain": [
       "{'Accuracy': 0.2788844621513944,\n",
       " 'Balanced_Accuracy': 0.2612835249042145,\n",
       " 'Precision': 0.27749359760263514,\n",
       " 'Recall': 0.2788844621513944,\n",
       " 'F1-Score': 0.2755619808143658,\n",
       " 'Confusion Matrix': [[36, 15, 49], [20, 8, 36], [39, 22, 26]]}"
      ]
     },
     "metadata": {},
     "output_type": "display_data"
    },
    {
     "name": "stdout",
     "output_type": "stream",
     "text": [
      "Accuracy: 0.2788844621513944\n",
      "Balanced_Accuracy: 0.2612835249042145\n",
      "Precision: 0.27749359760263514\n",
      "Recall: 0.2788844621513944\n",
      "F1-Score: 0.2755619808143658\n",
      "Confusion Matrix: [[36, 15, 49], [20, 8, 36], [39, 22, 26]]\n",
      "/media/mmd/Samsung_T5/GitHub/UMD/eval/val/br3/inner_iteration_3\n",
      "inner_iteration_3\n"
     ]
    },
    {
     "data": {
      "text/plain": [
       "{'0': '0.0', '1': '1.0', '2': '2.0'}"
      ]
     },
     "metadata": {},
     "output_type": "display_data"
    },
    {
     "name": "stdout",
     "output_type": "stream",
     "text": [
      "This is outlab 3\n",
      "BEST_RESPONSE_3\n"
     ]
    },
    {
     "data": {
      "text/plain": [
       "{'Accuracy': 0.316,\n",
       " 'Balanced_Accuracy': 0.3141674999637697,\n",
       " 'Precision': 0.32071428571428573,\n",
       " 'Recall': 0.316,\n",
       " 'F1-Score': 0.3176660968660968,\n",
       " 'Confusion Matrix': [[31, 37, 34], [32, 18, 16], [30, 22, 30]]}"
      ]
     },
     "metadata": {},
     "output_type": "display_data"
    },
    {
     "name": "stdout",
     "output_type": "stream",
     "text": [
      "Accuracy: 0.316\n",
      "Balanced_Accuracy: 0.3141674999637697\n",
      "Precision: 0.32071428571428573\n",
      "Recall: 0.316\n",
      "F1-Score: 0.3176660968660968\n",
      "Confusion Matrix: [[31, 37, 34], [32, 18, 16], [30, 22, 30]]\n",
      "/media/mmd/Samsung_T5/GitHub/UMD/eval/val/br3/inner_iteration_4\n",
      "inner_iteration_4\n"
     ]
    },
    {
     "data": {
      "text/plain": [
       "{'0': '0.0', '1': '1.0', '2': '2.0'}"
      ]
     },
     "metadata": {},
     "output_type": "display_data"
    },
    {
     "name": "stdout",
     "output_type": "stream",
     "text": [
      "This is outlab 3\n",
      "BEST_RESPONSE_3\n"
     ]
    },
    {
     "data": {
      "text/plain": [
       "{'Accuracy': 0.3401639344262295,\n",
       " 'Balanced_Accuracy': 0.3359712461089182,\n",
       " 'Precision': 0.3340759306861914,\n",
       " 'Recall': 0.3401639344262295,\n",
       " 'F1-Score': 0.3276402413438861,\n",
       " 'Confusion Matrix': [[46, 26, 22], [31, 23, 11], [35, 36, 14]]}"
      ]
     },
     "metadata": {},
     "output_type": "display_data"
    },
    {
     "name": "stdout",
     "output_type": "stream",
     "text": [
      "Accuracy: 0.3401639344262295\n",
      "Balanced_Accuracy: 0.3359712461089182\n",
      "Precision: 0.3340759306861914\n",
      "Recall: 0.3401639344262295\n",
      "F1-Score: 0.3276402413438861\n",
      "Confusion Matrix: [[46, 26, 22], [31, 23, 11], [35, 36, 14]]\n",
      "/media/mmd/Samsung_T5/GitHub/UMD/eval/val/br3/inner_iteration_5\n",
      "inner_iteration_5\n"
     ]
    },
    {
     "data": {
      "text/plain": [
       "{'0': '0.0', '1': '1.0', '2': '2.0'}"
      ]
     },
     "metadata": {},
     "output_type": "display_data"
    },
    {
     "name": "stdout",
     "output_type": "stream",
     "text": [
      "This is outlab 3\n",
      "BEST_RESPONSE_3\n"
     ]
    },
    {
     "data": {
      "text/plain": [
       "{'Accuracy': 0.3373015873015873,\n",
       " 'Balanced_Accuracy': 0.3415665661251536,\n",
       " 'Precision': 0.3540146687750666,\n",
       " 'Recall': 0.3373015873015873,\n",
       " 'F1-Score': 0.3404965450393187,\n",
       " 'Confusion Matrix': [[29, 42, 27], [23, 24, 18], [27, 30, 32]]}"
      ]
     },
     "metadata": {},
     "output_type": "display_data"
    },
    {
     "name": "stdout",
     "output_type": "stream",
     "text": [
      "Accuracy: 0.3373015873015873\n",
      "Balanced_Accuracy: 0.3415665661251536\n",
      "Precision: 0.3540146687750666\n",
      "Recall: 0.3373015873015873\n",
      "F1-Score: 0.3404965450393187\n",
      "Confusion Matrix: [[29, 42, 27], [23, 24, 18], [27, 30, 32]]\n",
      "['inner_iteration_1', 'inner_iteration_2', 'inner_iteration_3', 'inner_iteration_4', 'inner_iteration_5']\n",
      "/media/mmd/Samsung_T5/GitHub/UMD/eval/val/pdl1-3/inner_iteration_1\n",
      "inner_iteration_1\n"
     ]
    },
    {
     "data": {
      "text/plain": [
       "{'0': '1-49 %', '1': '< 1 %', '2': '>=50 %'}"
      ]
     },
     "metadata": {},
     "output_type": "display_data"
    },
    {
     "name": "stdout",
     "output_type": "stream",
     "text": [
      "This is outlab 3\n",
      "PDL1_CATHEGORY\n"
     ]
    },
    {
     "data": {
      "text/plain": [
       "{'Accuracy': 0.3853211009174312,\n",
       " 'Balanced_Accuracy': 0.38597896986054875,\n",
       " 'Precision': 0.3893852341909904,\n",
       " 'Recall': 0.3853211009174312,\n",
       " 'F1-Score': 0.3856556745108666,\n",
       " 'Confusion Matrix': [[34, 18, 26], [26, 24, 26], [13, 25, 26]]}"
      ]
     },
     "metadata": {},
     "output_type": "display_data"
    },
    {
     "name": "stdout",
     "output_type": "stream",
     "text": [
      "Accuracy: 0.3853211009174312\n",
      "Balanced_Accuracy: 0.38597896986054875\n",
      "Precision: 0.3893852341909904\n",
      "Recall: 0.3853211009174312\n",
      "F1-Score: 0.3856556745108666\n",
      "Confusion Matrix: [[34, 18, 26], [26, 24, 26], [13, 25, 26]]\n",
      "/media/mmd/Samsung_T5/GitHub/UMD/eval/val/pdl1-3/inner_iteration_2\n",
      "inner_iteration_2\n"
     ]
    },
    {
     "data": {
      "text/plain": [
       "{'0': '1-49 %', '1': '< 1 %', '2': '>=50 %'}"
      ]
     },
     "metadata": {},
     "output_type": "display_data"
    },
    {
     "name": "stdout",
     "output_type": "stream",
     "text": [
      "This is outlab 3\n",
      "PDL1_CATHEGORY\n"
     ]
    },
    {
     "data": {
      "text/plain": [
       "{'Accuracy': 0.4424778761061947,\n",
       " 'Balanced_Accuracy': 0.44866913541612335,\n",
       " 'Precision': 0.44528937032201216,\n",
       " 'Recall': 0.4424778761061947,\n",
       " 'F1-Score': 0.4387443190691693,\n",
       " 'Confusion Matrix': [[28, 29, 26], [18, 38, 21], [15, 17, 34]]}"
      ]
     },
     "metadata": {},
     "output_type": "display_data"
    },
    {
     "name": "stdout",
     "output_type": "stream",
     "text": [
      "Accuracy: 0.4424778761061947\n",
      "Balanced_Accuracy: 0.44866913541612335\n",
      "Precision: 0.44528937032201216\n",
      "Recall: 0.4424778761061947\n",
      "F1-Score: 0.4387443190691693\n",
      "Confusion Matrix: [[28, 29, 26], [18, 38, 21], [15, 17, 34]]\n",
      "/media/mmd/Samsung_T5/GitHub/UMD/eval/val/pdl1-3/inner_iteration_3\n",
      "inner_iteration_3\n"
     ]
    },
    {
     "data": {
      "text/plain": [
       "{'0': '1-49 %', '1': '< 1 %', '2': '>=50 %'}"
      ]
     },
     "metadata": {},
     "output_type": "display_data"
    },
    {
     "name": "stdout",
     "output_type": "stream",
     "text": [
      "This is outlab 3\n",
      "PDL1_CATHEGORY\n"
     ]
    },
    {
     "data": {
      "text/plain": [
       "{'Accuracy': 0.33183856502242154,\n",
       " 'Balanced_Accuracy': 0.33505168551456105,\n",
       " 'Precision': 0.34111482881443694,\n",
       " 'Recall': 0.33183856502242154,\n",
       " 'F1-Score': 0.3317236808535874,\n",
       " 'Confusion Matrix': [[22, 18, 37], [26, 25, 28], [21, 19, 27]]}"
      ]
     },
     "metadata": {},
     "output_type": "display_data"
    },
    {
     "name": "stdout",
     "output_type": "stream",
     "text": [
      "Accuracy: 0.33183856502242154\n",
      "Balanced_Accuracy: 0.33505168551456105\n",
      "Precision: 0.34111482881443694\n",
      "Recall: 0.33183856502242154\n",
      "F1-Score: 0.3317236808535874\n",
      "Confusion Matrix: [[22, 18, 37], [26, 25, 28], [21, 19, 27]]\n",
      "/media/mmd/Samsung_T5/GitHub/UMD/eval/val/pdl1-3/inner_iteration_4\n",
      "inner_iteration_4\n"
     ]
    },
    {
     "data": {
      "text/plain": [
       "{'0': '1-49 %', '1': '< 1 %', '2': '>=50 %'}"
      ]
     },
     "metadata": {},
     "output_type": "display_data"
    },
    {
     "name": "stdout",
     "output_type": "stream",
     "text": [
      "This is outlab 3\n",
      "PDL1_CATHEGORY\n"
     ]
    },
    {
     "data": {
      "text/plain": [
       "{'Accuracy': 0.40707964601769914,\n",
       " 'Balanced_Accuracy': 0.41154637543526434,\n",
       " 'Precision': 0.4120911410626743,\n",
       " 'Recall': 0.40707964601769914,\n",
       " 'F1-Score': 0.4081663590617261,\n",
       " 'Confusion Matrix': [[30, 29, 21], [35, 31, 15], [25, 9, 31]]}"
      ]
     },
     "metadata": {},
     "output_type": "display_data"
    },
    {
     "name": "stdout",
     "output_type": "stream",
     "text": [
      "Accuracy: 0.40707964601769914\n",
      "Balanced_Accuracy: 0.41154637543526434\n",
      "Precision: 0.4120911410626743\n",
      "Recall: 0.40707964601769914\n",
      "F1-Score: 0.4081663590617261\n",
      "Confusion Matrix: [[30, 29, 21], [35, 31, 15], [25, 9, 31]]\n",
      "/media/mmd/Samsung_T5/GitHub/UMD/eval/val/pdl1-3/inner_iteration_5\n",
      "inner_iteration_5\n"
     ]
    },
    {
     "data": {
      "text/plain": [
       "{'0': '1-49 %', '1': '< 1 %', '2': '>=50 %'}"
      ]
     },
     "metadata": {},
     "output_type": "display_data"
    },
    {
     "name": "stdout",
     "output_type": "stream",
     "text": [
      "This is outlab 3\n",
      "PDL1_CATHEGORY\n"
     ]
    },
    {
     "data": {
      "text/plain": [
       "{'Accuracy': 0.3881278538812785,\n",
       " 'Balanced_Accuracy': 0.3992297571309413,\n",
       " 'Precision': 0.4073578874984767,\n",
       " 'Recall': 0.3881278538812785,\n",
       " 'F1-Score': 0.38442497213693266,\n",
       " 'Confusion Matrix': [[23, 22, 33], [16, 28, 35], [20, 8, 34]]}"
      ]
     },
     "metadata": {},
     "output_type": "display_data"
    },
    {
     "name": "stdout",
     "output_type": "stream",
     "text": [
      "Accuracy: 0.3881278538812785\n",
      "Balanced_Accuracy: 0.3992297571309413\n",
      "Precision: 0.4073578874984767\n",
      "Recall: 0.3881278538812785\n",
      "F1-Score: 0.38442497213693266\n",
      "Confusion Matrix: [[23, 22, 33], [16, 28, 35], [20, 8, 34]]\n"
     ]
    }
   ],
   "source": [
    "base_folder = os.path.join(working_directory,\"eval/val\")\n",
    "subfolder = [name for name in os.listdir(base_folder) if os.path.isdir(os.path.join(base_folder, name))]\n",
    "\n",
    "print(subfolder)\n",
    "\n",
    "train_metrics = {}\n",
    "train_class_metrics = {}\n",
    "outer_train_metrics = {}\n",
    "outer_train_class_metrics = {}\n",
    "\n",
    "for m in subfolder:\n",
    "    parent_directory = os.path.join(base_folder, m)\n",
    "    subsubfolder = [name for name in os.listdir(parent_directory) if os.path.isdir(os.path.join(parent_directory, name))]\n",
    "    print(subsubfolder)\n",
    "    train_metrics = {}\n",
    "    train_class_metrics = {}\n",
    "    for s in subsubfolder: \n",
    "        sub_parent_directory = os.path.join(parent_directory, s)\n",
    "        print(sub_parent_directory)\n",
    "        print(s)\n",
    "        train_metrics[s], train_class_metrics[s], a, n = compute_metrics(sub_parent_directory, n_classes, sub_parent_directory)\n",
    "    outer_train_metrics[m] = train_metrics\n",
    "    outer_train_class_metrics[m] =train_class_metrics"
   ]
  },
  {
   "cell_type": "code",
   "execution_count": 12,
   "metadata": {},
   "outputs": [
    {
     "name": "stdout",
     "output_type": "stream",
     "text": [
      "Chiave: adsq, Valore: {'inner_iteration_1': {'Accuracy': 0.7090163934426229, 'Balanced_Accuracy': 0.7150767042568322, 'Precision': 0.7994308801302173, 'Recall': 0.7090163934426229, 'F1-Score': 0.7339227413488209, 'Confusion Matrix': [[136, 57], [14, 37]]}, 'inner_iteration_2': {'Accuracy': 0.6465863453815262, 'Balanced_Accuracy': 0.7176616915422886, 'Precision': 0.821425235827029, 'Recall': 0.6465863453815262, 'F1-Score': 0.6837636259323006, 'Confusion Matrix': [[121, 80], [8, 40]]}, 'inner_iteration_3': {'Accuracy': 0.6904761904761905, 'Balanced_Accuracy': 0.7328065554580041, 'Precision': 0.8179664372324923, 'Recall': 0.6904761904761905, 'F1-Score': 0.720483803986711, 'Confusion Matrix': [[133, 68], [10, 41]]}, 'inner_iteration_4': {'Accuracy': 0.6956521739130435, 'Balanced_Accuracy': 0.7500492610837438, 'Precision': 0.8319458466427236, 'Recall': 0.6956521739130435, 'F1-Score': 0.7264020163831129, 'Confusion Matrix': [[134, 69], [8, 42]]}, 'inner_iteration_5': {'Accuracy': 0.7007874015748031, 'Balanced_Accuracy': 0.719059405940594, 'Precision': 0.8055355793374126, 'Recall': 0.7007874015748031, 'F1-Score': 0.7282300421230088, 'Confusion Matrix': [[139, 63], [13, 39]]}}\n",
      "['Accuracy', 'Balanced_Accuracy', 'Precision', 'Recall']\n",
      "[0.70901639 0.64658635 0.69047619 0.69565217 0.7007874 ]\n",
      "[0.7150767  0.71766169 0.73280656 0.75004926 0.71905941]\n",
      "[0.79943088 0.82142524 0.81796644 0.83194585 0.80553558]\n",
      "[0.70901639 0.64658635 0.69047619 0.69565217 0.7007874 ]\n"
     ]
    },
    {
     "data": {
      "text/html": [
       "<div>\n",
       "<style scoped>\n",
       "    .dataframe tbody tr th:only-of-type {\n",
       "        vertical-align: middle;\n",
       "    }\n",
       "\n",
       "    .dataframe tbody tr th {\n",
       "        vertical-align: top;\n",
       "    }\n",
       "\n",
       "    .dataframe thead th {\n",
       "        text-align: right;\n",
       "    }\n",
       "</style>\n",
       "<table border=\"1\" class=\"dataframe\">\n",
       "  <thead>\n",
       "    <tr style=\"text-align: right;\">\n",
       "      <th></th>\n",
       "      <th>Mean</th>\n",
       "      <th>Confidence Interval</th>\n",
       "    </tr>\n",
       "  </thead>\n",
       "  <tbody>\n",
       "    <tr>\n",
       "      <th>Accuracy</th>\n",
       "      <td>0.688504</td>\n",
       "      <td>0.021834</td>\n",
       "    </tr>\n",
       "    <tr>\n",
       "      <th>Balanced_Accuracy</th>\n",
       "      <td>0.726931</td>\n",
       "      <td>0.013095</td>\n",
       "    </tr>\n",
       "    <tr>\n",
       "      <th>Precision</th>\n",
       "      <td>0.815261</td>\n",
       "      <td>0.011566</td>\n",
       "    </tr>\n",
       "    <tr>\n",
       "      <th>Recall</th>\n",
       "      <td>0.688504</td>\n",
       "      <td>0.021834</td>\n",
       "    </tr>\n",
       "  </tbody>\n",
       "</table>\n",
       "</div>"
      ],
      "text/plain": [
       "                       Mean  Confidence Interval\n",
       "Accuracy           0.688504             0.021834\n",
       "Balanced_Accuracy  0.726931             0.013095\n",
       "Precision          0.815261             0.011566\n",
       "Recall             0.688504             0.021834"
      ]
     },
     "metadata": {},
     "output_type": "display_data"
    },
    {
     "name": "stdout",
     "output_type": "stream",
     "text": [
      "[[132.6  67.4]\n",
      " [ 10.6  39.8]]\n"
     ]
    },
    {
     "data": {
      "text/html": [
       "<div>\n",
       "<style scoped>\n",
       "    .dataframe tbody tr th:only-of-type {\n",
       "        vertical-align: middle;\n",
       "    }\n",
       "\n",
       "    .dataframe tbody tr th {\n",
       "        vertical-align: top;\n",
       "    }\n",
       "\n",
       "    .dataframe thead th {\n",
       "        text-align: right;\n",
       "    }\n",
       "</style>\n",
       "<table border=\"1\" class=\"dataframe\">\n",
       "  <thead>\n",
       "    <tr style=\"text-align: right;\">\n",
       "      <th></th>\n",
       "      <th>Pred_0</th>\n",
       "      <th>Pred_1</th>\n",
       "    </tr>\n",
       "  </thead>\n",
       "  <tbody>\n",
       "    <tr>\n",
       "      <th>True_0</th>\n",
       "      <td>132.6</td>\n",
       "      <td>67.4</td>\n",
       "    </tr>\n",
       "    <tr>\n",
       "      <th>True_1</th>\n",
       "      <td>10.6</td>\n",
       "      <td>39.8</td>\n",
       "    </tr>\n",
       "  </tbody>\n",
       "</table>\n",
       "</div>"
      ],
      "text/plain": [
       "        Pred_0  Pred_1\n",
       "True_0   132.6    67.4\n",
       "True_1    10.6    39.8"
      ]
     },
     "metadata": {},
     "output_type": "display_data"
    },
    {
     "data": {
      "text/html": [
       "<div>\n",
       "<style scoped>\n",
       "    .dataframe tbody tr th:only-of-type {\n",
       "        vertical-align: middle;\n",
       "    }\n",
       "\n",
       "    .dataframe tbody tr th {\n",
       "        vertical-align: top;\n",
       "    }\n",
       "\n",
       "    .dataframe thead th {\n",
       "        text-align: right;\n",
       "    }\n",
       "</style>\n",
       "<table border=\"1\" class=\"dataframe\">\n",
       "  <thead>\n",
       "    <tr style=\"text-align: right;\">\n",
       "      <th></th>\n",
       "      <th>Pred_0</th>\n",
       "      <th>Pred_1</th>\n",
       "    </tr>\n",
       "  </thead>\n",
       "  <tbody>\n",
       "    <tr>\n",
       "      <th>True_0</th>\n",
       "      <td>6.151423</td>\n",
       "      <td>7.605261</td>\n",
       "    </tr>\n",
       "    <tr>\n",
       "      <th>True_1</th>\n",
       "      <td>2.497999</td>\n",
       "      <td>1.720465</td>\n",
       "    </tr>\n",
       "  </tbody>\n",
       "</table>\n",
       "</div>"
      ],
      "text/plain": [
       "          Pred_0    Pred_1\n",
       "True_0  6.151423  7.605261\n",
       "True_1  2.497999  1.720465"
      ]
     },
     "metadata": {},
     "output_type": "display_data"
    },
    {
     "name": "stdout",
     "output_type": "stream",
     "text": [
      "Chiave: br3, Valore: {'inner_iteration_1': {'Accuracy': 0.3117408906882591, 'Balanced_Accuracy': 0.31453078930592077, 'Precision': 0.32508189673936705, 'Recall': 0.3117408906882591, 'F1-Score': 0.3121310094609946, 'Confusion Matrix': [[23, 40, 31], [14, 21, 29], [27, 29, 33]]}, 'inner_iteration_2': {'Accuracy': 0.2788844621513944, 'Balanced_Accuracy': 0.2612835249042145, 'Precision': 0.27749359760263514, 'Recall': 0.2788844621513944, 'F1-Score': 0.2755619808143658, 'Confusion Matrix': [[36, 15, 49], [20, 8, 36], [39, 22, 26]]}, 'inner_iteration_3': {'Accuracy': 0.316, 'Balanced_Accuracy': 0.3141674999637697, 'Precision': 0.32071428571428573, 'Recall': 0.316, 'F1-Score': 0.3176660968660968, 'Confusion Matrix': [[31, 37, 34], [32, 18, 16], [30, 22, 30]]}, 'inner_iteration_4': {'Accuracy': 0.3401639344262295, 'Balanced_Accuracy': 0.3359712461089182, 'Precision': 0.3340759306861914, 'Recall': 0.3401639344262295, 'F1-Score': 0.3276402413438861, 'Confusion Matrix': [[46, 26, 22], [31, 23, 11], [35, 36, 14]]}, 'inner_iteration_5': {'Accuracy': 0.3373015873015873, 'Balanced_Accuracy': 0.3415665661251536, 'Precision': 0.3540146687750666, 'Recall': 0.3373015873015873, 'F1-Score': 0.3404965450393187, 'Confusion Matrix': [[29, 42, 27], [23, 24, 18], [27, 30, 32]]}}\n",
      "['Accuracy', 'Balanced_Accuracy', 'Precision', 'Recall']\n",
      "[0.31174089 0.27888446 0.316      0.34016393 0.33730159]\n",
      "[0.31453079 0.26128352 0.3141675  0.33597125 0.34156657]\n",
      "[0.3250819  0.2774936  0.32071429 0.33407593 0.35401467]\n",
      "[0.31174089 0.27888446 0.316      0.34016393 0.33730159]\n"
     ]
    },
    {
     "data": {
      "text/html": [
       "<div>\n",
       "<style scoped>\n",
       "    .dataframe tbody tr th:only-of-type {\n",
       "        vertical-align: middle;\n",
       "    }\n",
       "\n",
       "    .dataframe tbody tr th {\n",
       "        vertical-align: top;\n",
       "    }\n",
       "\n",
       "    .dataframe thead th {\n",
       "        text-align: right;\n",
       "    }\n",
       "</style>\n",
       "<table border=\"1\" class=\"dataframe\">\n",
       "  <thead>\n",
       "    <tr style=\"text-align: right;\">\n",
       "      <th></th>\n",
       "      <th>Mean</th>\n",
       "      <th>Confidence Interval</th>\n",
       "    </tr>\n",
       "  </thead>\n",
       "  <tbody>\n",
       "    <tr>\n",
       "      <th>Accuracy</th>\n",
       "      <td>0.316818</td>\n",
       "      <td>0.022045</td>\n",
       "    </tr>\n",
       "    <tr>\n",
       "      <th>Balanced_Accuracy</th>\n",
       "      <td>0.313504</td>\n",
       "      <td>0.028358</td>\n",
       "    </tr>\n",
       "    <tr>\n",
       "      <th>Precision</th>\n",
       "      <td>0.322276</td>\n",
       "      <td>0.025149</td>\n",
       "    </tr>\n",
       "    <tr>\n",
       "      <th>Recall</th>\n",
       "      <td>0.316818</td>\n",
       "      <td>0.022045</td>\n",
       "    </tr>\n",
       "  </tbody>\n",
       "</table>\n",
       "</div>"
      ],
      "text/plain": [
       "                       Mean  Confidence Interval\n",
       "Accuracy           0.316818             0.022045\n",
       "Balanced_Accuracy  0.313504             0.028358\n",
       "Precision          0.322276             0.025149\n",
       "Recall             0.316818             0.022045"
      ]
     },
     "metadata": {},
     "output_type": "display_data"
    },
    {
     "name": "stdout",
     "output_type": "stream",
     "text": [
      "[[33.  32.  32.6]\n",
      " [24.  18.8 22. ]\n",
      " [31.6 27.8 27. ]]\n"
     ]
    },
    {
     "data": {
      "text/html": [
       "<div>\n",
       "<style scoped>\n",
       "    .dataframe tbody tr th:only-of-type {\n",
       "        vertical-align: middle;\n",
       "    }\n",
       "\n",
       "    .dataframe tbody tr th {\n",
       "        vertical-align: top;\n",
       "    }\n",
       "\n",
       "    .dataframe thead th {\n",
       "        text-align: right;\n",
       "    }\n",
       "</style>\n",
       "<table border=\"1\" class=\"dataframe\">\n",
       "  <thead>\n",
       "    <tr style=\"text-align: right;\">\n",
       "      <th></th>\n",
       "      <th>Pred_0</th>\n",
       "      <th>Pred_1</th>\n",
       "      <th>Pred_2</th>\n",
       "    </tr>\n",
       "  </thead>\n",
       "  <tbody>\n",
       "    <tr>\n",
       "      <th>True_0</th>\n",
       "      <td>33.0</td>\n",
       "      <td>32.0</td>\n",
       "      <td>32.6</td>\n",
       "    </tr>\n",
       "    <tr>\n",
       "      <th>True_1</th>\n",
       "      <td>24.0</td>\n",
       "      <td>18.8</td>\n",
       "      <td>22.0</td>\n",
       "    </tr>\n",
       "    <tr>\n",
       "      <th>True_2</th>\n",
       "      <td>31.6</td>\n",
       "      <td>27.8</td>\n",
       "      <td>27.0</td>\n",
       "    </tr>\n",
       "  </tbody>\n",
       "</table>\n",
       "</div>"
      ],
      "text/plain": [
       "        Pred_0  Pred_1  Pred_2\n",
       "True_0    33.0    32.0    32.6\n",
       "True_1    24.0    18.8    22.0\n",
       "True_2    31.6    27.8    27.0"
      ]
     },
     "metadata": {},
     "output_type": "display_data"
    },
    {
     "data": {
      "text/html": [
       "<div>\n",
       "<style scoped>\n",
       "    .dataframe tbody tr th:only-of-type {\n",
       "        vertical-align: middle;\n",
       "    }\n",
       "\n",
       "    .dataframe tbody tr th {\n",
       "        vertical-align: top;\n",
       "    }\n",
       "\n",
       "    .dataframe thead th {\n",
       "        text-align: right;\n",
       "    }\n",
       "</style>\n",
       "<table border=\"1\" class=\"dataframe\">\n",
       "  <thead>\n",
       "    <tr style=\"text-align: right;\">\n",
       "      <th></th>\n",
       "      <th>Pred_0</th>\n",
       "      <th>Pred_1</th>\n",
       "      <th>Pred_2</th>\n",
       "    </tr>\n",
       "  </thead>\n",
       "  <tbody>\n",
       "    <tr>\n",
       "      <th>True_0</th>\n",
       "      <td>7.720104</td>\n",
       "      <td>10.139033</td>\n",
       "      <td>9.134550</td>\n",
       "    </tr>\n",
       "    <tr>\n",
       "      <th>True_1</th>\n",
       "      <td>6.782330</td>\n",
       "      <td>5.775812</td>\n",
       "      <td>9.143304</td>\n",
       "    </tr>\n",
       "    <tr>\n",
       "      <th>True_2</th>\n",
       "      <td>4.715930</td>\n",
       "      <td>5.306600</td>\n",
       "      <td>6.928203</td>\n",
       "    </tr>\n",
       "  </tbody>\n",
       "</table>\n",
       "</div>"
      ],
      "text/plain": [
       "          Pred_0     Pred_1    Pred_2\n",
       "True_0  7.720104  10.139033  9.134550\n",
       "True_1  6.782330   5.775812  9.143304\n",
       "True_2  4.715930   5.306600  6.928203"
      ]
     },
     "metadata": {},
     "output_type": "display_data"
    },
    {
     "name": "stdout",
     "output_type": "stream",
     "text": [
      "Chiave: pdl1-3, Valore: {'inner_iteration_1': {'Accuracy': 0.3853211009174312, 'Balanced_Accuracy': 0.38597896986054875, 'Precision': 0.3893852341909904, 'Recall': 0.3853211009174312, 'F1-Score': 0.3856556745108666, 'Confusion Matrix': [[34, 18, 26], [26, 24, 26], [13, 25, 26]]}, 'inner_iteration_2': {'Accuracy': 0.4424778761061947, 'Balanced_Accuracy': 0.44866913541612335, 'Precision': 0.44528937032201216, 'Recall': 0.4424778761061947, 'F1-Score': 0.4387443190691693, 'Confusion Matrix': [[28, 29, 26], [18, 38, 21], [15, 17, 34]]}, 'inner_iteration_3': {'Accuracy': 0.33183856502242154, 'Balanced_Accuracy': 0.33505168551456105, 'Precision': 0.34111482881443694, 'Recall': 0.33183856502242154, 'F1-Score': 0.3317236808535874, 'Confusion Matrix': [[22, 18, 37], [26, 25, 28], [21, 19, 27]]}, 'inner_iteration_4': {'Accuracy': 0.40707964601769914, 'Balanced_Accuracy': 0.41154637543526434, 'Precision': 0.4120911410626743, 'Recall': 0.40707964601769914, 'F1-Score': 0.4081663590617261, 'Confusion Matrix': [[30, 29, 21], [35, 31, 15], [25, 9, 31]]}, 'inner_iteration_5': {'Accuracy': 0.3881278538812785, 'Balanced_Accuracy': 0.3992297571309413, 'Precision': 0.4073578874984767, 'Recall': 0.3881278538812785, 'F1-Score': 0.38442497213693266, 'Confusion Matrix': [[23, 22, 33], [16, 28, 35], [20, 8, 34]]}}\n",
      "['Accuracy', 'Balanced_Accuracy', 'Precision', 'Recall']\n",
      "[0.3853211  0.44247788 0.33183857 0.40707965 0.38812785]\n",
      "[0.38597897 0.44866914 0.33505169 0.41154638 0.39922976]\n",
      "[0.38938523 0.44528937 0.34111483 0.41209114 0.40735789]\n",
      "[0.3853211  0.44247788 0.33183857 0.40707965 0.38812785]\n"
     ]
    },
    {
     "data": {
      "text/html": [
       "<div>\n",
       "<style scoped>\n",
       "    .dataframe tbody tr th:only-of-type {\n",
       "        vertical-align: middle;\n",
       "    }\n",
       "\n",
       "    .dataframe tbody tr th {\n",
       "        vertical-align: top;\n",
       "    }\n",
       "\n",
       "    .dataframe thead th {\n",
       "        text-align: right;\n",
       "    }\n",
       "</style>\n",
       "<table border=\"1\" class=\"dataframe\">\n",
       "  <thead>\n",
       "    <tr style=\"text-align: right;\">\n",
       "      <th></th>\n",
       "      <th>Mean</th>\n",
       "      <th>Confidence Interval</th>\n",
       "    </tr>\n",
       "  </thead>\n",
       "  <tbody>\n",
       "    <tr>\n",
       "      <th>Accuracy</th>\n",
       "      <td>0.390969</td>\n",
       "      <td>0.035914</td>\n",
       "    </tr>\n",
       "    <tr>\n",
       "      <th>Balanced_Accuracy</th>\n",
       "      <td>0.396095</td>\n",
       "      <td>0.036990</td>\n",
       "    </tr>\n",
       "    <tr>\n",
       "      <th>Precision</th>\n",
       "      <td>0.399048</td>\n",
       "      <td>0.034138</td>\n",
       "    </tr>\n",
       "    <tr>\n",
       "      <th>Recall</th>\n",
       "      <td>0.390969</td>\n",
       "      <td>0.035914</td>\n",
       "    </tr>\n",
       "  </tbody>\n",
       "</table>\n",
       "</div>"
      ],
      "text/plain": [
       "                       Mean  Confidence Interval\n",
       "Accuracy           0.390969             0.035914\n",
       "Balanced_Accuracy  0.396095             0.036990\n",
       "Precision          0.399048             0.034138\n",
       "Recall             0.390969             0.035914"
      ]
     },
     "metadata": {},
     "output_type": "display_data"
    },
    {
     "name": "stdout",
     "output_type": "stream",
     "text": [
      "[[27.4 23.2 28.6]\n",
      " [24.2 29.2 25. ]\n",
      " [18.8 15.6 30.4]]\n"
     ]
    },
    {
     "data": {
      "text/html": [
       "<div>\n",
       "<style scoped>\n",
       "    .dataframe tbody tr th:only-of-type {\n",
       "        vertical-align: middle;\n",
       "    }\n",
       "\n",
       "    .dataframe tbody tr th {\n",
       "        vertical-align: top;\n",
       "    }\n",
       "\n",
       "    .dataframe thead th {\n",
       "        text-align: right;\n",
       "    }\n",
       "</style>\n",
       "<table border=\"1\" class=\"dataframe\">\n",
       "  <thead>\n",
       "    <tr style=\"text-align: right;\">\n",
       "      <th></th>\n",
       "      <th>Pred_0</th>\n",
       "      <th>Pred_1</th>\n",
       "      <th>Pred_2</th>\n",
       "    </tr>\n",
       "  </thead>\n",
       "  <tbody>\n",
       "    <tr>\n",
       "      <th>True_0</th>\n",
       "      <td>27.4</td>\n",
       "      <td>23.2</td>\n",
       "      <td>28.6</td>\n",
       "    </tr>\n",
       "    <tr>\n",
       "      <th>True_1</th>\n",
       "      <td>24.2</td>\n",
       "      <td>29.2</td>\n",
       "      <td>25.0</td>\n",
       "    </tr>\n",
       "    <tr>\n",
       "      <th>True_2</th>\n",
       "      <td>18.8</td>\n",
       "      <td>15.6</td>\n",
       "      <td>30.4</td>\n",
       "    </tr>\n",
       "  </tbody>\n",
       "</table>\n",
       "</div>"
      ],
      "text/plain": [
       "        Pred_0  Pred_1  Pred_2\n",
       "True_0    27.4    23.2    28.6\n",
       "True_1    24.2    29.2    25.0\n",
       "True_2    18.8    15.6    30.4"
      ]
     },
     "metadata": {},
     "output_type": "display_data"
    },
    {
     "data": {
      "text/html": [
       "<div>\n",
       "<style scoped>\n",
       "    .dataframe tbody tr th:only-of-type {\n",
       "        vertical-align: middle;\n",
       "    }\n",
       "\n",
       "    .dataframe tbody tr th {\n",
       "        vertical-align: top;\n",
       "    }\n",
       "\n",
       "    .dataframe thead th {\n",
       "        text-align: right;\n",
       "    }\n",
       "</style>\n",
       "<table border=\"1\" class=\"dataframe\">\n",
       "  <thead>\n",
       "    <tr style=\"text-align: right;\">\n",
       "      <th></th>\n",
       "      <th>Pred_0</th>\n",
       "      <th>Pred_1</th>\n",
       "      <th>Pred_2</th>\n",
       "    </tr>\n",
       "  </thead>\n",
       "  <tbody>\n",
       "    <tr>\n",
       "      <th>True_0</th>\n",
       "      <td>4.454211</td>\n",
       "      <td>4.955805</td>\n",
       "      <td>5.678028</td>\n",
       "    </tr>\n",
       "    <tr>\n",
       "      <th>True_1</th>\n",
       "      <td>6.764614</td>\n",
       "      <td>5.035871</td>\n",
       "      <td>6.723095</td>\n",
       "    </tr>\n",
       "    <tr>\n",
       "      <th>True_2</th>\n",
       "      <td>4.308132</td>\n",
       "      <td>6.374951</td>\n",
       "      <td>3.382307</td>\n",
       "    </tr>\n",
       "  </tbody>\n",
       "</table>\n",
       "</div>"
      ],
      "text/plain": [
       "          Pred_0    Pred_1    Pred_2\n",
       "True_0  4.454211  4.955805  5.678028\n",
       "True_1  6.764614  5.035871  6.723095\n",
       "True_2  4.308132  6.374951  3.382307"
      ]
     },
     "metadata": {},
     "output_type": "display_data"
    }
   ],
   "source": [
    "import numpy as np\n",
    "import pandas as pd\n",
    "from scipy.stats import sem\n",
    "\n",
    "#train_metrics\n",
    "for key, value in outer_train_metrics.items():\n",
    "    print(f\"Chiave: {key}, Valore: {value}\")\n",
    "    train_metrics = value\n",
    "    # Extract metrics\n",
    "    metrics = list(train_metrics['inner_iteration_1'].keys())\n",
    "    metrics = metrics[:-2]\n",
    "    print(metrics)\n",
    "\n",
    "    # Compute mean and confidence interval for each metric\n",
    "    summary = {}\n",
    "    n = len(train_metrics)  # Number of iterations\n",
    "\n",
    "    for metric in metrics:\n",
    "        values = np.array([train_metrics[key][metric] for key in train_metrics.keys()])\n",
    "        print(values)\n",
    "        mean_value = np.mean(values)\n",
    "        confidence_interval = 2 * np.std(values, ddof=1) / np.sqrt(n)  # 2 * standard error of the mean\n",
    "        \n",
    "        summary[metric] = {'Mean': mean_value, 'Confidence Interval': confidence_interval}\n",
    "\n",
    "    # Convert results to a DataFrame for visualization\n",
    "    summary_df = pd.DataFrame(summary).T\n",
    "\n",
    "    display(summary_df)\n",
    "\n",
    "    metrics = ['Confusion Matrix']\n",
    "\n",
    "    for metric in metrics:\n",
    "        values = np.array([train_metrics[key][metric] for key in train_metrics.keys()])\n",
    "        #print(values)\n",
    "\n",
    "\n",
    "    # Compute the mean confusion matrix\n",
    "    mean_confusion_matrix = np.mean(values, axis=0)\n",
    "    print(mean_confusion_matrix)\n",
    "\n",
    "    # Compute the confidence interval (2 * standard error of the mean)\n",
    "    n_matrices = values.shape[0]\n",
    "    confidence_interval_matrix = 2 * np.std(values, axis=0, ddof=1) / np.sqrt(n_matrices)\n",
    "\n",
    "    # Convert to DataFrame for better visualization\n",
    "    size = mean_confusion_matrix.shape[0]\n",
    "    \n",
    "    mean_confusion_df = pd.DataFrame(mean_confusion_matrix, columns=[f'Pred_{i}' for i in range(size)], index=[f'True_{i}' for i in range(size)])\n",
    "    confidence_interval_df = pd.DataFrame(confidence_interval_matrix, columns=[f'Pred_{i}' for i in range(size)], index=[f'True_{i}' for i in range(size)])\n",
    "    \n",
    "\n",
    "    display(mean_confusion_df)\n",
    "    display(confidence_interval_df)"
   ]
  },
  {
   "cell_type": "code",
   "execution_count": 13,
   "metadata": {},
   "outputs": [
    {
     "name": "stdout",
     "output_type": "stream",
     "text": [
      "adsq\n",
      "['inner_iteration_1', 'inner_iteration_2', 'inner_iteration_3', 'inner_iteration_4', 'inner_iteration_5']\n",
      "['Class_0', 'Class_1']\n",
      "br3\n",
      "['inner_iteration_1', 'inner_iteration_2', 'inner_iteration_3', 'inner_iteration_4', 'inner_iteration_5']\n",
      "['Class_0', 'Class_1', 'Class_2']\n",
      "pdl1-3\n",
      "['inner_iteration_1', 'inner_iteration_2', 'inner_iteration_3', 'inner_iteration_4', 'inner_iteration_5']\n",
      "['Class_0', 'Class_1', 'Class_2']\n"
     ]
    },
    {
     "data": {
      "text/html": [
       "<div>\n",
       "<style scoped>\n",
       "    .dataframe tbody tr th:only-of-type {\n",
       "        vertical-align: middle;\n",
       "    }\n",
       "\n",
       "    .dataframe tbody tr th {\n",
       "        vertical-align: top;\n",
       "    }\n",
       "\n",
       "    .dataframe thead th {\n",
       "        text-align: right;\n",
       "    }\n",
       "</style>\n",
       "<table border=\"1\" class=\"dataframe\">\n",
       "  <thead>\n",
       "    <tr style=\"text-align: right;\">\n",
       "      <th></th>\n",
       "      <th>Model</th>\n",
       "      <th>Class</th>\n",
       "      <th>Metric</th>\n",
       "      <th>Mean</th>\n",
       "      <th>95% CI</th>\n",
       "    </tr>\n",
       "  </thead>\n",
       "  <tbody>\n",
       "    <tr>\n",
       "      <th>0</th>\n",
       "      <td>adsq</td>\n",
       "      <td>Class_0</td>\n",
       "      <td>Accuracy</td>\n",
       "      <td>0.663312</td>\n",
       "      <td>0.034925</td>\n",
       "    </tr>\n",
       "    <tr>\n",
       "      <th>1</th>\n",
       "      <td>adsq</td>\n",
       "      <td>Class_0</td>\n",
       "      <td>Precision</td>\n",
       "      <td>0.926571</td>\n",
       "      <td>0.013980</td>\n",
       "    </tr>\n",
       "    <tr>\n",
       "      <th>2</th>\n",
       "      <td>adsq</td>\n",
       "      <td>Class_0</td>\n",
       "      <td>Recall</td>\n",
       "      <td>0.663312</td>\n",
       "      <td>0.034925</td>\n",
       "    </tr>\n",
       "    <tr>\n",
       "      <th>3</th>\n",
       "      <td>adsq</td>\n",
       "      <td>Class_0</td>\n",
       "      <td>F1-score</td>\n",
       "      <td>0.772343</td>\n",
       "      <td>0.020676</td>\n",
       "    </tr>\n",
       "    <tr>\n",
       "      <th>4</th>\n",
       "      <td>adsq</td>\n",
       "      <td>Class_1</td>\n",
       "      <td>Accuracy</td>\n",
       "      <td>0.790549</td>\n",
       "      <td>0.045457</td>\n",
       "    </tr>\n",
       "    <tr>\n",
       "      <th>5</th>\n",
       "      <td>adsq</td>\n",
       "      <td>Class_1</td>\n",
       "      <td>Precision</td>\n",
       "      <td>0.372766</td>\n",
       "      <td>0.020613</td>\n",
       "    </tr>\n",
       "    <tr>\n",
       "      <th>6</th>\n",
       "      <td>adsq</td>\n",
       "      <td>Class_1</td>\n",
       "      <td>Recall</td>\n",
       "      <td>0.790549</td>\n",
       "      <td>0.045457</td>\n",
       "    </tr>\n",
       "    <tr>\n",
       "      <th>7</th>\n",
       "      <td>adsq</td>\n",
       "      <td>Class_1</td>\n",
       "      <td>F1-score</td>\n",
       "      <td>0.505454</td>\n",
       "      <td>0.015467</td>\n",
       "    </tr>\n",
       "    <tr>\n",
       "      <th>8</th>\n",
       "      <td>br3</td>\n",
       "      <td>Class_0</td>\n",
       "      <td>Accuracy</td>\n",
       "      <td>0.338776</td>\n",
       "      <td>0.083704</td>\n",
       "    </tr>\n",
       "    <tr>\n",
       "      <th>9</th>\n",
       "      <td>br3</td>\n",
       "      <td>Class_0</td>\n",
       "      <td>Precision</td>\n",
       "      <td>0.369892</td>\n",
       "      <td>0.025312</td>\n",
       "    </tr>\n",
       "    <tr>\n",
       "      <th>10</th>\n",
       "      <td>br3</td>\n",
       "      <td>Class_0</td>\n",
       "      <td>Recall</td>\n",
       "      <td>0.338776</td>\n",
       "      <td>0.083704</td>\n",
       "    </tr>\n",
       "    <tr>\n",
       "      <th>11</th>\n",
       "      <td>br3</td>\n",
       "      <td>Class_0</td>\n",
       "      <td>F1-score</td>\n",
       "      <td>0.350521</td>\n",
       "      <td>0.054204</td>\n",
       "    </tr>\n",
       "    <tr>\n",
       "      <th>12</th>\n",
       "      <td>br3</td>\n",
       "      <td>Class_1</td>\n",
       "      <td>Accuracy</td>\n",
       "      <td>0.289786</td>\n",
       "      <td>0.088691</td>\n",
       "    </tr>\n",
       "    <tr>\n",
       "      <th>13</th>\n",
       "      <td>br3</td>\n",
       "      <td>Class_1</td>\n",
       "      <td>Precision</td>\n",
       "      <td>0.233093</td>\n",
       "      <td>0.030829</td>\n",
       "    </tr>\n",
       "    <tr>\n",
       "      <th>14</th>\n",
       "      <td>br3</td>\n",
       "      <td>Class_1</td>\n",
       "      <td>Recall</td>\n",
       "      <td>0.289786</td>\n",
       "      <td>0.088691</td>\n",
       "    </tr>\n",
       "    <tr>\n",
       "      <th>15</th>\n",
       "      <td>br3</td>\n",
       "      <td>Class_1</td>\n",
       "      <td>F1-score</td>\n",
       "      <td>0.255214</td>\n",
       "      <td>0.057558</td>\n",
       "    </tr>\n",
       "    <tr>\n",
       "      <th>16</th>\n",
       "      <td>br3</td>\n",
       "      <td>Class_2</td>\n",
       "      <td>Accuracy</td>\n",
       "      <td>0.311949</td>\n",
       "      <td>0.078084</td>\n",
       "    </tr>\n",
       "    <tr>\n",
       "      <th>17</th>\n",
       "      <td>br3</td>\n",
       "      <td>Class_2</td>\n",
       "      <td>Precision</td>\n",
       "      <td>0.335506</td>\n",
       "      <td>0.063275</td>\n",
       "    </tr>\n",
       "    <tr>\n",
       "      <th>18</th>\n",
       "      <td>br3</td>\n",
       "      <td>Class_2</td>\n",
       "      <td>Recall</td>\n",
       "      <td>0.311949</td>\n",
       "      <td>0.078084</td>\n",
       "    </tr>\n",
       "    <tr>\n",
       "      <th>19</th>\n",
       "      <td>br3</td>\n",
       "      <td>Class_2</td>\n",
       "      <td>F1-score</td>\n",
       "      <td>0.318659</td>\n",
       "      <td>0.068661</td>\n",
       "    </tr>\n",
       "    <tr>\n",
       "      <th>20</th>\n",
       "      <td>pdl1-3</td>\n",
       "      <td>Class_0</td>\n",
       "      <td>Accuracy</td>\n",
       "      <td>0.345767</td>\n",
       "      <td>0.055219</td>\n",
       "    </tr>\n",
       "    <tr>\n",
       "      <th>21</th>\n",
       "      <td>pdl1-3</td>\n",
       "      <td>Class_0</td>\n",
       "      <td>Precision</td>\n",
       "      <td>0.393355</td>\n",
       "      <td>0.061189</td>\n",
       "    </tr>\n",
       "    <tr>\n",
       "      <th>22</th>\n",
       "      <td>pdl1-3</td>\n",
       "      <td>Class_0</td>\n",
       "      <td>Recall</td>\n",
       "      <td>0.345767</td>\n",
       "      <td>0.055219</td>\n",
       "    </tr>\n",
       "    <tr>\n",
       "      <th>23</th>\n",
       "      <td>pdl1-3</td>\n",
       "      <td>Class_0</td>\n",
       "      <td>F1-score</td>\n",
       "      <td>0.365859</td>\n",
       "      <td>0.050788</td>\n",
       "    </tr>\n",
       "    <tr>\n",
       "      <th>24</th>\n",
       "      <td>pdl1-3</td>\n",
       "      <td>Class_1</td>\n",
       "      <td>Accuracy</td>\n",
       "      <td>0.372580</td>\n",
       "      <td>0.065468</td>\n",
       "    </tr>\n",
       "    <tr>\n",
       "      <th>25</th>\n",
       "      <td>pdl1-3</td>\n",
       "      <td>Class_1</td>\n",
       "      <td>Precision</td>\n",
       "      <td>0.429170</td>\n",
       "      <td>0.043642</td>\n",
       "    </tr>\n",
       "    <tr>\n",
       "      <th>26</th>\n",
       "      <td>pdl1-3</td>\n",
       "      <td>Class_1</td>\n",
       "      <td>Recall</td>\n",
       "      <td>0.372580</td>\n",
       "      <td>0.065468</td>\n",
       "    </tr>\n",
       "    <tr>\n",
       "      <th>27</th>\n",
       "      <td>pdl1-3</td>\n",
       "      <td>Class_1</td>\n",
       "      <td>F1-score</td>\n",
       "      <td>0.396883</td>\n",
       "      <td>0.048159</td>\n",
       "    </tr>\n",
       "    <tr>\n",
       "      <th>28</th>\n",
       "      <td>pdl1-3</td>\n",
       "      <td>Class_2</td>\n",
       "      <td>Accuracy</td>\n",
       "      <td>0.469939</td>\n",
       "      <td>0.057942</td>\n",
       "    </tr>\n",
       "    <tr>\n",
       "      <th>29</th>\n",
       "      <td>pdl1-3</td>\n",
       "      <td>Class_2</td>\n",
       "      <td>Precision</td>\n",
       "      <td>0.368517</td>\n",
       "      <td>0.062609</td>\n",
       "    </tr>\n",
       "    <tr>\n",
       "      <th>30</th>\n",
       "      <td>pdl1-3</td>\n",
       "      <td>Class_2</td>\n",
       "      <td>Recall</td>\n",
       "      <td>0.469939</td>\n",
       "      <td>0.057942</td>\n",
       "    </tr>\n",
       "    <tr>\n",
       "      <th>31</th>\n",
       "      <td>pdl1-3</td>\n",
       "      <td>Class_2</td>\n",
       "      <td>F1-score</td>\n",
       "      <td>0.410547</td>\n",
       "      <td>0.051421</td>\n",
       "    </tr>\n",
       "  </tbody>\n",
       "</table>\n",
       "</div>"
      ],
      "text/plain": [
       "     Model    Class     Metric      Mean    95% CI\n",
       "0     adsq  Class_0   Accuracy  0.663312  0.034925\n",
       "1     adsq  Class_0  Precision  0.926571  0.013980\n",
       "2     adsq  Class_0     Recall  0.663312  0.034925\n",
       "3     adsq  Class_0   F1-score  0.772343  0.020676\n",
       "4     adsq  Class_1   Accuracy  0.790549  0.045457\n",
       "5     adsq  Class_1  Precision  0.372766  0.020613\n",
       "6     adsq  Class_1     Recall  0.790549  0.045457\n",
       "7     adsq  Class_1   F1-score  0.505454  0.015467\n",
       "8      br3  Class_0   Accuracy  0.338776  0.083704\n",
       "9      br3  Class_0  Precision  0.369892  0.025312\n",
       "10     br3  Class_0     Recall  0.338776  0.083704\n",
       "11     br3  Class_0   F1-score  0.350521  0.054204\n",
       "12     br3  Class_1   Accuracy  0.289786  0.088691\n",
       "13     br3  Class_1  Precision  0.233093  0.030829\n",
       "14     br3  Class_1     Recall  0.289786  0.088691\n",
       "15     br3  Class_1   F1-score  0.255214  0.057558\n",
       "16     br3  Class_2   Accuracy  0.311949  0.078084\n",
       "17     br3  Class_2  Precision  0.335506  0.063275\n",
       "18     br3  Class_2     Recall  0.311949  0.078084\n",
       "19     br3  Class_2   F1-score  0.318659  0.068661\n",
       "20  pdl1-3  Class_0   Accuracy  0.345767  0.055219\n",
       "21  pdl1-3  Class_0  Precision  0.393355  0.061189\n",
       "22  pdl1-3  Class_0     Recall  0.345767  0.055219\n",
       "23  pdl1-3  Class_0   F1-score  0.365859  0.050788\n",
       "24  pdl1-3  Class_1   Accuracy  0.372580  0.065468\n",
       "25  pdl1-3  Class_1  Precision  0.429170  0.043642\n",
       "26  pdl1-3  Class_1     Recall  0.372580  0.065468\n",
       "27  pdl1-3  Class_1   F1-score  0.396883  0.048159\n",
       "28  pdl1-3  Class_2   Accuracy  0.469939  0.057942\n",
       "29  pdl1-3  Class_2  Precision  0.368517  0.062609\n",
       "30  pdl1-3  Class_2     Recall  0.469939  0.057942\n",
       "31  pdl1-3  Class_2   F1-score  0.410547  0.051421"
      ]
     },
     "metadata": {},
     "output_type": "display_data"
    },
    {
     "data": {
      "text/html": [
       "<div>\n",
       "<style scoped>\n",
       "    .dataframe tbody tr th:only-of-type {\n",
       "        vertical-align: middle;\n",
       "    }\n",
       "\n",
       "    .dataframe tbody tr th {\n",
       "        vertical-align: top;\n",
       "    }\n",
       "\n",
       "    .dataframe thead tr th {\n",
       "        text-align: left;\n",
       "    }\n",
       "\n",
       "    .dataframe thead tr:last-of-type th {\n",
       "        text-align: right;\n",
       "    }\n",
       "</style>\n",
       "<table border=\"1\" class=\"dataframe\">\n",
       "  <thead>\n",
       "    <tr>\n",
       "      <th></th>\n",
       "      <th></th>\n",
       "      <th colspan=\"4\" halign=\"left\">Mean</th>\n",
       "      <th colspan=\"4\" halign=\"left\">95% CI</th>\n",
       "    </tr>\n",
       "    <tr>\n",
       "      <th></th>\n",
       "      <th>Metric</th>\n",
       "      <th>Accuracy</th>\n",
       "      <th>F1-score</th>\n",
       "      <th>Precision</th>\n",
       "      <th>Recall</th>\n",
       "      <th>Accuracy</th>\n",
       "      <th>F1-score</th>\n",
       "      <th>Precision</th>\n",
       "      <th>Recall</th>\n",
       "    </tr>\n",
       "    <tr>\n",
       "      <th>Model</th>\n",
       "      <th>Class</th>\n",
       "      <th></th>\n",
       "      <th></th>\n",
       "      <th></th>\n",
       "      <th></th>\n",
       "      <th></th>\n",
       "      <th></th>\n",
       "      <th></th>\n",
       "      <th></th>\n",
       "    </tr>\n",
       "  </thead>\n",
       "  <tbody>\n",
       "    <tr>\n",
       "      <th rowspan=\"2\" valign=\"top\">adsq</th>\n",
       "      <th>Class_0</th>\n",
       "      <td>0.663312</td>\n",
       "      <td>0.772343</td>\n",
       "      <td>0.926571</td>\n",
       "      <td>0.663312</td>\n",
       "      <td>0.034925</td>\n",
       "      <td>0.020676</td>\n",
       "      <td>0.013980</td>\n",
       "      <td>0.034925</td>\n",
       "    </tr>\n",
       "    <tr>\n",
       "      <th>Class_1</th>\n",
       "      <td>0.790549</td>\n",
       "      <td>0.505454</td>\n",
       "      <td>0.372766</td>\n",
       "      <td>0.790549</td>\n",
       "      <td>0.045457</td>\n",
       "      <td>0.015467</td>\n",
       "      <td>0.020613</td>\n",
       "      <td>0.045457</td>\n",
       "    </tr>\n",
       "    <tr>\n",
       "      <th rowspan=\"3\" valign=\"top\">br3</th>\n",
       "      <th>Class_0</th>\n",
       "      <td>0.338776</td>\n",
       "      <td>0.350521</td>\n",
       "      <td>0.369892</td>\n",
       "      <td>0.338776</td>\n",
       "      <td>0.083704</td>\n",
       "      <td>0.054204</td>\n",
       "      <td>0.025312</td>\n",
       "      <td>0.083704</td>\n",
       "    </tr>\n",
       "    <tr>\n",
       "      <th>Class_1</th>\n",
       "      <td>0.289786</td>\n",
       "      <td>0.255214</td>\n",
       "      <td>0.233093</td>\n",
       "      <td>0.289786</td>\n",
       "      <td>0.088691</td>\n",
       "      <td>0.057558</td>\n",
       "      <td>0.030829</td>\n",
       "      <td>0.088691</td>\n",
       "    </tr>\n",
       "    <tr>\n",
       "      <th>Class_2</th>\n",
       "      <td>0.311949</td>\n",
       "      <td>0.318659</td>\n",
       "      <td>0.335506</td>\n",
       "      <td>0.311949</td>\n",
       "      <td>0.078084</td>\n",
       "      <td>0.068661</td>\n",
       "      <td>0.063275</td>\n",
       "      <td>0.078084</td>\n",
       "    </tr>\n",
       "    <tr>\n",
       "      <th rowspan=\"3\" valign=\"top\">pdl1-3</th>\n",
       "      <th>Class_0</th>\n",
       "      <td>0.345767</td>\n",
       "      <td>0.365859</td>\n",
       "      <td>0.393355</td>\n",
       "      <td>0.345767</td>\n",
       "      <td>0.055219</td>\n",
       "      <td>0.050788</td>\n",
       "      <td>0.061189</td>\n",
       "      <td>0.055219</td>\n",
       "    </tr>\n",
       "    <tr>\n",
       "      <th>Class_1</th>\n",
       "      <td>0.372580</td>\n",
       "      <td>0.396883</td>\n",
       "      <td>0.429170</td>\n",
       "      <td>0.372580</td>\n",
       "      <td>0.065468</td>\n",
       "      <td>0.048159</td>\n",
       "      <td>0.043642</td>\n",
       "      <td>0.065468</td>\n",
       "    </tr>\n",
       "    <tr>\n",
       "      <th>Class_2</th>\n",
       "      <td>0.469939</td>\n",
       "      <td>0.410547</td>\n",
       "      <td>0.368517</td>\n",
       "      <td>0.469939</td>\n",
       "      <td>0.057942</td>\n",
       "      <td>0.051421</td>\n",
       "      <td>0.062609</td>\n",
       "      <td>0.057942</td>\n",
       "    </tr>\n",
       "  </tbody>\n",
       "</table>\n",
       "</div>"
      ],
      "text/plain": [
       "                    Mean                                  95% CI            \\\n",
       "Metric          Accuracy  F1-score Precision    Recall  Accuracy  F1-score   \n",
       "Model  Class                                                                 \n",
       "adsq   Class_0  0.663312  0.772343  0.926571  0.663312  0.034925  0.020676   \n",
       "       Class_1  0.790549  0.505454  0.372766  0.790549  0.045457  0.015467   \n",
       "br3    Class_0  0.338776  0.350521  0.369892  0.338776  0.083704  0.054204   \n",
       "       Class_1  0.289786  0.255214  0.233093  0.289786  0.088691  0.057558   \n",
       "       Class_2  0.311949  0.318659  0.335506  0.311949  0.078084  0.068661   \n",
       "pdl1-3 Class_0  0.345767  0.365859  0.393355  0.345767  0.055219  0.050788   \n",
       "       Class_1  0.372580  0.396883  0.429170  0.372580  0.065468  0.048159   \n",
       "       Class_2  0.469939  0.410547  0.368517  0.469939  0.057942  0.051421   \n",
       "\n",
       "                                    \n",
       "Metric         Precision    Recall  \n",
       "Model  Class                        \n",
       "adsq   Class_0  0.013980  0.034925  \n",
       "       Class_1  0.020613  0.045457  \n",
       "br3    Class_0  0.025312  0.083704  \n",
       "       Class_1  0.030829  0.088691  \n",
       "       Class_2  0.063275  0.078084  \n",
       "pdl1-3 Class_0  0.061189  0.055219  \n",
       "       Class_1  0.043642  0.065468  \n",
       "       Class_2  0.062609  0.057942  "
      ]
     },
     "metadata": {},
     "output_type": "display_data"
    }
   ],
   "source": [
    "from pyexpat import model\n",
    "import numpy as np\n",
    "import pandas as pd\n",
    "\n",
    "# ------------------------------------------------------------------------------\n",
    "# Collect and summarize\n",
    "# ------------------------------------------------------------------------------\n",
    "results_list = []  # We'll accumulate dictionaries to later convert to a DataFrame\n",
    "\n",
    "# outer_train_class_metrics might have multiple top-level keys (e.g., 'br3', 'br4', etc.)\n",
    "for model_key, inner_dict in outer_train_class_metrics.items():\n",
    "    # inner_dict looks like:\n",
    "    # {\n",
    "    #   'inner_iteration_5': {'Class_0': {...}, 'Class_1': {...}, ...},\n",
    "    #   'inner_iteration_4': {...},\n",
    "    #   'inner_iteration_3': {...}\n",
    "    # }\n",
    "    print(model_key)\n",
    "    # 1) Identify all available \"inner_iteration\" keys\n",
    "    iteration_keys = list(inner_dict.keys())\n",
    "    print(iteration_keys)\n",
    "\n",
    "    # 2) From the first iteration, identify the classes\n",
    "    #    (Assumes same classes appear in each iteration, or you can unify them if needed)\n",
    "    first_iteration = iteration_keys[0]\n",
    "    class_names = list(inner_dict[first_iteration].keys())\n",
    "    print(class_names)\n",
    "    \n",
    "    # 3) For each class, gather metric lists across iterations\n",
    "    for class_name in class_names:\n",
    "        # We'll track each metric: Accuracy, Precision, Recall, F1-score\n",
    "        # You could also extract these keys on the fly if each class dict has more/less.\n",
    "        metric_names = [\"Accuracy\", \"Precision\", \"Recall\", \"F1-score\"]\n",
    "        \n",
    "        # For storing raw values across all iterations\n",
    "        metrics_storage = {metric: [] for metric in metric_names}\n",
    "        \n",
    "        # 4) Loop over each iteration to collect values\n",
    "        for iteration_key in iteration_keys:\n",
    "            iteration_data = inner_dict[iteration_key]\n",
    "            if class_name in iteration_data:\n",
    "                class_metrics = iteration_data[class_name]\n",
    "                # class_metrics is e.g. {'Accuracy': 0.81, 'Precision': 0.82, ...}\n",
    "                for metric in metric_names:\n",
    "                    if metric in class_metrics:\n",
    "                        metrics_storage[metric].append(class_metrics[metric])\n",
    "        \n",
    "        # 5) Compute mean & CI for each metric in metrics_storage\n",
    "        for metric, values in metrics_storage.items():\n",
    "            if len(values) == 0:\n",
    "                continue  # skip if no data was found for some reason\n",
    "            \n",
    "            mean_val, ci_val = compute_mean_and_ci(values)\n",
    "\n",
    "            results_list.append({\n",
    "                \"Model\":  model_key,\n",
    "                \"Class\":  class_name,\n",
    "                \"Metric\": metric,\n",
    "                \"Mean\":   mean_val,\n",
    "                \"95% CI\": ci_val\n",
    "            })\n",
    "\n",
    "# ------------------------------------------------------------------------------\n",
    "# Convert the collected results into a DataFrame\n",
    "# ------------------------------------------------------------------------------\n",
    "summary_df = pd.DataFrame(results_list)\n",
    "\n",
    "# If desired, you can pivot or group:\n",
    "# e.g., pivot to see each (Class, Metric) as a row with columns = [\"Mean\", \"95% CI\"]\n",
    "# We'll keep it in \"long\" format here:\n",
    "display(summary_df)\n",
    "\n",
    "#Optionally, you could pivot for a more \"matrix-like\" view:\n",
    "pivot_df_val = summary_df.pivot(index=[\"Model\",\"Class\"], \n",
    "                             columns=\"Metric\", \n",
    "                            values=[\"Mean\",\"95% CI\"])\n",
    "display(pivot_df_val)"
   ]
  },
  {
   "cell_type": "code",
   "execution_count": 14,
   "metadata": {},
   "outputs": [
    {
     "name": "stdout",
     "output_type": "stream",
     "text": [
      "['adsq', 'br3', 'pdl1-3']\n",
      "['inner_iteration_1', 'inner_iteration_2', 'inner_iteration_3', 'inner_iteration_4', 'inner_iteration_5']\n",
      "/media/mmd/Samsung_T5/GitHub/UMD/eval/test-int/adsq/inner_iteration_1\n",
      "inner_iteration_1\n"
     ]
    },
    {
     "data": {
      "text/plain": [
       "{'0': 'adenocarcinoma', '1': 'squamous'}"
      ]
     },
     "metadata": {},
     "output_type": "display_data"
    },
    {
     "name": "stdout",
     "output_type": "stream",
     "text": [
      "This is outlab 2\n",
      "HISTOLOGY\n"
     ]
    },
    {
     "data": {
      "text/plain": [
       "{'Accuracy': 0.6231884057971014,\n",
       " 'Balanced_Accuracy': 0.7061403508771931,\n",
       " 'Precision': 0.8300328827183047,\n",
       " 'Recall': 0.6231884057971014,\n",
       " 'F1-Score': 0.668241965973535,\n",
       " 'Confusion Matrix': [[33, 24], [2, 10]]}"
      ]
     },
     "metadata": {},
     "output_type": "display_data"
    },
    {
     "name": "stdout",
     "output_type": "stream",
     "text": [
      "Accuracy: 0.6231884057971014\n",
      "Balanced_Accuracy: 0.7061403508771931\n",
      "Precision: 0.8300328827183047\n",
      "Recall: 0.6231884057971014\n",
      "F1-Score: 0.668241965973535\n",
      "Confusion Matrix: [[33, 24], [2, 10]]\n",
      "['Class adenocarcinoma', 'Class squamous']\n",
      "/media/mmd/Samsung_T5/GitHub/UMD/eval/test-int/adsq/inner_iteration_2\n",
      "inner_iteration_2\n"
     ]
    },
    {
     "data": {
      "text/plain": [
       "{'0': 'adenocarcinoma', '1': 'squamous'}"
      ]
     },
     "metadata": {},
     "output_type": "display_data"
    },
    {
     "name": "stdout",
     "output_type": "stream",
     "text": [
      "This is outlab 2\n",
      "HISTOLOGY\n"
     ]
    },
    {
     "data": {
      "text/plain": [
       "{'Accuracy': 0.75,\n",
       " 'Balanced_Accuracy': 0.7673469387755103,\n",
       " 'Precision': 0.8192307692307692,\n",
       " 'Recall': 0.75,\n",
       " 'F1-Score': 0.7670454545454546,\n",
       " 'Confusion Matrix': [[36, 13], [3, 12]]}"
      ]
     },
     "metadata": {},
     "output_type": "display_data"
    },
    {
     "name": "stdout",
     "output_type": "stream",
     "text": [
      "Accuracy: 0.75\n",
      "Balanced_Accuracy: 0.7673469387755103\n",
      "Precision: 0.8192307692307692\n",
      "Recall: 0.75\n",
      "F1-Score: 0.7670454545454546\n",
      "Confusion Matrix: [[36, 13], [3, 12]]\n",
      "['Class adenocarcinoma', 'Class squamous']\n",
      "/media/mmd/Samsung_T5/GitHub/UMD/eval/test-int/adsq/inner_iteration_3\n",
      "inner_iteration_3\n"
     ]
    },
    {
     "data": {
      "text/plain": [
       "{'0': 'adenocarcinoma', '1': 'squamous'}"
      ]
     },
     "metadata": {},
     "output_type": "display_data"
    },
    {
     "name": "stdout",
     "output_type": "stream",
     "text": [
      "This is outlab 2\n",
      "HISTOLOGY\n"
     ]
    },
    {
     "data": {
      "text/plain": [
       "{'Accuracy': 0.7868852459016393,\n",
       " 'Balanced_Accuracy': 0.7414965986394557,\n",
       " 'Precision': 0.8228280880161305,\n",
       " 'Recall': 0.7868852459016393,\n",
       " 'F1-Score': 0.7995283162226395,\n",
       " 'Confusion Matrix': [[40, 9], [4, 8]]}"
      ]
     },
     "metadata": {},
     "output_type": "display_data"
    },
    {
     "name": "stdout",
     "output_type": "stream",
     "text": [
      "Accuracy: 0.7868852459016393\n",
      "Balanced_Accuracy: 0.7414965986394557\n",
      "Precision: 0.8228280880161305\n",
      "Recall: 0.7868852459016393\n",
      "F1-Score: 0.7995283162226395\n",
      "Confusion Matrix: [[40, 9], [4, 8]]\n",
      "['Class adenocarcinoma', 'Class squamous']\n",
      "/media/mmd/Samsung_T5/GitHub/UMD/eval/test-int/adsq/inner_iteration_4\n",
      "inner_iteration_4\n"
     ]
    },
    {
     "data": {
      "text/plain": [
       "{'0': 'adenocarcinoma', '1': 'squamous'}"
      ]
     },
     "metadata": {},
     "output_type": "display_data"
    },
    {
     "name": "stdout",
     "output_type": "stream",
     "text": [
      "This is outlab 2\n",
      "HISTOLOGY\n"
     ]
    },
    {
     "data": {
      "text/plain": [
       "{'Accuracy': 0.6666666666666666,\n",
       " 'Balanced_Accuracy': 0.7037643207855975,\n",
       " 'Precision': 0.7923681257014591,\n",
       " 'Recall': 0.6666666666666666,\n",
       " 'F1-Score': 0.6958333333333333,\n",
       " 'Confusion Matrix': [[30, 17], [3, 10]]}"
      ]
     },
     "metadata": {},
     "output_type": "display_data"
    },
    {
     "name": "stdout",
     "output_type": "stream",
     "text": [
      "Accuracy: 0.6666666666666666\n",
      "Balanced_Accuracy: 0.7037643207855975\n",
      "Precision: 0.7923681257014591\n",
      "Recall: 0.6666666666666666\n",
      "F1-Score: 0.6958333333333333\n",
      "Confusion Matrix: [[30, 17], [3, 10]]\n",
      "['Class adenocarcinoma', 'Class squamous']\n",
      "/media/mmd/Samsung_T5/GitHub/UMD/eval/test-int/adsq/inner_iteration_5\n",
      "inner_iteration_5\n"
     ]
    },
    {
     "data": {
      "text/plain": [
       "{'0': 'adenocarcinoma', '1': 'squamous'}"
      ]
     },
     "metadata": {},
     "output_type": "display_data"
    },
    {
     "name": "stdout",
     "output_type": "stream",
     "text": [
      "This is outlab 2\n",
      "HISTOLOGY\n"
     ]
    },
    {
     "data": {
      "text/plain": [
       "{'Accuracy': 0.7288135593220338,\n",
       " 'Balanced_Accuracy': 0.728219696969697,\n",
       " 'Precision': 0.8203559746824689,\n",
       " 'Recall': 0.7288135593220338,\n",
       " 'F1-Score': 0.7554197871501773,\n",
       " 'Confusion Matrix': [[35, 13], [3, 8]]}"
      ]
     },
     "metadata": {},
     "output_type": "display_data"
    },
    {
     "name": "stdout",
     "output_type": "stream",
     "text": [
      "Accuracy: 0.7288135593220338\n",
      "Balanced_Accuracy: 0.728219696969697\n",
      "Precision: 0.8203559746824689\n",
      "Recall: 0.7288135593220338\n",
      "F1-Score: 0.7554197871501773\n",
      "Confusion Matrix: [[35, 13], [3, 8]]\n",
      "['Class adenocarcinoma', 'Class squamous']\n",
      "['inner_iteration_1', 'inner_iteration_2', 'inner_iteration_3', 'inner_iteration_4', 'inner_iteration_5']\n",
      "/media/mmd/Samsung_T5/GitHub/UMD/eval/test-int/br3/inner_iteration_1\n",
      "inner_iteration_1\n"
     ]
    },
    {
     "data": {
      "text/plain": [
       "{'0': '0.0', '1': '1.0', '2': '2.0'}"
      ]
     },
     "metadata": {},
     "output_type": "display_data"
    },
    {
     "name": "stdout",
     "output_type": "stream",
     "text": [
      "This is outlab 3\n",
      "BEST_RESPONSE_3\n"
     ]
    },
    {
     "data": {
      "text/plain": [
       "{'Accuracy': 0.34375,\n",
       " 'Balanced_Accuracy': 0.36808934099955765,\n",
       " 'Precision': 0.34107067062818336,\n",
       " 'Recall': 0.34375,\n",
       " 'F1-Score': 0.3204513888888889,\n",
       " 'Confusion Matrix': [[5, 11, 12], [5, 5, 7], [4, 3, 12]]}"
      ]
     },
     "metadata": {},
     "output_type": "display_data"
    },
    {
     "name": "stdout",
     "output_type": "stream",
     "text": [
      "Accuracy: 0.34375\n",
      "Balanced_Accuracy: 0.36808934099955765\n",
      "Precision: 0.34107067062818336\n",
      "Recall: 0.34375\n",
      "F1-Score: 0.3204513888888889\n",
      "Confusion Matrix: [[5, 11, 12], [5, 5, 7], [4, 3, 12]]\n",
      "['Class 0.0', 'Class 1.0', 'Class 2.0']\n",
      "/media/mmd/Samsung_T5/GitHub/UMD/eval/test-int/br3/inner_iteration_2\n",
      "inner_iteration_2\n"
     ]
    },
    {
     "data": {
      "text/plain": [
       "{'0': '0.0', '1': '1.0', '2': '2.0'}"
      ]
     },
     "metadata": {},
     "output_type": "display_data"
    },
    {
     "name": "stdout",
     "output_type": "stream",
     "text": [
      "This is outlab 3\n",
      "BEST_RESPONSE_3\n"
     ]
    },
    {
     "data": {
      "text/plain": [
       "{'Accuracy': 0.4,\n",
       " 'Balanced_Accuracy': 0.3899923605805959,\n",
       " 'Precision': 0.48125,\n",
       " 'Recall': 0.4,\n",
       " 'F1-Score': 0.33689440993788816,\n",
       " 'Confusion Matrix': [[3, 0, 19], [3, 3, 11], [2, 1, 18]]}"
      ]
     },
     "metadata": {},
     "output_type": "display_data"
    },
    {
     "name": "stdout",
     "output_type": "stream",
     "text": [
      "Accuracy: 0.4\n",
      "Balanced_Accuracy: 0.3899923605805959\n",
      "Precision: 0.48125\n",
      "Recall: 0.4\n",
      "F1-Score: 0.33689440993788816\n",
      "Confusion Matrix: [[3, 0, 19], [3, 3, 11], [2, 1, 18]]\n",
      "['Class 0.0', 'Class 1.0', 'Class 2.0']\n",
      "/media/mmd/Samsung_T5/GitHub/UMD/eval/test-int/br3/inner_iteration_3\n",
      "inner_iteration_3\n"
     ]
    },
    {
     "data": {
      "text/plain": [
       "{'0': '0.0', '1': '1.0', '2': '2.0'}"
      ]
     },
     "metadata": {},
     "output_type": "display_data"
    },
    {
     "name": "stdout",
     "output_type": "stream",
     "text": [
      "This is outlab 3\n",
      "BEST_RESPONSE_3\n"
     ]
    },
    {
     "data": {
      "text/plain": [
       "{'Accuracy': 0.32786885245901637,\n",
       " 'Balanced_Accuracy': 0.3397435897435897,\n",
       " 'Precision': 0.34601188764260377,\n",
       " 'Recall': 0.32786885245901637,\n",
       " 'F1-Score': 0.32906056650664073,\n",
       " 'Confusion Matrix': [[7, 4, 9], [6, 6, 3], [5, 14, 7]]}"
      ]
     },
     "metadata": {},
     "output_type": "display_data"
    },
    {
     "name": "stdout",
     "output_type": "stream",
     "text": [
      "Accuracy: 0.32786885245901637\n",
      "Balanced_Accuracy: 0.3397435897435897\n",
      "Precision: 0.34601188764260377\n",
      "Recall: 0.32786885245901637\n",
      "F1-Score: 0.32906056650664073\n",
      "Confusion Matrix: [[7, 4, 9], [6, 6, 3], [5, 14, 7]]\n",
      "['Class 0.0', 'Class 1.0', 'Class 2.0']\n",
      "/media/mmd/Samsung_T5/GitHub/UMD/eval/test-int/br3/inner_iteration_4\n",
      "inner_iteration_4\n"
     ]
    },
    {
     "data": {
      "text/plain": [
       "{'0': '0.0', '1': '1.0', '2': '2.0'}"
      ]
     },
     "metadata": {},
     "output_type": "display_data"
    },
    {
     "name": "stdout",
     "output_type": "stream",
     "text": [
      "This is outlab 3\n",
      "BEST_RESPONSE_3\n"
     ]
    },
    {
     "data": {
      "text/plain": [
       "{'Accuracy': 0.43283582089552236,\n",
       " 'Balanced_Accuracy': 0.37603519668737057,\n",
       " 'Precision': 0.4028073916133618,\n",
       " 'Recall': 0.43283582089552236,\n",
       " 'F1-Score': 0.38156065049060023,\n",
       " 'Confusion Matrix': [[22, 2, 4], [11, 2, 3], [15, 3, 5]]}"
      ]
     },
     "metadata": {},
     "output_type": "display_data"
    },
    {
     "name": "stdout",
     "output_type": "stream",
     "text": [
      "Accuracy: 0.43283582089552236\n",
      "Balanced_Accuracy: 0.37603519668737057\n",
      "Precision: 0.4028073916133618\n",
      "Recall: 0.43283582089552236\n",
      "F1-Score: 0.38156065049060023\n",
      "Confusion Matrix: [[22, 2, 4], [11, 2, 3], [15, 3, 5]]\n",
      "['Class 0.0', 'Class 1.0', 'Class 2.0']\n",
      "/media/mmd/Samsung_T5/GitHub/UMD/eval/test-int/br3/inner_iteration_5\n",
      "inner_iteration_5\n"
     ]
    },
    {
     "data": {
      "text/plain": [
       "{'0': '0.0', '1': '1.0', '2': '2.0'}"
      ]
     },
     "metadata": {},
     "output_type": "display_data"
    },
    {
     "name": "stdout",
     "output_type": "stream",
     "text": [
      "This is outlab 3\n",
      "BEST_RESPONSE_3\n"
     ]
    },
    {
     "data": {
      "text/plain": [
       "{'Accuracy': 0.2542372881355932,\n",
       " 'Balanced_Accuracy': 0.268640350877193,\n",
       " 'Precision': 0.2948631029986962,\n",
       " 'Recall': 0.2542372881355932,\n",
       " 'F1-Score': 0.24330471788098906,\n",
       " 'Confusion Matrix': [[3, 13, 8], [1, 5, 10], [4, 8, 7]]}"
      ]
     },
     "metadata": {},
     "output_type": "display_data"
    },
    {
     "name": "stdout",
     "output_type": "stream",
     "text": [
      "Accuracy: 0.2542372881355932\n",
      "Balanced_Accuracy: 0.268640350877193\n",
      "Precision: 0.2948631029986962\n",
      "Recall: 0.2542372881355932\n",
      "F1-Score: 0.24330471788098906\n",
      "Confusion Matrix: [[3, 13, 8], [1, 5, 10], [4, 8, 7]]\n",
      "['Class 0.0', 'Class 1.0', 'Class 2.0']\n",
      "['inner_iteration_1', 'inner_iteration_2', 'inner_iteration_3', 'inner_iteration_4', 'inner_iteration_5']\n",
      "/media/mmd/Samsung_T5/GitHub/UMD/eval/test-int/pdl1-3/inner_iteration_1\n",
      "inner_iteration_1\n"
     ]
    },
    {
     "data": {
      "text/plain": [
       "{'0': '1-49 %', '1': '< 1 %', '2': '>=50 %'}"
      ]
     },
     "metadata": {},
     "output_type": "display_data"
    },
    {
     "name": "stdout",
     "output_type": "stream",
     "text": [
      "This is outlab 3\n",
      "PDL1_CATHEGORY\n"
     ]
    },
    {
     "data": {
      "text/plain": [
       "{'Accuracy': 0.3,\n",
       " 'Balanced_Accuracy': 0.31342840166369573,\n",
       " 'Precision': 0.2881944444444444,\n",
       " 'Recall': 0.3,\n",
       " 'F1-Score': 0.28416387693288697,\n",
       " 'Confusion Matrix': [[7, 7, 7], [10, 3, 9], [7, 2, 8]]}"
      ]
     },
     "metadata": {},
     "output_type": "display_data"
    },
    {
     "name": "stdout",
     "output_type": "stream",
     "text": [
      "Accuracy: 0.3\n",
      "Balanced_Accuracy: 0.31342840166369573\n",
      "Precision: 0.2881944444444444\n",
      "Recall: 0.3\n",
      "F1-Score: 0.28416387693288697\n",
      "Confusion Matrix: [[7, 7, 7], [10, 3, 9], [7, 2, 8]]\n",
      "['Class 1-49 %', 'Class < 1 %', 'Class >=50 %']\n",
      "/media/mmd/Samsung_T5/GitHub/UMD/eval/test-int/pdl1-3/inner_iteration_2\n",
      "inner_iteration_2\n"
     ]
    },
    {
     "data": {
      "text/plain": [
       "{'0': '1-49 %', '1': '< 1 %', '2': '>=50 %'}"
      ]
     },
     "metadata": {},
     "output_type": "display_data"
    },
    {
     "name": "stdout",
     "output_type": "stream",
     "text": [
      "This is outlab 3\n",
      "PDL1_CATHEGORY\n"
     ]
    },
    {
     "data": {
      "text/plain": [
       "{'Accuracy': 0.40384615384615385,\n",
       " 'Balanced_Accuracy': 0.4081349206349206,\n",
       " 'Precision': 0.3661581839213418,\n",
       " 'Recall': 0.40384615384615385,\n",
       " 'F1-Score': 0.35861977170116704,\n",
       " 'Confusion Matrix': [[1, 7, 8], [3, 9, 9], [1, 3, 11]]}"
      ]
     },
     "metadata": {},
     "output_type": "display_data"
    },
    {
     "name": "stdout",
     "output_type": "stream",
     "text": [
      "Accuracy: 0.40384615384615385\n",
      "Balanced_Accuracy: 0.4081349206349206\n",
      "Precision: 0.3661581839213418\n",
      "Recall: 0.40384615384615385\n",
      "F1-Score: 0.35861977170116704\n",
      "Confusion Matrix: [[1, 7, 8], [3, 9, 9], [1, 3, 11]]\n",
      "['Class 1-49 %', 'Class < 1 %', 'Class >=50 %']\n",
      "/media/mmd/Samsung_T5/GitHub/UMD/eval/test-int/pdl1-3/inner_iteration_3\n",
      "inner_iteration_3\n"
     ]
    },
    {
     "data": {
      "text/plain": [
       "{'0': '1-49 %', '1': '< 1 %', '2': '>=50 %'}"
      ]
     },
     "metadata": {},
     "output_type": "display_data"
    },
    {
     "name": "stdout",
     "output_type": "stream",
     "text": [
      "This is outlab 3\n",
      "PDL1_CATHEGORY\n"
     ]
    },
    {
     "data": {
      "text/plain": [
       "{'Accuracy': 0.2909090909090909,\n",
       " 'Balanced_Accuracy': 0.3212576896787423,\n",
       " 'Precision': 0.27636363636363637,\n",
       " 'Recall': 0.2909090909090909,\n",
       " 'F1-Score': 0.2755773955773956,\n",
       " 'Confusion Matrix': [[4, 11, 7], [9, 4, 6], [2, 4, 8]]}"
      ]
     },
     "metadata": {},
     "output_type": "display_data"
    },
    {
     "name": "stdout",
     "output_type": "stream",
     "text": [
      "Accuracy: 0.2909090909090909\n",
      "Balanced_Accuracy: 0.3212576896787423\n",
      "Precision: 0.27636363636363637\n",
      "Recall: 0.2909090909090909\n",
      "F1-Score: 0.2755773955773956\n",
      "Confusion Matrix: [[4, 11, 7], [9, 4, 6], [2, 4, 8]]\n",
      "['Class 1-49 %', 'Class < 1 %', 'Class >=50 %']\n",
      "/media/mmd/Samsung_T5/GitHub/UMD/eval/test-int/pdl1-3/inner_iteration_4\n",
      "inner_iteration_4\n"
     ]
    },
    {
     "data": {
      "text/plain": [
       "{'0': '1-49 %', '1': '< 1 %', '2': '>=50 %'}"
      ]
     },
     "metadata": {},
     "output_type": "display_data"
    },
    {
     "name": "stdout",
     "output_type": "stream",
     "text": [
      "This is outlab 3\n",
      "PDL1_CATHEGORY\n"
     ]
    },
    {
     "data": {
      "text/plain": [
       "{'Accuracy': 0.38461538461538464,\n",
       " 'Balanced_Accuracy': 0.38544891640866874,\n",
       " 'Precision': 0.3844255292219093,\n",
       " 'Recall': 0.38461538461538464,\n",
       " 'F1-Score': 0.3791273054430949,\n",
       " 'Confusion Matrix': [[8, 5, 6], [5, 4, 8], [4, 4, 8]]}"
      ]
     },
     "metadata": {},
     "output_type": "display_data"
    },
    {
     "name": "stdout",
     "output_type": "stream",
     "text": [
      "Accuracy: 0.38461538461538464\n",
      "Balanced_Accuracy: 0.38544891640866874\n",
      "Precision: 0.3844255292219093\n",
      "Recall: 0.38461538461538464\n",
      "F1-Score: 0.3791273054430949\n",
      "Confusion Matrix: [[8, 5, 6], [5, 4, 8], [4, 4, 8]]\n",
      "['Class 1-49 %', 'Class < 1 %', 'Class >=50 %']\n",
      "/media/mmd/Samsung_T5/GitHub/UMD/eval/test-int/pdl1-3/inner_iteration_5\n",
      "inner_iteration_5\n"
     ]
    },
    {
     "data": {
      "text/plain": [
       "{'0': '1-49 %', '1': '< 1 %', '2': '>=50 %'}"
      ]
     },
     "metadata": {},
     "output_type": "display_data"
    },
    {
     "name": "stdout",
     "output_type": "stream",
     "text": [
      "This is outlab 3\n",
      "PDL1_CATHEGORY\n"
     ]
    },
    {
     "data": {
      "text/plain": [
       "{'Accuracy': 0.4745762711864407,\n",
       " 'Balanced_Accuracy': 0.48120300751879697,\n",
       " 'Precision': 0.49012922917072543,\n",
       " 'Recall': 0.4745762711864407,\n",
       " 'F1-Score': 0.46451921875650687,\n",
       " 'Confusion Matrix': [[6, 4, 11], [3, 10, 6], [3, 4, 12]]}"
      ]
     },
     "metadata": {},
     "output_type": "display_data"
    },
    {
     "name": "stdout",
     "output_type": "stream",
     "text": [
      "Accuracy: 0.4745762711864407\n",
      "Balanced_Accuracy: 0.48120300751879697\n",
      "Precision: 0.49012922917072543\n",
      "Recall: 0.4745762711864407\n",
      "F1-Score: 0.46451921875650687\n",
      "Confusion Matrix: [[6, 4, 11], [3, 10, 6], [3, 4, 12]]\n",
      "['Class 1-49 %', 'Class < 1 %', 'Class >=50 %']\n"
     ]
    }
   ],
   "source": [
    "base_folder = os.path.join(working_directory,\"eval/test-int\")\n",
    "subfolder = [name for name in os.listdir(base_folder) if os.path.isdir(os.path.join(base_folder, name))]\n",
    "\n",
    "print(subfolder)\n",
    "\n",
    "train_metrics = {}\n",
    "train_class_metrics = {}\n",
    "outer_train_metrics = {}\n",
    "outer_train_class_metrics = {}\n",
    "\n",
    "for m in subfolder:\n",
    "    parent_directory = os.path.join(base_folder, m)\n",
    "    subsubfolder = [name for name in os.listdir(parent_directory) if os.path.isdir(os.path.join(parent_directory, name))]\n",
    "    print(subsubfolder)\n",
    "    train_metrics = {}\n",
    "    train_class_metrics = {}\n",
    "    for s in subsubfolder: \n",
    "        sub_parent_directory = os.path.join(parent_directory, s)\n",
    "        print(sub_parent_directory)\n",
    "        print(s)\n",
    "        train_metrics[s], train_class_metrics[s], a, n = compute_metrics(sub_parent_directory, n_classes, sub_parent_directory)\n",
    "        print(n)\n",
    "    outer_train_metrics[m] = train_metrics\n",
    "    outer_train_class_metrics[m] =train_class_metrics"
   ]
  },
  {
   "cell_type": "code",
   "execution_count": 15,
   "metadata": {},
   "outputs": [
    {
     "name": "stdout",
     "output_type": "stream",
     "text": [
      "['Class 1-49 %', 'Class < 1 %', 'Class >=50 %']\n"
     ]
    }
   ],
   "source": [
    "print(n)"
   ]
  },
  {
   "cell_type": "code",
   "execution_count": 16,
   "metadata": {},
   "outputs": [
    {
     "name": "stdout",
     "output_type": "stream",
     "text": [
      "Chiave: adsq, Valore: {'inner_iteration_1': {'Accuracy': 0.6231884057971014, 'Balanced_Accuracy': 0.7061403508771931, 'Precision': 0.8300328827183047, 'Recall': 0.6231884057971014, 'F1-Score': 0.668241965973535, 'Confusion Matrix': [[33, 24], [2, 10]]}, 'inner_iteration_2': {'Accuracy': 0.75, 'Balanced_Accuracy': 0.7673469387755103, 'Precision': 0.8192307692307692, 'Recall': 0.75, 'F1-Score': 0.7670454545454546, 'Confusion Matrix': [[36, 13], [3, 12]]}, 'inner_iteration_3': {'Accuracy': 0.7868852459016393, 'Balanced_Accuracy': 0.7414965986394557, 'Precision': 0.8228280880161305, 'Recall': 0.7868852459016393, 'F1-Score': 0.7995283162226395, 'Confusion Matrix': [[40, 9], [4, 8]]}, 'inner_iteration_4': {'Accuracy': 0.6666666666666666, 'Balanced_Accuracy': 0.7037643207855975, 'Precision': 0.7923681257014591, 'Recall': 0.6666666666666666, 'F1-Score': 0.6958333333333333, 'Confusion Matrix': [[30, 17], [3, 10]]}, 'inner_iteration_5': {'Accuracy': 0.7288135593220338, 'Balanced_Accuracy': 0.728219696969697, 'Precision': 0.8203559746824689, 'Recall': 0.7288135593220338, 'F1-Score': 0.7554197871501773, 'Confusion Matrix': [[35, 13], [3, 8]]}}\n",
      "['Accuracy', 'Balanced_Accuracy', 'Precision', 'Recall', 'F1-Score', 'Confusion Matrix']\n",
      "[0.62318841 0.75       0.78688525 0.66666667 0.72881356]\n",
      "[0.70614035 0.76734694 0.7414966  0.70376432 0.7282197 ]\n",
      "[0.83003288 0.81923077 0.82282809 0.79236813 0.82035597]\n",
      "[0.62318841 0.75       0.78688525 0.66666667 0.72881356]\n",
      "[0.66824197 0.76704545 0.79952832 0.69583333 0.75541979]\n",
      "[[[33 24]\n",
      "  [ 2 10]]\n",
      "\n",
      " [[36 13]\n",
      "  [ 3 12]]\n",
      "\n",
      " [[40  9]\n",
      "  [ 4  8]]\n",
      "\n",
      " [[30 17]\n",
      "  [ 3 10]]\n",
      "\n",
      " [[35 13]\n",
      "  [ 3  8]]]\n"
     ]
    },
    {
     "data": {
      "text/html": [
       "<div>\n",
       "<style scoped>\n",
       "    .dataframe tbody tr th:only-of-type {\n",
       "        vertical-align: middle;\n",
       "    }\n",
       "\n",
       "    .dataframe tbody tr th {\n",
       "        vertical-align: top;\n",
       "    }\n",
       "\n",
       "    .dataframe thead th {\n",
       "        text-align: right;\n",
       "    }\n",
       "</style>\n",
       "<table border=\"1\" class=\"dataframe\">\n",
       "  <thead>\n",
       "    <tr style=\"text-align: right;\">\n",
       "      <th></th>\n",
       "      <th>Mean</th>\n",
       "      <th>Confidence Interval</th>\n",
       "    </tr>\n",
       "  </thead>\n",
       "  <tbody>\n",
       "    <tr>\n",
       "      <th>Accuracy</th>\n",
       "      <td>0.711111</td>\n",
       "      <td>0.058776</td>\n",
       "    </tr>\n",
       "    <tr>\n",
       "      <th>Balanced_Accuracy</th>\n",
       "      <td>0.729394</td>\n",
       "      <td>0.023605</td>\n",
       "    </tr>\n",
       "    <tr>\n",
       "      <th>Precision</th>\n",
       "      <td>0.816963</td>\n",
       "      <td>0.012859</td>\n",
       "    </tr>\n",
       "    <tr>\n",
       "      <th>Recall</th>\n",
       "      <td>0.711111</td>\n",
       "      <td>0.058776</td>\n",
       "    </tr>\n",
       "    <tr>\n",
       "      <th>F1-Score</th>\n",
       "      <td>0.737214</td>\n",
       "      <td>0.048112</td>\n",
       "    </tr>\n",
       "    <tr>\n",
       "      <th>Confusion Matrix</th>\n",
       "      <td>15.650000</td>\n",
       "      <td>11.266251</td>\n",
       "    </tr>\n",
       "  </tbody>\n",
       "</table>\n",
       "</div>"
      ],
      "text/plain": [
       "                        Mean  Confidence Interval\n",
       "Accuracy            0.711111             0.058776\n",
       "Balanced_Accuracy   0.729394             0.023605\n",
       "Precision           0.816963             0.012859\n",
       "Recall              0.711111             0.058776\n",
       "F1-Score            0.737214             0.048112\n",
       "Confusion Matrix   15.650000            11.266251"
      ]
     },
     "metadata": {},
     "output_type": "display_data"
    },
    {
     "name": "stdout",
     "output_type": "stream",
     "text": [
      "[[34.8 15.2]\n",
      " [ 3.   9.6]]\n"
     ]
    },
    {
     "data": {
      "text/html": [
       "<div>\n",
       "<style scoped>\n",
       "    .dataframe tbody tr th:only-of-type {\n",
       "        vertical-align: middle;\n",
       "    }\n",
       "\n",
       "    .dataframe tbody tr th {\n",
       "        vertical-align: top;\n",
       "    }\n",
       "\n",
       "    .dataframe thead th {\n",
       "        text-align: right;\n",
       "    }\n",
       "</style>\n",
       "<table border=\"1\" class=\"dataframe\">\n",
       "  <thead>\n",
       "    <tr style=\"text-align: right;\">\n",
       "      <th></th>\n",
       "      <th>Pred_0</th>\n",
       "      <th>Pred_1</th>\n",
       "    </tr>\n",
       "  </thead>\n",
       "  <tbody>\n",
       "    <tr>\n",
       "      <th>True_0</th>\n",
       "      <td>34.8</td>\n",
       "      <td>15.2</td>\n",
       "    </tr>\n",
       "    <tr>\n",
       "      <th>True_1</th>\n",
       "      <td>3.0</td>\n",
       "      <td>9.6</td>\n",
       "    </tr>\n",
       "  </tbody>\n",
       "</table>\n",
       "</div>"
      ],
      "text/plain": [
       "        Pred_0  Pred_1\n",
       "True_0    34.8    15.2\n",
       "True_1     3.0     9.6"
      ]
     },
     "metadata": {},
     "output_type": "display_data"
    },
    {
     "data": {
      "text/html": [
       "<div>\n",
       "<style scoped>\n",
       "    .dataframe tbody tr th:only-of-type {\n",
       "        vertical-align: middle;\n",
       "    }\n",
       "\n",
       "    .dataframe tbody tr th {\n",
       "        vertical-align: top;\n",
       "    }\n",
       "\n",
       "    .dataframe thead th {\n",
       "        text-align: right;\n",
       "    }\n",
       "</style>\n",
       "<table border=\"1\" class=\"dataframe\">\n",
       "  <thead>\n",
       "    <tr style=\"text-align: right;\">\n",
       "      <th></th>\n",
       "      <th>Pred_0</th>\n",
       "      <th>Pred_1</th>\n",
       "    </tr>\n",
       "  </thead>\n",
       "  <tbody>\n",
       "    <tr>\n",
       "      <th>True_0</th>\n",
       "      <td>3.310589</td>\n",
       "      <td>5.075431</td>\n",
       "    </tr>\n",
       "    <tr>\n",
       "      <th>True_1</th>\n",
       "      <td>0.632456</td>\n",
       "      <td>1.496663</td>\n",
       "    </tr>\n",
       "  </tbody>\n",
       "</table>\n",
       "</div>"
      ],
      "text/plain": [
       "          Pred_0    Pred_1\n",
       "True_0  3.310589  5.075431\n",
       "True_1  0.632456  1.496663"
      ]
     },
     "metadata": {},
     "output_type": "display_data"
    },
    {
     "name": "stdout",
     "output_type": "stream",
     "text": [
      "Chiave: br3, Valore: {'inner_iteration_1': {'Accuracy': 0.34375, 'Balanced_Accuracy': 0.36808934099955765, 'Precision': 0.34107067062818336, 'Recall': 0.34375, 'F1-Score': 0.3204513888888889, 'Confusion Matrix': [[5, 11, 12], [5, 5, 7], [4, 3, 12]]}, 'inner_iteration_2': {'Accuracy': 0.4, 'Balanced_Accuracy': 0.3899923605805959, 'Precision': 0.48125, 'Recall': 0.4, 'F1-Score': 0.33689440993788816, 'Confusion Matrix': [[3, 0, 19], [3, 3, 11], [2, 1, 18]]}, 'inner_iteration_3': {'Accuracy': 0.32786885245901637, 'Balanced_Accuracy': 0.3397435897435897, 'Precision': 0.34601188764260377, 'Recall': 0.32786885245901637, 'F1-Score': 0.32906056650664073, 'Confusion Matrix': [[7, 4, 9], [6, 6, 3], [5, 14, 7]]}, 'inner_iteration_4': {'Accuracy': 0.43283582089552236, 'Balanced_Accuracy': 0.37603519668737057, 'Precision': 0.4028073916133618, 'Recall': 0.43283582089552236, 'F1-Score': 0.38156065049060023, 'Confusion Matrix': [[22, 2, 4], [11, 2, 3], [15, 3, 5]]}, 'inner_iteration_5': {'Accuracy': 0.2542372881355932, 'Balanced_Accuracy': 0.268640350877193, 'Precision': 0.2948631029986962, 'Recall': 0.2542372881355932, 'F1-Score': 0.24330471788098906, 'Confusion Matrix': [[3, 13, 8], [1, 5, 10], [4, 8, 7]]}}\n",
      "['Accuracy', 'Balanced_Accuracy', 'Precision', 'Recall', 'F1-Score', 'Confusion Matrix']\n",
      "[0.34375    0.4        0.32786885 0.43283582 0.25423729]\n",
      "[0.36808934 0.38999236 0.33974359 0.3760352  0.26864035]\n",
      "[0.34107067 0.48125    0.34601189 0.40280739 0.2948631 ]\n",
      "[0.34375    0.4        0.32786885 0.43283582 0.25423729]\n",
      "[0.32045139 0.33689441 0.32906057 0.38156065 0.24330472]\n",
      "[[[ 5 11 12]\n",
      "  [ 5  5  7]\n",
      "  [ 4  3 12]]\n",
      "\n",
      " [[ 3  0 19]\n",
      "  [ 3  3 11]\n",
      "  [ 2  1 18]]\n",
      "\n",
      " [[ 7  4  9]\n",
      "  [ 6  6  3]\n",
      "  [ 5 14  7]]\n",
      "\n",
      " [[22  2  4]\n",
      "  [11  2  3]\n",
      "  [15  3  5]]\n",
      "\n",
      " [[ 3 13  8]\n",
      "  [ 1  5 10]\n",
      "  [ 4  8  7]]]\n"
     ]
    },
    {
     "data": {
      "text/html": [
       "<div>\n",
       "<style scoped>\n",
       "    .dataframe tbody tr th:only-of-type {\n",
       "        vertical-align: middle;\n",
       "    }\n",
       "\n",
       "    .dataframe tbody tr th {\n",
       "        vertical-align: top;\n",
       "    }\n",
       "\n",
       "    .dataframe thead th {\n",
       "        text-align: right;\n",
       "    }\n",
       "</style>\n",
       "<table border=\"1\" class=\"dataframe\">\n",
       "  <thead>\n",
       "    <tr style=\"text-align: right;\">\n",
       "      <th></th>\n",
       "      <th>Mean</th>\n",
       "      <th>Confidence Interval</th>\n",
       "    </tr>\n",
       "  </thead>\n",
       "  <tbody>\n",
       "    <tr>\n",
       "      <th>Accuracy</th>\n",
       "      <td>0.351738</td>\n",
       "      <td>0.061719</td>\n",
       "    </tr>\n",
       "    <tr>\n",
       "      <th>Balanced_Accuracy</th>\n",
       "      <td>0.348500</td>\n",
       "      <td>0.043169</td>\n",
       "    </tr>\n",
       "    <tr>\n",
       "      <th>Precision</th>\n",
       "      <td>0.373201</td>\n",
       "      <td>0.063968</td>\n",
       "    </tr>\n",
       "    <tr>\n",
       "      <th>Recall</th>\n",
       "      <td>0.351738</td>\n",
       "      <td>0.061719</td>\n",
       "    </tr>\n",
       "    <tr>\n",
       "      <th>F1-Score</th>\n",
       "      <td>0.322254</td>\n",
       "      <td>0.044753</td>\n",
       "    </tr>\n",
       "    <tr>\n",
       "      <th>Confusion Matrix</th>\n",
       "      <td>6.911111</td>\n",
       "      <td>4.548015</td>\n",
       "    </tr>\n",
       "  </tbody>\n",
       "</table>\n",
       "</div>"
      ],
      "text/plain": [
       "                       Mean  Confidence Interval\n",
       "Accuracy           0.351738             0.061719\n",
       "Balanced_Accuracy  0.348500             0.043169\n",
       "Precision          0.373201             0.063968\n",
       "Recall             0.351738             0.061719\n",
       "F1-Score           0.322254             0.044753\n",
       "Confusion Matrix   6.911111             4.548015"
      ]
     },
     "metadata": {},
     "output_type": "display_data"
    },
    {
     "name": "stdout",
     "output_type": "stream",
     "text": [
      "[[ 8.   6.  10.4]\n",
      " [ 5.2  4.2  6.8]\n",
      " [ 6.   5.8  9.8]]\n"
     ]
    },
    {
     "data": {
      "text/html": [
       "<div>\n",
       "<style scoped>\n",
       "    .dataframe tbody tr th:only-of-type {\n",
       "        vertical-align: middle;\n",
       "    }\n",
       "\n",
       "    .dataframe tbody tr th {\n",
       "        vertical-align: top;\n",
       "    }\n",
       "\n",
       "    .dataframe thead th {\n",
       "        text-align: right;\n",
       "    }\n",
       "</style>\n",
       "<table border=\"1\" class=\"dataframe\">\n",
       "  <thead>\n",
       "    <tr style=\"text-align: right;\">\n",
       "      <th></th>\n",
       "      <th>Pred_0</th>\n",
       "      <th>Pred_1</th>\n",
       "      <th>Pred_2</th>\n",
       "    </tr>\n",
       "  </thead>\n",
       "  <tbody>\n",
       "    <tr>\n",
       "      <th>True_0</th>\n",
       "      <td>8.0</td>\n",
       "      <td>6.0</td>\n",
       "      <td>10.4</td>\n",
       "    </tr>\n",
       "    <tr>\n",
       "      <th>True_1</th>\n",
       "      <td>5.2</td>\n",
       "      <td>4.2</td>\n",
       "      <td>6.8</td>\n",
       "    </tr>\n",
       "    <tr>\n",
       "      <th>True_2</th>\n",
       "      <td>6.0</td>\n",
       "      <td>5.8</td>\n",
       "      <td>9.8</td>\n",
       "    </tr>\n",
       "  </tbody>\n",
       "</table>\n",
       "</div>"
      ],
      "text/plain": [
       "        Pred_0  Pred_1  Pred_2\n",
       "True_0     8.0     6.0    10.4\n",
       "True_1     5.2     4.2     6.8\n",
       "True_2     6.0     5.8     9.8"
      ]
     },
     "metadata": {},
     "output_type": "display_data"
    },
    {
     "data": {
      "text/html": [
       "<div>\n",
       "<style scoped>\n",
       "    .dataframe tbody tr th:only-of-type {\n",
       "        vertical-align: middle;\n",
       "    }\n",
       "\n",
       "    .dataframe tbody tr th {\n",
       "        vertical-align: top;\n",
       "    }\n",
       "\n",
       "    .dataframe thead th {\n",
       "        text-align: right;\n",
       "    }\n",
       "</style>\n",
       "<table border=\"1\" class=\"dataframe\">\n",
       "  <thead>\n",
       "    <tr style=\"text-align: right;\">\n",
       "      <th></th>\n",
       "      <th>Pred_0</th>\n",
       "      <th>Pred_1</th>\n",
       "      <th>Pred_2</th>\n",
       "    </tr>\n",
       "  </thead>\n",
       "  <tbody>\n",
       "    <tr>\n",
       "      <th>True_0</th>\n",
       "      <td>7.155418</td>\n",
       "      <td>5.099020</td>\n",
       "      <td>5.003998</td>\n",
       "    </tr>\n",
       "    <tr>\n",
       "      <th>True_1</th>\n",
       "      <td>3.370460</td>\n",
       "      <td>1.469694</td>\n",
       "      <td>3.370460</td>\n",
       "    </tr>\n",
       "    <tr>\n",
       "      <th>True_2</th>\n",
       "      <td>4.604346</td>\n",
       "      <td>4.707441</td>\n",
       "      <td>4.707441</td>\n",
       "    </tr>\n",
       "  </tbody>\n",
       "</table>\n",
       "</div>"
      ],
      "text/plain": [
       "          Pred_0    Pred_1    Pred_2\n",
       "True_0  7.155418  5.099020  5.003998\n",
       "True_1  3.370460  1.469694  3.370460\n",
       "True_2  4.604346  4.707441  4.707441"
      ]
     },
     "metadata": {},
     "output_type": "display_data"
    },
    {
     "name": "stdout",
     "output_type": "stream",
     "text": [
      "Chiave: pdl1-3, Valore: {'inner_iteration_1': {'Accuracy': 0.3, 'Balanced_Accuracy': 0.31342840166369573, 'Precision': 0.2881944444444444, 'Recall': 0.3, 'F1-Score': 0.28416387693288697, 'Confusion Matrix': [[7, 7, 7], [10, 3, 9], [7, 2, 8]]}, 'inner_iteration_2': {'Accuracy': 0.40384615384615385, 'Balanced_Accuracy': 0.4081349206349206, 'Precision': 0.3661581839213418, 'Recall': 0.40384615384615385, 'F1-Score': 0.35861977170116704, 'Confusion Matrix': [[1, 7, 8], [3, 9, 9], [1, 3, 11]]}, 'inner_iteration_3': {'Accuracy': 0.2909090909090909, 'Balanced_Accuracy': 0.3212576896787423, 'Precision': 0.27636363636363637, 'Recall': 0.2909090909090909, 'F1-Score': 0.2755773955773956, 'Confusion Matrix': [[4, 11, 7], [9, 4, 6], [2, 4, 8]]}, 'inner_iteration_4': {'Accuracy': 0.38461538461538464, 'Balanced_Accuracy': 0.38544891640866874, 'Precision': 0.3844255292219093, 'Recall': 0.38461538461538464, 'F1-Score': 0.3791273054430949, 'Confusion Matrix': [[8, 5, 6], [5, 4, 8], [4, 4, 8]]}, 'inner_iteration_5': {'Accuracy': 0.4745762711864407, 'Balanced_Accuracy': 0.48120300751879697, 'Precision': 0.49012922917072543, 'Recall': 0.4745762711864407, 'F1-Score': 0.46451921875650687, 'Confusion Matrix': [[6, 4, 11], [3, 10, 6], [3, 4, 12]]}}\n",
      "['Accuracy', 'Balanced_Accuracy', 'Precision', 'Recall', 'F1-Score', 'Confusion Matrix']\n",
      "[0.3        0.40384615 0.29090909 0.38461538 0.47457627]\n",
      "[0.3134284  0.40813492 0.32125769 0.38544892 0.48120301]\n",
      "[0.28819444 0.36615818 0.27636364 0.38442553 0.49012923]\n",
      "[0.3        0.40384615 0.29090909 0.38461538 0.47457627]\n",
      "[0.28416388 0.35861977 0.2755774  0.37912731 0.46451922]\n",
      "[[[ 7  7  7]\n",
      "  [10  3  9]\n",
      "  [ 7  2  8]]\n",
      "\n",
      " [[ 1  7  8]\n",
      "  [ 3  9  9]\n",
      "  [ 1  3 11]]\n",
      "\n",
      " [[ 4 11  7]\n",
      "  [ 9  4  6]\n",
      "  [ 2  4  8]]\n",
      "\n",
      " [[ 8  5  6]\n",
      "  [ 5  4  8]\n",
      "  [ 4  4  8]]\n",
      "\n",
      " [[ 6  4 11]\n",
      "  [ 3 10  6]\n",
      "  [ 3  4 12]]]\n"
     ]
    },
    {
     "data": {
      "text/html": [
       "<div>\n",
       "<style scoped>\n",
       "    .dataframe tbody tr th:only-of-type {\n",
       "        vertical-align: middle;\n",
       "    }\n",
       "\n",
       "    .dataframe tbody tr th {\n",
       "        vertical-align: top;\n",
       "    }\n",
       "\n",
       "    .dataframe thead th {\n",
       "        text-align: right;\n",
       "    }\n",
       "</style>\n",
       "<table border=\"1\" class=\"dataframe\">\n",
       "  <thead>\n",
       "    <tr style=\"text-align: right;\">\n",
       "      <th></th>\n",
       "      <th>Mean</th>\n",
       "      <th>Confidence Interval</th>\n",
       "    </tr>\n",
       "  </thead>\n",
       "  <tbody>\n",
       "    <tr>\n",
       "      <th>Accuracy</th>\n",
       "      <td>0.370789</td>\n",
       "      <td>0.068480</td>\n",
       "    </tr>\n",
       "    <tr>\n",
       "      <th>Balanced_Accuracy</th>\n",
       "      <td>0.381895</td>\n",
       "      <td>0.061527</td>\n",
       "    </tr>\n",
       "    <tr>\n",
       "      <th>Precision</th>\n",
       "      <td>0.361054</td>\n",
       "      <td>0.077089</td>\n",
       "    </tr>\n",
       "    <tr>\n",
       "      <th>Recall</th>\n",
       "      <td>0.370789</td>\n",
       "      <td>0.068480</td>\n",
       "    </tr>\n",
       "    <tr>\n",
       "      <th>F1-Score</th>\n",
       "      <td>0.352402</td>\n",
       "      <td>0.069111</td>\n",
       "    </tr>\n",
       "    <tr>\n",
       "      <th>Confusion Matrix</th>\n",
       "      <td>6.177778</td>\n",
       "      <td>2.588709</td>\n",
       "    </tr>\n",
       "  </tbody>\n",
       "</table>\n",
       "</div>"
      ],
      "text/plain": [
       "                       Mean  Confidence Interval\n",
       "Accuracy           0.370789             0.068480\n",
       "Balanced_Accuracy  0.381895             0.061527\n",
       "Precision          0.361054             0.077089\n",
       "Recall             0.370789             0.068480\n",
       "F1-Score           0.352402             0.069111\n",
       "Confusion Matrix   6.177778             2.588709"
      ]
     },
     "metadata": {},
     "output_type": "display_data"
    },
    {
     "name": "stdout",
     "output_type": "stream",
     "text": [
      "[[5.2 6.8 7.8]\n",
      " [6.  6.  7.6]\n",
      " [3.4 3.4 9.4]]\n"
     ]
    },
    {
     "data": {
      "text/html": [
       "<div>\n",
       "<style scoped>\n",
       "    .dataframe tbody tr th:only-of-type {\n",
       "        vertical-align: middle;\n",
       "    }\n",
       "\n",
       "    .dataframe tbody tr th {\n",
       "        vertical-align: top;\n",
       "    }\n",
       "\n",
       "    .dataframe thead th {\n",
       "        text-align: right;\n",
       "    }\n",
       "</style>\n",
       "<table border=\"1\" class=\"dataframe\">\n",
       "  <thead>\n",
       "    <tr style=\"text-align: right;\">\n",
       "      <th></th>\n",
       "      <th>Pred_0</th>\n",
       "      <th>Pred_1</th>\n",
       "      <th>Pred_2</th>\n",
       "    </tr>\n",
       "  </thead>\n",
       "  <tbody>\n",
       "    <tr>\n",
       "      <th>True_0</th>\n",
       "      <td>5.2</td>\n",
       "      <td>6.8</td>\n",
       "      <td>7.8</td>\n",
       "    </tr>\n",
       "    <tr>\n",
       "      <th>True_1</th>\n",
       "      <td>6.0</td>\n",
       "      <td>6.0</td>\n",
       "      <td>7.6</td>\n",
       "    </tr>\n",
       "    <tr>\n",
       "      <th>True_2</th>\n",
       "      <td>3.4</td>\n",
       "      <td>3.4</td>\n",
       "      <td>9.4</td>\n",
       "    </tr>\n",
       "  </tbody>\n",
       "</table>\n",
       "</div>"
      ],
      "text/plain": [
       "        Pred_0  Pred_1  Pred_2\n",
       "True_0     5.2     6.8     7.8\n",
       "True_1     6.0     6.0     7.6\n",
       "True_2     3.4     3.4     9.4"
      ]
     },
     "metadata": {},
     "output_type": "display_data"
    },
    {
     "data": {
      "text/html": [
       "<div>\n",
       "<style scoped>\n",
       "    .dataframe tbody tr th:only-of-type {\n",
       "        vertical-align: middle;\n",
       "    }\n",
       "\n",
       "    .dataframe tbody tr th {\n",
       "        vertical-align: top;\n",
       "    }\n",
       "\n",
       "    .dataframe thead th {\n",
       "        text-align: right;\n",
       "    }\n",
       "</style>\n",
       "<table border=\"1\" class=\"dataframe\">\n",
       "  <thead>\n",
       "    <tr style=\"text-align: right;\">\n",
       "      <th></th>\n",
       "      <th>Pred_0</th>\n",
       "      <th>Pred_1</th>\n",
       "      <th>Pred_2</th>\n",
       "    </tr>\n",
       "  </thead>\n",
       "  <tbody>\n",
       "    <tr>\n",
       "      <th>True_0</th>\n",
       "      <td>2.481935</td>\n",
       "      <td>2.400000</td>\n",
       "      <td>1.720465</td>\n",
       "    </tr>\n",
       "    <tr>\n",
       "      <th>True_1</th>\n",
       "      <td>2.966479</td>\n",
       "      <td>2.898275</td>\n",
       "      <td>1.356466</td>\n",
       "    </tr>\n",
       "    <tr>\n",
       "      <th>True_2</th>\n",
       "      <td>2.059126</td>\n",
       "      <td>0.800000</td>\n",
       "      <td>1.743560</td>\n",
       "    </tr>\n",
       "  </tbody>\n",
       "</table>\n",
       "</div>"
      ],
      "text/plain": [
       "          Pred_0    Pred_1    Pred_2\n",
       "True_0  2.481935  2.400000  1.720465\n",
       "True_1  2.966479  2.898275  1.356466\n",
       "True_2  2.059126  0.800000  1.743560"
      ]
     },
     "metadata": {},
     "output_type": "display_data"
    }
   ],
   "source": [
    "import numpy as np\n",
    "import pandas as pd\n",
    "from scipy.stats import sem\n",
    "\n",
    "#train_metrics\n",
    "for key, value in outer_train_metrics.items():\n",
    "    print(f\"Chiave: {key}, Valore: {value}\")\n",
    "    train_metrics = value\n",
    "    # Extract metrics\n",
    "    metrics = list(train_metrics['inner_iteration_1'].keys())\n",
    "    #metrics = metrics[:-2]\n",
    "    print(metrics)\n",
    "\n",
    "    # Compute mean and confidence interval for each metric\n",
    "    summary = {}\n",
    "    n = len(train_metrics)  # Number of iterations\n",
    "\n",
    "    for metric in metrics:\n",
    "        values = np.array([train_metrics[key][metric] for key in train_metrics.keys()])\n",
    "        print(values)\n",
    "        mean_value = np.mean(values)\n",
    "        confidence_interval = 2 * np.std(values, ddof=1) / np.sqrt(n)  # 2 * standard error of the mean\n",
    "        \n",
    "        summary[metric] = {'Mean': mean_value, 'Confidence Interval': confidence_interval}\n",
    "\n",
    "    # Convert results to a DataFrame for visualization\n",
    "    summary_df = pd.DataFrame(summary).T\n",
    "\n",
    "    display(summary_df)\n",
    "\n",
    "    metrics = ['Confusion Matrix']\n",
    "\n",
    "    for metric in metrics:\n",
    "        values = np.array([train_metrics[key][metric] for key in train_metrics.keys()])\n",
    "        #print(values)\n",
    "\n",
    "\n",
    "    # Compute the mean confusion matrix\n",
    "    mean_confusion_matrix = np.mean(values, axis=0)\n",
    "    print(mean_confusion_matrix)\n",
    "\n",
    "    # Compute the confidence interval (2 * standard error of the mean)\n",
    "    n_matrices = values.shape[0]\n",
    "    confidence_interval_matrix = 2 * np.std(values, axis=0, ddof=1) / np.sqrt(n_matrices)\n",
    "\n",
    "    # Convert to DataFrame for better visualization\n",
    "    size = mean_confusion_matrix.shape[0]\n",
    "    \n",
    "    mean_confusion_df = pd.DataFrame(mean_confusion_matrix, columns=[f'Pred_{i}' for i in range(size)], index=[f'True_{i}' for i in range(size)])\n",
    "    confidence_interval_df = pd.DataFrame(confidence_interval_matrix, columns=[f'Pred_{i}' for i in range(size)], index=[f'True_{i}' for i in range(size)])\n",
    "    \n",
    "\n",
    "    display(mean_confusion_df)\n",
    "    display(confidence_interval_df)"
   ]
  },
  {
   "cell_type": "code",
   "execution_count": 17,
   "metadata": {},
   "outputs": [
    {
     "name": "stdout",
     "output_type": "stream",
     "text": [
      "adsq\n",
      "['inner_iteration_1', 'inner_iteration_2', 'inner_iteration_3', 'inner_iteration_4', 'inner_iteration_5']\n",
      "['Class_0', 'Class_1']\n",
      "br3\n",
      "['inner_iteration_1', 'inner_iteration_2', 'inner_iteration_3', 'inner_iteration_4', 'inner_iteration_5']\n",
      "['Class_0', 'Class_1', 'Class_2']\n",
      "pdl1-3\n",
      "['inner_iteration_1', 'inner_iteration_2', 'inner_iteration_3', 'inner_iteration_4', 'inner_iteration_5']\n",
      "['Class_0', 'Class_1', 'Class_2']\n"
     ]
    },
    {
     "data": {
      "text/html": [
       "<div>\n",
       "<style scoped>\n",
       "    .dataframe tbody tr th:only-of-type {\n",
       "        vertical-align: middle;\n",
       "    }\n",
       "\n",
       "    .dataframe tbody tr th {\n",
       "        vertical-align: top;\n",
       "    }\n",
       "\n",
       "    .dataframe thead th {\n",
       "        text-align: right;\n",
       "    }\n",
       "</style>\n",
       "<table border=\"1\" class=\"dataframe\">\n",
       "  <thead>\n",
       "    <tr style=\"text-align: right;\">\n",
       "      <th></th>\n",
       "      <th>Model</th>\n",
       "      <th>Class</th>\n",
       "      <th>Metric</th>\n",
       "      <th>Mean</th>\n",
       "      <th>95% CI</th>\n",
       "    </tr>\n",
       "  </thead>\n",
       "  <tbody>\n",
       "    <tr>\n",
       "      <th>0</th>\n",
       "      <td>adsq</td>\n",
       "      <td>Class_0</td>\n",
       "      <td>Accuracy</td>\n",
       "      <td>0.699486</td>\n",
       "      <td>0.082518</td>\n",
       "    </tr>\n",
       "    <tr>\n",
       "      <th>1</th>\n",
       "      <td>adsq</td>\n",
       "      <td>Class_0</td>\n",
       "      <td>Precision</td>\n",
       "      <td>0.921034</td>\n",
       "      <td>0.012375</td>\n",
       "    </tr>\n",
       "    <tr>\n",
       "      <th>2</th>\n",
       "      <td>adsq</td>\n",
       "      <td>Class_0</td>\n",
       "      <td>Recall</td>\n",
       "      <td>0.699486</td>\n",
       "      <td>0.082518</td>\n",
       "    </tr>\n",
       "    <tr>\n",
       "      <th>3</th>\n",
       "      <td>adsq</td>\n",
       "      <td>Class_0</td>\n",
       "      <td>F1-score</td>\n",
       "      <td>0.791948</td>\n",
       "      <td>0.051286</td>\n",
       "    </tr>\n",
       "    <tr>\n",
       "      <th>4</th>\n",
       "      <td>adsq</td>\n",
       "      <td>Class_1</td>\n",
       "      <td>Accuracy</td>\n",
       "      <td>0.759301</td>\n",
       "      <td>0.058039</td>\n",
       "    </tr>\n",
       "    <tr>\n",
       "      <th>5</th>\n",
       "      <td>adsq</td>\n",
       "      <td>Class_1</td>\n",
       "      <td>Precision</td>\n",
       "      <td>0.399206</td>\n",
       "      <td>0.069038</td>\n",
       "    </tr>\n",
       "    <tr>\n",
       "      <th>6</th>\n",
       "      <td>adsq</td>\n",
       "      <td>Class_1</td>\n",
       "      <td>Recall</td>\n",
       "      <td>0.759301</td>\n",
       "      <td>0.058039</td>\n",
       "    </tr>\n",
       "    <tr>\n",
       "      <th>7</th>\n",
       "      <td>adsq</td>\n",
       "      <td>Class_1</td>\n",
       "      <td>F1-score</td>\n",
       "      <td>0.517301</td>\n",
       "      <td>0.055555</td>\n",
       "    </tr>\n",
       "    <tr>\n",
       "      <th>8</th>\n",
       "      <td>br3</td>\n",
       "      <td>Class_0</td>\n",
       "      <td>Accuracy</td>\n",
       "      <td>0.315130</td>\n",
       "      <td>0.248765</td>\n",
       "    </tr>\n",
       "    <tr>\n",
       "      <th>9</th>\n",
       "      <td>br3</td>\n",
       "      <td>Class_0</td>\n",
       "      <td>Precision</td>\n",
       "      <td>0.390873</td>\n",
       "      <td>0.035204</td>\n",
       "    </tr>\n",
       "    <tr>\n",
       "      <th>10</th>\n",
       "      <td>br3</td>\n",
       "      <td>Class_0</td>\n",
       "      <td>Recall</td>\n",
       "      <td>0.315130</td>\n",
       "      <td>0.248765</td>\n",
       "    </tr>\n",
       "    <tr>\n",
       "      <th>11</th>\n",
       "      <td>br3</td>\n",
       "      <td>Class_0</td>\n",
       "      <td>F1-score</td>\n",
       "      <td>0.314593</td>\n",
       "      <td>0.146913</td>\n",
       "    </tr>\n",
       "    <tr>\n",
       "      <th>12</th>\n",
       "      <td>br3</td>\n",
       "      <td>Class_1</td>\n",
       "      <td>Accuracy</td>\n",
       "      <td>0.261618</td>\n",
       "      <td>0.098701</td>\n",
       "    </tr>\n",
       "    <tr>\n",
       "      <th>13</th>\n",
       "      <td>br3</td>\n",
       "      <td>Class_1</td>\n",
       "      <td>Precision</td>\n",
       "      <td>0.348236</td>\n",
       "      <td>0.203237</td>\n",
       "    </tr>\n",
       "    <tr>\n",
       "      <th>14</th>\n",
       "      <td>br3</td>\n",
       "      <td>Class_1</td>\n",
       "      <td>Recall</td>\n",
       "      <td>0.261618</td>\n",
       "      <td>0.098701</td>\n",
       "    </tr>\n",
       "    <tr>\n",
       "      <th>15</th>\n",
       "      <td>br3</td>\n",
       "      <td>Class_1</td>\n",
       "      <td>F1-score</td>\n",
       "      <td>0.256639</td>\n",
       "      <td>0.047087</td>\n",
       "    </tr>\n",
       "    <tr>\n",
       "      <th>16</th>\n",
       "      <td>br3</td>\n",
       "      <td>Class_2</td>\n",
       "      <td>Accuracy</td>\n",
       "      <td>0.468753</td>\n",
       "      <td>0.241005</td>\n",
       "    </tr>\n",
       "    <tr>\n",
       "      <th>17</th>\n",
       "      <td>br3</td>\n",
       "      <td>Class_2</td>\n",
       "      <td>Precision</td>\n",
       "      <td>0.365437</td>\n",
       "      <td>0.045811</td>\n",
       "    </tr>\n",
       "    <tr>\n",
       "      <th>18</th>\n",
       "      <td>br3</td>\n",
       "      <td>Class_2</td>\n",
       "      <td>Recall</td>\n",
       "      <td>0.468753</td>\n",
       "      <td>0.241005</td>\n",
       "    </tr>\n",
       "    <tr>\n",
       "      <th>19</th>\n",
       "      <td>br3</td>\n",
       "      <td>Class_2</td>\n",
       "      <td>F1-score</td>\n",
       "      <td>0.383349</td>\n",
       "      <td>0.097459</td>\n",
       "    </tr>\n",
       "    <tr>\n",
       "      <th>20</th>\n",
       "      <td>pdl1-3</td>\n",
       "      <td>Class_0</td>\n",
       "      <td>Accuracy</td>\n",
       "      <td>0.256884</td>\n",
       "      <td>0.124135</td>\n",
       "    </tr>\n",
       "    <tr>\n",
       "      <th>21</th>\n",
       "      <td>pdl1-3</td>\n",
       "      <td>Class_0</td>\n",
       "      <td>Precision</td>\n",
       "      <td>0.345784</td>\n",
       "      <td>0.118152</td>\n",
       "    </tr>\n",
       "    <tr>\n",
       "      <th>22</th>\n",
       "      <td>pdl1-3</td>\n",
       "      <td>Class_0</td>\n",
       "      <td>Recall</td>\n",
       "      <td>0.256884</td>\n",
       "      <td>0.124135</td>\n",
       "    </tr>\n",
       "    <tr>\n",
       "      <th>23</th>\n",
       "      <td>pdl1-3</td>\n",
       "      <td>Class_0</td>\n",
       "      <td>F1-score</td>\n",
       "      <td>0.286129</td>\n",
       "      <td>0.120849</td>\n",
       "    </tr>\n",
       "    <tr>\n",
       "      <th>24</th>\n",
       "      <td>pdl1-3</td>\n",
       "      <td>Class_1</td>\n",
       "      <td>Accuracy</td>\n",
       "      <td>0.307414</td>\n",
       "      <td>0.145907</td>\n",
       "    </tr>\n",
       "    <tr>\n",
       "      <th>25</th>\n",
       "      <td>pdl1-3</td>\n",
       "      <td>Class_1</td>\n",
       "      <td>Precision</td>\n",
       "      <td>0.359492</td>\n",
       "      <td>0.132923</td>\n",
       "    </tr>\n",
       "    <tr>\n",
       "      <th>26</th>\n",
       "      <td>pdl1-3</td>\n",
       "      <td>Class_1</td>\n",
       "      <td>Recall</td>\n",
       "      <td>0.307414</td>\n",
       "      <td>0.145907</td>\n",
       "    </tr>\n",
       "    <tr>\n",
       "      <th>27</th>\n",
       "      <td>pdl1-3</td>\n",
       "      <td>Class_1</td>\n",
       "      <td>F1-score</td>\n",
       "      <td>0.328841</td>\n",
       "      <td>0.141829</td>\n",
       "    </tr>\n",
       "    <tr>\n",
       "      <th>28</th>\n",
       "      <td>pdl1-3</td>\n",
       "      <td>Class_2</td>\n",
       "      <td>Accuracy</td>\n",
       "      <td>0.581386</td>\n",
       "      <td>0.094452</td>\n",
       "    </tr>\n",
       "    <tr>\n",
       "      <th>29</th>\n",
       "      <td>pdl1-3</td>\n",
       "      <td>Class_2</td>\n",
       "      <td>Precision</td>\n",
       "      <td>0.376914</td>\n",
       "      <td>0.027225</td>\n",
       "    </tr>\n",
       "    <tr>\n",
       "      <th>30</th>\n",
       "      <td>pdl1-3</td>\n",
       "      <td>Class_2</td>\n",
       "      <td>Recall</td>\n",
       "      <td>0.581386</td>\n",
       "      <td>0.094452</td>\n",
       "    </tr>\n",
       "    <tr>\n",
       "      <th>31</th>\n",
       "      <td>pdl1-3</td>\n",
       "      <td>Class_2</td>\n",
       "      <td>F1-score</td>\n",
       "      <td>0.456013</td>\n",
       "      <td>0.045993</td>\n",
       "    </tr>\n",
       "  </tbody>\n",
       "</table>\n",
       "</div>"
      ],
      "text/plain": [
       "     Model    Class     Metric      Mean    95% CI\n",
       "0     adsq  Class_0   Accuracy  0.699486  0.082518\n",
       "1     adsq  Class_0  Precision  0.921034  0.012375\n",
       "2     adsq  Class_0     Recall  0.699486  0.082518\n",
       "3     adsq  Class_0   F1-score  0.791948  0.051286\n",
       "4     adsq  Class_1   Accuracy  0.759301  0.058039\n",
       "5     adsq  Class_1  Precision  0.399206  0.069038\n",
       "6     adsq  Class_1     Recall  0.759301  0.058039\n",
       "7     adsq  Class_1   F1-score  0.517301  0.055555\n",
       "8      br3  Class_0   Accuracy  0.315130  0.248765\n",
       "9      br3  Class_0  Precision  0.390873  0.035204\n",
       "10     br3  Class_0     Recall  0.315130  0.248765\n",
       "11     br3  Class_0   F1-score  0.314593  0.146913\n",
       "12     br3  Class_1   Accuracy  0.261618  0.098701\n",
       "13     br3  Class_1  Precision  0.348236  0.203237\n",
       "14     br3  Class_1     Recall  0.261618  0.098701\n",
       "15     br3  Class_1   F1-score  0.256639  0.047087\n",
       "16     br3  Class_2   Accuracy  0.468753  0.241005\n",
       "17     br3  Class_2  Precision  0.365437  0.045811\n",
       "18     br3  Class_2     Recall  0.468753  0.241005\n",
       "19     br3  Class_2   F1-score  0.383349  0.097459\n",
       "20  pdl1-3  Class_0   Accuracy  0.256884  0.124135\n",
       "21  pdl1-3  Class_0  Precision  0.345784  0.118152\n",
       "22  pdl1-3  Class_0     Recall  0.256884  0.124135\n",
       "23  pdl1-3  Class_0   F1-score  0.286129  0.120849\n",
       "24  pdl1-3  Class_1   Accuracy  0.307414  0.145907\n",
       "25  pdl1-3  Class_1  Precision  0.359492  0.132923\n",
       "26  pdl1-3  Class_1     Recall  0.307414  0.145907\n",
       "27  pdl1-3  Class_1   F1-score  0.328841  0.141829\n",
       "28  pdl1-3  Class_2   Accuracy  0.581386  0.094452\n",
       "29  pdl1-3  Class_2  Precision  0.376914  0.027225\n",
       "30  pdl1-3  Class_2     Recall  0.581386  0.094452\n",
       "31  pdl1-3  Class_2   F1-score  0.456013  0.045993"
      ]
     },
     "metadata": {},
     "output_type": "display_data"
    },
    {
     "data": {
      "text/html": [
       "<div>\n",
       "<style scoped>\n",
       "    .dataframe tbody tr th:only-of-type {\n",
       "        vertical-align: middle;\n",
       "    }\n",
       "\n",
       "    .dataframe tbody tr th {\n",
       "        vertical-align: top;\n",
       "    }\n",
       "\n",
       "    .dataframe thead tr th {\n",
       "        text-align: left;\n",
       "    }\n",
       "\n",
       "    .dataframe thead tr:last-of-type th {\n",
       "        text-align: right;\n",
       "    }\n",
       "</style>\n",
       "<table border=\"1\" class=\"dataframe\">\n",
       "  <thead>\n",
       "    <tr>\n",
       "      <th></th>\n",
       "      <th></th>\n",
       "      <th colspan=\"4\" halign=\"left\">Mean</th>\n",
       "      <th colspan=\"4\" halign=\"left\">95% CI</th>\n",
       "    </tr>\n",
       "    <tr>\n",
       "      <th></th>\n",
       "      <th>Metric</th>\n",
       "      <th>Accuracy</th>\n",
       "      <th>F1-score</th>\n",
       "      <th>Precision</th>\n",
       "      <th>Recall</th>\n",
       "      <th>Accuracy</th>\n",
       "      <th>F1-score</th>\n",
       "      <th>Precision</th>\n",
       "      <th>Recall</th>\n",
       "    </tr>\n",
       "    <tr>\n",
       "      <th>Model</th>\n",
       "      <th>Class</th>\n",
       "      <th></th>\n",
       "      <th></th>\n",
       "      <th></th>\n",
       "      <th></th>\n",
       "      <th></th>\n",
       "      <th></th>\n",
       "      <th></th>\n",
       "      <th></th>\n",
       "    </tr>\n",
       "  </thead>\n",
       "  <tbody>\n",
       "    <tr>\n",
       "      <th rowspan=\"2\" valign=\"top\">adsq</th>\n",
       "      <th>Class_0</th>\n",
       "      <td>0.699486</td>\n",
       "      <td>0.791948</td>\n",
       "      <td>0.921034</td>\n",
       "      <td>0.699486</td>\n",
       "      <td>0.082518</td>\n",
       "      <td>0.051286</td>\n",
       "      <td>0.012375</td>\n",
       "      <td>0.082518</td>\n",
       "    </tr>\n",
       "    <tr>\n",
       "      <th>Class_1</th>\n",
       "      <td>0.759301</td>\n",
       "      <td>0.517301</td>\n",
       "      <td>0.399206</td>\n",
       "      <td>0.759301</td>\n",
       "      <td>0.058039</td>\n",
       "      <td>0.055555</td>\n",
       "      <td>0.069038</td>\n",
       "      <td>0.058039</td>\n",
       "    </tr>\n",
       "    <tr>\n",
       "      <th rowspan=\"3\" valign=\"top\">br3</th>\n",
       "      <th>Class_0</th>\n",
       "      <td>0.315130</td>\n",
       "      <td>0.314593</td>\n",
       "      <td>0.390873</td>\n",
       "      <td>0.315130</td>\n",
       "      <td>0.248765</td>\n",
       "      <td>0.146913</td>\n",
       "      <td>0.035204</td>\n",
       "      <td>0.248765</td>\n",
       "    </tr>\n",
       "    <tr>\n",
       "      <th>Class_1</th>\n",
       "      <td>0.261618</td>\n",
       "      <td>0.256639</td>\n",
       "      <td>0.348236</td>\n",
       "      <td>0.261618</td>\n",
       "      <td>0.098701</td>\n",
       "      <td>0.047087</td>\n",
       "      <td>0.203237</td>\n",
       "      <td>0.098701</td>\n",
       "    </tr>\n",
       "    <tr>\n",
       "      <th>Class_2</th>\n",
       "      <td>0.468753</td>\n",
       "      <td>0.383349</td>\n",
       "      <td>0.365437</td>\n",
       "      <td>0.468753</td>\n",
       "      <td>0.241005</td>\n",
       "      <td>0.097459</td>\n",
       "      <td>0.045811</td>\n",
       "      <td>0.241005</td>\n",
       "    </tr>\n",
       "    <tr>\n",
       "      <th rowspan=\"3\" valign=\"top\">pdl1-3</th>\n",
       "      <th>Class_0</th>\n",
       "      <td>0.256884</td>\n",
       "      <td>0.286129</td>\n",
       "      <td>0.345784</td>\n",
       "      <td>0.256884</td>\n",
       "      <td>0.124135</td>\n",
       "      <td>0.120849</td>\n",
       "      <td>0.118152</td>\n",
       "      <td>0.124135</td>\n",
       "    </tr>\n",
       "    <tr>\n",
       "      <th>Class_1</th>\n",
       "      <td>0.307414</td>\n",
       "      <td>0.328841</td>\n",
       "      <td>0.359492</td>\n",
       "      <td>0.307414</td>\n",
       "      <td>0.145907</td>\n",
       "      <td>0.141829</td>\n",
       "      <td>0.132923</td>\n",
       "      <td>0.145907</td>\n",
       "    </tr>\n",
       "    <tr>\n",
       "      <th>Class_2</th>\n",
       "      <td>0.581386</td>\n",
       "      <td>0.456013</td>\n",
       "      <td>0.376914</td>\n",
       "      <td>0.581386</td>\n",
       "      <td>0.094452</td>\n",
       "      <td>0.045993</td>\n",
       "      <td>0.027225</td>\n",
       "      <td>0.094452</td>\n",
       "    </tr>\n",
       "  </tbody>\n",
       "</table>\n",
       "</div>"
      ],
      "text/plain": [
       "                    Mean                                  95% CI            \\\n",
       "Metric          Accuracy  F1-score Precision    Recall  Accuracy  F1-score   \n",
       "Model  Class                                                                 \n",
       "adsq   Class_0  0.699486  0.791948  0.921034  0.699486  0.082518  0.051286   \n",
       "       Class_1  0.759301  0.517301  0.399206  0.759301  0.058039  0.055555   \n",
       "br3    Class_0  0.315130  0.314593  0.390873  0.315130  0.248765  0.146913   \n",
       "       Class_1  0.261618  0.256639  0.348236  0.261618  0.098701  0.047087   \n",
       "       Class_2  0.468753  0.383349  0.365437  0.468753  0.241005  0.097459   \n",
       "pdl1-3 Class_0  0.256884  0.286129  0.345784  0.256884  0.124135  0.120849   \n",
       "       Class_1  0.307414  0.328841  0.359492  0.307414  0.145907  0.141829   \n",
       "       Class_2  0.581386  0.456013  0.376914  0.581386  0.094452  0.045993   \n",
       "\n",
       "                                    \n",
       "Metric         Precision    Recall  \n",
       "Model  Class                        \n",
       "adsq   Class_0  0.012375  0.082518  \n",
       "       Class_1  0.069038  0.058039  \n",
       "br3    Class_0  0.035204  0.248765  \n",
       "       Class_1  0.203237  0.098701  \n",
       "       Class_2  0.045811  0.241005  \n",
       "pdl1-3 Class_0  0.118152  0.124135  \n",
       "       Class_1  0.132923  0.145907  \n",
       "       Class_2  0.027225  0.094452  "
      ]
     },
     "metadata": {},
     "output_type": "display_data"
    }
   ],
   "source": [
    "from pyexpat import model\n",
    "import numpy as np\n",
    "import pandas as pd\n",
    "\n",
    "# ------------------------------------------------------------------------------\n",
    "# Collect and summarize\n",
    "# ------------------------------------------------------------------------------\n",
    "results_list = []  # We'll accumulate dictionaries to later convert to a DataFrame\n",
    "\n",
    "# outer_train_class_metrics might have multiple top-level keys (e.g., 'br3', 'br4', etc.)\n",
    "for model_key, inner_dict in outer_train_class_metrics.items():\n",
    "    # inner_dict looks like:\n",
    "    # {\n",
    "    #   'inner_iteration_5': {'Class_0': {...}, 'Class_1': {...}, ...},\n",
    "    #   'inner_iteration_4': {...},\n",
    "    #   'inner_iteration_3': {...}\n",
    "    # }\n",
    "    print(model_key)\n",
    "    # 1) Identify all available \"inner_iteration\" keys\n",
    "    iteration_keys = list(inner_dict.keys())\n",
    "    print(iteration_keys)\n",
    "\n",
    "    # 2) From the first iteration, identify the classes\n",
    "    #    (Assumes same classes appear in each iteration, or you can unify them if needed)\n",
    "    first_iteration = iteration_keys[0]\n",
    "    class_names = list(inner_dict[first_iteration].keys())\n",
    "    print(class_names)\n",
    "    \n",
    "    # 3) For each class, gather metric lists across iterations\n",
    "    for class_name in class_names:\n",
    "        # We'll track each metric: Accuracy, Precision, Recall, F1-score\n",
    "        # You could also extract these keys on the fly if each class dict has more/less.\n",
    "        metric_names = [\"Accuracy\", \"Precision\", \"Recall\", \"F1-score\"]\n",
    "        \n",
    "        # For storing raw values across all iterations\n",
    "        metrics_storage = {metric: [] for metric in metric_names}\n",
    "        \n",
    "        # 4) Loop over each iteration to collect values\n",
    "        for iteration_key in iteration_keys:\n",
    "            iteration_data = inner_dict[iteration_key]\n",
    "            if class_name in iteration_data:\n",
    "                class_metrics = iteration_data[class_name]\n",
    "                # class_metrics is e.g. {'Accuracy': 0.81, 'Precision': 0.82, ...}\n",
    "                for metric in metric_names:\n",
    "                    if metric in class_metrics:\n",
    "                        metrics_storage[metric].append(class_metrics[metric])\n",
    "        \n",
    "        # 5) Compute mean & CI for each metric in metrics_storage\n",
    "        for metric, values in metrics_storage.items():\n",
    "            if len(values) == 0:\n",
    "                continue  # skip if no data was found for some reason\n",
    "            \n",
    "            mean_val, ci_val = compute_mean_and_ci(values)\n",
    "\n",
    "            results_list.append({\n",
    "                \"Model\":  model_key,\n",
    "                \"Class\":  class_name,\n",
    "                \"Metric\": metric,\n",
    "                \"Mean\":   mean_val,\n",
    "                \"95% CI\": ci_val\n",
    "            })\n",
    "\n",
    "# ------------------------------------------------------------------------------\n",
    "# Convert the collected results into a DataFrame\n",
    "# ------------------------------------------------------------------------------\n",
    "summary_df = pd.DataFrame(results_list)\n",
    "\n",
    "# If desired, you can pivot or group:\n",
    "# e.g., pivot to see each (Class, Metric) as a row with columns = [\"Mean\", \"95% CI\"]\n",
    "# We'll keep it in \"long\" format here:\n",
    "display(summary_df)\n",
    "\n",
    "#Optionally, you could pivot for a more \"matrix-like\" view:\n",
    "pivot_df_test = summary_df.pivot(index=[\"Model\",\"Class\"], \n",
    "                             columns=\"Metric\", \n",
    "                            values=[\"Mean\",\"95% CI\"])\n",
    "display(pivot_df_test)"
   ]
  },
  {
   "cell_type": "code",
   "execution_count": 18,
   "metadata": {},
   "outputs": [],
   "source": [
    "new_class_names = [\"adeno\", \"squamous\", \"BR0\", \"BR1\", \"BR2\", '1-49 %',  '< 1 %', '>=50 %']\n"
   ]
  },
  {
   "cell_type": "code",
   "execution_count": 19,
   "metadata": {},
   "outputs": [],
   "source": [
    "\n",
    "\n",
    "# Creare una mappatura dall'ordine originale ai nuovi nomi\n",
    "pivot_df_test.index = pd.MultiIndex.from_tuples(\n",
    "    [(model, new_class_names[i]) for i, (model, cls) in enumerate(pivot_df_test.index)],\n",
    "    names=['Model', 'Class']\n",
    ")\n",
    "\n",
    "\n"
   ]
  },
  {
   "cell_type": "code",
   "execution_count": 20,
   "metadata": {},
   "outputs": [
    {
     "data": {
      "text/html": [
       "<div>\n",
       "<style scoped>\n",
       "    .dataframe tbody tr th:only-of-type {\n",
       "        vertical-align: middle;\n",
       "    }\n",
       "\n",
       "    .dataframe tbody tr th {\n",
       "        vertical-align: top;\n",
       "    }\n",
       "\n",
       "    .dataframe thead tr th {\n",
       "        text-align: left;\n",
       "    }\n",
       "\n",
       "    .dataframe thead tr:last-of-type th {\n",
       "        text-align: right;\n",
       "    }\n",
       "</style>\n",
       "<table border=\"1\" class=\"dataframe\">\n",
       "  <thead>\n",
       "    <tr>\n",
       "      <th></th>\n",
       "      <th></th>\n",
       "      <th colspan=\"4\" halign=\"left\">Mean</th>\n",
       "      <th colspan=\"4\" halign=\"left\">95% CI</th>\n",
       "    </tr>\n",
       "    <tr>\n",
       "      <th></th>\n",
       "      <th>Metric</th>\n",
       "      <th>Accuracy</th>\n",
       "      <th>F1-score</th>\n",
       "      <th>Precision</th>\n",
       "      <th>Recall</th>\n",
       "      <th>Accuracy</th>\n",
       "      <th>F1-score</th>\n",
       "      <th>Precision</th>\n",
       "      <th>Recall</th>\n",
       "    </tr>\n",
       "    <tr>\n",
       "      <th>Model</th>\n",
       "      <th>Class</th>\n",
       "      <th></th>\n",
       "      <th></th>\n",
       "      <th></th>\n",
       "      <th></th>\n",
       "      <th></th>\n",
       "      <th></th>\n",
       "      <th></th>\n",
       "      <th></th>\n",
       "    </tr>\n",
       "  </thead>\n",
       "  <tbody>\n",
       "    <tr>\n",
       "      <th rowspan=\"2\" valign=\"top\">adsq</th>\n",
       "      <th>adeno</th>\n",
       "      <td>0.699486</td>\n",
       "      <td>0.791948</td>\n",
       "      <td>0.921034</td>\n",
       "      <td>0.699486</td>\n",
       "      <td>0.082518</td>\n",
       "      <td>0.051286</td>\n",
       "      <td>0.012375</td>\n",
       "      <td>0.082518</td>\n",
       "    </tr>\n",
       "    <tr>\n",
       "      <th>squamous</th>\n",
       "      <td>0.759301</td>\n",
       "      <td>0.517301</td>\n",
       "      <td>0.399206</td>\n",
       "      <td>0.759301</td>\n",
       "      <td>0.058039</td>\n",
       "      <td>0.055555</td>\n",
       "      <td>0.069038</td>\n",
       "      <td>0.058039</td>\n",
       "    </tr>\n",
       "    <tr>\n",
       "      <th rowspan=\"3\" valign=\"top\">br3</th>\n",
       "      <th>BR0</th>\n",
       "      <td>0.315130</td>\n",
       "      <td>0.314593</td>\n",
       "      <td>0.390873</td>\n",
       "      <td>0.315130</td>\n",
       "      <td>0.248765</td>\n",
       "      <td>0.146913</td>\n",
       "      <td>0.035204</td>\n",
       "      <td>0.248765</td>\n",
       "    </tr>\n",
       "    <tr>\n",
       "      <th>BR1</th>\n",
       "      <td>0.261618</td>\n",
       "      <td>0.256639</td>\n",
       "      <td>0.348236</td>\n",
       "      <td>0.261618</td>\n",
       "      <td>0.098701</td>\n",
       "      <td>0.047087</td>\n",
       "      <td>0.203237</td>\n",
       "      <td>0.098701</td>\n",
       "    </tr>\n",
       "    <tr>\n",
       "      <th>BR2</th>\n",
       "      <td>0.468753</td>\n",
       "      <td>0.383349</td>\n",
       "      <td>0.365437</td>\n",
       "      <td>0.468753</td>\n",
       "      <td>0.241005</td>\n",
       "      <td>0.097459</td>\n",
       "      <td>0.045811</td>\n",
       "      <td>0.241005</td>\n",
       "    </tr>\n",
       "    <tr>\n",
       "      <th rowspan=\"3\" valign=\"top\">pdl1-3</th>\n",
       "      <th>1-49 %</th>\n",
       "      <td>0.256884</td>\n",
       "      <td>0.286129</td>\n",
       "      <td>0.345784</td>\n",
       "      <td>0.256884</td>\n",
       "      <td>0.124135</td>\n",
       "      <td>0.120849</td>\n",
       "      <td>0.118152</td>\n",
       "      <td>0.124135</td>\n",
       "    </tr>\n",
       "    <tr>\n",
       "      <th>&lt; 1 %</th>\n",
       "      <td>0.307414</td>\n",
       "      <td>0.328841</td>\n",
       "      <td>0.359492</td>\n",
       "      <td>0.307414</td>\n",
       "      <td>0.145907</td>\n",
       "      <td>0.141829</td>\n",
       "      <td>0.132923</td>\n",
       "      <td>0.145907</td>\n",
       "    </tr>\n",
       "    <tr>\n",
       "      <th>&gt;=50 %</th>\n",
       "      <td>0.581386</td>\n",
       "      <td>0.456013</td>\n",
       "      <td>0.376914</td>\n",
       "      <td>0.581386</td>\n",
       "      <td>0.094452</td>\n",
       "      <td>0.045993</td>\n",
       "      <td>0.027225</td>\n",
       "      <td>0.094452</td>\n",
       "    </tr>\n",
       "  </tbody>\n",
       "</table>\n",
       "</div>"
      ],
      "text/plain": [
       "                     Mean                                  95% CI            \\\n",
       "Metric           Accuracy  F1-score Precision    Recall  Accuracy  F1-score   \n",
       "Model  Class                                                                  \n",
       "adsq   adeno     0.699486  0.791948  0.921034  0.699486  0.082518  0.051286   \n",
       "       squamous  0.759301  0.517301  0.399206  0.759301  0.058039  0.055555   \n",
       "br3    BR0       0.315130  0.314593  0.390873  0.315130  0.248765  0.146913   \n",
       "       BR1       0.261618  0.256639  0.348236  0.261618  0.098701  0.047087   \n",
       "       BR2       0.468753  0.383349  0.365437  0.468753  0.241005  0.097459   \n",
       "pdl1-3 1-49 %    0.256884  0.286129  0.345784  0.256884  0.124135  0.120849   \n",
       "       < 1 %     0.307414  0.328841  0.359492  0.307414  0.145907  0.141829   \n",
       "       >=50 %    0.581386  0.456013  0.376914  0.581386  0.094452  0.045993   \n",
       "\n",
       "                                     \n",
       "Metric          Precision    Recall  \n",
       "Model  Class                         \n",
       "adsq   adeno     0.012375  0.082518  \n",
       "       squamous  0.069038  0.058039  \n",
       "br3    BR0       0.035204  0.248765  \n",
       "       BR1       0.203237  0.098701  \n",
       "       BR2       0.045811  0.241005  \n",
       "pdl1-3 1-49 %    0.118152  0.124135  \n",
       "       < 1 %     0.132923  0.145907  \n",
       "       >=50 %    0.027225  0.094452  "
      ]
     },
     "execution_count": 20,
     "metadata": {},
     "output_type": "execute_result"
    }
   ],
   "source": [
    "pivot_df_test\n",
    "\n"
   ]
  },
  {
   "cell_type": "code",
   "execution_count": 21,
   "metadata": {},
   "outputs": [],
   "source": [
    "# Ottenere l'index attuale\n",
    "index_values = list(pivot_df_test.index)\n",
    "\n",
    "# Scambiare la penultima e la terzultima riga (nomi delle classi)\n",
    "index_values[-3], index_values[-2] = index_values[-2], index_values[-3]\n",
    "\n",
    "# Scambiare anche i valori delle righe corrispondenti\n",
    "pivot_df_test.iloc[-3], pivot_df_test.iloc[-2] = pivot_df_test.iloc[-2].copy(), pivot_df_test.iloc[-3].copy()\n",
    "\n",
    "# Prendere i valori attuali del livello \"Class\"\n",
    "class_index = pivot_df_test.index.get_level_values(\"Class\").to_list()\n",
    "\n",
    "# Scambiare solo la penultima e la terzultima voce\n",
    "class_index[-3], class_index[-2] = class_index[-2], class_index[-3]\n",
    "\n",
    "# Applicare i nuovi nomi alla colonna \"Class\" senza modificare i dati\n",
    "pivot_df_test.index = pd.MultiIndex.from_arrays(\n",
    "    [pivot_df_test.index.get_level_values(\"Model\"), class_index], names=[\"Model\", \"Class\"]\n",
    ")\n",
    "\n"
   ]
  },
  {
   "cell_type": "code",
   "execution_count": 30,
   "metadata": {},
   "outputs": [],
   "source": [
    "pivot_df_test.to_csv(\"Accuracy_metrics_per_class.csv\")"
   ]
  },
  {
   "cell_type": "code",
   "execution_count": 31,
   "metadata": {},
   "outputs": [],
   "source": [
    "df = pd.read_csv(\"Accuracy_metrics_per_class.csv\")"
   ]
  },
  {
   "cell_type": "code",
   "execution_count": 32,
   "metadata": {},
   "outputs": [
    {
     "data": {
      "text/html": [
       "<div>\n",
       "<style scoped>\n",
       "    .dataframe tbody tr th:only-of-type {\n",
       "        vertical-align: middle;\n",
       "    }\n",
       "\n",
       "    .dataframe tbody tr th {\n",
       "        vertical-align: top;\n",
       "    }\n",
       "\n",
       "    .dataframe thead th {\n",
       "        text-align: right;\n",
       "    }\n",
       "</style>\n",
       "<table border=\"1\" class=\"dataframe\">\n",
       "  <thead>\n",
       "    <tr style=\"text-align: right;\">\n",
       "      <th></th>\n",
       "      <th>Unnamed: 0</th>\n",
       "      <th>Unnamed: 1</th>\n",
       "      <th>Mean</th>\n",
       "      <th>Mean.1</th>\n",
       "      <th>Mean.2</th>\n",
       "      <th>Mean.3</th>\n",
       "      <th>95% CI</th>\n",
       "      <th>95% CI.1</th>\n",
       "      <th>95% CI.2</th>\n",
       "      <th>95% CI.3</th>\n",
       "    </tr>\n",
       "  </thead>\n",
       "  <tbody>\n",
       "    <tr>\n",
       "      <th>0</th>\n",
       "      <td>Metric</td>\n",
       "      <td>NaN</td>\n",
       "      <td>Accuracy</td>\n",
       "      <td>F1-score</td>\n",
       "      <td>Precision</td>\n",
       "      <td>Recall</td>\n",
       "      <td>Accuracy</td>\n",
       "      <td>F1-score</td>\n",
       "      <td>Precision</td>\n",
       "      <td>Recall</td>\n",
       "    </tr>\n",
       "    <tr>\n",
       "      <th>1</th>\n",
       "      <td>Model</td>\n",
       "      <td>Class</td>\n",
       "      <td>NaN</td>\n",
       "      <td>NaN</td>\n",
       "      <td>NaN</td>\n",
       "      <td>NaN</td>\n",
       "      <td>NaN</td>\n",
       "      <td>NaN</td>\n",
       "      <td>NaN</td>\n",
       "      <td>NaN</td>\n",
       "    </tr>\n",
       "    <tr>\n",
       "      <th>2</th>\n",
       "      <td>adsq</td>\n",
       "      <td>adeno</td>\n",
       "      <td>0.699486463118282</td>\n",
       "      <td>0.7919483329330357</td>\n",
       "      <td>0.9210337031389664</td>\n",
       "      <td>0.699486463118282</td>\n",
       "      <td>0.08251762827119251</td>\n",
       "      <td>0.051285828324105706</td>\n",
       "      <td>0.012374960900804597</td>\n",
       "      <td>0.08251762827119251</td>\n",
       "    </tr>\n",
       "    <tr>\n",
       "      <th>3</th>\n",
       "      <td>adsq</td>\n",
       "      <td>squamous</td>\n",
       "      <td>0.7593006993006993</td>\n",
       "      <td>0.5173013493253373</td>\n",
       "      <td>0.39920572673513843</td>\n",
       "      <td>0.7593006993006993</td>\n",
       "      <td>0.05803916826127972</td>\n",
       "      <td>0.05555539781311326</td>\n",
       "      <td>0.06903816918136436</td>\n",
       "      <td>0.05803916826127972</td>\n",
       "    </tr>\n",
       "    <tr>\n",
       "      <th>4</th>\n",
       "      <td>br3</td>\n",
       "      <td>BR0</td>\n",
       "      <td>0.31512987012987015</td>\n",
       "      <td>0.3145927318295739</td>\n",
       "      <td>0.39087301587301587</td>\n",
       "      <td>0.31512987012987015</td>\n",
       "      <td>0.24876517439526014</td>\n",
       "      <td>0.14691275317512753</td>\n",
       "      <td>0.035203579549550584</td>\n",
       "      <td>0.24876517439526014</td>\n",
       "    </tr>\n",
       "    <tr>\n",
       "      <th>5</th>\n",
       "      <td>br3</td>\n",
       "      <td>BR1</td>\n",
       "      <td>0.2616176470588235</td>\n",
       "      <td>0.25663853055157404</td>\n",
       "      <td>0.34823597455176397</td>\n",
       "      <td>0.2616176470588235</td>\n",
       "      <td>0.0987009043125276</td>\n",
       "      <td>0.04708739826863728</td>\n",
       "      <td>0.2032365662395314</td>\n",
       "      <td>0.0987009043125276</td>\n",
       "    </tr>\n",
       "    <tr>\n",
       "      <th>6</th>\n",
       "      <td>br3</td>\n",
       "      <td>BR2</td>\n",
       "      <td>0.4687529861442904</td>\n",
       "      <td>0.38334926908839956</td>\n",
       "      <td>0.3654368986983588</td>\n",
       "      <td>0.4687529861442904</td>\n",
       "      <td>0.24100510058622315</td>\n",
       "      <td>0.09745856105370587</td>\n",
       "      <td>0.04581148561867428</td>\n",
       "      <td>0.24100510058622315</td>\n",
       "    </tr>\n",
       "    <tr>\n",
       "      <th>7</th>\n",
       "      <td>pdl1-3</td>\n",
       "      <td>&lt; 1 %</td>\n",
       "      <td>0.30741425756905627</td>\n",
       "      <td>0.328840822246395</td>\n",
       "      <td>0.3594916779127305</td>\n",
       "      <td>0.30741425756905627</td>\n",
       "      <td>0.1459067123986441</td>\n",
       "      <td>0.1418287371110277</td>\n",
       "      <td>0.13292348176370944</td>\n",
       "      <td>0.1459067123986441</td>\n",
       "    </tr>\n",
       "    <tr>\n",
       "      <th>8</th>\n",
       "      <td>pdl1-3</td>\n",
       "      <td>1-49 %</td>\n",
       "      <td>0.2568836864889496</td>\n",
       "      <td>0.2861292461292462</td>\n",
       "      <td>0.34578431372549023</td>\n",
       "      <td>0.2568836864889496</td>\n",
       "      <td>0.1241346382367121</td>\n",
       "      <td>0.12084900669842773</td>\n",
       "      <td>0.11815234628203218</td>\n",
       "      <td>0.1241346382367121</td>\n",
       "    </tr>\n",
       "    <tr>\n",
       "      <th>9</th>\n",
       "      <td>pdl1-3</td>\n",
       "      <td>&gt;=50 %</td>\n",
       "      <td>0.5813858174848887</td>\n",
       "      <td>0.4560134596275146</td>\n",
       "      <td>0.37691446484549934</td>\n",
       "      <td>0.5813858174848887</td>\n",
       "      <td>0.0944524220081717</td>\n",
       "      <td>0.04599337382114896</td>\n",
       "      <td>0.027225468699231294</td>\n",
       "      <td>0.0944524220081717</td>\n",
       "    </tr>\n",
       "  </tbody>\n",
       "</table>\n",
       "</div>"
      ],
      "text/plain": [
       "  Unnamed: 0 Unnamed: 1                 Mean               Mean.1  \\\n",
       "0     Metric        NaN             Accuracy             F1-score   \n",
       "1      Model      Class                  NaN                  NaN   \n",
       "2       adsq      adeno    0.699486463118282   0.7919483329330357   \n",
       "3       adsq   squamous   0.7593006993006993   0.5173013493253373   \n",
       "4        br3        BR0  0.31512987012987015   0.3145927318295739   \n",
       "5        br3        BR1   0.2616176470588235  0.25663853055157404   \n",
       "6        br3        BR2   0.4687529861442904  0.38334926908839956   \n",
       "7     pdl1-3      < 1 %  0.30741425756905627    0.328840822246395   \n",
       "8     pdl1-3     1-49 %   0.2568836864889496   0.2861292461292462   \n",
       "9     pdl1-3     >=50 %   0.5813858174848887   0.4560134596275146   \n",
       "\n",
       "                Mean.2               Mean.3               95% CI  \\\n",
       "0            Precision               Recall             Accuracy   \n",
       "1                  NaN                  NaN                  NaN   \n",
       "2   0.9210337031389664    0.699486463118282  0.08251762827119251   \n",
       "3  0.39920572673513843   0.7593006993006993  0.05803916826127972   \n",
       "4  0.39087301587301587  0.31512987012987015  0.24876517439526014   \n",
       "5  0.34823597455176397   0.2616176470588235   0.0987009043125276   \n",
       "6   0.3654368986983588   0.4687529861442904  0.24100510058622315   \n",
       "7   0.3594916779127305  0.30741425756905627   0.1459067123986441   \n",
       "8  0.34578431372549023   0.2568836864889496   0.1241346382367121   \n",
       "9  0.37691446484549934   0.5813858174848887   0.0944524220081717   \n",
       "\n",
       "               95% CI.1              95% CI.2             95% CI.3  \n",
       "0              F1-score             Precision               Recall  \n",
       "1                   NaN                   NaN                  NaN  \n",
       "2  0.051285828324105706  0.012374960900804597  0.08251762827119251  \n",
       "3   0.05555539781311326   0.06903816918136436  0.05803916826127972  \n",
       "4   0.14691275317512753  0.035203579549550584  0.24876517439526014  \n",
       "5   0.04708739826863728    0.2032365662395314   0.0987009043125276  \n",
       "6   0.09745856105370587   0.04581148561867428  0.24100510058622315  \n",
       "7    0.1418287371110277   0.13292348176370944   0.1459067123986441  \n",
       "8   0.12084900669842773   0.11815234628203218   0.1241346382367121  \n",
       "9   0.04599337382114896  0.027225468699231294   0.0944524220081717  "
      ]
     },
     "execution_count": 32,
     "metadata": {},
     "output_type": "execute_result"
    }
   ],
   "source": [
    "df"
   ]
  },
  {
   "cell_type": "code",
   "execution_count": null,
   "metadata": {},
   "outputs": [],
   "source": [
    "df"
   ]
  }
 ],
 "metadata": {
  "kernelspec": {
   "display_name": "Python 3 (ipykernel)",
   "language": "python",
   "name": "python3"
  }
 },
 "nbformat": 4,
 "nbformat_minor": 2
}
